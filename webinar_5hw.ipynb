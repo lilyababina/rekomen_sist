{
 "cells": [
  {
   "cell_type": "markdown",
   "metadata": {},
   "source": [
    "# Вебинар 5. Ранжирование и Гибридные рекоммендательные системы"
   ]
  },
  {
   "cell_type": "code",
   "execution_count": 64,
   "metadata": {},
   "outputs": [],
   "source": [
    "import pandas as pd\n",
    "import numpy as np\n",
    "import matplotlib.pyplot as plt\n",
    "%matplotlib inline\n",
    "\n",
    "# Для работы с матрицами\n",
    "from scipy.sparse import csr_matrix, coo_matrix\n",
    "\n",
    "# Матричная факторизация\n",
    "from implicit.als import AlternatingLeastSquares\n",
    "from implicit.nearest_neighbours import bm25_weight, tfidf_weight\n",
    "\n",
    "from lightfm import LightFM\n",
    "from lightfm.evaluation import precision_at_k, recall_at_k\n",
    "\n",
    "# Функции из 1-ого вебинара\n",
    "import os, sys\n",
    "\n",
    "module_path = os.path.abspath(os.path.join(os.pardir))\n",
    "if module_path not in sys.path:\n",
    "    sys.path.append(module_path)\n",
    "    \n",
    "# from src.metrics import precision_at_k, recall_at_k\n",
    "from utils import prefilter_items"
   ]
  },
  {
   "cell_type": "code",
   "execution_count": 66,
   "metadata": {},
   "outputs": [
    {
     "data": {
      "text/html": [
       "<div>\n",
       "<style scoped>\n",
       "    .dataframe tbody tr th:only-of-type {\n",
       "        vertical-align: middle;\n",
       "    }\n",
       "\n",
       "    .dataframe tbody tr th {\n",
       "        vertical-align: top;\n",
       "    }\n",
       "\n",
       "    .dataframe thead th {\n",
       "        text-align: right;\n",
       "    }\n",
       "</style>\n",
       "<table border=\"1\" class=\"dataframe\">\n",
       "  <thead>\n",
       "    <tr style=\"text-align: right;\">\n",
       "      <th></th>\n",
       "      <th>user_id</th>\n",
       "      <th>basket_id</th>\n",
       "      <th>day</th>\n",
       "      <th>item_id</th>\n",
       "      <th>quantity</th>\n",
       "      <th>sales_value</th>\n",
       "      <th>store_id</th>\n",
       "      <th>retail_disc</th>\n",
       "      <th>trans_time</th>\n",
       "      <th>week_no</th>\n",
       "      <th>coupon_disc</th>\n",
       "      <th>coupon_match_disc</th>\n",
       "    </tr>\n",
       "  </thead>\n",
       "  <tbody>\n",
       "    <tr>\n",
       "      <th>0</th>\n",
       "      <td>2375</td>\n",
       "      <td>26984851472</td>\n",
       "      <td>1</td>\n",
       "      <td>1004906</td>\n",
       "      <td>1</td>\n",
       "      <td>1.39</td>\n",
       "      <td>364</td>\n",
       "      <td>-0.6</td>\n",
       "      <td>1631</td>\n",
       "      <td>1</td>\n",
       "      <td>0.0</td>\n",
       "      <td>0.0</td>\n",
       "    </tr>\n",
       "    <tr>\n",
       "      <th>1</th>\n",
       "      <td>2375</td>\n",
       "      <td>26984851472</td>\n",
       "      <td>1</td>\n",
       "      <td>1033142</td>\n",
       "      <td>1</td>\n",
       "      <td>0.82</td>\n",
       "      <td>364</td>\n",
       "      <td>0.0</td>\n",
       "      <td>1631</td>\n",
       "      <td>1</td>\n",
       "      <td>0.0</td>\n",
       "      <td>0.0</td>\n",
       "    </tr>\n",
       "  </tbody>\n",
       "</table>\n",
       "</div>"
      ],
      "text/plain": [
       "   user_id    basket_id  day  item_id  quantity  sales_value  store_id  \\\n",
       "0     2375  26984851472    1  1004906         1         1.39       364   \n",
       "1     2375  26984851472    1  1033142         1         0.82       364   \n",
       "\n",
       "   retail_disc  trans_time  week_no  coupon_disc  coupon_match_disc  \n",
       "0         -0.6        1631        1          0.0                0.0  \n",
       "1          0.0        1631        1          0.0                0.0  "
      ]
     },
     "execution_count": 66,
     "metadata": {},
     "output_type": "execute_result"
    }
   ],
   "source": [
    "data = pd.read_csv('../webinar_2/webinar_2/data/retail_train.csv')\n",
    "item_features = pd.read_csv('../webinar_2/webinar_2/data/product.csv')\n",
    "user_features = pd.read_csv('../webinar_2/webinar_2/data/hh_demographic.csv')\n",
    "\n",
    "# column processing\n",
    "item_features.columns = [col.lower() for col in item_features.columns]\n",
    "user_features.columns = [col.lower() for col in user_features.columns]\n",
    "\n",
    "item_features.rename(columns={'product_id': 'item_id'}, inplace=True)\n",
    "user_features.rename(columns={'household_key': 'user_id'}, inplace=True)\n",
    "\n",
    "# train test split\n",
    "test_size_weeks = 3\n",
    "\n",
    "data_train = data[data['week_no'] < data['week_no'].max() - test_size_weeks]\n",
    "data_test = data[data['week_no'] >= data['week_no'].max() - test_size_weeks]\n",
    "\n",
    "data_train.head(2)"
   ]
  },
  {
   "cell_type": "code",
   "execution_count": 67,
   "metadata": {},
   "outputs": [
    {
     "data": {
      "text/html": [
       "<div>\n",
       "<style scoped>\n",
       "    .dataframe tbody tr th:only-of-type {\n",
       "        vertical-align: middle;\n",
       "    }\n",
       "\n",
       "    .dataframe tbody tr th {\n",
       "        vertical-align: top;\n",
       "    }\n",
       "\n",
       "    .dataframe thead th {\n",
       "        text-align: right;\n",
       "    }\n",
       "</style>\n",
       "<table border=\"1\" class=\"dataframe\">\n",
       "  <thead>\n",
       "    <tr style=\"text-align: right;\">\n",
       "      <th></th>\n",
       "      <th>item_id</th>\n",
       "      <th>manufacturer</th>\n",
       "      <th>department</th>\n",
       "      <th>brand</th>\n",
       "      <th>commodity_desc</th>\n",
       "      <th>sub_commodity_desc</th>\n",
       "      <th>curr_size_of_product</th>\n",
       "    </tr>\n",
       "  </thead>\n",
       "  <tbody>\n",
       "    <tr>\n",
       "      <th>0</th>\n",
       "      <td>25671</td>\n",
       "      <td>2</td>\n",
       "      <td>GROCERY</td>\n",
       "      <td>National</td>\n",
       "      <td>FRZN ICE</td>\n",
       "      <td>ICE - CRUSHED/CUBED</td>\n",
       "      <td>22 LB</td>\n",
       "    </tr>\n",
       "    <tr>\n",
       "      <th>1</th>\n",
       "      <td>26081</td>\n",
       "      <td>2</td>\n",
       "      <td>MISC. TRANS.</td>\n",
       "      <td>National</td>\n",
       "      <td>NO COMMODITY DESCRIPTION</td>\n",
       "      <td>NO SUBCOMMODITY DESCRIPTION</td>\n",
       "      <td></td>\n",
       "    </tr>\n",
       "  </tbody>\n",
       "</table>\n",
       "</div>"
      ],
      "text/plain": [
       "   item_id  manufacturer    department     brand            commodity_desc  \\\n",
       "0    25671             2       GROCERY  National                  FRZN ICE   \n",
       "1    26081             2  MISC. TRANS.  National  NO COMMODITY DESCRIPTION   \n",
       "\n",
       "            sub_commodity_desc curr_size_of_product  \n",
       "0          ICE - CRUSHED/CUBED                22 LB  \n",
       "1  NO SUBCOMMODITY DESCRIPTION                       "
      ]
     },
     "execution_count": 67,
     "metadata": {},
     "output_type": "execute_result"
    }
   ],
   "source": [
    "item_features.head(2)"
   ]
  },
  {
   "cell_type": "code",
   "execution_count": 68,
   "metadata": {},
   "outputs": [
    {
     "data": {
      "text/html": [
       "<div>\n",
       "<style scoped>\n",
       "    .dataframe tbody tr th:only-of-type {\n",
       "        vertical-align: middle;\n",
       "    }\n",
       "\n",
       "    .dataframe tbody tr th {\n",
       "        vertical-align: top;\n",
       "    }\n",
       "\n",
       "    .dataframe thead th {\n",
       "        text-align: right;\n",
       "    }\n",
       "</style>\n",
       "<table border=\"1\" class=\"dataframe\">\n",
       "  <thead>\n",
       "    <tr style=\"text-align: right;\">\n",
       "      <th></th>\n",
       "      <th>age_desc</th>\n",
       "      <th>marital_status_code</th>\n",
       "      <th>income_desc</th>\n",
       "      <th>homeowner_desc</th>\n",
       "      <th>hh_comp_desc</th>\n",
       "      <th>household_size_desc</th>\n",
       "      <th>kid_category_desc</th>\n",
       "      <th>user_id</th>\n",
       "    </tr>\n",
       "  </thead>\n",
       "  <tbody>\n",
       "    <tr>\n",
       "      <th>0</th>\n",
       "      <td>65+</td>\n",
       "      <td>A</td>\n",
       "      <td>35-49K</td>\n",
       "      <td>Homeowner</td>\n",
       "      <td>2 Adults No Kids</td>\n",
       "      <td>2</td>\n",
       "      <td>None/Unknown</td>\n",
       "      <td>1</td>\n",
       "    </tr>\n",
       "    <tr>\n",
       "      <th>1</th>\n",
       "      <td>45-54</td>\n",
       "      <td>A</td>\n",
       "      <td>50-74K</td>\n",
       "      <td>Homeowner</td>\n",
       "      <td>2 Adults No Kids</td>\n",
       "      <td>2</td>\n",
       "      <td>None/Unknown</td>\n",
       "      <td>7</td>\n",
       "    </tr>\n",
       "  </tbody>\n",
       "</table>\n",
       "</div>"
      ],
      "text/plain": [
       "  age_desc marital_status_code income_desc homeowner_desc      hh_comp_desc  \\\n",
       "0      65+                   A      35-49K      Homeowner  2 Adults No Kids   \n",
       "1    45-54                   A      50-74K      Homeowner  2 Adults No Kids   \n",
       "\n",
       "  household_size_desc kid_category_desc  user_id  \n",
       "0                   2      None/Unknown        1  \n",
       "1                   2      None/Unknown        7  "
      ]
     },
     "execution_count": 68,
     "metadata": {},
     "output_type": "execute_result"
    }
   ],
   "source": [
    "user_features.head(2)"
   ]
  },
  {
   "cell_type": "code",
   "execution_count": 69,
   "metadata": {},
   "outputs": [
    {
     "data": {
      "text/plain": [
       "array(['65+', '45-54', '25-34', '35-44', '19-24', '55-64'], dtype=object)"
      ]
     },
     "execution_count": 69,
     "metadata": {},
     "output_type": "execute_result"
    }
   ],
   "source": [
    "user_features['age_desc'].unique()"
   ]
  },
  {
   "cell_type": "code",
   "execution_count": 70,
   "metadata": {},
   "outputs": [
    {
     "data": {
      "text/plain": [
       "array(['A', 'U', 'B'], dtype=object)"
      ]
     },
     "execution_count": 70,
     "metadata": {},
     "output_type": "execute_result"
    }
   ],
   "source": [
    "user_features['marital_status_code'].unique()"
   ]
  },
  {
   "cell_type": "code",
   "execution_count": 71,
   "metadata": {},
   "outputs": [
    {
     "data": {
      "text/plain": [
       "array(['2', '3', '4', '1', '5+'], dtype=object)"
      ]
     },
     "execution_count": 71,
     "metadata": {},
     "output_type": "execute_result"
    }
   ],
   "source": [
    "user_features['household_size_desc'].unique()"
   ]
  },
  {
   "cell_type": "markdown",
   "metadata": {},
   "source": [
    "## 1. Filter items"
   ]
  },
  {
   "cell_type": "code",
   "execution_count": 72,
   "metadata": {},
   "outputs": [
    {
     "data": {
      "text/html": [
       "<div>\n",
       "<style scoped>\n",
       "    .dataframe tbody tr th:only-of-type {\n",
       "        vertical-align: middle;\n",
       "    }\n",
       "\n",
       "    .dataframe tbody tr th {\n",
       "        vertical-align: top;\n",
       "    }\n",
       "\n",
       "    .dataframe thead th {\n",
       "        text-align: right;\n",
       "    }\n",
       "</style>\n",
       "<table border=\"1\" class=\"dataframe\">\n",
       "  <thead>\n",
       "    <tr style=\"text-align: right;\">\n",
       "      <th></th>\n",
       "      <th>user_id</th>\n",
       "      <th>basket_id</th>\n",
       "      <th>day</th>\n",
       "      <th>item_id</th>\n",
       "      <th>quantity</th>\n",
       "      <th>sales_value</th>\n",
       "      <th>store_id</th>\n",
       "      <th>retail_disc</th>\n",
       "      <th>trans_time</th>\n",
       "      <th>week_no</th>\n",
       "      <th>coupon_disc</th>\n",
       "      <th>coupon_match_disc</th>\n",
       "    </tr>\n",
       "  </thead>\n",
       "  <tbody>\n",
       "    <tr>\n",
       "      <th>0</th>\n",
       "      <td>2375</td>\n",
       "      <td>26984851472</td>\n",
       "      <td>1</td>\n",
       "      <td>1004906</td>\n",
       "      <td>1</td>\n",
       "      <td>1.39</td>\n",
       "      <td>364</td>\n",
       "      <td>-0.60</td>\n",
       "      <td>1631</td>\n",
       "      <td>1</td>\n",
       "      <td>0.0</td>\n",
       "      <td>0.0</td>\n",
       "    </tr>\n",
       "    <tr>\n",
       "      <th>1</th>\n",
       "      <td>2375</td>\n",
       "      <td>26984851472</td>\n",
       "      <td>1</td>\n",
       "      <td>1033142</td>\n",
       "      <td>1</td>\n",
       "      <td>0.82</td>\n",
       "      <td>364</td>\n",
       "      <td>0.00</td>\n",
       "      <td>1631</td>\n",
       "      <td>1</td>\n",
       "      <td>0.0</td>\n",
       "      <td>0.0</td>\n",
       "    </tr>\n",
       "    <tr>\n",
       "      <th>2</th>\n",
       "      <td>2375</td>\n",
       "      <td>26984851472</td>\n",
       "      <td>1</td>\n",
       "      <td>1036325</td>\n",
       "      <td>1</td>\n",
       "      <td>0.99</td>\n",
       "      <td>364</td>\n",
       "      <td>-0.30</td>\n",
       "      <td>1631</td>\n",
       "      <td>1</td>\n",
       "      <td>0.0</td>\n",
       "      <td>0.0</td>\n",
       "    </tr>\n",
       "    <tr>\n",
       "      <th>3</th>\n",
       "      <td>2375</td>\n",
       "      <td>26984851472</td>\n",
       "      <td>1</td>\n",
       "      <td>1082185</td>\n",
       "      <td>1</td>\n",
       "      <td>1.21</td>\n",
       "      <td>364</td>\n",
       "      <td>0.00</td>\n",
       "      <td>1631</td>\n",
       "      <td>1</td>\n",
       "      <td>0.0</td>\n",
       "      <td>0.0</td>\n",
       "    </tr>\n",
       "    <tr>\n",
       "      <th>4</th>\n",
       "      <td>2375</td>\n",
       "      <td>26984851472</td>\n",
       "      <td>1</td>\n",
       "      <td>8160430</td>\n",
       "      <td>1</td>\n",
       "      <td>1.50</td>\n",
       "      <td>364</td>\n",
       "      <td>-0.39</td>\n",
       "      <td>1631</td>\n",
       "      <td>1</td>\n",
       "      <td>0.0</td>\n",
       "      <td>0.0</td>\n",
       "    </tr>\n",
       "  </tbody>\n",
       "</table>\n",
       "</div>"
      ],
      "text/plain": [
       "   user_id    basket_id  day  item_id  quantity  sales_value  store_id  \\\n",
       "0     2375  26984851472    1  1004906         1         1.39       364   \n",
       "1     2375  26984851472    1  1033142         1         0.82       364   \n",
       "2     2375  26984851472    1  1036325         1         0.99       364   \n",
       "3     2375  26984851472    1  1082185         1         1.21       364   \n",
       "4     2375  26984851472    1  8160430         1         1.50       364   \n",
       "\n",
       "   retail_disc  trans_time  week_no  coupon_disc  coupon_match_disc  \n",
       "0        -0.60        1631        1          0.0                0.0  \n",
       "1         0.00        1631        1          0.0                0.0  \n",
       "2        -0.30        1631        1          0.0                0.0  \n",
       "3         0.00        1631        1          0.0                0.0  \n",
       "4        -0.39        1631        1          0.0                0.0  "
      ]
     },
     "execution_count": 72,
     "metadata": {},
     "output_type": "execute_result"
    }
   ],
   "source": [
    "data_train.head()"
   ]
  },
  {
   "cell_type": "code",
   "execution_count": 73,
   "metadata": {},
   "outputs": [
    {
     "name": "stdout",
     "output_type": "stream",
     "text": [
      "Decreased # items from 86865 to 5001\n"
     ]
    }
   ],
   "source": [
    "n_items_before = data_train['item_id'].nunique()\n",
    "\n",
    "data_train_filtered = prefilter_items(data_train, take_n_popular=5000, item_features=item_features)\n",
    "\n",
    "n_items_after = data_train_filtered['item_id'].nunique()\n",
    "print('Decreased # items from {} to {}'.format(n_items_before, n_items_after))"
   ]
  },
  {
   "cell_type": "markdown",
   "metadata": {},
   "source": [
    "# 2. Prepare data set"
   ]
  },
  {
   "cell_type": "markdown",
   "metadata": {},
   "source": [
    "## 2.1 Prepare csr train matrix"
   ]
  },
  {
   "cell_type": "code",
   "execution_count": 74,
   "metadata": {},
   "outputs": [
    {
     "data": {
      "text/html": [
       "<div>\n",
       "<style scoped>\n",
       "    .dataframe tbody tr th:only-of-type {\n",
       "        vertical-align: middle;\n",
       "    }\n",
       "\n",
       "    .dataframe tbody tr th {\n",
       "        vertical-align: top;\n",
       "    }\n",
       "\n",
       "    .dataframe thead th {\n",
       "        text-align: right;\n",
       "    }\n",
       "</style>\n",
       "<table border=\"1\" class=\"dataframe\">\n",
       "  <thead>\n",
       "    <tr style=\"text-align: right;\">\n",
       "      <th>item_id</th>\n",
       "      <th>25671</th>\n",
       "      <th>26081</th>\n",
       "      <th>26093</th>\n",
       "      <th>26190</th>\n",
       "      <th>26355</th>\n",
       "      <th>26426</th>\n",
       "      <th>26540</th>\n",
       "      <th>26601</th>\n",
       "      <th>26636</th>\n",
       "      <th>26691</th>\n",
       "      <th>...</th>\n",
       "      <th>17328742</th>\n",
       "      <th>17329473</th>\n",
       "      <th>17329749</th>\n",
       "      <th>17330255</th>\n",
       "      <th>17330511</th>\n",
       "      <th>17381856</th>\n",
       "      <th>17382205</th>\n",
       "      <th>17383227</th>\n",
       "      <th>17827644</th>\n",
       "      <th>17829232</th>\n",
       "    </tr>\n",
       "    <tr>\n",
       "      <th>user_id</th>\n",
       "      <th></th>\n",
       "      <th></th>\n",
       "      <th></th>\n",
       "      <th></th>\n",
       "      <th></th>\n",
       "      <th></th>\n",
       "      <th></th>\n",
       "      <th></th>\n",
       "      <th></th>\n",
       "      <th></th>\n",
       "      <th></th>\n",
       "      <th></th>\n",
       "      <th></th>\n",
       "      <th></th>\n",
       "      <th></th>\n",
       "      <th></th>\n",
       "      <th></th>\n",
       "      <th></th>\n",
       "      <th></th>\n",
       "      <th></th>\n",
       "      <th></th>\n",
       "    </tr>\n",
       "  </thead>\n",
       "  <tbody>\n",
       "    <tr>\n",
       "      <th>1</th>\n",
       "      <td>0.0</td>\n",
       "      <td>0.0</td>\n",
       "      <td>0.0</td>\n",
       "      <td>0.0</td>\n",
       "      <td>0.0</td>\n",
       "      <td>0.0</td>\n",
       "      <td>0.0</td>\n",
       "      <td>0.0</td>\n",
       "      <td>0.0</td>\n",
       "      <td>0.0</td>\n",
       "      <td>...</td>\n",
       "      <td>0.0</td>\n",
       "      <td>0.0</td>\n",
       "      <td>0.0</td>\n",
       "      <td>0.0</td>\n",
       "      <td>0.0</td>\n",
       "      <td>0.0</td>\n",
       "      <td>0.0</td>\n",
       "      <td>0.0</td>\n",
       "      <td>0.0</td>\n",
       "      <td>0.0</td>\n",
       "    </tr>\n",
       "    <tr>\n",
       "      <th>2</th>\n",
       "      <td>0.0</td>\n",
       "      <td>0.0</td>\n",
       "      <td>0.0</td>\n",
       "      <td>0.0</td>\n",
       "      <td>0.0</td>\n",
       "      <td>0.0</td>\n",
       "      <td>0.0</td>\n",
       "      <td>0.0</td>\n",
       "      <td>0.0</td>\n",
       "      <td>0.0</td>\n",
       "      <td>...</td>\n",
       "      <td>0.0</td>\n",
       "      <td>0.0</td>\n",
       "      <td>0.0</td>\n",
       "      <td>0.0</td>\n",
       "      <td>0.0</td>\n",
       "      <td>0.0</td>\n",
       "      <td>0.0</td>\n",
       "      <td>0.0</td>\n",
       "      <td>0.0</td>\n",
       "      <td>0.0</td>\n",
       "    </tr>\n",
       "  </tbody>\n",
       "</table>\n",
       "<p>2 rows × 86865 columns</p>\n",
       "</div>"
      ],
      "text/plain": [
       "item_id  25671     26081     26093     26190     26355     26426     26540     \\\n",
       "user_id                                                                         \n",
       "1             0.0       0.0       0.0       0.0       0.0       0.0       0.0   \n",
       "2             0.0       0.0       0.0       0.0       0.0       0.0       0.0   \n",
       "\n",
       "item_id  26601     26636     26691     ...  17328742  17329473  17329749  \\\n",
       "user_id                                ...                                 \n",
       "1             0.0       0.0       0.0  ...       0.0       0.0       0.0   \n",
       "2             0.0       0.0       0.0  ...       0.0       0.0       0.0   \n",
       "\n",
       "item_id  17330255  17330511  17381856  17382205  17383227  17827644  17829232  \n",
       "user_id                                                                        \n",
       "1             0.0       0.0       0.0       0.0       0.0       0.0       0.0  \n",
       "2             0.0       0.0       0.0       0.0       0.0       0.0       0.0  \n",
       "\n",
       "[2 rows x 86865 columns]"
      ]
     },
     "execution_count": 74,
     "metadata": {},
     "output_type": "execute_result"
    }
   ],
   "source": [
    "#train\n",
    "user_item_matrix = pd.pivot_table(data_train, \n",
    "                                  index='user_id', columns='item_id', \n",
    "                                  values='quantity', # Можно пробоват ьдругие варианты\n",
    "                                  aggfunc='count', \n",
    "                                  fill_value=0\n",
    "                                 )\n",
    "\n",
    "user_item_matrix = user_item_matrix.astype(float) # необходимый тип матрицы для implicit\n",
    "\n",
    "# переведем в формат sparse matrix\n",
    "sparse_user_item = csr_matrix(user_item_matrix).tocsr()\n",
    "\n",
    "user_item_matrix.head(2)"
   ]
  },
  {
   "cell_type": "markdown",
   "metadata": {},
   "source": [
    "## 2.2 Prepare CSR test matrix"
   ]
  },
  {
   "cell_type": "code",
   "execution_count": 75,
   "metadata": {},
   "outputs": [],
   "source": [
    "#test\n",
    "data_test = data_test[data_test['item_id'].isin(data_train['item_id'].unique())]\n",
    "test_user_item_matrix = pd.pivot_table(data_test, \n",
    "                                  index='user_id', columns='item_id', \n",
    "                                  values='quantity', # Можно пробовать другие варианты\n",
    "                                  aggfunc='count', \n",
    "                                  fill_value=0\n",
    "                                 )\n",
    "\n",
    "test_user_item_matrix = test_user_item_matrix.astype(float) # необходимый тип матрицы для implicit\n"
   ]
  },
  {
   "cell_type": "code",
   "execution_count": 76,
   "metadata": {},
   "outputs": [],
   "source": [
    "# переведем в формат sparse matrix\n",
    "sparse_test_user_item = csr_matrix(test_user_item_matrix).tocsr()"
   ]
  },
  {
   "cell_type": "code",
   "execution_count": 77,
   "metadata": {},
   "outputs": [],
   "source": [
    "#train\n",
    "userids = user_item_matrix.index.values\n",
    "itemids = user_item_matrix.columns.values\n",
    "\n",
    "matrix_userids = np.arange(len(userids))\n",
    "matrix_itemids = np.arange(len(itemids))\n",
    "\n",
    "id_to_itemid = dict(zip(matrix_itemids, itemids))\n",
    "id_to_userid = dict(zip(matrix_userids, userids))\n",
    "\n",
    "itemid_to_id = dict(zip(itemids, matrix_itemids))\n",
    "userid_to_id = dict(zip(userids, matrix_userids))"
   ]
  },
  {
   "cell_type": "markdown",
   "metadata": {},
   "source": [
    "## 3. Prepare user and item features"
   ]
  },
  {
   "cell_type": "code",
   "execution_count": 78,
   "metadata": {},
   "outputs": [
    {
     "data": {
      "text/html": [
       "<div>\n",
       "<style scoped>\n",
       "    .dataframe tbody tr th:only-of-type {\n",
       "        vertical-align: middle;\n",
       "    }\n",
       "\n",
       "    .dataframe tbody tr th {\n",
       "        vertical-align: top;\n",
       "    }\n",
       "\n",
       "    .dataframe thead th {\n",
       "        text-align: right;\n",
       "    }\n",
       "</style>\n",
       "<table border=\"1\" class=\"dataframe\">\n",
       "  <thead>\n",
       "    <tr style=\"text-align: right;\">\n",
       "      <th></th>\n",
       "      <th>age_desc</th>\n",
       "      <th>marital_status_code</th>\n",
       "      <th>income_desc</th>\n",
       "      <th>homeowner_desc</th>\n",
       "      <th>hh_comp_desc</th>\n",
       "      <th>household_size_desc</th>\n",
       "      <th>kid_category_desc</th>\n",
       "    </tr>\n",
       "    <tr>\n",
       "      <th>user_id</th>\n",
       "      <th></th>\n",
       "      <th></th>\n",
       "      <th></th>\n",
       "      <th></th>\n",
       "      <th></th>\n",
       "      <th></th>\n",
       "      <th></th>\n",
       "    </tr>\n",
       "  </thead>\n",
       "  <tbody>\n",
       "    <tr>\n",
       "      <th>1</th>\n",
       "      <td>65+</td>\n",
       "      <td>A</td>\n",
       "      <td>35-49K</td>\n",
       "      <td>Homeowner</td>\n",
       "      <td>2 Adults No Kids</td>\n",
       "      <td>2</td>\n",
       "      <td>None/Unknown</td>\n",
       "    </tr>\n",
       "    <tr>\n",
       "      <th>2</th>\n",
       "      <td>NaN</td>\n",
       "      <td>NaN</td>\n",
       "      <td>NaN</td>\n",
       "      <td>NaN</td>\n",
       "      <td>NaN</td>\n",
       "      <td>NaN</td>\n",
       "      <td>NaN</td>\n",
       "    </tr>\n",
       "  </tbody>\n",
       "</table>\n",
       "</div>"
      ],
      "text/plain": [
       "        age_desc marital_status_code income_desc homeowner_desc  \\\n",
       "user_id                                                           \n",
       "1            65+                   A      35-49K      Homeowner   \n",
       "2            NaN                 NaN         NaN            NaN   \n",
       "\n",
       "             hh_comp_desc household_size_desc kid_category_desc  \n",
       "user_id                                                          \n",
       "1        2 Adults No Kids                   2      None/Unknown  \n",
       "2                     NaN                 NaN               NaN  "
      ]
     },
     "execution_count": 78,
     "metadata": {},
     "output_type": "execute_result"
    }
   ],
   "source": [
    "user_feat = pd.DataFrame(user_item_matrix.index)\n",
    "user_feat = user_feat.merge(user_features, on='user_id', how='left')\n",
    "user_feat.set_index('user_id', inplace=True)\n",
    "user_feat.head(2)"
   ]
  },
  {
   "cell_type": "code",
   "execution_count": 79,
   "metadata": {},
   "outputs": [
    {
     "data": {
      "text/plain": [
       "(2499, 7)"
      ]
     },
     "execution_count": 79,
     "metadata": {},
     "output_type": "execute_result"
    }
   ],
   "source": [
    "user_feat.shape"
   ]
  },
  {
   "cell_type": "code",
   "execution_count": 80,
   "metadata": {
    "scrolled": true
   },
   "outputs": [
    {
     "data": {
      "text/html": [
       "<div>\n",
       "<style scoped>\n",
       "    .dataframe tbody tr th:only-of-type {\n",
       "        vertical-align: middle;\n",
       "    }\n",
       "\n",
       "    .dataframe tbody tr th {\n",
       "        vertical-align: top;\n",
       "    }\n",
       "\n",
       "    .dataframe thead th {\n",
       "        text-align: right;\n",
       "    }\n",
       "</style>\n",
       "<table border=\"1\" class=\"dataframe\">\n",
       "  <thead>\n",
       "    <tr style=\"text-align: right;\">\n",
       "      <th></th>\n",
       "      <th>manufacturer</th>\n",
       "      <th>department</th>\n",
       "      <th>brand</th>\n",
       "      <th>commodity_desc</th>\n",
       "      <th>sub_commodity_desc</th>\n",
       "      <th>curr_size_of_product</th>\n",
       "    </tr>\n",
       "    <tr>\n",
       "      <th>item_id</th>\n",
       "      <th></th>\n",
       "      <th></th>\n",
       "      <th></th>\n",
       "      <th></th>\n",
       "      <th></th>\n",
       "      <th></th>\n",
       "    </tr>\n",
       "  </thead>\n",
       "  <tbody>\n",
       "    <tr>\n",
       "      <th>25671</th>\n",
       "      <td>2</td>\n",
       "      <td>GROCERY</td>\n",
       "      <td>National</td>\n",
       "      <td>FRZN ICE</td>\n",
       "      <td>ICE - CRUSHED/CUBED</td>\n",
       "      <td>22 LB</td>\n",
       "    </tr>\n",
       "    <tr>\n",
       "      <th>26081</th>\n",
       "      <td>2</td>\n",
       "      <td>MISC. TRANS.</td>\n",
       "      <td>National</td>\n",
       "      <td>NO COMMODITY DESCRIPTION</td>\n",
       "      <td>NO SUBCOMMODITY DESCRIPTION</td>\n",
       "      <td></td>\n",
       "    </tr>\n",
       "  </tbody>\n",
       "</table>\n",
       "</div>"
      ],
      "text/plain": [
       "         manufacturer    department     brand            commodity_desc  \\\n",
       "item_id                                                                   \n",
       "25671               2       GROCERY  National                  FRZN ICE   \n",
       "26081               2  MISC. TRANS.  National  NO COMMODITY DESCRIPTION   \n",
       "\n",
       "                  sub_commodity_desc curr_size_of_product  \n",
       "item_id                                                    \n",
       "25671            ICE - CRUSHED/CUBED                22 LB  \n",
       "26081    NO SUBCOMMODITY DESCRIPTION                       "
      ]
     },
     "execution_count": 80,
     "metadata": {},
     "output_type": "execute_result"
    }
   ],
   "source": [
    "item_feat = pd.DataFrame(user_item_matrix.columns)\n",
    "item_feat = item_feat.merge(item_features, on='item_id', how='left')\n",
    "item_feat.set_index('item_id', inplace=True)\n",
    "\n",
    "item_feat.head(2)"
   ]
  },
  {
   "cell_type": "code",
   "execution_count": 81,
   "metadata": {},
   "outputs": [
    {
     "data": {
      "text/plain": [
       "(86865, 6)"
      ]
     },
     "execution_count": 81,
     "metadata": {},
     "output_type": "execute_result"
    }
   ],
   "source": [
    "item_feat.shape"
   ]
  },
  {
   "cell_type": "markdown",
   "metadata": {},
   "source": [
    "## Encoding features"
   ]
  },
  {
   "cell_type": "code",
   "execution_count": 82,
   "metadata": {},
   "outputs": [],
   "source": [
    "user_feat_lightfm = pd.get_dummies(user_feat, columns=user_feat.columns.tolist())\n",
    "item_feat_lightfm = pd.get_dummies(item_feat, columns=item_feat.columns.tolist())"
   ]
  },
  {
   "cell_type": "code",
   "execution_count": 83,
   "metadata": {
    "scrolled": true
   },
   "outputs": [
    {
     "data": {
      "text/html": [
       "<div>\n",
       "<style scoped>\n",
       "    .dataframe tbody tr th:only-of-type {\n",
       "        vertical-align: middle;\n",
       "    }\n",
       "\n",
       "    .dataframe tbody tr th {\n",
       "        vertical-align: top;\n",
       "    }\n",
       "\n",
       "    .dataframe thead th {\n",
       "        text-align: right;\n",
       "    }\n",
       "</style>\n",
       "<table border=\"1\" class=\"dataframe\">\n",
       "  <thead>\n",
       "    <tr style=\"text-align: right;\">\n",
       "      <th></th>\n",
       "      <th>age_desc_19-24</th>\n",
       "      <th>age_desc_25-34</th>\n",
       "      <th>age_desc_35-44</th>\n",
       "      <th>age_desc_45-54</th>\n",
       "      <th>age_desc_55-64</th>\n",
       "      <th>age_desc_65+</th>\n",
       "      <th>marital_status_code_A</th>\n",
       "      <th>marital_status_code_B</th>\n",
       "      <th>marital_status_code_U</th>\n",
       "      <th>income_desc_100-124K</th>\n",
       "      <th>...</th>\n",
       "      <th>hh_comp_desc_Unknown</th>\n",
       "      <th>household_size_desc_1</th>\n",
       "      <th>household_size_desc_2</th>\n",
       "      <th>household_size_desc_3</th>\n",
       "      <th>household_size_desc_4</th>\n",
       "      <th>household_size_desc_5+</th>\n",
       "      <th>kid_category_desc_1</th>\n",
       "      <th>kid_category_desc_2</th>\n",
       "      <th>kid_category_desc_3+</th>\n",
       "      <th>kid_category_desc_None/Unknown</th>\n",
       "    </tr>\n",
       "    <tr>\n",
       "      <th>user_id</th>\n",
       "      <th></th>\n",
       "      <th></th>\n",
       "      <th></th>\n",
       "      <th></th>\n",
       "      <th></th>\n",
       "      <th></th>\n",
       "      <th></th>\n",
       "      <th></th>\n",
       "      <th></th>\n",
       "      <th></th>\n",
       "      <th></th>\n",
       "      <th></th>\n",
       "      <th></th>\n",
       "      <th></th>\n",
       "      <th></th>\n",
       "      <th></th>\n",
       "      <th></th>\n",
       "      <th></th>\n",
       "      <th></th>\n",
       "      <th></th>\n",
       "      <th></th>\n",
       "    </tr>\n",
       "  </thead>\n",
       "  <tbody>\n",
       "    <tr>\n",
       "      <th>1</th>\n",
       "      <td>0</td>\n",
       "      <td>0</td>\n",
       "      <td>0</td>\n",
       "      <td>0</td>\n",
       "      <td>0</td>\n",
       "      <td>1</td>\n",
       "      <td>1</td>\n",
       "      <td>0</td>\n",
       "      <td>0</td>\n",
       "      <td>0</td>\n",
       "      <td>...</td>\n",
       "      <td>0</td>\n",
       "      <td>0</td>\n",
       "      <td>1</td>\n",
       "      <td>0</td>\n",
       "      <td>0</td>\n",
       "      <td>0</td>\n",
       "      <td>0</td>\n",
       "      <td>0</td>\n",
       "      <td>0</td>\n",
       "      <td>1</td>\n",
       "    </tr>\n",
       "    <tr>\n",
       "      <th>2</th>\n",
       "      <td>0</td>\n",
       "      <td>0</td>\n",
       "      <td>0</td>\n",
       "      <td>0</td>\n",
       "      <td>0</td>\n",
       "      <td>0</td>\n",
       "      <td>0</td>\n",
       "      <td>0</td>\n",
       "      <td>0</td>\n",
       "      <td>0</td>\n",
       "      <td>...</td>\n",
       "      <td>0</td>\n",
       "      <td>0</td>\n",
       "      <td>0</td>\n",
       "      <td>0</td>\n",
       "      <td>0</td>\n",
       "      <td>0</td>\n",
       "      <td>0</td>\n",
       "      <td>0</td>\n",
       "      <td>0</td>\n",
       "      <td>0</td>\n",
       "    </tr>\n",
       "  </tbody>\n",
       "</table>\n",
       "<p>2 rows × 41 columns</p>\n",
       "</div>"
      ],
      "text/plain": [
       "         age_desc_19-24  age_desc_25-34  age_desc_35-44  age_desc_45-54  \\\n",
       "user_id                                                                   \n",
       "1                     0               0               0               0   \n",
       "2                     0               0               0               0   \n",
       "\n",
       "         age_desc_55-64  age_desc_65+  marital_status_code_A  \\\n",
       "user_id                                                        \n",
       "1                     0             1                      1   \n",
       "2                     0             0                      0   \n",
       "\n",
       "         marital_status_code_B  marital_status_code_U  income_desc_100-124K  \\\n",
       "user_id                                                                       \n",
       "1                            0                      0                     0   \n",
       "2                            0                      0                     0   \n",
       "\n",
       "         ...  hh_comp_desc_Unknown  household_size_desc_1  \\\n",
       "user_id  ...                                                \n",
       "1        ...                     0                      0   \n",
       "2        ...                     0                      0   \n",
       "\n",
       "         household_size_desc_2  household_size_desc_3  household_size_desc_4  \\\n",
       "user_id                                                                        \n",
       "1                            1                      0                      0   \n",
       "2                            0                      0                      0   \n",
       "\n",
       "         household_size_desc_5+  kid_category_desc_1  kid_category_desc_2  \\\n",
       "user_id                                                                     \n",
       "1                             0                    0                    0   \n",
       "2                             0                    0                    0   \n",
       "\n",
       "         kid_category_desc_3+  kid_category_desc_None/Unknown  \n",
       "user_id                                                        \n",
       "1                           0                               1  \n",
       "2                           0                               0  \n",
       "\n",
       "[2 rows x 41 columns]"
      ]
     },
     "execution_count": 83,
     "metadata": {},
     "output_type": "execute_result"
    }
   ],
   "source": [
    "user_feat_lightfm.head(2)"
   ]
  },
  {
   "cell_type": "markdown",
   "metadata": {},
   "source": [
    "## Init model"
   ]
  },
  {
   "cell_type": "code",
   "execution_count": 84,
   "metadata": {},
   "outputs": [],
   "source": [
    "model = LightFM(no_components=30,\n",
    "#                 loss='bpr',\n",
    "                loss='warp',\n",
    "                learning_rate=0.05, \n",
    "                item_alpha=0.1,\n",
    "                user_alpha=0.1, \n",
    "                random_state=42)"
   ]
  },
  {
   "cell_type": "markdown",
   "metadata": {},
   "source": [
    "## Train"
   ]
  },
  {
   "cell_type": "code",
   "execution_count": 85,
   "metadata": {},
   "outputs": [
    {
     "data": {
      "text/plain": [
       "<lightfm.lightfm.LightFM at 0x119fd1340>"
      ]
     },
     "execution_count": 85,
     "metadata": {},
     "output_type": "execute_result"
    }
   ],
   "source": [
    "model.fit((sparse_user_item > 0) * 1,  # user-item matrix из 0 и 1\n",
    "          sample_weight=coo_matrix(user_item_matrix),\n",
    "          user_features=csr_matrix(user_feat_lightfm.values).tocsr(),\n",
    "          item_features=csr_matrix(item_feat_lightfm.values).tocsr(),\n",
    "          epochs=15, \n",
    "          num_threads=4,\n",
    "          verbose=False) "
   ]
  },
  {
   "cell_type": "code",
   "execution_count": 86,
   "metadata": {},
   "outputs": [],
   "source": [
    "user_emb = model.get_user_representations(features=csr_matrix(user_feat_lightfm.values).tocsr())"
   ]
  },
  {
   "cell_type": "code",
   "execution_count": 87,
   "metadata": {},
   "outputs": [
    {
     "data": {
      "text/plain": [
       "array([-94.44411,   0.     ,   0.     , ..., -98.41175, -67.35313,\n",
       "         0.     ], dtype=float32)"
      ]
     },
     "execution_count": 87,
     "metadata": {},
     "output_type": "execute_result"
    }
   ],
   "source": [
    "user_emb[0]  # biases"
   ]
  },
  {
   "cell_type": "code",
   "execution_count": 88,
   "metadata": {},
   "outputs": [
    {
     "data": {
      "text/plain": [
       "(2499,)"
      ]
     },
     "execution_count": 88,
     "metadata": {},
     "output_type": "execute_result"
    }
   ],
   "source": [
    "user_emb[0].shape"
   ]
  },
  {
   "cell_type": "code",
   "execution_count": 89,
   "metadata": {},
   "outputs": [
    {
     "data": {
      "text/plain": [
       "array([[-1.8431123e-10, -1.6083463e-09, -2.7885445e-09, ...,\n",
       "        -1.7285773e-10,  3.0333247e-09, -3.9324544e-11],\n",
       "       [ 0.0000000e+00,  0.0000000e+00,  0.0000000e+00, ...,\n",
       "         0.0000000e+00,  0.0000000e+00,  0.0000000e+00],\n",
       "       [ 0.0000000e+00,  0.0000000e+00,  0.0000000e+00, ...,\n",
       "         0.0000000e+00,  0.0000000e+00,  0.0000000e+00],\n",
       "       ...,\n",
       "       [-4.4856061e-09, -2.4581723e-09,  5.7605964e-10, ...,\n",
       "        -1.7135227e-10,  2.1238833e-09, -1.4274275e-09],\n",
       "       [-3.3761289e-09, -1.4854289e-09,  1.2941355e-09, ...,\n",
       "        -1.9334563e-09,  5.1197713e-10, -1.0599461e-09],\n",
       "       [ 0.0000000e+00,  0.0000000e+00,  0.0000000e+00, ...,\n",
       "         0.0000000e+00,  0.0000000e+00,  0.0000000e+00]], dtype=float32)"
      ]
     },
     "execution_count": 89,
     "metadata": {},
     "output_type": "execute_result"
    }
   ],
   "source": [
    "user_emb[1]  # embeddings"
   ]
  },
  {
   "cell_type": "code",
   "execution_count": 90,
   "metadata": {},
   "outputs": [
    {
     "data": {
      "text/plain": [
       "(2499, 30)"
      ]
     },
     "execution_count": 90,
     "metadata": {},
     "output_type": "execute_result"
    }
   ],
   "source": [
    "user_emb[1].shape"
   ]
  },
  {
   "cell_type": "code",
   "execution_count": 91,
   "metadata": {},
   "outputs": [],
   "source": [
    "item_emb = model.get_item_representations(features=csr_matrix(item_feat_lightfm.values).tocsr())"
   ]
  },
  {
   "cell_type": "code",
   "execution_count": 92,
   "metadata": {},
   "outputs": [
    {
     "data": {
      "text/plain": [
       "(86865,)"
      ]
     },
     "execution_count": 92,
     "metadata": {},
     "output_type": "execute_result"
    }
   ],
   "source": [
    "item_emb[0].shape"
   ]
  },
  {
   "cell_type": "code",
   "execution_count": 93,
   "metadata": {},
   "outputs": [
    {
     "data": {
      "text/plain": [
       "(86865, 30)"
      ]
     },
     "execution_count": 93,
     "metadata": {},
     "output_type": "execute_result"
    }
   ],
   "source": [
    "item_emb[1].shape"
   ]
  },
  {
   "cell_type": "code",
   "execution_count": 94,
   "metadata": {},
   "outputs": [
    {
     "data": {
      "text/plain": [
       "0.051700678"
      ]
     },
     "execution_count": 94,
     "metadata": {},
     "output_type": "execute_result"
    }
   ],
   "source": [
    "train_precision = precision_at_k(model, sparse_user_item, \n",
    "                                 user_features=csr_matrix(user_feat_lightfm.values).tocsr(),\n",
    "                                 item_features=csr_matrix(item_feat_lightfm.values).tocsr(),\n",
    "                                 k=5).mean()\n",
    "\n",
    "train_precision"
   ]
  },
  {
   "cell_type": "code",
   "execution_count": 95,
   "metadata": {},
   "outputs": [
    {
     "data": {
      "text/plain": [
       "0.0022537974"
      ]
     },
     "execution_count": 95,
     "metadata": {},
     "output_type": "execute_result"
    }
   ],
   "source": [
    "test_precision = precision_at_k(model, test_interactions = sparse_test_user_item, \n",
    "                                 user_features=csr_matrix(user_feat_lightfm.values).tocsr(),\n",
    "                                 item_features=csr_matrix(item_feat_lightfm.values).tocsr(),\n",
    "                                 k=5).mean()\n",
    "\n",
    "test_precision"
   ]
  },
  {
   "cell_type": "code",
   "execution_count": 34,
   "metadata": {},
   "outputs": [
    {
     "data": {
      "text/plain": [
       "array([-94.74061, -94.18075, -94.21038, -94.52779, -94.16204],\n",
       "      dtype=float32)"
      ]
     },
     "execution_count": 34,
     "metadata": {},
     "output_type": "execute_result"
    }
   ],
   "source": [
    "test_item_ids = np.array([1, 2, 3, 200, 1200])\n",
    "\n",
    "predictions = model.predict(user_ids=0, item_ids=test_item_ids,\n",
    "                            user_features=csr_matrix(user_feat_lightfm.values).tocsr(),\n",
    "                            item_features=csr_matrix(item_feat_lightfm.values).tocsr(),\n",
    "                            num_threads=4)\n",
    "predictions"
   ]
  },
  {
   "cell_type": "code",
   "execution_count": null,
   "metadata": {},
   "outputs": [],
   "source": []
  },
  {
   "cell_type": "code",
   "execution_count": 96,
   "metadata": {},
   "outputs": [
    {
     "data": {
      "text/plain": [
       "<lightfm.lightfm.LightFM at 0x1089e4f10>"
      ]
     },
     "execution_count": 96,
     "metadata": {},
     "output_type": "execute_result"
    }
   ],
   "source": [
    "model = LightFM(no_components=20,\n",
    "#                 loss='bpr',\n",
    "                loss='warp', learning_rate=0.1, item_alpha=0.1, user_alpha=0.1, random_state=42)\n",
    "model.fit((sparse_user_item > 0) * 1,  # user-item matrix из 0 и 1\n",
    "          sample_weight=coo_matrix(user_item_matrix),\n",
    "          user_features=csr_matrix(user_feat_lightfm.values).tocsr(),\n",
    "          item_features=csr_matrix(item_feat_lightfm.values).tocsr(),\n",
    "          epochs=15, \n",
    "          num_threads=4,\n",
    "          verbose=False) "
   ]
  },
  {
   "cell_type": "code",
   "execution_count": 97,
   "metadata": {},
   "outputs": [
    {
     "data": {
      "text/plain": [
       "0.20064026"
      ]
     },
     "execution_count": 97,
     "metadata": {},
     "output_type": "execute_result"
    }
   ],
   "source": [
    "train_precision = precision_at_k(model, sparse_user_item, \n",
    "                                 user_features=csr_matrix(user_feat_lightfm.values).tocsr(),\n",
    "                                 item_features=csr_matrix(item_feat_lightfm.values).tocsr(),\n",
    "                                 k=5).mean()\n",
    "\n",
    "train_precision"
   ]
  },
  {
   "cell_type": "code",
   "execution_count": 98,
   "metadata": {},
   "outputs": [
    {
     "data": {
      "text/plain": [
       "0.0028417443"
      ]
     },
     "execution_count": 98,
     "metadata": {},
     "output_type": "execute_result"
    }
   ],
   "source": [
    "test_precision = precision_at_k(model, test_interactions = sparse_test_user_item, \n",
    "                                 user_features=csr_matrix(user_feat_lightfm.values).tocsr(),\n",
    "                                 item_features=csr_matrix(item_feat_lightfm.values).tocsr(),\n",
    "                                 k=5).mean()\n",
    "\n",
    "test_precision"
   ]
  },
  {
   "cell_type": "code",
   "execution_count": 103,
   "metadata": {},
   "outputs": [],
   "source": [
    "no_comp = [20, 30, 40]\n",
    "losses = ['bpr']\n",
    "lr = [ 0.05, 0.1, 0.2, 0.3]\n",
    "it_a = [ 0.1, 0.2, 0.3]\n",
    "us_a = [ 0.1, 0.2, 0.3]"
   ]
  },
  {
   "cell_type": "code",
   "execution_count": 104,
   "metadata": {},
   "outputs": [
    {
     "name": "stdout",
     "output_type": "stream",
     "text": [
      "no_comp: 20, loss: bpr, learn_r: 0.05, item_alpha 0.1, user_alpha 0.1\n",
      "train_precision: 0.0, test_precision: 0.0011758941691368818\n",
      "no_comp: 20, loss: bpr, learn_r: 0.05, item_alpha 0.1, user_alpha 0.2\n",
      "train_precision: 0.0, test_precision: 0.0006859382847324014\n",
      "no_comp: 20, loss: bpr, learn_r: 0.05, item_alpha 0.1, user_alpha 0.3\n",
      "train_precision: 0.0018407362513244152, test_precision: 0.0013718765694648027\n",
      "no_comp: 20, loss: bpr, learn_r: 0.05, item_alpha 0.2, user_alpha 0.1\n",
      "train_precision: 0.006642656400799751, test_precision: 0.0007839294848963618\n",
      "no_comp: 20, loss: bpr, learn_r: 0.05, item_alpha 0.2, user_alpha 0.2\n",
      "train_precision: 0.00208083214238286, test_precision: 0.000979911768808961\n",
      "no_comp: 20, loss: bpr, learn_r: 0.05, item_alpha 0.2, user_alpha 0.3\n",
      "train_precision: 0.0, test_precision: 0.0006859382847324014\n",
      "no_comp: 20, loss: bpr, learn_r: 0.05, item_alpha 0.3, user_alpha 0.1\n",
      "train_precision: 0.00104041607119143, test_precision: 0.0008819206850603223\n",
      "no_comp: 20, loss: bpr, learn_r: 0.05, item_alpha 0.3, user_alpha 0.2\n",
      "train_precision: 0.0024009603075683117, test_precision: 0.0012738853693008423\n",
      "no_comp: 20, loss: bpr, learn_r: 0.05, item_alpha 0.3, user_alpha 0.3\n",
      "train_precision: 0.00016006402438506484, test_precision: 0.0006859382847324014\n",
      "no_comp: 20, loss: bpr, learn_r: 0.1, item_alpha 0.1, user_alpha 0.1\n",
      "train_precision: 0.0011204482289031148, test_precision: 0.0018618324538692832\n",
      "no_comp: 20, loss: bpr, learn_r: 0.1, item_alpha 0.1, user_alpha 0.2\n",
      "train_precision: 0.0, test_precision: 0.0006859382847324014\n",
      "no_comp: 20, loss: bpr, learn_r: 0.1, item_alpha 0.1, user_alpha 0.3\n",
      "train_precision: 0.0, test_precision: 0.0006859382847324014\n",
      "no_comp: 20, loss: bpr, learn_r: 0.1, item_alpha 0.2, user_alpha 0.1\n",
      "train_precision: 0.0012805121950805187, test_precision: 0.001371876453049481\n",
      "no_comp: 20, loss: bpr, learn_r: 0.1, item_alpha 0.2, user_alpha 0.2\n",
      "train_precision: 0.0012004801537841558, test_precision: 0.0007839294848963618\n",
      "no_comp: 20, loss: bpr, learn_r: 0.1, item_alpha 0.2, user_alpha 0.3\n",
      "train_precision: 0.0008003201219253242, test_precision: 0.0005879470845684409\n",
      "no_comp: 20, loss: bpr, learn_r: 0.1, item_alpha 0.3, user_alpha 0.1\n",
      "train_precision: 0.03241296485066414, test_precision: 0.003821656107902527\n",
      "no_comp: 20, loss: bpr, learn_r: 0.1, item_alpha 0.3, user_alpha 0.2\n",
      "train_precision: 0.0025610243901610374, test_precision: 0.0013718765694648027\n",
      "no_comp: 20, loss: bpr, learn_r: 0.1, item_alpha 0.3, user_alpha 0.3\n",
      "train_precision: 0.0025610243901610374, test_precision: 0.0013718765694648027\n",
      "no_comp: 20, loss: bpr, learn_r: 0.2, item_alpha 0.1, user_alpha 0.1\n",
      "train_precision: 0.0024009603075683117, test_precision: 0.0012738852528855205\n",
      "no_comp: 20, loss: bpr, learn_r: 0.2, item_alpha 0.1, user_alpha 0.2\n",
      "train_precision: 0.018727490678429604, test_precision: 0.000979911768808961\n",
      "no_comp: 20, loss: bpr, learn_r: 0.2, item_alpha 0.1, user_alpha 0.3\n",
      "train_precision: 0.0003201280487701297, test_precision: 0.0008819206268526614\n",
      "no_comp: 20, loss: bpr, learn_r: 0.2, item_alpha 0.2, user_alpha 0.1\n",
      "train_precision: 0.0007202880806289613, test_precision: 0.00029397354228422046\n",
      "no_comp: 20, loss: bpr, learn_r: 0.2, item_alpha 0.2, user_alpha 0.2\n",
      "train_precision: 0.017927171662449837, test_precision: 0.0012738852528855205\n",
      "no_comp: 20, loss: bpr, learn_r: 0.2, item_alpha 0.2, user_alpha 0.3\n",
      "train_precision: 0.018487393856048584, test_precision: 0.002253797370940447\n",
      "no_comp: 20, loss: bpr, learn_r: 0.2, item_alpha 0.3, user_alpha 0.1\n",
      "train_precision: 0.0007202880806289613, test_precision: 0.0020578147377818823\n",
      "no_comp: 20, loss: bpr, learn_r: 0.2, item_alpha 0.3, user_alpha 0.2\n",
      "train_precision: 0.0012805121950805187, test_precision: 0.001861832570284605\n",
      "no_comp: 20, loss: bpr, learn_r: 0.2, item_alpha 0.3, user_alpha 0.3\n",
      "train_precision: 0.0022408964578062296, test_precision: 0.0013718765694648027\n",
      "no_comp: 20, loss: bpr, learn_r: 0.3, item_alpha 0.1, user_alpha 0.1\n",
      "train_precision: 0.00016006402438506484, test_precision: 0.0007839294848963618\n",
      "no_comp: 20, loss: bpr, learn_r: 0.3, item_alpha 0.1, user_alpha 0.2\n",
      "train_precision: 8.003201219253242e-05, test_precision: 0.0008819206268526614\n",
      "no_comp: 20, loss: bpr, learn_r: 0.3, item_alpha 0.1, user_alpha 0.3\n",
      "train_precision: 0.0022408964578062296, test_precision: 0.0013718765694648027\n",
      "no_comp: 20, loss: bpr, learn_r: 0.3, item_alpha 0.2, user_alpha 0.1\n",
      "train_precision: 0.0016006402438506484, test_precision: 0.00019598237122409046\n",
      "no_comp: 20, loss: bpr, learn_r: 0.3, item_alpha 0.2, user_alpha 0.2\n",
      "train_precision: 0.0007202880806289613, test_precision: 0.002253797370940447\n",
      "no_comp: 20, loss: bpr, learn_r: 0.3, item_alpha 0.2, user_alpha 0.3\n",
      "train_precision: 0.0021608644165098667, test_precision: 0.0027437531389296055\n",
      "no_comp: 20, loss: bpr, learn_r: 0.3, item_alpha 0.3, user_alpha 0.1\n",
      "train_precision: 0.0008003201219253242, test_precision: 0.0032337091397494078\n",
      "no_comp: 20, loss: bpr, learn_r: 0.3, item_alpha 0.3, user_alpha 0.2\n",
      "train_precision: 0.002240896224975586, test_precision: 0.0013718765694648027\n",
      "no_comp: 20, loss: bpr, learn_r: 0.3, item_alpha 0.3, user_alpha 0.3\n",
      "train_precision: 0.002240896224975586, test_precision: 0.0015678589697927237\n",
      "no_comp: 30, loss: bpr, learn_r: 0.05, item_alpha 0.1, user_alpha 0.1\n",
      "train_precision: 0.0, test_precision: 0.0011758941691368818\n",
      "no_comp: 30, loss: bpr, learn_r: 0.05, item_alpha 0.1, user_alpha 0.2\n",
      "train_precision: 0.0, test_precision: 0.0029397355392575264\n",
      "no_comp: 30, loss: bpr, learn_r: 0.05, item_alpha 0.1, user_alpha 0.3\n",
      "train_precision: 0.0, test_precision: 0.0006859382847324014\n",
      "no_comp: 30, loss: bpr, learn_r: 0.05, item_alpha 0.2, user_alpha 0.1\n",
      "train_precision: 0.002801120514050126, test_precision: 0.000979911768808961\n",
      "no_comp: 30, loss: bpr, learn_r: 0.05, item_alpha 0.2, user_alpha 0.2\n",
      "train_precision: 0.0035214086528867483, test_precision: 0.00293973577208817\n",
      "no_comp: 30, loss: bpr, learn_r: 0.05, item_alpha 0.2, user_alpha 0.3\n",
      "train_precision: 0.0024009603075683117, test_precision: 0.0012738853693008423\n",
      "no_comp: 30, loss: bpr, learn_r: 0.05, item_alpha 0.3, user_alpha 0.1\n",
      "train_precision: 0.002801120514050126, test_precision: 0.0008819206268526614\n",
      "no_comp: 30, loss: bpr, learn_r: 0.05, item_alpha 0.3, user_alpha 0.2\n",
      "train_precision: 0.0027210882399231195, test_precision: 0.0010779029689729214\n",
      "no_comp: 30, loss: bpr, learn_r: 0.05, item_alpha 0.3, user_alpha 0.3\n",
      "train_precision: 0.0, test_precision: 0.0012738853693008423\n",
      "no_comp: 30, loss: bpr, learn_r: 0.1, item_alpha 0.1, user_alpha 0.1\n",
      "train_precision: 0.0030412166379392147, test_precision: 0.000979911768808961\n",
      "no_comp: 30, loss: bpr, learn_r: 0.1, item_alpha 0.1, user_alpha 0.2\n",
      "train_precision: 0.002801120514050126, test_precision: 0.0011758941691368818\n",
      "no_comp: 30, loss: bpr, learn_r: 0.1, item_alpha 0.1, user_alpha 0.3\n",
      "train_precision: 0.0008003201219253242, test_precision: 9.799118561204523e-05\n",
      "no_comp: 30, loss: bpr, learn_r: 0.1, item_alpha 0.2, user_alpha 0.1\n",
      "train_precision: 0.0034413766115903854, test_precision: 0.0008819206268526614\n",
      "no_comp: 30, loss: bpr, learn_r: 0.1, item_alpha 0.2, user_alpha 0.2\n",
      "train_precision: 0.0025610243901610374, test_precision: 0.0012738853693008423\n",
      "no_comp: 30, loss: bpr, learn_r: 0.1, item_alpha 0.2, user_alpha 0.3\n",
      "train_precision: 0.03705482557415962, test_precision: 0.0017638413701206446\n",
      "no_comp: 30, loss: bpr, learn_r: 0.1, item_alpha 0.3, user_alpha 0.1\n",
      "train_precision: 0.0032813125289976597, test_precision: 0.0011758941691368818\n",
      "no_comp: 30, loss: bpr, learn_r: 0.1, item_alpha 0.3, user_alpha 0.2\n",
      "train_precision: 0.0036814729683101177, test_precision: 0.0011758941691368818\n",
      "no_comp: 30, loss: bpr, learn_r: 0.1, item_alpha 0.3, user_alpha 0.3\n",
      "train_precision: 0.0036814729683101177, test_precision: 0.0011758941691368818\n",
      "no_comp: 30, loss: bpr, learn_r: 0.2, item_alpha 0.1, user_alpha 0.1\n",
      "train_precision: 0.0, test_precision: 0.002841744339093566\n",
      "no_comp: 30, loss: bpr, learn_r: 0.2, item_alpha 0.1, user_alpha 0.2\n",
      "train_precision: 0.0007202880806289613, test_precision: 0.0012738853693008423\n",
      "no_comp: 30, loss: bpr, learn_r: 0.2, item_alpha 0.1, user_alpha 0.3\n",
      "train_precision: 0.0012004801537841558, test_precision: 0.002155805705115199\n",
      "no_comp: 30, loss: bpr, learn_r: 0.2, item_alpha 0.2, user_alpha 0.1\n",
      "train_precision: 0.03705482557415962, test_precision: 0.0010779029689729214\n"
     ]
    },
    {
     "name": "stdout",
     "output_type": "stream",
     "text": [
      "no_comp: 30, loss: bpr, learn_r: 0.2, item_alpha 0.2, user_alpha 0.2\n",
      "train_precision: 0.0012004801537841558, test_precision: 0.0016658501699566841\n",
      "no_comp: 30, loss: bpr, learn_r: 0.2, item_alpha 0.2, user_alpha 0.3\n",
      "train_precision: 0.005282113328576088, test_precision: 0.0008819206850603223\n",
      "no_comp: 30, loss: bpr, learn_r: 0.2, item_alpha 0.3, user_alpha 0.1\n",
      "train_precision: 0.037695080041885376, test_precision: 0.0010779029689729214\n",
      "no_comp: 30, loss: bpr, learn_r: 0.2, item_alpha 0.3, user_alpha 0.2\n",
      "train_precision: 0.0012004801537841558, test_precision: 0.002253797370940447\n",
      "no_comp: 30, loss: bpr, learn_r: 0.2, item_alpha 0.3, user_alpha 0.3\n",
      "train_precision: 0.00016006402438506484, test_precision: 0.0008819206850603223\n",
      "no_comp: 30, loss: bpr, learn_r: 0.3, item_alpha 0.1, user_alpha 0.1\n",
      "train_precision: 0.001280512078665197, test_precision: 0.0008819206850603223\n",
      "no_comp: 30, loss: bpr, learn_r: 0.3, item_alpha 0.1, user_alpha 0.2\n",
      "train_precision: 0.0012004801537841558, test_precision: 0.0014698677696287632\n",
      "no_comp: 30, loss: bpr, learn_r: 0.3, item_alpha 0.1, user_alpha 0.3\n",
      "train_precision: 0.0016006402438506484, test_precision: 0.00029397354228422046\n",
      "no_comp: 30, loss: bpr, learn_r: 0.3, item_alpha 0.2, user_alpha 0.1\n",
      "train_precision: 0.004401760641485453, test_precision: 0.0004899558844044805\n",
      "no_comp: 30, loss: bpr, learn_r: 0.3, item_alpha 0.2, user_alpha 0.2\n",
      "train_precision: 0.001280512078665197, test_precision: 0.001959823537617922\n",
      "no_comp: 30, loss: bpr, learn_r: 0.3, item_alpha 0.2, user_alpha 0.3\n",
      "train_precision: 0.002561024622991681, test_precision: 0.0010779029689729214\n",
      "no_comp: 30, loss: bpr, learn_r: 0.3, item_alpha 0.3, user_alpha 0.1\n",
      "train_precision: 0.0023209284991025925, test_precision: 0.0008819206850603223\n",
      "no_comp: 30, loss: bpr, learn_r: 0.3, item_alpha 0.3, user_alpha 0.2\n",
      "train_precision: 0.001280512078665197, test_precision: 0.0020578147377818823\n",
      "no_comp: 30, loss: bpr, learn_r: 0.3, item_alpha 0.3, user_alpha 0.3\n",
      "train_precision: 0.008163265883922577, test_precision: 0.000979911768808961\n",
      "no_comp: 40, loss: bpr, learn_r: 0.05, item_alpha 0.1, user_alpha 0.1\n",
      "train_precision: 0.0, test_precision: 0.0010779029689729214\n",
      "no_comp: 40, loss: bpr, learn_r: 0.05, item_alpha 0.1, user_alpha 0.2\n",
      "train_precision: 0.0, test_precision: 0.0\n",
      "no_comp: 40, loss: bpr, learn_r: 0.05, item_alpha 0.1, user_alpha 0.3\n",
      "train_precision: 0.0, test_precision: 0.0006859382847324014\n",
      "no_comp: 40, loss: bpr, learn_r: 0.05, item_alpha 0.2, user_alpha 0.1\n",
      "train_precision: 0.0005602241144515574, test_precision: 0.0011758941691368818\n",
      "no_comp: 40, loss: bpr, learn_r: 0.05, item_alpha 0.2, user_alpha 0.2\n",
      "train_precision: 0.0, test_precision: 0.0006859382847324014\n",
      "no_comp: 40, loss: bpr, learn_r: 0.05, item_alpha 0.2, user_alpha 0.3\n",
      "train_precision: 0.0, test_precision: 0.0014698677696287632\n",
      "no_comp: 40, loss: bpr, learn_r: 0.05, item_alpha 0.3, user_alpha 0.1\n",
      "train_precision: 0.0, test_precision: 0.0\n",
      "no_comp: 40, loss: bpr, learn_r: 0.05, item_alpha 0.3, user_alpha 0.2\n",
      "train_precision: 0.005122048780322075, test_precision: 0.001861832570284605\n",
      "no_comp: 40, loss: bpr, learn_r: 0.05, item_alpha 0.3, user_alpha 0.3\n",
      "train_precision: 0.0, test_precision: 0.0006859382847324014\n",
      "no_comp: 40, loss: bpr, learn_r: 0.1, item_alpha 0.1, user_alpha 0.1\n",
      "train_precision: 0.0, test_precision: 0.0006859382847324014\n",
      "no_comp: 40, loss: bpr, learn_r: 0.1, item_alpha 0.1, user_alpha 0.2\n",
      "train_precision: 0.0, test_precision: 0.0\n",
      "no_comp: 40, loss: bpr, learn_r: 0.1, item_alpha 0.1, user_alpha 0.3\n",
      "train_precision: 0.0, test_precision: 0.0\n",
      "no_comp: 40, loss: bpr, learn_r: 0.1, item_alpha 0.2, user_alpha 0.1\n",
      "train_precision: 0.0, test_precision: 0.0015678589697927237\n",
      "no_comp: 40, loss: bpr, learn_r: 0.1, item_alpha 0.2, user_alpha 0.2\n",
      "train_precision: 0.0, test_precision: 0.0\n",
      "no_comp: 40, loss: bpr, learn_r: 0.1, item_alpha 0.2, user_alpha 0.3\n",
      "train_precision: 0.0030412166379392147, test_precision: 9.799118561204523e-05\n",
      "no_comp: 40, loss: bpr, learn_r: 0.1, item_alpha 0.3, user_alpha 0.1\n",
      "train_precision: 0.0012004801537841558, test_precision: 0.00019598237122409046\n",
      "no_comp: 40, loss: bpr, learn_r: 0.1, item_alpha 0.3, user_alpha 0.2\n",
      "train_precision: 0.0008003201219253242, test_precision: 0.0\n",
      "no_comp: 40, loss: bpr, learn_r: 0.1, item_alpha 0.3, user_alpha 0.3\n",
      "train_precision: 0.0008803521632216871, test_precision: 0.0027437531389296055\n",
      "no_comp: 40, loss: bpr, learn_r: 0.2, item_alpha 0.1, user_alpha 0.1\n",
      "train_precision: 0.0, test_precision: 0.000979911768808961\n",
      "no_comp: 40, loss: bpr, learn_r: 0.2, item_alpha 0.1, user_alpha 0.2\n",
      "train_precision: 0.046258505433797836, test_precision: 0.0\n",
      "no_comp: 40, loss: bpr, learn_r: 0.2, item_alpha 0.1, user_alpha 0.3\n",
      "train_precision: 0.014725890010595322, test_precision: 0.0006859382847324014\n",
      "no_comp: 40, loss: bpr, learn_r: 0.2, item_alpha 0.2, user_alpha 0.1\n",
      "train_precision: 0.00016006402438506484, test_precision: 0.0006859382847324014\n",
      "no_comp: 40, loss: bpr, learn_r: 0.2, item_alpha 0.2, user_alpha 0.2\n",
      "train_precision: 0.011044417507946491, test_precision: 0.00029397354228422046\n",
      "no_comp: 40, loss: bpr, learn_r: 0.2, item_alpha 0.2, user_alpha 0.3\n",
      "train_precision: 0.014725890010595322, test_precision: 9.799118561204523e-05\n",
      "no_comp: 40, loss: bpr, learn_r: 0.2, item_alpha 0.3, user_alpha 0.1\n",
      "train_precision: 0.0, test_precision: 0.0014698677696287632\n",
      "no_comp: 40, loss: bpr, learn_r: 0.2, item_alpha 0.3, user_alpha 0.2\n",
      "train_precision: 0.004481792915612459, test_precision: 0.004213620908558369\n",
      "no_comp: 40, loss: bpr, learn_r: 0.2, item_alpha 0.3, user_alpha 0.3\n",
      "train_precision: 0.004321728833019733, test_precision: 9.799118561204523e-05\n",
      "no_comp: 40, loss: bpr, learn_r: 0.3, item_alpha 0.1, user_alpha 0.1\n",
      "train_precision: 0.0, test_precision: 0.0016658501699566841\n",
      "no_comp: 40, loss: bpr, learn_r: 0.3, item_alpha 0.1, user_alpha 0.2\n",
      "train_precision: 0.0007202880806289613, test_precision: 0.0\n",
      "no_comp: 40, loss: bpr, learn_r: 0.3, item_alpha 0.1, user_alpha 0.3\n",
      "train_precision: 0.004481792915612459, test_precision: 0.0021558059379458427\n",
      "no_comp: 40, loss: bpr, learn_r: 0.3, item_alpha 0.2, user_alpha 0.1\n",
      "train_precision: 0.004001600667834282, test_precision: 0.0046055857092142105\n"
     ]
    },
    {
     "ename": "ValueError",
     "evalue": "Not all estimated parameters are finite, your model may have diverged. Try decreasing the learning rate or normalising feature values and sample weights",
     "output_type": "error",
     "traceback": [
      "\u001b[0;31m---------------------------------------------------------------------------\u001b[0m",
      "\u001b[0;31mValueError\u001b[0m                                Traceback (most recent call last)",
      "\u001b[0;32m<ipython-input-104-03d567fc99ed>\u001b[0m in \u001b[0;36m<module>\u001b[0;34m\u001b[0m\n\u001b[1;32m      5\u001b[0m                 \u001b[0;32mfor\u001b[0m \u001b[0melem4\u001b[0m \u001b[0;32min\u001b[0m \u001b[0mus_a\u001b[0m\u001b[0;34m:\u001b[0m\u001b[0;34m\u001b[0m\u001b[0;34m\u001b[0m\u001b[0m\n\u001b[1;32m      6\u001b[0m                     \u001b[0mmodel\u001b[0m \u001b[0;34m=\u001b[0m \u001b[0mLightFM\u001b[0m\u001b[0;34m(\u001b[0m\u001b[0mno_components\u001b[0m\u001b[0;34m=\u001b[0m\u001b[0melem\u001b[0m\u001b[0;34m,\u001b[0m\u001b[0mloss\u001b[0m\u001b[0;34m=\u001b[0m\u001b[0melem1\u001b[0m\u001b[0;34m,\u001b[0m \u001b[0mlearning_rate\u001b[0m\u001b[0;34m=\u001b[0m\u001b[0melem2\u001b[0m\u001b[0;34m,\u001b[0m \u001b[0mitem_alpha\u001b[0m\u001b[0;34m=\u001b[0m\u001b[0melem3\u001b[0m\u001b[0;34m,\u001b[0m \u001b[0muser_alpha\u001b[0m\u001b[0;34m=\u001b[0m\u001b[0melem4\u001b[0m\u001b[0;34m,\u001b[0m \u001b[0mrandom_state\u001b[0m\u001b[0;34m=\u001b[0m\u001b[0;36m42\u001b[0m\u001b[0;34m)\u001b[0m\u001b[0;34m\u001b[0m\u001b[0;34m\u001b[0m\u001b[0m\n\u001b[0;32m----> 7\u001b[0;31m                     model.fit((sparse_user_item > 0) * 1,  # user-item matrix из 0 и 1\n\u001b[0m\u001b[1;32m      8\u001b[0m                       \u001b[0msample_weight\u001b[0m\u001b[0;34m=\u001b[0m\u001b[0mcoo_matrix\u001b[0m\u001b[0;34m(\u001b[0m\u001b[0muser_item_matrix\u001b[0m\u001b[0;34m)\u001b[0m\u001b[0;34m,\u001b[0m\u001b[0;34m\u001b[0m\u001b[0;34m\u001b[0m\u001b[0m\n\u001b[1;32m      9\u001b[0m                       \u001b[0muser_features\u001b[0m\u001b[0;34m=\u001b[0m\u001b[0mcsr_matrix\u001b[0m\u001b[0;34m(\u001b[0m\u001b[0muser_feat_lightfm\u001b[0m\u001b[0;34m.\u001b[0m\u001b[0mvalues\u001b[0m\u001b[0;34m)\u001b[0m\u001b[0;34m.\u001b[0m\u001b[0mtocsr\u001b[0m\u001b[0;34m(\u001b[0m\u001b[0;34m)\u001b[0m\u001b[0;34m,\u001b[0m\u001b[0;34m\u001b[0m\u001b[0;34m\u001b[0m\u001b[0m\n",
      "\u001b[0;32m/usr/local/lib/python3.8/site-packages/lightfm/lightfm.py\u001b[0m in \u001b[0;36mfit\u001b[0;34m(self, interactions, user_features, item_features, sample_weight, epochs, num_threads, verbose)\u001b[0m\n\u001b[1;32m    531\u001b[0m         \u001b[0mself\u001b[0m\u001b[0;34m.\u001b[0m\u001b[0m_reset_state\u001b[0m\u001b[0;34m(\u001b[0m\u001b[0;34m)\u001b[0m\u001b[0;34m\u001b[0m\u001b[0;34m\u001b[0m\u001b[0m\n\u001b[1;32m    532\u001b[0m \u001b[0;34m\u001b[0m\u001b[0m\n\u001b[0;32m--> 533\u001b[0;31m         return self.fit_partial(\n\u001b[0m\u001b[1;32m    534\u001b[0m             \u001b[0minteractions\u001b[0m\u001b[0;34m,\u001b[0m\u001b[0;34m\u001b[0m\u001b[0;34m\u001b[0m\u001b[0m\n\u001b[1;32m    535\u001b[0m             \u001b[0muser_features\u001b[0m\u001b[0;34m=\u001b[0m\u001b[0muser_features\u001b[0m\u001b[0;34m,\u001b[0m\u001b[0;34m\u001b[0m\u001b[0;34m\u001b[0m\u001b[0m\n",
      "\u001b[0;32m/usr/local/lib/python3.8/site-packages/lightfm/lightfm.py\u001b[0m in \u001b[0;36mfit_partial\u001b[0;34m(self, interactions, user_features, item_features, sample_weight, epochs, num_threads, verbose)\u001b[0m\n\u001b[1;32m    645\u001b[0m             )\n\u001b[1;32m    646\u001b[0m \u001b[0;34m\u001b[0m\u001b[0m\n\u001b[0;32m--> 647\u001b[0;31m             \u001b[0mself\u001b[0m\u001b[0;34m.\u001b[0m\u001b[0m_check_finite\u001b[0m\u001b[0;34m(\u001b[0m\u001b[0;34m)\u001b[0m\u001b[0;34m\u001b[0m\u001b[0;34m\u001b[0m\u001b[0m\n\u001b[0m\u001b[1;32m    648\u001b[0m \u001b[0;34m\u001b[0m\u001b[0m\n\u001b[1;32m    649\u001b[0m         \u001b[0;32mreturn\u001b[0m \u001b[0mself\u001b[0m\u001b[0;34m\u001b[0m\u001b[0;34m\u001b[0m\u001b[0m\n",
      "\u001b[0;32m/usr/local/lib/python3.8/site-packages/lightfm/lightfm.py\u001b[0m in \u001b[0;36m_check_finite\u001b[0;34m(self)\u001b[0m\n\u001b[1;32m    440\u001b[0m             \u001b[0;31m# large boolean temporary.\u001b[0m\u001b[0;34m\u001b[0m\u001b[0;34m\u001b[0m\u001b[0;34m\u001b[0m\u001b[0m\n\u001b[1;32m    441\u001b[0m             \u001b[0;32mif\u001b[0m \u001b[0;32mnot\u001b[0m \u001b[0mnp\u001b[0m\u001b[0;34m.\u001b[0m\u001b[0misfinite\u001b[0m\u001b[0;34m(\u001b[0m\u001b[0mnp\u001b[0m\u001b[0;34m.\u001b[0m\u001b[0msum\u001b[0m\u001b[0;34m(\u001b[0m\u001b[0mparameter\u001b[0m\u001b[0;34m)\u001b[0m\u001b[0;34m)\u001b[0m\u001b[0;34m:\u001b[0m\u001b[0;34m\u001b[0m\u001b[0;34m\u001b[0m\u001b[0m\n\u001b[0;32m--> 442\u001b[0;31m                 raise ValueError(\n\u001b[0m\u001b[1;32m    443\u001b[0m                     \u001b[0;34m\"Not all estimated parameters are finite,\"\u001b[0m\u001b[0;34m\u001b[0m\u001b[0;34m\u001b[0m\u001b[0m\n\u001b[1;32m    444\u001b[0m                     \u001b[0;34m\" your model may have diverged. Try decreasing\"\u001b[0m\u001b[0;34m\u001b[0m\u001b[0;34m\u001b[0m\u001b[0m\n",
      "\u001b[0;31mValueError\u001b[0m: Not all estimated parameters are finite, your model may have diverged. Try decreasing the learning rate or normalising feature values and sample weights"
     ]
    }
   ],
   "source": [
    "for elem in no_comp:\n",
    "    for elem1 in losses:\n",
    "        for elem2 in lr:\n",
    "            for elem3 in it_a:\n",
    "                for elem4 in us_a:\n",
    "                    model = LightFM(no_components=elem,loss=elem1, learning_rate=elem2, item_alpha=elem3, user_alpha=elem4, random_state=42)\n",
    "                    model.fit((sparse_user_item > 0) * 1,  # user-item matrix из 0 и 1\n",
    "                      sample_weight=coo_matrix(user_item_matrix),\n",
    "                      user_features=csr_matrix(user_feat_lightfm.values).tocsr(),\n",
    "                      item_features=csr_matrix(item_feat_lightfm.values).tocsr(),\n",
    "                      epochs=15, num_threads=4, verbose=False) \n",
    "                    train_precision = precision_at_k(model, sparse_user_item, \n",
    "                                 user_features=csr_matrix(user_feat_lightfm.values).tocsr(),\n",
    "                                 item_features=csr_matrix(item_feat_lightfm.values).tocsr(),\n",
    "                                 k=5).mean()\n",
    "                    test_precision = precision_at_k(model, test_interactions = sparse_test_user_item, \n",
    "                                 user_features=csr_matrix(user_feat_lightfm.values).tocsr(),\n",
    "                                 item_features=csr_matrix(item_feat_lightfm.values).tocsr(),\n",
    "                                 k=5).mean()\n",
    "\n",
    "                    print(f'no_comp: {elem}, loss: {elem1}, learn_r: {elem2}, item_alpha {elem3}, user_alpha {elem4}')\n",
    "                    print(f'train_precision: {train_precision}, test_precision: {test_precision}')"
   ]
  },
  {
   "cell_type": "code",
   "execution_count": 105,
   "metadata": {},
   "outputs": [],
   "source": [
    "no_comp = [30, 40]\n",
    "losses = ['warp']\n",
    "lr = [ 0.05, 0.1, 0.2, 0.3]\n",
    "it_a = [ 0.1, 0.2, 0.3]\n",
    "us_a = [ 0.1, 0.2, 0.3]"
   ]
  },
  {
   "cell_type": "code",
   "execution_count": 106,
   "metadata": {},
   "outputs": [
    {
     "name": "stdout",
     "output_type": "stream",
     "text": [
      "no_comp: 30, loss: warp, learn_r: 0.05, item_alpha 0.1, user_alpha 0.1\n",
      "train_precision: 0.05170067772269249, test_precision: 0.002253797370940447\n",
      "no_comp: 30, loss: warp, learn_r: 0.05, item_alpha 0.1, user_alpha 0.2\n",
      "train_precision: 0.17262905836105347, test_precision: 0.005389514844864607\n",
      "no_comp: 30, loss: warp, learn_r: 0.05, item_alpha 0.1, user_alpha 0.3\n",
      "train_precision: 0.19023610651493073, test_precision: 0.00597746204584837\n",
      "no_comp: 30, loss: warp, learn_r: 0.05, item_alpha 0.2, user_alpha 0.1\n",
      "train_precision: 0.0, test_precision: 0.0027437531389296055\n",
      "no_comp: 30, loss: warp, learn_r: 0.05, item_alpha 0.2, user_alpha 0.2\n",
      "train_precision: 0.17999200522899628, test_precision: 0.005193532910197973\n",
      "no_comp: 30, loss: warp, learn_r: 0.05, item_alpha 0.2, user_alpha 0.3\n",
      "train_precision: 0.0, test_precision: 0.0018618324538692832\n",
      "no_comp: 30, loss: warp, learn_r: 0.05, item_alpha 0.3, user_alpha 0.1\n",
      "train_precision: 0.15174070000648499, test_precision: 0.0012738852528855205\n",
      "no_comp: 30, loss: warp, learn_r: 0.05, item_alpha 0.3, user_alpha 0.2\n",
      "train_precision: 0.23609444499015808, test_precision: 0.0014698677696287632\n",
      "no_comp: 30, loss: warp, learn_r: 0.05, item_alpha 0.3, user_alpha 0.3\n",
      "train_precision: 0.18447378277778625, test_precision: 0.0014698677696287632\n",
      "no_comp: 30, loss: warp, learn_r: 0.1, item_alpha 0.1, user_alpha 0.1\n",
      "train_precision: 0.2006402611732483, test_precision: 0.002253797370940447\n",
      "no_comp: 30, loss: warp, learn_r: 0.1, item_alpha 0.1, user_alpha 0.2\n",
      "train_precision: 0.049139656126499176, test_precision: 0.002841744339093566\n",
      "no_comp: 30, loss: warp, learn_r: 0.1, item_alpha 0.1, user_alpha 0.3\n",
      "train_precision: 0.0, test_precision: 0.0005879470845684409\n",
      "no_comp: 30, loss: warp, learn_r: 0.1, item_alpha 0.2, user_alpha 0.1\n",
      "train_precision: 0.16118448972702026, test_precision: 0.00440960330888629\n",
      "no_comp: 30, loss: warp, learn_r: 0.1, item_alpha 0.2, user_alpha 0.2\n",
      "train_precision: 0.23609444499015808, test_precision: 0.0016658501699566841\n",
      "no_comp: 30, loss: warp, learn_r: 0.1, item_alpha 0.2, user_alpha 0.3\n",
      "train_precision: 0.08355342596769333, test_precision: 0.0\n",
      "no_comp: 30, loss: warp, learn_r: 0.1, item_alpha 0.3, user_alpha 0.1\n",
      "train_precision: 0.095238097012043, test_precision: 0.001959823537617922\n",
      "no_comp: 30, loss: warp, learn_r: 0.1, item_alpha 0.3, user_alpha 0.2\n",
      "train_precision: 0.0, test_precision: 0.0016658501699566841\n",
      "no_comp: 30, loss: warp, learn_r: 0.1, item_alpha 0.3, user_alpha 0.3\n",
      "train_precision: 0.13157261908054352, test_precision: 0.0010779029689729214\n",
      "no_comp: 30, loss: warp, learn_r: 0.2, item_alpha 0.1, user_alpha 0.1\n",
      "train_precision: 0.18479391932487488, test_precision: 0.0011758941691368818\n",
      "no_comp: 30, loss: warp, learn_r: 0.2, item_alpha 0.1, user_alpha 0.2\n",
      "train_precision: 0.0837935134768486, test_precision: 0.0004899558844044805\n",
      "no_comp: 30, loss: warp, learn_r: 0.2, item_alpha 0.1, user_alpha 0.3\n",
      "train_precision: 0.0, test_precision: 0.0015678589697927237\n",
      "no_comp: 30, loss: warp, learn_r: 0.2, item_alpha 0.2, user_alpha 0.1\n",
      "train_precision: 0.05122048780322075, test_precision: 0.000979911768808961\n",
      "no_comp: 30, loss: warp, learn_r: 0.2, item_alpha 0.2, user_alpha 0.2\n",
      "train_precision: 0.18135254085063934, test_precision: 0.002645761938765645\n",
      "no_comp: 30, loss: warp, learn_r: 0.2, item_alpha 0.2, user_alpha 0.3\n",
      "train_precision: 0.0, test_precision: 0.0\n",
      "no_comp: 30, loss: warp, learn_r: 0.2, item_alpha 0.3, user_alpha 0.1\n",
      "train_precision: 0.14733894169330597, test_precision: 0.0021558059379458427\n",
      "no_comp: 30, loss: warp, learn_r: 0.2, item_alpha 0.3, user_alpha 0.2\n",
      "train_precision: 0.0, test_precision: 0.0\n",
      "no_comp: 30, loss: warp, learn_r: 0.2, item_alpha 0.3, user_alpha 0.3\n",
      "train_precision: 0.03425370529294014, test_precision: 0.0013718765694648027\n",
      "no_comp: 30, loss: warp, learn_r: 0.3, item_alpha 0.1, user_alpha 0.1\n",
      "train_precision: 0.0837935134768486, test_precision: 0.0\n",
      "no_comp: 30, loss: warp, learn_r: 0.3, item_alpha 0.1, user_alpha 0.2\n",
      "train_precision: 0.08371348679065704, test_precision: 0.001959823537617922\n",
      "no_comp: 30, loss: warp, learn_r: 0.3, item_alpha 0.1, user_alpha 0.3\n",
      "train_precision: 0.004321728833019733, test_precision: 0.00029397354228422046\n",
      "no_comp: 30, loss: warp, learn_r: 0.3, item_alpha 0.2, user_alpha 0.1\n",
      "train_precision: 0.0012805121950805187, test_precision: 0.0016658501699566841\n",
      "no_comp: 30, loss: warp, learn_r: 0.3, item_alpha 0.2, user_alpha 0.2\n",
      "train_precision: 0.001120448112487793, test_precision: 0.0008819206268526614\n",
      "no_comp: 30, loss: warp, learn_r: 0.3, item_alpha 0.2, user_alpha 0.3\n",
      "train_precision: 0.0003201280487701297, test_precision: 0.005977462511509657\n",
      "no_comp: 30, loss: warp, learn_r: 0.3, item_alpha 0.3, user_alpha 0.1\n",
      "train_precision: 0.005682272836565971, test_precision: 0.0\n",
      "no_comp: 30, loss: warp, learn_r: 0.3, item_alpha 0.3, user_alpha 0.2\n",
      "train_precision: 0.0008003201219253242, test_precision: 0.0013718765694648027\n",
      "no_comp: 30, loss: warp, learn_r: 0.3, item_alpha 0.3, user_alpha 0.3\n",
      "train_precision: 0.0007202880806289613, test_precision: 0.0004899558844044805\n",
      "no_comp: 40, loss: warp, learn_r: 0.05, item_alpha 0.1, user_alpha 0.1\n",
      "train_precision: 0.05170067772269249, test_precision: 0.002253797370940447\n",
      "no_comp: 40, loss: warp, learn_r: 0.05, item_alpha 0.1, user_alpha 0.2\n",
      "train_precision: 0.2006402611732483, test_precision: 0.001861832570284605\n",
      "no_comp: 40, loss: warp, learn_r: 0.05, item_alpha 0.1, user_alpha 0.3\n",
      "train_precision: 0.2006402611732483, test_precision: 0.0021558059379458427\n",
      "no_comp: 40, loss: warp, learn_r: 0.05, item_alpha 0.2, user_alpha 0.1\n",
      "train_precision: 0.13277311623096466, test_precision: 0.004507594276219606\n",
      "no_comp: 40, loss: warp, learn_r: 0.05, item_alpha 0.2, user_alpha 0.2\n",
      "train_precision: 0.17262905836105347, test_precision: 0.005389515310525894\n",
      "no_comp: 40, loss: warp, learn_r: 0.05, item_alpha 0.2, user_alpha 0.3\n",
      "train_precision: 0.0, test_precision: 0.00029397354228422046\n",
      "no_comp: 40, loss: warp, learn_r: 0.05, item_alpha 0.3, user_alpha 0.1\n",
      "train_precision: 0.12917166948318481, test_precision: 0.005193532910197973\n",
      "no_comp: 40, loss: warp, learn_r: 0.05, item_alpha 0.3, user_alpha 0.2\n",
      "train_precision: 0.05122048780322075, test_precision: 0.002253797370940447\n",
      "no_comp: 40, loss: warp, learn_r: 0.05, item_alpha 0.3, user_alpha 0.3\n",
      "train_precision: 0.0, test_precision: 0.00029397354228422046\n",
      "no_comp: 40, loss: warp, learn_r: 0.1, item_alpha 0.1, user_alpha 0.1\n",
      "train_precision: 0.2006402611732483, test_precision: 0.003429691307246685\n",
      "no_comp: 40, loss: warp, learn_r: 0.1, item_alpha 0.1, user_alpha 0.2\n",
      "train_precision: 0.0, test_precision: 0.0016658501699566841\n",
      "no_comp: 40, loss: warp, learn_r: 0.1, item_alpha 0.1, user_alpha 0.3\n",
      "train_precision: 0.05122048780322075, test_precision: 0.0006859382847324014\n",
      "no_comp: 40, loss: warp, learn_r: 0.1, item_alpha 0.2, user_alpha 0.1\n",
      "train_precision: 0.23609444499015808, test_precision: 0.005487506277859211\n",
      "no_comp: 40, loss: warp, learn_r: 0.1, item_alpha 0.2, user_alpha 0.2\n",
      "train_precision: 0.21008403599262238, test_precision: 0.002841744339093566\n",
      "no_comp: 40, loss: warp, learn_r: 0.1, item_alpha 0.2, user_alpha 0.3\n",
      "train_precision: 0.0, test_precision: 0.000979911768808961\n",
      "no_comp: 40, loss: warp, learn_r: 0.1, item_alpha 0.3, user_alpha 0.1\n",
      "train_precision: 0.05026010796427727, test_precision: 0.001959823537617922\n",
      "no_comp: 40, loss: warp, learn_r: 0.1, item_alpha 0.3, user_alpha 0.2\n",
      "train_precision: 0.05314125865697861, test_precision: 0.003625673707574606\n",
      "no_comp: 40, loss: warp, learn_r: 0.1, item_alpha 0.3, user_alpha 0.3\n",
      "train_precision: 0.0011204482289031148, test_precision: 0.0032337091397494078\n",
      "no_comp: 40, loss: warp, learn_r: 0.2, item_alpha 0.1, user_alpha 0.1\n",
      "train_precision: 0.049619849771261215, test_precision: 0.0016658501699566841\n",
      "no_comp: 40, loss: warp, learn_r: 0.2, item_alpha 0.1, user_alpha 0.2\n",
      "train_precision: 0.0, test_precision: 0.002645761938765645\n",
      "no_comp: 40, loss: warp, learn_r: 0.2, item_alpha 0.1, user_alpha 0.3\n",
      "train_precision: 0.0, test_precision: 0.0031357177067548037\n",
      "no_comp: 40, loss: warp, learn_r: 0.2, item_alpha 0.2, user_alpha 0.1\n",
      "train_precision: 0.0, test_precision: 0.003037726506590843\n",
      "no_comp: 40, loss: warp, learn_r: 0.2, item_alpha 0.2, user_alpha 0.2\n",
      "train_precision: 0.0, test_precision: 0.0007839294848963618\n"
     ]
    },
    {
     "name": "stdout",
     "output_type": "stream",
     "text": [
      "no_comp: 40, loss: warp, learn_r: 0.2, item_alpha 0.2, user_alpha 0.3\n",
      "train_precision: 0.0, test_precision: 0.0011758941691368818\n",
      "no_comp: 40, loss: warp, learn_r: 0.2, item_alpha 0.3, user_alpha 0.1\n",
      "train_precision: 0.0, test_precision: 0.001959823537617922\n",
      "no_comp: 40, loss: warp, learn_r: 0.2, item_alpha 0.3, user_alpha 0.2\n",
      "train_precision: 0.0, test_precision: 0.0014698677696287632\n",
      "no_comp: 40, loss: warp, learn_r: 0.2, item_alpha 0.3, user_alpha 0.3\n",
      "train_precision: 0.09771909564733505, test_precision: 0.0\n",
      "no_comp: 40, loss: warp, learn_r: 0.3, item_alpha 0.1, user_alpha 0.1\n",
      "train_precision: 0.1663065403699875, test_precision: 0.0008819206268526614\n",
      "no_comp: 40, loss: warp, learn_r: 0.3, item_alpha 0.1, user_alpha 0.2\n",
      "train_precision: 0.00416166428476572, test_precision: 0.004017638508230448\n",
      "no_comp: 40, loss: warp, learn_r: 0.3, item_alpha 0.1, user_alpha 0.3\n",
      "train_precision: 0.0, test_precision: 0.0010779029689729214\n",
      "no_comp: 40, loss: warp, learn_r: 0.3, item_alpha 0.2, user_alpha 0.1\n",
      "train_precision: 0.0015206083189696074, test_precision: 0.0011758941691368818\n",
      "no_comp: 40, loss: warp, learn_r: 0.3, item_alpha 0.2, user_alpha 0.2\n",
      "train_precision: 0.002000800333917141, test_precision: 0.0011758941691368818\n",
      "no_comp: 40, loss: warp, learn_r: 0.3, item_alpha 0.2, user_alpha 0.3\n",
      "train_precision: 0.0012004801537841558, test_precision: 0.0004899558844044805\n",
      "no_comp: 40, loss: warp, learn_r: 0.3, item_alpha 0.3, user_alpha 0.1\n",
      "train_precision: 0.0003201280487701297, test_precision: 0.0016658501699566841\n",
      "no_comp: 40, loss: warp, learn_r: 0.3, item_alpha 0.3, user_alpha 0.2\n",
      "train_precision: 0.00104041607119143, test_precision: 0.0007839294848963618\n",
      "no_comp: 40, loss: warp, learn_r: 0.3, item_alpha 0.3, user_alpha 0.3\n",
      "train_precision: 0.025130052119493484, test_precision: 0.000979911768808961\n"
     ]
    }
   ],
   "source": [
    "for elem in no_comp:\n",
    "    for elem1 in losses:\n",
    "        for elem2 in lr:\n",
    "            for elem3 in it_a:\n",
    "                for elem4 in us_a:\n",
    "                    model = LightFM(no_components=elem,loss=elem1, learning_rate=elem2, item_alpha=elem3, user_alpha=elem4, random_state=42)\n",
    "                    model.fit((sparse_user_item > 0) * 1,  # user-item matrix из 0 и 1\n",
    "                      sample_weight=coo_matrix(user_item_matrix),\n",
    "                      user_features=csr_matrix(user_feat_lightfm.values).tocsr(),\n",
    "                      item_features=csr_matrix(item_feat_lightfm.values).tocsr(),\n",
    "                      epochs=15, num_threads=4, verbose=False) \n",
    "                    train_precision = precision_at_k(model, sparse_user_item, \n",
    "                                 user_features=csr_matrix(user_feat_lightfm.values).tocsr(),\n",
    "                                 item_features=csr_matrix(item_feat_lightfm.values).tocsr(),\n",
    "                                 k=5).mean()\n",
    "                    test_precision = precision_at_k(model, test_interactions = sparse_test_user_item, \n",
    "                                 user_features=csr_matrix(user_feat_lightfm.values).tocsr(),\n",
    "                                 item_features=csr_matrix(item_feat_lightfm.values).tocsr(),\n",
    "                                 k=5).mean()\n",
    "\n",
    "                    print(f'no_comp: {elem}, loss: {elem1}, learn_r: {elem2}, item_alpha {elem3}, user_alpha {elem4}')\n",
    "                    print(f'train_precision: {train_precision}, test_precision: {test_precision}')"
   ]
  },
  {
   "cell_type": "markdown",
   "metadata": {},
   "source": [
    "Лушие результаты \n",
    "BPR\n",
    "no_comp: 20, loss: bpr, learn_r: 0.1, item_alpha 0.3, user_alpha 0.1\n",
    "train_precision: 0.03241296485066414, test_precision: 0.003821656107902527\n",
    "\n",
    "no_comp: 40, loss: bpr, learn_r: 0.3, item_alpha 0.2, user_alpha 0.1\n",
    "train_precision: 0.004001600667834282, test_precision: 0.0046055857092142105\n",
    "\n",
    "WARP\n",
    "\n",
    "no_comp: 30, loss: warp, learn_r: 0.05, item_alpha 0.1, user_alpha 0.3\n",
    "train_precision: 0.19023610651493073, test_precision: 0.00597746204584837\n",
    "\n",
    "no_comp: 40, loss: warp, learn_r: 0.1, item_alpha 0.2, user_alpha 0.1\n",
    "train_precision: 0.23609444499015808, test_precision: 0.005487506277859211\n",
    "\n",
    "no_comp: 20, loss: warp, learn_r: 0.05, item_alpha 0.1, user_alpha 0.3\n",
    "train_precision: 0.19023610651493073, test_precision: 0.00597746204584837\n",
    "\n",
    "В целом, результаты при двух разных loss не очень хорошие, но при WARP\n",
    "Я сделала небольшой подбор параметров, но все очень долго считается\n",
    "Поэтому возможно при большей сетке параметров найдутся параметры, при которых результаты будут лучше \n",
    "\n"
   ]
  },
  {
   "cell_type": "markdown",
   "metadata": {},
   "source": [
    "Домашнее задание по желанию:\n",
    "Из нотбука вебинара\n",
    "Для рекомендательной модели при помощи библиотеки ligthFM:\n",
    "1) Посчитать метрики на тестовом датасете\n",
    "2) Попытаться улучшить качество подбором параметров\n",
    "3) Обучить на BPR лоссе и сравнить по качеству\n",
    "4) Сделать выводы"
   ]
  },
  {
   "cell_type": "markdown",
   "metadata": {},
   "source": [
    "еще результаты запусков"
   ]
  },
  {
   "cell_type": "markdown",
   "metadata": {},
   "source": [
    "no_comp: 20, loss: warp, learn_r: 0.05, item_alpha 0.1, user_alpha 0.1\n",
    "train_precision: 0.05170067772269249, test_precision: 0.002253797370940447\n",
    "\n",
    "no_comp: 20, loss: warp, learn_r: 0.05, item_alpha 0.1, user_alpha 0.2\n",
    "train_precision: 0.19023610651493073, test_precision: 0.005389514844864607\n",
    "\n",
    "no_comp: 20, loss: warp, learn_r: 0.05, item_alpha 0.1, user_alpha 0.3\n",
    "train_precision: 0.19023610651493073, test_precision: 0.00597746204584837\n",
    "\n",
    "no_comp: 20, loss: warp, learn_r: 0.05, item_alpha 0.2, user_alpha 0.1\n",
    "train_precision: 0.049139656126499176, test_precision: 0.002841744339093566\n",
    "\n",
    "\n",
    "\n",
    "no_comp: 10, loss: bpr, learn_r: 0, item_alpha 0, user_alpha 0\n",
    "train_precision: 0.0006402560975402594, test_precision: 0.0005879470845684409\n",
    "no_comp: 10, loss: bpr, learn_r: 0, item_alpha 0, user_alpha 0.1\n",
    "train_precision: 0.0006402560975402594, test_precision: 0.0005879470845684409\n",
    "no_comp: 10, loss: bpr, learn_r: 0, item_alpha 0, user_alpha 0.5\n",
    "train_precision: 0.0006402560975402594, test_precision: 0.0005879470845684409\n",
    "no_comp: 10, loss: bpr, learn_r: 0, item_alpha 0, user_alpha 1\n",
    "train_precision: 0.0006402560975402594, test_precision: 0.0005879470845684409\n",
    "no_comp: 10, loss: bpr, learn_r: 0, item_alpha 0.1, user_alpha 0\n",
    "train_precision: 0.0006402560975402594, test_precision: 0.0005879470845684409\n",
    "no_comp: 10, loss: bpr, learn_r: 0, item_alpha 0.1, user_alpha 0.1\n",
    "train_precision: 0.0006402560975402594, test_precision: 0.0005879470845684409\n",
    "no_comp: 10, loss: bpr, learn_r: 0, item_alpha 0.1, user_alpha 0.5\n",
    "train_precision: 0.0006402560975402594, test_precision: 0.0005879470845684409\n",
    "no_comp: 10, loss: bpr, learn_r: 0, item_alpha 0.1, user_alpha 1\n",
    "train_precision: 0.0006402560975402594, test_precision: 0.0005879470845684409\n",
    "no_comp: 10, loss: bpr, learn_r: 0, item_alpha 0.5, user_alpha 0\n",
    "train_precision: 0.0006402560975402594, test_precision: 0.0005879470845684409\n",
    "no_comp: 10, loss: bpr, learn_r: 0, item_alpha 0.5, user_alpha 0.1\n",
    "train_precision: 0.0006402560975402594, test_precision: 0.0005879470845684409\n",
    "no_comp: 10, loss: bpr, learn_r: 0, item_alpha 0.5, user_alpha 0.5\n",
    "train_precision: 0.0006402560975402594, test_precision: 0.0005879470845684409\n",
    "no_comp: 10, loss: bpr, learn_r: 0, item_alpha 0.5, user_alpha 1\n",
    "train_precision: 0.0006402560975402594, test_precision: 0.0005879470845684409\n",
    "no_comp: 10, loss: bpr, learn_r: 0, item_alpha 1, user_alpha 0\n",
    "train_precision: 0.0006402560975402594, test_precision: 0.0005879470845684409\n",
    "no_comp: 10, loss: bpr, learn_r: 0, item_alpha 1, user_alpha 0.1\n",
    "train_precision: 0.0006402560975402594, test_precision: 0.0005879470845684409\n",
    "no_comp: 10, loss: bpr, learn_r: 0, item_alpha 1, user_alpha 0.5\n",
    "train_precision: 0.0006402560975402594, test_precision: 0.0005879470845684409\n",
    "no_comp: 10, loss: bpr, learn_r: 0, item_alpha 1, user_alpha 1\n",
    "train_precision: 0.0006402560975402594, test_precision: 0.0005879470845684409\n",
    "no_comp: 10, loss: bpr, learn_r: 0.05, item_alpha 0, user_alpha 0\n",
    "train_precision: 0.0006402560975402594, test_precision: 0.002841744339093566\n",
    "no_comp: 10, loss: bpr, learn_r: 0.05, item_alpha 0, user_alpha 0.1\n",
    "train_precision: 0.0012805121950805187, test_precision: 0.0013718765694648027\n",
    "no_comp: 10, loss: bpr, learn_r: 0.05, item_alpha 0, user_alpha 0.5\n",
    "train_precision: 0.0007202880806289613, test_precision: 0.00029397354228422046\n",
    "no_comp: 10, loss: bpr, learn_r: 0.05, item_alpha 0, user_alpha 1\n",
    "train_precision: 0.00016006402438506484, test_precision: 0.0010779029689729214\n",
    "no_comp: 10, loss: bpr, learn_r: 0.05, item_alpha 0.1, user_alpha 0\n",
    "train_precision: 0.00016006402438506484, test_precision: 0.0008819206850603223\n",
    "no_comp: 10, loss: bpr, learn_r: 0.05, item_alpha 0.1, user_alpha 0.1\n",
    "train_precision: 0.0, test_precision: 0.0010779029689729214\n",
    "no_comp: 10, loss: bpr, learn_r: 0.05, item_alpha 0.1, user_alpha 0.5\n",
    "train_precision: 0.0004001600609626621, test_precision: 0.0012738853693008423\n",
    "no_comp: 10, loss: bpr, learn_r: 0.05, item_alpha 0.1, user_alpha 1\n",
    "train_precision: 0.0, test_precision: 0.0\n",
    "no_comp: 10, loss: bpr, learn_r: 0.05, item_alpha 0.5, user_alpha 0\n",
    "train_precision: 0.0002400960511295125, test_precision: 0.002449779538437724\n",
    "no_comp: 10, loss: bpr, learn_r: 0.05, item_alpha 0.5, user_alpha 0.1\n",
    "train_precision: 0.0002400960511295125, test_precision: 0.0\n",
    "no_comp: 10, loss: bpr, learn_r: 0.05, item_alpha 0.5, user_alpha 0.5\n",
    "train_precision: 0.00096038420451805, test_precision: 0.0003919647424481809\n",
    "no_comp: 10, loss: bpr, learn_r: 0.05, item_alpha 0.5, user_alpha 1\n",
    "train_precision: 0.0007202881388366222, test_precision: 0.0004899558844044805\n",
    "no_comp: 10, loss: bpr, learn_r: 0.05, item_alpha 1, user_alpha 0\n",
    "train_precision: 0.00104041607119143, test_precision: 0.0015678588533774018\n",
    "no_comp: 10, loss: bpr, learn_r: 0.05, item_alpha 1, user_alpha 0.1\n",
    "train_precision: 0.00016006402438506484, test_precision: 0.00019598237122409046\n",
    "no_comp: 10, loss: bpr, learn_r: 0.05, item_alpha 1, user_alpha 0.5\n",
    "train_precision: 0.0032813125289976597, test_precision: 0.003527682740241289\n",
    "no_comp: 10, loss: bpr, learn_r: 0.05, item_alpha 1, user_alpha 1\n",
    "train_precision: 0.0002400960511295125, test_precision: 0.0\n",
    "no_comp: 10, loss: bpr, learn_r: 0.1, item_alpha 0, user_alpha 0\n",
    "train_precision: 0.001040416187606752, test_precision: 0.0015678590862080455\n",
    "no_comp: 10, loss: bpr, learn_r: 0.1, item_alpha 0, user_alpha 0.1\n",
    "train_precision: 0.002961184596642852, test_precision: 0.0021558059379458427\n",
    "no_comp: 10, loss: bpr, learn_r: 0.1, item_alpha 0, user_alpha 0.5\n",
    "train_precision: 0.0008003201219253242, test_precision: 0.0004899558844044805\n",
    "no_comp: 10, loss: bpr, learn_r: 0.1, item_alpha 0, user_alpha 1\n",
    "train_precision: 0.0019207684090361, test_precision: 0.0008819206850603223\n",
    "no_comp: 10, loss: bpr, learn_r: 0.1, item_alpha 0.1, user_alpha 0\n",
    "train_precision: 0.00104041607119143, test_precision: 0.0015678590862080455\n",
    "no_comp: 10, loss: bpr, learn_r: 0.1, item_alpha 0.1, user_alpha 0.1\n",
    "train_precision: 0.004641856532543898, test_precision: 0.0006859382847324014\n",
    "no_comp: 10, loss: bpr, learn_r: 0.1, item_alpha 0.1, user_alpha 0.5\n",
    "train_precision: 0.0032813125289976597, test_precision: 0.003527682740241289\n",
    "no_comp: 10, loss: bpr, learn_r: 0.1, item_alpha 0.1, user_alpha 1\n",
    "train_precision: 0.0004001600609626621, test_precision: 0.0010779029689729214\n",
    "no_comp: 10, loss: bpr, learn_r: 0.1, item_alpha 0.5, user_alpha 0\n",
    "train_precision: 0.00016006402438506484, test_precision: 0.000979911768808961\n",
    "no_comp: 10, loss: bpr, learn_r: 0.1, item_alpha 0.5, user_alpha 0.1\n",
    "train_precision: 0.00016006402438506484, test_precision: 0.002253797138109803\n",
    "no_comp: 10, loss: bpr, learn_r: 0.1, item_alpha 0.5, user_alpha 0.5\n",
    "train_precision: 8.003201219253242e-05, test_precision: 0.0\n",
    "no_comp: 10, loss: bpr, learn_r: 0.1, item_alpha 0.5, user_alpha 1\n",
    "train_precision: 0.00096038420451805, test_precision: 9.799118561204523e-05\n",
    "no_comp: 10, loss: bpr, learn_r: 0.1, item_alpha 1, user_alpha 0\n",
    "train_precision: 0.0003201280487701297, test_precision: 0.0015678589697927237\n",
    "no_comp: 10, loss: bpr, learn_r: 0.1, item_alpha 1, user_alpha 0.1\n",
    "train_precision: 8.003201219253242e-05, test_precision: 0.002253797138109803\n",
    "no_comp: 10, loss: bpr, learn_r: 0.1, item_alpha 1, user_alpha 0.5\n",
    "train_precision: 8.003201219253242e-05, test_precision: 0.0\n",
    "\n",
    "\n",
    "no_comp: 20, loss: bpr, learn_r: 0, item_alpha 0, user_alpha 0\n",
    "train_precision: 0.00096038420451805, test_precision: 0.0004899558844044805\n",
    "no_comp: 20, loss: bpr, learn_r: 0, item_alpha 0, user_alpha 0.1\n",
    "train_precision: 0.00096038420451805, test_precision: 0.0004899558844044805\n",
    "no_comp: 20, loss: bpr, learn_r: 0, item_alpha 0, user_alpha 0.5\n",
    "train_precision: 0.00096038420451805, test_precision: 0.0004899558844044805\n",
    "no_comp: 20, loss: bpr, learn_r: 0, item_alpha 0, user_alpha 1\n",
    "train_precision: 0.00096038420451805, test_precision: 0.0004899558844044805\n",
    "no_comp: 20, loss: bpr, learn_r: 0, item_alpha 0.1, user_alpha 0\n",
    "train_precision: 0.00096038420451805, test_precision: 0.0004899558844044805\n",
    "no_comp: 20, loss: bpr, learn_r: 0, item_alpha 0.1, user_alpha 0.1\n",
    "train_precision: 0.00096038420451805, test_precision: 0.0004899558844044805\n",
    "no_comp: 20, loss: bpr, learn_r: 0, item_alpha 0.1, user_alpha 0.5\n",
    "train_precision: 0.00096038420451805, test_precision: 0.0004899558844044805\n",
    "no_comp: 20, loss: bpr, learn_r: 0, item_alpha 0.1, user_alpha 1\n",
    "train_precision: 0.00096038420451805, test_precision: 0.0004899558844044805\n",
    "no_comp: 20, loss: bpr, learn_r: 0, item_alpha 0.5, user_alpha 0\n",
    "train_precision: 0.00096038420451805, test_precision: 0.0004899558844044805\n",
    "no_comp: 20, loss: bpr, learn_r: 0, item_alpha 0.5, user_alpha 0.1\n",
    "train_precision: 0.00096038420451805, test_precision: 0.0004899558844044805\n",
    "no_comp: 20, loss: bpr, learn_r: 0, item_alpha 0.5, user_alpha 0.5\n",
    "train_precision: 0.00096038420451805, test_precision: 0.0004899558844044805\n",
    "no_comp: 20, loss: bpr, learn_r: 0, item_alpha 0.5, user_alpha 1\n",
    "train_precision: 0.00096038420451805, test_precision: 0.0004899558844044805\n",
    "no_comp: 20, loss: bpr, learn_r: 0, item_alpha 1, user_alpha 0\n",
    "train_precision: 0.00096038420451805, test_precision: 0.0004899558844044805\n",
    "no_comp: 20, loss: bpr, learn_r: 0, item_alpha 1, user_alpha 0.1\n",
    "train_precision: 0.00096038420451805, test_precision: 0.0004899558844044805\n",
    "no_comp: 20, loss: bpr, learn_r: 0, item_alpha 1, user_alpha 0.5\n",
    "train_precision: 0.00096038420451805, test_precision: 0.0004899558844044805\n",
    "no_comp: 20, loss: bpr, learn_r: 0, item_alpha 1, user_alpha 1\n",
    "train_precision: 0.00096038420451805, test_precision: 0.0004899558844044805\n",
    "no_comp: 20, loss: bpr, learn_r: 0.05, item_alpha 0, user_alpha 0\n",
    "train_precision: 0.0013605442363768816, test_precision: 0.0011758941691368818\n",
    "no_comp: 20, loss: bpr, learn_r: 0.05, item_alpha 0, user_alpha 0.1\n",
    "train_precision: 0.00104041607119143, test_precision: 0.003821656107902527\n",
    "no_comp: 20, loss: bpr, learn_r: 0.05, item_alpha 0, user_alpha 0.5\n",
    "train_precision: 0.007843137718737125, test_precision: 9.799118561204523e-05\n",
    "no_comp: 20, loss: bpr, learn_r: 0.05, item_alpha 0, user_alpha 1\n",
    "train_precision: 0.0005602241144515574, test_precision: 0.0013718765694648027\n",
    "no_comp: 20, loss: bpr, learn_r: 0.05, item_alpha 0.1, user_alpha 0\n",
    "train_precision: 0.0006402560975402594, test_precision: 0.0023517883382737637\n",
    "no_comp: 20, loss: bpr, learn_r: 0.05, item_alpha 0.1, user_alpha 0.1\n",
    "train_precision: 0.0, test_precision: 0.0011758941691368818\n",
    "no_comp: 20, loss: bpr, learn_r: 0.05, item_alpha 0.1, user_alpha 0.5\n",
    "train_precision: 0.0, test_precision: 0.0015678589697927237\n",
    "no_comp: 20, loss: bpr, learn_r: 0.05, item_alpha 0.1, user_alpha 1\n",
    "train_precision: 0.0, test_precision: 0.0006859382847324014\n",
    "no_comp: 20, loss: bpr, learn_r: 0.05, item_alpha 0.5, user_alpha 0\n",
    "train_precision: 0.0003201280487701297, test_precision: 0.0016658501699566841\n",
    "no_comp: 20, loss: bpr, learn_r: 0.05, item_alpha 0.5, user_alpha 0.1\n",
    "train_precision: 0.00016006402438506484, test_precision: 0.0007839294848963618\n",
    "no_comp: 20, loss: bpr, learn_r: 0.05, item_alpha 0.5, user_alpha 0.5\n",
    "train_precision: 0.002641056664288044, test_precision: 0.0012738852528855205\n",
    "no_comp: 20, loss: bpr, learn_r: 0.05, item_alpha 0.5, user_alpha 1\n",
    "train_precision: 0.0002400960511295125, test_precision: 0.0008819206268526614\n",
    "no_comp: 20, loss: bpr, learn_r: 0.05, item_alpha 1, user_alpha 0\n",
    "train_precision: 0.002160864183679223, test_precision: 0.0011758941691368818\n",
    "no_comp: 20, loss: bpr, learn_r: 0.05, item_alpha 1, user_alpha 0.1\n",
    "train_precision: 0.00096038420451805, test_precision: 0.0016658501699566841\n",
    "no_comp: 20, loss: bpr, learn_r: 0.05, item_alpha 1, user_alpha 0.5\n",
    "train_precision: 0.018727490678429604, test_precision: 0.000979911768808961\n",
    "no_comp: 20, loss: bpr, learn_r: 0.05, item_alpha 1, user_alpha 1\n",
    "train_precision: 0.002240896224975586, test_precision: 0.0013718765694648027\n",
    "no_comp: 20, loss: bpr, learn_r: 0.1, item_alpha 0, user_alpha 0\n",
    "train_precision: 0.00096038420451805, test_precision: 0.0017638413701206446\n",
    "no_comp: 20, loss: bpr, learn_r: 0.1, item_alpha 0, user_alpha 0.1\n",
    "train_precision: 0.0022408964578062296, test_precision: 0.0010779029689729214\n",
    "no_comp: 20, loss: bpr, learn_r: 0.1, item_alpha 0, user_alpha 0.5\n",
    "train_precision: 0.006162464618682861, test_precision: 0.0017638413701206446\n",
    "no_comp: 20, loss: bpr, learn_r: 0.1, item_alpha 0, user_alpha 1\n",
    "train_precision: 0.0040816329419612885, test_precision: 0.0008819206850603223\n",
    "no_comp: 20, loss: bpr, learn_r: 0.1, item_alpha 0.1, user_alpha 0\n",
    "train_precision: 8.003201219253242e-05, test_precision: 0.0011758941691368818\n",
    "no_comp: 20, loss: bpr, learn_r: 0.1, item_alpha 0.1, user_alpha 0.1\n",
    "train_precision: 0.0011204482289031148, test_precision: 0.0018618324538692832\n",
    "no_comp: 20, loss: bpr, learn_r: 0.1, item_alpha 0.1, user_alpha 0.5\n",
    "train_precision: 0.03825530409812927, test_precision: 0.0006859382847324014\n",
    "no_comp: 20, loss: bpr, learn_r: 0.1, item_alpha 0.1, user_alpha 1\n",
    "train_precision: 0.00016006402438506484, test_precision: 0.0006859382847324014\n",
    "no_comp: 20, loss: bpr, learn_r: 0.1, item_alpha 0.5, user_alpha 0\n",
    "train_precision: 0.0013605442363768816, test_precision: 0.0011758941691368818\n",
    "no_comp: 20, loss: bpr, learn_r: 0.1, item_alpha 0.5, user_alpha 0.1\n",
    "train_precision: 0.0004001600609626621, test_precision: 0.0008819206268526614\n",
    "no_comp: 20, loss: bpr, learn_r: 0.1, item_alpha 0.5, user_alpha 0.5\n",
    "train_precision: 0.018007202073931694, test_precision: 0.0012738852528855205\n",
    "no_comp: 20, loss: bpr, learn_r: 0.1, item_alpha 0.5, user_alpha 1\n",
    "train_precision: 0.0022408964578062296, test_precision: 0.0013718765694648027\n",
    "\n",
    "no_comp: 30, loss: bpr, learn_r: 0.05, item_alpha 0, user_alpha 0\n",
    "train_precision: 0.0012004801537841558, test_precision: 0.0010779029689729214\n",
    "no_comp: 30, loss: bpr, learn_r: 0.05, item_alpha 0, user_alpha 0.1\n",
    "train_precision: 0.0012004801537841558, test_precision: 0.0016658501699566841\n",
    "no_comp: 30, loss: bpr, learn_r: 0.05, item_alpha 0, user_alpha 0.5\n",
    "train_precision: 0.002561024622991681, test_precision: 0.0010779029689729214\n",
    "no_comp: 30, loss: bpr, learn_r: 0.05, item_alpha 0, user_alpha 0.9\n",
    "train_precision: 0.0024009605403989553, test_precision: 0.0021558059379458427\n",
    "no_comp: 30, loss: bpr, learn_r: 0.05, item_alpha 0.1, user_alpha 0\n",
    "train_precision: 0.00016006402438506484, test_precision: 0.0006859382265247405\n",
    "no_comp: 30, loss: bpr, learn_r: 0.05, item_alpha 0.1, user_alpha 0.1\n",
    "train_precision: 0.0, test_precision: 0.0011758941691368818\n",
    "no_comp: 30, loss: bpr, learn_r: 0.05, item_alpha 0.1, user_alpha 0.5\n",
    "train_precision: 0.0, test_precision: 0.0006859382847324014\n",
    "no_comp: 30, loss: bpr, learn_r: 0.05, item_alpha 0.1, user_alpha 0.9\n",
    "train_precision: 0.0, test_precision: 0.0\n",
    "no_comp: 30, loss: bpr, learn_r: 0.05, item_alpha 0.5, user_alpha 0\n",
    "train_precision: 0.0004001600609626621, test_precision: 0.0017638412537053227\n",
    "no_comp: 30, loss: bpr, learn_r: 0.05, item_alpha 0.5, user_alpha 0.1\n",
    "train_precision: 0.0035214086528867483, test_precision: 0.0015678589697927237\n",
    "no_comp: 30, loss: bpr, learn_r: 0.05, item_alpha 0.5, user_alpha 0.5\n",
    "train_precision: 0.0035214086528867483, test_precision: 0.0010779029689729214\n",
    "no_comp: 30, loss: bpr, learn_r: 0.05, item_alpha 0.5, user_alpha 0.9\n",
    "train_precision: 0.050340138375759125, test_precision: 0.0021558059379458427\n",
    "no_comp: 30, loss: bpr, learn_r: 0.05, item_alpha 0.9, user_alpha 0\n",
    "train_precision: 0.0011204482289031148, test_precision: 0.0010779029689729214\n",
    "no_comp: 30, loss: bpr, learn_r: 0.05, item_alpha 0.9, user_alpha 0.1\n",
    "train_precision: 0.0035214086528867483, test_precision: 0.0010779029689729214\n",
    "no_comp: 30, loss: bpr, learn_r: 0.05, item_alpha 0.9, user_alpha 0.5\n",
    "train_precision: 0.004241697024554014, test_precision: 0.0008819206850603223\n",
    "no_comp: 30, loss: bpr, learn_r: 0.05, item_alpha 0.9, user_alpha 0.9\n",
    "train_precision: 0.0022408964578062296, test_precision: 0.0008819206850603223\n",
    "no_comp: 30, loss: bpr, learn_r: 0.5, item_alpha 0, user_alpha 0\n",
    "train_precision: 0.010324129834771156, test_precision: 0.002645761938765645\n",
    "no_comp: 30, loss: bpr, learn_r: 0.5, item_alpha 0, user_alpha 0.1\n",
    "train_precision: 0.009683873504400253, test_precision: 0.0007839294848963618\n",
    "no_comp: 30, loss: bpr, learn_r: 0.5, item_alpha 0, user_alpha 0.5\n",
    "train_precision: 0.0021608644165098667, test_precision: 0.0010779029689729214\n",
    "no_comp: 30, loss: bpr, learn_r: 0.5, item_alpha 0, user_alpha 0.9\n",
    "train_precision: 8.003201219253242e-05, test_precision: 0.000979911768808961\n",
    "no_comp: 30, loss: bpr, learn_r: 0.5, item_alpha 0.1, user_alpha 0\n",
    "train_precision: 0.0016006402438506484, test_precision: 0.0008819206268526614\n",
    "no_comp: 30, loss: bpr, learn_r: 0.5, item_alpha 0.1, user_alpha 0.1\n",
    "train_precision: 0.005282113328576088, test_precision: 0.0008819206850603223\n",
    "no_comp: 30, loss: bpr, learn_r: 0.5, item_alpha 0.1, user_alpha 0.5\n",
    "train_precision: 0.00016006402438506484, test_precision: 0.0010779029689729214\n",
    "no_comp: 30, loss: bpr, learn_r: 0.5, item_alpha 0.1, user_alpha 0.9\n",
    "train_precision: 0.03257302939891815, test_precision: 0.00029397354228422046"
   ]
  }
 ],
 "metadata": {
  "kernelspec": {
   "display_name": "Python 3",
   "language": "python",
   "name": "python3"
  },
  "language_info": {
   "codemirror_mode": {
    "name": "ipython",
    "version": 3
   },
   "file_extension": ".py",
   "mimetype": "text/x-python",
   "name": "python",
   "nbconvert_exporter": "python",
   "pygments_lexer": "ipython3",
   "version": "3.8.5"
  }
 },
 "nbformat": 4,
 "nbformat_minor": 2
}
