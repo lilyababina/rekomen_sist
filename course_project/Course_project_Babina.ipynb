{
 "cells": [
  {
   "cell_type": "markdown",
   "metadata": {},
   "source": [
    "Основное\n",
    "\n",
    "\n",
    "- Дедлайн - 8 мая 23:59\n",
    "- Целевая метрика precision@5\n",
    "- Бейзлайн решения - MainRecommender\n",
    "- Сдаем ссылку на github с решением. В решении должны быть отчетливо видна метрика на новом тестовом сете из файла retail_test1.csv, то есть вам нужно для всех юзеров из этого файла выдать выши рекомендации, и посчитать на actual покупках precision@5.\n",
    "\n",
    "\n",
    "!! Мы не рассматриваем холодный старт для пользователя, все наши пользователя одинаковы во всех сетах, поэтому нужно позаботиться об их исключении из теста.\n",
    "Hints:\n",
    "Сначала просто попробуйте разные параметры MainRecommender:\n",
    "- N в топ-N товарах при формировании user-item матирцы (сейчас топ-5000)\n",
    "- Различные веса в user-item матрице (0/1, кол-во покупок, log(кол-во покупок + 1), сумма покупки, ...)\n",
    "- Разные взвешивания матрицы (TF-IDF, BM25 - у него есть параметры)\n",
    "- Разные смешивания рекомендаций (обратите внимание на бейзлайн - прошлые покупки юзера)\n",
    "\n",
    "Сделайте MVP - минимально рабочий продукт - (пусть даже top-popular), а потом его улучшайте\n",
    "Если вы делаете двухуровневую модель - следите за валидацией"
   ]
  },
  {
   "cell_type": "markdown",
   "metadata": {},
   "source": [
    "## Import libs"
   ]
  },
  {
   "cell_type": "code",
   "execution_count": 1,
   "metadata": {},
   "outputs": [],
   "source": [
    "import pandas as pd\n",
    "import numpy as np\n",
    "import matplotlib.pyplot as plt\n",
    "%matplotlib inline\n",
    "\n",
    "# Для работы с матрицами\n",
    "from scipy.sparse import csr_matrix\n",
    "\n",
    "# Матричная факторизация\n",
    "from implicit import als\n",
    "\n",
    "# Модель второго уровня\n",
    "from lightgbm import LGBMClassifier\n",
    "\n",
    "import os, sys\n",
    "module_path = os.path.abspath(os.path.join(os.pardir))\n",
    "if module_path not in sys.path:\n",
    "    sys.path.append(module_path)\n",
    "\n",
    "# Написанные нами функции\n",
    "from src.metrics import precision_at_k, recall_at_k\n",
    "from src.utils import prefilter_items\n",
    "from src.recommenders import MainRecommender\n",
    "\n",
    "from catboost import CatBoostClassifier, Pool\n",
    "import warnings\n",
    "warnings.simplefilter('ignore')\n",
    "warnings.filterwarnings('ignore')"
   ]
  },
  {
   "cell_type": "markdown",
   "metadata": {},
   "source": [
    "## Other Functions"
   ]
  },
  {
   "cell_type": "code",
   "execution_count": 4,
   "metadata": {},
   "outputs": [],
   "source": [
    "N_PREDICT = 50 \n",
    "def make_df_result(df):\n",
    "    df_result = df.groupby(USER_COL)[ITEM_COL].unique().reset_index()\n",
    "    df_result.columns=[USER_COL, ACTUAL_COL]\n",
    "    return df_result\n",
    "# функция для получения рекомендаций\n",
    "def make_df_recs(df_result, names_rec, list_models, N=N_PREDICT):\n",
    "    for i in range(len(names_rec)):\n",
    "        recommend_model = list_models[i]\n",
    "        df_result[names_rec[i]] = df_result[USER_COL].apply(lambda x: recommend_model(x, N))\n",
    "def calc_precision(df_data, top_k):\n",
    "    for col_name in df_data.columns[2:]:\n",
    "        yield col_name, df_data.apply(lambda row: precision_at_k(row[col_name], row[ACTUAL_COL], k=top_k), axis=1).mean()\n",
    "def calc_recall(df_data, top_k):\n",
    "    for col_name in df_data.columns[2:]:\n",
    "        yield col_name, df_data.apply(lambda row: recall_at_k(row[col_name], row[ACTUAL_COL], k=top_k), axis=1).mean()\n",
    "def rerank(user_id):\n",
    "    return df_ranker_predict[df_ranker_predict[USER_COL]==user_id].sort_values('proba_item_purchase', ascending=False).head(5).item_id.tolist()"
   ]
  },
  {
   "cell_type": "code",
   "execution_count": 5,
   "metadata": {},
   "outputs": [],
   "source": [
    "def make_3_df(data, VAL_MATCHER_WEEKS, VAL_RANKER_WEEKS):\n",
    "    data_train_matcher = data[data['week_no'] < data['week_no'].max() - (VAL_MATCHER_WEEKS + VAL_RANKER_WEEKS)]\n",
    "    data_val_matcher = data[(data['week_no'] >= data['week_no'].max() - (VAL_MATCHER_WEEKS + VAL_RANKER_WEEKS)) &\n",
    "                      (data['week_no'] < data['week_no'].max() - (VAL_RANKER_WEEKS))]\n",
    "    data_train_ranker = data_val_matcher.copy()  \n",
    "    data_val_ranker = data[data['week_no'] >= data['week_no'].max() - VAL_RANKER_WEEKS]\n",
    "    return data_train_matcher, data_val_matcher, data_train_ranker, data_val_ranker"
   ]
  },
  {
   "cell_type": "code",
   "execution_count": 6,
   "metadata": {},
   "outputs": [],
   "source": [
    "def find_comm_us(data_train_matcher, data_val_matcher, data_train_ranker, data_val_ranker, df_test):\n",
    "    # ищем общих пользователей\n",
    "    common_users = list(set(data_train_matcher.user_id.values)&(set(data_val_matcher.user_id.values))&(set(data_val_ranker.user_id.values))&(set(df_test.user_id.values)))\n",
    "\n",
    "    # оставляем общих пользователей\n",
    "    data_train_matcher = data_train_matcher[data_train_matcher.user_id.isin(common_users)]\n",
    "    data_val_matcher = data_val_matcher[data_val_matcher.user_id.isin(common_users)]\n",
    "    data_train_ranker = data_train_ranker[data_train_ranker.user_id.isin(common_users)]\n",
    "    data_val_ranker = data_val_ranker[data_val_ranker.user_id.isin(common_users)]\n",
    "    df_test = df_test[df_test.user_id.isin(common_users)]\n",
    "    return data_train_matcher, data_val_matcher, data_train_ranker, data_val_ranker, df_test"
   ]
  },
  {
   "cell_type": "markdown",
   "metadata": {},
   "source": [
    "## Read data"
   ]
  },
  {
   "cell_type": "code",
   "execution_count": 9,
   "metadata": {},
   "outputs": [],
   "source": [
    "data = pd.read_csv('../webinar_2/webinar_2/data/retail_train.csv')\n",
    "item_features = pd.read_csv('../webinar_2/webinar_2/data/product.csv')\n",
    "user_features = pd.read_csv('../webinar_2/webinar_2/data/hh_demographic.csv')\n",
    "df_test = pd.read_csv('retail_test1.csv')"
   ]
  },
  {
   "cell_type": "code",
   "execution_count": 607,
   "metadata": {},
   "outputs": [
    {
     "data": {
      "text/html": [
       "<div>\n",
       "<style scoped>\n",
       "    .dataframe tbody tr th:only-of-type {\n",
       "        vertical-align: middle;\n",
       "    }\n",
       "\n",
       "    .dataframe tbody tr th {\n",
       "        vertical-align: top;\n",
       "    }\n",
       "\n",
       "    .dataframe thead th {\n",
       "        text-align: right;\n",
       "    }\n",
       "</style>\n",
       "<table border=\"1\" class=\"dataframe\">\n",
       "  <thead>\n",
       "    <tr style=\"text-align: right;\">\n",
       "      <th></th>\n",
       "      <th>user_id</th>\n",
       "      <th>basket_id</th>\n",
       "      <th>day</th>\n",
       "      <th>item_id</th>\n",
       "      <th>quantity</th>\n",
       "      <th>sales_value</th>\n",
       "      <th>store_id</th>\n",
       "      <th>retail_disc</th>\n",
       "      <th>trans_time</th>\n",
       "      <th>week_no</th>\n",
       "      <th>coupon_disc</th>\n",
       "      <th>coupon_match_disc</th>\n",
       "    </tr>\n",
       "  </thead>\n",
       "  <tbody>\n",
       "    <tr>\n",
       "      <th>0</th>\n",
       "      <td>2375</td>\n",
       "      <td>26984851472</td>\n",
       "      <td>1</td>\n",
       "      <td>1004906</td>\n",
       "      <td>1</td>\n",
       "      <td>1.39</td>\n",
       "      <td>364</td>\n",
       "      <td>-0.6</td>\n",
       "      <td>1631</td>\n",
       "      <td>1</td>\n",
       "      <td>0.0</td>\n",
       "      <td>0.0</td>\n",
       "    </tr>\n",
       "    <tr>\n",
       "      <th>1</th>\n",
       "      <td>2375</td>\n",
       "      <td>26984851472</td>\n",
       "      <td>1</td>\n",
       "      <td>1033142</td>\n",
       "      <td>1</td>\n",
       "      <td>0.82</td>\n",
       "      <td>364</td>\n",
       "      <td>0.0</td>\n",
       "      <td>1631</td>\n",
       "      <td>1</td>\n",
       "      <td>0.0</td>\n",
       "      <td>0.0</td>\n",
       "    </tr>\n",
       "  </tbody>\n",
       "</table>\n",
       "</div>"
      ],
      "text/plain": [
       "   user_id    basket_id  day  item_id  quantity  sales_value  store_id  \\\n",
       "0     2375  26984851472    1  1004906         1         1.39       364   \n",
       "1     2375  26984851472    1  1033142         1         0.82       364   \n",
       "\n",
       "   retail_disc  trans_time  week_no  coupon_disc  coupon_match_disc  \n",
       "0         -0.6        1631        1          0.0                0.0  \n",
       "1          0.0        1631        1          0.0                0.0  "
      ]
     },
     "execution_count": 607,
     "metadata": {},
     "output_type": "execute_result"
    }
   ],
   "source": [
    "data.head(2)"
   ]
  },
  {
   "cell_type": "markdown",
   "metadata": {},
   "source": [
    "# Set global const"
   ]
  },
  {
   "cell_type": "code",
   "execution_count": 3,
   "metadata": {},
   "outputs": [],
   "source": [
    "ITEM_COL = 'item_id'\n",
    "USER_COL = 'user_id'\n",
    "ACTUAL_COL = 'actual'\n",
    "\n",
    "# N = Neighbors\n",
    "N_PREDICT = 50 "
   ]
  },
  {
   "cell_type": "markdown",
   "metadata": {},
   "source": [
    "## Process features dataset"
   ]
  },
  {
   "cell_type": "code",
   "execution_count": 11,
   "metadata": {},
   "outputs": [],
   "source": [
    "# column processing\n",
    "item_features.columns = [col.lower() for col in item_features.columns]\n",
    "user_features.columns = [col.lower() for col in user_features.columns]\n",
    "\n",
    "item_features.rename(columns={'product_id': ITEM_COL}, inplace=True)\n",
    "user_features.rename(columns={'household_key': USER_COL }, inplace=True)"
   ]
  },
  {
   "cell_type": "code",
   "execution_count": 12,
   "metadata": {},
   "outputs": [
    {
     "data": {
      "text/plain": [
       "801"
      ]
     },
     "execution_count": 12,
     "metadata": {},
     "output_type": "execute_result"
    }
   ],
   "source": [
    "user_features['user_id'].nunique()"
   ]
  },
  {
   "cell_type": "code",
   "execution_count": 13,
   "metadata": {},
   "outputs": [
    {
     "data": {
      "text/plain": [
       "95"
      ]
     },
     "execution_count": 13,
     "metadata": {},
     "output_type": "execute_result"
    }
   ],
   "source": [
    "data['week_no'].nunique()"
   ]
  },
  {
   "cell_type": "markdown",
   "metadata": {},
   "source": [
    "# Split dataset for train, eval, test"
   ]
  },
  {
   "cell_type": "code",
   "execution_count": 577,
   "metadata": {},
   "outputs": [],
   "source": [
    "# Важна схема обучения и валидации!\n",
    "# -- давние покупки -- | .-- ? недель -- | -- ? недель -- \n",
    "# подобрать размер 2-ого датасета (? недель) --> learning curve (зависимость метрики recall@k от размера датасета)\n",
    "VAL_MATCHER_WEEKS = 8\n",
    "VAL_RANKER_WEEKS = 1\n",
    "data_train_matcher, data_val_matcher, data_train_ranker, data_val_ranker = make_3_df(data, VAL_MATCHER_WEEKS, VAL_RANKER_WEEKS)\n"
   ]
  },
  {
   "cell_type": "code",
   "execution_count": 578,
   "metadata": {},
   "outputs": [
    {
     "name": "stdout",
     "output_type": "stream",
     "text": [
      "Decreased # items from 83685 to 4001\n"
     ]
    }
   ],
   "source": [
    "n_items_before = data_train_matcher['item_id'].nunique()\n",
    "data_train_matcher = prefilter_items(data_train_matcher, item_features=item_features, take_n_popular=4000)\n",
    "n_items_after = data_train_matcher['item_id'].nunique()\n",
    "print('Decreased # items from {} to {}'.format(n_items_before, n_items_after))"
   ]
  },
  {
   "cell_type": "markdown",
   "metadata": {},
   "source": [
    "# Make cold-start to warm-start"
   ]
  },
  {
   "cell_type": "code",
   "execution_count": 579,
   "metadata": {},
   "outputs": [],
   "source": [
    "# ищем и остовляем общих пользователей\n",
    "data_train_matcher, data_val_matcher, data_train_ranker, data_val_ranker, df_test = find_comm_us(data_train_matcher, data_val_matcher, data_train_ranker, data_val_ranker, df_test)\n",
    "            "
   ]
  },
  {
   "cell_type": "markdown",
   "metadata": {},
   "source": [
    "# Init/train recommender"
   ]
  },
  {
   "cell_type": "code",
   "execution_count": 580,
   "metadata": {},
   "outputs": [
    {
     "data": {
      "application/vnd.jupyter.widget-view+json": {
       "model_id": "060f7f8973904081942d109b0fe86db3",
       "version_major": 2,
       "version_minor": 0
      },
      "text/plain": [
       "HBox(children=(HTML(value=''), FloatProgress(value=0.0, max=15.0), HTML(value='')))"
      ]
     },
     "metadata": {},
     "output_type": "display_data"
    },
    {
     "name": "stdout",
     "output_type": "stream",
     "text": [
      "\n"
     ]
    },
    {
     "data": {
      "application/vnd.jupyter.widget-view+json": {
       "model_id": "cdf236da71a4498f9198830a851f628a",
       "version_major": 2,
       "version_minor": 0
      },
      "text/plain": [
       "HBox(children=(HTML(value=''), FloatProgress(value=0.0, max=4000.0), HTML(value='')))"
      ]
     },
     "metadata": {},
     "output_type": "display_data"
    },
    {
     "name": "stdout",
     "output_type": "stream",
     "text": [
      "\n"
     ]
    }
   ],
   "source": [
    "recommender = MainRecommender(data_train_matcher)"
   ]
  },
  {
   "cell_type": "markdown",
   "metadata": {},
   "source": [
    "## Eval recall of matching"
   ]
  },
  {
   "cell_type": "code",
   "execution_count": 582,
   "metadata": {},
   "outputs": [],
   "source": [
    "# подготовим датафрейм с данными о фактических покупках\n",
    "result_eval_matcher = make_df_result(data_val_matcher)\n",
    "#result_eval_matcher.head(2)\n",
    "names_rec = ['own_rec']\n",
    "list_models = [recommender.get_own_recommendations ]\n",
    "make_df_recs(result_eval_matcher, names_rec, list_models, N=N_PREDICT)\n",
    "#result_eval_matcher.head(2)"
   ]
  },
  {
   "cell_type": "code",
   "execution_count": 583,
   "metadata": {},
   "outputs": [
    {
     "data": {
      "text/plain": [
       "[('own_rec', 0.258705035971223)]"
      ]
     },
     "execution_count": 583,
     "metadata": {},
     "output_type": "execute_result"
    }
   ],
   "source": [
    "#смотрим precision@5\n",
    "sorted(calc_precision(result_eval_matcher, 5), key=lambda x: x[1],reverse=True)"
   ]
  },
  {
   "cell_type": "code",
   "execution_count": 584,
   "metadata": {},
   "outputs": [
    {
     "data": {
      "text/plain": [
       "[('own_rec', 0.015704528590766296)]"
      ]
     },
     "execution_count": 584,
     "metadata": {},
     "output_type": "execute_result"
    }
   ],
   "source": [
    "#смотрим recall@5\n",
    "sorted(calc_recall(result_eval_matcher, 5), key=lambda x: x[1],reverse=True)"
   ]
  },
  {
   "cell_type": "code",
   "execution_count": 585,
   "metadata": {},
   "outputs": [
    {
     "data": {
      "text/plain": [
       "[('own_rec', 0.14517985611510792)]"
      ]
     },
     "execution_count": 585,
     "metadata": {},
     "output_type": "execute_result"
    }
   ],
   "source": [
    "# подготовим датафрейм с данными о фактических покупках\n",
    "result_test = make_df_result(df_test)\n",
    "#result_test.head(2)\n",
    "names_rec = ['own_rec' ]\n",
    "list_models = [recommender.get_own_recommendations]\n",
    "\n",
    "make_df_recs(result_test, names_rec, list_models, N=N_PREDICT)\n",
    "#смотрим precision@5\n",
    "sorted(calc_precision(result_test, 5), key=lambda x: x[1],reverse=True)"
   ]
  },
  {
   "cell_type": "code",
   "execution_count": 586,
   "metadata": {},
   "outputs": [
    {
     "data": {
      "text/plain": [
       "[('own_rec', 0.019192918234939283)]"
      ]
     },
     "execution_count": 586,
     "metadata": {},
     "output_type": "execute_result"
    }
   ],
   "source": [
    "#смотрим recall@5\n",
    "sorted(calc_recall(result_test, 5), key=lambda x: x[1],reverse=True)"
   ]
  },
  {
   "cell_type": "markdown",
   "metadata": {},
   "source": [
    "# Ranking part "
   ]
  },
  {
   "cell_type": "code",
   "execution_count": 587,
   "metadata": {},
   "outputs": [],
   "source": [
    "# взяли пользователей из трейна для ранжирования\n",
    "df_match_candidates = pd.DataFrame(data_train_ranker[USER_COL].unique())\n",
    "df_match_candidates.columns = [USER_COL]"
   ]
  },
  {
   "cell_type": "code",
   "execution_count": 588,
   "metadata": {},
   "outputs": [],
   "source": [
    "# собираем кандитатов с первого этапа (matcher)\n",
    "df_match_candidates['candidates'] = df_match_candidates[USER_COL].apply(lambda x: recommender.get_own_recommendations(x, N=N_PREDICT))"
   ]
  },
  {
   "cell_type": "code",
   "execution_count": 589,
   "metadata": {},
   "outputs": [],
   "source": [
    "names_rec = ['sim_item_rec', 'als_rec','sim_user_rec']\n",
    "list_models = [recommender.get_similar_items_recommendation, recommender.get_als_recommendations, \n",
    "               recommender.get_similar_users_recommendation]\n",
    "\n",
    "make_df_recs(df_match_candidates, names_rec, list_models, N=N_PREDICT)"
   ]
  },
  {
   "cell_type": "code",
   "execution_count": 590,
   "metadata": {},
   "outputs": [],
   "source": [
    "#собираем кандидатов объединением разных рекоммендаций и добавляем 1 из топ\n",
    "df_match_candidates['candidates'] = df_match_candidates['user_id'].apply(lambda x: list(df_match_candidates[df_match_candidates['user_id']==x]['candidates'])[0]+\n",
    "                                                                        list(df_match_candidates[df_match_candidates['user_id']==x]['sim_item_rec'])[0]+\n",
    "                                                                        list(df_match_candidates[df_match_candidates['user_id']==x]['als_rec'])[0]+\n",
    "                                                                        list(list(result_eval_matcher[result_eval_matcher['user_id']==x]['actual'])[0])[:1]+\n",
    "                                                                        list(df_match_candidates[df_match_candidates['user_id']==x]['sim_user_rec'])[0]\n",
    "                                                                        )\n",
    "# разворачиваем товары\n",
    "df_items = df_match_candidates.apply(lambda x: pd.Series(x['candidates']), axis=1).stack().reset_index(level=1, drop=True)\n",
    "df_items.name = 'item_id'\n",
    "df_match_candidates = df_match_candidates.drop(['candidates', 'sim_item_rec','als_rec', 'sim_user_rec'], axis=1).join(df_items)\n",
    "#df_match_candidates.head(3)\n",
    "df_ranker_train = data_train_ranker[[USER_COL, ITEM_COL]].copy()\n",
    "df_ranker_train['target'] = 1  # тут только покупки\n",
    "df_ranker_train = df_match_candidates.merge(df_ranker_train, on=[USER_COL, ITEM_COL], how='left')\n",
    "df_ranker_train['target'].fillna(0, inplace= True)"
   ]
  },
  {
   "cell_type": "markdown",
   "metadata": {},
   "source": [
    "# Новые фичи"
   ]
  },
  {
   "cell_type": "code",
   "execution_count": 591,
   "metadata": {},
   "outputs": [],
   "source": [
    "df_join_train_matcher = pd.concat([data_train_matcher, data_val_matcher])"
   ]
  },
  {
   "cell_type": "markdown",
   "metadata": {},
   "source": [
    "## Подготавливаем фичи для обучения модели"
   ]
  },
  {
   "cell_type": "code",
   "execution_count": 592,
   "metadata": {},
   "outputs": [
    {
     "data": {
      "text/html": [
       "<div>\n",
       "<style scoped>\n",
       "    .dataframe tbody tr th:only-of-type {\n",
       "        vertical-align: middle;\n",
       "    }\n",
       "\n",
       "    .dataframe tbody tr th {\n",
       "        vertical-align: top;\n",
       "    }\n",
       "\n",
       "    .dataframe thead th {\n",
       "        text-align: right;\n",
       "    }\n",
       "</style>\n",
       "<table border=\"1\" class=\"dataframe\">\n",
       "  <thead>\n",
       "    <tr style=\"text-align: right;\">\n",
       "      <th></th>\n",
       "      <th>user_id</th>\n",
       "      <th>item_id</th>\n",
       "      <th>target</th>\n",
       "      <th>manufacturer</th>\n",
       "      <th>department</th>\n",
       "      <th>brand</th>\n",
       "      <th>commodity_desc</th>\n",
       "      <th>sub_commodity_desc</th>\n",
       "      <th>curr_size_of_product</th>\n",
       "      <th>age_desc</th>\n",
       "      <th>marital_status_code</th>\n",
       "      <th>income_desc</th>\n",
       "      <th>homeowner_desc</th>\n",
       "      <th>hh_comp_desc</th>\n",
       "      <th>household_size_desc</th>\n",
       "      <th>kid_category_desc</th>\n",
       "    </tr>\n",
       "  </thead>\n",
       "  <tbody>\n",
       "    <tr>\n",
       "      <th>0</th>\n",
       "      <td>2070</td>\n",
       "      <td>1105426</td>\n",
       "      <td>0.0</td>\n",
       "      <td>69.0</td>\n",
       "      <td>DELI</td>\n",
       "      <td>Private</td>\n",
       "      <td>SANDWICHES</td>\n",
       "      <td>SANDWICHES - (COLD)</td>\n",
       "      <td></td>\n",
       "      <td>45-54</td>\n",
       "      <td>U</td>\n",
       "      <td>50-74K</td>\n",
       "      <td>Unknown</td>\n",
       "      <td>Unknown</td>\n",
       "      <td>1</td>\n",
       "      <td>None/Unknown</td>\n",
       "    </tr>\n",
       "    <tr>\n",
       "      <th>1</th>\n",
       "      <td>2070</td>\n",
       "      <td>879194</td>\n",
       "      <td>0.0</td>\n",
       "      <td>69.0</td>\n",
       "      <td>DRUG GM</td>\n",
       "      <td>Private</td>\n",
       "      <td>DIAPERS &amp; DISPOSABLES</td>\n",
       "      <td>BABY DIAPERS</td>\n",
       "      <td>14 CT</td>\n",
       "      <td>45-54</td>\n",
       "      <td>U</td>\n",
       "      <td>50-74K</td>\n",
       "      <td>Unknown</td>\n",
       "      <td>Unknown</td>\n",
       "      <td>1</td>\n",
       "      <td>None/Unknown</td>\n",
       "    </tr>\n",
       "  </tbody>\n",
       "</table>\n",
       "</div>"
      ],
      "text/plain": [
       "   user_id  item_id  target  manufacturer department    brand  \\\n",
       "0     2070  1105426     0.0          69.0       DELI  Private   \n",
       "1     2070   879194     0.0          69.0    DRUG GM  Private   \n",
       "\n",
       "          commodity_desc   sub_commodity_desc curr_size_of_product age_desc  \\\n",
       "0             SANDWICHES  SANDWICHES - (COLD)                         45-54   \n",
       "1  DIAPERS & DISPOSABLES         BABY DIAPERS                14 CT    45-54   \n",
       "\n",
       "  marital_status_code income_desc homeowner_desc hh_comp_desc  \\\n",
       "0                   U      50-74K        Unknown      Unknown   \n",
       "1                   U      50-74K        Unknown      Unknown   \n",
       "\n",
       "  household_size_desc kid_category_desc  \n",
       "0                   1      None/Unknown  \n",
       "1                   1      None/Unknown  "
      ]
     },
     "execution_count": 592,
     "metadata": {},
     "output_type": "execute_result"
    }
   ],
   "source": [
    "df_ranker_train = df_ranker_train.merge(item_features, on='item_id', how='left')\n",
    "df_ranker_train = df_ranker_train.merge(user_features, on='user_id', how='left')\n",
    "\n",
    "df_ranker_train.head(2)"
   ]
  },
  {
   "cell_type": "markdown",
   "metadata": {},
   "source": [
    "### Поведенческие фичи\n",
    "\n",
    "##### Чтобы считать поведенческие фичи, нужно учесть все данные что были до data_val_ranker"
   ]
  },
  {
   "cell_type": "code",
   "execution_count": 593,
   "metadata": {},
   "outputs": [],
   "source": [
    "#сумма продаж по item\n",
    "df_ranker_train = df_ranker_train.merge(df_join_train_matcher.groupby(by=ITEM_COL).agg('sales_value').sum().rename('total_item_sales_value'), how='left',on=ITEM_COL)\n",
    "#суммарный объем по item\n",
    "df_ranker_train = df_ranker_train.merge(df_join_train_matcher.groupby(by=ITEM_COL).agg('quantity').sum().rename('total_quantity_value'), how='left',on=ITEM_COL)\n",
    "#количество юзеров, которые купили item\n",
    "df_ranker_train = df_ranker_train.merge(df_join_train_matcher.groupby(by=ITEM_COL).agg(USER_COL).count().rename('item_freq'), how='left',on=ITEM_COL)\n",
    "#частота появления юзера\n",
    "df_ranker_train = df_ranker_train.merge(df_join_train_matcher.groupby(by=USER_COL).agg(USER_COL).count().rename('user_freq'), how='left',on=USER_COL)\n",
    "#суммарные продажи по юзеру\n",
    "df_ranker_train = df_ranker_train.merge(df_join_train_matcher.groupby(by=USER_COL).agg('sales_value').sum().rename('total_user_sales_value'), how='left',on=USER_COL)\n",
    "#количество проданного товара в неделю\n",
    "df_ranker_train = df_ranker_train.merge(df_join_train_matcher.groupby(by=ITEM_COL).agg('quantity').sum().rename('item_quantity_per_week')/df_join_train_matcher.week_no.nunique(), how='left',on=ITEM_COL)\n",
    "#количество проданных товаров по юзеру в неделю\n",
    "df_ranker_train = df_ranker_train.merge(df_join_train_matcher.groupby(by=USER_COL).agg('quantity').sum().rename('user_quantity_per_week')/df_join_train_matcher.week_no.nunique(), how='left',on=USER_COL)\n",
    "\n",
    "#среднее количество товара в корзине\n",
    "df_ranker_train = df_ranker_train.merge(df_join_train_matcher.groupby(by=ITEM_COL).agg('quantity').sum().rename('item_quantity_per_basket')/df_join_train_matcher.basket_id.nunique(), how='left',on=ITEM_COL)\n",
    "#средний объем покупок в корзине по юзеру\n",
    "df_ranker_train = df_ranker_train.merge(df_join_train_matcher.groupby(by=USER_COL).agg('quantity').sum().rename('user_quantity_per_baskter')/df_join_train_matcher.basket_id.nunique(), how='left',on=USER_COL)\n",
    "\n",
    "#частота появления товара в корзинах\n",
    "df_ranker_train = df_ranker_train.merge(df_join_train_matcher.groupby(by=ITEM_COL).agg(USER_COL).count().rename('item_freq_per_basket')/df_join_train_matcher.basket_id.nunique(), how='left',on=ITEM_COL)\n",
    "#частота корзин у юзера\n",
    "df_ranker_train = df_ranker_train.merge(df_join_train_matcher.groupby(by=USER_COL).agg(USER_COL).count().rename('user_freq_per_basket')/df_join_train_matcher.basket_id.nunique(), how='left',on=USER_COL)\n",
    "# количество корзин у пользователя\n",
    "df_ranker_train = df_ranker_train.merge(df_join_train_matcher.groupby(by=USER_COL).agg('basket_id').nunique().rename('count_basket'), how='left',on=USER_COL)\n"
   ]
  },
  {
   "cell_type": "markdown",
   "metadata": {},
   "source": [
    "Фичи user_id: - Средний чек - Средняя сумма покупки 1 товара в каждой категории - Кол-во покупок в каждой категории - Частотность покупок раз/месяц - Долю покупок в выходные - Долю покупок утром/днем/вечером\n",
    "\n",
    "\n",
    "Фичи item_id: - Кол-во покупок в неделю - Среднее кол-во покупок 1 товара в категории в неделю - (Кол-во покупок в неделю) / (Среднее ол-во покупок 1 товара в категории в неделю) - Цена (Можно посчитать из retil_train.csv) - Цена / Средняя цена товара в категории\n",
    "\n",
    "\n",
    "Фичи пары user_id - item_id - (Средняя сумма покупки 1 товара в каждой категории (берем категорию item_id)) - (Цена item_id) - (Кол-во покупок юзером конкретной категории в неделю) - (Среднее кол-во покупок всеми юзерами конкретной категории в неделю) - (Кол-во покупок юзером конкретной категории в неделю) / (Среднее кол-во покупок всеми юзерами конкретной категории в неделю)"
   ]
  },
  {
   "cell_type": "code",
   "execution_count": 594,
   "metadata": {},
   "outputs": [],
   "source": [
    "df_ranker_train['manufacturer'] = df_ranker_train['manufacturer'].astype(str)\n",
    "df_ranker_train['target'] = df_ranker_train['target'].astype(int)\n",
    "df_ranker_train['department'].fillna('nan', inplace= True)\n",
    "df_ranker_train['brand'].fillna('nan', inplace= True)\n",
    "df_ranker_train['commodity_desc'].fillna('nan', inplace= True)\n",
    "df_ranker_train['sub_commodity_desc'].fillna('nan', inplace= True)\n",
    "df_ranker_train['curr_size_of_product'].fillna('nan', inplace= True)\n",
    "df_ranker_train['age_desc'].fillna('nan', inplace= True)\n",
    "df_ranker_train['marital_status_code'].fillna('nan', inplace= True)\n",
    "df_ranker_train['income_desc'].fillna('nan', inplace= True)\n",
    "df_ranker_train['marital_status_code'].fillna('nan', inplace= True)\n",
    "df_ranker_train['income_desc'].fillna('nan', inplace= True)\n",
    "df_ranker_train['homeowner_desc'].fillna('nan', inplace= True)\n",
    "df_ranker_train['hh_comp_desc'].fillna('nan', inplace= True)\n",
    "df_ranker_train['household_size_desc'].fillna('nan', inplace= True)\n",
    "df_ranker_train['kid_category_desc'].fillna('nan', inplace= True)\n",
    "df_ranker_train['total_quantity_value'].fillna(0, inplace= True)\n",
    "df_ranker_train['item_freq'].fillna(0, inplace= True)\n",
    "df_ranker_train['user_freq'].fillna(0, inplace= True)\n",
    "df_ranker_train['count_basket'].fillna(0, inplace= True)"
   ]
  },
  {
   "cell_type": "code",
   "execution_count": 595,
   "metadata": {},
   "outputs": [
    {
     "name": "stdout",
     "output_type": "stream",
     "text": [
      "[LightGBM] [Warning] Accuracy may be bad since you didn't set num_leaves and 2^max_depth > num_leaves\n"
     ]
    }
   ],
   "source": [
    "X_train = df_ranker_train.drop('target', axis=1)\n",
    "y_train = df_ranker_train[['target']]\n",
    "cat_feats = ['manufacturer', 'department', 'brand', 'commodity_desc', 'sub_commodity_desc', 'curr_size_of_product',\n",
    "            'age_desc', 'marital_status_code', 'income_desc', 'homeowner_desc','hh_comp_desc','household_size_desc',\n",
    "            'kid_category_desc', 'total_quantity_value', 'item_freq', 'user_freq','count_basket']\n",
    "#cat_feats = X_train.columns[2:].tolist()\n",
    "X_train[cat_feats] = X_train[cat_feats].astype('category')\n",
    "\n",
    "#cat_feats\n",
    "lgb = LGBMClassifier(objective='binary',\n",
    "                     max_depth=10,\n",
    "                     n_estimators=500,\n",
    "                     #learning_rate=0.05,\n",
    "                     categorical_column=cat_feats)\n",
    "\n",
    "lgb.fit(X_train, y_train)\n",
    "\n",
    "train_preds = lgb.predict_proba(X_train)"
   ]
  },
  {
   "cell_type": "code",
   "execution_count": 596,
   "metadata": {},
   "outputs": [
    {
     "data": {
      "text/plain": [
       "(233622, 29)"
      ]
     },
     "execution_count": 596,
     "metadata": {},
     "output_type": "execute_result"
    }
   ],
   "source": [
    "df_ranker_predict = df_ranker_train.copy()\n",
    "df_ranker_predict['proba_item_purchase'] = train_preds[:,1]\n",
    "df_ranker_predict.shape\n",
    "df_ranker_predict = df_ranker_predict.drop_duplicates()\n",
    "df_ranker_predict.reset_index(drop=True, inplace = True)\n",
    "df_ranker_predict.shape"
   ]
  },
  {
   "cell_type": "code",
   "execution_count": 597,
   "metadata": {},
   "outputs": [
    {
     "data": {
      "text/html": [
       "<div>\n",
       "<style scoped>\n",
       "    .dataframe tbody tr th:only-of-type {\n",
       "        vertical-align: middle;\n",
       "    }\n",
       "\n",
       "    .dataframe tbody tr th {\n",
       "        vertical-align: top;\n",
       "    }\n",
       "\n",
       "    .dataframe thead th {\n",
       "        text-align: right;\n",
       "    }\n",
       "</style>\n",
       "<table border=\"1\" class=\"dataframe\">\n",
       "  <thead>\n",
       "    <tr style=\"text-align: right;\">\n",
       "      <th></th>\n",
       "      <th>user_id</th>\n",
       "      <th>actual</th>\n",
       "    </tr>\n",
       "  </thead>\n",
       "  <tbody>\n",
       "    <tr>\n",
       "      <th>0</th>\n",
       "      <td>1</td>\n",
       "      <td>[856942, 861272, 869465, 877373, 908213, 93391...</td>\n",
       "    </tr>\n",
       "    <tr>\n",
       "      <th>1</th>\n",
       "      <td>6</td>\n",
       "      <td>[1329768, 897811, 14111230, 822812, 840361, 84...</td>\n",
       "    </tr>\n",
       "  </tbody>\n",
       "</table>\n",
       "</div>"
      ],
      "text/plain": [
       "   user_id                                             actual\n",
       "0        1  [856942, 861272, 869465, 877373, 908213, 93391...\n",
       "1        6  [1329768, 897811, 14111230, 822812, 840361, 84..."
      ]
     },
     "execution_count": 597,
     "metadata": {},
     "output_type": "execute_result"
    }
   ],
   "source": [
    "result_eval_ranker = make_df_result(data_val_ranker)\n",
    "result_eval_ranker.head(2)"
   ]
  },
  {
   "cell_type": "code",
   "execution_count": 598,
   "metadata": {},
   "outputs": [],
   "source": [
    "names_rec = ['own_rec']\n",
    "list_models = [recommender.get_own_recommendations]\n",
    "\n",
    "make_df_recs(result_eval_ranker, names_rec, list_models, N=N_PREDICT)"
   ]
  },
  {
   "cell_type": "code",
   "execution_count": 599,
   "metadata": {},
   "outputs": [
    {
     "data": {
      "text/plain": [
       "[('own_rec', 0.12043165467625899)]"
      ]
     },
     "execution_count": 599,
     "metadata": {},
     "output_type": "execute_result"
    }
   ],
   "source": [
    "sorted(calc_precision(result_eval_ranker, 5), key=lambda x: x[1], reverse=True)"
   ]
  },
  {
   "cell_type": "code",
   "execution_count": 600,
   "metadata": {},
   "outputs": [
    {
     "data": {
      "text/plain": [
       "[('own_rec', 0.06994720805398641)]"
      ]
     },
     "execution_count": 600,
     "metadata": {},
     "output_type": "execute_result"
    }
   ],
   "source": [
    "sorted(calc_recall(result_eval_ranker, 50), key=lambda x: x[1], reverse=True)"
   ]
  },
  {
   "cell_type": "code",
   "execution_count": 601,
   "metadata": {},
   "outputs": [],
   "source": [
    "result_eval_ranker['reranked_own_rec'] = result_eval_ranker[USER_COL].apply(lambda user_id: rerank(user_id))"
   ]
  },
  {
   "cell_type": "code",
   "execution_count": 602,
   "metadata": {},
   "outputs": [
    {
     "name": "stdout",
     "output_type": "stream",
     "text": [
      "('reranked_own_rec', 0.22302158273381295)\n",
      "('own_rec', 0.12043165467625899)\n"
     ]
    }
   ],
   "source": [
    "print(*sorted(calc_precision(result_eval_ranker, 5), key=lambda x: x[1], reverse=True), sep='\\n')"
   ]
  },
  {
   "cell_type": "code",
   "execution_count": 603,
   "metadata": {},
   "outputs": [
    {
     "data": {
      "text/html": [
       "<div>\n",
       "<style scoped>\n",
       "    .dataframe tbody tr th:only-of-type {\n",
       "        vertical-align: middle;\n",
       "    }\n",
       "\n",
       "    .dataframe tbody tr th {\n",
       "        vertical-align: top;\n",
       "    }\n",
       "\n",
       "    .dataframe thead th {\n",
       "        text-align: right;\n",
       "    }\n",
       "</style>\n",
       "<table border=\"1\" class=\"dataframe\">\n",
       "  <thead>\n",
       "    <tr style=\"text-align: right;\">\n",
       "      <th></th>\n",
       "      <th>user_id</th>\n",
       "      <th>actual</th>\n",
       "    </tr>\n",
       "  </thead>\n",
       "  <tbody>\n",
       "    <tr>\n",
       "      <th>0</th>\n",
       "      <td>1</td>\n",
       "      <td>[880007, 883616, 931136, 938004, 940947, 94726...</td>\n",
       "    </tr>\n",
       "    <tr>\n",
       "      <th>1</th>\n",
       "      <td>6</td>\n",
       "      <td>[956902, 960791, 1037863, 1119051, 1137688, 84...</td>\n",
       "    </tr>\n",
       "  </tbody>\n",
       "</table>\n",
       "</div>"
      ],
      "text/plain": [
       "   user_id                                             actual\n",
       "0        1  [880007, 883616, 931136, 938004, 940947, 94726...\n",
       "1        6  [956902, 960791, 1037863, 1119051, 1137688, 84..."
      ]
     },
     "execution_count": 603,
     "metadata": {},
     "output_type": "execute_result"
    }
   ],
   "source": [
    "result_test = make_df_result(df_test)\n",
    "result_test.head(2)"
   ]
  },
  {
   "cell_type": "code",
   "execution_count": 605,
   "metadata": {},
   "outputs": [],
   "source": [
    "result_test['reranked_own_rec'] = result_test[USER_COL].apply(lambda user_id: rerank(user_id))"
   ]
  },
  {
   "cell_type": "code",
   "execution_count": 606,
   "metadata": {},
   "outputs": [
    {
     "data": {
      "text/plain": [
       "[('reranked_own_rec', 0.263021582733813)]"
      ]
     },
     "execution_count": 606,
     "metadata": {},
     "output_type": "execute_result"
    }
   ],
   "source": [
    "sorted(calc_precision(result_test, 5), key=lambda x: x[1], reverse=True)"
   ]
  },
  {
   "cell_type": "code",
   "execution_count": 608,
   "metadata": {},
   "outputs": [
    {
     "data": {
      "text/html": [
       "<div>\n",
       "<style scoped>\n",
       "    .dataframe tbody tr th:only-of-type {\n",
       "        vertical-align: middle;\n",
       "    }\n",
       "\n",
       "    .dataframe tbody tr th {\n",
       "        vertical-align: top;\n",
       "    }\n",
       "\n",
       "    .dataframe thead th {\n",
       "        text-align: right;\n",
       "    }\n",
       "</style>\n",
       "<table border=\"1\" class=\"dataframe\">\n",
       "  <thead>\n",
       "    <tr style=\"text-align: right;\">\n",
       "      <th></th>\n",
       "      <th>user_id</th>\n",
       "      <th>actual</th>\n",
       "      <th>reranked_own_rec</th>\n",
       "    </tr>\n",
       "  </thead>\n",
       "  <tbody>\n",
       "    <tr>\n",
       "      <th>0</th>\n",
       "      <td>1</td>\n",
       "      <td>[880007, 883616, 931136, 938004, 940947, 94726...</td>\n",
       "      <td>[853529, 8293439, 9297615, 940947, 856942]</td>\n",
       "    </tr>\n",
       "    <tr>\n",
       "      <th>1</th>\n",
       "      <td>6</td>\n",
       "      <td>[956902, 960791, 1037863, 1119051, 1137688, 84...</td>\n",
       "      <td>[1024306, 1098844, 1082185, 878996, 862866]</td>\n",
       "    </tr>\n",
       "    <tr>\n",
       "      <th>2</th>\n",
       "      <td>7</td>\n",
       "      <td>[847270, 855557, 859987, 863407, 895454, 90663...</td>\n",
       "      <td>[836281, 10285022, 1122358, 993838, 1029743]</td>\n",
       "    </tr>\n",
       "    <tr>\n",
       "      <th>3</th>\n",
       "      <td>8</td>\n",
       "      <td>[846334, 850834, 857503, 862139, 865891, 87829...</td>\n",
       "      <td>[868075, 1029743, 1044078, 5569471, 1074754]</td>\n",
       "    </tr>\n",
       "    <tr>\n",
       "      <th>4</th>\n",
       "      <td>9</td>\n",
       "      <td>[883404, 995242, 1056005, 889692, 911140, 918046]</td>\n",
       "      <td>[1029743, 962229, 1056005, 883616, 1044078]</td>\n",
       "    </tr>\n",
       "    <tr>\n",
       "      <th>...</th>\n",
       "      <td>...</td>\n",
       "      <td>...</td>\n",
       "      <td>...</td>\n",
       "    </tr>\n",
       "    <tr>\n",
       "      <th>1385</th>\n",
       "      <td>2492</td>\n",
       "      <td>[823153, 835243, 838186, 838882, 845622, 84903...</td>\n",
       "      <td>[883003, 929231, 1106523, 914577, 912004]</td>\n",
       "    </tr>\n",
       "    <tr>\n",
       "      <th>1386</th>\n",
       "      <td>2496</td>\n",
       "      <td>[829291, 862139, 912704, 933067, 933835, 95537...</td>\n",
       "      <td>[831509, 1056509, 916122, 995876, 865456]</td>\n",
       "    </tr>\n",
       "    <tr>\n",
       "      <th>1387</th>\n",
       "      <td>2497</td>\n",
       "      <td>[6534178]</td>\n",
       "      <td>[1120361, 820291, 1029743, 1103513, 1135834]</td>\n",
       "    </tr>\n",
       "    <tr>\n",
       "      <th>1388</th>\n",
       "      <td>2498</td>\n",
       "      <td>[1053690, 1076875, 12386123, 858303, 920109, 1...</td>\n",
       "      <td>[901776, 940766, 951197, 865511, 1100379]</td>\n",
       "    </tr>\n",
       "    <tr>\n",
       "      <th>1389</th>\n",
       "      <td>2500</td>\n",
       "      <td>[828143, 843756, 859809, 866395, 938622, 99524...</td>\n",
       "      <td>[856455, 1065538, 1013389, 1034176, 1126899]</td>\n",
       "    </tr>\n",
       "  </tbody>\n",
       "</table>\n",
       "<p>1390 rows × 3 columns</p>\n",
       "</div>"
      ],
      "text/plain": [
       "      user_id                                             actual  \\\n",
       "0           1  [880007, 883616, 931136, 938004, 940947, 94726...   \n",
       "1           6  [956902, 960791, 1037863, 1119051, 1137688, 84...   \n",
       "2           7  [847270, 855557, 859987, 863407, 895454, 90663...   \n",
       "3           8  [846334, 850834, 857503, 862139, 865891, 87829...   \n",
       "4           9  [883404, 995242, 1056005, 889692, 911140, 918046]   \n",
       "...       ...                                                ...   \n",
       "1385     2492  [823153, 835243, 838186, 838882, 845622, 84903...   \n",
       "1386     2496  [829291, 862139, 912704, 933067, 933835, 95537...   \n",
       "1387     2497                                          [6534178]   \n",
       "1388     2498  [1053690, 1076875, 12386123, 858303, 920109, 1...   \n",
       "1389     2500  [828143, 843756, 859809, 866395, 938622, 99524...   \n",
       "\n",
       "                                  reranked_own_rec  \n",
       "0       [853529, 8293439, 9297615, 940947, 856942]  \n",
       "1      [1024306, 1098844, 1082185, 878996, 862866]  \n",
       "2     [836281, 10285022, 1122358, 993838, 1029743]  \n",
       "3     [868075, 1029743, 1044078, 5569471, 1074754]  \n",
       "4      [1029743, 962229, 1056005, 883616, 1044078]  \n",
       "...                                            ...  \n",
       "1385     [883003, 929231, 1106523, 914577, 912004]  \n",
       "1386     [831509, 1056509, 916122, 995876, 865456]  \n",
       "1387  [1120361, 820291, 1029743, 1103513, 1135834]  \n",
       "1388     [901776, 940766, 951197, 865511, 1100379]  \n",
       "1389  [856455, 1065538, 1013389, 1034176, 1126899]  \n",
       "\n",
       "[1390 rows x 3 columns]"
      ]
     },
     "execution_count": 608,
     "metadata": {},
     "output_type": "execute_result"
    }
   ],
   "source": [
    "result_test"
   ]
  },
  {
   "cell_type": "code",
   "execution_count": 609,
   "metadata": {},
   "outputs": [],
   "source": [
    "result_test.to_csv('result_test.csv',index=False)"
   ]
  },
  {
   "cell_type": "markdown",
   "metadata": {},
   "source": [
    "Что смотрела:\n",
    "1. N в топ-N товарах при формировании user-item матирцы от 500 до 6000\n",
    "2. Различные веса в user-item матрице ( кол-во покупок, log(кол-во покупок + 1), сумма покупки)\n",
    "3. Разные взвешивания матрицы (TF-IDF, BM25 - у него есть параметры)\n",
    "4. Разные смешивания рекомендаций - разное количество разных типов рекомендаций(для own_rec - больше, для остальных меньше, а так же одинаковое количество)\n",
    "5. По фичам тяжело что то новое было придумать(или то что было в презентации не очень получилось реализовать) - добавила только одну - количество корзин у пользователя\n",
    "6. пробовала вторую часть делать с помощью catboost-a\n",
    "\n",
    "Выводы - в том виде, в котором сейчас реализовано получается результат precision@5=0.263\n",
    "На самом деле, очень много параметров, которые влияют на результат\n",
    "И сочетаний, которые дают примерно такой же результат (25-27 процентов) достаточно много (сетка и результаты находятся ниже)\n",
    "Скорее всего на результат сильно повлияют новые фичи во второй части и подход к формированию списка кандидатов в первой части(возможно попроьовать еще другие типы рекоммендаций)\n",
    "Иногда непонятно на какие метрики смотреть в первой части, тк небольшой recall может дальше дать хороший precision\n"
   ]
  },
  {
   "cell_type": "markdown",
   "metadata": {},
   "source": [
    "Поиск лучших параметров"
   ]
  },
  {
   "cell_type": "markdown",
   "metadata": {},
   "source": [
    "Catboost"
   ]
  },
  {
   "cell_type": "code",
   "execution_count": null,
   "metadata": {},
   "outputs": [],
   "source": [
    "X_train = df_ranker_train.drop('target', axis=1)\n",
    "y_train = df_ranker_train[['target']]\n",
    "cat_feats = ['manufacturer', 'department', 'brand', 'commodity_desc', 'sub_commodity_desc', 'curr_size_of_product',\n",
    "            'age_desc', 'marital_status_code', 'income_desc', 'homeowner_desc','hh_comp_desc','household_size_desc',\n",
    "            'kid_category_desc', 'total_quantity_value', 'item_freq', 'user_freq','count_basket']\n",
    "\n",
    "\n",
    "model = CatBoostClassifier(iterations=200,\n",
    "                           depth=10,\n",
    "                           learning_rate=0.2,\n",
    "                           loss_function='Logloss',\n",
    "                           verbose=True)\n",
    "model.fit(X_train, y_train, cat_features=cat_feats)\n",
    "train_preds = model.predict_proba(X_train)"
   ]
  },
  {
   "cell_type": "code",
   "execution_count": 2424,
   "metadata": {},
   "outputs": [
    {
     "name": "stdout",
     "output_type": "stream",
     "text": [
      "5 1 500\n"
     ]
    },
    {
     "data": {
      "application/vnd.jupyter.widget-view+json": {
       "model_id": "e8a039621c2f46729fe290834bd66a04",
       "version_major": 2,
       "version_minor": 0
      },
      "text/plain": [
       "HBox(children=(HTML(value=''), FloatProgress(value=0.0, max=15.0), HTML(value='')))"
      ]
     },
     "metadata": {},
     "output_type": "display_data"
    },
    {
     "name": "stdout",
     "output_type": "stream",
     "text": [
      "\n"
     ]
    },
    {
     "data": {
      "application/vnd.jupyter.widget-view+json": {
       "model_id": "4eeb0ca069984f03a7d8af092d4779ba",
       "version_major": 2,
       "version_minor": 0
      },
      "text/plain": [
       "HBox(children=(HTML(value=''), FloatProgress(value=0.0, max=501.0), HTML(value='')))"
      ]
     },
     "metadata": {},
     "output_type": "display_data"
    },
    {
     "name": "stdout",
     "output_type": "stream",
     "text": [
      "\n",
      "train precision@50, recall@50, precision@5, recall@5\n",
      "[('own_rec', 0.09594444444444446)]\n",
      "[('own_rec', 0.07152961951641493)]\n",
      "[('own_rec', 0.2713888888888889)]\n",
      "[('own_rec', 0.023017539369174913)]\n",
      "test precision@50, recall@50, precision@5, recall@5\n",
      "[('own_rec', 0.06555555555555556)]\n",
      "[('own_rec', 0.07180706313856812)]\n",
      "[('own_rec', 0.19791666666666666)]\n",
      "[('own_rec', 0.02555405888607942)]\n",
      "5 1 1000\n"
     ]
    },
    {
     "data": {
      "application/vnd.jupyter.widget-view+json": {
       "model_id": "170b7b326e374e1ba13ba35d2f1e1304",
       "version_major": 2,
       "version_minor": 0
      },
      "text/plain": [
       "HBox(children=(HTML(value=''), FloatProgress(value=0.0, max=15.0), HTML(value='')))"
      ]
     },
     "metadata": {},
     "output_type": "display_data"
    },
    {
     "name": "stdout",
     "output_type": "stream",
     "text": [
      "\n"
     ]
    },
    {
     "data": {
      "application/vnd.jupyter.widget-view+json": {
       "model_id": "04f83201bdbc453287bcedf6c17bf666",
       "version_major": 2,
       "version_minor": 0
      },
      "text/plain": [
       "HBox(children=(HTML(value=''), FloatProgress(value=0.0, max=1001.0), HTML(value='')))"
      ]
     },
     "metadata": {},
     "output_type": "display_data"
    },
    {
     "name": "stdout",
     "output_type": "stream",
     "text": [
      "\n",
      "train precision@50, recall@50, precision@5, recall@5\n",
      "[('own_rec', 0.09779166666666668)]\n",
      "[('own_rec', 0.07465273837337628)]\n",
      "[('own_rec', 0.2427777777777778)]\n",
      "[('own_rec', 0.020079609443248887)]\n",
      "test precision@50, recall@50, precision@5, recall@5\n",
      "[('own_rec', 0.06697222222222222)]\n",
      "[('own_rec', 0.0758743102477799)]\n",
      "[('own_rec', 0.17930555555555558)]\n",
      "[('own_rec', 0.02388773706313394)]\n",
      "5 1 2000\n"
     ]
    },
    {
     "data": {
      "application/vnd.jupyter.widget-view+json": {
       "model_id": "6ce3202ceac5409088436280683cdcea",
       "version_major": 2,
       "version_minor": 0
      },
      "text/plain": [
       "HBox(children=(HTML(value=''), FloatProgress(value=0.0, max=15.0), HTML(value='')))"
      ]
     },
     "metadata": {},
     "output_type": "display_data"
    },
    {
     "name": "stdout",
     "output_type": "stream",
     "text": [
      "\n"
     ]
    },
    {
     "data": {
      "application/vnd.jupyter.widget-view+json": {
       "model_id": "1e8e6b2e52fe4bcc970cdd606679e51f",
       "version_major": 2,
       "version_minor": 0
      },
      "text/plain": [
       "HBox(children=(HTML(value=''), FloatProgress(value=0.0, max=2001.0), HTML(value='')))"
      ]
     },
     "metadata": {},
     "output_type": "display_data"
    },
    {
     "name": "stdout",
     "output_type": "stream",
     "text": [
      "\n",
      "train precision@50, recall@50, precision@5, recall@5\n",
      "[('own_rec', 0.0954861111111111)]\n",
      "[('own_rec', 0.07423664083246154)]\n",
      "[('own_rec', 0.23194444444444445)]\n",
      "[('own_rec', 0.019768229292575427)]\n",
      "test precision@50, recall@50, precision@5, recall@5\n",
      "[('own_rec', 0.0647361111111111)]\n",
      "[('own_rec', 0.0741486557545851)]\n",
      "[('own_rec', 0.16972222222222222)]\n",
      "[('own_rec', 0.022691953283676222)]\n",
      "5 1 3000\n"
     ]
    },
    {
     "data": {
      "application/vnd.jupyter.widget-view+json": {
       "model_id": "84ae436f65e145e69efd89fb68b60d61",
       "version_major": 2,
       "version_minor": 0
      },
      "text/plain": [
       "HBox(children=(HTML(value=''), FloatProgress(value=0.0, max=15.0), HTML(value='')))"
      ]
     },
     "metadata": {},
     "output_type": "display_data"
    },
    {
     "name": "stdout",
     "output_type": "stream",
     "text": [
      "\n"
     ]
    },
    {
     "data": {
      "application/vnd.jupyter.widget-view+json": {
       "model_id": "a2815cf97d81480e9fd4e3338876e769",
       "version_major": 2,
       "version_minor": 0
      },
      "text/plain": [
       "HBox(children=(HTML(value=''), FloatProgress(value=0.0, max=3001.0), HTML(value='')))"
      ]
     },
     "metadata": {},
     "output_type": "display_data"
    },
    {
     "name": "stdout",
     "output_type": "stream",
     "text": [
      "\n",
      "train precision@50, recall@50, precision@5, recall@5\n",
      "[('own_rec', 0.0898888888888889)]\n",
      "[('own_rec', 0.07093544828468451)]\n",
      "[('own_rec', 0.21805555555555556)]\n",
      "[('own_rec', 0.01851537809523881)]\n",
      "test precision@50, recall@50, precision@5, recall@5\n",
      "[('own_rec', 0.06154166666666667)]\n",
      "[('own_rec', 0.07167587644092067)]\n",
      "[('own_rec', 0.15916666666666668)]\n",
      "[('own_rec', 0.02134971342252847)]\n",
      "5 1 4000\n"
     ]
    },
    {
     "data": {
      "application/vnd.jupyter.widget-view+json": {
       "model_id": "f3de7055ba4e40d194f41289cfd205ee",
       "version_major": 2,
       "version_minor": 0
      },
      "text/plain": [
       "HBox(children=(HTML(value=''), FloatProgress(value=0.0, max=15.0), HTML(value='')))"
      ]
     },
     "metadata": {},
     "output_type": "display_data"
    },
    {
     "name": "stdout",
     "output_type": "stream",
     "text": [
      "\n"
     ]
    },
    {
     "data": {
      "application/vnd.jupyter.widget-view+json": {
       "model_id": "62fbb698a88443db9b942fb65a17c263",
       "version_major": 2,
       "version_minor": 0
      },
      "text/plain": [
       "HBox(children=(HTML(value=''), FloatProgress(value=0.0, max=4000.0), HTML(value='')))"
      ]
     },
     "metadata": {},
     "output_type": "display_data"
    },
    {
     "name": "stdout",
     "output_type": "stream",
     "text": [
      "\n",
      "train precision@50, recall@50, precision@5, recall@5\n",
      "[('own_rec', 0.08272222222222222)]\n",
      "[('own_rec', 0.06511784394317013)]\n",
      "[('own_rec', 0.20430555555555557)]\n",
      "[('own_rec', 0.017418233700796485)]\n",
      "test precision@50, recall@50, precision@5, recall@5\n",
      "[('own_rec', 0.057055555555555554)]\n",
      "[('own_rec', 0.06704105309877967)]\n",
      "[('own_rec', 0.14708333333333334)]\n",
      "[('own_rec', 0.02018746964533809)]\n",
      "5 1 5000\n"
     ]
    },
    {
     "data": {
      "application/vnd.jupyter.widget-view+json": {
       "model_id": "2952d5cd3fd74830b8083556538ce84f",
       "version_major": 2,
       "version_minor": 0
      },
      "text/plain": [
       "HBox(children=(HTML(value=''), FloatProgress(value=0.0, max=15.0), HTML(value='')))"
      ]
     },
     "metadata": {},
     "output_type": "display_data"
    },
    {
     "name": "stdout",
     "output_type": "stream",
     "text": [
      "\n"
     ]
    },
    {
     "data": {
      "application/vnd.jupyter.widget-view+json": {
       "model_id": "f6eeb9d39e814a4295e7bd3e7bd15c3c",
       "version_major": 2,
       "version_minor": 0
      },
      "text/plain": [
       "HBox(children=(HTML(value=''), FloatProgress(value=0.0, max=4998.0), HTML(value='')))"
      ]
     },
     "metadata": {},
     "output_type": "display_data"
    },
    {
     "name": "stdout",
     "output_type": "stream",
     "text": [
      "\n",
      "train precision@50, recall@50, precision@5, recall@5\n",
      "[('own_rec', 0.0770138888888889)]\n",
      "[('own_rec', 0.06168741960487118)]\n",
      "[('own_rec', 0.19625)]\n",
      "[('own_rec', 0.016803348617929568)]\n",
      "test precision@50, recall@50, precision@5, recall@5\n",
      "[('own_rec', 0.05304166666666666)]\n",
      "[('own_rec', 0.06269483628372108)]\n",
      "[('own_rec', 0.14138888888888887)]\n",
      "[('own_rec', 0.01934410917142504)]\n",
      "5 1 6000\n"
     ]
    },
    {
     "data": {
      "application/vnd.jupyter.widget-view+json": {
       "model_id": "c6eaf71375fe4be59449ab73d5ad71fc",
       "version_major": 2,
       "version_minor": 0
      },
      "text/plain": [
       "HBox(children=(HTML(value=''), FloatProgress(value=0.0, max=15.0), HTML(value='')))"
      ]
     },
     "metadata": {},
     "output_type": "display_data"
    },
    {
     "name": "stdout",
     "output_type": "stream",
     "text": [
      "\n"
     ]
    },
    {
     "data": {
      "application/vnd.jupyter.widget-view+json": {
       "model_id": "9d1d26b64ef844f997bd0a1c52c6e7ae",
       "version_major": 2,
       "version_minor": 0
      },
      "text/plain": [
       "HBox(children=(HTML(value=''), FloatProgress(value=0.0, max=5997.0), HTML(value='')))"
      ]
     },
     "metadata": {},
     "output_type": "display_data"
    },
    {
     "name": "stdout",
     "output_type": "stream",
     "text": [
      "\n",
      "train precision@50, recall@50, precision@5, recall@5\n",
      "[('own_rec', 0.07059722222222221)]\n",
      "[('own_rec', 0.05774277835784601)]\n",
      "[('own_rec', 0.1840277777777778)]\n",
      "[('own_rec', 0.015868333380966108)]\n",
      "test precision@50, recall@50, precision@5, recall@5\n",
      "[('own_rec', 0.04833333333333334)]\n",
      "[('own_rec', 0.057661871290090795)]\n",
      "[('own_rec', 0.1348611111111111)]\n",
      "[('own_rec', 0.017934819586173392)]\n",
      "5 2 500\n"
     ]
    },
    {
     "data": {
      "application/vnd.jupyter.widget-view+json": {
       "model_id": "ba3df345f74d4c9f9e8a395cfe292c54",
       "version_major": 2,
       "version_minor": 0
      },
      "text/plain": [
       "HBox(children=(HTML(value=''), FloatProgress(value=0.0, max=15.0), HTML(value='')))"
      ]
     },
     "metadata": {},
     "output_type": "display_data"
    },
    {
     "name": "stdout",
     "output_type": "stream",
     "text": [
      "\n"
     ]
    },
    {
     "data": {
      "application/vnd.jupyter.widget-view+json": {
       "model_id": "fd60c42371364cd395b1fcf3c629fda6",
       "version_major": 2,
       "version_minor": 0
      },
      "text/plain": [
       "HBox(children=(HTML(value=''), FloatProgress(value=0.0, max=501.0), HTML(value='')))"
      ]
     },
     "metadata": {},
     "output_type": "display_data"
    },
    {
     "name": "stdout",
     "output_type": "stream",
     "text": [
      "\n",
      "train precision@50, recall@50, precision@5, recall@5\n",
      "[('own_rec', 0.0958071278825996)]\n",
      "[('own_rec', 0.06874505376000893)]\n",
      "[('own_rec', 0.2675052410901468)]\n",
      "[('own_rec', 0.0219293205432028)]\n",
      "test precision@50, recall@50, precision@5, recall@5\n",
      "[('own_rec', 0.06539482879105521)]\n",
      "[('own_rec', 0.07144057002292731)]\n",
      "[('own_rec', 0.19804332634521313)]\n",
      "[('own_rec', 0.025600165130987878)]\n",
      "5 2 1000\n"
     ]
    },
    {
     "data": {
      "application/vnd.jupyter.widget-view+json": {
       "model_id": "c2d387bcdeba49ee951344088f226ac9",
       "version_major": 2,
       "version_minor": 0
      },
      "text/plain": [
       "HBox(children=(HTML(value=''), FloatProgress(value=0.0, max=15.0), HTML(value='')))"
      ]
     },
     "metadata": {},
     "output_type": "display_data"
    },
    {
     "name": "stdout",
     "output_type": "stream",
     "text": [
      "\n"
     ]
    },
    {
     "data": {
      "application/vnd.jupyter.widget-view+json": {
       "model_id": "0c05ce38c273478bbb710fb433454a57",
       "version_major": 2,
       "version_minor": 0
      },
      "text/plain": [
       "HBox(children=(HTML(value=''), FloatProgress(value=0.0, max=1001.0), HTML(value='')))"
      ]
     },
     "metadata": {},
     "output_type": "display_data"
    },
    {
     "name": "stdout",
     "output_type": "stream",
     "text": [
      "\n",
      "train precision@50, recall@50, precision@5, recall@5\n",
      "[('own_rec', 0.09765199161425576)]\n",
      "[('own_rec', 0.07236752646853)]\n",
      "[('own_rec', 0.2413696715583508)]\n",
      "[('own_rec', 0.019837467301016286)]\n",
      "test precision@50, recall@50, precision@5, recall@5\n",
      "[('own_rec', 0.06675052410901468)]\n",
      "[('own_rec', 0.0751248437412616)]\n",
      "[('own_rec', 0.18029350104821804)]\n",
      "[('own_rec', 0.02393839415755036)]\n",
      "5 2 2000\n"
     ]
    },
    {
     "data": {
      "application/vnd.jupyter.widget-view+json": {
       "model_id": "a5ca9744c8b546c7af5cee071184b3f1",
       "version_major": 2,
       "version_minor": 0
      },
      "text/plain": [
       "HBox(children=(HTML(value=''), FloatProgress(value=0.0, max=15.0), HTML(value='')))"
      ]
     },
     "metadata": {},
     "output_type": "display_data"
    },
    {
     "name": "stdout",
     "output_type": "stream",
     "text": [
      "\n"
     ]
    },
    {
     "data": {
      "application/vnd.jupyter.widget-view+json": {
       "model_id": "95d12ad75f624aeb88439928bd4612c9",
       "version_major": 2,
       "version_minor": 0
      },
      "text/plain": [
       "HBox(children=(HTML(value=''), FloatProgress(value=0.0, max=2001.0), HTML(value='')))"
      ]
     },
     "metadata": {},
     "output_type": "display_data"
    },
    {
     "name": "stdout",
     "output_type": "stream",
     "text": [
      "\n",
      "train precision@50, recall@50, precision@5, recall@5\n",
      "[('own_rec', 0.09510831586303287)]\n",
      "[('own_rec', 0.07154344651266659)]\n",
      "[('own_rec', 0.23018867924528305)]\n",
      "[('own_rec', 0.01939320728574073)]\n",
      "test precision@50, recall@50, precision@5, recall@5\n",
      "[('own_rec', 0.06455625436757513)]\n",
      "[('own_rec', 0.07301169704736267)]\n",
      "[('own_rec', 0.16743535988819008)]\n",
      "[('own_rec', 0.022441539040027825)]\n",
      "5 2 3000\n"
     ]
    },
    {
     "data": {
      "application/vnd.jupyter.widget-view+json": {
       "model_id": "cdc6b093d06a478b85d670220ff81244",
       "version_major": 2,
       "version_minor": 0
      },
      "text/plain": [
       "HBox(children=(HTML(value=''), FloatProgress(value=0.0, max=15.0), HTML(value='')))"
      ]
     },
     "metadata": {},
     "output_type": "display_data"
    },
    {
     "name": "stdout",
     "output_type": "stream",
     "text": [
      "\n"
     ]
    },
    {
     "data": {
      "application/vnd.jupyter.widget-view+json": {
       "model_id": "d4bdf91921ea4d5cb78662cc622cd793",
       "version_major": 2,
       "version_minor": 0
      },
      "text/plain": [
       "HBox(children=(HTML(value=''), FloatProgress(value=0.0, max=3001.0), HTML(value='')))"
      ]
     },
     "metadata": {},
     "output_type": "display_data"
    },
    {
     "name": "stdout",
     "output_type": "stream",
     "text": [
      "\n",
      "train precision@50, recall@50, precision@5, recall@5\n",
      "[('own_rec', 0.08912648497554158)]\n",
      "[('own_rec', 0.06825810110407536)]\n",
      "[('own_rec', 0.21788958770090847)]\n",
      "[('own_rec', 0.018331541614255133)]\n",
      "test precision@50, recall@50, precision@5, recall@5\n",
      "[('own_rec', 0.06109014675052412)]\n",
      "[('own_rec', 0.07066537288782881)]\n",
      "[('own_rec', 0.15821104122990917)]\n",
      "[('own_rec', 0.02109345168272195)]\n",
      "5 2 4000\n"
     ]
    },
    {
     "data": {
      "application/vnd.jupyter.widget-view+json": {
       "model_id": "1b72442d8ce04eb797c7c67673ff5562",
       "version_major": 2,
       "version_minor": 0
      },
      "text/plain": [
       "HBox(children=(HTML(value=''), FloatProgress(value=0.0, max=15.0), HTML(value='')))"
      ]
     },
     "metadata": {},
     "output_type": "display_data"
    },
    {
     "name": "stdout",
     "output_type": "stream",
     "text": [
      "\n"
     ]
    },
    {
     "data": {
      "application/vnd.jupyter.widget-view+json": {
       "model_id": "39db04d3555e40568639e851276cc34a",
       "version_major": 2,
       "version_minor": 0
      },
      "text/plain": [
       "HBox(children=(HTML(value=''), FloatProgress(value=0.0, max=4000.0), HTML(value='')))"
      ]
     },
     "metadata": {},
     "output_type": "display_data"
    },
    {
     "name": "stdout",
     "output_type": "stream",
     "text": [
      "\n",
      "train precision@50, recall@50, precision@5, recall@5\n",
      "[('own_rec', 0.08271139063591894)]\n",
      "[('own_rec', 0.06334919031909693)]\n",
      "[('own_rec', 0.2037735849056604)]\n",
      "[('own_rec', 0.017082043694748666)]\n",
      "test precision@50, recall@50, precision@5, recall@5\n",
      "[('own_rec', 0.05651991614255765)]\n",
      "[('own_rec', 0.0661666286893838)]\n",
      "[('own_rec', 0.1459119496855346)]\n",
      "[('own_rec', 0.019932988564858235)]\n",
      "5 2 5000\n"
     ]
    },
    {
     "data": {
      "application/vnd.jupyter.widget-view+json": {
       "model_id": "966d7c3c65e84725a0e5568ab69360af",
       "version_major": 2,
       "version_minor": 0
      },
      "text/plain": [
       "HBox(children=(HTML(value=''), FloatProgress(value=0.0, max=15.0), HTML(value='')))"
      ]
     },
     "metadata": {},
     "output_type": "display_data"
    },
    {
     "name": "stdout",
     "output_type": "stream",
     "text": [
      "\n"
     ]
    },
    {
     "data": {
      "application/vnd.jupyter.widget-view+json": {
       "model_id": "2c7b93361c7b4693b4bb4e9a0a950248",
       "version_major": 2,
       "version_minor": 0
      },
      "text/plain": [
       "HBox(children=(HTML(value=''), FloatProgress(value=0.0, max=4998.0), HTML(value='')))"
      ]
     },
     "metadata": {},
     "output_type": "display_data"
    },
    {
     "name": "stdout",
     "output_type": "stream",
     "text": [
      "\n",
      "train precision@50, recall@50, precision@5, recall@5\n",
      "[('own_rec', 0.07645003494060099)]\n",
      "[('own_rec', 0.059495737016232855)]\n",
      "[('own_rec', 0.19692522711390634)]\n",
      "[('own_rec', 0.016635085866633547)]\n",
      "test precision@50, recall@50, precision@5, recall@5\n",
      "[('own_rec', 0.05255066387141859)]\n",
      "[('own_rec', 0.0616377648810411)]\n",
      "[('own_rec', 0.14171907756813418)]\n",
      "[('own_rec', 0.018920277679145173)]\n",
      "5 2 6000\n"
     ]
    },
    {
     "data": {
      "application/vnd.jupyter.widget-view+json": {
       "model_id": "395a0759126b46e0b0898cf24527801d",
       "version_major": 2,
       "version_minor": 0
      },
      "text/plain": [
       "HBox(children=(HTML(value=''), FloatProgress(value=0.0, max=15.0), HTML(value='')))"
      ]
     },
     "metadata": {},
     "output_type": "display_data"
    },
    {
     "name": "stdout",
     "output_type": "stream",
     "text": [
      "\n"
     ]
    },
    {
     "data": {
      "application/vnd.jupyter.widget-view+json": {
       "model_id": "00be54e475ea4092b32b2b3e17cf8a92",
       "version_major": 2,
       "version_minor": 0
      },
      "text/plain": [
       "HBox(children=(HTML(value=''), FloatProgress(value=0.0, max=5997.0), HTML(value='')))"
      ]
     },
     "metadata": {},
     "output_type": "display_data"
    },
    {
     "name": "stdout",
     "output_type": "stream",
     "text": [
      "\n",
      "train precision@50, recall@50, precision@5, recall@5\n",
      "[('own_rec', 0.07049615653389238)]\n",
      "[('own_rec', 0.055938402325577515)]\n",
      "[('own_rec', 0.18490566037735848)]\n",
      "[('own_rec', 0.015893252351171727)]\n",
      "test precision@50, recall@50, precision@5, recall@5\n",
      "[('own_rec', 0.048483577917540176)]\n",
      "[('own_rec', 0.057500311626506435)]\n",
      "[('own_rec', 0.13389238294898673)]\n",
      "[('own_rec', 0.017617742276246098)]\n",
      "5 3 500\n"
     ]
    },
    {
     "data": {
      "application/vnd.jupyter.widget-view+json": {
       "model_id": "4993429362eb4f3aabd932bb1e04167f",
       "version_major": 2,
       "version_minor": 0
      },
      "text/plain": [
       "HBox(children=(HTML(value=''), FloatProgress(value=0.0, max=15.0), HTML(value='')))"
      ]
     },
     "metadata": {},
     "output_type": "display_data"
    },
    {
     "name": "stdout",
     "output_type": "stream",
     "text": [
      "\n"
     ]
    },
    {
     "data": {
      "application/vnd.jupyter.widget-view+json": {
       "model_id": "53624709c1e948bbbc65d4b16f9a66e6",
       "version_major": 2,
       "version_minor": 0
      },
      "text/plain": [
       "HBox(children=(HTML(value=''), FloatProgress(value=0.0, max=501.0), HTML(value='')))"
      ]
     },
     "metadata": {},
     "output_type": "display_data"
    },
    {
     "name": "stdout",
     "output_type": "stream",
     "text": [
      "\n",
      "train precision@50, recall@50, precision@5, recall@5\n",
      "[('own_rec', 0.09253164556962024)]\n",
      "[('own_rec', 0.06863026807420299)]\n",
      "[('own_rec', 0.2579465541490858)]\n",
      "[('own_rec', 0.02118434736063754)]\n",
      "test precision@50, recall@50, precision@5, recall@5\n",
      "[('own_rec', 0.06528832630098454)]\n",
      "[('own_rec', 0.07150542580090845)]\n",
      "[('own_rec', 0.19592123769338962)]\n",
      "[('own_rec', 0.025258096281082155)]\n",
      "5 3 1000\n"
     ]
    },
    {
     "data": {
      "application/vnd.jupyter.widget-view+json": {
       "model_id": "64605e7ac70f4dc8b11818d19a1490d4",
       "version_major": 2,
       "version_minor": 0
      },
      "text/plain": [
       "HBox(children=(HTML(value=''), FloatProgress(value=0.0, max=15.0), HTML(value='')))"
      ]
     },
     "metadata": {},
     "output_type": "display_data"
    },
    {
     "name": "stdout",
     "output_type": "stream",
     "text": [
      "\n"
     ]
    },
    {
     "data": {
      "application/vnd.jupyter.widget-view+json": {
       "model_id": "342cb441b719493f9e6b30e4e4b2b979",
       "version_major": 2,
       "version_minor": 0
      },
      "text/plain": [
       "HBox(children=(HTML(value=''), FloatProgress(value=0.0, max=1001.0), HTML(value='')))"
      ]
     },
     "metadata": {},
     "output_type": "display_data"
    },
    {
     "name": "stdout",
     "output_type": "stream",
     "text": [
      "\n",
      "train precision@50, recall@50, precision@5, recall@5\n",
      "[('own_rec', 0.09526019690576654)]\n",
      "[('own_rec', 0.07206167429988683)]\n",
      "[('own_rec', 0.23670886075949368)]\n",
      "[('own_rec', 0.019511501914827638)]\n",
      "test precision@50, recall@50, precision@5, recall@5\n",
      "[('own_rec', 0.06672292545710268)]\n",
      "[('own_rec', 0.07482231407945782)]\n",
      "[('own_rec', 0.17735583684950773)]\n",
      "[('own_rec', 0.023017042624390086)]\n",
      "5 3 2000\n"
     ]
    },
    {
     "data": {
      "application/vnd.jupyter.widget-view+json": {
       "model_id": "6a0606e3941643b5a625c38ed0d436d3",
       "version_major": 2,
       "version_minor": 0
      },
      "text/plain": [
       "HBox(children=(HTML(value=''), FloatProgress(value=0.0, max=15.0), HTML(value='')))"
      ]
     },
     "metadata": {},
     "output_type": "display_data"
    },
    {
     "name": "stdout",
     "output_type": "stream",
     "text": [
      "\n"
     ]
    },
    {
     "data": {
      "application/vnd.jupyter.widget-view+json": {
       "model_id": "bc46c859e33b464aa5fd4ce46a9ec52f",
       "version_major": 2,
       "version_minor": 0
      },
      "text/plain": [
       "HBox(children=(HTML(value=''), FloatProgress(value=0.0, max=2001.0), HTML(value='')))"
      ]
     },
     "metadata": {},
     "output_type": "display_data"
    },
    {
     "name": "stdout",
     "output_type": "stream",
     "text": [
      "\n",
      "train precision@50, recall@50, precision@5, recall@5\n",
      "[('own_rec', 0.09215189873417723)]\n",
      "[('own_rec', 0.07046749887042597)]\n",
      "[('own_rec', 0.2244725738396625)]\n",
      "[('own_rec', 0.01892354285209392)]\n",
      "test precision@50, recall@50, precision@5, recall@5\n",
      "[('own_rec', 0.0639803094233474)]\n",
      "[('own_rec', 0.07233527395514242)]\n",
      "[('own_rec', 0.16666666666666666)]\n",
      "[('own_rec', 0.022106215757304582)]\n",
      "5 3 3000\n"
     ]
    },
    {
     "data": {
      "application/vnd.jupyter.widget-view+json": {
       "model_id": "99c1f7e4cec243cf86f67a1d9f88b5a7",
       "version_major": 2,
       "version_minor": 0
      },
      "text/plain": [
       "HBox(children=(HTML(value=''), FloatProgress(value=0.0, max=15.0), HTML(value='')))"
      ]
     },
     "metadata": {},
     "output_type": "display_data"
    },
    {
     "name": "stdout",
     "output_type": "stream",
     "text": [
      "\n"
     ]
    },
    {
     "data": {
      "application/vnd.jupyter.widget-view+json": {
       "model_id": "4f4e61f50d5b4ad1883d1cead6bbc1bf",
       "version_major": 2,
       "version_minor": 0
      },
      "text/plain": [
       "HBox(children=(HTML(value=''), FloatProgress(value=0.0, max=3001.0), HTML(value='')))"
      ]
     },
     "metadata": {},
     "output_type": "display_data"
    },
    {
     "name": "stdout",
     "output_type": "stream",
     "text": [
      "\n",
      "train precision@50, recall@50, precision@5, recall@5\n",
      "[('own_rec', 0.08751054852320675)]\n",
      "[('own_rec', 0.06718615584741913)]\n",
      "[('own_rec', 0.2139240506329114)]\n",
      "[('own_rec', 0.018368004789045173)]\n",
      "test precision@50, recall@50, precision@5, recall@5\n",
      "[('own_rec', 0.060210970464135025)]\n",
      "[('own_rec', 0.06968168843874593)]\n",
      "[('own_rec', 0.15752461322081576)]\n",
      "[('own_rec', 0.0210802729274648)]\n",
      "5 3 4000\n"
     ]
    },
    {
     "data": {
      "application/vnd.jupyter.widget-view+json": {
       "model_id": "47f2effb1acd4b6486d0a4f069cf7a5f",
       "version_major": 2,
       "version_minor": 0
      },
      "text/plain": [
       "HBox(children=(HTML(value=''), FloatProgress(value=0.0, max=15.0), HTML(value='')))"
      ]
     },
     "metadata": {},
     "output_type": "display_data"
    },
    {
     "name": "stdout",
     "output_type": "stream",
     "text": [
      "\n"
     ]
    },
    {
     "data": {
      "application/vnd.jupyter.widget-view+json": {
       "model_id": "48b1a0a733fa45ce8334aa0f4987719c",
       "version_major": 2,
       "version_minor": 0
      },
      "text/plain": [
       "HBox(children=(HTML(value=''), FloatProgress(value=0.0, max=4000.0), HTML(value='')))"
      ]
     },
     "metadata": {},
     "output_type": "display_data"
    },
    {
     "name": "stdout",
     "output_type": "stream",
     "text": [
      "\n",
      "train precision@50, recall@50, precision@5, recall@5\n",
      "[('own_rec', 0.08126582278481013)]\n",
      "[('own_rec', 0.06308172725920302)]\n",
      "[('own_rec', 0.2011251758087201)]\n",
      "[('own_rec', 0.01731844397228396)]\n",
      "test precision@50, recall@50, precision@5, recall@5\n",
      "[('own_rec', 0.05617440225035161)]\n",
      "[('own_rec', 0.06579155623919755)]\n",
      "[('own_rec', 0.14781997187060478)]\n",
      "[('own_rec', 0.019812173204063387)]\n",
      "5 3 5000\n"
     ]
    },
    {
     "data": {
      "application/vnd.jupyter.widget-view+json": {
       "model_id": "5bff6d56bc6e435192fae5c4f84f04ec",
       "version_major": 2,
       "version_minor": 0
      },
      "text/plain": [
       "HBox(children=(HTML(value=''), FloatProgress(value=0.0, max=15.0), HTML(value='')))"
      ]
     },
     "metadata": {},
     "output_type": "display_data"
    },
    {
     "name": "stdout",
     "output_type": "stream",
     "text": [
      "\n"
     ]
    },
    {
     "data": {
      "application/vnd.jupyter.widget-view+json": {
       "model_id": "9bc0e98f683a4d9f899d4cc2b9bfe404",
       "version_major": 2,
       "version_minor": 0
      },
      "text/plain": [
       "HBox(children=(HTML(value=''), FloatProgress(value=0.0, max=4998.0), HTML(value='')))"
      ]
     },
     "metadata": {},
     "output_type": "display_data"
    },
    {
     "name": "stdout",
     "output_type": "stream",
     "text": [
      "\n",
      "train precision@50, recall@50, precision@5, recall@5\n",
      "[('own_rec', 0.07517580872011251)]\n",
      "[('own_rec', 0.058844683424110845)]\n",
      "[('own_rec', 0.19240506329113927)]\n",
      "[('own_rec', 0.016555472333119766)]\n",
      "test precision@50, recall@50, precision@5, recall@5\n",
      "[('own_rec', 0.051954992967651194)]\n",
      "[('own_rec', 0.06098562273423788)]\n",
      "[('own_rec', 0.13952180028129396)]\n",
      "[('own_rec', 0.018615906745677962)]\n",
      "5 3 6000\n"
     ]
    },
    {
     "data": {
      "application/vnd.jupyter.widget-view+json": {
       "model_id": "ecce332b6309479f95bb71f991af9ca6",
       "version_major": 2,
       "version_minor": 0
      },
      "text/plain": [
       "HBox(children=(HTML(value=''), FloatProgress(value=0.0, max=15.0), HTML(value='')))"
      ]
     },
     "metadata": {},
     "output_type": "display_data"
    },
    {
     "name": "stdout",
     "output_type": "stream",
     "text": [
      "\n"
     ]
    },
    {
     "data": {
      "application/vnd.jupyter.widget-view+json": {
       "model_id": "3ba725c649674805b3968130634085a6",
       "version_major": 2,
       "version_minor": 0
      },
      "text/plain": [
       "HBox(children=(HTML(value=''), FloatProgress(value=0.0, max=5996.0), HTML(value='')))"
      ]
     },
     "metadata": {},
     "output_type": "display_data"
    },
    {
     "name": "stdout",
     "output_type": "stream",
     "text": [
      "\n",
      "train precision@50, recall@50, precision@5, recall@5\n",
      "[('own_rec', 0.07030942334739804)]\n",
      "[('own_rec', 0.055939464593430334)]\n",
      "[('own_rec', 0.1808720112517581)]\n",
      "[('own_rec', 0.01595846579018912)]\n",
      "test precision@50, recall@50, precision@5, recall@5\n",
      "[('own_rec', 0.04831223628691984)]\n",
      "[('own_rec', 0.057610115668716065)]\n",
      "[('own_rec', 0.13333333333333336)]\n",
      "[('own_rec', 0.017513466982459317)]\n",
      "5 4 500\n"
     ]
    },
    {
     "data": {
      "application/vnd.jupyter.widget-view+json": {
       "model_id": "50a825100d4b410b8a10166d0e50c350",
       "version_major": 2,
       "version_minor": 0
      },
      "text/plain": [
       "HBox(children=(HTML(value=''), FloatProgress(value=0.0, max=15.0), HTML(value='')))"
      ]
     },
     "metadata": {},
     "output_type": "display_data"
    },
    {
     "name": "stdout",
     "output_type": "stream",
     "text": [
      "\n"
     ]
    },
    {
     "data": {
      "application/vnd.jupyter.widget-view+json": {
       "model_id": "a918bec47d7344dba7306dac37f0b19d",
       "version_major": 2,
       "version_minor": 0
      },
      "text/plain": [
       "HBox(children=(HTML(value=''), FloatProgress(value=0.0, max=501.0), HTML(value='')))"
      ]
     },
     "metadata": {},
     "output_type": "display_data"
    },
    {
     "name": "stdout",
     "output_type": "stream",
     "text": [
      "\n",
      "train precision@50, recall@50, precision@5, recall@5\n",
      "[('own_rec', 0.09479490806223481)]\n",
      "[('own_rec', 0.0696804716564239)]\n",
      "[('own_rec', 0.2606789250353607)]\n",
      "[('own_rec', 0.02104177663100777)]\n",
      "test precision@50, recall@50, precision@5, recall@5\n",
      "[('own_rec', 0.06517680339462517)]\n",
      "[('own_rec', 0.0714985540842301)]\n",
      "[('own_rec', 0.19547383309759545)]\n",
      "[('own_rec', 0.02527487190705899)]\n",
      "5 4 1000\n"
     ]
    },
    {
     "data": {
      "application/vnd.jupyter.widget-view+json": {
       "model_id": "3c707e87f37440c6804ebe25c8932148",
       "version_major": 2,
       "version_minor": 0
      },
      "text/plain": [
       "HBox(children=(HTML(value=''), FloatProgress(value=0.0, max=15.0), HTML(value='')))"
      ]
     },
     "metadata": {},
     "output_type": "display_data"
    },
    {
     "name": "stdout",
     "output_type": "stream",
     "text": [
      "\n"
     ]
    },
    {
     "data": {
      "application/vnd.jupyter.widget-view+json": {
       "model_id": "158466c53f784b6c82b11b4615c53c6a",
       "version_major": 2,
       "version_minor": 0
      },
      "text/plain": [
       "HBox(children=(HTML(value=''), FloatProgress(value=0.0, max=1001.0), HTML(value='')))"
      ]
     },
     "metadata": {},
     "output_type": "display_data"
    },
    {
     "name": "stdout",
     "output_type": "stream",
     "text": [
      "\n",
      "train precision@50, recall@50, precision@5, recall@5\n",
      "[('own_rec', 0.09671852899575671)]\n",
      "[('own_rec', 0.07233883508698673)]\n",
      "[('own_rec', 0.2376237623762376)]\n",
      "[('own_rec', 0.01986087026701417)]\n",
      "test precision@50, recall@50, precision@5, recall@5\n",
      "[('own_rec', 0.06644978783592645)]\n",
      "[('own_rec', 0.0747964763281985)]\n",
      "[('own_rec', 0.1770862800565771)]\n",
      "[('own_rec', 0.023127151523659375)]\n",
      "5 4 2000\n"
     ]
    },
    {
     "data": {
      "application/vnd.jupyter.widget-view+json": {
       "model_id": "c91412f3906146128a4fe0724e7d0b51",
       "version_major": 2,
       "version_minor": 0
      },
      "text/plain": [
       "HBox(children=(HTML(value=''), FloatProgress(value=0.0, max=15.0), HTML(value='')))"
      ]
     },
     "metadata": {},
     "output_type": "display_data"
    },
    {
     "name": "stdout",
     "output_type": "stream",
     "text": [
      "\n"
     ]
    },
    {
     "data": {
      "application/vnd.jupyter.widget-view+json": {
       "model_id": "4de30348720d4f0c88b3f15239cabd9b",
       "version_major": 2,
       "version_minor": 0
      },
      "text/plain": [
       "HBox(children=(HTML(value=''), FloatProgress(value=0.0, max=2001.0), HTML(value='')))"
      ]
     },
     "metadata": {},
     "output_type": "display_data"
    },
    {
     "name": "stdout",
     "output_type": "stream",
     "text": [
      "\n",
      "train precision@50, recall@50, precision@5, recall@5\n",
      "[('own_rec', 0.09350777934936352)]\n",
      "[('own_rec', 0.07124749108005538)]\n",
      "[('own_rec', 0.22475247524752476)]\n",
      "[('own_rec', 0.019252664534007993)]\n",
      "test precision@50, recall@50, precision@5, recall@5\n",
      "[('own_rec', 0.06336633663366337)]\n",
      "[('own_rec', 0.07155308240488903)]\n",
      "[('own_rec', 0.16647807637906648)]\n",
      "[('own_rec', 0.02206142648697383)]\n",
      "5 4 3000\n"
     ]
    },
    {
     "data": {
      "application/vnd.jupyter.widget-view+json": {
       "model_id": "8dae10eff4ae41d0bee615143e71e51b",
       "version_major": 2,
       "version_minor": 0
      },
      "text/plain": [
       "HBox(children=(HTML(value=''), FloatProgress(value=0.0, max=15.0), HTML(value='')))"
      ]
     },
     "metadata": {},
     "output_type": "display_data"
    },
    {
     "name": "stdout",
     "output_type": "stream",
     "text": [
      "\n"
     ]
    },
    {
     "data": {
      "application/vnd.jupyter.widget-view+json": {
       "model_id": "aff3b3ed4dd14025bb90f27eabf3e396",
       "version_major": 2,
       "version_minor": 0
      },
      "text/plain": [
       "HBox(children=(HTML(value=''), FloatProgress(value=0.0, max=3001.0), HTML(value='')))"
      ]
     },
     "metadata": {},
     "output_type": "display_data"
    },
    {
     "name": "stdout",
     "output_type": "stream",
     "text": [
      "\n",
      "train precision@50, recall@50, precision@5, recall@5\n",
      "[('own_rec', 0.08835926449787836)]\n",
      "[('own_rec', 0.06796714507687225)]\n",
      "[('own_rec', 0.2198019801980198)]\n",
      "[('own_rec', 0.01898267570058261)]\n",
      "test precision@50, recall@50, precision@5, recall@5\n",
      "[('own_rec', 0.059561527581329564)]\n",
      "[('own_rec', 0.06892366369372081)]\n",
      "[('own_rec', 0.157001414427157)]\n",
      "[('own_rec', 0.02138601245621959)]\n",
      "5 4 4000\n"
     ]
    },
    {
     "data": {
      "application/vnd.jupyter.widget-view+json": {
       "model_id": "a40128767c5d4cdfb6a231717e86f61b",
       "version_major": 2,
       "version_minor": 0
      },
      "text/plain": [
       "HBox(children=(HTML(value=''), FloatProgress(value=0.0, max=15.0), HTML(value='')))"
      ]
     },
     "metadata": {},
     "output_type": "display_data"
    },
    {
     "name": "stdout",
     "output_type": "stream",
     "text": [
      "\n"
     ]
    },
    {
     "data": {
      "application/vnd.jupyter.widget-view+json": {
       "model_id": "c8ef3bb7c7034a77a13ac341bae5bec4",
       "version_major": 2,
       "version_minor": 0
      },
      "text/plain": [
       "HBox(children=(HTML(value=''), FloatProgress(value=0.0, max=4000.0), HTML(value='')))"
      ]
     },
     "metadata": {},
     "output_type": "display_data"
    },
    {
     "name": "stdout",
     "output_type": "stream",
     "text": [
      "\n",
      "train precision@50, recall@50, precision@5, recall@5\n",
      "[('own_rec', 0.08159830268741161)]\n",
      "[('own_rec', 0.06255875827352715)]\n",
      "[('own_rec', 0.20693069306930695)]\n",
      "[('own_rec', 0.017556199512220358)]\n",
      "test precision@50, recall@50, precision@5, recall@5\n",
      "[('own_rec', 0.054837340876944835)]\n",
      "[('own_rec', 0.06400644036393183)]\n",
      "[('own_rec', 0.1446958981612447)]\n",
      "[('own_rec', 0.01923432787058432)]\n",
      "5 4 5000\n"
     ]
    },
    {
     "data": {
      "application/vnd.jupyter.widget-view+json": {
       "model_id": "22c7b458e4314e73bb8935688d9233f3",
       "version_major": 2,
       "version_minor": 0
      },
      "text/plain": [
       "HBox(children=(HTML(value=''), FloatProgress(value=0.0, max=15.0), HTML(value='')))"
      ]
     },
     "metadata": {},
     "output_type": "display_data"
    },
    {
     "name": "stdout",
     "output_type": "stream",
     "text": [
      "\n"
     ]
    },
    {
     "data": {
      "application/vnd.jupyter.widget-view+json": {
       "model_id": "39272e8a2ae043bc96f5863c1a99c58b",
       "version_major": 2,
       "version_minor": 0
      },
      "text/plain": [
       "HBox(children=(HTML(value=''), FloatProgress(value=0.0, max=4998.0), HTML(value='')))"
      ]
     },
     "metadata": {},
     "output_type": "display_data"
    },
    {
     "name": "stdout",
     "output_type": "stream",
     "text": [
      "\n",
      "train precision@50, recall@50, precision@5, recall@5\n",
      "[('own_rec', 0.07570014144271571)]\n",
      "[('own_rec', 0.05865565017518505)]\n",
      "[('own_rec', 0.19533239038189532)]\n",
      "[('own_rec', 0.016354535927872872)]\n",
      "test precision@50, recall@50, precision@5, recall@5\n",
      "[('own_rec', 0.05060820367751061)]\n",
      "[('own_rec', 0.06004229907707665)]\n",
      "[('own_rec', 0.1364922206506365)]\n",
      "[('own_rec', 0.018309677147028875)]\n",
      "5 4 6000\n"
     ]
    },
    {
     "data": {
      "application/vnd.jupyter.widget-view+json": {
       "model_id": "f90629919e994290a09983fa8aee9e7b",
       "version_major": 2,
       "version_minor": 0
      },
      "text/plain": [
       "HBox(children=(HTML(value=''), FloatProgress(value=0.0, max=15.0), HTML(value='')))"
      ]
     },
     "metadata": {},
     "output_type": "display_data"
    },
    {
     "name": "stdout",
     "output_type": "stream",
     "text": [
      "\n"
     ]
    },
    {
     "data": {
      "application/vnd.jupyter.widget-view+json": {
       "model_id": "08d6726f054f43c19a3537080d70004c",
       "version_major": 2,
       "version_minor": 0
      },
      "text/plain": [
       "HBox(children=(HTML(value=''), FloatProgress(value=0.0, max=5996.0), HTML(value='')))"
      ]
     },
     "metadata": {},
     "output_type": "display_data"
    },
    {
     "name": "stdout",
     "output_type": "stream",
     "text": [
      "\n",
      "train precision@50, recall@50, precision@5, recall@5\n",
      "[('own_rec', 0.07038189533239039)]\n",
      "[('own_rec', 0.055048510077785204)]\n",
      "[('own_rec', 0.1828854314002829)]\n",
      "[('own_rec', 0.015289685034699142)]\n",
      "test precision@50, recall@50, precision@5, recall@5\n",
      "[('own_rec', 0.04721357850070722)]\n",
      "[('own_rec', 0.05599771156227978)]\n",
      "[('own_rec', 0.13083451202263083)]\n",
      "[('own_rec', 0.017126858493317895)]\n",
      "5 5 500\n"
     ]
    },
    {
     "data": {
      "application/vnd.jupyter.widget-view+json": {
       "model_id": "efd913a4459949098efdcb3513fd4607",
       "version_major": 2,
       "version_minor": 0
      },
      "text/plain": [
       "HBox(children=(HTML(value=''), FloatProgress(value=0.0, max=15.0), HTML(value='')))"
      ]
     },
     "metadata": {},
     "output_type": "display_data"
    },
    {
     "name": "stdout",
     "output_type": "stream",
     "text": [
      "\n"
     ]
    },
    {
     "data": {
      "application/vnd.jupyter.widget-view+json": {
       "model_id": "89cef42cb4c14abc9317ae5911de264c",
       "version_major": 2,
       "version_minor": 0
      },
      "text/plain": [
       "HBox(children=(HTML(value=''), FloatProgress(value=0.0, max=501.0), HTML(value='')))"
      ]
     },
     "metadata": {},
     "output_type": "display_data"
    },
    {
     "name": "stdout",
     "output_type": "stream",
     "text": [
      "\n",
      "train precision@50, recall@50, precision@5, recall@5\n",
      "[('own_rec', 0.097627606038821)]\n",
      "[('own_rec', 0.07082200348160998)]\n",
      "[('own_rec', 0.2647016534867003)]\n",
      "[('own_rec', 0.02165643767677392)]\n",
      "test precision@50, recall@50, precision@5, recall@5\n",
      "[('own_rec', 0.06542056074766354)]\n",
      "[('own_rec', 0.07064312485970244)]\n",
      "[('own_rec', 0.19453630481667866)]\n",
      "[('own_rec', 0.025133705223524705)]\n",
      "5 5 1000\n"
     ]
    },
    {
     "data": {
      "application/vnd.jupyter.widget-view+json": {
       "model_id": "d567a78b09344f64983899d414af42e0",
       "version_major": 2,
       "version_minor": 0
      },
      "text/plain": [
       "HBox(children=(HTML(value=''), FloatProgress(value=0.0, max=15.0), HTML(value='')))"
      ]
     },
     "metadata": {},
     "output_type": "display_data"
    },
    {
     "name": "stdout",
     "output_type": "stream",
     "text": [
      "\n"
     ]
    },
    {
     "data": {
      "application/vnd.jupyter.widget-view+json": {
       "model_id": "abc91b4625564492add560c5a5e8b332",
       "version_major": 2,
       "version_minor": 0
      },
      "text/plain": [
       "HBox(children=(HTML(value=''), FloatProgress(value=0.0, max=1001.0), HTML(value='')))"
      ]
     },
     "metadata": {},
     "output_type": "display_data"
    },
    {
     "name": "stdout",
     "output_type": "stream",
     "text": [
      "\n",
      "train precision@50, recall@50, precision@5, recall@5\n",
      "[('own_rec', 0.09982746225736881)]\n",
      "[('own_rec', 0.07356788706808082)]\n",
      "[('own_rec', 0.24701653486700217)]\n",
      "[('own_rec', 0.020527110834860546)]\n",
      "test precision@50, recall@50, precision@5, recall@5\n",
      "[('own_rec', 0.0660531991373113)]\n",
      "[('own_rec', 0.07304742645151985)]\n",
      "[('own_rec', 0.17656362329259526)]\n",
      "[('own_rec', 0.022811757591275145)]\n",
      "5 5 2000\n"
     ]
    },
    {
     "data": {
      "application/vnd.jupyter.widget-view+json": {
       "model_id": "79774d20d4004def910c00913c560f4f",
       "version_major": 2,
       "version_minor": 0
      },
      "text/plain": [
       "HBox(children=(HTML(value=''), FloatProgress(value=0.0, max=15.0), HTML(value='')))"
      ]
     },
     "metadata": {},
     "output_type": "display_data"
    },
    {
     "name": "stdout",
     "output_type": "stream",
     "text": [
      "\n"
     ]
    },
    {
     "data": {
      "application/vnd.jupyter.widget-view+json": {
       "model_id": "e21248d9c36948b8a33d1597b7f06d34",
       "version_major": 2,
       "version_minor": 0
      },
      "text/plain": [
       "HBox(children=(HTML(value=''), FloatProgress(value=0.0, max=2001.0), HTML(value='')))"
      ]
     },
     "metadata": {},
     "output_type": "display_data"
    },
    {
     "name": "stdout",
     "output_type": "stream",
     "text": [
      "\n",
      "train precision@50, recall@50, precision@5, recall@5\n",
      "[('own_rec', 0.09646297627606039)]\n",
      "[('own_rec', 0.07193567544813809)]\n",
      "[('own_rec', 0.23522645578720347)]\n",
      "[('own_rec', 0.019955938255473444)]\n",
      "test precision@50, recall@50, precision@5, recall@5\n",
      "[('own_rec', 0.06278936017253775)]\n",
      "[('own_rec', 0.06963573054684465)]\n",
      "[('own_rec', 0.16247304097771387)]\n",
      "[('own_rec', 0.02135174375380373)]\n",
      "5 5 3000\n"
     ]
    },
    {
     "data": {
      "application/vnd.jupyter.widget-view+json": {
       "model_id": "8d2ea47677ce4d539db26bb5a9d12931",
       "version_major": 2,
       "version_minor": 0
      },
      "text/plain": [
       "HBox(children=(HTML(value=''), FloatProgress(value=0.0, max=15.0), HTML(value='')))"
      ]
     },
     "metadata": {},
     "output_type": "display_data"
    },
    {
     "name": "stdout",
     "output_type": "stream",
     "text": [
      "\n"
     ]
    },
    {
     "data": {
      "application/vnd.jupyter.widget-view+json": {
       "model_id": "cdfa6e1283ff4244a1aee57bb0ec5cb1",
       "version_major": 2,
       "version_minor": 0
      },
      "text/plain": [
       "HBox(children=(HTML(value=''), FloatProgress(value=0.0, max=3001.0), HTML(value='')))"
      ]
     },
     "metadata": {},
     "output_type": "display_data"
    },
    {
     "name": "stdout",
     "output_type": "stream",
     "text": [
      "\n",
      "train precision@50, recall@50, precision@5, recall@5\n",
      "[('own_rec', 0.0906254493170381)]\n",
      "[('own_rec', 0.06908268164930899)]\n",
      "[('own_rec', 0.22875629043853346)]\n",
      "[('own_rec', 0.019029807281824334)]\n",
      "test precision@50, recall@50, precision@5, recall@5\n",
      "[('own_rec', 0.05890726096333573)]\n",
      "[('own_rec', 0.06738075176935837)]\n",
      "[('own_rec', 0.1537023723939612)]\n",
      "[('own_rec', 0.021193626955606882)]\n",
      "5 5 4000\n"
     ]
    },
    {
     "data": {
      "application/vnd.jupyter.widget-view+json": {
       "model_id": "1d9a05f0fa924f6589f9c3faff5102a1",
       "version_major": 2,
       "version_minor": 0
      },
      "text/plain": [
       "HBox(children=(HTML(value=''), FloatProgress(value=0.0, max=15.0), HTML(value='')))"
      ]
     },
     "metadata": {},
     "output_type": "display_data"
    },
    {
     "name": "stdout",
     "output_type": "stream",
     "text": [
      "\n"
     ]
    },
    {
     "data": {
      "application/vnd.jupyter.widget-view+json": {
       "model_id": "18b62ed50d13400382c5464d87864bbc",
       "version_major": 2,
       "version_minor": 0
      },
      "text/plain": [
       "HBox(children=(HTML(value=''), FloatProgress(value=0.0, max=4000.0), HTML(value='')))"
      ]
     },
     "metadata": {},
     "output_type": "display_data"
    },
    {
     "name": "stdout",
     "output_type": "stream",
     "text": [
      "\n",
      "train precision@50, recall@50, precision@5, recall@5\n",
      "[('own_rec', 0.08425593098490294)]\n",
      "[('own_rec', 0.06413446191149688)]\n",
      "[('own_rec', 0.21739755571531275)]\n",
      "[('own_rec', 0.01787904516208798)]\n",
      "test precision@50, recall@50, precision@5, recall@5\n",
      "[('own_rec', 0.054148094895758454)]\n",
      "[('own_rec', 0.06268651182153191)]\n",
      "[('own_rec', 0.14493170381020848)]\n",
      "[('own_rec', 0.019652392401520644)]\n",
      "5 5 5000\n"
     ]
    },
    {
     "data": {
      "application/vnd.jupyter.widget-view+json": {
       "model_id": "87e4dcd749f6493f91aaa0548d1fa50e",
       "version_major": 2,
       "version_minor": 0
      },
      "text/plain": [
       "HBox(children=(HTML(value=''), FloatProgress(value=0.0, max=15.0), HTML(value='')))"
      ]
     },
     "metadata": {},
     "output_type": "display_data"
    },
    {
     "name": "stdout",
     "output_type": "stream",
     "text": [
      "\n"
     ]
    },
    {
     "data": {
      "application/vnd.jupyter.widget-view+json": {
       "model_id": "84f1479e626e4e8e981c18001e049eb4",
       "version_major": 2,
       "version_minor": 0
      },
      "text/plain": [
       "HBox(children=(HTML(value=''), FloatProgress(value=0.0, max=4998.0), HTML(value='')))"
      ]
     },
     "metadata": {},
     "output_type": "display_data"
    },
    {
     "name": "stdout",
     "output_type": "stream",
     "text": [
      "\n",
      "train precision@50, recall@50, precision@5, recall@5\n",
      "[('own_rec', 0.0775413371675054)]\n",
      "[('own_rec', 0.05916942383897105)]\n",
      "[('own_rec', 0.2048885693745507)]\n",
      "[('own_rec', 0.01655147830349212)]\n",
      "test precision@50, recall@50, precision@5, recall@5\n",
      "[('own_rec', 0.05003594536304817)]\n",
      "[('own_rec', 0.058379488596907045)]\n",
      "[('own_rec', 0.13759884974838246)]\n",
      "[('own_rec', 0.018651586432548686)]\n",
      "5 5 6000\n"
     ]
    },
    {
     "data": {
      "application/vnd.jupyter.widget-view+json": {
       "model_id": "19d72ad1856f437d938aee97b3fb7206",
       "version_major": 2,
       "version_minor": 0
      },
      "text/plain": [
       "HBox(children=(HTML(value=''), FloatProgress(value=0.0, max=15.0), HTML(value='')))"
      ]
     },
     "metadata": {},
     "output_type": "display_data"
    },
    {
     "name": "stdout",
     "output_type": "stream",
     "text": [
      "\n"
     ]
    },
    {
     "data": {
      "application/vnd.jupyter.widget-view+json": {
       "model_id": "aad776608fb14c65b9b0d19f706ea3fd",
       "version_major": 2,
       "version_minor": 0
      },
      "text/plain": [
       "HBox(children=(HTML(value=''), FloatProgress(value=0.0, max=5996.0), HTML(value='')))"
      ]
     },
     "metadata": {},
     "output_type": "display_data"
    },
    {
     "name": "stdout",
     "output_type": "stream",
     "text": [
      "\n",
      "train precision@50, recall@50, precision@5, recall@5\n",
      "[('own_rec', 0.07246585190510425)]\n",
      "[('own_rec', 0.055844728523098325)]\n",
      "[('own_rec', 0.193961179007908)]\n",
      "[('own_rec', 0.01584248091624155)]\n",
      "test precision@50, recall@50, precision@5, recall@5\n",
      "[('own_rec', 0.047059669302659965)]\n",
      "[('own_rec', 0.054584188239485305)]\n",
      "[('own_rec', 0.13040977713874907)]\n",
      "[('own_rec', 0.01715010433014307)]\n",
      "5 6 500\n"
     ]
    },
    {
     "data": {
      "application/vnd.jupyter.widget-view+json": {
       "model_id": "3f42e4f62f9a48b18fb9e59c25de2b01",
       "version_major": 2,
       "version_minor": 0
      },
      "text/plain": [
       "HBox(children=(HTML(value=''), FloatProgress(value=0.0, max=15.0), HTML(value='')))"
      ]
     },
     "metadata": {},
     "output_type": "display_data"
    },
    {
     "name": "stdout",
     "output_type": "stream",
     "text": [
      "\n"
     ]
    },
    {
     "data": {
      "application/vnd.jupyter.widget-view+json": {
       "model_id": "773dac4aae2a4387bb171d297bcfdc28",
       "version_major": 2,
       "version_minor": 0
      },
      "text/plain": [
       "HBox(children=(HTML(value=''), FloatProgress(value=0.0, max=501.0), HTML(value='')))"
      ]
     },
     "metadata": {},
     "output_type": "display_data"
    },
    {
     "name": "stdout",
     "output_type": "stream",
     "text": [
      "\n",
      "train precision@50, recall@50, precision@5, recall@5\n",
      "[('own_rec', 0.09511240029006528)]\n",
      "[('own_rec', 0.06958799824445304)]\n",
      "[('own_rec', 0.25888324873096447)]\n",
      "[('own_rec', 0.021739800454336457)]\n",
      "test precision@50, recall@50, precision@5, recall@5\n",
      "[('own_rec', 0.0653372008701958)]\n",
      "[('own_rec', 0.07003374218797778)]\n",
      "[('own_rec', 0.19376359680928207)]\n",
      "[('own_rec', 0.024180523543706353)]\n",
      "5 6 1000\n"
     ]
    },
    {
     "data": {
      "application/vnd.jupyter.widget-view+json": {
       "model_id": "2efe0d6cfd3b408992ed161d7620eca6",
       "version_major": 2,
       "version_minor": 0
      },
      "text/plain": [
       "HBox(children=(HTML(value=''), FloatProgress(value=0.0, max=15.0), HTML(value='')))"
      ]
     },
     "metadata": {},
     "output_type": "display_data"
    },
    {
     "name": "stdout",
     "output_type": "stream",
     "text": [
      "\n"
     ]
    },
    {
     "data": {
      "application/vnd.jupyter.widget-view+json": {
       "model_id": "f6c0c731a6da4dcd9587408d6943d623",
       "version_major": 2,
       "version_minor": 0
      },
      "text/plain": [
       "HBox(children=(HTML(value=''), FloatProgress(value=0.0, max=1001.0), HTML(value='')))"
      ]
     },
     "metadata": {},
     "output_type": "display_data"
    },
    {
     "name": "stdout",
     "output_type": "stream",
     "text": [
      "\n",
      "train precision@50, recall@50, precision@5, recall@5\n",
      "[('own_rec', 0.0975924583031182)]\n",
      "[('own_rec', 0.07249208612486455)]\n",
      "[('own_rec', 0.24104423495286437)]\n",
      "[('own_rec', 0.02050659569143499)]\n",
      "test precision@50, recall@50, precision@5, recall@5\n",
      "[('own_rec', 0.06583031182015954)]\n",
      "[('own_rec', 0.07243910769829717)]\n",
      "[('own_rec', 0.1734590282813633)]\n",
      "[('own_rec', 0.022180866789166767)]\n",
      "5 6 2000\n"
     ]
    },
    {
     "data": {
      "application/vnd.jupyter.widget-view+json": {
       "model_id": "ae2a104885a84c5d98b1c75b2a8df02c",
       "version_major": 2,
       "version_minor": 0
      },
      "text/plain": [
       "HBox(children=(HTML(value=''), FloatProgress(value=0.0, max=15.0), HTML(value='')))"
      ]
     },
     "metadata": {},
     "output_type": "display_data"
    },
    {
     "name": "stdout",
     "output_type": "stream",
     "text": [
      "\n"
     ]
    },
    {
     "data": {
      "application/vnd.jupyter.widget-view+json": {
       "model_id": "83c54eb8d4584d68929520dd90762e2d",
       "version_major": 2,
       "version_minor": 0
      },
      "text/plain": [
       "HBox(children=(HTML(value=''), FloatProgress(value=0.0, max=2001.0), HTML(value='')))"
      ]
     },
     "metadata": {},
     "output_type": "display_data"
    },
    {
     "name": "stdout",
     "output_type": "stream",
     "text": [
      "\n",
      "train precision@50, recall@50, precision@5, recall@5\n",
      "[('own_rec', 0.09369108049311096)]\n",
      "[('own_rec', 0.07113174051749022)]\n",
      "[('own_rec', 0.23002175489485138)]\n",
      "[('own_rec', 0.020294992079412353)]\n",
      "test precision@50, recall@50, precision@5, recall@5\n",
      "[('own_rec', 0.0625670775924583)]\n",
      "[('own_rec', 0.06912849215750744)]\n",
      "[('own_rec', 0.16258158085569252)]\n",
      "[('own_rec', 0.02096493653321568)]\n",
      "5 6 3000\n"
     ]
    },
    {
     "data": {
      "application/vnd.jupyter.widget-view+json": {
       "model_id": "9c2faa65c4c44f2784e2896ccbdff6ba",
       "version_major": 2,
       "version_minor": 0
      },
      "text/plain": [
       "HBox(children=(HTML(value=''), FloatProgress(value=0.0, max=15.0), HTML(value='')))"
      ]
     },
     "metadata": {},
     "output_type": "display_data"
    },
    {
     "name": "stdout",
     "output_type": "stream",
     "text": [
      "\n"
     ]
    },
    {
     "data": {
      "application/vnd.jupyter.widget-view+json": {
       "model_id": "447cf0c5c9c14be4a6cbb70c2af9b91f",
       "version_major": 2,
       "version_minor": 0
      },
      "text/plain": [
       "HBox(children=(HTML(value=''), FloatProgress(value=0.0, max=3001.0), HTML(value='')))"
      ]
     },
     "metadata": {},
     "output_type": "display_data"
    },
    {
     "name": "stdout",
     "output_type": "stream",
     "text": [
      "\n",
      "train precision@50, recall@50, precision@5, recall@5\n",
      "[('own_rec', 0.08810732414793329)]\n",
      "[('own_rec', 0.067811214230477)]\n",
      "[('own_rec', 0.22610587382160982)]\n",
      "[('own_rec', 0.019369719001124813)]\n",
      "test precision@50, recall@50, precision@5, recall@5\n",
      "[('own_rec', 0.05866569978245106)]\n",
      "[('own_rec', 0.06646783897489099)]\n",
      "[('own_rec', 0.15315445975344455)]\n",
      "[('own_rec', 0.02077750724195391)]\n",
      "5 6 4000\n"
     ]
    },
    {
     "data": {
      "application/vnd.jupyter.widget-view+json": {
       "model_id": "efbd49e50eb1400bb0203a3bdcdf8e8f",
       "version_major": 2,
       "version_minor": 0
      },
      "text/plain": [
       "HBox(children=(HTML(value=''), FloatProgress(value=0.0, max=15.0), HTML(value='')))"
      ]
     },
     "metadata": {},
     "output_type": "display_data"
    },
    {
     "name": "stdout",
     "output_type": "stream",
     "text": [
      "\n"
     ]
    },
    {
     "data": {
      "application/vnd.jupyter.widget-view+json": {
       "model_id": "d9015228b65a4f8780a4a05f7dd9ff57",
       "version_major": 2,
       "version_minor": 0
      },
      "text/plain": [
       "HBox(children=(HTML(value=''), FloatProgress(value=0.0, max=3999.0), HTML(value='')))"
      ]
     },
     "metadata": {},
     "output_type": "display_data"
    },
    {
     "name": "stdout",
     "output_type": "stream",
     "text": [
      "\n",
      "train precision@50, recall@50, precision@5, recall@5\n",
      "[('own_rec', 0.0821464829586657)]\n",
      "[('own_rec', 0.06357129660850454)]\n",
      "[('own_rec', 0.2139231327048586)]\n",
      "[('own_rec', 0.018005932040895088)]\n",
      "test precision@50, recall@50, precision@5, recall@5\n",
      "[('own_rec', 0.05409717186366933)]\n",
      "[('own_rec', 0.062131826901646106)]\n",
      "[('own_rec', 0.14532269760696157)]\n",
      "[('own_rec', 0.019619431642293534)]\n",
      "5 6 5000\n"
     ]
    },
    {
     "data": {
      "application/vnd.jupyter.widget-view+json": {
       "model_id": "7a35e0f17ffc4c0cbc622c792ecc39b3",
       "version_major": 2,
       "version_minor": 0
      },
      "text/plain": [
       "HBox(children=(HTML(value=''), FloatProgress(value=0.0, max=15.0), HTML(value='')))"
      ]
     },
     "metadata": {},
     "output_type": "display_data"
    },
    {
     "name": "stdout",
     "output_type": "stream",
     "text": [
      "\n"
     ]
    },
    {
     "data": {
      "application/vnd.jupyter.widget-view+json": {
       "model_id": "860d508e268b45b6be29048bc6ba7a72",
       "version_major": 2,
       "version_minor": 0
      },
      "text/plain": [
       "HBox(children=(HTML(value=''), FloatProgress(value=0.0, max=4998.0), HTML(value='')))"
      ]
     },
     "metadata": {},
     "output_type": "display_data"
    },
    {
     "name": "stdout",
     "output_type": "stream",
     "text": [
      "\n",
      "train precision@50, recall@50, precision@5, recall@5\n",
      "[('own_rec', 0.07556200145032632)]\n",
      "[('own_rec', 0.05865246939917181)]\n",
      "[('own_rec', 0.19811457577955038)]\n",
      "[('own_rec', 0.016021945179593385)]\n",
      "test precision@50, recall@50, precision@5, recall@5\n",
      "[('own_rec', 0.04977519941986948)]\n",
      "[('own_rec', 0.05756443529708667)]\n",
      "[('own_rec', 0.13604060913705585)]\n",
      "[('own_rec', 0.018287982794336743)]\n",
      "5 6 6000\n"
     ]
    },
    {
     "data": {
      "application/vnd.jupyter.widget-view+json": {
       "model_id": "924413e840bd423e875fb668ca3f27a1",
       "version_major": 2,
       "version_minor": 0
      },
      "text/plain": [
       "HBox(children=(HTML(value=''), FloatProgress(value=0.0, max=15.0), HTML(value='')))"
      ]
     },
     "metadata": {},
     "output_type": "display_data"
    },
    {
     "name": "stdout",
     "output_type": "stream",
     "text": [
      "\n"
     ]
    },
    {
     "data": {
      "application/vnd.jupyter.widget-view+json": {
       "model_id": "4241db30315f4e5a8c49dec988981473",
       "version_major": 2,
       "version_minor": 0
      },
      "text/plain": [
       "HBox(children=(HTML(value=''), FloatProgress(value=0.0, max=5996.0), HTML(value='')))"
      ]
     },
     "metadata": {},
     "output_type": "display_data"
    },
    {
     "name": "stdout",
     "output_type": "stream",
     "text": [
      "\n",
      "train precision@50, recall@50, precision@5, recall@5\n",
      "[('own_rec', 0.0697316896301668)]\n",
      "[('own_rec', 0.05442904656143355)]\n",
      "[('own_rec', 0.18651196519216823)]\n",
      "[('own_rec', 0.015405169648658954)]\n",
      "test precision@50, recall@50, precision@5, recall@5\n",
      "[('own_rec', 0.04620739666424945)]\n",
      "[('own_rec', 0.053078533083100614)]\n",
      "[('own_rec', 0.12893401015228428)]\n",
      "[('own_rec', 0.016775575533838336)]\n",
      "6 1 500\n"
     ]
    },
    {
     "data": {
      "application/vnd.jupyter.widget-view+json": {
       "model_id": "c9c8261019934aec82b3022f6f4bc837",
       "version_major": 2,
       "version_minor": 0
      },
      "text/plain": [
       "HBox(children=(HTML(value=''), FloatProgress(value=0.0, max=15.0), HTML(value='')))"
      ]
     },
     "metadata": {},
     "output_type": "display_data"
    },
    {
     "name": "stdout",
     "output_type": "stream",
     "text": [
      "\n"
     ]
    },
    {
     "data": {
      "application/vnd.jupyter.widget-view+json": {
       "model_id": "30dc5b69d2e84bd68db8fe52c4950fe9",
       "version_major": 2,
       "version_minor": 0
      },
      "text/plain": [
       "HBox(children=(HTML(value=''), FloatProgress(value=0.0, max=501.0), HTML(value='')))"
      ]
     },
     "metadata": {},
     "output_type": "display_data"
    },
    {
     "name": "stdout",
     "output_type": "stream",
     "text": [
      "\n",
      "train precision@50, recall@50, precision@5, recall@5\n",
      "[('own_rec', 0.10987672226250905)]\n",
      "[('own_rec', 0.0679735300429118)]\n",
      "[('own_rec', 0.29731689630166785)]\n",
      "[('own_rec', 0.021071394781290092)]\n",
      "test precision@50, recall@50, precision@5, recall@5\n",
      "[('own_rec', 0.06665699782451051)]\n",
      "[('own_rec', 0.07109107642367622)]\n",
      "[('own_rec', 0.20188542422044958)]\n",
      "[('own_rec', 0.02518414133496521)]\n",
      "6 1 1000\n"
     ]
    },
    {
     "data": {
      "application/vnd.jupyter.widget-view+json": {
       "model_id": "3186c059b07b4a0a9d9754ed12fa468e",
       "version_major": 2,
       "version_minor": 0
      },
      "text/plain": [
       "HBox(children=(HTML(value=''), FloatProgress(value=0.0, max=15.0), HTML(value='')))"
      ]
     },
     "metadata": {},
     "output_type": "display_data"
    },
    {
     "name": "stdout",
     "output_type": "stream",
     "text": [
      "\n"
     ]
    },
    {
     "data": {
      "application/vnd.jupyter.widget-view+json": {
       "model_id": "54742a69a143462981e492f3ee05619b",
       "version_major": 2,
       "version_minor": 0
      },
      "text/plain": [
       "HBox(children=(HTML(value=''), FloatProgress(value=0.0, max=1001.0), HTML(value='')))"
      ]
     },
     "metadata": {},
     "output_type": "display_data"
    },
    {
     "name": "stdout",
     "output_type": "stream",
     "text": [
      "\n",
      "train precision@50, recall@50, precision@5, recall@5\n",
      "[('own_rec', 0.11164612037708485)]\n",
      "[('own_rec', 0.07123840054413773)]\n",
      "[('own_rec', 0.27106598984771574)]\n",
      "[('own_rec', 0.019348542820316145)]\n",
      "test precision@50, recall@50, precision@5, recall@5\n",
      "[('own_rec', 0.0680058013052937)]\n",
      "[('own_rec', 0.07455474756331297)]\n",
      "[('own_rec', 0.18564176939811458)]\n",
      "[('own_rec', 0.023751050216007093)]\n",
      "6 1 2000\n"
     ]
    },
    {
     "data": {
      "application/vnd.jupyter.widget-view+json": {
       "model_id": "edd3c42b6323459db761dca9bf3b0610",
       "version_major": 2,
       "version_minor": 0
      },
      "text/plain": [
       "HBox(children=(HTML(value=''), FloatProgress(value=0.0, max=15.0), HTML(value='')))"
      ]
     },
     "metadata": {},
     "output_type": "display_data"
    },
    {
     "name": "stdout",
     "output_type": "stream",
     "text": [
      "\n"
     ]
    },
    {
     "data": {
      "application/vnd.jupyter.widget-view+json": {
       "model_id": "54ce1c97af7b4157972b1701f9304dfd",
       "version_major": 2,
       "version_minor": 0
      },
      "text/plain": [
       "HBox(children=(HTML(value=''), FloatProgress(value=0.0, max=2001.0), HTML(value='')))"
      ]
     },
     "metadata": {},
     "output_type": "display_data"
    },
    {
     "name": "stdout",
     "output_type": "stream",
     "text": [
      "\n",
      "train precision@50, recall@50, precision@5, recall@5\n",
      "[('own_rec', 0.10896301667875272)]\n",
      "[('own_rec', 0.07041293374510922)]\n",
      "[('own_rec', 0.25844815083393763)]\n",
      "[('own_rec', 0.018703535562708387)]\n",
      "test precision@50, recall@50, precision@5, recall@5\n",
      "[('own_rec', 0.06583031182015954)]\n",
      "[('own_rec', 0.07266080724592258)]\n",
      "[('own_rec', 0.17200870195794052)]\n",
      "[('own_rec', 0.022194087701820325)]\n",
      "6 1 3000\n"
     ]
    },
    {
     "data": {
      "application/vnd.jupyter.widget-view+json": {
       "model_id": "6fccf58f3c9144a187bc389d3775903d",
       "version_major": 2,
       "version_minor": 0
      },
      "text/plain": [
       "HBox(children=(HTML(value=''), FloatProgress(value=0.0, max=15.0), HTML(value='')))"
      ]
     },
     "metadata": {},
     "output_type": "display_data"
    },
    {
     "name": "stdout",
     "output_type": "stream",
     "text": [
      "\n"
     ]
    },
    {
     "data": {
      "application/vnd.jupyter.widget-view+json": {
       "model_id": "46cb8692ce894081b9f43c7cb36663a9",
       "version_major": 2,
       "version_minor": 0
      },
      "text/plain": [
       "HBox(children=(HTML(value=''), FloatProgress(value=0.0, max=3001.0), HTML(value='')))"
      ]
     },
     "metadata": {},
     "output_type": "display_data"
    },
    {
     "name": "stdout",
     "output_type": "stream",
     "text": [
      "\n",
      "train precision@50, recall@50, precision@5, recall@5\n",
      "[('own_rec', 0.10163886874546775)]\n",
      "[('own_rec', 0.0667681343566771)]\n",
      "[('own_rec', 0.24408992023205223)]\n",
      "[('own_rec', 0.01767950182494571)]\n",
      "test precision@50, recall@50, precision@5, recall@5\n",
      "[('own_rec', 0.06208846990572879)]\n",
      "[('own_rec', 0.07006215436872759)]\n",
      "[('own_rec', 0.16243654822335024)]\n",
      "[('own_rec', 0.02129366180038535)]\n",
      "6 1 4000\n"
     ]
    },
    {
     "data": {
      "application/vnd.jupyter.widget-view+json": {
       "model_id": "ee8ba5cb3d4e4f15885db48a6e5a53a2",
       "version_major": 2,
       "version_minor": 0
      },
      "text/plain": [
       "HBox(children=(HTML(value=''), FloatProgress(value=0.0, max=15.0), HTML(value='')))"
      ]
     },
     "metadata": {},
     "output_type": "display_data"
    },
    {
     "name": "stdout",
     "output_type": "stream",
     "text": [
      "\n"
     ]
    },
    {
     "data": {
      "application/vnd.jupyter.widget-view+json": {
       "model_id": "b76ebb162d5146ee824d4da58db78b98",
       "version_major": 2,
       "version_minor": 0
      },
      "text/plain": [
       "HBox(children=(HTML(value=''), FloatProgress(value=0.0, max=4000.0), HTML(value='')))"
      ]
     },
     "metadata": {},
     "output_type": "display_data"
    },
    {
     "name": "stdout",
     "output_type": "stream",
     "text": [
      "\n",
      "train precision@50, recall@50, precision@5, recall@5\n",
      "[('own_rec', 0.0939231327048586)]\n",
      "[('own_rec', 0.0615864963778324)]\n",
      "[('own_rec', 0.22683103698332122)]\n",
      "[('own_rec', 0.01632576944318068)]\n",
      "test precision@50, recall@50, precision@5, recall@5\n",
      "[('own_rec', 0.057447425670775924)]\n",
      "[('own_rec', 0.0654155015102329)]\n",
      "[('own_rec', 0.15010877447425672)]\n",
      "[('own_rec', 0.020253693903751854)]\n",
      "6 1 5000\n"
     ]
    },
    {
     "data": {
      "application/vnd.jupyter.widget-view+json": {
       "model_id": "b4360f719ac44bc3a600534bf3c9eedb",
       "version_major": 2,
       "version_minor": 0
      },
      "text/plain": [
       "HBox(children=(HTML(value=''), FloatProgress(value=0.0, max=15.0), HTML(value='')))"
      ]
     },
     "metadata": {},
     "output_type": "display_data"
    },
    {
     "name": "stdout",
     "output_type": "stream",
     "text": [
      "\n"
     ]
    },
    {
     "data": {
      "application/vnd.jupyter.widget-view+json": {
       "model_id": "a33404f3663c433e85698c6dc3ad9909",
       "version_major": 2,
       "version_minor": 0
      },
      "text/plain": [
       "HBox(children=(HTML(value=''), FloatProgress(value=0.0, max=4998.0), HTML(value='')))"
      ]
     },
     "metadata": {},
     "output_type": "display_data"
    },
    {
     "name": "stdout",
     "output_type": "stream",
     "text": [
      "\n",
      "train precision@50, recall@50, precision@5, recall@5\n",
      "[('own_rec', 0.08677302393038433)]\n",
      "[('own_rec', 0.057897526242935586)]\n",
      "[('own_rec', 0.21609862218999276)]\n",
      "[('own_rec', 0.015677483227695875)]\n",
      "test precision@50, recall@50, precision@5, recall@5\n",
      "[('own_rec', 0.053313995649021034)]\n",
      "[('own_rec', 0.06072925914366854)]\n",
      "[('own_rec', 0.14401740391588108)]\n",
      "[('own_rec', 0.018792099937435615)]\n",
      "6 1 6000\n"
     ]
    },
    {
     "data": {
      "application/vnd.jupyter.widget-view+json": {
       "model_id": "51f82a0387984766900e8d97d86778ea",
       "version_major": 2,
       "version_minor": 0
      },
      "text/plain": [
       "HBox(children=(HTML(value=''), FloatProgress(value=0.0, max=15.0), HTML(value='')))"
      ]
     },
     "metadata": {},
     "output_type": "display_data"
    },
    {
     "name": "stdout",
     "output_type": "stream",
     "text": [
      "\n"
     ]
    },
    {
     "data": {
      "application/vnd.jupyter.widget-view+json": {
       "model_id": "7241c98752b3478ba3c495aef0ea2d28",
       "version_major": 2,
       "version_minor": 0
      },
      "text/plain": [
       "HBox(children=(HTML(value=''), FloatProgress(value=0.0, max=5997.0), HTML(value='')))"
      ]
     },
     "metadata": {},
     "output_type": "display_data"
    },
    {
     "name": "stdout",
     "output_type": "stream",
     "text": [
      "\n",
      "train precision@50, recall@50, precision@5, recall@5\n",
      "[('own_rec', 0.07950688905003626)]\n",
      "[('own_rec', 0.05397016345438919)]\n",
      "[('own_rec', 0.20333575054387235)]\n",
      "[('own_rec', 0.014947331752429507)]\n",
      "test precision@50, recall@50, precision@5, recall@5\n",
      "[('own_rec', 0.049021029731689626)]\n",
      "[('own_rec', 0.05641342485001491)]\n",
      "[('own_rec', 0.13705583756345177)]\n",
      "[('own_rec', 0.017477000754510405)]\n",
      "6 2 500\n"
     ]
    },
    {
     "data": {
      "application/vnd.jupyter.widget-view+json": {
       "model_id": "66b7ddc593d94980889f8eeb92f9ee5c",
       "version_major": 2,
       "version_minor": 0
      },
      "text/plain": [
       "HBox(children=(HTML(value=''), FloatProgress(value=0.0, max=15.0), HTML(value='')))"
      ]
     },
     "metadata": {},
     "output_type": "display_data"
    },
    {
     "name": "stdout",
     "output_type": "stream",
     "text": [
      "\n"
     ]
    },
    {
     "data": {
      "application/vnd.jupyter.widget-view+json": {
       "model_id": "c62c7607324c4e36a3cb9cd08d179157",
       "version_major": 2,
       "version_minor": 0
      },
      "text/plain": [
       "HBox(children=(HTML(value=''), FloatProgress(value=0.0, max=501.0), HTML(value='')))"
      ]
     },
     "metadata": {},
     "output_type": "display_data"
    },
    {
     "name": "stdout",
     "output_type": "stream",
     "text": [
      "\n",
      "train precision@50, recall@50, precision@5, recall@5\n",
      "[('own_rec', 0.10928208846990574)]\n",
      "[('own_rec', 0.0666520783053581)]\n",
      "[('own_rec', 0.29412617839013777)]\n",
      "[('own_rec', 0.02045811851224831)]\n",
      "test precision@50, recall@50, precision@5, recall@5\n",
      "[('own_rec', 0.06638143582306018)]\n",
      "[('own_rec', 0.07082512415579778)]\n",
      "[('own_rec', 0.1985496736765772)]\n",
      "[('own_rec', 0.024732742511794577)]\n",
      "6 2 1000\n"
     ]
    },
    {
     "data": {
      "application/vnd.jupyter.widget-view+json": {
       "model_id": "0535d745a5094688a8b213d68ea05371",
       "version_major": 2,
       "version_minor": 0
      },
      "text/plain": [
       "HBox(children=(HTML(value=''), FloatProgress(value=0.0, max=15.0), HTML(value='')))"
      ]
     },
     "metadata": {},
     "output_type": "display_data"
    },
    {
     "name": "stdout",
     "output_type": "stream",
     "text": [
      "\n"
     ]
    },
    {
     "data": {
      "application/vnd.jupyter.widget-view+json": {
       "model_id": "f23b70ed038f4ee8845deaf010c6981b",
       "version_major": 2,
       "version_minor": 0
      },
      "text/plain": [
       "HBox(children=(HTML(value=''), FloatProgress(value=0.0, max=1001.0), HTML(value='')))"
      ]
     },
     "metadata": {},
     "output_type": "display_data"
    },
    {
     "name": "stdout",
     "output_type": "stream",
     "text": [
      "\n",
      "train precision@50, recall@50, precision@5, recall@5\n",
      "[('own_rec', 0.1116171138506164)]\n",
      "[('own_rec', 0.06971717521316116)]\n",
      "[('own_rec', 0.26918056562726617)]\n",
      "[('own_rec', 0.01865734598378841)]\n",
      "test precision@50, recall@50, precision@5, recall@5\n",
      "[('own_rec', 0.06773023930384336)]\n",
      "[('own_rec', 0.07404504179701835)]\n",
      "[('own_rec', 0.1810007251631617)]\n",
      "[('own_rec', 0.022666799387842093)]\n",
      "6 2 2000\n"
     ]
    },
    {
     "data": {
      "application/vnd.jupyter.widget-view+json": {
       "model_id": "cb5547dda36e41e4bb1f6ecfdba71c49",
       "version_major": 2,
       "version_minor": 0
      },
      "text/plain": [
       "HBox(children=(HTML(value=''), FloatProgress(value=0.0, max=15.0), HTML(value='')))"
      ]
     },
     "metadata": {},
     "output_type": "display_data"
    },
    {
     "name": "stdout",
     "output_type": "stream",
     "text": [
      "\n"
     ]
    },
    {
     "data": {
      "application/vnd.jupyter.widget-view+json": {
       "model_id": "df39b6492422402487414aa111674f01",
       "version_major": 2,
       "version_minor": 0
      },
      "text/plain": [
       "HBox(children=(HTML(value=''), FloatProgress(value=0.0, max=2001.0), HTML(value='')))"
      ]
     },
     "metadata": {},
     "output_type": "display_data"
    },
    {
     "name": "stdout",
     "output_type": "stream",
     "text": [
      "\n",
      "train precision@50, recall@50, precision@5, recall@5\n",
      "[('own_rec', 0.10703408266860046)]\n",
      "[('own_rec', 0.06795224365156556)]\n",
      "[('own_rec', 0.25511240029006527)]\n",
      "[('own_rec', 0.018082836537553663)]\n",
      "test precision@50, recall@50, precision@5, recall@5\n",
      "[('own_rec', 0.06487309644670052)]\n",
      "[('own_rec', 0.07163493534592928)]\n",
      "[('own_rec', 0.16983321247280636)]\n",
      "[('own_rec', 0.021775499665197675)]\n",
      "6 2 3000\n"
     ]
    },
    {
     "data": {
      "application/vnd.jupyter.widget-view+json": {
       "model_id": "3280ba09eee746cdbad1e024fd1bdc8e",
       "version_major": 2,
       "version_minor": 0
      },
      "text/plain": [
       "HBox(children=(HTML(value=''), FloatProgress(value=0.0, max=15.0), HTML(value='')))"
      ]
     },
     "metadata": {},
     "output_type": "display_data"
    },
    {
     "name": "stdout",
     "output_type": "stream",
     "text": [
      "\n"
     ]
    },
    {
     "data": {
      "application/vnd.jupyter.widget-view+json": {
       "model_id": "4c05ec0ef64d479f8c000c1819679dff",
       "version_major": 2,
       "version_minor": 0
      },
      "text/plain": [
       "HBox(children=(HTML(value=''), FloatProgress(value=0.0, max=3001.0), HTML(value='')))"
      ]
     },
     "metadata": {},
     "output_type": "display_data"
    },
    {
     "name": "stdout",
     "output_type": "stream",
     "text": [
      "\n",
      "train precision@50, recall@50, precision@5, recall@5\n",
      "[('own_rec', 0.10117476432197244)]\n",
      "[('own_rec', 0.06483425988037354)]\n",
      "[('own_rec', 0.2436548223350254)]\n",
      "[('own_rec', 0.017293949434047988)]\n",
      "test precision@50, recall@50, precision@5, recall@5\n",
      "[('own_rec', 0.06101522842639595)]\n",
      "[('own_rec', 0.06916596471759648)]\n",
      "[('own_rec', 0.16142131979695434)]\n",
      "[('own_rec', 0.02123739880895549)]\n",
      "6 2 4000\n"
     ]
    },
    {
     "data": {
      "application/vnd.jupyter.widget-view+json": {
       "model_id": "63f17bf93f9b43e5ac8e9d7ba36729aa",
       "version_major": 2,
       "version_minor": 0
      },
      "text/plain": [
       "HBox(children=(HTML(value=''), FloatProgress(value=0.0, max=15.0), HTML(value='')))"
      ]
     },
     "metadata": {},
     "output_type": "display_data"
    },
    {
     "name": "stdout",
     "output_type": "stream",
     "text": [
      "\n"
     ]
    },
    {
     "data": {
      "application/vnd.jupyter.widget-view+json": {
       "model_id": "b821f9cf176c4404a311d0b9eba97b4d",
       "version_major": 2,
       "version_minor": 0
      },
      "text/plain": [
       "HBox(children=(HTML(value=''), FloatProgress(value=0.0, max=4000.0), HTML(value='')))"
      ]
     },
     "metadata": {},
     "output_type": "display_data"
    },
    {
     "name": "stdout",
     "output_type": "stream",
     "text": [
      "\n",
      "train precision@50, recall@50, precision@5, recall@5\n",
      "[('own_rec', 0.09367657722987673)]\n",
      "[('own_rec', 0.06029887765929259)]\n",
      "[('own_rec', 0.2259608411892676)]\n",
      "[('own_rec', 0.016131626042148926)]\n",
      "test precision@50, recall@50, precision@5, recall@5\n",
      "[('own_rec', 0.056736765772298775)]\n",
      "[('own_rec', 0.06509310478128352)]\n",
      "[('own_rec', 0.1495286439448876)]\n",
      "[('own_rec', 0.020008140441656257)]\n",
      "6 2 5000\n"
     ]
    },
    {
     "data": {
      "application/vnd.jupyter.widget-view+json": {
       "model_id": "a0db6608dbb343998189584293c6e37a",
       "version_major": 2,
       "version_minor": 0
      },
      "text/plain": [
       "HBox(children=(HTML(value=''), FloatProgress(value=0.0, max=15.0), HTML(value='')))"
      ]
     },
     "metadata": {},
     "output_type": "display_data"
    },
    {
     "name": "stdout",
     "output_type": "stream",
     "text": [
      "\n"
     ]
    },
    {
     "data": {
      "application/vnd.jupyter.widget-view+json": {
       "model_id": "10677acb58a14d3f85550f7eb829888f",
       "version_major": 2,
       "version_minor": 0
      },
      "text/plain": [
       "HBox(children=(HTML(value=''), FloatProgress(value=0.0, max=4998.0), HTML(value='')))"
      ]
     },
     "metadata": {},
     "output_type": "display_data"
    },
    {
     "name": "stdout",
     "output_type": "stream",
     "text": [
      "\n",
      "train precision@50, recall@50, precision@5, recall@5\n",
      "[('own_rec', 0.08630891950688906)]\n",
      "[('own_rec', 0.056318176133332586)]\n",
      "[('own_rec', 0.216243654822335)]\n",
      "[('own_rec', 0.015261858673573108)]\n",
      "test precision@50, recall@50, precision@5, recall@5\n",
      "[('own_rec', 0.05237128353879623)]\n",
      "[('own_rec', 0.06001449353446066)]\n",
      "[('own_rec', 0.14184191443074692)]\n",
      "[('own_rec', 0.0184362224019423)]\n",
      "6 2 6000\n"
     ]
    },
    {
     "data": {
      "application/vnd.jupyter.widget-view+json": {
       "model_id": "d3fab847abd347cc8cb72f82f6f4d8c8",
       "version_major": 2,
       "version_minor": 0
      },
      "text/plain": [
       "HBox(children=(HTML(value=''), FloatProgress(value=0.0, max=15.0), HTML(value='')))"
      ]
     },
     "metadata": {},
     "output_type": "display_data"
    },
    {
     "name": "stdout",
     "output_type": "stream",
     "text": [
      "\n"
     ]
    },
    {
     "data": {
      "application/vnd.jupyter.widget-view+json": {
       "model_id": "9cacb4d69c1d412ea194968f1c22b19e",
       "version_major": 2,
       "version_minor": 0
      },
      "text/plain": [
       "HBox(children=(HTML(value=''), FloatProgress(value=0.0, max=5996.0), HTML(value='')))"
      ]
     },
     "metadata": {},
     "output_type": "display_data"
    },
    {
     "name": "stdout",
     "output_type": "stream",
     "text": [
      "\n",
      "train precision@50, recall@50, precision@5, recall@5\n",
      "[('own_rec', 0.08031907179115301)]\n",
      "[('own_rec', 0.053264317967889)]\n",
      "[('own_rec', 0.20333575054387235)]\n",
      "[('own_rec', 0.014650691155439405)]\n",
      "test precision@50, recall@50, precision@5, recall@5\n",
      "[('own_rec', 0.04878897751994199)]\n",
      "[('own_rec', 0.056308883771694664)]\n",
      "[('own_rec', 0.1343002175489485)]\n",
      "[('own_rec', 0.017035476498478697)]\n",
      "6 3 500\n"
     ]
    },
    {
     "data": {
      "application/vnd.jupyter.widget-view+json": {
       "model_id": "48327d16fbe0438f8595f53dfd81c1dc",
       "version_major": 2,
       "version_minor": 0
      },
      "text/plain": [
       "HBox(children=(HTML(value=''), FloatProgress(value=0.0, max=15.0), HTML(value='')))"
      ]
     },
     "metadata": {},
     "output_type": "display_data"
    },
    {
     "name": "stdout",
     "output_type": "stream",
     "text": [
      "\n"
     ]
    },
    {
     "data": {
      "application/vnd.jupyter.widget-view+json": {
       "model_id": "a477fba255114ba5a8c92d088aea8ca7",
       "version_major": 2,
       "version_minor": 0
      },
      "text/plain": [
       "HBox(children=(HTML(value=''), FloatProgress(value=0.0, max=501.0), HTML(value='')))"
      ]
     },
     "metadata": {},
     "output_type": "display_data"
    },
    {
     "name": "stdout",
     "output_type": "stream",
     "text": [
      "\n",
      "train precision@50, recall@50, precision@5, recall@5\n",
      "[('own_rec', 0.10752719361856418)]\n",
      "[('own_rec', 0.06699982988496346)]\n",
      "[('own_rec', 0.2922407541696882)]\n",
      "[('own_rec', 0.020280368392656793)]\n",
      "test precision@50, recall@50, precision@5, recall@5\n",
      "[('own_rec', 0.06606236403190717)]\n",
      "[('own_rec', 0.07064402821420183)]\n",
      "[('own_rec', 0.19840464104423497)]\n",
      "[('own_rec', 0.02477015312854748)]\n",
      "6 3 1000\n"
     ]
    },
    {
     "data": {
      "application/vnd.jupyter.widget-view+json": {
       "model_id": "527097c68e5e43c899309e10e29a5245",
       "version_major": 2,
       "version_minor": 0
      },
      "text/plain": [
       "HBox(children=(HTML(value=''), FloatProgress(value=0.0, max=15.0), HTML(value='')))"
      ]
     },
     "metadata": {},
     "output_type": "display_data"
    },
    {
     "name": "stdout",
     "output_type": "stream",
     "text": [
      "\n"
     ]
    },
    {
     "data": {
      "application/vnd.jupyter.widget-view+json": {
       "model_id": "dc93738bda1c4d6785f139dfa4c46694",
       "version_major": 2,
       "version_minor": 0
      },
      "text/plain": [
       "HBox(children=(HTML(value=''), FloatProgress(value=0.0, max=1001.0), HTML(value='')))"
      ]
     },
     "metadata": {},
     "output_type": "display_data"
    },
    {
     "name": "stdout",
     "output_type": "stream",
     "text": [
      "\n",
      "train precision@50, recall@50, precision@5, recall@5\n",
      "[('own_rec', 0.11003625815808557)]\n",
      "[('own_rec', 0.06978985525800059)]\n",
      "[('own_rec', 0.2664249456127629)]\n",
      "[('own_rec', 0.018639544712482865)]\n",
      "test precision@50, recall@50, precision@5, recall@5\n",
      "[('own_rec', 0.06739666424945613)]\n",
      "[('own_rec', 0.07396072011204495)]\n",
      "[('own_rec', 0.17955039883973894)]\n",
      "[('own_rec', 0.022628662278170723)]\n",
      "6 3 2000\n"
     ]
    },
    {
     "data": {
      "application/vnd.jupyter.widget-view+json": {
       "model_id": "1e1cabb5a4c24763aa127aca0a3a9f41",
       "version_major": 2,
       "version_minor": 0
      },
      "text/plain": [
       "HBox(children=(HTML(value=''), FloatProgress(value=0.0, max=15.0), HTML(value='')))"
      ]
     },
     "metadata": {},
     "output_type": "display_data"
    },
    {
     "name": "stdout",
     "output_type": "stream",
     "text": [
      "\n"
     ]
    },
    {
     "data": {
      "application/vnd.jupyter.widget-view+json": {
       "model_id": "3b80829e18dd469fa21b47179c28bafb",
       "version_major": 2,
       "version_minor": 0
      },
      "text/plain": [
       "HBox(children=(HTML(value=''), FloatProgress(value=0.0, max=2001.0), HTML(value='')))"
      ]
     },
     "metadata": {},
     "output_type": "display_data"
    },
    {
     "name": "stdout",
     "output_type": "stream",
     "text": [
      "\n",
      "train precision@50, recall@50, precision@5, recall@5\n",
      "[('own_rec', 0.10613488034807833)]\n",
      "[('own_rec', 0.06821063045788094)]\n",
      "[('own_rec', 0.2498912255257433)]\n",
      "[('own_rec', 0.01783678429300966)]\n",
      "test precision@50, recall@50, precision@5, recall@5\n",
      "[('own_rec', 0.06417693981145758)]\n",
      "[('own_rec', 0.07076715893840577)]\n",
      "[('own_rec', 0.16823785351704135)]\n",
      "[('own_rec', 0.021493536850105067)]\n",
      "6 3 3000\n"
     ]
    },
    {
     "data": {
      "application/vnd.jupyter.widget-view+json": {
       "model_id": "b45e15853f8245099df2b491b6eefda2",
       "version_major": 2,
       "version_minor": 0
      },
      "text/plain": [
       "HBox(children=(HTML(value=''), FloatProgress(value=0.0, max=15.0), HTML(value='')))"
      ]
     },
     "metadata": {},
     "output_type": "display_data"
    },
    {
     "name": "stdout",
     "output_type": "stream",
     "text": [
      "\n"
     ]
    },
    {
     "data": {
      "application/vnd.jupyter.widget-view+json": {
       "model_id": "f91c4403265d447395455b63b76cb065",
       "version_major": 2,
       "version_minor": 0
      },
      "text/plain": [
       "HBox(children=(HTML(value=''), FloatProgress(value=0.0, max=3001.0), HTML(value='')))"
      ]
     },
     "metadata": {},
     "output_type": "display_data"
    },
    {
     "name": "stdout",
     "output_type": "stream",
     "text": [
      "\n",
      "train precision@50, recall@50, precision@5, recall@5\n",
      "[('own_rec', 0.10055112400290064)]\n",
      "[('own_rec', 0.06499466172993668)]\n",
      "[('own_rec', 0.24321972443799852)]\n",
      "[('own_rec', 0.01742257850351989)]\n",
      "test precision@50, recall@50, precision@5, recall@5\n",
      "[('own_rec', 0.06024655547498187)]\n",
      "[('own_rec', 0.06840867847832283)]\n",
      "[('own_rec', 0.15953589557650472)]\n",
      "[('own_rec', 0.021462382444271743)]\n",
      "6 3 4000\n"
     ]
    },
    {
     "data": {
      "application/vnd.jupyter.widget-view+json": {
       "model_id": "306b0003ad33491f8f9f0d1c5f17d051",
       "version_major": 2,
       "version_minor": 0
      },
      "text/plain": [
       "HBox(children=(HTML(value=''), FloatProgress(value=0.0, max=15.0), HTML(value='')))"
      ]
     },
     "metadata": {},
     "output_type": "display_data"
    },
    {
     "name": "stdout",
     "output_type": "stream",
     "text": [
      "\n"
     ]
    },
    {
     "data": {
      "application/vnd.jupyter.widget-view+json": {
       "model_id": "e0b0dc3d825844be8f9d86596514cf92",
       "version_major": 2,
       "version_minor": 0
      },
      "text/plain": [
       "HBox(children=(HTML(value=''), FloatProgress(value=0.0, max=4000.0), HTML(value='')))"
      ]
     },
     "metadata": {},
     "output_type": "display_data"
    },
    {
     "name": "stdout",
     "output_type": "stream",
     "text": [
      "\n",
      "train precision@50, recall@50, precision@5, recall@5\n",
      "[('own_rec', 0.09282088469905729)]\n",
      "[('own_rec', 0.06021507751439318)]\n",
      "[('own_rec', 0.2301667875271936)]\n",
      "[('own_rec', 0.016394726305338007)]\n",
      "test precision@50, recall@50, precision@5, recall@5\n",
      "[('own_rec', 0.05559100797679479)]\n",
      "[('own_rec', 0.06344944163130108)]\n",
      "[('own_rec', 0.14720812182741116)]\n",
      "[('own_rec', 0.01961097102176255)]\n",
      "6 3 5000\n"
     ]
    },
    {
     "data": {
      "application/vnd.jupyter.widget-view+json": {
       "model_id": "66db498e8bbd469aaf4707010dc7e3d3",
       "version_major": 2,
       "version_minor": 0
      },
      "text/plain": [
       "HBox(children=(HTML(value=''), FloatProgress(value=0.0, max=15.0), HTML(value='')))"
      ]
     },
     "metadata": {},
     "output_type": "display_data"
    },
    {
     "name": "stdout",
     "output_type": "stream",
     "text": [
      "\n"
     ]
    },
    {
     "data": {
      "application/vnd.jupyter.widget-view+json": {
       "model_id": "e06fc91770a04b7f9bcb2b55c382d151",
       "version_major": 2,
       "version_minor": 0
      },
      "text/plain": [
       "HBox(children=(HTML(value=''), FloatProgress(value=0.0, max=4998.0), HTML(value='')))"
      ]
     },
     "metadata": {},
     "output_type": "display_data"
    },
    {
     "name": "stdout",
     "output_type": "stream",
     "text": [
      "\n",
      "train precision@50, recall@50, precision@5, recall@5\n",
      "[('own_rec', 0.08571428571428572)]\n",
      "[('own_rec', 0.05636307529820907)]\n",
      "[('own_rec', 0.21508339376359684)]\n",
      "[('own_rec', 0.015131102094116356)]\n",
      "test precision@50, recall@50, precision@5, recall@5\n",
      "[('own_rec', 0.050993473531544604)]\n",
      "[('own_rec', 0.05895329402436523)]\n",
      "[('own_rec', 0.13778100072516317)]\n",
      "[('own_rec', 0.018161290385464088)]\n",
      "6 3 6000\n"
     ]
    },
    {
     "data": {
      "application/vnd.jupyter.widget-view+json": {
       "model_id": "72041fb97df04f3d846264e2f2d32953",
       "version_major": 2,
       "version_minor": 0
      },
      "text/plain": [
       "HBox(children=(HTML(value=''), FloatProgress(value=0.0, max=15.0), HTML(value='')))"
      ]
     },
     "metadata": {},
     "output_type": "display_data"
    },
    {
     "name": "stdout",
     "output_type": "stream",
     "text": [
      "\n"
     ]
    },
    {
     "data": {
      "application/vnd.jupyter.widget-view+json": {
       "model_id": "7c53100e5c024d28b24d33a69409c383",
       "version_major": 2,
       "version_minor": 0
      },
      "text/plain": [
       "HBox(children=(HTML(value=''), FloatProgress(value=0.0, max=5996.0), HTML(value='')))"
      ]
     },
     "metadata": {},
     "output_type": "display_data"
    },
    {
     "name": "stdout",
     "output_type": "stream",
     "text": [
      "\n",
      "train precision@50, recall@50, precision@5, recall@5\n",
      "[('own_rec', 0.08)]\n",
      "[('own_rec', 0.0530427462006124)]\n",
      "[('own_rec', 0.20319071791153012)]\n",
      "[('own_rec', 0.014685449826666919)]\n",
      "test precision@50, recall@50, precision@5, recall@5\n",
      "[('own_rec', 0.04777374909354604)]\n",
      "[('own_rec', 0.05497305245409913)]\n",
      "[('own_rec', 0.13270485859318346)]\n",
      "[('own_rec', 0.01704505855347817)]\n",
      "6 4 500\n"
     ]
    },
    {
     "data": {
      "application/vnd.jupyter.widget-view+json": {
       "model_id": "18a0ee918cc94e59b0f3f4bec47dfe5d",
       "version_major": 2,
       "version_minor": 0
      },
      "text/plain": [
       "HBox(children=(HTML(value=''), FloatProgress(value=0.0, max=15.0), HTML(value='')))"
      ]
     },
     "metadata": {},
     "output_type": "display_data"
    },
    {
     "name": "stdout",
     "output_type": "stream",
     "text": [
      "\n"
     ]
    },
    {
     "data": {
      "application/vnd.jupyter.widget-view+json": {
       "model_id": "bfa9e64fd1864586b8ea5fb393f76f4d",
       "version_major": 2,
       "version_minor": 0
      },
      "text/plain": [
       "HBox(children=(HTML(value=''), FloatProgress(value=0.0, max=501.0), HTML(value='')))"
      ]
     },
     "metadata": {},
     "output_type": "display_data"
    },
    {
     "name": "stdout",
     "output_type": "stream",
     "text": [
      "\n",
      "train precision@50, recall@50, precision@5, recall@5\n",
      "[('own_rec', 0.11050036258158087)]\n",
      "[('own_rec', 0.06758170292940578)]\n",
      "[('own_rec', 0.2915155910079768)]\n",
      "[('own_rec', 0.019419188245940897)]\n",
      "test precision@50, recall@50, precision@5, recall@5\n",
      "[('own_rec', 0.06577229876722264)]\n",
      "[('own_rec', 0.07048688929247997)]\n",
      "[('own_rec', 0.19550398839738942)]\n",
      "[('own_rec', 0.024839065620058526)]\n",
      "6 4 1000\n"
     ]
    },
    {
     "data": {
      "application/vnd.jupyter.widget-view+json": {
       "model_id": "daf1f1d0ea1348aa87a7f47803f27bbf",
       "version_major": 2,
       "version_minor": 0
      },
      "text/plain": [
       "HBox(children=(HTML(value=''), FloatProgress(value=0.0, max=15.0), HTML(value='')))"
      ]
     },
     "metadata": {},
     "output_type": "display_data"
    },
    {
     "name": "stdout",
     "output_type": "stream",
     "text": [
      "\n"
     ]
    },
    {
     "data": {
      "application/vnd.jupyter.widget-view+json": {
       "model_id": "ad0dadb1a38846978e917bffed909f0f",
       "version_major": 2,
       "version_minor": 0
      },
      "text/plain": [
       "HBox(children=(HTML(value=''), FloatProgress(value=0.0, max=1001.0), HTML(value='')))"
      ]
     },
     "metadata": {},
     "output_type": "display_data"
    },
    {
     "name": "stdout",
     "output_type": "stream",
     "text": [
      "\n",
      "train precision@50, recall@50, precision@5, recall@5\n",
      "[('own_rec', 0.11248730964467006)]\n",
      "[('own_rec', 0.07039557502811662)]\n",
      "[('own_rec', 0.27019579405366206)]\n",
      "[('own_rec', 0.01859295763377617)]\n",
      "test precision@50, recall@50, precision@5, recall@5\n",
      "[('own_rec', 0.0664394488759971)]\n",
      "[('own_rec', 0.07293424358705443)]\n",
      "[('own_rec', 0.1772298767222625)]\n",
      "[('own_rec', 0.02244161782168302)]\n",
      "6 4 2000\n"
     ]
    },
    {
     "data": {
      "application/vnd.jupyter.widget-view+json": {
       "model_id": "232a9ca17a6548719bb6a9b9948f560a",
       "version_major": 2,
       "version_minor": 0
      },
      "text/plain": [
       "HBox(children=(HTML(value=''), FloatProgress(value=0.0, max=15.0), HTML(value='')))"
      ]
     },
     "metadata": {},
     "output_type": "display_data"
    },
    {
     "name": "stdout",
     "output_type": "stream",
     "text": [
      "\n"
     ]
    },
    {
     "data": {
      "application/vnd.jupyter.widget-view+json": {
       "model_id": "1f5f3d458be944bba45275d1adb63113",
       "version_major": 2,
       "version_minor": 0
      },
      "text/plain": [
       "HBox(children=(HTML(value=''), FloatProgress(value=0.0, max=2001.0), HTML(value='')))"
      ]
     },
     "metadata": {},
     "output_type": "display_data"
    },
    {
     "name": "stdout",
     "output_type": "stream",
     "text": [
      "\n",
      "train precision@50, recall@50, precision@5, recall@5\n",
      "[('own_rec', 0.10891950688905003)]\n",
      "[('own_rec', 0.06888500379578075)]\n",
      "[('own_rec', 0.2564176939811458)]\n",
      "[('own_rec', 0.018303166997918875)]\n",
      "test precision@50, recall@50, precision@5, recall@5\n",
      "[('own_rec', 0.06316171138506164)]\n",
      "[('own_rec', 0.06954437813108455)]\n",
      "[('own_rec', 0.16316171138506164)]\n",
      "[('own_rec', 0.021011759939476942)]\n",
      "6 4 3000\n"
     ]
    },
    {
     "data": {
      "application/vnd.jupyter.widget-view+json": {
       "model_id": "11ecf3c5c809473fb7fb049e85c6ba42",
       "version_major": 2,
       "version_minor": 0
      },
      "text/plain": [
       "HBox(children=(HTML(value=''), FloatProgress(value=0.0, max=15.0), HTML(value='')))"
      ]
     },
     "metadata": {},
     "output_type": "display_data"
    },
    {
     "name": "stdout",
     "output_type": "stream",
     "text": [
      "\n"
     ]
    },
    {
     "data": {
      "application/vnd.jupyter.widget-view+json": {
       "model_id": "b58b9900bcb94071aaa7353ee2664c1d",
       "version_major": 2,
       "version_minor": 0
      },
      "text/plain": [
       "HBox(children=(HTML(value=''), FloatProgress(value=0.0, max=3001.0), HTML(value='')))"
      ]
     },
     "metadata": {},
     "output_type": "display_data"
    },
    {
     "name": "stdout",
     "output_type": "stream",
     "text": [
      "\n",
      "train precision@50, recall@50, precision@5, recall@5\n",
      "[('own_rec', 0.10263959390862945)]\n",
      "[('own_rec', 0.06603543321684284)]\n",
      "[('own_rec', 0.249746192893401)]\n",
      "[('own_rec', 0.01792611582056209)]\n",
      "test precision@50, recall@50, precision@5, recall@5\n",
      "[('own_rec', 0.05921682378535171)]\n",
      "[('own_rec', 0.06722938096989364)]\n",
      "[('own_rec', 0.154459753444525)]\n",
      "[('own_rec', 0.020896079482574152)]\n",
      "6 4 4000\n"
     ]
    },
    {
     "data": {
      "application/vnd.jupyter.widget-view+json": {
       "model_id": "f0dfa1373bf84400bcae4944c42dbec8",
       "version_major": 2,
       "version_minor": 0
      },
      "text/plain": [
       "HBox(children=(HTML(value=''), FloatProgress(value=0.0, max=15.0), HTML(value='')))"
      ]
     },
     "metadata": {},
     "output_type": "display_data"
    },
    {
     "name": "stdout",
     "output_type": "stream",
     "text": [
      "\n"
     ]
    },
    {
     "data": {
      "application/vnd.jupyter.widget-view+json": {
       "model_id": "d4f88641dc804a4f9c9439939e043baf",
       "version_major": 2,
       "version_minor": 0
      },
      "text/plain": [
       "HBox(children=(HTML(value=''), FloatProgress(value=0.0, max=4000.0), HTML(value='')))"
      ]
     },
     "metadata": {},
     "output_type": "display_data"
    },
    {
     "name": "stdout",
     "output_type": "stream",
     "text": [
      "\n",
      "train precision@50, recall@50, precision@5, recall@5\n",
      "[('own_rec', 0.09540246555474982)]\n",
      "[('own_rec', 0.06118592795570906)]\n",
      "[('own_rec', 0.23712835387962292)]\n",
      "[('own_rec', 0.016876881605480357)]\n",
      "test precision@50, recall@50, precision@5, recall@5\n",
      "[('own_rec', 0.054517766497461935)]\n",
      "[('own_rec', 0.06262898737722235)]\n",
      "[('own_rec', 0.14590282813633068)]\n",
      "[('own_rec', 0.01971912061010135)]\n",
      "6 4 5000\n"
     ]
    },
    {
     "data": {
      "application/vnd.jupyter.widget-view+json": {
       "model_id": "567d39ed2c28443ba2c3ed67430169ca",
       "version_major": 2,
       "version_minor": 0
      },
      "text/plain": [
       "HBox(children=(HTML(value=''), FloatProgress(value=0.0, max=15.0), HTML(value='')))"
      ]
     },
     "metadata": {},
     "output_type": "display_data"
    },
    {
     "name": "stdout",
     "output_type": "stream",
     "text": [
      "\n"
     ]
    },
    {
     "data": {
      "application/vnd.jupyter.widget-view+json": {
       "model_id": "5c9c6f1d7130435483ef6702219a58b6",
       "version_major": 2,
       "version_minor": 0
      },
      "text/plain": [
       "HBox(children=(HTML(value=''), FloatProgress(value=0.0, max=4998.0), HTML(value='')))"
      ]
     },
     "metadata": {},
     "output_type": "display_data"
    },
    {
     "name": "stdout",
     "output_type": "stream",
     "text": [
      "\n",
      "train precision@50, recall@50, precision@5, recall@5\n",
      "[('own_rec', 0.087643219724438)]\n",
      "[('own_rec', 0.05679240264495523)]\n",
      "[('own_rec', 0.2229151559100798)]\n",
      "[('own_rec', 0.015574958991047994)]\n",
      "test precision@50, recall@50, precision@5, recall@5\n",
      "[('own_rec', 0.05032632342277013)]\n",
      "[('own_rec', 0.057968255879652646)]\n",
      "[('own_rec', 0.1376359680928209)]\n",
      "[('own_rec', 0.0183070521542363)]\n",
      "6 4 6000\n"
     ]
    },
    {
     "data": {
      "application/vnd.jupyter.widget-view+json": {
       "model_id": "4b476b5a940849ca8873708aa06f45b0",
       "version_major": 2,
       "version_minor": 0
      },
      "text/plain": [
       "HBox(children=(HTML(value=''), FloatProgress(value=0.0, max=15.0), HTML(value='')))"
      ]
     },
     "metadata": {},
     "output_type": "display_data"
    },
    {
     "name": "stdout",
     "output_type": "stream",
     "text": [
      "\n"
     ]
    },
    {
     "data": {
      "application/vnd.jupyter.widget-view+json": {
       "model_id": "d6a3ed797d60431c8c672638163a266a",
       "version_major": 2,
       "version_minor": 0
      },
      "text/plain": [
       "HBox(children=(HTML(value=''), FloatProgress(value=0.0, max=5996.0), HTML(value='')))"
      ]
     },
     "metadata": {},
     "output_type": "display_data"
    },
    {
     "name": "stdout",
     "output_type": "stream",
     "text": [
      "\n",
      "train precision@50, recall@50, precision@5, recall@5\n",
      "[('own_rec', 0.08147933284989123)]\n",
      "[('own_rec', 0.0535118831127192)]\n",
      "[('own_rec', 0.21174764321972445)]\n",
      "[('own_rec', 0.014966134182602824)]\n",
      "test precision@50, recall@50, precision@5, recall@5\n",
      "[('own_rec', 0.047251631617113855)]\n",
      "[('own_rec', 0.05405953627949065)]\n",
      "[('own_rec', 0.1305293691080493)]\n",
      "[('own_rec', 0.016802813925208958)]\n",
      "6 5 500\n"
     ]
    },
    {
     "data": {
      "application/vnd.jupyter.widget-view+json": {
       "model_id": "f7de821d93d34d9db43c29208c7cd2ad",
       "version_major": 2,
       "version_minor": 0
      },
      "text/plain": [
       "HBox(children=(HTML(value=''), FloatProgress(value=0.0, max=15.0), HTML(value='')))"
      ]
     },
     "metadata": {},
     "output_type": "display_data"
    },
    {
     "name": "stdout",
     "output_type": "stream",
     "text": [
      "\n"
     ]
    },
    {
     "data": {
      "application/vnd.jupyter.widget-view+json": {
       "model_id": "98191699a306407ab3ba857b98f561d5",
       "version_major": 2,
       "version_minor": 0
      },
      "text/plain": [
       "HBox(children=(HTML(value=''), FloatProgress(value=0.0, max=501.0), HTML(value='')))"
      ]
     },
     "metadata": {},
     "output_type": "display_data"
    },
    {
     "name": "stdout",
     "output_type": "stream",
     "text": [
      "\n",
      "train precision@50, recall@50, precision@5, recall@5\n",
      "[('own_rec', 0.10852791878172591)]\n",
      "[('own_rec', 0.06763315802317665)]\n",
      "[('own_rec', 0.28658448150833943)]\n",
      "[('own_rec', 0.02018933018059503)]\n",
      "test precision@50, recall@50, precision@5, recall@5\n",
      "[('own_rec', 0.0653372008701958)]\n",
      "[('own_rec', 0.07003374218797778)]\n",
      "[('own_rec', 0.19376359680928207)]\n",
      "[('own_rec', 0.024180523543706353)]\n",
      "6 5 1000\n"
     ]
    },
    {
     "data": {
      "application/vnd.jupyter.widget-view+json": {
       "model_id": "812510256b64439f82a6c95516fb88af",
       "version_major": 2,
       "version_minor": 0
      },
      "text/plain": [
       "HBox(children=(HTML(value=''), FloatProgress(value=0.0, max=15.0), HTML(value='')))"
      ]
     },
     "metadata": {},
     "output_type": "display_data"
    },
    {
     "name": "stdout",
     "output_type": "stream",
     "text": [
      "\n"
     ]
    },
    {
     "data": {
      "application/vnd.jupyter.widget-view+json": {
       "model_id": "ad78f88a9034485aa59755add2f1c4b6",
       "version_major": 2,
       "version_minor": 0
      },
      "text/plain": [
       "HBox(children=(HTML(value=''), FloatProgress(value=0.0, max=1001.0), HTML(value='')))"
      ]
     },
     "metadata": {},
     "output_type": "display_data"
    },
    {
     "name": "stdout",
     "output_type": "stream",
     "text": [
      "\n",
      "train precision@50, recall@50, precision@5, recall@5\n",
      "[('own_rec', 0.1109934735315446)]\n",
      "[('own_rec', 0.07031194036091937)]\n",
      "[('own_rec', 0.2645395213923133)]\n",
      "[('own_rec', 0.018746966918332376)]\n",
      "test precision@50, recall@50, precision@5, recall@5\n",
      "[('own_rec', 0.06583031182015954)]\n",
      "[('own_rec', 0.07243910769829717)]\n",
      "[('own_rec', 0.1734590282813633)]\n",
      "[('own_rec', 0.022180866789166767)]\n",
      "6 5 2000\n"
     ]
    },
    {
     "data": {
      "application/vnd.jupyter.widget-view+json": {
       "model_id": "de46c04ce1c5463295a50583e895d966",
       "version_major": 2,
       "version_minor": 0
      },
      "text/plain": [
       "HBox(children=(HTML(value=''), FloatProgress(value=0.0, max=15.0), HTML(value='')))"
      ]
     },
     "metadata": {},
     "output_type": "display_data"
    },
    {
     "name": "stdout",
     "output_type": "stream",
     "text": [
      "\n"
     ]
    },
    {
     "data": {
      "application/vnd.jupyter.widget-view+json": {
       "model_id": "b6469ed046d048038a9bb62cae50e668",
       "version_major": 2,
       "version_minor": 0
      },
      "text/plain": [
       "HBox(children=(HTML(value=''), FloatProgress(value=0.0, max=2001.0), HTML(value='')))"
      ]
     },
     "metadata": {},
     "output_type": "display_data"
    },
    {
     "name": "stdout",
     "output_type": "stream",
     "text": [
      "\n",
      "train precision@50, recall@50, precision@5, recall@5\n",
      "[('own_rec', 0.1066424945612763)]\n",
      "[('own_rec', 0.0684985263853932)]\n",
      "[('own_rec', 0.2532269760696157)]\n",
      "[('own_rec', 0.018444772962353365)]\n",
      "test precision@50, recall@50, precision@5, recall@5\n",
      "[('own_rec', 0.0625670775924583)]\n",
      "[('own_rec', 0.06912849215750744)]\n",
      "[('own_rec', 0.16258158085569252)]\n",
      "[('own_rec', 0.02096493653321568)]\n",
      "6 5 3000\n"
     ]
    },
    {
     "data": {
      "application/vnd.jupyter.widget-view+json": {
       "model_id": "be144c51df3d4b1590d63aa5e15ced4a",
       "version_major": 2,
       "version_minor": 0
      },
      "text/plain": [
       "HBox(children=(HTML(value=''), FloatProgress(value=0.0, max=15.0), HTML(value='')))"
      ]
     },
     "metadata": {},
     "output_type": "display_data"
    },
    {
     "name": "stdout",
     "output_type": "stream",
     "text": [
      "\n"
     ]
    },
    {
     "data": {
      "application/vnd.jupyter.widget-view+json": {
       "model_id": "ef886675963e4d008923bc64c161fe20",
       "version_major": 2,
       "version_minor": 0
      },
      "text/plain": [
       "HBox(children=(HTML(value=''), FloatProgress(value=0.0, max=3001.0), HTML(value='')))"
      ]
     },
     "metadata": {},
     "output_type": "display_data"
    },
    {
     "name": "stdout",
     "output_type": "stream",
     "text": [
      "\n",
      "train precision@50, recall@50, precision@5, recall@5\n",
      "[('own_rec', 0.10039158810732414)]\n",
      "[('own_rec', 0.06544196312232481)]\n",
      "[('own_rec', 0.24916606236403194)]\n",
      "[('own_rec', 0.017931579849667534)]\n",
      "test precision@50, recall@50, precision@5, recall@5\n",
      "[('own_rec', 0.05866569978245106)]\n",
      "[('own_rec', 0.06646783897489099)]\n",
      "[('own_rec', 0.15315445975344455)]\n",
      "[('own_rec', 0.02077750724195391)]\n",
      "6 5 4000\n"
     ]
    },
    {
     "data": {
      "application/vnd.jupyter.widget-view+json": {
       "model_id": "6f921b34a67b4d03a1c5ecea27f0dd7f",
       "version_major": 2,
       "version_minor": 0
      },
      "text/plain": [
       "HBox(children=(HTML(value=''), FloatProgress(value=0.0, max=15.0), HTML(value='')))"
      ]
     },
     "metadata": {},
     "output_type": "display_data"
    },
    {
     "name": "stdout",
     "output_type": "stream",
     "text": [
      "\n"
     ]
    },
    {
     "data": {
      "application/vnd.jupyter.widget-view+json": {
       "model_id": "239fd04459a941de8c316b5a9645aafe",
       "version_major": 2,
       "version_minor": 0
      },
      "text/plain": [
       "HBox(children=(HTML(value=''), FloatProgress(value=0.0, max=3999.0), HTML(value='')))"
      ]
     },
     "metadata": {},
     "output_type": "display_data"
    },
    {
     "name": "stdout",
     "output_type": "stream",
     "text": [
      "\n",
      "train precision@50, recall@50, precision@5, recall@5\n",
      "[('own_rec', 0.09348803480783177)]\n",
      "[('own_rec', 0.06116000451238968)]\n",
      "[('own_rec', 0.23567802755620015)]\n",
      "[('own_rec', 0.016870365960007263)]\n",
      "test precision@50, recall@50, precision@5, recall@5\n",
      "[('own_rec', 0.05409717186366933)]\n",
      "[('own_rec', 0.062131826901646106)]\n",
      "[('own_rec', 0.14532269760696157)]\n",
      "[('own_rec', 0.019619431642293534)]\n",
      "6 5 5000\n"
     ]
    },
    {
     "data": {
      "application/vnd.jupyter.widget-view+json": {
       "model_id": "12ca3cedc47249419dfe115edf9ad390",
       "version_major": 2,
       "version_minor": 0
      },
      "text/plain": [
       "HBox(children=(HTML(value=''), FloatProgress(value=0.0, max=15.0), HTML(value='')))"
      ]
     },
     "metadata": {},
     "output_type": "display_data"
    },
    {
     "name": "stdout",
     "output_type": "stream",
     "text": [
      "\n"
     ]
    },
    {
     "data": {
      "application/vnd.jupyter.widget-view+json": {
       "model_id": "ad6291c785704571af55f5672e911f78",
       "version_major": 2,
       "version_minor": 0
      },
      "text/plain": [
       "HBox(children=(HTML(value=''), FloatProgress(value=0.0, max=4998.0), HTML(value='')))"
      ]
     },
     "metadata": {},
     "output_type": "display_data"
    },
    {
     "name": "stdout",
     "output_type": "stream",
     "text": [
      "\n",
      "train precision@50, recall@50, precision@5, recall@5\n",
      "[('own_rec', 0.08578680203045685)]\n",
      "[('own_rec', 0.05632408371788542)]\n",
      "[('own_rec', 0.21870920957215376)]\n",
      "[('own_rec', 0.015145302426196437)]\n",
      "test precision@50, recall@50, precision@5, recall@5\n",
      "[('own_rec', 0.04977519941986948)]\n",
      "[('own_rec', 0.05756443529708667)]\n",
      "[('own_rec', 0.13604060913705585)]\n",
      "[('own_rec', 0.018287982794336743)]\n",
      "6 5 6000\n"
     ]
    },
    {
     "data": {
      "application/vnd.jupyter.widget-view+json": {
       "model_id": "539a5ed92a274e2fbbbcab23cbf7306c",
       "version_major": 2,
       "version_minor": 0
      },
      "text/plain": [
       "HBox(children=(HTML(value=''), FloatProgress(value=0.0, max=15.0), HTML(value='')))"
      ]
     },
     "metadata": {},
     "output_type": "display_data"
    },
    {
     "name": "stdout",
     "output_type": "stream",
     "text": [
      "\n"
     ]
    },
    {
     "data": {
      "application/vnd.jupyter.widget-view+json": {
       "model_id": "7a10f267c53249e7b6cba9683ffb0ca1",
       "version_major": 2,
       "version_minor": 0
      },
      "text/plain": [
       "HBox(children=(HTML(value=''), FloatProgress(value=0.0, max=5996.0), HTML(value='')))"
      ]
     },
     "metadata": {},
     "output_type": "display_data"
    },
    {
     "name": "stdout",
     "output_type": "stream",
     "text": [
      "\n",
      "train precision@50, recall@50, precision@5, recall@5\n",
      "[('own_rec', 0.07943437273386514)]\n",
      "[('own_rec', 0.05263870008785885)]\n",
      "[('own_rec', 0.20739666424945613)]\n",
      "[('own_rec', 0.01467548351905604)]\n",
      "test precision@50, recall@50, precision@5, recall@5\n",
      "[('own_rec', 0.04620739666424945)]\n",
      "[('own_rec', 0.053078533083100614)]\n",
      "[('own_rec', 0.12893401015228428)]\n",
      "[('own_rec', 0.016775575533838336)]\n",
      "6 6 500\n"
     ]
    },
    {
     "data": {
      "application/vnd.jupyter.widget-view+json": {
       "model_id": "1829ce178fef49b2a792453e7dfc642e",
       "version_major": 2,
       "version_minor": 0
      },
      "text/plain": [
       "HBox(children=(HTML(value=''), FloatProgress(value=0.0, max=15.0), HTML(value='')))"
      ]
     },
     "metadata": {},
     "output_type": "display_data"
    },
    {
     "name": "stdout",
     "output_type": "stream",
     "text": [
      "\n"
     ]
    },
    {
     "data": {
      "application/vnd.jupyter.widget-view+json": {
       "model_id": "bf452679110740fcb4ab53d8af0c381d",
       "version_major": 2,
       "version_minor": 0
      },
      "text/plain": [
       "HBox(children=(HTML(value=''), FloatProgress(value=0.0, max=501.0), HTML(value='')))"
      ]
     },
     "metadata": {},
     "output_type": "display_data"
    },
    {
     "name": "stdout",
     "output_type": "stream",
     "text": [
      "\n",
      "train precision@50, recall@50, precision@5, recall@5\n",
      "[('own_rec', 0.10616388687454678)]\n",
      "[('own_rec', 0.06802765049737138)]\n",
      "[('own_rec', 0.2820884699057288)]\n",
      "[('own_rec', 0.020857940010361384)]\n",
      "test precision@50, recall@50, precision@5, recall@5\n",
      "[('own_rec', 0.06510514865844814)]\n",
      "[('own_rec', 0.06967380763037963)]\n",
      "[('own_rec', 0.1899927483683829)]\n",
      "[('own_rec', 0.02374691644180929)]\n",
      "6 6 1000\n"
     ]
    },
    {
     "data": {
      "application/vnd.jupyter.widget-view+json": {
       "model_id": "b6f36ed910ca4f96b98db1c7c60e9c22",
       "version_major": 2,
       "version_minor": 0
      },
      "text/plain": [
       "HBox(children=(HTML(value=''), FloatProgress(value=0.0, max=15.0), HTML(value='')))"
      ]
     },
     "metadata": {},
     "output_type": "display_data"
    },
    {
     "name": "stdout",
     "output_type": "stream",
     "text": [
      "\n"
     ]
    },
    {
     "data": {
      "application/vnd.jupyter.widget-view+json": {
       "model_id": "b9c2231f10d5452c9a6d8940b92d2277",
       "version_major": 2,
       "version_minor": 0
      },
      "text/plain": [
       "HBox(children=(HTML(value=''), FloatProgress(value=0.0, max=1001.0), HTML(value='')))"
      ]
     },
     "metadata": {},
     "output_type": "display_data"
    },
    {
     "name": "stdout",
     "output_type": "stream",
     "text": [
      "\n",
      "train precision@50, recall@50, precision@5, recall@5\n",
      "[('own_rec', 0.10871646120377086)]\n",
      "[('own_rec', 0.07104348677998552)]\n",
      "[('own_rec', 0.26569978245105147)]\n",
      "[('own_rec', 0.02000707648294438)]\n",
      "test precision@50, recall@50, precision@5, recall@5\n",
      "[('own_rec', 0.06538071065989849)]\n",
      "[('own_rec', 0.07209513480358777)]\n",
      "[('own_rec', 0.1727338651196519)]\n",
      "[('own_rec', 0.022045360307623007)]\n",
      "6 6 2000\n"
     ]
    },
    {
     "data": {
      "application/vnd.jupyter.widget-view+json": {
       "model_id": "066daa91a8564cf9bfce01d0ff8d9c82",
       "version_major": 2,
       "version_minor": 0
      },
      "text/plain": [
       "HBox(children=(HTML(value=''), FloatProgress(value=0.0, max=15.0), HTML(value='')))"
      ]
     },
     "metadata": {},
     "output_type": "display_data"
    },
    {
     "name": "stdout",
     "output_type": "stream",
     "text": [
      "\n"
     ]
    },
    {
     "data": {
      "application/vnd.jupyter.widget-view+json": {
       "model_id": "d1caebea288c4687ad98836bedc8f7b9",
       "version_major": 2,
       "version_minor": 0
      },
      "text/plain": [
       "HBox(children=(HTML(value=''), FloatProgress(value=0.0, max=2001.0), HTML(value='')))"
      ]
     },
     "metadata": {},
     "output_type": "display_data"
    },
    {
     "name": "stdout",
     "output_type": "stream",
     "text": [
      "\n",
      "train precision@50, recall@50, precision@5, recall@5\n",
      "[('own_rec', 0.10395939086294417)]\n",
      "[('own_rec', 0.06933746602447655)]\n",
      "[('own_rec', 0.2493110949963742)]\n",
      "[('own_rec', 0.019315488574316402)]\n",
      "test precision@50, recall@50, precision@5, recall@5\n",
      "[('own_rec', 0.061725888324873086)]\n",
      "[('own_rec', 0.06800217537371832)]\n",
      "[('own_rec', 0.15997099347353155)]\n",
      "[('own_rec', 0.020475685063203346)]\n",
      "6 6 3000\n"
     ]
    },
    {
     "data": {
      "application/vnd.jupyter.widget-view+json": {
       "model_id": "aa8d5e9d23a84812a1c2dca46c74de9b",
       "version_major": 2,
       "version_minor": 0
      },
      "text/plain": [
       "HBox(children=(HTML(value=''), FloatProgress(value=0.0, max=15.0), HTML(value='')))"
      ]
     },
     "metadata": {},
     "output_type": "display_data"
    },
    {
     "name": "stdout",
     "output_type": "stream",
     "text": [
      "\n"
     ]
    },
    {
     "data": {
      "application/vnd.jupyter.widget-view+json": {
       "model_id": "f7152db9585549909980c14f25f247a6",
       "version_major": 2,
       "version_minor": 0
      },
      "text/plain": [
       "HBox(children=(HTML(value=''), FloatProgress(value=0.0, max=3001.0), HTML(value='')))"
      ]
     },
     "metadata": {},
     "output_type": "display_data"
    },
    {
     "name": "stdout",
     "output_type": "stream",
     "text": [
      "\n",
      "train precision@50, recall@50, precision@5, recall@5\n",
      "[('own_rec', 0.0981145757795504)]\n",
      "[('own_rec', 0.06630999797364737)]\n",
      "[('own_rec', 0.24510514865844815)]\n",
      "[('own_rec', 0.01844308857725231)]\n",
      "test precision@50, recall@50, precision@5, recall@5\n",
      "[('own_rec', 0.05786802030456853)]\n",
      "[('own_rec', 0.06561763206008937)]\n",
      "[('own_rec', 0.14996374184191444)]\n",
      "[('own_rec', 0.020277836365768086)]\n",
      "6 6 4000\n"
     ]
    },
    {
     "data": {
      "application/vnd.jupyter.widget-view+json": {
       "model_id": "8b40c462009443e88eecf78ba81e6347",
       "version_major": 2,
       "version_minor": 0
      },
      "text/plain": [
       "HBox(children=(HTML(value=''), FloatProgress(value=0.0, max=15.0), HTML(value='')))"
      ]
     },
     "metadata": {},
     "output_type": "display_data"
    },
    {
     "name": "stdout",
     "output_type": "stream",
     "text": [
      "\n"
     ]
    },
    {
     "data": {
      "application/vnd.jupyter.widget-view+json": {
       "model_id": "3dae14358c8b42faaf2e73984d7be9af",
       "version_major": 2,
       "version_minor": 0
      },
      "text/plain": [
       "HBox(children=(HTML(value=''), FloatProgress(value=0.0, max=3999.0), HTML(value='')))"
      ]
     },
     "metadata": {},
     "output_type": "display_data"
    },
    {
     "name": "stdout",
     "output_type": "stream",
     "text": [
      "\n",
      "train precision@50, recall@50, precision@5, recall@5\n",
      "[('own_rec', 0.09173313995649021)]\n",
      "[('own_rec', 0.06206173315376287)]\n",
      "[('own_rec', 0.23176214648295868)]\n",
      "[('own_rec', 0.017270373717834298)]\n",
      "test precision@50, recall@50, precision@5, recall@5\n",
      "[('own_rec', 0.05354604786076868)]\n",
      "[('own_rec', 0.061392524657022614)]\n",
      "[('own_rec', 0.14358230601885424)]\n",
      "[('own_rec', 0.019433439785998412)]\n",
      "6 6 5000\n"
     ]
    },
    {
     "data": {
      "application/vnd.jupyter.widget-view+json": {
       "model_id": "7d133acb121149c7a0cf02e352c99219",
       "version_major": 2,
       "version_minor": 0
      },
      "text/plain": [
       "HBox(children=(HTML(value=''), FloatProgress(value=0.0, max=15.0), HTML(value='')))"
      ]
     },
     "metadata": {},
     "output_type": "display_data"
    },
    {
     "name": "stdout",
     "output_type": "stream",
     "text": [
      "\n"
     ]
    },
    {
     "data": {
      "application/vnd.jupyter.widget-view+json": {
       "model_id": "f93805216e27426bb6429cc75c741845",
       "version_major": 2,
       "version_minor": 0
      },
      "text/plain": [
       "HBox(children=(HTML(value=''), FloatProgress(value=0.0, max=4998.0), HTML(value='')))"
      ]
     },
     "metadata": {},
     "output_type": "display_data"
    },
    {
     "name": "stdout",
     "output_type": "stream",
     "text": [
      "\n",
      "train precision@50, recall@50, precision@5, recall@5\n",
      "[('own_rec', 0.08336475707034083)]\n",
      "[('own_rec', 0.056686287961797206)]\n",
      "[('own_rec', 0.21406816533720086)]\n",
      "[('own_rec', 0.01528585189489291)]\n",
      "test precision@50, recall@50, precision@5, recall@5\n",
      "[('own_rec', 0.048992023205221176)]\n",
      "[('own_rec', 0.05637868825307667)]\n",
      "[('own_rec', 0.13357505438723713)]\n",
      "[('own_rec', 0.017937183516162327)]\n",
      "6 6 6000\n"
     ]
    },
    {
     "data": {
      "application/vnd.jupyter.widget-view+json": {
       "model_id": "2482a22e56894da49402190f90924f42",
       "version_major": 2,
       "version_minor": 0
      },
      "text/plain": [
       "HBox(children=(HTML(value=''), FloatProgress(value=0.0, max=15.0), HTML(value='')))"
      ]
     },
     "metadata": {},
     "output_type": "display_data"
    },
    {
     "name": "stdout",
     "output_type": "stream",
     "text": [
      "\n"
     ]
    },
    {
     "data": {
      "application/vnd.jupyter.widget-view+json": {
       "model_id": "fdb6c2f8399342db9444516e629b569b",
       "version_major": 2,
       "version_minor": 0
      },
      "text/plain": [
       "HBox(children=(HTML(value=''), FloatProgress(value=0.0, max=5996.0), HTML(value='')))"
      ]
     },
     "metadata": {},
     "output_type": "display_data"
    },
    {
     "name": "stdout",
     "output_type": "stream",
     "text": [
      "\n",
      "train precision@50, recall@50, precision@5, recall@5\n",
      "[('own_rec', 0.07699782451051487)]\n",
      "[('own_rec', 0.05267431736448327)]\n",
      "[('own_rec', 0.20188542422044958)]\n",
      "[('own_rec', 0.014622625027820533)]\n",
      "test precision@50, recall@50, precision@5, recall@5\n",
      "[('own_rec', 0.045235678027556195)]\n",
      "[('own_rec', 0.05191478366682174)]\n",
      "[('own_rec', 0.12661348803480785)]\n",
      "[('own_rec', 0.01660157983251831)]\n",
      "7 1 500\n"
     ]
    },
    {
     "data": {
      "application/vnd.jupyter.widget-view+json": {
       "model_id": "287f558ce48b43e9ba51143cc042dd5e",
       "version_major": 2,
       "version_minor": 0
      },
      "text/plain": [
       "HBox(children=(HTML(value=''), FloatProgress(value=0.0, max=15.0), HTML(value='')))"
      ]
     },
     "metadata": {},
     "output_type": "display_data"
    },
    {
     "name": "stdout",
     "output_type": "stream",
     "text": [
      "\n"
     ]
    },
    {
     "data": {
      "application/vnd.jupyter.widget-view+json": {
       "model_id": "628432b3b1d34e4b840cd3bfba4b9569",
       "version_major": 2,
       "version_minor": 0
      },
      "text/plain": [
       "HBox(children=(HTML(value=''), FloatProgress(value=0.0, max=501.0), HTML(value='')))"
      ]
     },
     "metadata": {},
     "output_type": "display_data"
    },
    {
     "name": "stdout",
     "output_type": "stream",
     "text": [
      "\n",
      "train precision@50, recall@50, precision@5, recall@5\n",
      "[('own_rec', 0.12001450326323423)]\n",
      "[('own_rec', 0.06544419268594893)]\n",
      "[('own_rec', 0.31443074691805656)]\n",
      "[('own_rec', 0.019608086894933097)]\n",
      "test precision@50, recall@50, precision@5, recall@5\n",
      "[('own_rec', 0.06638143582306018)]\n",
      "[('own_rec', 0.07082512415579778)]\n",
      "[('own_rec', 0.1985496736765772)]\n",
      "[('own_rec', 0.024732742511794577)]\n",
      "7 1 1000\n"
     ]
    },
    {
     "data": {
      "application/vnd.jupyter.widget-view+json": {
       "model_id": "c8822aaf37b947d980ed86d99ea90884",
       "version_major": 2,
       "version_minor": 0
      },
      "text/plain": [
       "HBox(children=(HTML(value=''), FloatProgress(value=0.0, max=15.0), HTML(value='')))"
      ]
     },
     "metadata": {},
     "output_type": "display_data"
    },
    {
     "name": "stdout",
     "output_type": "stream",
     "text": [
      "\n"
     ]
    },
    {
     "data": {
      "application/vnd.jupyter.widget-view+json": {
       "model_id": "6a27890c7ffa4c4494d971ac54084123",
       "version_major": 2,
       "version_minor": 0
      },
      "text/plain": [
       "HBox(children=(HTML(value=''), FloatProgress(value=0.0, max=1001.0), HTML(value='')))"
      ]
     },
     "metadata": {},
     "output_type": "display_data"
    },
    {
     "name": "stdout",
     "output_type": "stream",
     "text": [
      "\n",
      "train precision@50, recall@50, precision@5, recall@5\n",
      "[('own_rec', 0.1222044960116026)]\n",
      "[('own_rec', 0.06845204257862691)]\n",
      "[('own_rec', 0.28875997099347356)]\n",
      "[('own_rec', 0.018154448847448712)]\n",
      "test precision@50, recall@50, precision@5, recall@5\n",
      "[('own_rec', 0.06773023930384336)]\n",
      "[('own_rec', 0.07404504179701835)]\n",
      "[('own_rec', 0.1810007251631617)]\n",
      "[('own_rec', 0.022666799387842093)]\n",
      "7 1 2000\n"
     ]
    },
    {
     "data": {
      "application/vnd.jupyter.widget-view+json": {
       "model_id": "b326ce4c3d314740947e1b2aba46258c",
       "version_major": 2,
       "version_minor": 0
      },
      "text/plain": [
       "HBox(children=(HTML(value=''), FloatProgress(value=0.0, max=15.0), HTML(value='')))"
      ]
     },
     "metadata": {},
     "output_type": "display_data"
    },
    {
     "name": "stdout",
     "output_type": "stream",
     "text": [
      "\n"
     ]
    },
    {
     "data": {
      "application/vnd.jupyter.widget-view+json": {
       "model_id": "5d5bd65bce26483ca2ecbaf8ee7e076f",
       "version_major": 2,
       "version_minor": 0
      },
      "text/plain": [
       "HBox(children=(HTML(value=''), FloatProgress(value=0.0, max=2001.0), HTML(value='')))"
      ]
     },
     "metadata": {},
     "output_type": "display_data"
    },
    {
     "name": "stdout",
     "output_type": "stream",
     "text": [
      "\n",
      "train precision@50, recall@50, precision@5, recall@5\n",
      "[('own_rec', 0.11760696156635243)]\n",
      "[('own_rec', 0.0669169462573816)]\n",
      "[('own_rec', 0.27440174039158816)]\n",
      "[('own_rec', 0.017558993910747542)]\n",
      "test precision@50, recall@50, precision@5, recall@5\n",
      "[('own_rec', 0.06487309644670052)]\n",
      "[('own_rec', 0.07163493534592928)]\n",
      "[('own_rec', 0.16983321247280636)]\n",
      "[('own_rec', 0.021775499665197675)]\n",
      "7 1 3000\n"
     ]
    },
    {
     "data": {
      "application/vnd.jupyter.widget-view+json": {
       "model_id": "3e49f15dc2c841b28409b9231937e858",
       "version_major": 2,
       "version_minor": 0
      },
      "text/plain": [
       "HBox(children=(HTML(value=''), FloatProgress(value=0.0, max=15.0), HTML(value='')))"
      ]
     },
     "metadata": {},
     "output_type": "display_data"
    },
    {
     "name": "stdout",
     "output_type": "stream",
     "text": [
      "\n"
     ]
    },
    {
     "data": {
      "application/vnd.jupyter.widget-view+json": {
       "model_id": "ebb53c8d813346fabb90535ce6eecbc3",
       "version_major": 2,
       "version_minor": 0
      },
      "text/plain": [
       "HBox(children=(HTML(value=''), FloatProgress(value=0.0, max=3001.0), HTML(value='')))"
      ]
     },
     "metadata": {},
     "output_type": "display_data"
    },
    {
     "name": "stdout",
     "output_type": "stream",
     "text": [
      "\n",
      "train precision@50, recall@50, precision@5, recall@5\n",
      "[('own_rec', 0.11103698332124728)]\n",
      "[('own_rec', 0.06388095330308917)]\n",
      "[('own_rec', 0.26105873821609865)]\n",
      "[('own_rec', 0.016774945659694118)]\n",
      "test precision@50, recall@50, precision@5, recall@5\n",
      "[('own_rec', 0.06101522842639595)]\n",
      "[('own_rec', 0.06916596471759648)]\n",
      "[('own_rec', 0.16142131979695434)]\n",
      "[('own_rec', 0.02123739880895549)]\n",
      "7 1 4000\n"
     ]
    },
    {
     "data": {
      "application/vnd.jupyter.widget-view+json": {
       "model_id": "ac8193c378624428b7bc10eab28485cc",
       "version_major": 2,
       "version_minor": 0
      },
      "text/plain": [
       "HBox(children=(HTML(value=''), FloatProgress(value=0.0, max=15.0), HTML(value='')))"
      ]
     },
     "metadata": {},
     "output_type": "display_data"
    },
    {
     "name": "stdout",
     "output_type": "stream",
     "text": [
      "\n"
     ]
    },
    {
     "data": {
      "application/vnd.jupyter.widget-view+json": {
       "model_id": "5193b6559a034aa080bba4313e1e6411",
       "version_major": 2,
       "version_minor": 0
      },
      "text/plain": [
       "HBox(children=(HTML(value=''), FloatProgress(value=0.0, max=4000.0), HTML(value='')))"
      ]
     },
     "metadata": {},
     "output_type": "display_data"
    },
    {
     "name": "stdout",
     "output_type": "stream",
     "text": [
      "\n",
      "train precision@50, recall@50, precision@5, recall@5\n",
      "[('own_rec', 0.10253807106598985)]\n",
      "[('own_rec', 0.05932895377852573)]\n",
      "[('own_rec', 0.2422044960116026)]\n",
      "[('own_rec', 0.015566427374973263)]\n",
      "test precision@50, recall@50, precision@5, recall@5\n",
      "[('own_rec', 0.056736765772298775)]\n",
      "[('own_rec', 0.06509310478128352)]\n",
      "[('own_rec', 0.1495286439448876)]\n",
      "[('own_rec', 0.020008140441656257)]\n",
      "7 1 5000\n"
     ]
    },
    {
     "data": {
      "application/vnd.jupyter.widget-view+json": {
       "model_id": "c679d48d5ad74839813703c00666ebcf",
       "version_major": 2,
       "version_minor": 0
      },
      "text/plain": [
       "HBox(children=(HTML(value=''), FloatProgress(value=0.0, max=15.0), HTML(value='')))"
      ]
     },
     "metadata": {},
     "output_type": "display_data"
    },
    {
     "name": "stdout",
     "output_type": "stream",
     "text": [
      "\n"
     ]
    },
    {
     "data": {
      "application/vnd.jupyter.widget-view+json": {
       "model_id": "7cacf4e0cf78429981e48319a88a29e0",
       "version_major": 2,
       "version_minor": 0
      },
      "text/plain": [
       "HBox(children=(HTML(value=''), FloatProgress(value=0.0, max=4998.0), HTML(value='')))"
      ]
     },
     "metadata": {},
     "output_type": "display_data"
    },
    {
     "name": "stdout",
     "output_type": "stream",
     "text": [
      "\n",
      "train precision@50, recall@50, precision@5, recall@5\n",
      "[('own_rec', 0.09445975344452501)]\n",
      "[('own_rec', 0.05545120249842264)]\n",
      "[('own_rec', 0.23132704858593184)]\n",
      "[('own_rec', 0.014785010135418003)]\n",
      "test precision@50, recall@50, precision@5, recall@5\n",
      "[('own_rec', 0.05237128353879623)]\n",
      "[('own_rec', 0.06001449353446066)]\n",
      "[('own_rec', 0.14184191443074692)]\n",
      "[('own_rec', 0.0184362224019423)]\n",
      "7 1 6000\n"
     ]
    },
    {
     "data": {
      "application/vnd.jupyter.widget-view+json": {
       "model_id": "946280e73efc48168406712088a85c67",
       "version_major": 2,
       "version_minor": 0
      },
      "text/plain": [
       "HBox(children=(HTML(value=''), FloatProgress(value=0.0, max=15.0), HTML(value='')))"
      ]
     },
     "metadata": {},
     "output_type": "display_data"
    },
    {
     "name": "stdout",
     "output_type": "stream",
     "text": [
      "\n"
     ]
    },
    {
     "data": {
      "application/vnd.jupyter.widget-view+json": {
       "model_id": "694f7284852f4c7c9d3b03dd0a62a643",
       "version_major": 2,
       "version_minor": 0
      },
      "text/plain": [
       "HBox(children=(HTML(value=''), FloatProgress(value=0.0, max=5996.0), HTML(value='')))"
      ]
     },
     "metadata": {},
     "output_type": "display_data"
    },
    {
     "name": "stdout",
     "output_type": "stream",
     "text": [
      "\n",
      "train precision@50, recall@50, precision@5, recall@5\n",
      "[('own_rec', 0.087643219724438)]\n",
      "[('own_rec', 0.05221499130892313)]\n",
      "[('own_rec', 0.216243654822335)]\n",
      "[('own_rec', 0.014063684083321055)]\n",
      "test precision@50, recall@50, precision@5, recall@5\n",
      "[('own_rec', 0.04878897751994199)]\n",
      "[('own_rec', 0.056308883771694664)]\n",
      "[('own_rec', 0.1343002175489485)]\n",
      "[('own_rec', 0.017035476498478697)]\n",
      "7 2 500\n"
     ]
    },
    {
     "data": {
      "application/vnd.jupyter.widget-view+json": {
       "model_id": "2248fe5d38154486994d8e055c8c31ad",
       "version_major": 2,
       "version_minor": 0
      },
      "text/plain": [
       "HBox(children=(HTML(value=''), FloatProgress(value=0.0, max=15.0), HTML(value='')))"
      ]
     },
     "metadata": {},
     "output_type": "display_data"
    },
    {
     "name": "stdout",
     "output_type": "stream",
     "text": [
      "\n"
     ]
    },
    {
     "data": {
      "application/vnd.jupyter.widget-view+json": {
       "model_id": "be7cd93781014c44ac6473a1e73d3bd4",
       "version_major": 2,
       "version_minor": 0
      },
      "text/plain": [
       "HBox(children=(HTML(value=''), FloatProgress(value=0.0, max=501.0), HTML(value='')))"
      ]
     },
     "metadata": {},
     "output_type": "display_data"
    },
    {
     "name": "stdout",
     "output_type": "stream",
     "text": [
      "\n",
      "train precision@50, recall@50, precision@5, recall@5\n",
      "[('own_rec', 0.12107324147933288)]\n",
      "[('own_rec', 0.06505514190564043)]\n",
      "[('own_rec', 0.31791153009427126)]\n",
      "[('own_rec', 0.019446851911195176)]\n",
      "test precision@50, recall@50, precision@5, recall@5\n",
      "[('own_rec', 0.06606236403190717)]\n",
      "[('own_rec', 0.07064402821420183)]\n",
      "[('own_rec', 0.19840464104423497)]\n",
      "[('own_rec', 0.02477015312854748)]\n",
      "7 2 1000\n"
     ]
    },
    {
     "data": {
      "application/vnd.jupyter.widget-view+json": {
       "model_id": "8ecf6128219c456a86a265c2a0d3377e",
       "version_major": 2,
       "version_minor": 0
      },
      "text/plain": [
       "HBox(children=(HTML(value=''), FloatProgress(value=0.0, max=15.0), HTML(value='')))"
      ]
     },
     "metadata": {},
     "output_type": "display_data"
    },
    {
     "name": "stdout",
     "output_type": "stream",
     "text": [
      "\n"
     ]
    },
    {
     "data": {
      "application/vnd.jupyter.widget-view+json": {
       "model_id": "fb2e7aff5cf04cbd8f54b5c335a5c48a",
       "version_major": 2,
       "version_minor": 0
      },
      "text/plain": [
       "HBox(children=(HTML(value=''), FloatProgress(value=0.0, max=1001.0), HTML(value='')))"
      ]
     },
     "metadata": {},
     "output_type": "display_data"
    },
    {
     "name": "stdout",
     "output_type": "stream",
     "text": [
      "\n",
      "train precision@50, recall@50, precision@5, recall@5\n",
      "[('own_rec', 0.12301667875271935)]\n",
      "[('own_rec', 0.06742763389061882)]\n",
      "[('own_rec', 0.2883248730964467)]\n",
      "[('own_rec', 0.01772521034500792)]\n",
      "test precision@50, recall@50, precision@5, recall@5\n",
      "[('own_rec', 0.06739666424945613)]\n",
      "[('own_rec', 0.07396072011204495)]\n",
      "[('own_rec', 0.17955039883973894)]\n",
      "[('own_rec', 0.022628662278170723)]\n",
      "7 2 2000\n"
     ]
    },
    {
     "data": {
      "application/vnd.jupyter.widget-view+json": {
       "model_id": "b2f6f0deb4524d1d9e10c2e707b8089a",
       "version_major": 2,
       "version_minor": 0
      },
      "text/plain": [
       "HBox(children=(HTML(value=''), FloatProgress(value=0.0, max=15.0), HTML(value='')))"
      ]
     },
     "metadata": {},
     "output_type": "display_data"
    },
    {
     "name": "stdout",
     "output_type": "stream",
     "text": [
      "\n"
     ]
    },
    {
     "data": {
      "application/vnd.jupyter.widget-view+json": {
       "model_id": "462fdd758c7c47929ca96f7a2251ba50",
       "version_major": 2,
       "version_minor": 0
      },
      "text/plain": [
       "HBox(children=(HTML(value=''), FloatProgress(value=0.0, max=2001.0), HTML(value='')))"
      ]
     },
     "metadata": {},
     "output_type": "display_data"
    },
    {
     "name": "stdout",
     "output_type": "stream",
     "text": [
      "\n",
      "train precision@50, recall@50, precision@5, recall@5\n",
      "[('own_rec', 0.1178535170413343)]\n",
      "[('own_rec', 0.06598650903832876)]\n",
      "[('own_rec', 0.2713560551124003)]\n",
      "[('own_rec', 0.017076414070508892)]\n",
      "test precision@50, recall@50, precision@5, recall@5\n",
      "[('own_rec', 0.06417693981145758)]\n",
      "[('own_rec', 0.07076715893840577)]\n",
      "[('own_rec', 0.16823785351704135)]\n",
      "[('own_rec', 0.021493536850105067)]\n",
      "7 2 3000\n"
     ]
    },
    {
     "data": {
      "application/vnd.jupyter.widget-view+json": {
       "model_id": "55fdfa68c44946ae971b6e87f20f1bca",
       "version_major": 2,
       "version_minor": 0
      },
      "text/plain": [
       "HBox(children=(HTML(value=''), FloatProgress(value=0.0, max=15.0), HTML(value='')))"
      ]
     },
     "metadata": {},
     "output_type": "display_data"
    },
    {
     "name": "stdout",
     "output_type": "stream",
     "text": [
      "\n"
     ]
    },
    {
     "data": {
      "application/vnd.jupyter.widget-view+json": {
       "model_id": "80e195d13e0f4e7ab59a6d043bc2e2d2",
       "version_major": 2,
       "version_minor": 0
      },
      "text/plain": [
       "HBox(children=(HTML(value=''), FloatProgress(value=0.0, max=3001.0), HTML(value='')))"
      ]
     },
     "metadata": {},
     "output_type": "display_data"
    },
    {
     "name": "stdout",
     "output_type": "stream",
     "text": [
      "\n",
      "train precision@50, recall@50, precision@5, recall@5\n",
      "[('own_rec', 0.11128353879622915)]\n",
      "[('own_rec', 0.06295084567573239)]\n",
      "[('own_rec', 0.2632342277012328)]\n",
      "[('own_rec', 0.01645592932039985)]\n",
      "test precision@50, recall@50, precision@5, recall@5\n",
      "[('own_rec', 0.06024655547498187)]\n",
      "[('own_rec', 0.06840867847832283)]\n",
      "[('own_rec', 0.15953589557650472)]\n",
      "[('own_rec', 0.021462382444271743)]\n",
      "7 2 4000\n"
     ]
    },
    {
     "data": {
      "application/vnd.jupyter.widget-view+json": {
       "model_id": "8c6b403fcaf145a88d173dab79a7aaa8",
       "version_major": 2,
       "version_minor": 0
      },
      "text/plain": [
       "HBox(children=(HTML(value=''), FloatProgress(value=0.0, max=15.0), HTML(value='')))"
      ]
     },
     "metadata": {},
     "output_type": "display_data"
    },
    {
     "name": "stdout",
     "output_type": "stream",
     "text": [
      "\n"
     ]
    },
    {
     "data": {
      "application/vnd.jupyter.widget-view+json": {
       "model_id": "ca0e12144b42438a99fe96a306be3073",
       "version_major": 2,
       "version_minor": 0
      },
      "text/plain": [
       "HBox(children=(HTML(value=''), FloatProgress(value=0.0, max=4000.0), HTML(value='')))"
      ]
     },
     "metadata": {},
     "output_type": "display_data"
    },
    {
     "name": "stdout",
     "output_type": "stream",
     "text": [
      "\n",
      "train precision@50, recall@50, precision@5, recall@5\n",
      "[('own_rec', 0.10259608411892678)]\n",
      "[('own_rec', 0.05807578214386748)]\n",
      "[('own_rec', 0.24786076867295143)]\n",
      "[('own_rec', 0.015552675070269672)]\n",
      "test precision@50, recall@50, precision@5, recall@5\n",
      "[('own_rec', 0.05559100797679479)]\n",
      "[('own_rec', 0.06344944163130108)]\n",
      "[('own_rec', 0.14720812182741116)]\n",
      "[('own_rec', 0.01961097102176255)]\n",
      "7 2 5000\n"
     ]
    },
    {
     "data": {
      "application/vnd.jupyter.widget-view+json": {
       "model_id": "6746502a596d472ea964c343934c7de0",
       "version_major": 2,
       "version_minor": 0
      },
      "text/plain": [
       "HBox(children=(HTML(value=''), FloatProgress(value=0.0, max=15.0), HTML(value='')))"
      ]
     },
     "metadata": {},
     "output_type": "display_data"
    },
    {
     "name": "stdout",
     "output_type": "stream",
     "text": [
      "\n"
     ]
    },
    {
     "data": {
      "application/vnd.jupyter.widget-view+json": {
       "model_id": "b32baccc6cee4b338af99c690e674a4b",
       "version_major": 2,
       "version_minor": 0
      },
      "text/plain": [
       "HBox(children=(HTML(value=''), FloatProgress(value=0.0, max=4998.0), HTML(value='')))"
      ]
     },
     "metadata": {},
     "output_type": "display_data"
    },
    {
     "name": "stdout",
     "output_type": "stream",
     "text": [
      "\n",
      "train precision@50, recall@50, precision@5, recall@5\n",
      "[('own_rec', 0.094140681653372)]\n",
      "[('own_rec', 0.054187419640177245)]\n",
      "[('own_rec', 0.23074691805656275)]\n",
      "[('own_rec', 0.014354192615860212)]\n",
      "test precision@50, recall@50, precision@5, recall@5\n",
      "[('own_rec', 0.050993473531544604)]\n",
      "[('own_rec', 0.05895329402436523)]\n",
      "[('own_rec', 0.13778100072516317)]\n",
      "[('own_rec', 0.018161290385464088)]\n",
      "7 2 6000\n"
     ]
    },
    {
     "data": {
      "application/vnd.jupyter.widget-view+json": {
       "model_id": "e336711c173a4e3d98b35e879e5a7e4c",
       "version_major": 2,
       "version_minor": 0
      },
      "text/plain": [
       "HBox(children=(HTML(value=''), FloatProgress(value=0.0, max=15.0), HTML(value='')))"
      ]
     },
     "metadata": {},
     "output_type": "display_data"
    },
    {
     "name": "stdout",
     "output_type": "stream",
     "text": [
      "\n"
     ]
    },
    {
     "data": {
      "application/vnd.jupyter.widget-view+json": {
       "model_id": "b49293657fd04530ad7c3b7607e3d50a",
       "version_major": 2,
       "version_minor": 0
      },
      "text/plain": [
       "HBox(children=(HTML(value=''), FloatProgress(value=0.0, max=5996.0), HTML(value='')))"
      ]
     },
     "metadata": {},
     "output_type": "display_data"
    },
    {
     "name": "stdout",
     "output_type": "stream",
     "text": [
      "\n",
      "train precision@50, recall@50, precision@5, recall@5\n",
      "[('own_rec', 0.08787527193618565)]\n",
      "[('own_rec', 0.05116254896161304)]\n",
      "[('own_rec', 0.21885424220449606)]\n",
      "[('own_rec', 0.013918747707133227)]\n",
      "test precision@50, recall@50, precision@5, recall@5\n",
      "[('own_rec', 0.04777374909354604)]\n",
      "[('own_rec', 0.05497305245409913)]\n",
      "[('own_rec', 0.13270485859318346)]\n",
      "[('own_rec', 0.01704505855347817)]\n",
      "7 3 500\n"
     ]
    },
    {
     "data": {
      "application/vnd.jupyter.widget-view+json": {
       "model_id": "2126ac56ebfc4c8996e2be89113628d3",
       "version_major": 2,
       "version_minor": 0
      },
      "text/plain": [
       "HBox(children=(HTML(value=''), FloatProgress(value=0.0, max=15.0), HTML(value='')))"
      ]
     },
     "metadata": {},
     "output_type": "display_data"
    },
    {
     "name": "stdout",
     "output_type": "stream",
     "text": [
      "\n"
     ]
    },
    {
     "data": {
      "application/vnd.jupyter.widget-view+json": {
       "model_id": "60dc0a22c13e4aa9abde6ba88fc05e00",
       "version_major": 2,
       "version_minor": 0
      },
      "text/plain": [
       "HBox(children=(HTML(value=''), FloatProgress(value=0.0, max=501.0), HTML(value='')))"
      ]
     },
     "metadata": {},
     "output_type": "display_data"
    },
    {
     "name": "stdout",
     "output_type": "stream",
     "text": [
      "\n",
      "train precision@50, recall@50, precision@5, recall@5\n",
      "[('own_rec', 0.12021754894851341)]\n",
      "[('own_rec', 0.06506381151044767)]\n",
      "[('own_rec', 0.31341551849166066)]\n",
      "[('own_rec', 0.018968837074074048)]\n",
      "test precision@50, recall@50, precision@5, recall@5\n",
      "[('own_rec', 0.06577229876722264)]\n",
      "[('own_rec', 0.07048688929247997)]\n",
      "[('own_rec', 0.19550398839738942)]\n",
      "[('own_rec', 0.024839065620058526)]\n",
      "7 3 1000\n"
     ]
    },
    {
     "data": {
      "application/vnd.jupyter.widget-view+json": {
       "model_id": "67279bda69d4491d900007c77819d388",
       "version_major": 2,
       "version_minor": 0
      },
      "text/plain": [
       "HBox(children=(HTML(value=''), FloatProgress(value=0.0, max=15.0), HTML(value='')))"
      ]
     },
     "metadata": {},
     "output_type": "display_data"
    },
    {
     "name": "stdout",
     "output_type": "stream",
     "text": [
      "\n"
     ]
    },
    {
     "data": {
      "application/vnd.jupyter.widget-view+json": {
       "model_id": "43a3836d691f4cca9037e78c54eaa531",
       "version_major": 2,
       "version_minor": 0
      },
      "text/plain": [
       "HBox(children=(HTML(value=''), FloatProgress(value=0.0, max=1001.0), HTML(value='')))"
      ]
     },
     "metadata": {},
     "output_type": "display_data"
    },
    {
     "name": "stdout",
     "output_type": "stream",
     "text": [
      "\n",
      "train precision@50, recall@50, precision@5, recall@5\n",
      "[('own_rec', 0.12256707759245832)]\n",
      "[('own_rec', 0.0678644482986281)]\n",
      "[('own_rec', 0.2903553299492386)]\n",
      "[('own_rec', 0.017751890835176004)]\n",
      "test precision@50, recall@50, precision@5, recall@5\n",
      "[('own_rec', 0.0664394488759971)]\n",
      "[('own_rec', 0.07293424358705443)]\n",
      "[('own_rec', 0.1772298767222625)]\n",
      "[('own_rec', 0.02244161782168302)]\n",
      "7 3 2000\n"
     ]
    },
    {
     "data": {
      "application/vnd.jupyter.widget-view+json": {
       "model_id": "50234543d3ef43838c8a4a818de6097c",
       "version_major": 2,
       "version_minor": 0
      },
      "text/plain": [
       "HBox(children=(HTML(value=''), FloatProgress(value=0.0, max=15.0), HTML(value='')))"
      ]
     },
     "metadata": {},
     "output_type": "display_data"
    },
    {
     "name": "stdout",
     "output_type": "stream",
     "text": [
      "\n"
     ]
    },
    {
     "data": {
      "application/vnd.jupyter.widget-view+json": {
       "model_id": "c817b21d4b034941b8d9c7fe905a6ca4",
       "version_major": 2,
       "version_minor": 0
      },
      "text/plain": [
       "HBox(children=(HTML(value=''), FloatProgress(value=0.0, max=2001.0), HTML(value='')))"
      ]
     },
     "metadata": {},
     "output_type": "display_data"
    },
    {
     "name": "stdout",
     "output_type": "stream",
     "text": [
      "\n",
      "train precision@50, recall@50, precision@5, recall@5\n",
      "[('own_rec', 0.11834662799129804)]\n",
      "[('own_rec', 0.06630972042219414)]\n",
      "[('own_rec', 0.27382160986221904)]\n",
      "[('own_rec', 0.017285047372147103)]\n",
      "test precision@50, recall@50, precision@5, recall@5\n",
      "[('own_rec', 0.06316171138506164)]\n",
      "[('own_rec', 0.06954437813108455)]\n",
      "[('own_rec', 0.16316171138506164)]\n",
      "[('own_rec', 0.021011759939476942)]\n",
      "7 3 3000\n"
     ]
    },
    {
     "data": {
      "application/vnd.jupyter.widget-view+json": {
       "model_id": "da02f907760b403888e5cab0a527cf0c",
       "version_major": 2,
       "version_minor": 0
      },
      "text/plain": [
       "HBox(children=(HTML(value=''), FloatProgress(value=0.0, max=15.0), HTML(value='')))"
      ]
     },
     "metadata": {},
     "output_type": "display_data"
    },
    {
     "name": "stdout",
     "output_type": "stream",
     "text": [
      "\n"
     ]
    },
    {
     "data": {
      "application/vnd.jupyter.widget-view+json": {
       "model_id": "8fdbca308d654f5eb154d1852bc745b9",
       "version_major": 2,
       "version_minor": 0
      },
      "text/plain": [
       "HBox(children=(HTML(value=''), FloatProgress(value=0.0, max=3001.0), HTML(value='')))"
      ]
     },
     "metadata": {},
     "output_type": "display_data"
    },
    {
     "name": "stdout",
     "output_type": "stream",
     "text": [
      "\n",
      "train precision@50, recall@50, precision@5, recall@5\n",
      "[('own_rec', 0.11180565627266136)]\n",
      "[('own_rec', 0.06333449465437814)]\n",
      "[('own_rec', 0.2658448150833938)]\n",
      "[('own_rec', 0.01681796350802992)]\n",
      "test precision@50, recall@50, precision@5, recall@5\n",
      "[('own_rec', 0.05921682378535171)]\n",
      "[('own_rec', 0.06722938096989364)]\n",
      "[('own_rec', 0.154459753444525)]\n",
      "[('own_rec', 0.020896079482574152)]\n",
      "7 3 4000\n"
     ]
    },
    {
     "data": {
      "application/vnd.jupyter.widget-view+json": {
       "model_id": "327ae21e86f34ba6bf2f6aef93451864",
       "version_major": 2,
       "version_minor": 0
      },
      "text/plain": [
       "HBox(children=(HTML(value=''), FloatProgress(value=0.0, max=15.0), HTML(value='')))"
      ]
     },
     "metadata": {},
     "output_type": "display_data"
    },
    {
     "name": "stdout",
     "output_type": "stream",
     "text": [
      "\n"
     ]
    },
    {
     "data": {
      "application/vnd.jupyter.widget-view+json": {
       "model_id": "e827e01fac2647389ecbdb81e995a7f0",
       "version_major": 2,
       "version_minor": 0
      },
      "text/plain": [
       "HBox(children=(HTML(value=''), FloatProgress(value=0.0, max=4000.0), HTML(value='')))"
      ]
     },
     "metadata": {},
     "output_type": "display_data"
    },
    {
     "name": "stdout",
     "output_type": "stream",
     "text": [
      "\n",
      "train precision@50, recall@50, precision@5, recall@5\n",
      "[('own_rec', 0.10391588107324148)]\n",
      "[('own_rec', 0.059036281838659985)]\n",
      "[('own_rec', 0.25192168237853513)]\n",
      "[('own_rec', 0.015855875569679812)]\n",
      "test precision@50, recall@50, precision@5, recall@5\n",
      "[('own_rec', 0.054517766497461935)]\n",
      "[('own_rec', 0.06262898737722235)]\n",
      "[('own_rec', 0.14590282813633068)]\n",
      "[('own_rec', 0.01971912061010135)]\n",
      "7 3 5000\n"
     ]
    },
    {
     "data": {
      "application/vnd.jupyter.widget-view+json": {
       "model_id": "970fec96fc0c42ae876255658e09e39d",
       "version_major": 2,
       "version_minor": 0
      },
      "text/plain": [
       "HBox(children=(HTML(value=''), FloatProgress(value=0.0, max=15.0), HTML(value='')))"
      ]
     },
     "metadata": {},
     "output_type": "display_data"
    },
    {
     "name": "stdout",
     "output_type": "stream",
     "text": [
      "\n"
     ]
    },
    {
     "data": {
      "application/vnd.jupyter.widget-view+json": {
       "model_id": "c57996a2e2f04a5997d5e9999b7aeeed",
       "version_major": 2,
       "version_minor": 0
      },
      "text/plain": [
       "HBox(children=(HTML(value=''), FloatProgress(value=0.0, max=4998.0), HTML(value='')))"
      ]
     },
     "metadata": {},
     "output_type": "display_data"
    },
    {
     "name": "stdout",
     "output_type": "stream",
     "text": [
      "\n",
      "train precision@50, recall@50, precision@5, recall@5\n",
      "[('own_rec', 0.09554749818709209)]\n",
      "[('own_rec', 0.054813395863248536)]\n",
      "[('own_rec', 0.23625815808556927)]\n",
      "[('own_rec', 0.014653974158046298)]\n",
      "test precision@50, recall@50, precision@5, recall@5\n",
      "[('own_rec', 0.05032632342277013)]\n",
      "[('own_rec', 0.057968255879652646)]\n",
      "[('own_rec', 0.1376359680928209)]\n",
      "[('own_rec', 0.0183070521542363)]\n",
      "7 3 6000\n"
     ]
    },
    {
     "data": {
      "application/vnd.jupyter.widget-view+json": {
       "model_id": "da5771a77d0a454e91d10c86f87c6b1b",
       "version_major": 2,
       "version_minor": 0
      },
      "text/plain": [
       "HBox(children=(HTML(value=''), FloatProgress(value=0.0, max=15.0), HTML(value='')))"
      ]
     },
     "metadata": {},
     "output_type": "display_data"
    },
    {
     "name": "stdout",
     "output_type": "stream",
     "text": [
      "\n"
     ]
    },
    {
     "data": {
      "application/vnd.jupyter.widget-view+json": {
       "model_id": "fc55bca5df5d4d58ac56c303e0b440cd",
       "version_major": 2,
       "version_minor": 0
      },
      "text/plain": [
       "HBox(children=(HTML(value=''), FloatProgress(value=0.0, max=5996.0), HTML(value='')))"
      ]
     },
     "metadata": {},
     "output_type": "display_data"
    },
    {
     "name": "stdout",
     "output_type": "stream",
     "text": [
      "\n",
      "train precision@50, recall@50, precision@5, recall@5\n",
      "[('own_rec', 0.08891950688905004)]\n",
      "[('own_rec', 0.051606163521710366)]\n",
      "[('own_rec', 0.22523567802755623)]\n",
      "[('own_rec', 0.014191311852033107)]\n",
      "test precision@50, recall@50, precision@5, recall@5\n",
      "[('own_rec', 0.047251631617113855)]\n",
      "[('own_rec', 0.05405953627949065)]\n",
      "[('own_rec', 0.1305293691080493)]\n",
      "[('own_rec', 0.016802813925208958)]\n",
      "7 4 500\n"
     ]
    },
    {
     "data": {
      "application/vnd.jupyter.widget-view+json": {
       "model_id": "3746789b5c7241c9a8067d704439e2ca",
       "version_major": 2,
       "version_minor": 0
      },
      "text/plain": [
       "HBox(children=(HTML(value=''), FloatProgress(value=0.0, max=15.0), HTML(value='')))"
      ]
     },
     "metadata": {},
     "output_type": "display_data"
    },
    {
     "name": "stdout",
     "output_type": "stream",
     "text": [
      "\n"
     ]
    },
    {
     "data": {
      "application/vnd.jupyter.widget-view+json": {
       "model_id": "f574b6308a1a43d1b92439392b513ba4",
       "version_major": 2,
       "version_minor": 0
      },
      "text/plain": [
       "HBox(children=(HTML(value=''), FloatProgress(value=0.0, max=501.0), HTML(value='')))"
      ]
     },
     "metadata": {},
     "output_type": "display_data"
    },
    {
     "name": "stdout",
     "output_type": "stream",
     "text": [
      "\n",
      "train precision@50, recall@50, precision@5, recall@5\n",
      "[('own_rec', 0.11960841189267585)]\n",
      "[('own_rec', 0.06501018285809905)]\n",
      "[('own_rec', 0.3097897026831037)]\n",
      "[('own_rec', 0.018577999137550972)]\n",
      "test precision@50, recall@50, precision@5, recall@5\n",
      "[('own_rec', 0.0653372008701958)]\n",
      "[('own_rec', 0.07003374218797778)]\n",
      "[('own_rec', 0.19376359680928207)]\n",
      "[('own_rec', 0.024180523543706353)]\n",
      "7 4 1000\n"
     ]
    },
    {
     "data": {
      "application/vnd.jupyter.widget-view+json": {
       "model_id": "5849c922f4cb43559ddd4f66a4e91506",
       "version_major": 2,
       "version_minor": 0
      },
      "text/plain": [
       "HBox(children=(HTML(value=''), FloatProgress(value=0.0, max=15.0), HTML(value='')))"
      ]
     },
     "metadata": {},
     "output_type": "display_data"
    },
    {
     "name": "stdout",
     "output_type": "stream",
     "text": [
      "\n"
     ]
    },
    {
     "data": {
      "application/vnd.jupyter.widget-view+json": {
       "model_id": "eedf4903b0e24d47b1fc39f77a3cde30",
       "version_major": 2,
       "version_minor": 0
      },
      "text/plain": [
       "HBox(children=(HTML(value=''), FloatProgress(value=0.0, max=1001.0), HTML(value='')))"
      ]
     },
     "metadata": {},
     "output_type": "display_data"
    },
    {
     "name": "stdout",
     "output_type": "stream",
     "text": [
      "\n",
      "train precision@50, recall@50, precision@5, recall@5\n",
      "[('own_rec', 0.12200145032632342)]\n",
      "[('own_rec', 0.06785802519763481)]\n",
      "[('own_rec', 0.28368382886149385)]\n",
      "[('own_rec', 0.017461881142218687)]\n",
      "test precision@50, recall@50, precision@5, recall@5\n",
      "[('own_rec', 0.06583031182015954)]\n",
      "[('own_rec', 0.07243910769829717)]\n",
      "[('own_rec', 0.1734590282813633)]\n",
      "[('own_rec', 0.022180866789166767)]\n",
      "7 4 2000\n"
     ]
    },
    {
     "data": {
      "application/vnd.jupyter.widget-view+json": {
       "model_id": "e153187648fc45f189728691bd92f43b",
       "version_major": 2,
       "version_minor": 0
      },
      "text/plain": [
       "HBox(children=(HTML(value=''), FloatProgress(value=0.0, max=15.0), HTML(value='')))"
      ]
     },
     "metadata": {},
     "output_type": "display_data"
    },
    {
     "name": "stdout",
     "output_type": "stream",
     "text": [
      "\n"
     ]
    },
    {
     "data": {
      "application/vnd.jupyter.widget-view+json": {
       "model_id": "adacbf34af824e9f93f3891b920e582e",
       "version_major": 2,
       "version_minor": 0
      },
      "text/plain": [
       "HBox(children=(HTML(value=''), FloatProgress(value=0.0, max=2001.0), HTML(value='')))"
      ]
     },
     "metadata": {},
     "output_type": "display_data"
    },
    {
     "name": "stdout",
     "output_type": "stream",
     "text": [
      "\n",
      "train precision@50, recall@50, precision@5, recall@5\n",
      "[('own_rec', 0.11751994198694707)]\n",
      "[('own_rec', 0.06606738444291194)]\n",
      "[('own_rec', 0.27034082668600434)]\n",
      "[('own_rec', 0.017128048967069428)]\n",
      "test precision@50, recall@50, precision@5, recall@5\n",
      "[('own_rec', 0.0625670775924583)]\n",
      "[('own_rec', 0.06912849215750744)]\n",
      "[('own_rec', 0.16258158085569252)]\n",
      "[('own_rec', 0.02096493653321568)]\n",
      "7 4 3000\n"
     ]
    },
    {
     "data": {
      "application/vnd.jupyter.widget-view+json": {
       "model_id": "2d28b067cd0840328add906b0ff640e7",
       "version_major": 2,
       "version_minor": 0
      },
      "text/plain": [
       "HBox(children=(HTML(value=''), FloatProgress(value=0.0, max=15.0), HTML(value='')))"
      ]
     },
     "metadata": {},
     "output_type": "display_data"
    },
    {
     "name": "stdout",
     "output_type": "stream",
     "text": [
      "\n"
     ]
    },
    {
     "data": {
      "application/vnd.jupyter.widget-view+json": {
       "model_id": "052eb38d7715401ba8cadf1014e0aa17",
       "version_major": 2,
       "version_minor": 0
      },
      "text/plain": [
       "HBox(children=(HTML(value=''), FloatProgress(value=0.0, max=3001.0), HTML(value='')))"
      ]
     },
     "metadata": {},
     "output_type": "display_data"
    },
    {
     "name": "stdout",
     "output_type": "stream",
     "text": [
      "\n",
      "train precision@50, recall@50, precision@5, recall@5\n",
      "[('own_rec', 0.11074691805656273)]\n",
      "[('own_rec', 0.06294885549899232)]\n",
      "[('own_rec', 0.2639593908629442)]\n",
      "[('own_rec', 0.016826476338265638)]\n",
      "test precision@50, recall@50, precision@5, recall@5\n",
      "[('own_rec', 0.05866569978245106)]\n",
      "[('own_rec', 0.06646783897489099)]\n",
      "[('own_rec', 0.15315445975344455)]\n",
      "[('own_rec', 0.02077750724195391)]\n",
      "7 4 4000\n"
     ]
    },
    {
     "data": {
      "application/vnd.jupyter.widget-view+json": {
       "model_id": "fee91b2a8a0841be9940a582ac7a5303",
       "version_major": 2,
       "version_minor": 0
      },
      "text/plain": [
       "HBox(children=(HTML(value=''), FloatProgress(value=0.0, max=15.0), HTML(value='')))"
      ]
     },
     "metadata": {},
     "output_type": "display_data"
    },
    {
     "name": "stdout",
     "output_type": "stream",
     "text": [
      "\n"
     ]
    },
    {
     "data": {
      "application/vnd.jupyter.widget-view+json": {
       "model_id": "a9f86f8581524462ab549f0c78355272",
       "version_major": 2,
       "version_minor": 0
      },
      "text/plain": [
       "HBox(children=(HTML(value=''), FloatProgress(value=0.0, max=3999.0), HTML(value='')))"
      ]
     },
     "metadata": {},
     "output_type": "display_data"
    },
    {
     "name": "stdout",
     "output_type": "stream",
     "text": [
      "\n",
      "train precision@50, recall@50, precision@5, recall@5\n",
      "[('own_rec', 0.10279912980420595)]\n",
      "[('own_rec', 0.0585194069327937)]\n",
      "[('own_rec', 0.2511965192168238)]\n",
      "[('own_rec', 0.015879656299897963)]\n",
      "test precision@50, recall@50, precision@5, recall@5\n",
      "[('own_rec', 0.05409717186366933)]\n",
      "[('own_rec', 0.062131826901646106)]\n",
      "[('own_rec', 0.14532269760696157)]\n",
      "[('own_rec', 0.019619431642293534)]\n",
      "7 4 5000\n"
     ]
    },
    {
     "data": {
      "application/vnd.jupyter.widget-view+json": {
       "model_id": "f6a273b89ae44a76905a6c2346ab215f",
       "version_major": 2,
       "version_minor": 0
      },
      "text/plain": [
       "HBox(children=(HTML(value=''), FloatProgress(value=0.0, max=15.0), HTML(value='')))"
      ]
     },
     "metadata": {},
     "output_type": "display_data"
    },
    {
     "name": "stdout",
     "output_type": "stream",
     "text": [
      "\n"
     ]
    },
    {
     "data": {
      "application/vnd.jupyter.widget-view+json": {
       "model_id": "30824c0c3be541a0928f6068e243df51",
       "version_major": 2,
       "version_minor": 0
      },
      "text/plain": [
       "HBox(children=(HTML(value=''), FloatProgress(value=0.0, max=4998.0), HTML(value='')))"
      ]
     },
     "metadata": {},
     "output_type": "display_data"
    },
    {
     "name": "stdout",
     "output_type": "stream",
     "text": [
      "\n",
      "train precision@50, recall@50, precision@5, recall@5\n",
      "[('own_rec', 0.09440174039158811)]\n",
      "[('own_rec', 0.054330782041686676)]\n",
      "[('own_rec', 0.23248730964467007)]\n",
      "[('own_rec', 0.014360082041603531)]\n",
      "test precision@50, recall@50, precision@5, recall@5\n",
      "[('own_rec', 0.04977519941986948)]\n",
      "[('own_rec', 0.05756443529708667)]\n",
      "[('own_rec', 0.13604060913705585)]\n",
      "[('own_rec', 0.018287982794336743)]\n",
      "7 4 6000\n"
     ]
    },
    {
     "data": {
      "application/vnd.jupyter.widget-view+json": {
       "model_id": "9fd5f7feefa14951a5ea3d77e475a7b4",
       "version_major": 2,
       "version_minor": 0
      },
      "text/plain": [
       "HBox(children=(HTML(value=''), FloatProgress(value=0.0, max=15.0), HTML(value='')))"
      ]
     },
     "metadata": {},
     "output_type": "display_data"
    },
    {
     "name": "stdout",
     "output_type": "stream",
     "text": [
      "\n"
     ]
    },
    {
     "data": {
      "application/vnd.jupyter.widget-view+json": {
       "model_id": "65e6f62808174b88b72efe99151126c1",
       "version_major": 2,
       "version_minor": 0
      },
      "text/plain": [
       "HBox(children=(HTML(value=''), FloatProgress(value=0.0, max=5996.0), HTML(value='')))"
      ]
     },
     "metadata": {},
     "output_type": "display_data"
    },
    {
     "name": "stdout",
     "output_type": "stream",
     "text": [
      "\n",
      "train precision@50, recall@50, precision@5, recall@5\n",
      "[('own_rec', 0.087324147933285)]\n",
      "[('own_rec', 0.050920371689201945)]\n",
      "[('own_rec', 0.22160986221899928)]\n",
      "[('own_rec', 0.014018352422795548)]\n",
      "test precision@50, recall@50, precision@5, recall@5\n",
      "[('own_rec', 0.04620739666424945)]\n",
      "[('own_rec', 0.053078533083100614)]\n",
      "[('own_rec', 0.12893401015228428)]\n",
      "[('own_rec', 0.016775575533838336)]\n",
      "7 5 500\n"
     ]
    },
    {
     "data": {
      "application/vnd.jupyter.widget-view+json": {
       "model_id": "3e598fa4793f4c5ea2939b5adc36bc2a",
       "version_major": 2,
       "version_minor": 0
      },
      "text/plain": [
       "HBox(children=(HTML(value=''), FloatProgress(value=0.0, max=15.0), HTML(value='')))"
      ]
     },
     "metadata": {},
     "output_type": "display_data"
    },
    {
     "name": "stdout",
     "output_type": "stream",
     "text": [
      "\n"
     ]
    },
    {
     "data": {
      "application/vnd.jupyter.widget-view+json": {
       "model_id": "3382544359884bf28fdceff7026a6c0d",
       "version_major": 2,
       "version_minor": 0
      },
      "text/plain": [
       "HBox(children=(HTML(value=''), FloatProgress(value=0.0, max=501.0), HTML(value='')))"
      ]
     },
     "metadata": {},
     "output_type": "display_data"
    },
    {
     "name": "stdout",
     "output_type": "stream",
     "text": [
      "\n",
      "train precision@50, recall@50, precision@5, recall@5\n",
      "[('own_rec', 0.11860768672951415)]\n",
      "[('own_rec', 0.06620258446837088)]\n",
      "[('own_rec', 0.30485859318346625)]\n",
      "[('own_rec', 0.019399690667168196)]\n",
      "test precision@50, recall@50, precision@5, recall@5\n",
      "[('own_rec', 0.06510514865844814)]\n",
      "[('own_rec', 0.06967380763037963)]\n",
      "[('own_rec', 0.1899927483683829)]\n",
      "[('own_rec', 0.02374691644180929)]\n",
      "7 5 1000\n"
     ]
    },
    {
     "data": {
      "application/vnd.jupyter.widget-view+json": {
       "model_id": "a782376e29784de6ad0a402970e1a9de",
       "version_major": 2,
       "version_minor": 0
      },
      "text/plain": [
       "HBox(children=(HTML(value=''), FloatProgress(value=0.0, max=15.0), HTML(value='')))"
      ]
     },
     "metadata": {},
     "output_type": "display_data"
    },
    {
     "name": "stdout",
     "output_type": "stream",
     "text": [
      "\n"
     ]
    },
    {
     "data": {
      "application/vnd.jupyter.widget-view+json": {
       "model_id": "5b29aff9c7454043a75cae09b9add1e2",
       "version_major": 2,
       "version_minor": 0
      },
      "text/plain": [
       "HBox(children=(HTML(value=''), FloatProgress(value=0.0, max=1001.0), HTML(value='')))"
      ]
     },
     "metadata": {},
     "output_type": "display_data"
    },
    {
     "name": "stdout",
     "output_type": "stream",
     "text": [
      "\n",
      "train precision@50, recall@50, precision@5, recall@5\n",
      "[('own_rec', 0.12094271211022482)]\n",
      "[('own_rec', 0.06899106737410592)]\n",
      "[('own_rec', 0.2855692530819434)]\n",
      "[('own_rec', 0.018414933618237414)]\n",
      "test precision@50, recall@50, precision@5, recall@5\n",
      "[('own_rec', 0.06538071065989849)]\n",
      "[('own_rec', 0.07209513480358777)]\n",
      "[('own_rec', 0.1727338651196519)]\n",
      "[('own_rec', 0.022045360307623007)]\n",
      "7 5 2000\n"
     ]
    },
    {
     "data": {
      "application/vnd.jupyter.widget-view+json": {
       "model_id": "d20ca0ce104047caa8ae33a0c7ed9bd0",
       "version_major": 2,
       "version_minor": 0
      },
      "text/plain": [
       "HBox(children=(HTML(value=''), FloatProgress(value=0.0, max=15.0), HTML(value='')))"
      ]
     },
     "metadata": {},
     "output_type": "display_data"
    },
    {
     "name": "stdout",
     "output_type": "stream",
     "text": [
      "\n"
     ]
    },
    {
     "data": {
      "application/vnd.jupyter.widget-view+json": {
       "model_id": "2813ac5e365d4009809882b4a1aba9bc",
       "version_major": 2,
       "version_minor": 0
      },
      "text/plain": [
       "HBox(children=(HTML(value=''), FloatProgress(value=0.0, max=2001.0), HTML(value='')))"
      ]
     },
     "metadata": {},
     "output_type": "display_data"
    },
    {
     "name": "stdout",
     "output_type": "stream",
     "text": [
      "\n",
      "train precision@50, recall@50, precision@5, recall@5\n",
      "[('own_rec', 0.11580855692530821)]\n",
      "[('own_rec', 0.0670427859173968)]\n",
      "[('own_rec', 0.26961566352429295)]\n",
      "[('own_rec', 0.01781275364526449)]\n",
      "test precision@50, recall@50, precision@5, recall@5\n",
      "[('own_rec', 0.061725888324873086)]\n",
      "[('own_rec', 0.06800217537371832)]\n",
      "[('own_rec', 0.15997099347353155)]\n",
      "[('own_rec', 0.020475685063203346)]\n",
      "7 5 3000\n"
     ]
    },
    {
     "data": {
      "application/vnd.jupyter.widget-view+json": {
       "model_id": "715f98f463c44a23ad8b7b1ffc4e484c",
       "version_major": 2,
       "version_minor": 0
      },
      "text/plain": [
       "HBox(children=(HTML(value=''), FloatProgress(value=0.0, max=15.0), HTML(value='')))"
      ]
     },
     "metadata": {},
     "output_type": "display_data"
    },
    {
     "name": "stdout",
     "output_type": "stream",
     "text": [
      "\n"
     ]
    },
    {
     "data": {
      "application/vnd.jupyter.widget-view+json": {
       "model_id": "4d92e440e6e641b8ace7cd441d55d69d",
       "version_major": 2,
       "version_minor": 0
      },
      "text/plain": [
       "HBox(children=(HTML(value=''), FloatProgress(value=0.0, max=3001.0), HTML(value='')))"
      ]
     },
     "metadata": {},
     "output_type": "display_data"
    },
    {
     "name": "stdout",
     "output_type": "stream",
     "text": [
      "\n",
      "train precision@50, recall@50, precision@5, recall@5\n",
      "[('own_rec', 0.10922407541696882)]\n",
      "[('own_rec', 0.06413165621421024)]\n",
      "[('own_rec', 0.2648295866569978)]\n",
      "[('own_rec', 0.017277960034733114)]\n",
      "test precision@50, recall@50, precision@5, recall@5\n",
      "[('own_rec', 0.05786802030456853)]\n",
      "[('own_rec', 0.06561763206008937)]\n",
      "[('own_rec', 0.14996374184191444)]\n",
      "[('own_rec', 0.020277836365768086)]\n",
      "7 5 4000\n"
     ]
    },
    {
     "data": {
      "application/vnd.jupyter.widget-view+json": {
       "model_id": "caee6bf1e88e490a816398d527c8a478",
       "version_major": 2,
       "version_minor": 0
      },
      "text/plain": [
       "HBox(children=(HTML(value=''), FloatProgress(value=0.0, max=15.0), HTML(value='')))"
      ]
     },
     "metadata": {},
     "output_type": "display_data"
    },
    {
     "name": "stdout",
     "output_type": "stream",
     "text": [
      "\n"
     ]
    },
    {
     "data": {
      "application/vnd.jupyter.widget-view+json": {
       "model_id": "4eae0beca8154255884dbefd1949c7bc",
       "version_major": 2,
       "version_minor": 0
      },
      "text/plain": [
       "HBox(children=(HTML(value=''), FloatProgress(value=0.0, max=3999.0), HTML(value='')))"
      ]
     },
     "metadata": {},
     "output_type": "display_data"
    },
    {
     "name": "stdout",
     "output_type": "stream",
     "text": [
      "\n",
      "train precision@50, recall@50, precision@5, recall@5\n",
      "[('own_rec', 0.10201595358955766)]\n",
      "[('own_rec', 0.05984911234120859)]\n",
      "[('own_rec', 0.24960116026105872)]\n",
      "[('own_rec', 0.016215906286033564)]\n",
      "test precision@50, recall@50, precision@5, recall@5\n",
      "[('own_rec', 0.05354604786076868)]\n",
      "[('own_rec', 0.061392524657022614)]\n",
      "[('own_rec', 0.14358230601885424)]\n",
      "[('own_rec', 0.019433439785998412)]\n",
      "7 5 5000\n"
     ]
    },
    {
     "data": {
      "application/vnd.jupyter.widget-view+json": {
       "model_id": "2e3eb63303df4d49a596fe18f196b5fd",
       "version_major": 2,
       "version_minor": 0
      },
      "text/plain": [
       "HBox(children=(HTML(value=''), FloatProgress(value=0.0, max=15.0), HTML(value='')))"
      ]
     },
     "metadata": {},
     "output_type": "display_data"
    },
    {
     "name": "stdout",
     "output_type": "stream",
     "text": [
      "\n"
     ]
    },
    {
     "data": {
      "application/vnd.jupyter.widget-view+json": {
       "model_id": "c7e7c71b76884f399479197ae7c71b27",
       "version_major": 2,
       "version_minor": 0
      },
      "text/plain": [
       "HBox(children=(HTML(value=''), FloatProgress(value=0.0, max=4998.0), HTML(value='')))"
      ]
     },
     "metadata": {},
     "output_type": "display_data"
    },
    {
     "name": "stdout",
     "output_type": "stream",
     "text": [
      "\n",
      "train precision@50, recall@50, precision@5, recall@5\n",
      "[('own_rec', 0.09271936185641769)]\n",
      "[('own_rec', 0.054712418525449766)]\n",
      "[('own_rec', 0.23118201595358956)]\n",
      "[('own_rec', 0.014588775868279192)]\n",
      "test precision@50, recall@50, precision@5, recall@5\n",
      "[('own_rec', 0.048992023205221176)]\n",
      "[('own_rec', 0.05637868825307667)]\n",
      "[('own_rec', 0.13357505438723713)]\n",
      "[('own_rec', 0.017937183516162327)]\n",
      "7 5 6000\n"
     ]
    },
    {
     "data": {
      "application/vnd.jupyter.widget-view+json": {
       "model_id": "1b6aedd8491b4c18b56feb99bd7bb872",
       "version_major": 2,
       "version_minor": 0
      },
      "text/plain": [
       "HBox(children=(HTML(value=''), FloatProgress(value=0.0, max=15.0), HTML(value='')))"
      ]
     },
     "metadata": {},
     "output_type": "display_data"
    },
    {
     "name": "stdout",
     "output_type": "stream",
     "text": [
      "\n"
     ]
    },
    {
     "data": {
      "application/vnd.jupyter.widget-view+json": {
       "model_id": "c5080f8859ca4b92a2b9b950454edf61",
       "version_major": 2,
       "version_minor": 0
      },
      "text/plain": [
       "HBox(children=(HTML(value=''), FloatProgress(value=0.0, max=5996.0), HTML(value='')))"
      ]
     },
     "metadata": {},
     "output_type": "display_data"
    },
    {
     "name": "stdout",
     "output_type": "stream",
     "text": [
      "\n",
      "train precision@50, recall@50, precision@5, recall@5\n",
      "[('own_rec', 0.08574329224075418)]\n",
      "[('own_rec', 0.051028942510006024)]\n",
      "[('own_rec', 0.219869470630892)]\n",
      "[('own_rec', 0.014096859656401452)]\n",
      "test precision@50, recall@50, precision@5, recall@5\n",
      "[('own_rec', 0.045235678027556195)]\n",
      "[('own_rec', 0.05191478366682174)]\n",
      "[('own_rec', 0.12661348803480785)]\n",
      "[('own_rec', 0.01660157983251831)]\n",
      "7 6 500\n"
     ]
    },
    {
     "data": {
      "application/vnd.jupyter.widget-view+json": {
       "model_id": "6e567d38a5f941a8aa9fc770ca7c78cb",
       "version_major": 2,
       "version_minor": 0
      },
      "text/plain": [
       "HBox(children=(HTML(value=''), FloatProgress(value=0.0, max=15.0), HTML(value='')))"
      ]
     },
     "metadata": {},
     "output_type": "display_data"
    },
    {
     "name": "stdout",
     "output_type": "stream",
     "text": [
      "\n"
     ]
    },
    {
     "data": {
      "application/vnd.jupyter.widget-view+json": {
       "model_id": "f1c89ce38db9476eb0ca3c1eea427bc4",
       "version_major": 2,
       "version_minor": 0
      },
      "text/plain": [
       "HBox(children=(HTML(value=''), FloatProgress(value=0.0, max=501.0), HTML(value='')))"
      ]
     },
     "metadata": {},
     "output_type": "display_data"
    },
    {
     "name": "stdout",
     "output_type": "stream",
     "text": [
      "\n",
      "train precision@50, recall@50, precision@5, recall@5\n",
      "[('own_rec', 0.11693981145757795)]\n",
      "[('own_rec', 0.06608256186669384)]\n",
      "[('own_rec', 0.30384336475707036)]\n",
      "[('own_rec', 0.01978447109804752)]\n",
      "test precision@50, recall@50, precision@5, recall@5\n",
      "[('own_rec', 0.06485859318346629)]\n",
      "[('own_rec', 0.06956944183523166)]\n",
      "[('own_rec', 0.18825235678027558)]\n",
      "[('own_rec', 0.0235998517742053)]\n",
      "7 6 1000\n"
     ]
    },
    {
     "data": {
      "application/vnd.jupyter.widget-view+json": {
       "model_id": "01340dd3e5ae4b60aaa997d00acb420f",
       "version_major": 2,
       "version_minor": 0
      },
      "text/plain": [
       "HBox(children=(HTML(value=''), FloatProgress(value=0.0, max=15.0), HTML(value='')))"
      ]
     },
     "metadata": {},
     "output_type": "display_data"
    },
    {
     "name": "stdout",
     "output_type": "stream",
     "text": [
      "\n"
     ]
    },
    {
     "data": {
      "application/vnd.jupyter.widget-view+json": {
       "model_id": "d3a08e0369b54574bc846f242da276b8",
       "version_major": 2,
       "version_minor": 0
      },
      "text/plain": [
       "HBox(children=(HTML(value=''), FloatProgress(value=0.0, max=1001.0), HTML(value='')))"
      ]
     },
     "metadata": {},
     "output_type": "display_data"
    },
    {
     "name": "stdout",
     "output_type": "stream",
     "text": [
      "\n",
      "train precision@50, recall@50, precision@5, recall@5\n",
      "[('own_rec', 0.1194343727338651)]\n",
      "[('own_rec', 0.06895022567152309)]\n",
      "[('own_rec', 0.2851341551849166)]\n",
      "[('own_rec', 0.019169455456699826)]\n",
      "test precision@50, recall@50, precision@5, recall@5\n",
      "[('own_rec', 0.06474256707759246)]\n",
      "[('own_rec', 0.07119172429962517)]\n",
      "[('own_rec', 0.1695431472081218)]\n",
      "[('own_rec', 0.021771854308876664)]\n",
      "7 6 2000\n"
     ]
    },
    {
     "data": {
      "application/vnd.jupyter.widget-view+json": {
       "model_id": "c9ae2a79af6d4baf8396ae32b2fc5298",
       "version_major": 2,
       "version_minor": 0
      },
      "text/plain": [
       "HBox(children=(HTML(value=''), FloatProgress(value=0.0, max=15.0), HTML(value='')))"
      ]
     },
     "metadata": {},
     "output_type": "display_data"
    },
    {
     "name": "stdout",
     "output_type": "stream",
     "text": [
      "\n"
     ]
    },
    {
     "data": {
      "application/vnd.jupyter.widget-view+json": {
       "model_id": "b58caf647d7c47cd9adc8723824d1bc4",
       "version_major": 2,
       "version_minor": 0
      },
      "text/plain": [
       "HBox(children=(HTML(value=''), FloatProgress(value=0.0, max=2001.0), HTML(value='')))"
      ]
     },
     "metadata": {},
     "output_type": "display_data"
    },
    {
     "name": "stdout",
     "output_type": "stream",
     "text": [
      "\n",
      "train precision@50, recall@50, precision@5, recall@5\n",
      "[('own_rec', 0.11415518491660624)]\n",
      "[('own_rec', 0.06718925270575721)]\n",
      "[('own_rec', 0.2684554024655547)]\n",
      "[('own_rec', 0.018630731834354097)]\n",
      "test precision@50, recall@50, precision@5, recall@5\n",
      "[('own_rec', 0.061377810007251635)]\n",
      "[('own_rec', 0.06787808372048725)]\n",
      "[('own_rec', 0.1602610587382161)]\n",
      "[('own_rec', 0.020775942279582838)]\n",
      "7 6 3000\n"
     ]
    },
    {
     "data": {
      "application/vnd.jupyter.widget-view+json": {
       "model_id": "668772879fab48afb3c70ee65215b1ea",
       "version_major": 2,
       "version_minor": 0
      },
      "text/plain": [
       "HBox(children=(HTML(value=''), FloatProgress(value=0.0, max=15.0), HTML(value='')))"
      ]
     },
     "metadata": {},
     "output_type": "display_data"
    },
    {
     "name": "stdout",
     "output_type": "stream",
     "text": [
      "\n"
     ]
    },
    {
     "data": {
      "application/vnd.jupyter.widget-view+json": {
       "model_id": "8b7c87880db84af9a6b138ac8be40516",
       "version_major": 2,
       "version_minor": 0
      },
      "text/plain": [
       "HBox(children=(HTML(value=''), FloatProgress(value=0.0, max=3001.0), HTML(value='')))"
      ]
     },
     "metadata": {},
     "output_type": "display_data"
    },
    {
     "name": "stdout",
     "output_type": "stream",
     "text": [
      "\n",
      "train precision@50, recall@50, precision@5, recall@5\n",
      "[('own_rec', 0.107643219724438)]\n",
      "[('own_rec', 0.06411733531956845)]\n",
      "[('own_rec', 0.26207396664249455)]\n",
      "[('own_rec', 0.017557423865900024)]\n",
      "test precision@50, recall@50, precision@5, recall@5\n",
      "[('own_rec', 0.0571718636693256)]\n",
      "[('own_rec', 0.0650539125480262)]\n",
      "[('own_rec', 0.15054387237128355)]\n",
      "[('own_rec', 0.02037193826393069)]\n",
      "7 6 4000\n"
     ]
    },
    {
     "data": {
      "application/vnd.jupyter.widget-view+json": {
       "model_id": "cf29885ee0d946fe9794179028cb2106",
       "version_major": 2,
       "version_minor": 0
      },
      "text/plain": [
       "HBox(children=(HTML(value=''), FloatProgress(value=0.0, max=15.0), HTML(value='')))"
      ]
     },
     "metadata": {},
     "output_type": "display_data"
    },
    {
     "name": "stdout",
     "output_type": "stream",
     "text": [
      "\n"
     ]
    },
    {
     "data": {
      "application/vnd.jupyter.widget-view+json": {
       "model_id": "7a5d13abfb4c489882fdf1e490969ff9",
       "version_major": 2,
       "version_minor": 0
      },
      "text/plain": [
       "HBox(children=(HTML(value=''), FloatProgress(value=0.0, max=4000.0), HTML(value='')))"
      ]
     },
     "metadata": {},
     "output_type": "display_data"
    },
    {
     "name": "stdout",
     "output_type": "stream",
     "text": [
      "\n",
      "train precision@50, recall@50, precision@5, recall@5\n",
      "[('own_rec', 0.09970993473531545)]\n",
      "[('own_rec', 0.05959279935085232)]\n",
      "[('own_rec', 0.24467005076142131)]\n",
      "[('own_rec', 0.01625603337354281)]\n",
      "test precision@50, recall@50, precision@5, recall@5\n",
      "[('own_rec', 0.052690355329949236)]\n",
      "[('own_rec', 0.06085260378061523)]\n",
      "[('own_rec', 0.1387962291515591)]\n",
      "[('own_rec', 0.019048864643910965)]\n",
      "7 6 5000\n"
     ]
    },
    {
     "data": {
      "application/vnd.jupyter.widget-view+json": {
       "model_id": "a18b3687033041f2ae15e719aab23e3d",
       "version_major": 2,
       "version_minor": 0
      },
      "text/plain": [
       "HBox(children=(HTML(value=''), FloatProgress(value=0.0, max=15.0), HTML(value='')))"
      ]
     },
     "metadata": {},
     "output_type": "display_data"
    },
    {
     "name": "stdout",
     "output_type": "stream",
     "text": [
      "\n"
     ]
    },
    {
     "data": {
      "application/vnd.jupyter.widget-view+json": {
       "model_id": "45ea769e3fa142df9acd72026a6fce1a",
       "version_major": 2,
       "version_minor": 0
      },
      "text/plain": [
       "HBox(children=(HTML(value=''), FloatProgress(value=0.0, max=4998.0), HTML(value='')))"
      ]
     },
     "metadata": {},
     "output_type": "display_data"
    },
    {
     "name": "stdout",
     "output_type": "stream",
     "text": [
      "\n",
      "train precision@50, recall@50, precision@5, recall@5\n",
      "[('own_rec', 0.09112400290065266)]\n",
      "[('own_rec', 0.05450513164235214)]\n",
      "[('own_rec', 0.22828136330674403)]\n",
      "[('own_rec', 0.014837786635337656)]\n",
      "test precision@50, recall@50, precision@5, recall@5\n",
      "[('own_rec', 0.04802030456852792)]\n",
      "[('own_rec', 0.05554241153466824)]\n",
      "[('own_rec', 0.12965917331399562)]\n",
      "[('own_rec', 0.017573536241957125)]\n",
      "7 6 6000\n"
     ]
    },
    {
     "data": {
      "application/vnd.jupyter.widget-view+json": {
       "model_id": "10f8bc518a964d17b50dbfbd94f7e3f0",
       "version_major": 2,
       "version_minor": 0
      },
      "text/plain": [
       "HBox(children=(HTML(value=''), FloatProgress(value=0.0, max=15.0), HTML(value='')))"
      ]
     },
     "metadata": {},
     "output_type": "display_data"
    },
    {
     "name": "stdout",
     "output_type": "stream",
     "text": [
      "\n"
     ]
    },
    {
     "data": {
      "application/vnd.jupyter.widget-view+json": {
       "model_id": "a0cd9fefe2844990b6cb9c56de75705c",
       "version_major": 2,
       "version_minor": 0
      },
      "text/plain": [
       "HBox(children=(HTML(value=''), FloatProgress(value=0.0, max=5996.0), HTML(value='')))"
      ]
     },
     "metadata": {},
     "output_type": "display_data"
    },
    {
     "name": "stdout",
     "output_type": "stream",
     "text": [
      "\n",
      "train precision@50, recall@50, precision@5, recall@5\n",
      "[('own_rec', 0.08442349528643946)]\n",
      "[('own_rec', 0.05138349832186541)]\n",
      "[('own_rec', 0.21464829586656997)]\n",
      "[('own_rec', 0.013883008644298124)]\n",
      "test precision@50, recall@50, precision@5, recall@5\n",
      "[('own_rec', 0.044394488759971)]\n",
      "[('own_rec', 0.05129243467139652)]\n",
      "[('own_rec', 0.12327773749093546)]\n",
      "[('own_rec', 0.016114883541138547)]\n",
      "8 1 500\n"
     ]
    },
    {
     "data": {
      "application/vnd.jupyter.widget-view+json": {
       "model_id": "5865e1ca71e9499ea8ed5124a923790f",
       "version_major": 2,
       "version_minor": 0
      },
      "text/plain": [
       "HBox(children=(HTML(value=''), FloatProgress(value=0.0, max=15.0), HTML(value='')))"
      ]
     },
     "metadata": {},
     "output_type": "display_data"
    },
    {
     "name": "stdout",
     "output_type": "stream",
     "text": [
      "\n"
     ]
    },
    {
     "data": {
      "application/vnd.jupyter.widget-view+json": {
       "model_id": "6b358948087943a1ac119397fd8915c8",
       "version_major": 2,
       "version_minor": 0
      },
      "text/plain": [
       "HBox(children=(HTML(value=''), FloatProgress(value=0.0, max=501.0), HTML(value='')))"
      ]
     },
     "metadata": {},
     "output_type": "display_data"
    },
    {
     "name": "stdout",
     "output_type": "stream",
     "text": [
      "\n",
      "train precision@50, recall@50, precision@5, recall@5\n",
      "[('own_rec', 0.13080493110949964)]\n",
      "[('own_rec', 0.06374203745820557)]\n",
      "[('own_rec', 0.33444525018129084)]\n",
      "[('own_rec', 0.018551797923413844)]\n",
      "test precision@50, recall@50, precision@5, recall@5\n",
      "[('own_rec', 0.06606236403190717)]\n",
      "[('own_rec', 0.07064402821420183)]\n",
      "[('own_rec', 0.19840464104423497)]\n",
      "[('own_rec', 0.02477015312854748)]\n",
      "8 1 1000\n"
     ]
    },
    {
     "data": {
      "application/vnd.jupyter.widget-view+json": {
       "model_id": "d3c38d2ccc14462084ae4855f84182e7",
       "version_major": 2,
       "version_minor": 0
      },
      "text/plain": [
       "HBox(children=(HTML(value=''), FloatProgress(value=0.0, max=15.0), HTML(value='')))"
      ]
     },
     "metadata": {},
     "output_type": "display_data"
    },
    {
     "name": "stdout",
     "output_type": "stream",
     "text": [
      "\n"
     ]
    },
    {
     "data": {
      "application/vnd.jupyter.widget-view+json": {
       "model_id": "1af9ed79b3f9456dacfa87963add6f2e",
       "version_major": 2,
       "version_minor": 0
      },
      "text/plain": [
       "HBox(children=(HTML(value=''), FloatProgress(value=0.0, max=1001.0), HTML(value='')))"
      ]
     },
     "metadata": {},
     "output_type": "display_data"
    },
    {
     "name": "stdout",
     "output_type": "stream",
     "text": [
      "\n",
      "train precision@50, recall@50, precision@5, recall@5\n",
      "[('own_rec', 0.13250181290790428)]\n",
      "[('own_rec', 0.06599255927609647)]\n",
      "[('own_rec', 0.30471356055112403)]\n",
      "[('own_rec', 0.01705493234944595)]\n",
      "test precision@50, recall@50, precision@5, recall@5\n",
      "[('own_rec', 0.06739666424945613)]\n",
      "[('own_rec', 0.07396072011204495)]\n",
      "[('own_rec', 0.17955039883973894)]\n",
      "[('own_rec', 0.022628662278170723)]\n",
      "8 1 2000\n"
     ]
    },
    {
     "data": {
      "application/vnd.jupyter.widget-view+json": {
       "model_id": "2d9aaeb1728f48f1bd5cd855531b87cd",
       "version_major": 2,
       "version_minor": 0
      },
      "text/plain": [
       "HBox(children=(HTML(value=''), FloatProgress(value=0.0, max=15.0), HTML(value='')))"
      ]
     },
     "metadata": {},
     "output_type": "display_data"
    },
    {
     "name": "stdout",
     "output_type": "stream",
     "text": [
      "\n"
     ]
    },
    {
     "data": {
      "application/vnd.jupyter.widget-view+json": {
       "model_id": "eeb546e2a62c440f90ba119c2e5fe739",
       "version_major": 2,
       "version_minor": 0
      },
      "text/plain": [
       "HBox(children=(HTML(value=''), FloatProgress(value=0.0, max=2001.0), HTML(value='')))"
      ]
     },
     "metadata": {},
     "output_type": "display_data"
    },
    {
     "name": "stdout",
     "output_type": "stream",
     "text": [
      "\n",
      "train precision@50, recall@50, precision@5, recall@5\n",
      "[('own_rec', 0.12729514140681655)]\n",
      "[('own_rec', 0.06495090996146903)]\n",
      "[('own_rec', 0.2875997099347353)]\n",
      "[('own_rec', 0.016506547368683084)]\n",
      "test precision@50, recall@50, precision@5, recall@5\n",
      "[('own_rec', 0.06417693981145758)]\n",
      "[('own_rec', 0.07076715893840577)]\n",
      "[('own_rec', 0.16823785351704135)]\n",
      "[('own_rec', 0.021493536850105067)]\n",
      "8 1 3000\n"
     ]
    },
    {
     "data": {
      "application/vnd.jupyter.widget-view+json": {
       "model_id": "9e897bb62de14654a99104868862d330",
       "version_major": 2,
       "version_minor": 0
      },
      "text/plain": [
       "HBox(children=(HTML(value=''), FloatProgress(value=0.0, max=15.0), HTML(value='')))"
      ]
     },
     "metadata": {},
     "output_type": "display_data"
    },
    {
     "name": "stdout",
     "output_type": "stream",
     "text": [
      "\n"
     ]
    },
    {
     "data": {
      "application/vnd.jupyter.widget-view+json": {
       "model_id": "19b4af22bd434f19a48f6134e14f0409",
       "version_major": 2,
       "version_minor": 0
      },
      "text/plain": [
       "HBox(children=(HTML(value=''), FloatProgress(value=0.0, max=3001.0), HTML(value='')))"
      ]
     },
     "metadata": {},
     "output_type": "display_data"
    },
    {
     "name": "stdout",
     "output_type": "stream",
     "text": [
      "\n",
      "train precision@50, recall@50, precision@5, recall@5\n",
      "[('own_rec', 0.12007251631617112)]\n",
      "[('own_rec', 0.061845091691131386)]\n",
      "[('own_rec', 0.278027556200145)]\n",
      "[('own_rec', 0.01590034465834081)]\n",
      "test precision@50, recall@50, precision@5, recall@5\n",
      "[('own_rec', 0.06024655547498187)]\n",
      "[('own_rec', 0.06840867847832283)]\n",
      "[('own_rec', 0.15953589557650472)]\n",
      "[('own_rec', 0.021462382444271743)]\n",
      "8 1 4000\n"
     ]
    },
    {
     "data": {
      "application/vnd.jupyter.widget-view+json": {
       "model_id": "f60e4a3243e649c89d39f0332c449958",
       "version_major": 2,
       "version_minor": 0
      },
      "text/plain": [
       "HBox(children=(HTML(value=''), FloatProgress(value=0.0, max=15.0), HTML(value='')))"
      ]
     },
     "metadata": {},
     "output_type": "display_data"
    },
    {
     "name": "stdout",
     "output_type": "stream",
     "text": [
      "\n"
     ]
    },
    {
     "data": {
      "application/vnd.jupyter.widget-view+json": {
       "model_id": "a9bd49e2d9b0478eb00767ff04b49db8",
       "version_major": 2,
       "version_minor": 0
      },
      "text/plain": [
       "HBox(children=(HTML(value=''), FloatProgress(value=0.0, max=4000.0), HTML(value='')))"
      ]
     },
     "metadata": {},
     "output_type": "display_data"
    },
    {
     "name": "stdout",
     "output_type": "stream",
     "text": [
      "\n",
      "train precision@50, recall@50, precision@5, recall@5\n",
      "[('own_rec', 0.1104133430021755)]\n",
      "[('own_rec', 0.05700908759102052)]\n",
      "[('own_rec', 0.2616388687454677)]\n",
      "[('own_rec', 0.014946260322110074)]\n",
      "test precision@50, recall@50, precision@5, recall@5\n",
      "[('own_rec', 0.05559100797679479)]\n",
      "[('own_rec', 0.06344944163130108)]\n",
      "[('own_rec', 0.14720812182741116)]\n",
      "[('own_rec', 0.01961097102176255)]\n",
      "8 1 5000\n"
     ]
    },
    {
     "data": {
      "application/vnd.jupyter.widget-view+json": {
       "model_id": "685b46faed9545b9a241a0f9a8e758e7",
       "version_major": 2,
       "version_minor": 0
      },
      "text/plain": [
       "HBox(children=(HTML(value=''), FloatProgress(value=0.0, max=15.0), HTML(value='')))"
      ]
     },
     "metadata": {},
     "output_type": "display_data"
    },
    {
     "name": "stdout",
     "output_type": "stream",
     "text": [
      "\n"
     ]
    },
    {
     "data": {
      "application/vnd.jupyter.widget-view+json": {
       "model_id": "47d1b6bc6e824fc0a1fe515c56d524ad",
       "version_major": 2,
       "version_minor": 0
      },
      "text/plain": [
       "HBox(children=(HTML(value=''), FloatProgress(value=0.0, max=4998.0), HTML(value='')))"
      ]
     },
     "metadata": {},
     "output_type": "display_data"
    },
    {
     "name": "stdout",
     "output_type": "stream",
     "text": [
      "\n",
      "train precision@50, recall@50, precision@5, recall@5\n",
      "[('own_rec', 0.10131979695431471)]\n",
      "[('own_rec', 0.05310675028940196)]\n",
      "[('own_rec', 0.24321972443799852)]\n",
      "[('own_rec', 0.013796133722117309)]\n",
      "test precision@50, recall@50, precision@5, recall@5\n",
      "[('own_rec', 0.050993473531544604)]\n",
      "[('own_rec', 0.05895329402436523)]\n",
      "[('own_rec', 0.13778100072516317)]\n",
      "[('own_rec', 0.018161290385464088)]\n",
      "8 1 6000\n"
     ]
    },
    {
     "data": {
      "application/vnd.jupyter.widget-view+json": {
       "model_id": "e88659b060d648dea1f209cd758d71f4",
       "version_major": 2,
       "version_minor": 0
      },
      "text/plain": [
       "HBox(children=(HTML(value=''), FloatProgress(value=0.0, max=15.0), HTML(value='')))"
      ]
     },
     "metadata": {},
     "output_type": "display_data"
    },
    {
     "name": "stdout",
     "output_type": "stream",
     "text": [
      "\n"
     ]
    },
    {
     "data": {
      "application/vnd.jupyter.widget-view+json": {
       "model_id": "474ebe4c66f0409fa0060f4883f496a9",
       "version_major": 2,
       "version_minor": 0
      },
      "text/plain": [
       "HBox(children=(HTML(value=''), FloatProgress(value=0.0, max=5996.0), HTML(value='')))"
      ]
     },
     "metadata": {},
     "output_type": "display_data"
    },
    {
     "name": "stdout",
     "output_type": "stream",
     "text": [
      "\n",
      "train precision@50, recall@50, precision@5, recall@5\n",
      "[('own_rec', 0.09435823060188543)]\n",
      "[('own_rec', 0.050006972456917445)]\n",
      "[('own_rec', 0.2297316896301668)]\n",
      "[('own_rec', 0.013317217185989584)]\n",
      "test precision@50, recall@50, precision@5, recall@5\n",
      "[('own_rec', 0.04777374909354604)]\n",
      "[('own_rec', 0.05497305245409913)]\n",
      "[('own_rec', 0.13270485859318346)]\n",
      "[('own_rec', 0.01704505855347817)]\n",
      "8 2 500\n"
     ]
    },
    {
     "data": {
      "application/vnd.jupyter.widget-view+json": {
       "model_id": "5f47773c8aaa4e6fb360a3dd1c5b3c5c",
       "version_major": 2,
       "version_minor": 0
      },
      "text/plain": [
       "HBox(children=(HTML(value=''), FloatProgress(value=0.0, max=15.0), HTML(value='')))"
      ]
     },
     "metadata": {},
     "output_type": "display_data"
    },
    {
     "name": "stdout",
     "output_type": "stream",
     "text": [
      "\n"
     ]
    },
    {
     "data": {
      "application/vnd.jupyter.widget-view+json": {
       "model_id": "cfc8a3e8d4b6492d8024fbbc95be4ed6",
       "version_major": 2,
       "version_minor": 0
      },
      "text/plain": [
       "HBox(children=(HTML(value=''), FloatProgress(value=0.0, max=501.0), HTML(value='')))"
      ]
     },
     "metadata": {},
     "output_type": "display_data"
    },
    {
     "name": "stdout",
     "output_type": "stream",
     "text": [
      "\n",
      "train precision@50, recall@50, precision@5, recall@5\n",
      "[('own_rec', 0.13254532269760697)]\n",
      "[('own_rec', 0.06303744227296502)]\n",
      "[('own_rec', 0.33618564176939814)]\n",
      "[('own_rec', 0.01824146777523552)]\n",
      "test precision@50, recall@50, precision@5, recall@5\n",
      "[('own_rec', 0.06577229876722264)]\n",
      "[('own_rec', 0.07048688929247997)]\n",
      "[('own_rec', 0.19550398839738942)]\n",
      "[('own_rec', 0.024839065620058526)]\n",
      "8 2 1000\n"
     ]
    },
    {
     "data": {
      "application/vnd.jupyter.widget-view+json": {
       "model_id": "7f20546ba75b4ccb96860b71f03bbecc",
       "version_major": 2,
       "version_minor": 0
      },
      "text/plain": [
       "HBox(children=(HTML(value=''), FloatProgress(value=0.0, max=15.0), HTML(value='')))"
      ]
     },
     "metadata": {},
     "output_type": "display_data"
    },
    {
     "name": "stdout",
     "output_type": "stream",
     "text": [
      "\n"
     ]
    },
    {
     "data": {
      "application/vnd.jupyter.widget-view+json": {
       "model_id": "916b9d5617734f95b506774253672804",
       "version_major": 2,
       "version_minor": 0
      },
      "text/plain": [
       "HBox(children=(HTML(value=''), FloatProgress(value=0.0, max=1001.0), HTML(value='')))"
      ]
     },
     "metadata": {},
     "output_type": "display_data"
    },
    {
     "name": "stdout",
     "output_type": "stream",
     "text": [
      "\n",
      "train precision@50, recall@50, precision@5, recall@5\n",
      "[('own_rec', 0.13447425670775925)]\n",
      "[('own_rec', 0.06540253495483772)]\n",
      "[('own_rec', 0.3093546047860769)]\n",
      "[('own_rec', 0.016883384823122693)]\n",
      "test precision@50, recall@50, precision@5, recall@5\n",
      "[('own_rec', 0.0664394488759971)]\n",
      "[('own_rec', 0.07293424358705443)]\n",
      "[('own_rec', 0.1772298767222625)]\n",
      "[('own_rec', 0.02244161782168302)]\n",
      "8 2 2000\n"
     ]
    },
    {
     "data": {
      "application/vnd.jupyter.widget-view+json": {
       "model_id": "4dc237b06bac49cf9eca81e6079b844a",
       "version_major": 2,
       "version_minor": 0
      },
      "text/plain": [
       "HBox(children=(HTML(value=''), FloatProgress(value=0.0, max=15.0), HTML(value='')))"
      ]
     },
     "metadata": {},
     "output_type": "display_data"
    },
    {
     "name": "stdout",
     "output_type": "stream",
     "text": [
      "\n"
     ]
    },
    {
     "data": {
      "application/vnd.jupyter.widget-view+json": {
       "model_id": "f546aee171194f7a84f73e2aabdbb19d",
       "version_major": 2,
       "version_minor": 0
      },
      "text/plain": [
       "HBox(children=(HTML(value=''), FloatProgress(value=0.0, max=2001.0), HTML(value='')))"
      ]
     },
     "metadata": {},
     "output_type": "display_data"
    },
    {
     "name": "stdout",
     "output_type": "stream",
     "text": [
      "\n",
      "train precision@50, recall@50, precision@5, recall@5\n",
      "[('own_rec', 0.12896301667875273)]\n",
      "[('own_rec', 0.06433744790126822)]\n",
      "[('own_rec', 0.29253081943437276)]\n",
      "[('own_rec', 0.016535312147013363)]\n",
      "test precision@50, recall@50, precision@5, recall@5\n",
      "[('own_rec', 0.06316171138506164)]\n",
      "[('own_rec', 0.06954437813108455)]\n",
      "[('own_rec', 0.16316171138506164)]\n",
      "[('own_rec', 0.021011759939476942)]\n",
      "8 2 3000\n"
     ]
    },
    {
     "data": {
      "application/vnd.jupyter.widget-view+json": {
       "model_id": "51c5059036244545babe6f93ae614c80",
       "version_major": 2,
       "version_minor": 0
      },
      "text/plain": [
       "HBox(children=(HTML(value=''), FloatProgress(value=0.0, max=15.0), HTML(value='')))"
      ]
     },
     "metadata": {},
     "output_type": "display_data"
    },
    {
     "name": "stdout",
     "output_type": "stream",
     "text": [
      "\n"
     ]
    },
    {
     "data": {
      "application/vnd.jupyter.widget-view+json": {
       "model_id": "4093cb2009d340428b20d96330f61d1c",
       "version_major": 2,
       "version_minor": 0
      },
      "text/plain": [
       "HBox(children=(HTML(value=''), FloatProgress(value=0.0, max=3001.0), HTML(value='')))"
      ]
     },
     "metadata": {},
     "output_type": "display_data"
    },
    {
     "name": "stdout",
     "output_type": "stream",
     "text": [
      "\n",
      "train precision@50, recall@50, precision@5, recall@5\n",
      "[('own_rec', 0.12152284263959391)]\n",
      "[('own_rec', 0.06129318970723758)]\n",
      "[('own_rec', 0.2826686004350979)]\n",
      "[('own_rec', 0.015901202802018614)]\n",
      "test precision@50, recall@50, precision@5, recall@5\n",
      "[('own_rec', 0.05921682378535171)]\n",
      "[('own_rec', 0.06722938096989364)]\n",
      "[('own_rec', 0.154459753444525)]\n",
      "[('own_rec', 0.020896079482574152)]\n",
      "8 2 4000\n"
     ]
    },
    {
     "data": {
      "application/vnd.jupyter.widget-view+json": {
       "model_id": "4f0b5f7da0c741eb80e0927e41fdfb62",
       "version_major": 2,
       "version_minor": 0
      },
      "text/plain": [
       "HBox(children=(HTML(value=''), FloatProgress(value=0.0, max=15.0), HTML(value='')))"
      ]
     },
     "metadata": {},
     "output_type": "display_data"
    },
    {
     "name": "stdout",
     "output_type": "stream",
     "text": [
      "\n"
     ]
    },
    {
     "data": {
      "application/vnd.jupyter.widget-view+json": {
       "model_id": "ebc3422f735448bba28eb4187c60b06e",
       "version_major": 2,
       "version_minor": 0
      },
      "text/plain": [
       "HBox(children=(HTML(value=''), FloatProgress(value=0.0, max=4000.0), HTML(value='')))"
      ]
     },
     "metadata": {},
     "output_type": "display_data"
    },
    {
     "name": "stdout",
     "output_type": "stream",
     "text": [
      "\n",
      "train precision@50, recall@50, precision@5, recall@5\n",
      "[('own_rec', 0.11277737490935462)]\n",
      "[('own_rec', 0.0570286755998931)]\n",
      "[('own_rec', 0.2664249456127629)]\n",
      "[('own_rec', 0.0150284504576898)]\n",
      "test precision@50, recall@50, precision@5, recall@5\n",
      "[('own_rec', 0.054517766497461935)]\n",
      "[('own_rec', 0.06262898737722235)]\n",
      "[('own_rec', 0.14590282813633068)]\n",
      "[('own_rec', 0.01971912061010135)]\n",
      "8 2 5000\n"
     ]
    },
    {
     "data": {
      "application/vnd.jupyter.widget-view+json": {
       "model_id": "20a381d35a3941e4b4be9f2bb7ae6238",
       "version_major": 2,
       "version_minor": 0
      },
      "text/plain": [
       "HBox(children=(HTML(value=''), FloatProgress(value=0.0, max=15.0), HTML(value='')))"
      ]
     },
     "metadata": {},
     "output_type": "display_data"
    },
    {
     "name": "stdout",
     "output_type": "stream",
     "text": [
      "\n"
     ]
    },
    {
     "data": {
      "application/vnd.jupyter.widget-view+json": {
       "model_id": "d99e585b7e7d42cdb25463ed0c17d1ee",
       "version_major": 2,
       "version_minor": 0
      },
      "text/plain": [
       "HBox(children=(HTML(value=''), FloatProgress(value=0.0, max=4998.0), HTML(value='')))"
      ]
     },
     "metadata": {},
     "output_type": "display_data"
    },
    {
     "name": "stdout",
     "output_type": "stream",
     "text": [
      "\n",
      "train precision@50, recall@50, precision@5, recall@5\n",
      "[('own_rec', 0.10321972443799855)]\n",
      "[('own_rec', 0.05274393562016435)]\n",
      "[('own_rec', 0.2493110949963742)]\n",
      "[('own_rec', 0.013878678421090057)]\n",
      "test precision@50, recall@50, precision@5, recall@5\n",
      "[('own_rec', 0.05032632342277013)]\n",
      "[('own_rec', 0.057968255879652646)]\n",
      "[('own_rec', 0.1376359680928209)]\n",
      "[('own_rec', 0.0183070521542363)]\n",
      "8 2 6000\n"
     ]
    },
    {
     "data": {
      "application/vnd.jupyter.widget-view+json": {
       "model_id": "565494da1a2840229ea97c8306d7f619",
       "version_major": 2,
       "version_minor": 0
      },
      "text/plain": [
       "HBox(children=(HTML(value=''), FloatProgress(value=0.0, max=15.0), HTML(value='')))"
      ]
     },
     "metadata": {},
     "output_type": "display_data"
    },
    {
     "name": "stdout",
     "output_type": "stream",
     "text": [
      "\n"
     ]
    },
    {
     "data": {
      "application/vnd.jupyter.widget-view+json": {
       "model_id": "c0dac68e1c9844478321707a38a35dc1",
       "version_major": 2,
       "version_minor": 0
      },
      "text/plain": [
       "HBox(children=(HTML(value=''), FloatProgress(value=0.0, max=5996.0), HTML(value='')))"
      ]
     },
     "metadata": {},
     "output_type": "display_data"
    },
    {
     "name": "stdout",
     "output_type": "stream",
     "text": [
      "\n",
      "train precision@50, recall@50, precision@5, recall@5\n",
      "[('own_rec', 0.09598259608411894)]\n",
      "[('own_rec', 0.04975740365930188)]\n",
      "[('own_rec', 0.23712835387962292)]\n",
      "[('own_rec', 0.013356690717789436)]\n",
      "test precision@50, recall@50, precision@5, recall@5\n",
      "[('own_rec', 0.047251631617113855)]\n",
      "[('own_rec', 0.05405953627949065)]\n",
      "[('own_rec', 0.1305293691080493)]\n",
      "[('own_rec', 0.016802813925208958)]\n",
      "8 3 500\n"
     ]
    },
    {
     "data": {
      "application/vnd.jupyter.widget-view+json": {
       "model_id": "f03ad7c33ac8468ab7c38b4891eef367",
       "version_major": 2,
       "version_minor": 0
      },
      "text/plain": [
       "HBox(children=(HTML(value=''), FloatProgress(value=0.0, max=15.0), HTML(value='')))"
      ]
     },
     "metadata": {},
     "output_type": "display_data"
    },
    {
     "name": "stdout",
     "output_type": "stream",
     "text": [
      "\n"
     ]
    },
    {
     "data": {
      "application/vnd.jupyter.widget-view+json": {
       "model_id": "78b37e10502f4b138b1969e640023815",
       "version_major": 2,
       "version_minor": 0
      },
      "text/plain": [
       "HBox(children=(HTML(value=''), FloatProgress(value=0.0, max=501.0), HTML(value='')))"
      ]
     },
     "metadata": {},
     "output_type": "display_data"
    },
    {
     "name": "stdout",
     "output_type": "stream",
     "text": [
      "\n",
      "train precision@50, recall@50, precision@5, recall@5\n",
      "[('own_rec', 0.12873096446700508)]\n",
      "[('own_rec', 0.06310776273357173)]\n",
      "[('own_rec', 0.3289340101522843)]\n",
      "[('own_rec', 0.01798183889776195)]\n",
      "test precision@50, recall@50, precision@5, recall@5\n",
      "[('own_rec', 0.0653372008701958)]\n",
      "[('own_rec', 0.07003374218797778)]\n",
      "[('own_rec', 0.19376359680928207)]\n",
      "[('own_rec', 0.024180523543706353)]\n",
      "8 3 1000\n"
     ]
    },
    {
     "data": {
      "application/vnd.jupyter.widget-view+json": {
       "model_id": "070be44432444949af840673db89fa35",
       "version_major": 2,
       "version_minor": 0
      },
      "text/plain": [
       "HBox(children=(HTML(value=''), FloatProgress(value=0.0, max=15.0), HTML(value='')))"
      ]
     },
     "metadata": {},
     "output_type": "display_data"
    },
    {
     "name": "stdout",
     "output_type": "stream",
     "text": [
      "\n"
     ]
    },
    {
     "data": {
      "application/vnd.jupyter.widget-view+json": {
       "model_id": "27c9b275e9f24faeaae86a928c7cf1e8",
       "version_major": 2,
       "version_minor": 0
      },
      "text/plain": [
       "HBox(children=(HTML(value=''), FloatProgress(value=0.0, max=1001.0), HTML(value='')))"
      ]
     },
     "metadata": {},
     "output_type": "display_data"
    },
    {
     "name": "stdout",
     "output_type": "stream",
     "text": [
      "\n",
      "train precision@50, recall@50, precision@5, recall@5\n",
      "[('own_rec', 0.13139956490210297)]\n",
      "[('own_rec', 0.06593786431947316)]\n",
      "[('own_rec', 0.3012327773749094)]\n",
      "[('own_rec', 0.016661795209319527)]\n",
      "test precision@50, recall@50, precision@5, recall@5\n",
      "[('own_rec', 0.06583031182015954)]\n",
      "[('own_rec', 0.07243910769829717)]\n",
      "[('own_rec', 0.1734590282813633)]\n",
      "[('own_rec', 0.022180866789166767)]\n",
      "8 3 2000\n"
     ]
    },
    {
     "data": {
      "application/vnd.jupyter.widget-view+json": {
       "model_id": "39cdf6cabb5a42e0baa4fd01dde56ada",
       "version_major": 2,
       "version_minor": 0
      },
      "text/plain": [
       "HBox(children=(HTML(value=''), FloatProgress(value=0.0, max=15.0), HTML(value='')))"
      ]
     },
     "metadata": {},
     "output_type": "display_data"
    },
    {
     "name": "stdout",
     "output_type": "stream",
     "text": [
      "\n"
     ]
    },
    {
     "data": {
      "application/vnd.jupyter.widget-view+json": {
       "model_id": "916e0e8177d044978ae96c999b0befc0",
       "version_major": 2,
       "version_minor": 0
      },
      "text/plain": [
       "HBox(children=(HTML(value=''), FloatProgress(value=0.0, max=2001.0), HTML(value='')))"
      ]
     },
     "metadata": {},
     "output_type": "display_data"
    },
    {
     "name": "stdout",
     "output_type": "stream",
     "text": [
      "\n",
      "train precision@50, recall@50, precision@5, recall@5\n",
      "[('own_rec', 0.12626540971718636)]\n",
      "[('own_rec', 0.06413864857723281)]\n",
      "[('own_rec', 0.28585931834662803)]\n",
      "[('own_rec', 0.016234124322688274)]\n",
      "test precision@50, recall@50, precision@5, recall@5\n",
      "[('own_rec', 0.0625670775924583)]\n",
      "[('own_rec', 0.06912849215750744)]\n",
      "[('own_rec', 0.16258158085569252)]\n",
      "[('own_rec', 0.02096493653321568)]\n",
      "8 3 3000\n"
     ]
    },
    {
     "data": {
      "application/vnd.jupyter.widget-view+json": {
       "model_id": "f3cbdc3903ae44a8b149cc4b88925f55",
       "version_major": 2,
       "version_minor": 0
      },
      "text/plain": [
       "HBox(children=(HTML(value=''), FloatProgress(value=0.0, max=15.0), HTML(value='')))"
      ]
     },
     "metadata": {},
     "output_type": "display_data"
    },
    {
     "name": "stdout",
     "output_type": "stream",
     "text": [
      "\n"
     ]
    },
    {
     "data": {
      "application/vnd.jupyter.widget-view+json": {
       "model_id": "24d9dd060c6949f5bef7eb5b523af4fe",
       "version_major": 2,
       "version_minor": 0
      },
      "text/plain": [
       "HBox(children=(HTML(value=''), FloatProgress(value=0.0, max=3001.0), HTML(value='')))"
      ]
     },
     "metadata": {},
     "output_type": "display_data"
    },
    {
     "name": "stdout",
     "output_type": "stream",
     "text": [
      "\n",
      "train precision@50, recall@50, precision@5, recall@5\n",
      "[('own_rec', 0.11907179115300942)]\n",
      "[('own_rec', 0.06091285460999015)]\n",
      "[('own_rec', 0.27701232777374907)]\n",
      "[('own_rec', 0.015813257089406764)]\n",
      "test precision@50, recall@50, precision@5, recall@5\n",
      "[('own_rec', 0.05866569978245106)]\n",
      "[('own_rec', 0.06646783897489099)]\n",
      "[('own_rec', 0.15315445975344455)]\n",
      "[('own_rec', 0.02077750724195391)]\n",
      "8 3 4000\n"
     ]
    },
    {
     "data": {
      "application/vnd.jupyter.widget-view+json": {
       "model_id": "2c06bbe046db4b7a8f5d2adc9796258d",
       "version_major": 2,
       "version_minor": 0
      },
      "text/plain": [
       "HBox(children=(HTML(value=''), FloatProgress(value=0.0, max=15.0), HTML(value='')))"
      ]
     },
     "metadata": {},
     "output_type": "display_data"
    },
    {
     "name": "stdout",
     "output_type": "stream",
     "text": [
      "\n"
     ]
    },
    {
     "data": {
      "application/vnd.jupyter.widget-view+json": {
       "model_id": "2f53cb256c7f409998d4fb7bb69f9556",
       "version_major": 2,
       "version_minor": 0
      },
      "text/plain": [
       "HBox(children=(HTML(value=''), FloatProgress(value=0.0, max=3999.0), HTML(value='')))"
      ]
     },
     "metadata": {},
     "output_type": "display_data"
    },
    {
     "name": "stdout",
     "output_type": "stream",
     "text": [
      "\n",
      "train precision@50, recall@50, precision@5, recall@5\n",
      "[('own_rec', 0.11068890500362585)]\n",
      "[('own_rec', 0.0566994263336948)]\n",
      "[('own_rec', 0.2642494561276287)]\n",
      "[('own_rec', 0.015001544664847747)]\n",
      "test precision@50, recall@50, precision@5, recall@5\n",
      "[('own_rec', 0.05409717186366933)]\n",
      "[('own_rec', 0.062131826901646106)]\n",
      "[('own_rec', 0.14532269760696157)]\n",
      "[('own_rec', 0.019619431642293534)]\n",
      "8 3 5000\n"
     ]
    },
    {
     "data": {
      "application/vnd.jupyter.widget-view+json": {
       "model_id": "cdd776158ca44397a5205131d85e6da0",
       "version_major": 2,
       "version_minor": 0
      },
      "text/plain": [
       "HBox(children=(HTML(value=''), FloatProgress(value=0.0, max=15.0), HTML(value='')))"
      ]
     },
     "metadata": {},
     "output_type": "display_data"
    },
    {
     "name": "stdout",
     "output_type": "stream",
     "text": [
      "\n"
     ]
    },
    {
     "data": {
      "application/vnd.jupyter.widget-view+json": {
       "model_id": "f3e8337cc7b749e498a703fa2aec4548",
       "version_major": 2,
       "version_minor": 0
      },
      "text/plain": [
       "HBox(children=(HTML(value=''), FloatProgress(value=0.0, max=4998.0), HTML(value='')))"
      ]
     },
     "metadata": {},
     "output_type": "display_data"
    },
    {
     "name": "stdout",
     "output_type": "stream",
     "text": [
      "\n",
      "train precision@50, recall@50, precision@5, recall@5\n",
      "[('own_rec', 0.10163886874546775)]\n",
      "[('own_rec', 0.052631997126540514)]\n",
      "[('own_rec', 0.24408992023205223)]\n",
      "[('own_rec', 0.013620789364109506)]\n",
      "test precision@50, recall@50, precision@5, recall@5\n",
      "[('own_rec', 0.04977519941986948)]\n",
      "[('own_rec', 0.05756443529708667)]\n",
      "[('own_rec', 0.13604060913705585)]\n",
      "[('own_rec', 0.018287982794336743)]\n",
      "8 3 6000\n"
     ]
    },
    {
     "data": {
      "application/vnd.jupyter.widget-view+json": {
       "model_id": "702fa1f4737f4d0995b1a7b63e310e15",
       "version_major": 2,
       "version_minor": 0
      },
      "text/plain": [
       "HBox(children=(HTML(value=''), FloatProgress(value=0.0, max=15.0), HTML(value='')))"
      ]
     },
     "metadata": {},
     "output_type": "display_data"
    },
    {
     "name": "stdout",
     "output_type": "stream",
     "text": [
      "\n"
     ]
    },
    {
     "data": {
      "application/vnd.jupyter.widget-view+json": {
       "model_id": "6a0df441bc334ffa8565c17325bff359",
       "version_major": 2,
       "version_minor": 0
      },
      "text/plain": [
       "HBox(children=(HTML(value=''), FloatProgress(value=0.0, max=5996.0), HTML(value='')))"
      ]
     },
     "metadata": {},
     "output_type": "display_data"
    },
    {
     "name": "stdout",
     "output_type": "stream",
     "text": [
      "\n",
      "train precision@50, recall@50, precision@5, recall@5\n",
      "[('own_rec', 0.09416968817984048)]\n",
      "[('own_rec', 0.0493826537356983)]\n",
      "[('own_rec', 0.23335750543872372)]\n",
      "[('own_rec', 0.013394551411436447)]\n",
      "test precision@50, recall@50, precision@5, recall@5\n",
      "[('own_rec', 0.04620739666424945)]\n",
      "[('own_rec', 0.053078533083100614)]\n",
      "[('own_rec', 0.12893401015228428)]\n",
      "[('own_rec', 0.016775575533838336)]\n",
      "8 4 500\n"
     ]
    },
    {
     "data": {
      "application/vnd.jupyter.widget-view+json": {
       "model_id": "bda9d5facf83490f862667467119f452",
       "version_major": 2,
       "version_minor": 0
      },
      "text/plain": [
       "HBox(children=(HTML(value=''), FloatProgress(value=0.0, max=15.0), HTML(value='')))"
      ]
     },
     "metadata": {},
     "output_type": "display_data"
    },
    {
     "name": "stdout",
     "output_type": "stream",
     "text": [
      "\n"
     ]
    },
    {
     "data": {
      "application/vnd.jupyter.widget-view+json": {
       "model_id": "c413f17f87314308a7ac362364ed8afb",
       "version_major": 2,
       "version_minor": 0
      },
      "text/plain": [
       "HBox(children=(HTML(value=''), FloatProgress(value=0.0, max=501.0), HTML(value='')))"
      ]
     },
     "metadata": {},
     "output_type": "display_data"
    },
    {
     "name": "stdout",
     "output_type": "stream",
     "text": [
      "\n",
      "train precision@50, recall@50, precision@5, recall@5\n",
      "[('own_rec', 0.12893401015228428)]\n",
      "[('own_rec', 0.06379831620912181)]\n",
      "[('own_rec', 0.3255982596084119)]\n",
      "[('own_rec', 0.017912422327475284)]\n",
      "test precision@50, recall@50, precision@5, recall@5\n",
      "[('own_rec', 0.06510514865844814)]\n",
      "[('own_rec', 0.06967380763037963)]\n",
      "[('own_rec', 0.1899927483683829)]\n",
      "[('own_rec', 0.02374691644180929)]\n",
      "8 4 1000\n"
     ]
    },
    {
     "data": {
      "application/vnd.jupyter.widget-view+json": {
       "model_id": "f7261d82f6d9498c9a357d3673b1ecf8",
       "version_major": 2,
       "version_minor": 0
      },
      "text/plain": [
       "HBox(children=(HTML(value=''), FloatProgress(value=0.0, max=15.0), HTML(value='')))"
      ]
     },
     "metadata": {},
     "output_type": "display_data"
    },
    {
     "name": "stdout",
     "output_type": "stream",
     "text": [
      "\n"
     ]
    },
    {
     "data": {
      "application/vnd.jupyter.widget-view+json": {
       "model_id": "1ca333fc6bd54c25bd99167d1781e0ab",
       "version_major": 2,
       "version_minor": 0
      },
      "text/plain": [
       "HBox(children=(HTML(value=''), FloatProgress(value=0.0, max=1001.0), HTML(value='')))"
      ]
     },
     "metadata": {},
     "output_type": "display_data"
    },
    {
     "name": "stdout",
     "output_type": "stream",
     "text": [
      "\n",
      "train precision@50, recall@50, precision@5, recall@5\n",
      "[('own_rec', 0.13118201595358955)]\n",
      "[('own_rec', 0.06666394784497104)]\n",
      "[('own_rec', 0.30239303843364757)]\n",
      "[('own_rec', 0.017140742146520577)]\n",
      "test precision@50, recall@50, precision@5, recall@5\n",
      "[('own_rec', 0.06538071065989849)]\n",
      "[('own_rec', 0.07209513480358777)]\n",
      "[('own_rec', 0.1727338651196519)]\n",
      "[('own_rec', 0.022045360307623007)]\n",
      "8 4 2000\n"
     ]
    },
    {
     "data": {
      "application/vnd.jupyter.widget-view+json": {
       "model_id": "e6a0bbc406cb4df5b9143b7bb9daf886",
       "version_major": 2,
       "version_minor": 0
      },
      "text/plain": [
       "HBox(children=(HTML(value=''), FloatProgress(value=0.0, max=15.0), HTML(value='')))"
      ]
     },
     "metadata": {},
     "output_type": "display_data"
    },
    {
     "name": "stdout",
     "output_type": "stream",
     "text": [
      "\n"
     ]
    },
    {
     "data": {
      "application/vnd.jupyter.widget-view+json": {
       "model_id": "fe88458061984c2a93f2ab9bef318c8f",
       "version_major": 2,
       "version_minor": 0
      },
      "text/plain": [
       "HBox(children=(HTML(value=''), FloatProgress(value=0.0, max=2001.0), HTML(value='')))"
      ]
     },
     "metadata": {},
     "output_type": "display_data"
    },
    {
     "name": "stdout",
     "output_type": "stream",
     "text": [
      "\n",
      "train precision@50, recall@50, precision@5, recall@5\n",
      "[('own_rec', 0.1258158085569253)]\n",
      "[('own_rec', 0.0646528746902792)]\n",
      "[('own_rec', 0.28498912255257436)]\n",
      "[('own_rec', 0.016537471486412783)]\n",
      "test precision@50, recall@50, precision@5, recall@5\n",
      "[('own_rec', 0.061725888324873086)]\n",
      "[('own_rec', 0.06800217537371832)]\n",
      "[('own_rec', 0.15997099347353155)]\n",
      "[('own_rec', 0.020475685063203346)]\n",
      "8 4 3000\n"
     ]
    },
    {
     "data": {
      "application/vnd.jupyter.widget-view+json": {
       "model_id": "0637d241f3164e70aa262469472034ff",
       "version_major": 2,
       "version_minor": 0
      },
      "text/plain": [
       "HBox(children=(HTML(value=''), FloatProgress(value=0.0, max=15.0), HTML(value='')))"
      ]
     },
     "metadata": {},
     "output_type": "display_data"
    },
    {
     "name": "stdout",
     "output_type": "stream",
     "text": [
      "\n"
     ]
    },
    {
     "data": {
      "application/vnd.jupyter.widget-view+json": {
       "model_id": "4bc96a244acb41a3814702d19d5b57a4",
       "version_major": 2,
       "version_minor": 0
      },
      "text/plain": [
       "HBox(children=(HTML(value=''), FloatProgress(value=0.0, max=3001.0), HTML(value='')))"
      ]
     },
     "metadata": {},
     "output_type": "display_data"
    },
    {
     "name": "stdout",
     "output_type": "stream",
     "text": [
      "\n",
      "train precision@50, recall@50, precision@5, recall@5\n",
      "[('own_rec', 0.11882523567802757)]\n",
      "[('own_rec', 0.061712744139827455)]\n",
      "[('own_rec', 0.27773749093546046)]\n",
      "[('own_rec', 0.016251651765360205)]\n",
      "test precision@50, recall@50, precision@5, recall@5\n",
      "[('own_rec', 0.05786802030456853)]\n",
      "[('own_rec', 0.06561763206008937)]\n",
      "[('own_rec', 0.14996374184191444)]\n",
      "[('own_rec', 0.020277836365768086)]\n",
      "8 4 4000\n"
     ]
    },
    {
     "data": {
      "application/vnd.jupyter.widget-view+json": {
       "model_id": "5605a3337c354a1c972457897c4d2292",
       "version_major": 2,
       "version_minor": 0
      },
      "text/plain": [
       "HBox(children=(HTML(value=''), FloatProgress(value=0.0, max=15.0), HTML(value='')))"
      ]
     },
     "metadata": {},
     "output_type": "display_data"
    },
    {
     "name": "stdout",
     "output_type": "stream",
     "text": [
      "\n"
     ]
    },
    {
     "data": {
      "application/vnd.jupyter.widget-view+json": {
       "model_id": "fc0958f257a6467f94ec031fe2e6b566",
       "version_major": 2,
       "version_minor": 0
      },
      "text/plain": [
       "HBox(children=(HTML(value=''), FloatProgress(value=0.0, max=3999.0), HTML(value='')))"
      ]
     },
     "metadata": {},
     "output_type": "display_data"
    },
    {
     "name": "stdout",
     "output_type": "stream",
     "text": [
      "\n",
      "train precision@50, recall@50, precision@5, recall@5\n",
      "[('own_rec', 0.11048585931834663)]\n",
      "[('own_rec', 0.05718177526482965)]\n",
      "[('own_rec', 0.2630891950688905)]\n",
      "[('own_rec', 0.01528781355100464)]\n",
      "test precision@50, recall@50, precision@5, recall@5\n",
      "[('own_rec', 0.05354604786076868)]\n",
      "[('own_rec', 0.061392524657022614)]\n",
      "[('own_rec', 0.14358230601885424)]\n",
      "[('own_rec', 0.019433439785998412)]\n",
      "8 4 5000\n"
     ]
    },
    {
     "data": {
      "application/vnd.jupyter.widget-view+json": {
       "model_id": "d6a50aaa9cc24d58b6618884a45ce0a7",
       "version_major": 2,
       "version_minor": 0
      },
      "text/plain": [
       "HBox(children=(HTML(value=''), FloatProgress(value=0.0, max=15.0), HTML(value='')))"
      ]
     },
     "metadata": {},
     "output_type": "display_data"
    },
    {
     "name": "stdout",
     "output_type": "stream",
     "text": [
      "\n"
     ]
    },
    {
     "data": {
      "application/vnd.jupyter.widget-view+json": {
       "model_id": "c7bdc8d32b9a4fd3881d22d9a53418c8",
       "version_major": 2,
       "version_minor": 0
      },
      "text/plain": [
       "HBox(children=(HTML(value=''), FloatProgress(value=0.0, max=4998.0), HTML(value='')))"
      ]
     },
     "metadata": {},
     "output_type": "display_data"
    },
    {
     "name": "stdout",
     "output_type": "stream",
     "text": [
      "\n",
      "train precision@50, recall@50, precision@5, recall@5\n",
      "[('own_rec', 0.10058013052936912)]\n",
      "[('own_rec', 0.05245080528010368)]\n",
      "[('own_rec', 0.24394488759970992)]\n",
      "[('own_rec', 0.01379852379258523)]\n",
      "test precision@50, recall@50, precision@5, recall@5\n",
      "[('own_rec', 0.048992023205221176)]\n",
      "[('own_rec', 0.05637868825307667)]\n",
      "[('own_rec', 0.13357505438723713)]\n",
      "[('own_rec', 0.017937183516162327)]\n",
      "8 4 6000\n"
     ]
    },
    {
     "data": {
      "application/vnd.jupyter.widget-view+json": {
       "model_id": "2d71e8b36f4847988f995e8950da5e86",
       "version_major": 2,
       "version_minor": 0
      },
      "text/plain": [
       "HBox(children=(HTML(value=''), FloatProgress(value=0.0, max=15.0), HTML(value='')))"
      ]
     },
     "metadata": {},
     "output_type": "display_data"
    },
    {
     "name": "stdout",
     "output_type": "stream",
     "text": [
      "\n"
     ]
    },
    {
     "data": {
      "application/vnd.jupyter.widget-view+json": {
       "model_id": "b042d17abcdf4689ac1d9391c5eae2b8",
       "version_major": 2,
       "version_minor": 0
      },
      "text/plain": [
       "HBox(children=(HTML(value=''), FloatProgress(value=0.0, max=5996.0), HTML(value='')))"
      ]
     },
     "metadata": {},
     "output_type": "display_data"
    },
    {
     "name": "stdout",
     "output_type": "stream",
     "text": [
      "\n",
      "train precision@50, recall@50, precision@5, recall@5\n",
      "[('own_rec', 0.0928788977519942)]\n",
      "[('own_rec', 0.049166337948549785)]\n",
      "[('own_rec', 0.2327773749093546)]\n",
      "[('own_rec', 0.013397502119659725)]\n",
      "test precision@50, recall@50, precision@5, recall@5\n",
      "[('own_rec', 0.045235678027556195)]\n",
      "[('own_rec', 0.05191478366682174)]\n",
      "[('own_rec', 0.12661348803480785)]\n",
      "[('own_rec', 0.01660157983251831)]\n",
      "8 5 500\n"
     ]
    },
    {
     "data": {
      "application/vnd.jupyter.widget-view+json": {
       "model_id": "897e92ca95904aefb633525681ed4ed7",
       "version_major": 2,
       "version_minor": 0
      },
      "text/plain": [
       "HBox(children=(HTML(value=''), FloatProgress(value=0.0, max=15.0), HTML(value='')))"
      ]
     },
     "metadata": {},
     "output_type": "display_data"
    },
    {
     "name": "stdout",
     "output_type": "stream",
     "text": [
      "\n"
     ]
    },
    {
     "data": {
      "application/vnd.jupyter.widget-view+json": {
       "model_id": "5ea9942c298b462e94300bb4dada5574",
       "version_major": 2,
       "version_minor": 0
      },
      "text/plain": [
       "HBox(children=(HTML(value=''), FloatProgress(value=0.0, max=501.0), HTML(value='')))"
      ]
     },
     "metadata": {},
     "output_type": "display_data"
    },
    {
     "name": "stdout",
     "output_type": "stream",
     "text": [
      "\n",
      "train precision@50, recall@50, precision@5, recall@5\n",
      "[('own_rec', 0.12844089920232052)]\n",
      "[('own_rec', 0.06450309197022622)]\n",
      "[('own_rec', 0.3231327048585932)]\n",
      "[('own_rec', 0.01861291754137631)]\n",
      "test precision@50, recall@50, precision@5, recall@5\n",
      "[('own_rec', 0.06485859318346629)]\n",
      "[('own_rec', 0.06956944183523166)]\n",
      "[('own_rec', 0.18825235678027558)]\n",
      "[('own_rec', 0.0235998517742053)]\n",
      "8 5 1000\n"
     ]
    },
    {
     "data": {
      "application/vnd.jupyter.widget-view+json": {
       "model_id": "b3aae696f2db4cd0907d85e208342ace",
       "version_major": 2,
       "version_minor": 0
      },
      "text/plain": [
       "HBox(children=(HTML(value=''), FloatProgress(value=0.0, max=15.0), HTML(value='')))"
      ]
     },
     "metadata": {},
     "output_type": "display_data"
    },
    {
     "name": "stdout",
     "output_type": "stream",
     "text": [
      "\n"
     ]
    },
    {
     "data": {
      "application/vnd.jupyter.widget-view+json": {
       "model_id": "42536579b5334babbeca58d0464fbbbf",
       "version_major": 2,
       "version_minor": 0
      },
      "text/plain": [
       "HBox(children=(HTML(value=''), FloatProgress(value=0.0, max=1001.0), HTML(value='')))"
      ]
     },
     "metadata": {},
     "output_type": "display_data"
    },
    {
     "name": "stdout",
     "output_type": "stream",
     "text": [
      "\n",
      "train precision@50, recall@50, precision@5, recall@5\n",
      "[('own_rec', 0.13047135605511243)]\n",
      "[('own_rec', 0.06699467915031698)]\n",
      "[('own_rec', 0.30239303843364757)]\n",
      "[('own_rec', 0.0178416518917106)]\n",
      "test precision@50, recall@50, precision@5, recall@5\n",
      "[('own_rec', 0.06474256707759246)]\n",
      "[('own_rec', 0.07119172429962517)]\n",
      "[('own_rec', 0.1695431472081218)]\n",
      "[('own_rec', 0.021771854308876664)]\n",
      "8 5 2000\n"
     ]
    },
    {
     "data": {
      "application/vnd.jupyter.widget-view+json": {
       "model_id": "ff8cb1f6774845a89472451a43a5b9f8",
       "version_major": 2,
       "version_minor": 0
      },
      "text/plain": [
       "HBox(children=(HTML(value=''), FloatProgress(value=0.0, max=15.0), HTML(value='')))"
      ]
     },
     "metadata": {},
     "output_type": "display_data"
    },
    {
     "name": "stdout",
     "output_type": "stream",
     "text": [
      "\n"
     ]
    },
    {
     "data": {
      "application/vnd.jupyter.widget-view+json": {
       "model_id": "ee1f053896f142d3aec5328dc153c0a7",
       "version_major": 2,
       "version_minor": 0
      },
      "text/plain": [
       "HBox(children=(HTML(value=''), FloatProgress(value=0.0, max=2001.0), HTML(value='')))"
      ]
     },
     "metadata": {},
     "output_type": "display_data"
    },
    {
     "name": "stdout",
     "output_type": "stream",
     "text": [
      "\n",
      "train precision@50, recall@50, precision@5, recall@5\n",
      "[('own_rec', 0.12484408992023208)]\n",
      "[('own_rec', 0.06525438416303375)]\n",
      "[('own_rec', 0.2864394488759971)]\n",
      "[('own_rec', 0.01730306487647082)]\n",
      "test precision@50, recall@50, precision@5, recall@5\n",
      "[('own_rec', 0.061377810007251635)]\n",
      "[('own_rec', 0.06787808372048725)]\n",
      "[('own_rec', 0.1602610587382161)]\n",
      "[('own_rec', 0.020775942279582838)]\n",
      "8 5 3000\n"
     ]
    },
    {
     "data": {
      "application/vnd.jupyter.widget-view+json": {
       "model_id": "60dbb368804e4f30acaff17afed19bd2",
       "version_major": 2,
       "version_minor": 0
      },
      "text/plain": [
       "HBox(children=(HTML(value=''), FloatProgress(value=0.0, max=15.0), HTML(value='')))"
      ]
     },
     "metadata": {},
     "output_type": "display_data"
    },
    {
     "name": "stdout",
     "output_type": "stream",
     "text": [
      "\n"
     ]
    },
    {
     "data": {
      "application/vnd.jupyter.widget-view+json": {
       "model_id": "6b75e8a280094d4ba889f93f6a197ce8",
       "version_major": 2,
       "version_minor": 0
      },
      "text/plain": [
       "HBox(children=(HTML(value=''), FloatProgress(value=0.0, max=3001.0), HTML(value='')))"
      ]
     },
     "metadata": {},
     "output_type": "display_data"
    },
    {
     "name": "stdout",
     "output_type": "stream",
     "text": [
      "\n",
      "train precision@50, recall@50, precision@5, recall@5\n",
      "[('own_rec', 0.11773749093546049)]\n",
      "[('own_rec', 0.062309122870481216)]\n",
      "[('own_rec', 0.27875271936185647)]\n",
      "[('own_rec', 0.01653154901915632)]\n",
      "test precision@50, recall@50, precision@5, recall@5\n",
      "[('own_rec', 0.0571718636693256)]\n",
      "[('own_rec', 0.0650539125480262)]\n",
      "[('own_rec', 0.15054387237128355)]\n",
      "[('own_rec', 0.02037193826393069)]\n",
      "8 5 4000\n"
     ]
    },
    {
     "data": {
      "application/vnd.jupyter.widget-view+json": {
       "model_id": "113abe660b9b421ca0c730ef0f6f1f2c",
       "version_major": 2,
       "version_minor": 0
      },
      "text/plain": [
       "HBox(children=(HTML(value=''), FloatProgress(value=0.0, max=15.0), HTML(value='')))"
      ]
     },
     "metadata": {},
     "output_type": "display_data"
    },
    {
     "name": "stdout",
     "output_type": "stream",
     "text": [
      "\n"
     ]
    },
    {
     "data": {
      "application/vnd.jupyter.widget-view+json": {
       "model_id": "b58770e0efc0486584beae9e34c5d25e",
       "version_major": 2,
       "version_minor": 0
      },
      "text/plain": [
       "HBox(children=(HTML(value=''), FloatProgress(value=0.0, max=4000.0), HTML(value='')))"
      ]
     },
     "metadata": {},
     "output_type": "display_data"
    },
    {
     "name": "stdout",
     "output_type": "stream",
     "text": [
      "\n",
      "train precision@50, recall@50, precision@5, recall@5\n",
      "[('own_rec', 0.10897751994198694)]\n",
      "[('own_rec', 0.05771041918175764)]\n",
      "[('own_rec', 0.260188542422045)]\n",
      "[('own_rec', 0.015283920816074964)]\n",
      "test precision@50, recall@50, precision@5, recall@5\n",
      "[('own_rec', 0.052690355329949236)]\n",
      "[('own_rec', 0.06085260378061523)]\n",
      "[('own_rec', 0.1387962291515591)]\n",
      "[('own_rec', 0.019048864643910965)]\n",
      "8 5 5000\n"
     ]
    },
    {
     "data": {
      "application/vnd.jupyter.widget-view+json": {
       "model_id": "6826ac91903d44858199f70761314d78",
       "version_major": 2,
       "version_minor": 0
      },
      "text/plain": [
       "HBox(children=(HTML(value=''), FloatProgress(value=0.0, max=15.0), HTML(value='')))"
      ]
     },
     "metadata": {},
     "output_type": "display_data"
    },
    {
     "name": "stdout",
     "output_type": "stream",
     "text": [
      "\n"
     ]
    },
    {
     "data": {
      "application/vnd.jupyter.widget-view+json": {
       "model_id": "7b3fa146b643480b88b34c86db3b8d97",
       "version_major": 2,
       "version_minor": 0
      },
      "text/plain": [
       "HBox(children=(HTML(value=''), FloatProgress(value=0.0, max=4998.0), HTML(value='')))"
      ]
     },
     "metadata": {},
     "output_type": "display_data"
    },
    {
     "name": "stdout",
     "output_type": "stream",
     "text": [
      "\n",
      "train precision@50, recall@50, precision@5, recall@5\n",
      "[('own_rec', 0.09969543147208124)]\n",
      "[('own_rec', 0.05291243283813545)]\n",
      "[('own_rec', 0.2436548223350254)]\n",
      "[('own_rec', 0.014083773097811274)]\n",
      "test precision@50, recall@50, precision@5, recall@5\n",
      "[('own_rec', 0.04802030456852792)]\n",
      "[('own_rec', 0.05554241153466824)]\n",
      "[('own_rec', 0.12965917331399562)]\n",
      "[('own_rec', 0.017573536241957125)]\n",
      "8 5 6000\n"
     ]
    },
    {
     "data": {
      "application/vnd.jupyter.widget-view+json": {
       "model_id": "8537bda13c03465380602e3e2e4bad94",
       "version_major": 2,
       "version_minor": 0
      },
      "text/plain": [
       "HBox(children=(HTML(value=''), FloatProgress(value=0.0, max=15.0), HTML(value='')))"
      ]
     },
     "metadata": {},
     "output_type": "display_data"
    },
    {
     "name": "stdout",
     "output_type": "stream",
     "text": [
      "\n"
     ]
    },
    {
     "data": {
      "application/vnd.jupyter.widget-view+json": {
       "model_id": "fc1d3f7717f54e43b61ccb1ea6b07a3e",
       "version_major": 2,
       "version_minor": 0
      },
      "text/plain": [
       "HBox(children=(HTML(value=''), FloatProgress(value=0.0, max=5996.0), HTML(value='')))"
      ]
     },
     "metadata": {},
     "output_type": "display_data"
    },
    {
     "name": "stdout",
     "output_type": "stream",
     "text": [
      "\n",
      "train precision@50, recall@50, precision@5, recall@5\n",
      "[('own_rec', 0.09251631617113851)]\n",
      "[('own_rec', 0.050003625396514255)]\n",
      "[('own_rec', 0.23045685279187822)]\n",
      "[('own_rec', 0.01326103072035163)]\n",
      "test precision@50, recall@50, precision@5, recall@5\n",
      "[('own_rec', 0.044394488759971)]\n",
      "[('own_rec', 0.05129243467139652)]\n",
      "[('own_rec', 0.12327773749093546)]\n",
      "[('own_rec', 0.016114883541138547)]\n",
      "8 6 500\n"
     ]
    },
    {
     "data": {
      "application/vnd.jupyter.widget-view+json": {
       "model_id": "7a8fa867044b4937bd7972b6c1b9b19c",
       "version_major": 2,
       "version_minor": 0
      },
      "text/plain": [
       "HBox(children=(HTML(value=''), FloatProgress(value=0.0, max=15.0), HTML(value='')))"
      ]
     },
     "metadata": {},
     "output_type": "display_data"
    },
    {
     "name": "stdout",
     "output_type": "stream",
     "text": [
      "\n"
     ]
    },
    {
     "data": {
      "application/vnd.jupyter.widget-view+json": {
       "model_id": "5c410110a97a468b9dbdd966f9938a8f",
       "version_major": 2,
       "version_minor": 0
      },
      "text/plain": [
       "HBox(children=(HTML(value=''), FloatProgress(value=0.0, max=501.0), HTML(value='')))"
      ]
     },
     "metadata": {},
     "output_type": "display_data"
    },
    {
     "name": "stdout",
     "output_type": "stream",
     "text": [
      "\n",
      "train precision@50, recall@50, precision@5, recall@5\n",
      "[('own_rec', 0.12710659898477158)]\n",
      "[('own_rec', 0.06349843739106936)]\n",
      "[('own_rec', 0.32226250906453957)]\n",
      "[('own_rec', 0.018542103550296552)]\n",
      "test precision@50, recall@50, precision@5, recall@5\n",
      "[('own_rec', 0.06485859318346629)]\n",
      "[('own_rec', 0.06986121340434617)]\n",
      "[('own_rec', 0.18709209572153734)]\n",
      "[('own_rec', 0.02367019691964053)]\n",
      "8 6 1000\n"
     ]
    },
    {
     "data": {
      "application/vnd.jupyter.widget-view+json": {
       "model_id": "3b3bb2216cb746e7bf4d747107535a67",
       "version_major": 2,
       "version_minor": 0
      },
      "text/plain": [
       "HBox(children=(HTML(value=''), FloatProgress(value=0.0, max=15.0), HTML(value='')))"
      ]
     },
     "metadata": {},
     "output_type": "display_data"
    },
    {
     "name": "stdout",
     "output_type": "stream",
     "text": [
      "\n"
     ]
    },
    {
     "data": {
      "application/vnd.jupyter.widget-view+json": {
       "model_id": "e7211874f93443298f1edfdadae3d4e5",
       "version_major": 2,
       "version_minor": 0
      },
      "text/plain": [
       "HBox(children=(HTML(value=''), FloatProgress(value=0.0, max=1001.0), HTML(value='')))"
      ]
     },
     "metadata": {},
     "output_type": "display_data"
    },
    {
     "name": "stdout",
     "output_type": "stream",
     "text": [
      "\n",
      "train precision@50, recall@50, precision@5, recall@5\n",
      "[('own_rec', 0.12923857868020305)]\n",
      "[('own_rec', 0.06622759912668406)]\n",
      "[('own_rec', 0.30079767947788255)]\n",
      "[('own_rec', 0.01792305618033387)]\n",
      "test precision@50, recall@50, precision@5, recall@5\n",
      "[('own_rec', 0.06445250181290792)]\n",
      "[('own_rec', 0.07105435198004237)]\n",
      "[('own_rec', 0.16707759245830314)]\n",
      "[('own_rec', 0.021570053723654014)]\n",
      "8 6 2000\n"
     ]
    },
    {
     "data": {
      "application/vnd.jupyter.widget-view+json": {
       "model_id": "5ce043436442451ea2d7ee30f5de9c9a",
       "version_major": 2,
       "version_minor": 0
      },
      "text/plain": [
       "HBox(children=(HTML(value=''), FloatProgress(value=0.0, max=15.0), HTML(value='')))"
      ]
     },
     "metadata": {},
     "output_type": "display_data"
    },
    {
     "name": "stdout",
     "output_type": "stream",
     "text": [
      "\n"
     ]
    },
    {
     "data": {
      "application/vnd.jupyter.widget-view+json": {
       "model_id": "3e1ef4558eb043edaca3ea44f26372e8",
       "version_major": 2,
       "version_minor": 0
      },
      "text/plain": [
       "HBox(children=(HTML(value=''), FloatProgress(value=0.0, max=2001.0), HTML(value='')))"
      ]
     },
     "metadata": {},
     "output_type": "display_data"
    },
    {
     "name": "stdout",
     "output_type": "stream",
     "text": [
      "\n",
      "train precision@50, recall@50, precision@5, recall@5\n",
      "[('own_rec', 0.12378535170413342)]\n",
      "[('own_rec', 0.06502589828416369)]\n",
      "[('own_rec', 0.28237853517041334)]\n",
      "[('own_rec', 0.017381446141001573)]\n",
      "test precision@50, recall@50, precision@5, recall@5\n",
      "[('own_rec', 0.06098622189992749)]\n",
      "[('own_rec', 0.0679072070021304)]\n",
      "[('own_rec', 0.15678027556200144)]\n",
      "[('own_rec', 0.020612985829756004)]\n",
      "8 6 3000\n"
     ]
    },
    {
     "data": {
      "application/vnd.jupyter.widget-view+json": {
       "model_id": "a004d6d3a1074d8a8186e6aeb7201201",
       "version_major": 2,
       "version_minor": 0
      },
      "text/plain": [
       "HBox(children=(HTML(value=''), FloatProgress(value=0.0, max=15.0), HTML(value='')))"
      ]
     },
     "metadata": {},
     "output_type": "display_data"
    },
    {
     "name": "stdout",
     "output_type": "stream",
     "text": [
      "\n"
     ]
    },
    {
     "data": {
      "application/vnd.jupyter.widget-view+json": {
       "model_id": "a356d42284f24198bd9318a19ed4d997",
       "version_major": 2,
       "version_minor": 0
      },
      "text/plain": [
       "HBox(children=(HTML(value=''), FloatProgress(value=0.0, max=3001.0), HTML(value='')))"
      ]
     },
     "metadata": {},
     "output_type": "display_data"
    },
    {
     "name": "stdout",
     "output_type": "stream",
     "text": [
      "\n",
      "train precision@50, recall@50, precision@5, recall@5\n",
      "[('own_rec', 0.11593908629441624)]\n",
      "[('own_rec', 0.06149105988470841)]\n",
      "[('own_rec', 0.2749818709209572)]\n",
      "[('own_rec', 0.016548240785628776)]\n",
      "test precision@50, recall@50, precision@5, recall@5\n",
      "[('own_rec', 0.05653372008701959)]\n",
      "[('own_rec', 0.06436271661810314)]\n",
      "[('own_rec', 0.14778825235678028)]\n",
      "[('own_rec', 0.0199866805775854)]\n",
      "8 6 4000\n"
     ]
    },
    {
     "data": {
      "application/vnd.jupyter.widget-view+json": {
       "model_id": "49762e9d5f994870b08e723f909e873a",
       "version_major": 2,
       "version_minor": 0
      },
      "text/plain": [
       "HBox(children=(HTML(value=''), FloatProgress(value=0.0, max=15.0), HTML(value='')))"
      ]
     },
     "metadata": {},
     "output_type": "display_data"
    },
    {
     "name": "stdout",
     "output_type": "stream",
     "text": [
      "\n"
     ]
    },
    {
     "data": {
      "application/vnd.jupyter.widget-view+json": {
       "model_id": "a712d3d0eb164a7c8173fe610c29f800",
       "version_major": 2,
       "version_minor": 0
      },
      "text/plain": [
       "HBox(children=(HTML(value=''), FloatProgress(value=0.0, max=4000.0), HTML(value='')))"
      ]
     },
     "metadata": {},
     "output_type": "display_data"
    },
    {
     "name": "stdout",
     "output_type": "stream",
     "text": [
      "\n",
      "train precision@50, recall@50, precision@5, recall@5\n",
      "[('own_rec', 0.10775924583031184)]\n",
      "[('own_rec', 0.05750742742492778)]\n",
      "[('own_rec', 0.25757795503988395)]\n",
      "[('own_rec', 0.015515773360386138)]\n",
      "test precision@50, recall@50, precision@5, recall@5\n",
      "[('own_rec', 0.05200870195794054)]\n",
      "[('own_rec', 0.06022964563632744)]\n",
      "[('own_rec', 0.13792603335750542)]\n",
      "[('own_rec', 0.018742389729979828)]\n",
      "8 6 5000\n"
     ]
    },
    {
     "data": {
      "application/vnd.jupyter.widget-view+json": {
       "model_id": "13d301a8fd0f439b9b4b3b3c142c4a15",
       "version_major": 2,
       "version_minor": 0
      },
      "text/plain": [
       "HBox(children=(HTML(value=''), FloatProgress(value=0.0, max=15.0), HTML(value='')))"
      ]
     },
     "metadata": {},
     "output_type": "display_data"
    },
    {
     "name": "stdout",
     "output_type": "stream",
     "text": [
      "\n"
     ]
    },
    {
     "data": {
      "application/vnd.jupyter.widget-view+json": {
       "model_id": "9e94cd53e5c842a5bd8803d2d1e75c8f",
       "version_major": 2,
       "version_minor": 0
      },
      "text/plain": [
       "HBox(children=(HTML(value=''), FloatProgress(value=0.0, max=4997.0), HTML(value='')))"
      ]
     },
     "metadata": {},
     "output_type": "display_data"
    },
    {
     "name": "stdout",
     "output_type": "stream",
     "text": [
      "\n",
      "train precision@50, recall@50, precision@5, recall@5\n",
      "[('own_rec', 0.09876722262509063)]\n",
      "[('own_rec', 0.05305396728296483)]\n",
      "[('own_rec', 0.23930384336475707)]\n",
      "[('own_rec', 0.013934013810411185)]\n",
      "test precision@50, recall@50, precision@5, recall@5\n",
      "[('own_rec', 0.047541696881798406)]\n",
      "[('own_rec', 0.05482864742169489)]\n",
      "[('own_rec', 0.12733865119651921)]\n",
      "[('own_rec', 0.01729568607874119)]\n",
      "8 6 6000\n"
     ]
    },
    {
     "data": {
      "application/vnd.jupyter.widget-view+json": {
       "model_id": "987263093ef34f89aeb16bc8dd91705b",
       "version_major": 2,
       "version_minor": 0
      },
      "text/plain": [
       "HBox(children=(HTML(value=''), FloatProgress(value=0.0, max=15.0), HTML(value='')))"
      ]
     },
     "metadata": {},
     "output_type": "display_data"
    },
    {
     "name": "stdout",
     "output_type": "stream",
     "text": [
      "\n"
     ]
    },
    {
     "data": {
      "application/vnd.jupyter.widget-view+json": {
       "model_id": "b57dcaa79e4d4a05bf564c12967f02de",
       "version_major": 2,
       "version_minor": 0
      },
      "text/plain": [
       "HBox(children=(HTML(value=''), FloatProgress(value=0.0, max=5996.0), HTML(value='')))"
      ]
     },
     "metadata": {},
     "output_type": "display_data"
    },
    {
     "name": "stdout",
     "output_type": "stream",
     "text": [
      "\n",
      "train precision@50, recall@50, precision@5, recall@5\n",
      "[('own_rec', 0.09121102248005801)]\n",
      "[('own_rec', 0.04969216045311692)]\n",
      "[('own_rec', 0.22306018854242207)]\n",
      "[('own_rec', 0.01280896237666267)]\n",
      "test precision@50, recall@50, precision@5, recall@5\n",
      "[('own_rec', 0.043828861493836115)]\n",
      "[('own_rec', 0.050536039209040026)]\n",
      "[('own_rec', 0.12066715010877446)]\n",
      "[('own_rec', 0.015754675937736932)]\n",
      "9 1 500\n"
     ]
    },
    {
     "data": {
      "application/vnd.jupyter.widget-view+json": {
       "model_id": "63148442242e423ca700527431ccb607",
       "version_major": 2,
       "version_minor": 0
      },
      "text/plain": [
       "HBox(children=(HTML(value=''), FloatProgress(value=0.0, max=15.0), HTML(value='')))"
      ]
     },
     "metadata": {},
     "output_type": "display_data"
    },
    {
     "name": "stdout",
     "output_type": "stream",
     "text": [
      "\n"
     ]
    },
    {
     "data": {
      "application/vnd.jupyter.widget-view+json": {
       "model_id": "7de4305a7f384a1aaf30cfc376720b07",
       "version_major": 2,
       "version_minor": 0
      },
      "text/plain": [
       "HBox(children=(HTML(value=''), FloatProgress(value=0.0, max=501.0), HTML(value='')))"
      ]
     },
     "metadata": {},
     "output_type": "display_data"
    },
    {
     "name": "stdout",
     "output_type": "stream",
     "text": [
      "\n",
      "train precision@50, recall@50, precision@5, recall@5\n",
      "[('own_rec', 0.14165337200870196)]\n",
      "[('own_rec', 0.0618354571496067)]\n",
      "[('own_rec', 0.35184916606236405)]\n",
      "[('own_rec', 0.01750820909573334)]\n",
      "test precision@50, recall@50, precision@5, recall@5\n",
      "[('own_rec', 0.06577229876722264)]\n",
      "[('own_rec', 0.07048688929247997)]\n",
      "[('own_rec', 0.19550398839738942)]\n",
      "[('own_rec', 0.024839065620058526)]\n",
      "9 1 1000\n"
     ]
    },
    {
     "data": {
      "application/vnd.jupyter.widget-view+json": {
       "model_id": "dd5849d45e5c4064ae181318e82023ab",
       "version_major": 2,
       "version_minor": 0
      },
      "text/plain": [
       "HBox(children=(HTML(value=''), FloatProgress(value=0.0, max=15.0), HTML(value='')))"
      ]
     },
     "metadata": {},
     "output_type": "display_data"
    },
    {
     "name": "stdout",
     "output_type": "stream",
     "text": [
      "\n"
     ]
    },
    {
     "data": {
      "application/vnd.jupyter.widget-view+json": {
       "model_id": "31f7f678d29e456981618e0ad8eaa0cc",
       "version_major": 2,
       "version_minor": 0
      },
      "text/plain": [
       "HBox(children=(HTML(value=''), FloatProgress(value=0.0, max=1001.0), HTML(value='')))"
      ]
     },
     "metadata": {},
     "output_type": "display_data"
    },
    {
     "name": "stdout",
     "output_type": "stream",
     "text": [
      "\n",
      "train precision@50, recall@50, precision@5, recall@5\n",
      "[('own_rec', 0.14332124728063816)]\n",
      "[('own_rec', 0.064086497923895)]\n",
      "[('own_rec', 0.32429296591733137)]\n",
      "[('own_rec', 0.016308858882231717)]\n",
      "test precision@50, recall@50, precision@5, recall@5\n",
      "[('own_rec', 0.0664394488759971)]\n",
      "[('own_rec', 0.07293424358705443)]\n",
      "[('own_rec', 0.1772298767222625)]\n",
      "[('own_rec', 0.02244161782168302)]\n",
      "9 1 2000\n"
     ]
    },
    {
     "data": {
      "application/vnd.jupyter.widget-view+json": {
       "model_id": "a598f698a0a04d658ea09a6e2caa76a3",
       "version_major": 2,
       "version_minor": 0
      },
      "text/plain": [
       "HBox(children=(HTML(value=''), FloatProgress(value=0.0, max=15.0), HTML(value='')))"
      ]
     },
     "metadata": {},
     "output_type": "display_data"
    },
    {
     "name": "stdout",
     "output_type": "stream",
     "text": [
      "\n"
     ]
    },
    {
     "data": {
      "application/vnd.jupyter.widget-view+json": {
       "model_id": "7c9e5014abea4b24a8cc2991ffddb59c",
       "version_major": 2,
       "version_minor": 0
      },
      "text/plain": [
       "HBox(children=(HTML(value=''), FloatProgress(value=0.0, max=2001.0), HTML(value='')))"
      ]
     },
     "metadata": {},
     "output_type": "display_data"
    },
    {
     "name": "stdout",
     "output_type": "stream",
     "text": [
      "\n",
      "train precision@50, recall@50, precision@5, recall@5\n",
      "[('own_rec', 0.13769398114575782)]\n",
      "[('own_rec', 0.06328014156786209)]\n",
      "[('own_rec', 0.30717911530094266)]\n",
      "[('own_rec', 0.016003888229764524)]\n",
      "test precision@50, recall@50, precision@5, recall@5\n",
      "[('own_rec', 0.06316171138506164)]\n",
      "[('own_rec', 0.06954437813108455)]\n",
      "[('own_rec', 0.16316171138506164)]\n",
      "[('own_rec', 0.021011759939476942)]\n",
      "9 1 3000\n"
     ]
    },
    {
     "data": {
      "application/vnd.jupyter.widget-view+json": {
       "model_id": "53f70dc182b04d6fbe2a5b0f5904a550",
       "version_major": 2,
       "version_minor": 0
      },
      "text/plain": [
       "HBox(children=(HTML(value=''), FloatProgress(value=0.0, max=15.0), HTML(value='')))"
      ]
     },
     "metadata": {},
     "output_type": "display_data"
    },
    {
     "name": "stdout",
     "output_type": "stream",
     "text": [
      "\n"
     ]
    },
    {
     "data": {
      "application/vnd.jupyter.widget-view+json": {
       "model_id": "40dc2fa3263244dfa3e6178a52e962ff",
       "version_major": 2,
       "version_minor": 0
      },
      "text/plain": [
       "HBox(children=(HTML(value=''), FloatProgress(value=0.0, max=3001.0), HTML(value='')))"
      ]
     },
     "metadata": {},
     "output_type": "display_data"
    },
    {
     "name": "stdout",
     "output_type": "stream",
     "text": [
      "\n",
      "train precision@50, recall@50, precision@5, recall@5\n",
      "[('own_rec', 0.12961566352429296)]\n",
      "[('own_rec', 0.06023992150073983)]\n",
      "[('own_rec', 0.29572153734590284)]\n",
      "[('own_rec', 0.01536873413543606)]\n",
      "test precision@50, recall@50, precision@5, recall@5\n",
      "[('own_rec', 0.05921682378535171)]\n",
      "[('own_rec', 0.06722938096989364)]\n",
      "[('own_rec', 0.154459753444525)]\n",
      "[('own_rec', 0.020896079482574152)]\n",
      "9 1 4000\n"
     ]
    },
    {
     "data": {
      "application/vnd.jupyter.widget-view+json": {
       "model_id": "4727dfea4d50477c92bbc6c1af6e3ede",
       "version_major": 2,
       "version_minor": 0
      },
      "text/plain": [
       "HBox(children=(HTML(value=''), FloatProgress(value=0.0, max=15.0), HTML(value='')))"
      ]
     },
     "metadata": {},
     "output_type": "display_data"
    },
    {
     "name": "stdout",
     "output_type": "stream",
     "text": [
      "\n"
     ]
    },
    {
     "data": {
      "application/vnd.jupyter.widget-view+json": {
       "model_id": "a3b33f708ab34a5c9f6937f16e63df8b",
       "version_major": 2,
       "version_minor": 0
      },
      "text/plain": [
       "HBox(children=(HTML(value=''), FloatProgress(value=0.0, max=4000.0), HTML(value='')))"
      ]
     },
     "metadata": {},
     "output_type": "display_data"
    },
    {
     "name": "stdout",
     "output_type": "stream",
     "text": [
      "\n",
      "train precision@50, recall@50, precision@5, recall@5\n",
      "[('own_rec', 0.12001450326323423)]\n",
      "[('own_rec', 0.05601544915938989)]\n",
      "[('own_rec', 0.2786076867295142)]\n",
      "[('own_rec', 0.014463704895009496)]\n",
      "test precision@50, recall@50, precision@5, recall@5\n",
      "[('own_rec', 0.054517766497461935)]\n",
      "[('own_rec', 0.06262898737722235)]\n",
      "[('own_rec', 0.14590282813633068)]\n",
      "[('own_rec', 0.01971912061010135)]\n",
      "9 1 5000\n"
     ]
    },
    {
     "data": {
      "application/vnd.jupyter.widget-view+json": {
       "model_id": "6c8a09b37e9c48f6a624379739dfc2ae",
       "version_major": 2,
       "version_minor": 0
      },
      "text/plain": [
       "HBox(children=(HTML(value=''), FloatProgress(value=0.0, max=15.0), HTML(value='')))"
      ]
     },
     "metadata": {},
     "output_type": "display_data"
    },
    {
     "name": "stdout",
     "output_type": "stream",
     "text": [
      "\n"
     ]
    },
    {
     "data": {
      "application/vnd.jupyter.widget-view+json": {
       "model_id": "0fd6765db47e4a81a4eccb24f77c0e65",
       "version_major": 2,
       "version_minor": 0
      },
      "text/plain": [
       "HBox(children=(HTML(value=''), FloatProgress(value=0.0, max=4998.0), HTML(value='')))"
      ]
     },
     "metadata": {},
     "output_type": "display_data"
    },
    {
     "name": "stdout",
     "output_type": "stream",
     "text": [
      "\n",
      "train precision@50, recall@50, precision@5, recall@5\n",
      "[('own_rec', 0.109934735315446)]\n",
      "[('own_rec', 0.05176442361460988)]\n",
      "[('own_rec', 0.26033357505438726)]\n",
      "[('own_rec', 0.013356885763568829)]\n",
      "test precision@50, recall@50, precision@5, recall@5\n",
      "[('own_rec', 0.05032632342277013)]\n",
      "[('own_rec', 0.057968255879652646)]\n",
      "[('own_rec', 0.1376359680928209)]\n",
      "[('own_rec', 0.0183070521542363)]\n",
      "9 1 6000\n"
     ]
    },
    {
     "data": {
      "application/vnd.jupyter.widget-view+json": {
       "model_id": "a4b8b9db46844c48865051b0efa9de01",
       "version_major": 2,
       "version_minor": 0
      },
      "text/plain": [
       "HBox(children=(HTML(value=''), FloatProgress(value=0.0, max=15.0), HTML(value='')))"
      ]
     },
     "metadata": {},
     "output_type": "display_data"
    },
    {
     "name": "stdout",
     "output_type": "stream",
     "text": [
      "\n"
     ]
    },
    {
     "data": {
      "application/vnd.jupyter.widget-view+json": {
       "model_id": "4690fe3ed1374f87ab7dc54f5402bac3",
       "version_major": 2,
       "version_minor": 0
      },
      "text/plain": [
       "HBox(children=(HTML(value=''), FloatProgress(value=0.0, max=5996.0), HTML(value='')))"
      ]
     },
     "metadata": {},
     "output_type": "display_data"
    },
    {
     "name": "stdout",
     "output_type": "stream",
     "text": [
      "\n",
      "train precision@50, recall@50, precision@5, recall@5\n",
      "[('own_rec', 0.10192893401015228)]\n",
      "[('own_rec', 0.04874646894491994)]\n",
      "[('own_rec', 0.24626540971718638)]\n",
      "[('own_rec', 0.012788404513911932)]\n",
      "test precision@50, recall@50, precision@5, recall@5\n",
      "[('own_rec', 0.047251631617113855)]\n",
      "[('own_rec', 0.05405953627949065)]\n",
      "[('own_rec', 0.1305293691080493)]\n",
      "[('own_rec', 0.016802813925208958)]\n",
      "9 2 500\n"
     ]
    },
    {
     "data": {
      "application/vnd.jupyter.widget-view+json": {
       "model_id": "b1699794d4884fa78bdf272d16363bfb",
       "version_major": 2,
       "version_minor": 0
      },
      "text/plain": [
       "HBox(children=(HTML(value=''), FloatProgress(value=0.0, max=15.0), HTML(value='')))"
      ]
     },
     "metadata": {},
     "output_type": "display_data"
    },
    {
     "name": "stdout",
     "output_type": "stream",
     "text": [
      "\n"
     ]
    },
    {
     "data": {
      "application/vnd.jupyter.widget-view+json": {
       "model_id": "6c7e830a4ce4403f9a91b7c10dcdd823",
       "version_major": 2,
       "version_minor": 0
      },
      "text/plain": [
       "HBox(children=(HTML(value=''), FloatProgress(value=0.0, max=501.0), HTML(value='')))"
      ]
     },
     "metadata": {},
     "output_type": "display_data"
    },
    {
     "name": "stdout",
     "output_type": "stream",
     "text": [
      "\n",
      "train precision@50, recall@50, precision@5, recall@5\n",
      "[('own_rec', 0.14046410442349527)]\n",
      "[('own_rec', 0.06142608286160828)]\n",
      "[('own_rec', 0.3495286439448876)]\n",
      "[('own_rec', 0.01738460951862505)]\n",
      "test precision@50, recall@50, precision@5, recall@5\n",
      "[('own_rec', 0.0653372008701958)]\n",
      "[('own_rec', 0.07003374218797778)]\n",
      "[('own_rec', 0.19376359680928207)]\n",
      "[('own_rec', 0.024180523543706353)]\n",
      "9 2 1000\n"
     ]
    },
    {
     "data": {
      "application/vnd.jupyter.widget-view+json": {
       "model_id": "1323f4474b504ca3b18dd38e04e7ee92",
       "version_major": 2,
       "version_minor": 0
      },
      "text/plain": [
       "HBox(children=(HTML(value=''), FloatProgress(value=0.0, max=15.0), HTML(value='')))"
      ]
     },
     "metadata": {},
     "output_type": "display_data"
    },
    {
     "name": "stdout",
     "output_type": "stream",
     "text": [
      "\n"
     ]
    },
    {
     "data": {
      "application/vnd.jupyter.widget-view+json": {
       "model_id": "27c9adfbaddb4a42bd485ceea7adb190",
       "version_major": 2,
       "version_minor": 0
      },
      "text/plain": [
       "HBox(children=(HTML(value=''), FloatProgress(value=0.0, max=1001.0), HTML(value='')))"
      ]
     },
     "metadata": {},
     "output_type": "display_data"
    },
    {
     "name": "stdout",
     "output_type": "stream",
     "text": [
      "\n",
      "train precision@50, recall@50, precision@5, recall@5\n",
      "[('own_rec', 0.14265409717186367)]\n",
      "[('own_rec', 0.06378633212738724)]\n",
      "[('own_rec', 0.31820159535895576)]\n",
      "[('own_rec', 0.015977489593242588)]\n",
      "test precision@50, recall@50, precision@5, recall@5\n",
      "[('own_rec', 0.06583031182015954)]\n",
      "[('own_rec', 0.07243910769829717)]\n",
      "[('own_rec', 0.1734590282813633)]\n",
      "[('own_rec', 0.022180866789166767)]\n",
      "9 2 2000\n"
     ]
    },
    {
     "data": {
      "application/vnd.jupyter.widget-view+json": {
       "model_id": "d72cf8f2fc85467b976967162b0c5cb7",
       "version_major": 2,
       "version_minor": 0
      },
      "text/plain": [
       "HBox(children=(HTML(value=''), FloatProgress(value=0.0, max=15.0), HTML(value='')))"
      ]
     },
     "metadata": {},
     "output_type": "display_data"
    },
    {
     "name": "stdout",
     "output_type": "stream",
     "text": [
      "\n"
     ]
    },
    {
     "data": {
      "application/vnd.jupyter.widget-view+json": {
       "model_id": "4b76517b53824a59b36bd2a9ff7bfeb6",
       "version_major": 2,
       "version_minor": 0
      },
      "text/plain": [
       "HBox(children=(HTML(value=''), FloatProgress(value=0.0, max=2001.0), HTML(value='')))"
      ]
     },
     "metadata": {},
     "output_type": "display_data"
    },
    {
     "name": "stdout",
     "output_type": "stream",
     "text": [
      "\n",
      "train precision@50, recall@50, precision@5, recall@5\n",
      "[('own_rec', 0.13615663524292965)]\n",
      "[('own_rec', 0.06251551573506337)]\n",
      "[('own_rec', 0.30326323422770124)]\n",
      "[('own_rec', 0.015718813917858933)]\n",
      "test precision@50, recall@50, precision@5, recall@5\n",
      "[('own_rec', 0.0625670775924583)]\n",
      "[('own_rec', 0.06912849215750744)]\n",
      "[('own_rec', 0.16258158085569252)]\n",
      "[('own_rec', 0.02096493653321568)]\n",
      "9 2 3000\n"
     ]
    },
    {
     "data": {
      "application/vnd.jupyter.widget-view+json": {
       "model_id": "f34ea46d45ef44969c1b117c7ec2c33c",
       "version_major": 2,
       "version_minor": 0
      },
      "text/plain": [
       "HBox(children=(HTML(value=''), FloatProgress(value=0.0, max=15.0), HTML(value='')))"
      ]
     },
     "metadata": {},
     "output_type": "display_data"
    },
    {
     "name": "stdout",
     "output_type": "stream",
     "text": [
      "\n"
     ]
    },
    {
     "data": {
      "application/vnd.jupyter.widget-view+json": {
       "model_id": "bc7ea2bf2b304ed9b2f27e668d2e9281",
       "version_major": 2,
       "version_minor": 0
      },
      "text/plain": [
       "HBox(children=(HTML(value=''), FloatProgress(value=0.0, max=3001.0), HTML(value='')))"
      ]
     },
     "metadata": {},
     "output_type": "display_data"
    },
    {
     "name": "stdout",
     "output_type": "stream",
     "text": [
      "\n",
      "train precision@50, recall@50, precision@5, recall@5\n",
      "[('own_rec', 0.12807831762146482)]\n",
      "[('own_rec', 0.05918658380438109)]\n",
      "[('own_rec', 0.2923857868020304)]\n",
      "[('own_rec', 0.015094438565803784)]\n",
      "test precision@50, recall@50, precision@5, recall@5\n",
      "[('own_rec', 0.05866569978245106)]\n",
      "[('own_rec', 0.06646783897489099)]\n",
      "[('own_rec', 0.15315445975344455)]\n",
      "[('own_rec', 0.02077750724195391)]\n",
      "9 2 4000\n"
     ]
    },
    {
     "data": {
      "application/vnd.jupyter.widget-view+json": {
       "model_id": "1610a0778974461788b23a37531dfab6",
       "version_major": 2,
       "version_minor": 0
      },
      "text/plain": [
       "HBox(children=(HTML(value=''), FloatProgress(value=0.0, max=15.0), HTML(value='')))"
      ]
     },
     "metadata": {},
     "output_type": "display_data"
    },
    {
     "name": "stdout",
     "output_type": "stream",
     "text": [
      "\n"
     ]
    },
    {
     "data": {
      "application/vnd.jupyter.widget-view+json": {
       "model_id": "4b32bb8cc4fa432795e77e9986fabf91",
       "version_major": 2,
       "version_minor": 0
      },
      "text/plain": [
       "HBox(children=(HTML(value=''), FloatProgress(value=0.0, max=3999.0), HTML(value='')))"
      ]
     },
     "metadata": {},
     "output_type": "display_data"
    },
    {
     "name": "stdout",
     "output_type": "stream",
     "text": [
      "\n",
      "train precision@50, recall@50, precision@5, recall@5\n",
      "[('own_rec', 0.11889775199419872)]\n",
      "[('own_rec', 0.05495045502230527)]\n",
      "[('own_rec', 0.2771573604060914)]\n",
      "[('own_rec', 0.014267262305318927)]\n",
      "test precision@50, recall@50, precision@5, recall@5\n",
      "[('own_rec', 0.05409717186366933)]\n",
      "[('own_rec', 0.062131826901646106)]\n",
      "[('own_rec', 0.14532269760696157)]\n",
      "[('own_rec', 0.019619431642293534)]\n",
      "9 2 5000\n"
     ]
    },
    {
     "data": {
      "application/vnd.jupyter.widget-view+json": {
       "model_id": "6ca458930ce64711b4fc38a4ef9d66f7",
       "version_major": 2,
       "version_minor": 0
      },
      "text/plain": [
       "HBox(children=(HTML(value=''), FloatProgress(value=0.0, max=15.0), HTML(value='')))"
      ]
     },
     "metadata": {},
     "output_type": "display_data"
    },
    {
     "name": "stdout",
     "output_type": "stream",
     "text": [
      "\n"
     ]
    },
    {
     "data": {
      "application/vnd.jupyter.widget-view+json": {
       "model_id": "26560a26b689406aa0ad1ca1a8b7315d",
       "version_major": 2,
       "version_minor": 0
      },
      "text/plain": [
       "HBox(children=(HTML(value=''), FloatProgress(value=0.0, max=4998.0), HTML(value='')))"
      ]
     },
     "metadata": {},
     "output_type": "display_data"
    },
    {
     "name": "stdout",
     "output_type": "stream",
     "text": [
      "\n",
      "train precision@50, recall@50, precision@5, recall@5\n",
      "[('own_rec', 0.10875997099347355)]\n",
      "[('own_rec', 0.05094196607012836)]\n",
      "[('own_rec', 0.2554024655547498)]\n",
      "[('own_rec', 0.012949546474490595)]\n",
      "test precision@50, recall@50, precision@5, recall@5\n",
      "[('own_rec', 0.04977519941986948)]\n",
      "[('own_rec', 0.05756443529708667)]\n",
      "[('own_rec', 0.13604060913705585)]\n",
      "[('own_rec', 0.018287982794336743)]\n",
      "9 2 6000\n"
     ]
    },
    {
     "data": {
      "application/vnd.jupyter.widget-view+json": {
       "model_id": "aee0589ce4b745a68f60d7634072925d",
       "version_major": 2,
       "version_minor": 0
      },
      "text/plain": [
       "HBox(children=(HTML(value=''), FloatProgress(value=0.0, max=15.0), HTML(value='')))"
      ]
     },
     "metadata": {},
     "output_type": "display_data"
    },
    {
     "name": "stdout",
     "output_type": "stream",
     "text": [
      "\n"
     ]
    },
    {
     "data": {
      "application/vnd.jupyter.widget-view+json": {
       "model_id": "b49144e980614ae4be3d03079465c599",
       "version_major": 2,
       "version_minor": 0
      },
      "text/plain": [
       "HBox(children=(HTML(value=''), FloatProgress(value=0.0, max=5996.0), HTML(value='')))"
      ]
     },
     "metadata": {},
     "output_type": "display_data"
    },
    {
     "name": "stdout",
     "output_type": "stream",
     "text": [
      "\n",
      "train precision@50, recall@50, precision@5, recall@5\n",
      "[('own_rec', 0.10069615663524294)]\n",
      "[('own_rec', 0.047743335357353436)]\n",
      "[('own_rec', 0.24408992023205223)]\n",
      "[('own_rec', 0.012642295976108334)]\n",
      "test precision@50, recall@50, precision@5, recall@5\n",
      "[('own_rec', 0.04620739666424945)]\n",
      "[('own_rec', 0.053078533083100614)]\n",
      "[('own_rec', 0.12893401015228428)]\n",
      "[('own_rec', 0.016775575533838336)]\n",
      "9 3 500\n"
     ]
    },
    {
     "data": {
      "application/vnd.jupyter.widget-view+json": {
       "model_id": "b53176ee29ec4519a799cbc59b2a3959",
       "version_major": 2,
       "version_minor": 0
      },
      "text/plain": [
       "HBox(children=(HTML(value=''), FloatProgress(value=0.0, max=15.0), HTML(value='')))"
      ]
     },
     "metadata": {},
     "output_type": "display_data"
    },
    {
     "name": "stdout",
     "output_type": "stream",
     "text": [
      "\n"
     ]
    },
    {
     "data": {
      "application/vnd.jupyter.widget-view+json": {
       "model_id": "3badbd4527ee4b0ca0f0602b41b730d3",
       "version_major": 2,
       "version_minor": 0
      },
      "text/plain": [
       "HBox(children=(HTML(value=''), FloatProgress(value=0.0, max=501.0), HTML(value='')))"
      ]
     },
     "metadata": {},
     "output_type": "display_data"
    },
    {
     "name": "stdout",
     "output_type": "stream",
     "text": [
      "\n",
      "train precision@50, recall@50, precision@5, recall@5\n",
      "[('own_rec', 0.13760696156635244)]\n",
      "[('own_rec', 0.062080597259425406)]\n",
      "[('own_rec', 0.34285714285714286)]\n",
      "[('own_rec', 0.017311416453762198)]\n",
      "test precision@50, recall@50, precision@5, recall@5\n",
      "[('own_rec', 0.06510514865844814)]\n",
      "[('own_rec', 0.06967380763037963)]\n",
      "[('own_rec', 0.1899927483683829)]\n",
      "[('own_rec', 0.02374691644180929)]\n",
      "9 3 1000\n"
     ]
    },
    {
     "data": {
      "application/vnd.jupyter.widget-view+json": {
       "model_id": "6af4b16b897b409c9bf72fe931a43b32",
       "version_major": 2,
       "version_minor": 0
      },
      "text/plain": [
       "HBox(children=(HTML(value=''), FloatProgress(value=0.0, max=15.0), HTML(value='')))"
      ]
     },
     "metadata": {},
     "output_type": "display_data"
    },
    {
     "name": "stdout",
     "output_type": "stream",
     "text": [
      "\n"
     ]
    },
    {
     "data": {
      "application/vnd.jupyter.widget-view+json": {
       "model_id": "cabd721d7e5943568e46fc279f73851f",
       "version_major": 2,
       "version_minor": 0
      },
      "text/plain": [
       "HBox(children=(HTML(value=''), FloatProgress(value=0.0, max=1001.0), HTML(value='')))"
      ]
     },
     "metadata": {},
     "output_type": "display_data"
    },
    {
     "name": "stdout",
     "output_type": "stream",
     "text": [
      "\n",
      "train precision@50, recall@50, precision@5, recall@5\n",
      "[('own_rec', 0.14004350978970267)]\n",
      "[('own_rec', 0.06486394338289471)]\n",
      "[('own_rec', 0.31834662799129804)]\n",
      "[('own_rec', 0.016334269998595972)]\n",
      "test precision@50, recall@50, precision@5, recall@5\n",
      "[('own_rec', 0.06538071065989849)]\n",
      "[('own_rec', 0.07209513480358777)]\n",
      "[('own_rec', 0.1727338651196519)]\n",
      "[('own_rec', 0.022045360307623007)]\n",
      "9 3 2000\n"
     ]
    },
    {
     "data": {
      "application/vnd.jupyter.widget-view+json": {
       "model_id": "b16318d4bb9840428f1747dc74a4508c",
       "version_major": 2,
       "version_minor": 0
      },
      "text/plain": [
       "HBox(children=(HTML(value=''), FloatProgress(value=0.0, max=15.0), HTML(value='')))"
      ]
     },
     "metadata": {},
     "output_type": "display_data"
    },
    {
     "name": "stdout",
     "output_type": "stream",
     "text": [
      "\n"
     ]
    },
    {
     "data": {
      "application/vnd.jupyter.widget-view+json": {
       "model_id": "1f481cb95efe4048adcf38e58a378f5e",
       "version_major": 2,
       "version_minor": 0
      },
      "text/plain": [
       "HBox(children=(HTML(value=''), FloatProgress(value=0.0, max=2001.0), HTML(value='')))"
      ]
     },
     "metadata": {},
     "output_type": "display_data"
    },
    {
     "name": "stdout",
     "output_type": "stream",
     "text": [
      "\n",
      "train precision@50, recall@50, precision@5, recall@5\n",
      "[('own_rec', 0.13393763596809283)]\n",
      "[('own_rec', 0.06279579553869873)]\n",
      "[('own_rec', 0.2989122552574329)]\n",
      "[('own_rec', 0.015712388397527616)]\n",
      "test precision@50, recall@50, precision@5, recall@5\n",
      "[('own_rec', 0.061725888324873086)]\n",
      "[('own_rec', 0.06800217537371832)]\n",
      "[('own_rec', 0.15997099347353155)]\n",
      "[('own_rec', 0.020475685063203346)]\n",
      "9 3 3000\n"
     ]
    },
    {
     "data": {
      "application/vnd.jupyter.widget-view+json": {
       "model_id": "f7f105de72fa4519938463fdb1efc940",
       "version_major": 2,
       "version_minor": 0
      },
      "text/plain": [
       "HBox(children=(HTML(value=''), FloatProgress(value=0.0, max=15.0), HTML(value='')))"
      ]
     },
     "metadata": {},
     "output_type": "display_data"
    },
    {
     "name": "stdout",
     "output_type": "stream",
     "text": [
      "\n"
     ]
    },
    {
     "data": {
      "application/vnd.jupyter.widget-view+json": {
       "model_id": "14899bda113340948c4662d9fe34ed6c",
       "version_major": 2,
       "version_minor": 0
      },
      "text/plain": [
       "HBox(children=(HTML(value=''), FloatProgress(value=0.0, max=3001.0), HTML(value='')))"
      ]
     },
     "metadata": {},
     "output_type": "display_data"
    },
    {
     "name": "stdout",
     "output_type": "stream",
     "text": [
      "\n",
      "train precision@50, recall@50, precision@5, recall@5\n",
      "[('own_rec', 0.12652646845540247)]\n",
      "[('own_rec', 0.059818558902982266)]\n",
      "[('own_rec', 0.2889050036258158)]\n",
      "[('own_rec', 0.015296056944298867)]\n",
      "test precision@50, recall@50, precision@5, recall@5\n",
      "[('own_rec', 0.05786802030456853)]\n",
      "[('own_rec', 0.06561763206008937)]\n",
      "[('own_rec', 0.14996374184191444)]\n",
      "[('own_rec', 0.020277836365768086)]\n",
      "9 3 4000\n"
     ]
    },
    {
     "data": {
      "application/vnd.jupyter.widget-view+json": {
       "model_id": "67846403ca9c450ebe954b16ea806be9",
       "version_major": 2,
       "version_minor": 0
      },
      "text/plain": [
       "HBox(children=(HTML(value=''), FloatProgress(value=0.0, max=15.0), HTML(value='')))"
      ]
     },
     "metadata": {},
     "output_type": "display_data"
    },
    {
     "name": "stdout",
     "output_type": "stream",
     "text": [
      "\n"
     ]
    },
    {
     "data": {
      "application/vnd.jupyter.widget-view+json": {
       "model_id": "ea5ae1d147fa4183bd42f1865e68efe9",
       "version_major": 2,
       "version_minor": 0
      },
      "text/plain": [
       "HBox(children=(HTML(value=''), FloatProgress(value=0.0, max=3999.0), HTML(value='')))"
      ]
     },
     "metadata": {},
     "output_type": "display_data"
    },
    {
     "name": "stdout",
     "output_type": "stream",
     "text": [
      "\n",
      "train precision@50, recall@50, precision@5, recall@5\n",
      "[('own_rec', 0.11767947788252359)]\n",
      "[('own_rec', 0.05546138936895968)]\n",
      "[('own_rec', 0.2742567077592459)]\n",
      "[('own_rec', 0.01442037155719699)]\n",
      "test precision@50, recall@50, precision@5, recall@5\n",
      "[('own_rec', 0.05354604786076868)]\n",
      "[('own_rec', 0.061392524657022614)]\n",
      "[('own_rec', 0.14358230601885424)]\n",
      "[('own_rec', 0.019433439785998412)]\n",
      "9 3 5000\n"
     ]
    },
    {
     "data": {
      "application/vnd.jupyter.widget-view+json": {
       "model_id": "e115a65485e74bad8cf62a1fabc2fb95",
       "version_major": 2,
       "version_minor": 0
      },
      "text/plain": [
       "HBox(children=(HTML(value=''), FloatProgress(value=0.0, max=15.0), HTML(value='')))"
      ]
     },
     "metadata": {},
     "output_type": "display_data"
    },
    {
     "name": "stdout",
     "output_type": "stream",
     "text": [
      "\n"
     ]
    },
    {
     "data": {
      "application/vnd.jupyter.widget-view+json": {
       "model_id": "fea5d0a0229b46a482bf974819a3d153",
       "version_major": 2,
       "version_minor": 0
      },
      "text/plain": [
       "HBox(children=(HTML(value=''), FloatProgress(value=0.0, max=4998.0), HTML(value='')))"
      ]
     },
     "metadata": {},
     "output_type": "display_data"
    },
    {
     "name": "stdout",
     "output_type": "stream",
     "text": [
      "\n",
      "train precision@50, recall@50, precision@5, recall@5\n",
      "[('own_rec', 0.10709209572153736)]\n",
      "[('own_rec', 0.050884081068512214)]\n",
      "[('own_rec', 0.253372008701958)]\n",
      "[('own_rec', 0.013054254471178557)]\n",
      "test precision@50, recall@50, precision@5, recall@5\n",
      "[('own_rec', 0.048992023205221176)]\n",
      "[('own_rec', 0.05637868825307667)]\n",
      "[('own_rec', 0.13357505438723713)]\n",
      "[('own_rec', 0.017937183516162327)]\n",
      "9 3 6000\n"
     ]
    },
    {
     "data": {
      "application/vnd.jupyter.widget-view+json": {
       "model_id": "401818c566f74ce78a455a97ad049344",
       "version_major": 2,
       "version_minor": 0
      },
      "text/plain": [
       "HBox(children=(HTML(value=''), FloatProgress(value=0.0, max=15.0), HTML(value='')))"
      ]
     },
     "metadata": {},
     "output_type": "display_data"
    },
    {
     "name": "stdout",
     "output_type": "stream",
     "text": [
      "\n"
     ]
    },
    {
     "data": {
      "application/vnd.jupyter.widget-view+json": {
       "model_id": "35f1e7eff43e4ac888daebbe8e9fd5af",
       "version_major": 2,
       "version_minor": 0
      },
      "text/plain": [
       "HBox(children=(HTML(value=''), FloatProgress(value=0.0, max=5996.0), HTML(value='')))"
      ]
     },
     "metadata": {},
     "output_type": "display_data"
    },
    {
     "name": "stdout",
     "output_type": "stream",
     "text": [
      "\n",
      "train precision@50, recall@50, precision@5, recall@5\n",
      "[('own_rec', 0.09911530094271212)]\n",
      "[('own_rec', 0.04774439032584655)]\n",
      "[('own_rec', 0.2422044960116026)]\n",
      "[('own_rec', 0.01271398326663325)]\n",
      "test precision@50, recall@50, precision@5, recall@5\n",
      "[('own_rec', 0.045235678027556195)]\n",
      "[('own_rec', 0.05191478366682174)]\n",
      "[('own_rec', 0.12661348803480785)]\n",
      "[('own_rec', 0.01660157983251831)]\n",
      "9 4 500\n"
     ]
    },
    {
     "data": {
      "application/vnd.jupyter.widget-view+json": {
       "model_id": "589e3aa4474a47479f8158e8b5bb1679",
       "version_major": 2,
       "version_minor": 0
      },
      "text/plain": [
       "HBox(children=(HTML(value=''), FloatProgress(value=0.0, max=15.0), HTML(value='')))"
      ]
     },
     "metadata": {},
     "output_type": "display_data"
    },
    {
     "name": "stdout",
     "output_type": "stream",
     "text": [
      "\n"
     ]
    },
    {
     "data": {
      "application/vnd.jupyter.widget-view+json": {
       "model_id": "d5dac38e892e43a28bcc71ffb95db24c",
       "version_major": 2,
       "version_minor": 0
      },
      "text/plain": [
       "HBox(children=(HTML(value=''), FloatProgress(value=0.0, max=501.0), HTML(value='')))"
      ]
     },
     "metadata": {},
     "output_type": "display_data"
    },
    {
     "name": "stdout",
     "output_type": "stream",
     "text": [
      "\n",
      "train precision@50, recall@50, precision@5, recall@5\n",
      "[('own_rec', 0.13812907904278465)]\n",
      "[('own_rec', 0.06224601003657754)]\n",
      "[('own_rec', 0.34140681653372007)]\n",
      "[('own_rec', 0.01724097312481961)]\n",
      "test precision@50, recall@50, precision@5, recall@5\n",
      "[('own_rec', 0.06485859318346629)]\n",
      "[('own_rec', 0.06956944183523166)]\n",
      "[('own_rec', 0.18825235678027558)]\n",
      "[('own_rec', 0.0235998517742053)]\n",
      "9 4 1000\n"
     ]
    },
    {
     "data": {
      "application/vnd.jupyter.widget-view+json": {
       "model_id": "ad0f9f72fa614a7f9658522f913b125a",
       "version_major": 2,
       "version_minor": 0
      },
      "text/plain": [
       "HBox(children=(HTML(value=''), FloatProgress(value=0.0, max=15.0), HTML(value='')))"
      ]
     },
     "metadata": {},
     "output_type": "display_data"
    },
    {
     "name": "stdout",
     "output_type": "stream",
     "text": [
      "\n"
     ]
    },
    {
     "data": {
      "application/vnd.jupyter.widget-view+json": {
       "model_id": "bbbe59f00de742189f2ad52a8389a976",
       "version_major": 2,
       "version_minor": 0
      },
      "text/plain": [
       "HBox(children=(HTML(value=''), FloatProgress(value=0.0, max=1001.0), HTML(value='')))"
      ]
     },
     "metadata": {},
     "output_type": "display_data"
    },
    {
     "name": "stdout",
     "output_type": "stream",
     "text": [
      "\n",
      "train precision@50, recall@50, precision@5, recall@5\n",
      "[('own_rec', 0.14010152284263958)]\n",
      "[('own_rec', 0.06487833253626459)]\n",
      "[('own_rec', 0.31718636693255986)]\n",
      "[('own_rec', 0.016620282002745807)]\n",
      "test precision@50, recall@50, precision@5, recall@5\n",
      "[('own_rec', 0.06474256707759246)]\n",
      "[('own_rec', 0.07119172429962517)]\n",
      "[('own_rec', 0.1695431472081218)]\n",
      "[('own_rec', 0.021771854308876664)]\n",
      "9 4 2000\n"
     ]
    },
    {
     "data": {
      "application/vnd.jupyter.widget-view+json": {
       "model_id": "0a1d8b713d9444678f7d20409c9f8cd5",
       "version_major": 2,
       "version_minor": 0
      },
      "text/plain": [
       "HBox(children=(HTML(value=''), FloatProgress(value=0.0, max=15.0), HTML(value='')))"
      ]
     },
     "metadata": {},
     "output_type": "display_data"
    },
    {
     "name": "stdout",
     "output_type": "stream",
     "text": [
      "\n"
     ]
    },
    {
     "data": {
      "application/vnd.jupyter.widget-view+json": {
       "model_id": "0881e065c0f6461a83e47688c8c18396",
       "version_major": 2,
       "version_minor": 0
      },
      "text/plain": [
       "HBox(children=(HTML(value=''), FloatProgress(value=0.0, max=2001.0), HTML(value='')))"
      ]
     },
     "metadata": {},
     "output_type": "display_data"
    },
    {
     "name": "stdout",
     "output_type": "stream",
     "text": [
      "\n",
      "train precision@50, recall@50, precision@5, recall@5\n",
      "[('own_rec', 0.1341261783901378)]\n",
      "[('own_rec', 0.06306088124207289)]\n",
      "[('own_rec', 0.30021754894851344)]\n",
      "[('own_rec', 0.016069480976624986)]\n",
      "test precision@50, recall@50, precision@5, recall@5\n",
      "[('own_rec', 0.061377810007251635)]\n",
      "[('own_rec', 0.06787808372048725)]\n",
      "[('own_rec', 0.1602610587382161)]\n",
      "[('own_rec', 0.020775942279582838)]\n",
      "9 4 3000\n"
     ]
    },
    {
     "data": {
      "application/vnd.jupyter.widget-view+json": {
       "model_id": "f8719ecd4c11493890a50b5cbb76dd6d",
       "version_major": 2,
       "version_minor": 0
      },
      "text/plain": [
       "HBox(children=(HTML(value=''), FloatProgress(value=0.0, max=15.0), HTML(value='')))"
      ]
     },
     "metadata": {},
     "output_type": "display_data"
    },
    {
     "name": "stdout",
     "output_type": "stream",
     "text": [
      "\n"
     ]
    },
    {
     "data": {
      "application/vnd.jupyter.widget-view+json": {
       "model_id": "313028ecb5b44192b7074e9dd2f301fd",
       "version_major": 2,
       "version_minor": 0
      },
      "text/plain": [
       "HBox(children=(HTML(value=''), FloatProgress(value=0.0, max=3001.0), HTML(value='')))"
      ]
     },
     "metadata": {},
     "output_type": "display_data"
    },
    {
     "name": "stdout",
     "output_type": "stream",
     "text": [
      "\n",
      "train precision@50, recall@50, precision@5, recall@5\n",
      "[('own_rec', 0.12654097171863668)]\n",
      "[('own_rec', 0.060211202466327544)]\n",
      "[('own_rec', 0.290065264684554)]\n",
      "[('own_rec', 0.01561258625880835)]\n",
      "test precision@50, recall@50, precision@5, recall@5\n",
      "[('own_rec', 0.0571718636693256)]\n",
      "[('own_rec', 0.0650539125480262)]\n",
      "[('own_rec', 0.15054387237128355)]\n",
      "[('own_rec', 0.02037193826393069)]\n",
      "9 4 4000\n"
     ]
    },
    {
     "data": {
      "application/vnd.jupyter.widget-view+json": {
       "model_id": "41caee49b9264375b8e09e5b16876b5e",
       "version_major": 2,
       "version_minor": 0
      },
      "text/plain": [
       "HBox(children=(HTML(value=''), FloatProgress(value=0.0, max=15.0), HTML(value='')))"
      ]
     },
     "metadata": {},
     "output_type": "display_data"
    },
    {
     "name": "stdout",
     "output_type": "stream",
     "text": [
      "\n"
     ]
    },
    {
     "data": {
      "application/vnd.jupyter.widget-view+json": {
       "model_id": "b700bff966f942f0ad8f29af45c5f4b2",
       "version_major": 2,
       "version_minor": 0
      },
      "text/plain": [
       "HBox(children=(HTML(value=''), FloatProgress(value=0.0, max=4000.0), HTML(value='')))"
      ]
     },
     "metadata": {},
     "output_type": "display_data"
    },
    {
     "name": "stdout",
     "output_type": "stream",
     "text": [
      "\n",
      "train precision@50, recall@50, precision@5, recall@5\n",
      "[('own_rec', 0.11669325598259607)]\n",
      "[('own_rec', 0.05532866143132916)]\n",
      "[('own_rec', 0.2713560551124003)]\n",
      "[('own_rec', 0.014441004106298441)]\n",
      "test precision@50, recall@50, precision@5, recall@5\n",
      "[('own_rec', 0.052690355329949236)]\n",
      "[('own_rec', 0.06085260378061523)]\n",
      "[('own_rec', 0.1387962291515591)]\n",
      "[('own_rec', 0.019048864643910965)]\n",
      "9 4 5000\n"
     ]
    },
    {
     "data": {
      "application/vnd.jupyter.widget-view+json": {
       "model_id": "288558774af448c6a81b8edf87a092f1",
       "version_major": 2,
       "version_minor": 0
      },
      "text/plain": [
       "HBox(children=(HTML(value=''), FloatProgress(value=0.0, max=15.0), HTML(value='')))"
      ]
     },
     "metadata": {},
     "output_type": "display_data"
    },
    {
     "name": "stdout",
     "output_type": "stream",
     "text": [
      "\n"
     ]
    },
    {
     "data": {
      "application/vnd.jupyter.widget-view+json": {
       "model_id": "69e25486cc524454bbede406d593b596",
       "version_major": 2,
       "version_minor": 0
      },
      "text/plain": [
       "HBox(children=(HTML(value=''), FloatProgress(value=0.0, max=4998.0), HTML(value='')))"
      ]
     },
     "metadata": {},
     "output_type": "display_data"
    },
    {
     "name": "stdout",
     "output_type": "stream",
     "text": [
      "\n",
      "train precision@50, recall@50, precision@5, recall@5\n",
      "[('own_rec', 0.10683103698332125)]\n",
      "[('own_rec', 0.05099063917674809)]\n",
      "[('own_rec', 0.2548223350253807)]\n",
      "[('own_rec', 0.013388932094068792)]\n",
      "test precision@50, recall@50, precision@5, recall@5\n",
      "[('own_rec', 0.04802030456852792)]\n",
      "[('own_rec', 0.05554241153466824)]\n",
      "[('own_rec', 0.12965917331399562)]\n",
      "[('own_rec', 0.017573536241957125)]\n",
      "9 4 6000\n"
     ]
    },
    {
     "data": {
      "application/vnd.jupyter.widget-view+json": {
       "model_id": "f15cffd39fb74c47b9a38422786c8c99",
       "version_major": 2,
       "version_minor": 0
      },
      "text/plain": [
       "HBox(children=(HTML(value=''), FloatProgress(value=0.0, max=15.0), HTML(value='')))"
      ]
     },
     "metadata": {},
     "output_type": "display_data"
    },
    {
     "name": "stdout",
     "output_type": "stream",
     "text": [
      "\n"
     ]
    },
    {
     "data": {
      "application/vnd.jupyter.widget-view+json": {
       "model_id": "65c6de89f6034dbc949665e410f44d66",
       "version_major": 2,
       "version_minor": 0
      },
      "text/plain": [
       "HBox(children=(HTML(value=''), FloatProgress(value=0.0, max=5996.0), HTML(value='')))"
      ]
     },
     "metadata": {},
     "output_type": "display_data"
    },
    {
     "name": "stdout",
     "output_type": "stream",
     "text": [
      "\n",
      "train precision@50, recall@50, precision@5, recall@5\n",
      "[('own_rec', 0.09902828136330674)]\n",
      "[('own_rec', 0.04807210826184839)]\n",
      "[('own_rec', 0.24205946337926035)]\n",
      "[('own_rec', 0.012753667284246832)]\n",
      "test precision@50, recall@50, precision@5, recall@5\n",
      "[('own_rec', 0.044394488759971)]\n",
      "[('own_rec', 0.05129243467139652)]\n",
      "[('own_rec', 0.12327773749093546)]\n",
      "[('own_rec', 0.016114883541138547)]\n",
      "9 5 500\n"
     ]
    },
    {
     "data": {
      "application/vnd.jupyter.widget-view+json": {
       "model_id": "16553823038e4606b251ec85cd8f7b0f",
       "version_major": 2,
       "version_minor": 0
      },
      "text/plain": [
       "HBox(children=(HTML(value=''), FloatProgress(value=0.0, max=15.0), HTML(value='')))"
      ]
     },
     "metadata": {},
     "output_type": "display_data"
    },
    {
     "name": "stdout",
     "output_type": "stream",
     "text": [
      "\n"
     ]
    },
    {
     "data": {
      "application/vnd.jupyter.widget-view+json": {
       "model_id": "c40aabb0fd164a35bccceb49d32c272f",
       "version_major": 2,
       "version_minor": 0
      },
      "text/plain": [
       "HBox(children=(HTML(value=''), FloatProgress(value=0.0, max=501.0), HTML(value='')))"
      ]
     },
     "metadata": {},
     "output_type": "display_data"
    },
    {
     "name": "stdout",
     "output_type": "stream",
     "text": [
      "\n",
      "train precision@50, recall@50, precision@5, recall@5\n",
      "[('own_rec', 0.13756345177664975)]\n",
      "[('own_rec', 0.0618906589849166)]\n",
      "[('own_rec', 0.3386511965192168)]\n",
      "[('own_rec', 0.01745568797918513)]\n",
      "test precision@50, recall@50, precision@5, recall@5\n",
      "[('own_rec', 0.06485859318346629)]\n",
      "[('own_rec', 0.06986121340434617)]\n",
      "[('own_rec', 0.18709209572153734)]\n",
      "[('own_rec', 0.02367019691964053)]\n",
      "9 5 1000\n"
     ]
    },
    {
     "data": {
      "application/vnd.jupyter.widget-view+json": {
       "model_id": "1d72b411d5694e99bf01ad38549195cc",
       "version_major": 2,
       "version_minor": 0
      },
      "text/plain": [
       "HBox(children=(HTML(value=''), FloatProgress(value=0.0, max=15.0), HTML(value='')))"
      ]
     },
     "metadata": {},
     "output_type": "display_data"
    },
    {
     "name": "stdout",
     "output_type": "stream",
     "text": [
      "\n"
     ]
    },
    {
     "data": {
      "application/vnd.jupyter.widget-view+json": {
       "model_id": "82291b789a734653b34e809aae927d7b",
       "version_major": 2,
       "version_minor": 0
      },
      "text/plain": [
       "HBox(children=(HTML(value=''), FloatProgress(value=0.0, max=1001.0), HTML(value='')))"
      ]
     },
     "metadata": {},
     "output_type": "display_data"
    },
    {
     "name": "stdout",
     "output_type": "stream",
     "text": [
      "\n",
      "train precision@50, recall@50, precision@5, recall@5\n",
      "[('own_rec', 0.13928934010152283)]\n",
      "[('own_rec', 0.0643160128183263)]\n",
      "[('own_rec', 0.315736040609137)]\n",
      "[('own_rec', 0.016753496255435606)]\n",
      "test precision@50, recall@50, precision@5, recall@5\n",
      "[('own_rec', 0.06445250181290792)]\n",
      "[('own_rec', 0.07105435198004237)]\n",
      "[('own_rec', 0.16707759245830314)]\n",
      "[('own_rec', 0.021570053723654014)]\n",
      "9 5 2000\n"
     ]
    },
    {
     "data": {
      "application/vnd.jupyter.widget-view+json": {
       "model_id": "d3dd588279a74473add5bf5834cc4066",
       "version_major": 2,
       "version_minor": 0
      },
      "text/plain": [
       "HBox(children=(HTML(value=''), FloatProgress(value=0.0, max=15.0), HTML(value='')))"
      ]
     },
     "metadata": {},
     "output_type": "display_data"
    },
    {
     "name": "stdout",
     "output_type": "stream",
     "text": [
      "\n"
     ]
    },
    {
     "data": {
      "application/vnd.jupyter.widget-view+json": {
       "model_id": "ac16dcea187e460ba5f97a5198066cc8",
       "version_major": 2,
       "version_minor": 0
      },
      "text/plain": [
       "HBox(children=(HTML(value=''), FloatProgress(value=0.0, max=2001.0), HTML(value='')))"
      ]
     },
     "metadata": {},
     "output_type": "display_data"
    },
    {
     "name": "stdout",
     "output_type": "stream",
     "text": [
      "\n",
      "train precision@50, recall@50, precision@5, recall@5\n",
      "[('own_rec', 0.13345902828136333)]\n",
      "[('own_rec', 0.0630798480795017)]\n",
      "[('own_rec', 0.2983321247280638)]\n",
      "[('own_rec', 0.016186930367144164)]\n",
      "test precision@50, recall@50, precision@5, recall@5\n",
      "[('own_rec', 0.06098622189992749)]\n",
      "[('own_rec', 0.0679072070021304)]\n",
      "[('own_rec', 0.15678027556200144)]\n",
      "[('own_rec', 0.020612985829756004)]\n",
      "9 5 3000\n"
     ]
    },
    {
     "data": {
      "application/vnd.jupyter.widget-view+json": {
       "model_id": "7d713d5c53814d748ccc06c3827959af",
       "version_major": 2,
       "version_minor": 0
      },
      "text/plain": [
       "HBox(children=(HTML(value=''), FloatProgress(value=0.0, max=15.0), HTML(value='')))"
      ]
     },
     "metadata": {},
     "output_type": "display_data"
    },
    {
     "name": "stdout",
     "output_type": "stream",
     "text": [
      "\n"
     ]
    },
    {
     "data": {
      "application/vnd.jupyter.widget-view+json": {
       "model_id": "5586e5cadc434ce1a9afa660daee4ebc",
       "version_major": 2,
       "version_minor": 0
      },
      "text/plain": [
       "HBox(children=(HTML(value=''), FloatProgress(value=0.0, max=3001.0), HTML(value='')))"
      ]
     },
     "metadata": {},
     "output_type": "display_data"
    },
    {
     "name": "stdout",
     "output_type": "stream",
     "text": [
      "\n",
      "train precision@50, recall@50, precision@5, recall@5\n",
      "[('own_rec', 0.1251196519216824)]\n",
      "[('own_rec', 0.05961998314990366)]\n",
      "[('own_rec', 0.2896301667875272)]\n",
      "[('own_rec', 0.015580672850583498)]\n",
      "test precision@50, recall@50, precision@5, recall@5\n",
      "[('own_rec', 0.05653372008701959)]\n",
      "[('own_rec', 0.06436271661810314)]\n",
      "[('own_rec', 0.14778825235678028)]\n",
      "[('own_rec', 0.0199866805775854)]\n",
      "9 5 4000\n"
     ]
    },
    {
     "data": {
      "application/vnd.jupyter.widget-view+json": {
       "model_id": "e19aaae1b46f4a0da5c5c3e5bac32398",
       "version_major": 2,
       "version_minor": 0
      },
      "text/plain": [
       "HBox(children=(HTML(value=''), FloatProgress(value=0.0, max=15.0), HTML(value='')))"
      ]
     },
     "metadata": {},
     "output_type": "display_data"
    },
    {
     "name": "stdout",
     "output_type": "stream",
     "text": [
      "\n"
     ]
    },
    {
     "data": {
      "application/vnd.jupyter.widget-view+json": {
       "model_id": "256839247a174e4bae50b2ba460b856c",
       "version_major": 2,
       "version_minor": 0
      },
      "text/plain": [
       "HBox(children=(HTML(value=''), FloatProgress(value=0.0, max=4000.0), HTML(value='')))"
      ]
     },
     "metadata": {},
     "output_type": "display_data"
    },
    {
     "name": "stdout",
     "output_type": "stream",
     "text": [
      "\n",
      "train precision@50, recall@50, precision@5, recall@5\n",
      "[('own_rec', 0.11630166787527194)]\n",
      "[('own_rec', 0.055719853969019226)]\n",
      "[('own_rec', 0.2707759245830312)]\n",
      "[('own_rec', 0.014587098794486046)]\n",
      "test precision@50, recall@50, precision@5, recall@5\n",
      "[('own_rec', 0.05200870195794054)]\n",
      "[('own_rec', 0.06022964563632744)]\n",
      "[('own_rec', 0.13792603335750542)]\n",
      "[('own_rec', 0.018742389729979828)]\n",
      "9 5 5000\n"
     ]
    },
    {
     "data": {
      "application/vnd.jupyter.widget-view+json": {
       "model_id": "60ec627f544e42e08b82530e3bce8d58",
       "version_major": 2,
       "version_minor": 0
      },
      "text/plain": [
       "HBox(children=(HTML(value=''), FloatProgress(value=0.0, max=15.0), HTML(value='')))"
      ]
     },
     "metadata": {},
     "output_type": "display_data"
    },
    {
     "name": "stdout",
     "output_type": "stream",
     "text": [
      "\n"
     ]
    },
    {
     "data": {
      "application/vnd.jupyter.widget-view+json": {
       "model_id": "0f6060ca6f1e4aa38973b470dc579d43",
       "version_major": 2,
       "version_minor": 0
      },
      "text/plain": [
       "HBox(children=(HTML(value=''), FloatProgress(value=0.0, max=4997.0), HTML(value='')))"
      ]
     },
     "metadata": {},
     "output_type": "display_data"
    },
    {
     "name": "stdout",
     "output_type": "stream",
     "text": [
      "\n",
      "train precision@50, recall@50, precision@5, recall@5\n",
      "[('own_rec', 0.1065409717186367)]\n",
      "[('own_rec', 0.05143381858449864)]\n",
      "[('own_rec', 0.25221174764321974)]\n",
      "[('own_rec', 0.01325057113813323)]\n",
      "test precision@50, recall@50, precision@5, recall@5\n",
      "[('own_rec', 0.047541696881798406)]\n",
      "[('own_rec', 0.05482864742169489)]\n",
      "[('own_rec', 0.12733865119651921)]\n",
      "[('own_rec', 0.01729568607874119)]\n",
      "9 5 6000\n"
     ]
    },
    {
     "data": {
      "application/vnd.jupyter.widget-view+json": {
       "model_id": "765a98b0bdc441dcaaa93f67de8f7fef",
       "version_major": 2,
       "version_minor": 0
      },
      "text/plain": [
       "HBox(children=(HTML(value=''), FloatProgress(value=0.0, max=15.0), HTML(value='')))"
      ]
     },
     "metadata": {},
     "output_type": "display_data"
    },
    {
     "name": "stdout",
     "output_type": "stream",
     "text": [
      "\n"
     ]
    },
    {
     "data": {
      "application/vnd.jupyter.widget-view+json": {
       "model_id": "2ef18c89819f4c329501128f8db0b85a",
       "version_major": 2,
       "version_minor": 0
      },
      "text/plain": [
       "HBox(children=(HTML(value=''), FloatProgress(value=0.0, max=5996.0), HTML(value='')))"
      ]
     },
     "metadata": {},
     "output_type": "display_data"
    },
    {
     "name": "stdout",
     "output_type": "stream",
     "text": [
      "\n",
      "train precision@50, recall@50, precision@5, recall@5\n",
      "[('own_rec', 0.09868020304568527)]\n",
      "[('own_rec', 0.04836600406242162)]\n",
      "[('own_rec', 0.2369833212472806)]\n",
      "[('own_rec', 0.012309180527721267)]\n",
      "test precision@50, recall@50, precision@5, recall@5\n",
      "[('own_rec', 0.043828861493836115)]\n",
      "[('own_rec', 0.050536039209040026)]\n",
      "[('own_rec', 0.12066715010877446)]\n",
      "[('own_rec', 0.015754675937736932)]\n",
      "9 6 500\n"
     ]
    },
    {
     "data": {
      "application/vnd.jupyter.widget-view+json": {
       "model_id": "435d44a740d54b67932b63dd52421bd2",
       "version_major": 2,
       "version_minor": 0
      },
      "text/plain": [
       "HBox(children=(HTML(value=''), FloatProgress(value=0.0, max=15.0), HTML(value='')))"
      ]
     },
     "metadata": {},
     "output_type": "display_data"
    },
    {
     "name": "stdout",
     "output_type": "stream",
     "text": [
      "\n"
     ]
    },
    {
     "data": {
      "application/vnd.jupyter.widget-view+json": {
       "model_id": "6c0e1abc12574851833a8615fe2dba44",
       "version_major": 2,
       "version_minor": 0
      },
      "text/plain": [
       "HBox(children=(HTML(value=''), FloatProgress(value=0.0, max=501.0), HTML(value='')))"
      ]
     },
     "metadata": {},
     "output_type": "display_data"
    },
    {
     "name": "stdout",
     "output_type": "stream",
     "text": [
      "\n",
      "train precision@50, recall@50, precision@5, recall@5\n",
      "[('own_rec', 0.13615663524292967)]\n",
      "[('own_rec', 0.06204521021503898)]\n",
      "[('own_rec', 0.33691080493110953)]\n",
      "[('own_rec', 0.017848178693856943)]\n",
      "test precision@50, recall@50, precision@5, recall@5\n",
      "[('own_rec', 0.06469905728788977)]\n",
      "[('own_rec', 0.06975596940624514)]\n",
      "[('own_rec', 0.1866569978245105)]\n",
      "[('own_rec', 0.023529882132928785)]\n",
      "9 6 1000\n"
     ]
    },
    {
     "data": {
      "application/vnd.jupyter.widget-view+json": {
       "model_id": "a2fd5611027346408c1f3f4b073faa4b",
       "version_major": 2,
       "version_minor": 0
      },
      "text/plain": [
       "HBox(children=(HTML(value=''), FloatProgress(value=0.0, max=15.0), HTML(value='')))"
      ]
     },
     "metadata": {},
     "output_type": "display_data"
    },
    {
     "name": "stdout",
     "output_type": "stream",
     "text": [
      "\n"
     ]
    },
    {
     "data": {
      "application/vnd.jupyter.widget-view+json": {
       "model_id": "2b6557a28cc046588434582a67a54b64",
       "version_major": 2,
       "version_minor": 0
      },
      "text/plain": [
       "HBox(children=(HTML(value=''), FloatProgress(value=0.0, max=1001.0), HTML(value='')))"
      ]
     },
     "metadata": {},
     "output_type": "display_data"
    },
    {
     "name": "stdout",
     "output_type": "stream",
     "text": [
      "\n",
      "train precision@50, recall@50, precision@5, recall@5\n",
      "[('own_rec', 0.13789702683103697)]\n",
      "[('own_rec', 0.06473918090098128)]\n",
      "[('own_rec', 0.3163161711385062)]\n",
      "[('own_rec', 0.017458101481247944)]\n",
      "test precision@50, recall@50, precision@5, recall@5\n",
      "[('own_rec', 0.06407541696881798)]\n",
      "[('own_rec', 0.07066914900862271)]\n",
      "[('own_rec', 0.16678752719361856)]\n",
      "[('own_rec', 0.021554788726629675)]\n",
      "9 6 2000\n"
     ]
    },
    {
     "data": {
      "application/vnd.jupyter.widget-view+json": {
       "model_id": "a9069356c059429aac99983281a728ad",
       "version_major": 2,
       "version_minor": 0
      },
      "text/plain": [
       "HBox(children=(HTML(value=''), FloatProgress(value=0.0, max=15.0), HTML(value='')))"
      ]
     },
     "metadata": {},
     "output_type": "display_data"
    },
    {
     "name": "stdout",
     "output_type": "stream",
     "text": [
      "\n"
     ]
    },
    {
     "data": {
      "application/vnd.jupyter.widget-view+json": {
       "model_id": "2422d1a5c539443a95cf4d9f47d469ba",
       "version_major": 2,
       "version_minor": 0
      },
      "text/plain": [
       "HBox(children=(HTML(value=''), FloatProgress(value=0.0, max=2001.0), HTML(value='')))"
      ]
     },
     "metadata": {},
     "output_type": "display_data"
    },
    {
     "name": "stdout",
     "output_type": "stream",
     "text": [
      "\n",
      "train precision@50, recall@50, precision@5, recall@5\n",
      "[('own_rec', 0.13186366932559826)]\n",
      "[('own_rec', 0.06401650556216912)]\n",
      "[('own_rec', 0.29644670050761424)]\n",
      "[('own_rec', 0.017119207782326732)]\n",
      "test precision@50, recall@50, precision@5, recall@5\n",
      "[('own_rec', 0.060681653372008704)]\n",
      "[('own_rec', 0.06802702097329691)]\n",
      "[('own_rec', 0.15692530819434372)]\n",
      "[('own_rec', 0.020635272575020548)]\n",
      "9 6 3000\n"
     ]
    },
    {
     "data": {
      "application/vnd.jupyter.widget-view+json": {
       "model_id": "905c794aa69a482e9d06714d41f06538",
       "version_major": 2,
       "version_minor": 0
      },
      "text/plain": [
       "HBox(children=(HTML(value=''), FloatProgress(value=0.0, max=15.0), HTML(value='')))"
      ]
     },
     "metadata": {},
     "output_type": "display_data"
    },
    {
     "name": "stdout",
     "output_type": "stream",
     "text": [
      "\n"
     ]
    },
    {
     "data": {
      "application/vnd.jupyter.widget-view+json": {
       "model_id": "cc252bb2249f4dc7b1ceee6e19a7e1d3",
       "version_major": 2,
       "version_minor": 0
      },
      "text/plain": [
       "HBox(children=(HTML(value=''), FloatProgress(value=0.0, max=3001.0), HTML(value='')))"
      ]
     },
     "metadata": {},
     "output_type": "display_data"
    },
    {
     "name": "stdout",
     "output_type": "stream",
     "text": [
      "\n",
      "train precision@50, recall@50, precision@5, recall@5\n",
      "[('own_rec', 0.12272661348803482)]\n",
      "[('own_rec', 0.060271025234884534)]\n",
      "[('own_rec', 0.2870195794053662)]\n",
      "[('own_rec', 0.01636794011746721)]\n",
      "test precision@50, recall@50, precision@5, recall@5\n",
      "[('own_rec', 0.05573604060913707)]\n",
      "[('own_rec', 0.06379812591574839)]\n",
      "[('own_rec', 0.14604786076867296)]\n",
      "[('own_rec', 0.01973097158435143)]\n",
      "9 6 4000\n"
     ]
    },
    {
     "data": {
      "application/vnd.jupyter.widget-view+json": {
       "model_id": "175115701b6f40a3baf7a85bc3f91351",
       "version_major": 2,
       "version_minor": 0
      },
      "text/plain": [
       "HBox(children=(HTML(value=''), FloatProgress(value=0.0, max=15.0), HTML(value='')))"
      ]
     },
     "metadata": {},
     "output_type": "display_data"
    },
    {
     "name": "stdout",
     "output_type": "stream",
     "text": [
      "\n"
     ]
    },
    {
     "data": {
      "application/vnd.jupyter.widget-view+json": {
       "model_id": "4dfe29a052cf4f088f0cd3defe8dd112",
       "version_major": 2,
       "version_minor": 0
      },
      "text/plain": [
       "HBox(children=(HTML(value=''), FloatProgress(value=0.0, max=4000.0), HTML(value='')))"
      ]
     },
     "metadata": {},
     "output_type": "display_data"
    },
    {
     "name": "stdout",
     "output_type": "stream",
     "text": [
      "\n",
      "train precision@50, recall@50, precision@5, recall@5\n",
      "[('own_rec', 0.11485134155184919)]\n",
      "[('own_rec', 0.056667609093182705)]\n",
      "[('own_rec', 0.2688905003625816)]\n",
      "[('own_rec', 0.015225960700903823)]\n",
      "test precision@50, recall@50, precision@5, recall@5\n",
      "[('own_rec', 0.0514720812182741)]\n",
      "[('own_rec', 0.05945830093885553)]\n",
      "[('own_rec', 0.13749093546047864)]\n",
      "[('own_rec', 0.019083548052154727)]\n",
      "9 6 5000\n"
     ]
    },
    {
     "data": {
      "application/vnd.jupyter.widget-view+json": {
       "model_id": "1a87666cc84a4072bc721eb6d81c3a87",
       "version_major": 2,
       "version_minor": 0
      },
      "text/plain": [
       "HBox(children=(HTML(value=''), FloatProgress(value=0.0, max=15.0), HTML(value='')))"
      ]
     },
     "metadata": {},
     "output_type": "display_data"
    },
    {
     "name": "stdout",
     "output_type": "stream",
     "text": [
      "\n"
     ]
    },
    {
     "data": {
      "application/vnd.jupyter.widget-view+json": {
       "model_id": "790572201be74de49fc031ea79bce491",
       "version_major": 2,
       "version_minor": 0
      },
      "text/plain": [
       "HBox(children=(HTML(value=''), FloatProgress(value=0.0, max=4997.0), HTML(value='')))"
      ]
     },
     "metadata": {},
     "output_type": "display_data"
    },
    {
     "name": "stdout",
     "output_type": "stream",
     "text": [
      "\n",
      "train precision@50, recall@50, precision@5, recall@5\n",
      "[('own_rec', 0.10500362581580856)]\n",
      "[('own_rec', 0.05190458192174187)]\n",
      "[('own_rec', 0.24844089920232054)]\n",
      "[('own_rec', 0.013581908297558527)]\n",
      "test precision@50, recall@50, precision@5, recall@5\n",
      "[('own_rec', 0.04662799129804207)]\n",
      "[('own_rec', 0.05378689401497369)]\n",
      "[('own_rec', 0.12588832487309645)]\n",
      "[('own_rec', 0.017084253582466086)]\n",
      "9 6 6000\n"
     ]
    },
    {
     "data": {
      "application/vnd.jupyter.widget-view+json": {
       "model_id": "7d56fda49b8c4ae08c432eeb7a98b2d9",
       "version_major": 2,
       "version_minor": 0
      },
      "text/plain": [
       "HBox(children=(HTML(value=''), FloatProgress(value=0.0, max=15.0), HTML(value='')))"
      ]
     },
     "metadata": {},
     "output_type": "display_data"
    },
    {
     "name": "stdout",
     "output_type": "stream",
     "text": [
      "\n"
     ]
    },
    {
     "data": {
      "application/vnd.jupyter.widget-view+json": {
       "model_id": "c1ac03f691164ab6becf2366785f7e53",
       "version_major": 2,
       "version_minor": 0
      },
      "text/plain": [
       "HBox(children=(HTML(value=''), FloatProgress(value=0.0, max=5996.0), HTML(value='')))"
      ]
     },
     "metadata": {},
     "output_type": "display_data"
    },
    {
     "name": "stdout",
     "output_type": "stream",
     "text": [
      "\n",
      "train precision@50, recall@50, precision@5, recall@5\n",
      "[('own_rec', 0.09718636693255982)]\n",
      "[('own_rec', 0.048933213111519366)]\n",
      "[('own_rec', 0.233502538071066)]\n",
      "[('own_rec', 0.012659589018335788)]\n",
      "test precision@50, recall@50, precision@5, recall@5\n",
      "[('own_rec', 0.04346627991298043)]\n",
      "[('own_rec', 0.050460074685355266)]\n",
      "[('own_rec', 0.1199419869470631)]\n",
      "[('own_rec', 0.015909114872342162)]\n",
      "10 1 500\n"
     ]
    },
    {
     "data": {
      "application/vnd.jupyter.widget-view+json": {
       "model_id": "dd3b9c50b0c64e889d4c40d05ff16eef",
       "version_major": 2,
       "version_minor": 0
      },
      "text/plain": [
       "HBox(children=(HTML(value=''), FloatProgress(value=0.0, max=15.0), HTML(value='')))"
      ]
     },
     "metadata": {},
     "output_type": "display_data"
    },
    {
     "name": "stdout",
     "output_type": "stream",
     "text": [
      "\n"
     ]
    },
    {
     "data": {
      "application/vnd.jupyter.widget-view+json": {
       "model_id": "341df2d55f2240c4b189877aa382e3f7",
       "version_major": 2,
       "version_minor": 0
      },
      "text/plain": [
       "HBox(children=(HTML(value=''), FloatProgress(value=0.0, max=501.0), HTML(value='')))"
      ]
     },
     "metadata": {},
     "output_type": "display_data"
    },
    {
     "name": "stdout",
     "output_type": "stream",
     "text": [
      "\n",
      "train precision@50, recall@50, precision@5, recall@5\n",
      "[('own_rec', 0.1491515591007977)]\n",
      "[('own_rec', 0.060487911365472484)]\n",
      "[('own_rec', 0.364902102973169)]\n",
      "[('own_rec', 0.01681019797164331)]\n",
      "test precision@50, recall@50, precision@5, recall@5\n",
      "[('own_rec', 0.0653372008701958)]\n",
      "[('own_rec', 0.07003374218797778)]\n",
      "[('own_rec', 0.19376359680928207)]\n",
      "[('own_rec', 0.024180523543706353)]\n",
      "10 1 1000\n"
     ]
    },
    {
     "data": {
      "application/vnd.jupyter.widget-view+json": {
       "model_id": "a77db434bb4c40b68d53c6504a38c245",
       "version_major": 2,
       "version_minor": 0
      },
      "text/plain": [
       "HBox(children=(HTML(value=''), FloatProgress(value=0.0, max=15.0), HTML(value='')))"
      ]
     },
     "metadata": {},
     "output_type": "display_data"
    },
    {
     "name": "stdout",
     "output_type": "stream",
     "text": [
      "\n"
     ]
    },
    {
     "data": {
      "application/vnd.jupyter.widget-view+json": {
       "model_id": "00506ac0f3834a27ad4ef4a75cabb91b",
       "version_major": 2,
       "version_minor": 0
      },
      "text/plain": [
       "HBox(children=(HTML(value=''), FloatProgress(value=0.0, max=1001.0), HTML(value='')))"
      ]
     },
     "metadata": {},
     "output_type": "display_data"
    },
    {
     "name": "stdout",
     "output_type": "stream",
     "text": [
      "\n",
      "train precision@50, recall@50, precision@5, recall@5\n",
      "[('own_rec', 0.15096446700507615)]\n",
      "[('own_rec', 0.06272757898159956)]\n",
      "[('own_rec', 0.3319796954314721)]\n",
      "[('own_rec', 0.015506025922157112)]\n",
      "test precision@50, recall@50, precision@5, recall@5\n",
      "[('own_rec', 0.06583031182015954)]\n",
      "[('own_rec', 0.07243910769829717)]\n",
      "[('own_rec', 0.1734590282813633)]\n",
      "[('own_rec', 0.022180866789166767)]\n",
      "10 1 2000\n"
     ]
    },
    {
     "data": {
      "application/vnd.jupyter.widget-view+json": {
       "model_id": "b5fa1dce29064bf58a1c8d357f174c6e",
       "version_major": 2,
       "version_minor": 0
      },
      "text/plain": [
       "HBox(children=(HTML(value=''), FloatProgress(value=0.0, max=15.0), HTML(value='')))"
      ]
     },
     "metadata": {},
     "output_type": "display_data"
    },
    {
     "name": "stdout",
     "output_type": "stream",
     "text": [
      "\n"
     ]
    },
    {
     "data": {
      "application/vnd.jupyter.widget-view+json": {
       "model_id": "b8b6211d09a54f4aa26c7c3803cc6ddc",
       "version_major": 2,
       "version_minor": 0
      },
      "text/plain": [
       "HBox(children=(HTML(value=''), FloatProgress(value=0.0, max=2001.0), HTML(value='')))"
      ]
     },
     "metadata": {},
     "output_type": "display_data"
    },
    {
     "name": "stdout",
     "output_type": "stream",
     "text": [
      "\n",
      "train precision@50, recall@50, precision@5, recall@5\n",
      "[('own_rec', 0.14446700507614216)]\n",
      "[('own_rec', 0.06167542105026951)]\n",
      "[('own_rec', 0.31646120377084846)]\n",
      "[('own_rec', 0.015270968722844303)]\n",
      "test precision@50, recall@50, precision@5, recall@5\n",
      "[('own_rec', 0.0625670775924583)]\n",
      "[('own_rec', 0.06912849215750744)]\n",
      "[('own_rec', 0.16258158085569252)]\n",
      "[('own_rec', 0.02096493653321568)]\n",
      "10 1 3000\n"
     ]
    },
    {
     "data": {
      "application/vnd.jupyter.widget-view+json": {
       "model_id": "5fbcd98b275b48baa1421049380207d7",
       "version_major": 2,
       "version_minor": 0
      },
      "text/plain": [
       "HBox(children=(HTML(value=''), FloatProgress(value=0.0, max=15.0), HTML(value='')))"
      ]
     },
     "metadata": {},
     "output_type": "display_data"
    },
    {
     "name": "stdout",
     "output_type": "stream",
     "text": [
      "\n"
     ]
    },
    {
     "data": {
      "application/vnd.jupyter.widget-view+json": {
       "model_id": "da90b9897b264cea9b5c84d131917f24",
       "version_major": 2,
       "version_minor": 0
      },
      "text/plain": [
       "HBox(children=(HTML(value=''), FloatProgress(value=0.0, max=3001.0), HTML(value='')))"
      ]
     },
     "metadata": {},
     "output_type": "display_data"
    },
    {
     "name": "stdout",
     "output_type": "stream",
     "text": [
      "\n",
      "train precision@50, recall@50, precision@5, recall@5\n",
      "[('own_rec', 0.13566352429296594)]\n",
      "[('own_rec', 0.058428101016109256)]\n",
      "[('own_rec', 0.30384336475707036)]\n",
      "[('own_rec', 0.014648071456996314)]\n",
      "test precision@50, recall@50, precision@5, recall@5\n",
      "[('own_rec', 0.05866569978245106)]\n",
      "[('own_rec', 0.06646783897489099)]\n",
      "[('own_rec', 0.15315445975344455)]\n",
      "[('own_rec', 0.02077750724195391)]\n",
      "10 1 4000\n"
     ]
    },
    {
     "data": {
      "application/vnd.jupyter.widget-view+json": {
       "model_id": "f9c1468fff52438aae4cc9fd1b9a3cae",
       "version_major": 2,
       "version_minor": 0
      },
      "text/plain": [
       "HBox(children=(HTML(value=''), FloatProgress(value=0.0, max=15.0), HTML(value='')))"
      ]
     },
     "metadata": {},
     "output_type": "display_data"
    },
    {
     "name": "stdout",
     "output_type": "stream",
     "text": [
      "\n"
     ]
    },
    {
     "data": {
      "application/vnd.jupyter.widget-view+json": {
       "model_id": "7975d2fd25654262b05cc3fed1bdb5db",
       "version_major": 2,
       "version_minor": 0
      },
      "text/plain": [
       "HBox(children=(HTML(value=''), FloatProgress(value=0.0, max=3999.0), HTML(value='')))"
      ]
     },
     "metadata": {},
     "output_type": "display_data"
    },
    {
     "name": "stdout",
     "output_type": "stream",
     "text": [
      "\n",
      "train precision@50, recall@50, precision@5, recall@5\n",
      "[('own_rec', 0.12564176939811456)]\n",
      "[('own_rec', 0.05411596706207256)]\n",
      "[('own_rec', 0.2881798404641044)]\n",
      "[('own_rec', 0.013788168709683283)]\n",
      "test precision@50, recall@50, precision@5, recall@5\n",
      "[('own_rec', 0.05409717186366933)]\n",
      "[('own_rec', 0.062131826901646106)]\n",
      "[('own_rec', 0.14532269760696157)]\n",
      "[('own_rec', 0.019619431642293534)]\n",
      "10 1 5000\n"
     ]
    },
    {
     "data": {
      "application/vnd.jupyter.widget-view+json": {
       "model_id": "7e561177128b4399bbcba5af50d83bb7",
       "version_major": 2,
       "version_minor": 0
      },
      "text/plain": [
       "HBox(children=(HTML(value=''), FloatProgress(value=0.0, max=15.0), HTML(value='')))"
      ]
     },
     "metadata": {},
     "output_type": "display_data"
    },
    {
     "name": "stdout",
     "output_type": "stream",
     "text": [
      "\n"
     ]
    },
    {
     "data": {
      "application/vnd.jupyter.widget-view+json": {
       "model_id": "b81caee94c324818847f7c18a877bfd5",
       "version_major": 2,
       "version_minor": 0
      },
      "text/plain": [
       "HBox(children=(HTML(value=''), FloatProgress(value=0.0, max=4998.0), HTML(value='')))"
      ]
     },
     "metadata": {},
     "output_type": "display_data"
    },
    {
     "name": "stdout",
     "output_type": "stream",
     "text": [
      "\n",
      "train precision@50, recall@50, precision@5, recall@5\n",
      "[('own_rec', 0.11493836113125454)]\n",
      "[('own_rec', 0.050161367541060445)]\n",
      "[('own_rec', 0.2651196519216824)]\n",
      "[('own_rec', 0.012521364754365551)]\n",
      "test precision@50, recall@50, precision@5, recall@5\n",
      "[('own_rec', 0.04977519941986948)]\n",
      "[('own_rec', 0.05756443529708667)]\n",
      "[('own_rec', 0.13604060913705585)]\n",
      "[('own_rec', 0.018287982794336743)]\n",
      "10 1 6000\n"
     ]
    },
    {
     "data": {
      "application/vnd.jupyter.widget-view+json": {
       "model_id": "bcb7c97749cb4225bde83d2c64f9610b",
       "version_major": 2,
       "version_minor": 0
      },
      "text/plain": [
       "HBox(children=(HTML(value=''), FloatProgress(value=0.0, max=15.0), HTML(value='')))"
      ]
     },
     "metadata": {},
     "output_type": "display_data"
    },
    {
     "name": "stdout",
     "output_type": "stream",
     "text": [
      "\n"
     ]
    },
    {
     "data": {
      "application/vnd.jupyter.widget-view+json": {
       "model_id": "fc861f980fd745909ebbdea66a0050f4",
       "version_major": 2,
       "version_minor": 0
      },
      "text/plain": [
       "HBox(children=(HTML(value=''), FloatProgress(value=0.0, max=5996.0), HTML(value='')))"
      ]
     },
     "metadata": {},
     "output_type": "display_data"
    },
    {
     "name": "stdout",
     "output_type": "stream",
     "text": [
      "\n",
      "train precision@50, recall@50, precision@5, recall@5\n",
      "[('own_rec', 0.10613488034807833)]\n",
      "[('own_rec', 0.04693696209140185)]\n",
      "[('own_rec', 0.25279187817258886)]\n",
      "[('own_rec', 0.012204061638421745)]\n",
      "test precision@50, recall@50, precision@5, recall@5\n",
      "[('own_rec', 0.04620739666424945)]\n",
      "[('own_rec', 0.053078533083100614)]\n",
      "[('own_rec', 0.12893401015228428)]\n",
      "[('own_rec', 0.016775575533838336)]\n",
      "10 2 500\n"
     ]
    },
    {
     "data": {
      "application/vnd.jupyter.widget-view+json": {
       "model_id": "99c4084a45724968b917e7d27d1f71cc",
       "version_major": 2,
       "version_minor": 0
      },
      "text/plain": [
       "HBox(children=(HTML(value=''), FloatProgress(value=0.0, max=15.0), HTML(value='')))"
      ]
     },
     "metadata": {},
     "output_type": "display_data"
    },
    {
     "name": "stdout",
     "output_type": "stream",
     "text": [
      "\n"
     ]
    },
    {
     "data": {
      "application/vnd.jupyter.widget-view+json": {
       "model_id": "9ae7ec7fe681433e9182d1f1f9d12b29",
       "version_major": 2,
       "version_minor": 0
      },
      "text/plain": [
       "HBox(children=(HTML(value=''), FloatProgress(value=0.0, max=501.0), HTML(value='')))"
      ]
     },
     "metadata": {},
     "output_type": "display_data"
    },
    {
     "name": "stdout",
     "output_type": "stream",
     "text": [
      "\n",
      "train precision@50, recall@50, precision@5, recall@5\n",
      "[('own_rec', 0.1488034807831762)]\n",
      "[('own_rec', 0.060423352793993065)]\n",
      "[('own_rec', 0.3627266134880348)]\n",
      "[('own_rec', 0.01677127726543496)]\n",
      "test precision@50, recall@50, precision@5, recall@5\n",
      "[('own_rec', 0.06510514865844814)]\n",
      "[('own_rec', 0.06967380763037963)]\n",
      "[('own_rec', 0.1899927483683829)]\n",
      "[('own_rec', 0.02374691644180929)]\n",
      "10 2 1000\n"
     ]
    },
    {
     "data": {
      "application/vnd.jupyter.widget-view+json": {
       "model_id": "2c95c102b4784db582d15699bde61acc",
       "version_major": 2,
       "version_minor": 0
      },
      "text/plain": [
       "HBox(children=(HTML(value=''), FloatProgress(value=0.0, max=15.0), HTML(value='')))"
      ]
     },
     "metadata": {},
     "output_type": "display_data"
    },
    {
     "name": "stdout",
     "output_type": "stream",
     "text": [
      "\n"
     ]
    },
    {
     "data": {
      "application/vnd.jupyter.widget-view+json": {
       "model_id": "661ec263a0ae4487ace80b29abcb71ba",
       "version_major": 2,
       "version_minor": 0
      },
      "text/plain": [
       "HBox(children=(HTML(value=''), FloatProgress(value=0.0, max=1001.0), HTML(value='')))"
      ]
     },
     "metadata": {},
     "output_type": "display_data"
    },
    {
     "name": "stdout",
     "output_type": "stream",
     "text": [
      "\n",
      "train precision@50, recall@50, precision@5, recall@5\n",
      "[('own_rec', 0.15070340826686007)]\n",
      "[('own_rec', 0.06266537811722846)]\n",
      "[('own_rec', 0.33401015228426395)]\n",
      "[('own_rec', 0.015611639091621938)]\n",
      "test precision@50, recall@50, precision@5, recall@5\n",
      "[('own_rec', 0.06538071065989849)]\n",
      "[('own_rec', 0.07209513480358777)]\n",
      "[('own_rec', 0.1727338651196519)]\n",
      "[('own_rec', 0.022045360307623007)]\n",
      "10 2 2000\n"
     ]
    },
    {
     "data": {
      "application/vnd.jupyter.widget-view+json": {
       "model_id": "13156d5273bd4d4a9b612d8f62185685",
       "version_major": 2,
       "version_minor": 0
      },
      "text/plain": [
       "HBox(children=(HTML(value=''), FloatProgress(value=0.0, max=15.0), HTML(value='')))"
      ]
     },
     "metadata": {},
     "output_type": "display_data"
    },
    {
     "name": "stdout",
     "output_type": "stream",
     "text": [
      "\n"
     ]
    },
    {
     "data": {
      "application/vnd.jupyter.widget-view+json": {
       "model_id": "3ef2e9d65d3c441d855993688e9ebc37",
       "version_major": 2,
       "version_minor": 0
      },
      "text/plain": [
       "HBox(children=(HTML(value=''), FloatProgress(value=0.0, max=2001.0), HTML(value='')))"
      ]
     },
     "metadata": {},
     "output_type": "display_data"
    },
    {
     "name": "stdout",
     "output_type": "stream",
     "text": [
      "\n",
      "train precision@50, recall@50, precision@5, recall@5\n",
      "[('own_rec', 0.14324873096446702)]\n",
      "[('own_rec', 0.061115583267840626)]\n",
      "[('own_rec', 0.3145757795503989)]\n",
      "[('own_rec', 0.01523817888686527)]\n",
      "test precision@50, recall@50, precision@5, recall@5\n",
      "[('own_rec', 0.061725888324873086)]\n",
      "[('own_rec', 0.06800217537371832)]\n",
      "[('own_rec', 0.15997099347353155)]\n",
      "[('own_rec', 0.020475685063203346)]\n",
      "10 2 3000\n"
     ]
    },
    {
     "data": {
      "application/vnd.jupyter.widget-view+json": {
       "model_id": "af63c4aa18f14c37afb436e7cf3ff057",
       "version_major": 2,
       "version_minor": 0
      },
      "text/plain": [
       "HBox(children=(HTML(value=''), FloatProgress(value=0.0, max=15.0), HTML(value='')))"
      ]
     },
     "metadata": {},
     "output_type": "display_data"
    },
    {
     "name": "stdout",
     "output_type": "stream",
     "text": [
      "\n"
     ]
    },
    {
     "data": {
      "application/vnd.jupyter.widget-view+json": {
       "model_id": "863d93b5a8c0452397d0a5615ceb6e18",
       "version_major": 2,
       "version_minor": 0
      },
      "text/plain": [
       "HBox(children=(HTML(value=''), FloatProgress(value=0.0, max=3001.0), HTML(value='')))"
      ]
     },
     "metadata": {},
     "output_type": "display_data"
    },
    {
     "name": "stdout",
     "output_type": "stream",
     "text": [
      "\n",
      "train precision@50, recall@50, precision@5, recall@5\n",
      "[('own_rec', 0.13502538071065992)]\n",
      "[('own_rec', 0.05808013033124878)]\n",
      "[('own_rec', 0.30311820159535896)]\n",
      "[('own_rec', 0.014636673220679745)]\n",
      "test precision@50, recall@50, precision@5, recall@5\n",
      "[('own_rec', 0.05786802030456853)]\n",
      "[('own_rec', 0.06561763206008937)]\n",
      "[('own_rec', 0.14996374184191444)]\n",
      "[('own_rec', 0.020277836365768086)]\n",
      "10 2 4000\n"
     ]
    },
    {
     "data": {
      "application/vnd.jupyter.widget-view+json": {
       "model_id": "c251ecda223e4db996b7a31396d269a1",
       "version_major": 2,
       "version_minor": 0
      },
      "text/plain": [
       "HBox(children=(HTML(value=''), FloatProgress(value=0.0, max=15.0), HTML(value='')))"
      ]
     },
     "metadata": {},
     "output_type": "display_data"
    },
    {
     "name": "stdout",
     "output_type": "stream",
     "text": [
      "\n"
     ]
    },
    {
     "data": {
      "application/vnd.jupyter.widget-view+json": {
       "model_id": "3adac4d326f449f8b0a5497af45af060",
       "version_major": 2,
       "version_minor": 0
      },
      "text/plain": [
       "HBox(children=(HTML(value=''), FloatProgress(value=0.0, max=3999.0), HTML(value='')))"
      ]
     },
     "metadata": {},
     "output_type": "display_data"
    },
    {
     "name": "stdout",
     "output_type": "stream",
     "text": [
      "\n",
      "train precision@50, recall@50, precision@5, recall@5\n",
      "[('own_rec', 0.12538071065989845)]\n",
      "[('own_rec', 0.053777038005657286)]\n",
      "[('own_rec', 0.2865844815083394)]\n",
      "[('own_rec', 0.01377465770141973)]\n",
      "test precision@50, recall@50, precision@5, recall@5\n",
      "[('own_rec', 0.05354604786076868)]\n",
      "[('own_rec', 0.061392524657022614)]\n",
      "[('own_rec', 0.14358230601885424)]\n",
      "[('own_rec', 0.019433439785998412)]\n",
      "10 2 5000\n"
     ]
    },
    {
     "data": {
      "application/vnd.jupyter.widget-view+json": {
       "model_id": "cb423a1eba70495fa57d2e784635ff76",
       "version_major": 2,
       "version_minor": 0
      },
      "text/plain": [
       "HBox(children=(HTML(value=''), FloatProgress(value=0.0, max=15.0), HTML(value='')))"
      ]
     },
     "metadata": {},
     "output_type": "display_data"
    },
    {
     "name": "stdout",
     "output_type": "stream",
     "text": [
      "\n"
     ]
    },
    {
     "data": {
      "application/vnd.jupyter.widget-view+json": {
       "model_id": "649e7556674241edb423d3dcece9ec82",
       "version_major": 2,
       "version_minor": 0
      },
      "text/plain": [
       "HBox(children=(HTML(value=''), FloatProgress(value=0.0, max=4998.0), HTML(value='')))"
      ]
     },
     "metadata": {},
     "output_type": "display_data"
    },
    {
     "name": "stdout",
     "output_type": "stream",
     "text": [
      "\n",
      "train precision@50, recall@50, precision@5, recall@5\n",
      "[('own_rec', 0.11386511965192167)]\n",
      "[('own_rec', 0.04925765208554462)]\n",
      "[('own_rec', 0.2642494561276287)]\n",
      "[('own_rec', 0.012439336005785133)]\n",
      "test precision@50, recall@50, precision@5, recall@5\n",
      "[('own_rec', 0.048992023205221176)]\n",
      "[('own_rec', 0.05637868825307667)]\n",
      "[('own_rec', 0.13357505438723713)]\n",
      "[('own_rec', 0.017937183516162327)]\n",
      "10 2 6000\n"
     ]
    },
    {
     "data": {
      "application/vnd.jupyter.widget-view+json": {
       "model_id": "68a530b6befc424dbeecc39402d136aa",
       "version_major": 2,
       "version_minor": 0
      },
      "text/plain": [
       "HBox(children=(HTML(value=''), FloatProgress(value=0.0, max=15.0), HTML(value='')))"
      ]
     },
     "metadata": {},
     "output_type": "display_data"
    },
    {
     "name": "stdout",
     "output_type": "stream",
     "text": [
      "\n"
     ]
    },
    {
     "data": {
      "application/vnd.jupyter.widget-view+json": {
       "model_id": "8dd2b7b649794810b9f710b9ce3f103c",
       "version_major": 2,
       "version_minor": 0
      },
      "text/plain": [
       "HBox(children=(HTML(value=''), FloatProgress(value=0.0, max=5996.0), HTML(value='')))"
      ]
     },
     "metadata": {},
     "output_type": "display_data"
    },
    {
     "name": "stdout",
     "output_type": "stream",
     "text": [
      "\n",
      "train precision@50, recall@50, precision@5, recall@5\n",
      "[('own_rec', 0.10532269760696157)]\n",
      "[('own_rec', 0.04620652769666878)]\n",
      "[('own_rec', 0.25206671501087746)]\n",
      "[('own_rec', 0.012022860366503612)]\n",
      "test precision@50, recall@50, precision@5, recall@5\n",
      "[('own_rec', 0.045235678027556195)]\n",
      "[('own_rec', 0.05191478366682174)]\n",
      "[('own_rec', 0.12661348803480785)]\n",
      "[('own_rec', 0.01660157983251831)]\n",
      "10 3 500\n"
     ]
    },
    {
     "data": {
      "application/vnd.jupyter.widget-view+json": {
       "model_id": "83c34250366b40d38a9065a304eaa342",
       "version_major": 2,
       "version_minor": 0
      },
      "text/plain": [
       "HBox(children=(HTML(value=''), FloatProgress(value=0.0, max=15.0), HTML(value='')))"
      ]
     },
     "metadata": {},
     "output_type": "display_data"
    },
    {
     "name": "stdout",
     "output_type": "stream",
     "text": [
      "\n"
     ]
    },
    {
     "data": {
      "application/vnd.jupyter.widget-view+json": {
       "model_id": "2938a7d36fd7470e9d886d8c634f0944",
       "version_major": 2,
       "version_minor": 0
      },
      "text/plain": [
       "HBox(children=(HTML(value=''), FloatProgress(value=0.0, max=501.0), HTML(value='')))"
      ]
     },
     "metadata": {},
     "output_type": "display_data"
    },
    {
     "name": "stdout",
     "output_type": "stream",
     "text": [
      "\n",
      "train precision@50, recall@50, precision@5, recall@5\n",
      "[('own_rec', 0.14619289340101524)]\n",
      "[('own_rec', 0.06074709703742901)]\n",
      "[('own_rec', 0.3562001450326323)]\n",
      "[('own_rec', 0.016678920472218025)]\n",
      "test precision@50, recall@50, precision@5, recall@5\n",
      "[('own_rec', 0.06485859318346629)]\n",
      "[('own_rec', 0.06956944183523166)]\n",
      "[('own_rec', 0.18825235678027558)]\n",
      "[('own_rec', 0.0235998517742053)]\n",
      "10 3 1000\n"
     ]
    },
    {
     "data": {
      "application/vnd.jupyter.widget-view+json": {
       "model_id": "732a3a78faf94fc08f8113f1a61b0cc1",
       "version_major": 2,
       "version_minor": 0
      },
      "text/plain": [
       "HBox(children=(HTML(value=''), FloatProgress(value=0.0, max=15.0), HTML(value='')))"
      ]
     },
     "metadata": {},
     "output_type": "display_data"
    },
    {
     "name": "stdout",
     "output_type": "stream",
     "text": [
      "\n"
     ]
    },
    {
     "data": {
      "application/vnd.jupyter.widget-view+json": {
       "model_id": "3e3342188081419b81d3005c980582a5",
       "version_major": 2,
       "version_minor": 0
      },
      "text/plain": [
       "HBox(children=(HTML(value=''), FloatProgress(value=0.0, max=1001.0), HTML(value='')))"
      ]
     },
     "metadata": {},
     "output_type": "display_data"
    },
    {
     "name": "stdout",
     "output_type": "stream",
     "text": [
      "\n",
      "train precision@50, recall@50, precision@5, recall@5\n",
      "[('own_rec', 0.14833937635968092)]\n",
      "[('own_rec', 0.06339648624342066)]\n",
      "[('own_rec', 0.3308194343727339)]\n",
      "[('own_rec', 0.01589603475383096)]\n",
      "test precision@50, recall@50, precision@5, recall@5\n",
      "[('own_rec', 0.06474256707759246)]\n",
      "[('own_rec', 0.07119172429962517)]\n",
      "[('own_rec', 0.1695431472081218)]\n",
      "[('own_rec', 0.021771854308876664)]\n",
      "10 3 2000\n"
     ]
    },
    {
     "data": {
      "application/vnd.jupyter.widget-view+json": {
       "model_id": "2686d429bdd54d5faf72a32654d083a3",
       "version_major": 2,
       "version_minor": 0
      },
      "text/plain": [
       "HBox(children=(HTML(value=''), FloatProgress(value=0.0, max=15.0), HTML(value='')))"
      ]
     },
     "metadata": {},
     "output_type": "display_data"
    },
    {
     "name": "stdout",
     "output_type": "stream",
     "text": [
      "\n"
     ]
    },
    {
     "data": {
      "application/vnd.jupyter.widget-view+json": {
       "model_id": "4e0f9e33076b4d10b9549c56253508fc",
       "version_major": 2,
       "version_minor": 0
      },
      "text/plain": [
       "HBox(children=(HTML(value=''), FloatProgress(value=0.0, max=2001.0), HTML(value='')))"
      ]
     },
     "metadata": {},
     "output_type": "display_data"
    },
    {
     "name": "stdout",
     "output_type": "stream",
     "text": [
      "\n",
      "train precision@50, recall@50, precision@5, recall@5\n",
      "[('own_rec', 0.14159535895576503)]\n",
      "[('own_rec', 0.061470039885774805)]\n",
      "[('own_rec', 0.3118201595358956)]\n",
      "[('own_rec', 0.015266720108145974)]\n",
      "test precision@50, recall@50, precision@5, recall@5\n",
      "[('own_rec', 0.061377810007251635)]\n",
      "[('own_rec', 0.06787808372048725)]\n",
      "[('own_rec', 0.1602610587382161)]\n",
      "[('own_rec', 0.020775942279582838)]\n",
      "10 3 3000\n"
     ]
    },
    {
     "data": {
      "application/vnd.jupyter.widget-view+json": {
       "model_id": "2b93ec09d22f46e48003dd4bf5cb4c22",
       "version_major": 2,
       "version_minor": 0
      },
      "text/plain": [
       "HBox(children=(HTML(value=''), FloatProgress(value=0.0, max=15.0), HTML(value='')))"
      ]
     },
     "metadata": {},
     "output_type": "display_data"
    },
    {
     "name": "stdout",
     "output_type": "stream",
     "text": [
      "\n"
     ]
    },
    {
     "data": {
      "application/vnd.jupyter.widget-view+json": {
       "model_id": "c3454e2d74e8440d9daf52e1f63e38e4",
       "version_major": 2,
       "version_minor": 0
      },
      "text/plain": [
       "HBox(children=(HTML(value=''), FloatProgress(value=0.0, max=3001.0), HTML(value='')))"
      ]
     },
     "metadata": {},
     "output_type": "display_data"
    },
    {
     "name": "stdout",
     "output_type": "stream",
     "text": [
      "\n",
      "train precision@50, recall@50, precision@5, recall@5\n",
      "[('own_rec', 0.1336620739666425)]\n",
      "[('own_rec', 0.0585807117656456)]\n",
      "[('own_rec', 0.29949238578680204)]\n",
      "[('own_rec', 0.014742187360787662)]\n",
      "test precision@50, recall@50, precision@5, recall@5\n",
      "[('own_rec', 0.0571718636693256)]\n",
      "[('own_rec', 0.0650539125480262)]\n",
      "[('own_rec', 0.15054387237128355)]\n",
      "[('own_rec', 0.02037193826393069)]\n",
      "10 3 4000\n"
     ]
    },
    {
     "data": {
      "application/vnd.jupyter.widget-view+json": {
       "model_id": "81116b536c8b4c809ded78b8cbc0ce99",
       "version_major": 2,
       "version_minor": 0
      },
      "text/plain": [
       "HBox(children=(HTML(value=''), FloatProgress(value=0.0, max=15.0), HTML(value='')))"
      ]
     },
     "metadata": {},
     "output_type": "display_data"
    },
    {
     "name": "stdout",
     "output_type": "stream",
     "text": [
      "\n"
     ]
    },
    {
     "data": {
      "application/vnd.jupyter.widget-view+json": {
       "model_id": "8af42307666b43d19a2862810e2aaf45",
       "version_major": 2,
       "version_minor": 0
      },
      "text/plain": [
       "HBox(children=(HTML(value=''), FloatProgress(value=0.0, max=4000.0), HTML(value='')))"
      ]
     },
     "metadata": {},
     "output_type": "display_data"
    },
    {
     "name": "stdout",
     "output_type": "stream",
     "text": [
      "\n",
      "train precision@50, recall@50, precision@5, recall@5\n",
      "[('own_rec', 0.12308919506889053)]\n",
      "[('own_rec', 0.05381906382859944)]\n",
      "[('own_rec', 0.28063814358230604)]\n",
      "[('own_rec', 0.013657097980607004)]\n",
      "test precision@50, recall@50, precision@5, recall@5\n",
      "[('own_rec', 0.052690355329949236)]\n",
      "[('own_rec', 0.06085260378061523)]\n",
      "[('own_rec', 0.1387962291515591)]\n",
      "[('own_rec', 0.019048864643910965)]\n",
      "10 3 5000\n"
     ]
    },
    {
     "data": {
      "application/vnd.jupyter.widget-view+json": {
       "model_id": "65ab93c062d24cfab0f50aa4fda91e56",
       "version_major": 2,
       "version_minor": 0
      },
      "text/plain": [
       "HBox(children=(HTML(value=''), FloatProgress(value=0.0, max=15.0), HTML(value='')))"
      ]
     },
     "metadata": {},
     "output_type": "display_data"
    },
    {
     "name": "stdout",
     "output_type": "stream",
     "text": [
      "\n"
     ]
    },
    {
     "data": {
      "application/vnd.jupyter.widget-view+json": {
       "model_id": "935ce82dd239448fa046bbadab81108e",
       "version_major": 2,
       "version_minor": 0
      },
      "text/plain": [
       "HBox(children=(HTML(value=''), FloatProgress(value=0.0, max=4998.0), HTML(value='')))"
      ]
     },
     "metadata": {},
     "output_type": "display_data"
    },
    {
     "name": "stdout",
     "output_type": "stream",
     "text": [
      "\n",
      "train precision@50, recall@50, precision@5, recall@5\n",
      "[('own_rec', 0.11263234227701234)]\n",
      "[('own_rec', 0.04953425023045732)]\n",
      "[('own_rec', 0.2629441624365482)]\n",
      "[('own_rec', 0.012684524486221021)]\n",
      "test precision@50, recall@50, precision@5, recall@5\n",
      "[('own_rec', 0.04802030456852792)]\n",
      "[('own_rec', 0.05554241153466824)]\n",
      "[('own_rec', 0.12965917331399562)]\n",
      "[('own_rec', 0.017573536241957125)]\n",
      "10 3 6000\n"
     ]
    },
    {
     "data": {
      "application/vnd.jupyter.widget-view+json": {
       "model_id": "30ae3db967834a708f8c5cabc2497715",
       "version_major": 2,
       "version_minor": 0
      },
      "text/plain": [
       "HBox(children=(HTML(value=''), FloatProgress(value=0.0, max=15.0), HTML(value='')))"
      ]
     },
     "metadata": {},
     "output_type": "display_data"
    },
    {
     "name": "stdout",
     "output_type": "stream",
     "text": [
      "\n"
     ]
    },
    {
     "data": {
      "application/vnd.jupyter.widget-view+json": {
       "model_id": "662359a57088454889adb62916e36171",
       "version_major": 2,
       "version_minor": 0
      },
      "text/plain": [
       "HBox(children=(HTML(value=''), FloatProgress(value=0.0, max=5996.0), HTML(value='')))"
      ]
     },
     "metadata": {},
     "output_type": "display_data"
    },
    {
     "name": "stdout",
     "output_type": "stream",
     "text": [
      "\n",
      "train precision@50, recall@50, precision@5, recall@5\n",
      "[('own_rec', 0.1046120377084844)]\n",
      "[('own_rec', 0.04673295570115627)]\n",
      "[('own_rec', 0.24974619289340105)]\n",
      "[('own_rec', 0.012141433674754508)]\n",
      "test precision@50, recall@50, precision@5, recall@5\n",
      "[('own_rec', 0.044394488759971)]\n",
      "[('own_rec', 0.05129243467139652)]\n",
      "[('own_rec', 0.12327773749093546)]\n",
      "[('own_rec', 0.016114883541138547)]\n",
      "10 4 500\n"
     ]
    },
    {
     "data": {
      "application/vnd.jupyter.widget-view+json": {
       "model_id": "9bc33fa2c6144e598ad4b7031956d5fc",
       "version_major": 2,
       "version_minor": 0
      },
      "text/plain": [
       "HBox(children=(HTML(value=''), FloatProgress(value=0.0, max=15.0), HTML(value='')))"
      ]
     },
     "metadata": {},
     "output_type": "display_data"
    },
    {
     "name": "stdout",
     "output_type": "stream",
     "text": [
      "\n"
     ]
    },
    {
     "data": {
      "application/vnd.jupyter.widget-view+json": {
       "model_id": "ec8f9ec8a4a842e48caa8b22d809524f",
       "version_major": 2,
       "version_minor": 0
      },
      "text/plain": [
       "HBox(children=(HTML(value=''), FloatProgress(value=0.0, max=501.0), HTML(value='')))"
      ]
     },
     "metadata": {},
     "output_type": "display_data"
    },
    {
     "name": "stdout",
     "output_type": "stream",
     "text": [
      "\n",
      "train precision@50, recall@50, precision@5, recall@5\n",
      "[('own_rec', 0.14677302393038433)]\n",
      "[('own_rec', 0.06019790365795523)]\n",
      "[('own_rec', 0.35562001450326325)]\n",
      "[('own_rec', 0.016541080855350526)]\n",
      "test precision@50, recall@50, precision@5, recall@5\n",
      "[('own_rec', 0.06485859318346629)]\n",
      "[('own_rec', 0.06986121340434617)]\n",
      "[('own_rec', 0.18709209572153734)]\n",
      "[('own_rec', 0.02367019691964053)]\n",
      "10 4 1000\n"
     ]
    },
    {
     "data": {
      "application/vnd.jupyter.widget-view+json": {
       "model_id": "9440897a4faa45eb8958eb54b4d2cecf",
       "version_major": 2,
       "version_minor": 0
      },
      "text/plain": [
       "HBox(children=(HTML(value=''), FloatProgress(value=0.0, max=15.0), HTML(value='')))"
      ]
     },
     "metadata": {},
     "output_type": "display_data"
    },
    {
     "name": "stdout",
     "output_type": "stream",
     "text": [
      "\n"
     ]
    },
    {
     "data": {
      "application/vnd.jupyter.widget-view+json": {
       "model_id": "2f51383e02c04a2086ef194d92f3a09b",
       "version_major": 2,
       "version_minor": 0
      },
      "text/plain": [
       "HBox(children=(HTML(value=''), FloatProgress(value=0.0, max=1001.0), HTML(value='')))"
      ]
     },
     "metadata": {},
     "output_type": "display_data"
    },
    {
     "name": "stdout",
     "output_type": "stream",
     "text": [
      "\n",
      "train precision@50, recall@50, precision@5, recall@5\n",
      "[('own_rec', 0.14831036983321247)]\n",
      "[('own_rec', 0.06269445048025361)]\n",
      "[('own_rec', 0.3300942712110225)]\n",
      "[('own_rec', 0.0160349148197152)]\n",
      "test precision@50, recall@50, precision@5, recall@5\n",
      "[('own_rec', 0.06445250181290792)]\n",
      "[('own_rec', 0.07105435198004237)]\n",
      "[('own_rec', 0.16707759245830314)]\n",
      "[('own_rec', 0.021570053723654014)]\n",
      "10 4 2000\n"
     ]
    },
    {
     "data": {
      "application/vnd.jupyter.widget-view+json": {
       "model_id": "44a7cb1ae7f44247abc364f27b213cab",
       "version_major": 2,
       "version_minor": 0
      },
      "text/plain": [
       "HBox(children=(HTML(value=''), FloatProgress(value=0.0, max=15.0), HTML(value='')))"
      ]
     },
     "metadata": {},
     "output_type": "display_data"
    },
    {
     "name": "stdout",
     "output_type": "stream",
     "text": [
      "\n"
     ]
    },
    {
     "data": {
      "application/vnd.jupyter.widget-view+json": {
       "model_id": "e9d04c09dfe3463bb882a00ecabc61af",
       "version_major": 2,
       "version_minor": 0
      },
      "text/plain": [
       "HBox(children=(HTML(value=''), FloatProgress(value=0.0, max=2001.0), HTML(value='')))"
      ]
     },
     "metadata": {},
     "output_type": "display_data"
    },
    {
     "name": "stdout",
     "output_type": "stream",
     "text": [
      "\n",
      "train precision@50, recall@50, precision@5, recall@5\n",
      "[('own_rec', 0.142291515591008)]\n",
      "[('own_rec', 0.06147762255677386)]\n",
      "[('own_rec', 0.31153009427121103)]\n",
      "[('own_rec', 0.015459909520384823)]\n",
      "test precision@50, recall@50, precision@5, recall@5\n",
      "[('own_rec', 0.06098622189992749)]\n",
      "[('own_rec', 0.0679072070021304)]\n",
      "[('own_rec', 0.15678027556200144)]\n",
      "[('own_rec', 0.020612985829756004)]\n",
      "10 4 3000\n"
     ]
    },
    {
     "data": {
      "application/vnd.jupyter.widget-view+json": {
       "model_id": "f7f22fbcdae34811be0ce9ae7152236a",
       "version_major": 2,
       "version_minor": 0
      },
      "text/plain": [
       "HBox(children=(HTML(value=''), FloatProgress(value=0.0, max=15.0), HTML(value='')))"
      ]
     },
     "metadata": {},
     "output_type": "display_data"
    },
    {
     "name": "stdout",
     "output_type": "stream",
     "text": [
      "\n"
     ]
    },
    {
     "data": {
      "application/vnd.jupyter.widget-view+json": {
       "model_id": "0aa751a30908489684d0d32a19934e1a",
       "version_major": 2,
       "version_minor": 0
      },
      "text/plain": [
       "HBox(children=(HTML(value=''), FloatProgress(value=0.0, max=3001.0), HTML(value='')))"
      ]
     },
     "metadata": {},
     "output_type": "display_data"
    },
    {
     "name": "stdout",
     "output_type": "stream",
     "text": [
      "\n",
      "train precision@50, recall@50, precision@5, recall@5\n",
      "[('own_rec', 0.13335750543872374)]\n",
      "[('own_rec', 0.058211799090585804)]\n",
      "[('own_rec', 0.3006526468455403)]\n",
      "[('own_rec', 0.014879148728112853)]\n",
      "test precision@50, recall@50, precision@5, recall@5\n",
      "[('own_rec', 0.05653372008701959)]\n",
      "[('own_rec', 0.06436271661810314)]\n",
      "[('own_rec', 0.14778825235678028)]\n",
      "[('own_rec', 0.0199866805775854)]\n",
      "10 4 4000\n"
     ]
    },
    {
     "data": {
      "application/vnd.jupyter.widget-view+json": {
       "model_id": "a831e29f509c4166a461a1f0579ea8e6",
       "version_major": 2,
       "version_minor": 0
      },
      "text/plain": [
       "HBox(children=(HTML(value=''), FloatProgress(value=0.0, max=15.0), HTML(value='')))"
      ]
     },
     "metadata": {},
     "output_type": "display_data"
    },
    {
     "name": "stdout",
     "output_type": "stream",
     "text": [
      "\n"
     ]
    },
    {
     "data": {
      "application/vnd.jupyter.widget-view+json": {
       "model_id": "5f525047cb3a48e3be23fe80878a01d6",
       "version_major": 2,
       "version_minor": 0
      },
      "text/plain": [
       "HBox(children=(HTML(value=''), FloatProgress(value=0.0, max=4000.0), HTML(value='')))"
      ]
     },
     "metadata": {},
     "output_type": "display_data"
    },
    {
     "name": "stdout",
     "output_type": "stream",
     "text": [
      "\n",
      "train precision@50, recall@50, precision@5, recall@5\n",
      "[('own_rec', 0.12359680928208847)]\n",
      "[('own_rec', 0.05407133628862798)]\n",
      "[('own_rec', 0.28049311094996376)]\n",
      "[('own_rec', 0.013878456627602415)]\n",
      "test precision@50, recall@50, precision@5, recall@5\n",
      "[('own_rec', 0.05200870195794054)]\n",
      "[('own_rec', 0.06022964563632744)]\n",
      "[('own_rec', 0.13792603335750542)]\n",
      "[('own_rec', 0.018742389729979828)]\n",
      "10 4 5000\n"
     ]
    },
    {
     "data": {
      "application/vnd.jupyter.widget-view+json": {
       "model_id": "0ebb73f431354baca3ced3a1cd8708c1",
       "version_major": 2,
       "version_minor": 0
      },
      "text/plain": [
       "HBox(children=(HTML(value=''), FloatProgress(value=0.0, max=15.0), HTML(value='')))"
      ]
     },
     "metadata": {},
     "output_type": "display_data"
    },
    {
     "name": "stdout",
     "output_type": "stream",
     "text": [
      "\n"
     ]
    },
    {
     "data": {
      "application/vnd.jupyter.widget-view+json": {
       "model_id": "48b76669f2bf4bac8ee0428505d52b1a",
       "version_major": 2,
       "version_minor": 0
      },
      "text/plain": [
       "HBox(children=(HTML(value=''), FloatProgress(value=0.0, max=4997.0), HTML(value='')))"
      ]
     },
     "metadata": {},
     "output_type": "display_data"
    },
    {
     "name": "stdout",
     "output_type": "stream",
     "text": [
      "\n",
      "train precision@50, recall@50, precision@5, recall@5\n",
      "[('own_rec', 0.11305293691080495)]\n",
      "[('own_rec', 0.049749887357241895)]\n",
      "[('own_rec', 0.26279912980420594)]\n",
      "[('own_rec', 0.012692702265474306)]\n",
      "test precision@50, recall@50, precision@5, recall@5\n",
      "[('own_rec', 0.047541696881798406)]\n",
      "[('own_rec', 0.05482864742169489)]\n",
      "[('own_rec', 0.12733865119651921)]\n",
      "[('own_rec', 0.01729568607874119)]\n",
      "10 4 6000\n"
     ]
    },
    {
     "data": {
      "application/vnd.jupyter.widget-view+json": {
       "model_id": "fe08251a99ae40f2b115eee6669bd228",
       "version_major": 2,
       "version_minor": 0
      },
      "text/plain": [
       "HBox(children=(HTML(value=''), FloatProgress(value=0.0, max=15.0), HTML(value='')))"
      ]
     },
     "metadata": {},
     "output_type": "display_data"
    },
    {
     "name": "stdout",
     "output_type": "stream",
     "text": [
      "\n"
     ]
    },
    {
     "data": {
      "application/vnd.jupyter.widget-view+json": {
       "model_id": "c35cf0f4cf06411c94e35bd3b7cfb18f",
       "version_major": 2,
       "version_minor": 0
      },
      "text/plain": [
       "HBox(children=(HTML(value=''), FloatProgress(value=0.0, max=5996.0), HTML(value='')))"
      ]
     },
     "metadata": {},
     "output_type": "display_data"
    },
    {
     "name": "stdout",
     "output_type": "stream",
     "text": [
      "\n",
      "train precision@50, recall@50, precision@5, recall@5\n",
      "[('own_rec', 0.10464104423495288)]\n",
      "[('own_rec', 0.046669959750702886)]\n",
      "[('own_rec', 0.24713560551124003)]\n",
      "[('own_rec', 0.011874873176260748)]\n",
      "test precision@50, recall@50, precision@5, recall@5\n",
      "[('own_rec', 0.043828861493836115)]\n",
      "[('own_rec', 0.050536039209040026)]\n",
      "[('own_rec', 0.12066715010877446)]\n",
      "[('own_rec', 0.015754675937736932)]\n",
      "10 5 500\n"
     ]
    },
    {
     "data": {
      "application/vnd.jupyter.widget-view+json": {
       "model_id": "adbcadfe16ea40f8b5d6e12880be6dfc",
       "version_major": 2,
       "version_minor": 0
      },
      "text/plain": [
       "HBox(children=(HTML(value=''), FloatProgress(value=0.0, max=15.0), HTML(value='')))"
      ]
     },
     "metadata": {},
     "output_type": "display_data"
    },
    {
     "name": "stdout",
     "output_type": "stream",
     "text": [
      "\n"
     ]
    },
    {
     "data": {
      "application/vnd.jupyter.widget-view+json": {
       "model_id": "4bde17820b99493dafcebcd65a6f52ec",
       "version_major": 2,
       "version_minor": 0
      },
      "text/plain": [
       "HBox(children=(HTML(value=''), FloatProgress(value=0.0, max=501.0), HTML(value='')))"
      ]
     },
     "metadata": {},
     "output_type": "display_data"
    },
    {
     "name": "stdout",
     "output_type": "stream",
     "text": [
      "\n",
      "train precision@50, recall@50, precision@5, recall@5\n",
      "[('own_rec', 0.14581580855692533)]\n",
      "[('own_rec', 0.060390133090519986)]\n",
      "[('own_rec', 0.35170413343002177)]\n",
      "[('own_rec', 0.016707628379634423)]\n",
      "test precision@50, recall@50, precision@5, recall@5\n",
      "[('own_rec', 0.06469905728788977)]\n",
      "[('own_rec', 0.06975596940624514)]\n",
      "[('own_rec', 0.1866569978245105)]\n",
      "[('own_rec', 0.023529882132928785)]\n",
      "10 5 1000\n"
     ]
    },
    {
     "data": {
      "application/vnd.jupyter.widget-view+json": {
       "model_id": "26fca548c51c453f99f332c5502d659c",
       "version_major": 2,
       "version_minor": 0
      },
      "text/plain": [
       "HBox(children=(HTML(value=''), FloatProgress(value=0.0, max=15.0), HTML(value='')))"
      ]
     },
     "metadata": {},
     "output_type": "display_data"
    },
    {
     "name": "stdout",
     "output_type": "stream",
     "text": [
      "\n"
     ]
    },
    {
     "data": {
      "application/vnd.jupyter.widget-view+json": {
       "model_id": "3a546a6c27a14fd89b6e1162dc482218",
       "version_major": 2,
       "version_minor": 0
      },
      "text/plain": [
       "HBox(children=(HTML(value=''), FloatProgress(value=0.0, max=1001.0), HTML(value='')))"
      ]
     },
     "metadata": {},
     "output_type": "display_data"
    },
    {
     "name": "stdout",
     "output_type": "stream",
     "text": [
      "\n",
      "train precision@50, recall@50, precision@5, recall@5\n",
      "[('own_rec', 0.14723712835387961)]\n",
      "[('own_rec', 0.06279991487526802)]\n",
      "[('own_rec', 0.3306744017403916)]\n",
      "[('own_rec', 0.016341692888182116)]\n",
      "test precision@50, recall@50, precision@5, recall@5\n",
      "[('own_rec', 0.06407541696881798)]\n",
      "[('own_rec', 0.07066914900862271)]\n",
      "[('own_rec', 0.16678752719361856)]\n",
      "[('own_rec', 0.021554788726629675)]\n",
      "10 5 2000\n"
     ]
    },
    {
     "data": {
      "application/vnd.jupyter.widget-view+json": {
       "model_id": "5aa7baea58344d2f8ec3688a14105cae",
       "version_major": 2,
       "version_minor": 0
      },
      "text/plain": [
       "HBox(children=(HTML(value=''), FloatProgress(value=0.0, max=15.0), HTML(value='')))"
      ]
     },
     "metadata": {},
     "output_type": "display_data"
    },
    {
     "name": "stdout",
     "output_type": "stream",
     "text": [
      "\n"
     ]
    },
    {
     "data": {
      "application/vnd.jupyter.widget-view+json": {
       "model_id": "f9d0dc93382c4a51842c59283a9289fe",
       "version_major": 2,
       "version_minor": 0
      },
      "text/plain": [
       "HBox(children=(HTML(value=''), FloatProgress(value=0.0, max=2001.0), HTML(value='')))"
      ]
     },
     "metadata": {},
     "output_type": "display_data"
    },
    {
     "name": "stdout",
     "output_type": "stream",
     "text": [
      "\n",
      "train precision@50, recall@50, precision@5, recall@5\n",
      "[('own_rec', 0.14085569253081945)]\n",
      "[('own_rec', 0.06191094744131031)]\n",
      "[('own_rec', 0.31138506163886875)]\n",
      "[('own_rec', 0.015874664611303203)]\n",
      "test precision@50, recall@50, precision@5, recall@5\n",
      "[('own_rec', 0.060681653372008704)]\n",
      "[('own_rec', 0.06802702097329691)]\n",
      "[('own_rec', 0.15692530819434372)]\n",
      "[('own_rec', 0.020635272575020548)]\n",
      "10 5 3000\n"
     ]
    },
    {
     "data": {
      "application/vnd.jupyter.widget-view+json": {
       "model_id": "66b6142e9fff490bbdc5bd3c7b2b4c9e",
       "version_major": 2,
       "version_minor": 0
      },
      "text/plain": [
       "HBox(children=(HTML(value=''), FloatProgress(value=0.0, max=15.0), HTML(value='')))"
      ]
     },
     "metadata": {},
     "output_type": "display_data"
    },
    {
     "name": "stdout",
     "output_type": "stream",
     "text": [
      "\n"
     ]
    },
    {
     "data": {
      "application/vnd.jupyter.widget-view+json": {
       "model_id": "844bd18189e046c28af04e217adcfe84",
       "version_major": 2,
       "version_minor": 0
      },
      "text/plain": [
       "HBox(children=(HTML(value=''), FloatProgress(value=0.0, max=3001.0), HTML(value='')))"
      ]
     },
     "metadata": {},
     "output_type": "display_data"
    },
    {
     "name": "stdout",
     "output_type": "stream",
     "text": [
      "\n",
      "train precision@50, recall@50, precision@5, recall@5\n",
      "[('own_rec', 0.1313560551124003)]\n",
      "[('own_rec', 0.058284322065017984)]\n",
      "[('own_rec', 0.30123277737490933)]\n",
      "[('own_rec', 0.015410207449689814)]\n",
      "test precision@50, recall@50, precision@5, recall@5\n",
      "[('own_rec', 0.05573604060913707)]\n",
      "[('own_rec', 0.06379812591574839)]\n",
      "[('own_rec', 0.14604786076867296)]\n",
      "[('own_rec', 0.01973097158435143)]\n",
      "10 5 4000\n"
     ]
    },
    {
     "data": {
      "application/vnd.jupyter.widget-view+json": {
       "model_id": "87dc018ea9ab4933a4923a543977013e",
       "version_major": 2,
       "version_minor": 0
      },
      "text/plain": [
       "HBox(children=(HTML(value=''), FloatProgress(value=0.0, max=15.0), HTML(value='')))"
      ]
     },
     "metadata": {},
     "output_type": "display_data"
    },
    {
     "name": "stdout",
     "output_type": "stream",
     "text": [
      "\n"
     ]
    },
    {
     "data": {
      "application/vnd.jupyter.widget-view+json": {
       "model_id": "2a6bc39715b8430c96555af882abde8b",
       "version_major": 2,
       "version_minor": 0
      },
      "text/plain": [
       "HBox(children=(HTML(value=''), FloatProgress(value=0.0, max=4000.0), HTML(value='')))"
      ]
     },
     "metadata": {},
     "output_type": "display_data"
    },
    {
     "name": "stdout",
     "output_type": "stream",
     "text": [
      "\n",
      "train precision@50, recall@50, precision@5, recall@5\n",
      "[('own_rec', 0.1228281363306744)]\n",
      "[('own_rec', 0.054600449156466946)]\n",
      "[('own_rec', 0.28150833937635966)]\n",
      "[('own_rec', 0.014281361081024053)]\n",
      "test precision@50, recall@50, precision@5, recall@5\n",
      "[('own_rec', 0.0514720812182741)]\n",
      "[('own_rec', 0.05945830093885553)]\n",
      "[('own_rec', 0.13749093546047864)]\n",
      "[('own_rec', 0.019083548052154727)]\n",
      "10 5 5000\n"
     ]
    },
    {
     "data": {
      "application/vnd.jupyter.widget-view+json": {
       "model_id": "f2b420771f3544919e6567fcd9cd2758",
       "version_major": 2,
       "version_minor": 0
      },
      "text/plain": [
       "HBox(children=(HTML(value=''), FloatProgress(value=0.0, max=15.0), HTML(value='')))"
      ]
     },
     "metadata": {},
     "output_type": "display_data"
    },
    {
     "name": "stdout",
     "output_type": "stream",
     "text": [
      "\n"
     ]
    },
    {
     "data": {
      "application/vnd.jupyter.widget-view+json": {
       "model_id": "725fd8c65ecb4498b386480a2d65ff7c",
       "version_major": 2,
       "version_minor": 0
      },
      "text/plain": [
       "HBox(children=(HTML(value=''), FloatProgress(value=0.0, max=4997.0), HTML(value='')))"
      ]
     },
     "metadata": {},
     "output_type": "display_data"
    },
    {
     "name": "stdout",
     "output_type": "stream",
     "text": [
      "\n",
      "train precision@50, recall@50, precision@5, recall@5\n",
      "[('own_rec', 0.11231327048585932)]\n",
      "[('own_rec', 0.050202872010546996)]\n",
      "[('own_rec', 0.25975344452501814)]\n",
      "[('own_rec', 0.012850474660460132)]\n",
      "test precision@50, recall@50, precision@5, recall@5\n",
      "[('own_rec', 0.04662799129804207)]\n",
      "[('own_rec', 0.05378689401497369)]\n",
      "[('own_rec', 0.12588832487309645)]\n",
      "[('own_rec', 0.017084253582466086)]\n",
      "10 5 6000\n"
     ]
    },
    {
     "data": {
      "application/vnd.jupyter.widget-view+json": {
       "model_id": "b82db1c4a705416194bca12025a6eb4b",
       "version_major": 2,
       "version_minor": 0
      },
      "text/plain": [
       "HBox(children=(HTML(value=''), FloatProgress(value=0.0, max=15.0), HTML(value='')))"
      ]
     },
     "metadata": {},
     "output_type": "display_data"
    },
    {
     "name": "stdout",
     "output_type": "stream",
     "text": [
      "\n"
     ]
    },
    {
     "data": {
      "application/vnd.jupyter.widget-view+json": {
       "model_id": "d9ac8eb0ed1a4e5ea8aa03dc73ec4441",
       "version_major": 2,
       "version_minor": 0
      },
      "text/plain": [
       "HBox(children=(HTML(value=''), FloatProgress(value=0.0, max=5996.0), HTML(value='')))"
      ]
     },
     "metadata": {},
     "output_type": "display_data"
    },
    {
     "name": "stdout",
     "output_type": "stream",
     "text": [
      "\n",
      "train precision@50, recall@50, precision@5, recall@5\n",
      "[('own_rec', 0.10413343002175492)]\n",
      "[('own_rec', 0.04737427166484028)]\n",
      "[('own_rec', 0.24568527918781727)]\n",
      "[('own_rec', 0.01202473441678781)]\n",
      "test precision@50, recall@50, precision@5, recall@5\n",
      "[('own_rec', 0.04346627991298043)]\n",
      "[('own_rec', 0.050460074685355266)]\n",
      "[('own_rec', 0.1199419869470631)]\n",
      "[('own_rec', 0.015909114872342162)]\n",
      "10 6 500\n"
     ]
    },
    {
     "data": {
      "application/vnd.jupyter.widget-view+json": {
       "model_id": "0584e184cebc4faca23c10ca3a2e28c9",
       "version_major": 2,
       "version_minor": 0
      },
      "text/plain": [
       "HBox(children=(HTML(value=''), FloatProgress(value=0.0, max=15.0), HTML(value='')))"
      ]
     },
     "metadata": {},
     "output_type": "display_data"
    },
    {
     "name": "stdout",
     "output_type": "stream",
     "text": [
      "\n"
     ]
    },
    {
     "data": {
      "application/vnd.jupyter.widget-view+json": {
       "model_id": "69063013a1314e39ab6fcc9487b130b3",
       "version_major": 2,
       "version_minor": 0
      },
      "text/plain": [
       "HBox(children=(HTML(value=''), FloatProgress(value=0.0, max=501.0), HTML(value='')))"
      ]
     },
     "metadata": {},
     "output_type": "display_data"
    },
    {
     "name": "stdout",
     "output_type": "stream",
     "text": [
      "\n",
      "train precision@50, recall@50, precision@5, recall@5\n",
      "[('own_rec', 0.14294416243654823)]\n",
      "[('own_rec', 0.05988047810760789)]\n",
      "[('own_rec', 0.3499637418419144)]\n",
      "[('own_rec', 0.016889953880745313)]\n",
      "test precision@50, recall@50, precision@5, recall@5\n",
      "[('own_rec', 0.06432197244379986)]\n",
      "[('own_rec', 0.06944907437072555)]\n",
      "[('own_rec', 0.18433647570703407)]\n",
      "[('own_rec', 0.0232589530672509)]\n",
      "10 6 1000\n"
     ]
    },
    {
     "data": {
      "application/vnd.jupyter.widget-view+json": {
       "model_id": "7246aef92b5f4bdf8fc044d2982f961a",
       "version_major": 2,
       "version_minor": 0
      },
      "text/plain": [
       "HBox(children=(HTML(value=''), FloatProgress(value=0.0, max=15.0), HTML(value='')))"
      ]
     },
     "metadata": {},
     "output_type": "display_data"
    },
    {
     "name": "stdout",
     "output_type": "stream",
     "text": [
      "\n"
     ]
    },
    {
     "data": {
      "application/vnd.jupyter.widget-view+json": {
       "model_id": "a4060a6b843640a8b8f8e3a0eb7aad31",
       "version_major": 2,
       "version_minor": 0
      },
      "text/plain": [
       "HBox(children=(HTML(value=''), FloatProgress(value=0.0, max=1001.0), HTML(value='')))"
      ]
     },
     "metadata": {},
     "output_type": "display_data"
    },
    {
     "name": "stdout",
     "output_type": "stream",
     "text": [
      "\n",
      "train precision@50, recall@50, precision@5, recall@5\n",
      "[('own_rec', 0.14607686729514144)]\n",
      "[('own_rec', 0.06308104244748049)]\n",
      "[('own_rec', 0.32806381435823057)]\n",
      "[('own_rec', 0.016389692426062398)]\n",
      "test precision@50, recall@50, precision@5, recall@5\n",
      "[('own_rec', 0.06346627991298043)]\n",
      "[('own_rec', 0.0700724785143355)]\n",
      "[('own_rec', 0.1640319071791153)]\n",
      "[('own_rec', 0.021119701428292094)]\n",
      "10 6 2000\n"
     ]
    },
    {
     "data": {
      "application/vnd.jupyter.widget-view+json": {
       "model_id": "90c43bdbd1554060bae4741e3e51a635",
       "version_major": 2,
       "version_minor": 0
      },
      "text/plain": [
       "HBox(children=(HTML(value=''), FloatProgress(value=0.0, max=15.0), HTML(value='')))"
      ]
     },
     "metadata": {},
     "output_type": "display_data"
    },
    {
     "name": "stdout",
     "output_type": "stream",
     "text": [
      "\n"
     ]
    },
    {
     "data": {
      "application/vnd.jupyter.widget-view+json": {
       "model_id": "bc6b87d60520429cb375165917720b96",
       "version_major": 2,
       "version_minor": 0
      },
      "text/plain": [
       "HBox(children=(HTML(value=''), FloatProgress(value=0.0, max=2001.0), HTML(value='')))"
      ]
     },
     "metadata": {},
     "output_type": "display_data"
    },
    {
     "name": "stdout",
     "output_type": "stream",
     "text": [
      "\n",
      "train precision@50, recall@50, precision@5, recall@5\n",
      "[('own_rec', 0.1395213923132705)]\n",
      "[('own_rec', 0.062203075268567616)]\n",
      "[('own_rec', 0.3067440174039159)]\n",
      "[('own_rec', 0.01597084888302881)]\n",
      "test precision@50, recall@50, precision@5, recall@5\n",
      "[('own_rec', 0.06013052936910806)]\n",
      "[('own_rec', 0.06782819498723487)]\n",
      "[('own_rec', 0.15562001450326324)]\n",
      "[('own_rec', 0.02033990842590986)]\n",
      "10 6 3000\n"
     ]
    },
    {
     "data": {
      "application/vnd.jupyter.widget-view+json": {
       "model_id": "5b17a7145d8847ba8fe0e90b3308dd09",
       "version_major": 2,
       "version_minor": 0
      },
      "text/plain": [
       "HBox(children=(HTML(value=''), FloatProgress(value=0.0, max=15.0), HTML(value='')))"
      ]
     },
     "metadata": {},
     "output_type": "display_data"
    },
    {
     "name": "stdout",
     "output_type": "stream",
     "text": [
      "\n"
     ]
    },
    {
     "data": {
      "application/vnd.jupyter.widget-view+json": {
       "model_id": "d22569cdb53545579aa8c3fe5cb120c2",
       "version_major": 2,
       "version_minor": 0
      },
      "text/plain": [
       "HBox(children=(HTML(value=''), FloatProgress(value=0.0, max=3001.0), HTML(value='')))"
      ]
     },
     "metadata": {},
     "output_type": "display_data"
    },
    {
     "name": "stdout",
     "output_type": "stream",
     "text": [
      "\n",
      "train precision@50, recall@50, precision@5, recall@5\n",
      "[('own_rec', 0.12964467005076144)]\n",
      "[('own_rec', 0.05871389051299192)]\n",
      "[('own_rec', 0.2997824510514866)]\n",
      "[('own_rec', 0.015564488713896043)]\n",
      "test precision@50, recall@50, precision@5, recall@5\n",
      "[('own_rec', 0.05548948513415519)]\n",
      "[('own_rec', 0.06358330997934562)]\n",
      "[('own_rec', 0.14430746918056564)]\n",
      "[('own_rec', 0.019641693214138188)]\n",
      "10 6 4000\n"
     ]
    },
    {
     "data": {
      "application/vnd.jupyter.widget-view+json": {
       "model_id": "f10fa47872f547ecaf5e1f5a75a3b595",
       "version_major": 2,
       "version_minor": 0
      },
      "text/plain": [
       "HBox(children=(HTML(value=''), FloatProgress(value=0.0, max=15.0), HTML(value='')))"
      ]
     },
     "metadata": {},
     "output_type": "display_data"
    },
    {
     "name": "stdout",
     "output_type": "stream",
     "text": [
      "\n"
     ]
    },
    {
     "data": {
      "application/vnd.jupyter.widget-view+json": {
       "model_id": "85e9accf33474498bfaab95d40aa8ada",
       "version_major": 2,
       "version_minor": 0
      },
      "text/plain": [
       "HBox(children=(HTML(value=''), FloatProgress(value=0.0, max=4000.0), HTML(value='')))"
      ]
     },
     "metadata": {},
     "output_type": "display_data"
    },
    {
     "name": "stdout",
     "output_type": "stream",
     "text": [
      "\n",
      "train precision@50, recall@50, precision@5, recall@5\n",
      "[('own_rec', 0.12082668600435098)]\n",
      "[('own_rec', 0.054907104499468715)]\n",
      "[('own_rec', 0.27628716461203773)]\n",
      "[('own_rec', 0.014101458196601451)]\n",
      "test precision@50, recall@50, precision@5, recall@5\n",
      "[('own_rec', 0.05058738216098624)]\n",
      "[('own_rec', 0.058725621135234336)]\n",
      "[('own_rec', 0.13401015228426397)]\n",
      "[('own_rec', 0.01848339449309837)]\n",
      "10 6 5000\n"
     ]
    },
    {
     "data": {
      "application/vnd.jupyter.widget-view+json": {
       "model_id": "306b267f10ee49a0bd66c7a4fddb7dc8",
       "version_major": 2,
       "version_minor": 0
      },
      "text/plain": [
       "HBox(children=(HTML(value=''), FloatProgress(value=0.0, max=15.0), HTML(value='')))"
      ]
     },
     "metadata": {},
     "output_type": "display_data"
    },
    {
     "name": "stdout",
     "output_type": "stream",
     "text": [
      "\n"
     ]
    },
    {
     "data": {
      "application/vnd.jupyter.widget-view+json": {
       "model_id": "f3537a7c57414cc687361f1cfaed17f0",
       "version_major": 2,
       "version_minor": 0
      },
      "text/plain": [
       "HBox(children=(HTML(value=''), FloatProgress(value=0.0, max=4997.0), HTML(value='')))"
      ]
     },
     "metadata": {},
     "output_type": "display_data"
    },
    {
     "name": "stdout",
     "output_type": "stream",
     "text": [
      "\n",
      "train precision@50, recall@50, precision@5, recall@5\n",
      "[('own_rec', 0.11050036258158086)]\n",
      "[('own_rec', 0.050600384880243675)]\n",
      "[('own_rec', 0.2580130529369108)]\n",
      "[('own_rec', 0.012990773553738079)]\n",
      "test precision@50, recall@50, precision@5, recall@5\n",
      "[('own_rec', 0.046178390137781)]\n",
      "[('own_rec', 0.05314338338476987)]\n",
      "[('own_rec', 0.12472806381435823)]\n",
      "[('own_rec', 0.01675240727057921)]\n",
      "10 6 6000\n"
     ]
    },
    {
     "data": {
      "application/vnd.jupyter.widget-view+json": {
       "model_id": "9cfb24056ff9437197ef75dcadcd2c5e",
       "version_major": 2,
       "version_minor": 0
      },
      "text/plain": [
       "HBox(children=(HTML(value=''), FloatProgress(value=0.0, max=15.0), HTML(value='')))"
      ]
     },
     "metadata": {},
     "output_type": "display_data"
    },
    {
     "name": "stdout",
     "output_type": "stream",
     "text": [
      "\n"
     ]
    },
    {
     "data": {
      "application/vnd.jupyter.widget-view+json": {
       "model_id": "bbd27d2a570a4e8c83561470207ee2fe",
       "version_major": 2,
       "version_minor": 0
      },
      "text/plain": [
       "HBox(children=(HTML(value=''), FloatProgress(value=0.0, max=5996.0), HTML(value='')))"
      ]
     },
     "metadata": {},
     "output_type": "display_data"
    },
    {
     "name": "stdout",
     "output_type": "stream",
     "text": [
      "\n",
      "train precision@50, recall@50, precision@5, recall@5\n",
      "[('own_rec', 0.10217548948513416)]\n",
      "[('own_rec', 0.04749450371285892)]\n",
      "[('own_rec', 0.24307469180565627)]\n",
      "[('own_rec', 0.012112586303231115)]\n",
      "test precision@50, recall@50, precision@5, recall@5\n",
      "[('own_rec', 0.04269760696156635)]\n",
      "[('own_rec', 0.04968556548154586)]\n",
      "[('own_rec', 0.11805656272661348)]\n",
      "[('own_rec', 0.015556054307606898)]\n",
      "11 1 500\n"
     ]
    },
    {
     "data": {
      "application/vnd.jupyter.widget-view+json": {
       "model_id": "25f603af0195499daaae23f33dcb6782",
       "version_major": 2,
       "version_minor": 0
      },
      "text/plain": [
       "HBox(children=(HTML(value=''), FloatProgress(value=0.0, max=15.0), HTML(value='')))"
      ]
     },
     "metadata": {},
     "output_type": "display_data"
    },
    {
     "name": "stdout",
     "output_type": "stream",
     "text": [
      "\n"
     ]
    },
    {
     "data": {
      "application/vnd.jupyter.widget-view+json": {
       "model_id": "c9c31a2582ef419a93026ceb30f33a88",
       "version_major": 2,
       "version_minor": 0
      },
      "text/plain": [
       "HBox(children=(HTML(value=''), FloatProgress(value=0.0, max=501.0), HTML(value='')))"
      ]
     },
     "metadata": {},
     "output_type": "display_data"
    },
    {
     "name": "stdout",
     "output_type": "stream",
     "text": [
      "\n",
      "train precision@50, recall@50, precision@5, recall@5\n",
      "[('own_rec', 0.15704133430021755)]\n",
      "[('own_rec', 0.059464775272458775)]\n",
      "[('own_rec', 0.3766497461928934)]\n",
      "[('own_rec', 0.01622075357899354)]\n",
      "test precision@50, recall@50, precision@5, recall@5\n",
      "[('own_rec', 0.06510514865844814)]\n",
      "[('own_rec', 0.06967380763037963)]\n",
      "[('own_rec', 0.1899927483683829)]\n",
      "[('own_rec', 0.02374691644180929)]\n",
      "11 1 1000\n"
     ]
    },
    {
     "data": {
      "application/vnd.jupyter.widget-view+json": {
       "model_id": "de9e34d2efd14cd094687d3d7182cb61",
       "version_major": 2,
       "version_minor": 0
      },
      "text/plain": [
       "HBox(children=(HTML(value=''), FloatProgress(value=0.0, max=15.0), HTML(value='')))"
      ]
     },
     "metadata": {},
     "output_type": "display_data"
    },
    {
     "name": "stdout",
     "output_type": "stream",
     "text": [
      "\n"
     ]
    },
    {
     "data": {
      "application/vnd.jupyter.widget-view+json": {
       "model_id": "3dfe3193e8174c6d9682aec120cc5bb2",
       "version_major": 2,
       "version_minor": 0
      },
      "text/plain": [
       "HBox(children=(HTML(value=''), FloatProgress(value=0.0, max=1001.0), HTML(value='')))"
      ]
     },
     "metadata": {},
     "output_type": "display_data"
    },
    {
     "name": "stdout",
     "output_type": "stream",
     "text": [
      "\n",
      "train precision@50, recall@50, precision@5, recall@5\n",
      "[('own_rec', 0.15840464104423496)]\n",
      "[('own_rec', 0.06157432959992919)]\n",
      "[('own_rec', 0.3467730239303844)]\n",
      "[('own_rec', 0.015156424363612628)]\n",
      "test precision@50, recall@50, precision@5, recall@5\n",
      "[('own_rec', 0.06538071065989849)]\n",
      "[('own_rec', 0.07209513480358777)]\n",
      "[('own_rec', 0.1727338651196519)]\n",
      "[('own_rec', 0.022045360307623007)]\n",
      "11 1 2000\n"
     ]
    },
    {
     "data": {
      "application/vnd.jupyter.widget-view+json": {
       "model_id": "dc67a89f346149b696054e35dbd39c5a",
       "version_major": 2,
       "version_minor": 0
      },
      "text/plain": [
       "HBox(children=(HTML(value=''), FloatProgress(value=0.0, max=15.0), HTML(value='')))"
      ]
     },
     "metadata": {},
     "output_type": "display_data"
    },
    {
     "name": "stdout",
     "output_type": "stream",
     "text": [
      "\n"
     ]
    },
    {
     "data": {
      "application/vnd.jupyter.widget-view+json": {
       "model_id": "e0e0be2722624238afd69859473a47bb",
       "version_major": 2,
       "version_minor": 0
      },
      "text/plain": [
       "HBox(children=(HTML(value=''), FloatProgress(value=0.0, max=2001.0), HTML(value='')))"
      ]
     },
     "metadata": {},
     "output_type": "display_data"
    },
    {
     "name": "stdout",
     "output_type": "stream",
     "text": [
      "\n",
      "train precision@50, recall@50, precision@5, recall@5\n",
      "[('own_rec', 0.15100797679477884)]\n",
      "[('own_rec', 0.06029133301282085)]\n",
      "[('own_rec', 0.3273386511965192)]\n",
      "[('own_rec', 0.014835215631515034)]\n",
      "test precision@50, recall@50, precision@5, recall@5\n",
      "[('own_rec', 0.061725888324873086)]\n",
      "[('own_rec', 0.06800217537371832)]\n",
      "[('own_rec', 0.15997099347353155)]\n",
      "[('own_rec', 0.020475685063203346)]\n",
      "11 1 3000\n"
     ]
    },
    {
     "data": {
      "application/vnd.jupyter.widget-view+json": {
       "model_id": "aa151713b648456fae6cc2dc8f455fc4",
       "version_major": 2,
       "version_minor": 0
      },
      "text/plain": [
       "HBox(children=(HTML(value=''), FloatProgress(value=0.0, max=15.0), HTML(value='')))"
      ]
     },
     "metadata": {},
     "output_type": "display_data"
    },
    {
     "name": "stdout",
     "output_type": "stream",
     "text": [
      "\n"
     ]
    },
    {
     "data": {
      "application/vnd.jupyter.widget-view+json": {
       "model_id": "4264369bcde54b9e8a4fa37949b873a7",
       "version_major": 2,
       "version_minor": 0
      },
      "text/plain": [
       "HBox(children=(HTML(value=''), FloatProgress(value=0.0, max=3001.0), HTML(value='')))"
      ]
     },
     "metadata": {},
     "output_type": "display_data"
    },
    {
     "name": "stdout",
     "output_type": "stream",
     "text": [
      "\n",
      "train precision@50, recall@50, precision@5, recall@5\n",
      "[('own_rec', 0.14213197969543148)]\n",
      "[('own_rec', 0.05736425311670167)]\n",
      "[('own_rec', 0.3142857142857143)]\n",
      "[('own_rec', 0.01425404929499904)]\n",
      "test precision@50, recall@50, precision@5, recall@5\n",
      "[('own_rec', 0.05786802030456853)]\n",
      "[('own_rec', 0.06561763206008937)]\n",
      "[('own_rec', 0.14996374184191444)]\n",
      "[('own_rec', 0.020277836365768086)]\n",
      "11 1 4000\n"
     ]
    },
    {
     "data": {
      "application/vnd.jupyter.widget-view+json": {
       "model_id": "542a4f4c56d84bf4a41d9badf48a7cbd",
       "version_major": 2,
       "version_minor": 0
      },
      "text/plain": [
       "HBox(children=(HTML(value=''), FloatProgress(value=0.0, max=15.0), HTML(value='')))"
      ]
     },
     "metadata": {},
     "output_type": "display_data"
    },
    {
     "name": "stdout",
     "output_type": "stream",
     "text": [
      "\n"
     ]
    },
    {
     "data": {
      "application/vnd.jupyter.widget-view+json": {
       "model_id": "5ca2ed907dab45b7b7103b673f354c85",
       "version_major": 2,
       "version_minor": 0
      },
      "text/plain": [
       "HBox(children=(HTML(value=''), FloatProgress(value=0.0, max=3999.0), HTML(value='')))"
      ]
     },
     "metadata": {},
     "output_type": "display_data"
    },
    {
     "name": "stdout",
     "output_type": "stream",
     "text": [
      "\n",
      "train precision@50, recall@50, precision@5, recall@5\n",
      "[('own_rec', 0.13174764321972443)]\n",
      "[('own_rec', 0.052997300565235404)]\n",
      "[('own_rec', 0.29717186366932563)]\n",
      "[('own_rec', 0.013359961479006671)]\n",
      "test precision@50, recall@50, precision@5, recall@5\n",
      "[('own_rec', 0.05354604786076868)]\n",
      "[('own_rec', 0.061392524657022614)]\n",
      "[('own_rec', 0.14358230601885424)]\n",
      "[('own_rec', 0.019433439785998412)]\n",
      "11 1 5000\n"
     ]
    },
    {
     "data": {
      "application/vnd.jupyter.widget-view+json": {
       "model_id": "d7b0a58ceb504417a329d83c208bb39b",
       "version_major": 2,
       "version_minor": 0
      },
      "text/plain": [
       "HBox(children=(HTML(value=''), FloatProgress(value=0.0, max=15.0), HTML(value='')))"
      ]
     },
     "metadata": {},
     "output_type": "display_data"
    },
    {
     "name": "stdout",
     "output_type": "stream",
     "text": [
      "\n"
     ]
    },
    {
     "data": {
      "application/vnd.jupyter.widget-view+json": {
       "model_id": "155caca614124ac48d369efa50bbd3e9",
       "version_major": 2,
       "version_minor": 0
      },
      "text/plain": [
       "HBox(children=(HTML(value=''), FloatProgress(value=0.0, max=4998.0), HTML(value='')))"
      ]
     },
     "metadata": {},
     "output_type": "display_data"
    },
    {
     "name": "stdout",
     "output_type": "stream",
     "text": [
      "\n",
      "train precision@50, recall@50, precision@5, recall@5\n",
      "[('own_rec', 0.11950688905003627)]\n",
      "[('own_rec', 0.048512132978318946)]\n",
      "[('own_rec', 0.27396664249456126)]\n",
      "[('own_rec', 0.012056080934296009)]\n",
      "test precision@50, recall@50, precision@5, recall@5\n",
      "[('own_rec', 0.048992023205221176)]\n",
      "[('own_rec', 0.05637868825307667)]\n",
      "[('own_rec', 0.13357505438723713)]\n",
      "[('own_rec', 0.017937183516162327)]\n",
      "11 1 6000\n"
     ]
    },
    {
     "data": {
      "application/vnd.jupyter.widget-view+json": {
       "model_id": "b11e9589166044b4b6e6a992fc449718",
       "version_major": 2,
       "version_minor": 0
      },
      "text/plain": [
       "HBox(children=(HTML(value=''), FloatProgress(value=0.0, max=15.0), HTML(value='')))"
      ]
     },
     "metadata": {},
     "output_type": "display_data"
    },
    {
     "name": "stdout",
     "output_type": "stream",
     "text": [
      "\n"
     ]
    },
    {
     "data": {
      "application/vnd.jupyter.widget-view+json": {
       "model_id": "7f2b1709e48a4cafa70f20b241974c74",
       "version_major": 2,
       "version_minor": 0
      },
      "text/plain": [
       "HBox(children=(HTML(value=''), FloatProgress(value=0.0, max=5996.0), HTML(value='')))"
      ]
     },
     "metadata": {},
     "output_type": "display_data"
    },
    {
     "name": "stdout",
     "output_type": "stream",
     "text": [
      "\n",
      "train precision@50, recall@50, precision@5, recall@5\n",
      "[('own_rec', 0.11042784626540972)]\n",
      "[('own_rec', 0.04548741939105722)]\n",
      "[('own_rec', 0.26047860768672954)]\n",
      "[('own_rec', 0.011642003872176248)]\n",
      "test precision@50, recall@50, precision@5, recall@5\n",
      "[('own_rec', 0.045235678027556195)]\n",
      "[('own_rec', 0.05191478366682174)]\n",
      "[('own_rec', 0.12661348803480785)]\n",
      "[('own_rec', 0.01660157983251831)]\n",
      "11 2 500\n"
     ]
    },
    {
     "data": {
      "application/vnd.jupyter.widget-view+json": {
       "model_id": "2012aad70b744429a3bf6027e376d836",
       "version_major": 2,
       "version_minor": 0
      },
      "text/plain": [
       "HBox(children=(HTML(value=''), FloatProgress(value=0.0, max=15.0), HTML(value='')))"
      ]
     },
     "metadata": {},
     "output_type": "display_data"
    },
    {
     "name": "stdout",
     "output_type": "stream",
     "text": [
      "\n"
     ]
    },
    {
     "data": {
      "application/vnd.jupyter.widget-view+json": {
       "model_id": "32f12122e9104f938c49a4a4fd898e55",
       "version_major": 2,
       "version_minor": 0
      },
      "text/plain": [
       "HBox(children=(HTML(value=''), FloatProgress(value=0.0, max=501.0), HTML(value='')))"
      ]
     },
     "metadata": {},
     "output_type": "display_data"
    },
    {
     "name": "stdout",
     "output_type": "stream",
     "text": [
      "\n",
      "train precision@50, recall@50, precision@5, recall@5\n",
      "[('own_rec', 0.15682378535170413)]\n",
      "[('own_rec', 0.05918105273873332)]\n",
      "[('own_rec', 0.3744742567077593)]\n",
      "[('own_rec', 0.01621789287124348)]\n",
      "test precision@50, recall@50, precision@5, recall@5\n",
      "[('own_rec', 0.06485859318346629)]\n",
      "[('own_rec', 0.06956944183523166)]\n",
      "[('own_rec', 0.18825235678027558)]\n",
      "[('own_rec', 0.0235998517742053)]\n",
      "11 2 1000\n"
     ]
    },
    {
     "data": {
      "application/vnd.jupyter.widget-view+json": {
       "model_id": "c8fd4a15f02e4f25be9d1452dd487231",
       "version_major": 2,
       "version_minor": 0
      },
      "text/plain": [
       "HBox(children=(HTML(value=''), FloatProgress(value=0.0, max=15.0), HTML(value='')))"
      ]
     },
     "metadata": {},
     "output_type": "display_data"
    },
    {
     "name": "stdout",
     "output_type": "stream",
     "text": [
      "\n"
     ]
    },
    {
     "data": {
      "application/vnd.jupyter.widget-view+json": {
       "model_id": "785609c0e4fe4135bfdb69bc5bdbd398",
       "version_major": 2,
       "version_minor": 0
      },
      "text/plain": [
       "HBox(children=(HTML(value=''), FloatProgress(value=0.0, max=1001.0), HTML(value='')))"
      ]
     },
     "metadata": {},
     "output_type": "display_data"
    },
    {
     "name": "stdout",
     "output_type": "stream",
     "text": [
      "\n",
      "train precision@50, recall@50, precision@5, recall@5\n",
      "[('own_rec', 0.1582741116751269)]\n",
      "[('own_rec', 0.06122653300317544)]\n",
      "[('own_rec', 0.3453226976069616)]\n",
      "[('own_rec', 0.015218115654176375)]\n",
      "test precision@50, recall@50, precision@5, recall@5\n",
      "[('own_rec', 0.06474256707759246)]\n",
      "[('own_rec', 0.07119172429962517)]\n",
      "[('own_rec', 0.1695431472081218)]\n",
      "[('own_rec', 0.021771854308876664)]\n",
      "11 2 2000\n"
     ]
    },
    {
     "data": {
      "application/vnd.jupyter.widget-view+json": {
       "model_id": "812f11b7f8fc44b38cbf1d671f82553e",
       "version_major": 2,
       "version_minor": 0
      },
      "text/plain": [
       "HBox(children=(HTML(value=''), FloatProgress(value=0.0, max=15.0), HTML(value='')))"
      ]
     },
     "metadata": {},
     "output_type": "display_data"
    },
    {
     "name": "stdout",
     "output_type": "stream",
     "text": [
      "\n"
     ]
    },
    {
     "data": {
      "application/vnd.jupyter.widget-view+json": {
       "model_id": "7129e4a204c44bf9bc00ab2da0b5e148",
       "version_major": 2,
       "version_minor": 0
      },
      "text/plain": [
       "HBox(children=(HTML(value=''), FloatProgress(value=0.0, max=2001.0), HTML(value='')))"
      ]
     },
     "metadata": {},
     "output_type": "display_data"
    },
    {
     "name": "stdout",
     "output_type": "stream",
     "text": [
      "\n",
      "train precision@50, recall@50, precision@5, recall@5\n",
      "[('own_rec', 0.15036983321247283)]\n",
      "[('own_rec', 0.059900570097263406)]\n",
      "[('own_rec', 0.32588832487309644)]\n",
      "[('own_rec', 0.014816111245605727)]\n",
      "test precision@50, recall@50, precision@5, recall@5\n",
      "[('own_rec', 0.061377810007251635)]\n",
      "[('own_rec', 0.06787808372048725)]\n",
      "[('own_rec', 0.1602610587382161)]\n",
      "[('own_rec', 0.020775942279582838)]\n",
      "11 2 3000\n"
     ]
    },
    {
     "data": {
      "application/vnd.jupyter.widget-view+json": {
       "model_id": "ea67a29a0931425c9beb095ba6a68233",
       "version_major": 2,
       "version_minor": 0
      },
      "text/plain": [
       "HBox(children=(HTML(value=''), FloatProgress(value=0.0, max=15.0), HTML(value='')))"
      ]
     },
     "metadata": {},
     "output_type": "display_data"
    },
    {
     "name": "stdout",
     "output_type": "stream",
     "text": [
      "\n"
     ]
    },
    {
     "data": {
      "application/vnd.jupyter.widget-view+json": {
       "model_id": "7485a2116d8d440c889d19cfa4649ed2",
       "version_major": 2,
       "version_minor": 0
      },
      "text/plain": [
       "HBox(children=(HTML(value=''), FloatProgress(value=0.0, max=3001.0), HTML(value='')))"
      ]
     },
     "metadata": {},
     "output_type": "display_data"
    },
    {
     "name": "stdout",
     "output_type": "stream",
     "text": [
      "\n",
      "train precision@50, recall@50, precision@5, recall@5\n",
      "[('own_rec', 0.1416678752719362)]\n",
      "[('own_rec', 0.056914212355956825)]\n",
      "[('own_rec', 0.3128353879622915)]\n",
      "[('own_rec', 0.014206223418362939)]\n",
      "test precision@50, recall@50, precision@5, recall@5\n",
      "[('own_rec', 0.0571718636693256)]\n",
      "[('own_rec', 0.0650539125480262)]\n",
      "[('own_rec', 0.15054387237128355)]\n",
      "[('own_rec', 0.02037193826393069)]\n",
      "11 2 4000\n"
     ]
    },
    {
     "data": {
      "application/vnd.jupyter.widget-view+json": {
       "model_id": "59c25ecb1109479b86750620b2d09f70",
       "version_major": 2,
       "version_minor": 0
      },
      "text/plain": [
       "HBox(children=(HTML(value=''), FloatProgress(value=0.0, max=15.0), HTML(value='')))"
      ]
     },
     "metadata": {},
     "output_type": "display_data"
    },
    {
     "name": "stdout",
     "output_type": "stream",
     "text": [
      "\n"
     ]
    },
    {
     "data": {
      "application/vnd.jupyter.widget-view+json": {
       "model_id": "9dd4f164b1a84812859bccaf86057406",
       "version_major": 2,
       "version_minor": 0
      },
      "text/plain": [
       "HBox(children=(HTML(value=''), FloatProgress(value=0.0, max=4000.0), HTML(value='')))"
      ]
     },
     "metadata": {},
     "output_type": "display_data"
    },
    {
     "name": "stdout",
     "output_type": "stream",
     "text": [
      "\n",
      "train precision@50, recall@50, precision@5, recall@5\n",
      "[('own_rec', 0.13039883973894126)]\n",
      "[('own_rec', 0.0523156687933706)]\n",
      "[('own_rec', 0.2915155910079768)]\n",
      "[('own_rec', 0.013124597384090176)]\n",
      "test precision@50, recall@50, precision@5, recall@5\n",
      "[('own_rec', 0.052690355329949236)]\n",
      "[('own_rec', 0.06085260378061523)]\n",
      "[('own_rec', 0.1387962291515591)]\n",
      "[('own_rec', 0.019048864643910965)]\n",
      "11 2 5000\n"
     ]
    },
    {
     "data": {
      "application/vnd.jupyter.widget-view+json": {
       "model_id": "6e58054ef82045168575709898bc6d7c",
       "version_major": 2,
       "version_minor": 0
      },
      "text/plain": [
       "HBox(children=(HTML(value=''), FloatProgress(value=0.0, max=15.0), HTML(value='')))"
      ]
     },
     "metadata": {},
     "output_type": "display_data"
    },
    {
     "name": "stdout",
     "output_type": "stream",
     "text": [
      "\n"
     ]
    },
    {
     "data": {
      "application/vnd.jupyter.widget-view+json": {
       "model_id": "adcdd1e45ffb45b6b5819b56600a7400",
       "version_major": 2,
       "version_minor": 0
      },
      "text/plain": [
       "HBox(children=(HTML(value=''), FloatProgress(value=0.0, max=4998.0), HTML(value='')))"
      ]
     },
     "metadata": {},
     "output_type": "display_data"
    },
    {
     "name": "stdout",
     "output_type": "stream",
     "text": [
      "\n",
      "train precision@50, recall@50, precision@5, recall@5\n",
      "[('own_rec', 0.11899927483683831)]\n",
      "[('own_rec', 0.0481081296832519)]\n",
      "[('own_rec', 0.2729514140681654)]\n",
      "[('own_rec', 0.01214460036569359)]\n",
      "test precision@50, recall@50, precision@5, recall@5\n",
      "[('own_rec', 0.04802030456852792)]\n",
      "[('own_rec', 0.05554241153466824)]\n",
      "[('own_rec', 0.12965917331399562)]\n",
      "[('own_rec', 0.017573536241957125)]\n",
      "11 2 6000\n"
     ]
    },
    {
     "data": {
      "application/vnd.jupyter.widget-view+json": {
       "model_id": "cad5a6d721b74169939f4be163259740",
       "version_major": 2,
       "version_minor": 0
      },
      "text/plain": [
       "HBox(children=(HTML(value=''), FloatProgress(value=0.0, max=15.0), HTML(value='')))"
      ]
     },
     "metadata": {},
     "output_type": "display_data"
    },
    {
     "name": "stdout",
     "output_type": "stream",
     "text": [
      "\n"
     ]
    },
    {
     "data": {
      "application/vnd.jupyter.widget-view+json": {
       "model_id": "013774d48fe845408e2ccf2f9787be72",
       "version_major": 2,
       "version_minor": 0
      },
      "text/plain": [
       "HBox(children=(HTML(value=''), FloatProgress(value=0.0, max=5996.0), HTML(value='')))"
      ]
     },
     "metadata": {},
     "output_type": "display_data"
    },
    {
     "name": "stdout",
     "output_type": "stream",
     "text": [
      "\n",
      "train precision@50, recall@50, precision@5, recall@5\n",
      "[('own_rec', 0.11039883973894127)]\n",
      "[('own_rec', 0.045312587914199655)]\n",
      "[('own_rec', 0.25960841189267586)]\n",
      "[('own_rec', 0.011602965647178002)]\n",
      "test precision@50, recall@50, precision@5, recall@5\n",
      "[('own_rec', 0.044394488759971)]\n",
      "[('own_rec', 0.05129243467139652)]\n",
      "[('own_rec', 0.12327773749093546)]\n",
      "[('own_rec', 0.016114883541138547)]\n",
      "11 3 500\n"
     ]
    },
    {
     "data": {
      "application/vnd.jupyter.widget-view+json": {
       "model_id": "caf111ab739143dbbd0320272b9b133f",
       "version_major": 2,
       "version_minor": 0
      },
      "text/plain": [
       "HBox(children=(HTML(value=''), FloatProgress(value=0.0, max=15.0), HTML(value='')))"
      ]
     },
     "metadata": {},
     "output_type": "display_data"
    },
    {
     "name": "stdout",
     "output_type": "stream",
     "text": [
      "\n"
     ]
    },
    {
     "data": {
      "application/vnd.jupyter.widget-view+json": {
       "model_id": "badba2f65efd4a4da18418c5470ddea7",
       "version_major": 2,
       "version_minor": 0
      },
      "text/plain": [
       "HBox(children=(HTML(value=''), FloatProgress(value=0.0, max=501.0), HTML(value='')))"
      ]
     },
     "metadata": {},
     "output_type": "display_data"
    },
    {
     "name": "stdout",
     "output_type": "stream",
     "text": [
      "\n",
      "train precision@50, recall@50, precision@5, recall@5\n",
      "[('own_rec', 0.15406816533720089)]\n",
      "[('own_rec', 0.05873117247208937)]\n",
      "[('own_rec', 0.36823785351704136)]\n",
      "[('own_rec', 0.015997811408663357)]\n",
      "test precision@50, recall@50, precision@5, recall@5\n",
      "[('own_rec', 0.06485859318346629)]\n",
      "[('own_rec', 0.06986121340434617)]\n",
      "[('own_rec', 0.18709209572153734)]\n",
      "[('own_rec', 0.02367019691964053)]\n",
      "11 3 1000\n"
     ]
    },
    {
     "data": {
      "application/vnd.jupyter.widget-view+json": {
       "model_id": "7cfed06f3f194bdfbb6e65089d02425c",
       "version_major": 2,
       "version_minor": 0
      },
      "text/plain": [
       "HBox(children=(HTML(value=''), FloatProgress(value=0.0, max=15.0), HTML(value='')))"
      ]
     },
     "metadata": {},
     "output_type": "display_data"
    },
    {
     "name": "stdout",
     "output_type": "stream",
     "text": [
      "\n"
     ]
    },
    {
     "data": {
      "application/vnd.jupyter.widget-view+json": {
       "model_id": "17c7c8b017344fa089dc0b7c13dc7484",
       "version_major": 2,
       "version_minor": 0
      },
      "text/plain": [
       "HBox(children=(HTML(value=''), FloatProgress(value=0.0, max=1001.0), HTML(value='')))"
      ]
     },
     "metadata": {},
     "output_type": "display_data"
    },
    {
     "name": "stdout",
     "output_type": "stream",
     "text": [
      "\n",
      "train precision@50, recall@50, precision@5, recall@5\n",
      "[('own_rec', 0.15577955039883973)]\n",
      "[('own_rec', 0.06116416383335441)]\n",
      "[('own_rec', 0.34140681653372007)]\n",
      "[('own_rec', 0.015267022107685843)]\n",
      "test precision@50, recall@50, precision@5, recall@5\n",
      "[('own_rec', 0.06445250181290792)]\n",
      "[('own_rec', 0.07105435198004237)]\n",
      "[('own_rec', 0.16707759245830314)]\n",
      "[('own_rec', 0.021570053723654014)]\n",
      "11 3 2000\n"
     ]
    },
    {
     "data": {
      "application/vnd.jupyter.widget-view+json": {
       "model_id": "91c3ddbf396945928bcc7bbb054bae7e",
       "version_major": 2,
       "version_minor": 0
      },
      "text/plain": [
       "HBox(children=(HTML(value=''), FloatProgress(value=0.0, max=15.0), HTML(value='')))"
      ]
     },
     "metadata": {},
     "output_type": "display_data"
    },
    {
     "name": "stdout",
     "output_type": "stream",
     "text": [
      "\n"
     ]
    },
    {
     "data": {
      "application/vnd.jupyter.widget-view+json": {
       "model_id": "c1607b02e5c041f992eaa9b201cc88a2",
       "version_major": 2,
       "version_minor": 0
      },
      "text/plain": [
       "HBox(children=(HTML(value=''), FloatProgress(value=0.0, max=2001.0), HTML(value='')))"
      ]
     },
     "metadata": {},
     "output_type": "display_data"
    },
    {
     "name": "stdout",
     "output_type": "stream",
     "text": [
      "\n",
      "train precision@50, recall@50, precision@5, recall@5\n",
      "[('own_rec', 0.1491515591007977)]\n",
      "[('own_rec', 0.059851278457333755)]\n",
      "[('own_rec', 0.32168237853517045)]\n",
      "[('own_rec', 0.014706285087426635)]\n",
      "test precision@50, recall@50, precision@5, recall@5\n",
      "[('own_rec', 0.06098622189992749)]\n",
      "[('own_rec', 0.0679072070021304)]\n",
      "[('own_rec', 0.15678027556200144)]\n",
      "[('own_rec', 0.020612985829756004)]\n",
      "11 3 3000\n"
     ]
    },
    {
     "data": {
      "application/vnd.jupyter.widget-view+json": {
       "model_id": "0116b5bbf4004667a96cfbb56e6b72d9",
       "version_major": 2,
       "version_minor": 0
      },
      "text/plain": [
       "HBox(children=(HTML(value=''), FloatProgress(value=0.0, max=15.0), HTML(value='')))"
      ]
     },
     "metadata": {},
     "output_type": "display_data"
    },
    {
     "name": "stdout",
     "output_type": "stream",
     "text": [
      "\n"
     ]
    },
    {
     "data": {
      "application/vnd.jupyter.widget-view+json": {
       "model_id": "4de7825b74a04f37bed0d36fe7632c2a",
       "version_major": 2,
       "version_minor": 0
      },
      "text/plain": [
       "HBox(children=(HTML(value=''), FloatProgress(value=0.0, max=3001.0), HTML(value='')))"
      ]
     },
     "metadata": {},
     "output_type": "display_data"
    },
    {
     "name": "stdout",
     "output_type": "stream",
     "text": [
      "\n",
      "train precision@50, recall@50, precision@5, recall@5\n",
      "[('own_rec', 0.13986947063089195)]\n",
      "[('own_rec', 0.0566283621080519)]\n",
      "[('own_rec', 0.3087744742567078)]\n",
      "[('own_rec', 0.01407898764718137)]\n",
      "test precision@50, recall@50, precision@5, recall@5\n",
      "[('own_rec', 0.05653372008701959)]\n",
      "[('own_rec', 0.06436271661810314)]\n",
      "[('own_rec', 0.14778825235678028)]\n",
      "[('own_rec', 0.0199866805775854)]\n",
      "11 3 4000\n"
     ]
    },
    {
     "data": {
      "application/vnd.jupyter.widget-view+json": {
       "model_id": "6c86fe4734b947d9904650b724ac69ab",
       "version_major": 2,
       "version_minor": 0
      },
      "text/plain": [
       "HBox(children=(HTML(value=''), FloatProgress(value=0.0, max=15.0), HTML(value='')))"
      ]
     },
     "metadata": {},
     "output_type": "display_data"
    },
    {
     "name": "stdout",
     "output_type": "stream",
     "text": [
      "\n"
     ]
    },
    {
     "data": {
      "application/vnd.jupyter.widget-view+json": {
       "model_id": "23fa48a860b24345a3fbe096fd766e2e",
       "version_major": 2,
       "version_minor": 0
      },
      "text/plain": [
       "HBox(children=(HTML(value=''), FloatProgress(value=0.0, max=4000.0), HTML(value='')))"
      ]
     },
     "metadata": {},
     "output_type": "display_data"
    },
    {
     "name": "stdout",
     "output_type": "stream",
     "text": [
      "\n",
      "train precision@50, recall@50, precision@5, recall@5\n",
      "[('own_rec', 0.12960116026105875)]\n",
      "[('own_rec', 0.05262772266889461)]\n",
      "[('own_rec', 0.28948513415518495)]\n",
      "[('own_rec', 0.013184124073213318)]\n",
      "test precision@50, recall@50, precision@5, recall@5\n",
      "[('own_rec', 0.05200870195794054)]\n",
      "[('own_rec', 0.06022964563632744)]\n",
      "[('own_rec', 0.13792603335750542)]\n",
      "[('own_rec', 0.018742389729979828)]\n",
      "11 3 5000\n"
     ]
    },
    {
     "data": {
      "application/vnd.jupyter.widget-view+json": {
       "model_id": "b9906b6b35924cda87ef23401c00cf30",
       "version_major": 2,
       "version_minor": 0
      },
      "text/plain": [
       "HBox(children=(HTML(value=''), FloatProgress(value=0.0, max=15.0), HTML(value='')))"
      ]
     },
     "metadata": {},
     "output_type": "display_data"
    },
    {
     "name": "stdout",
     "output_type": "stream",
     "text": [
      "\n"
     ]
    },
    {
     "data": {
      "application/vnd.jupyter.widget-view+json": {
       "model_id": "43f4d5f14c7744fdb326c5f728fae730",
       "version_major": 2,
       "version_minor": 0
      },
      "text/plain": [
       "HBox(children=(HTML(value=''), FloatProgress(value=0.0, max=4997.0), HTML(value='')))"
      ]
     },
     "metadata": {},
     "output_type": "display_data"
    },
    {
     "name": "stdout",
     "output_type": "stream",
     "text": [
      "\n",
      "train precision@50, recall@50, precision@5, recall@5\n",
      "[('own_rec', 0.11856417693981146)]\n",
      "[('own_rec', 0.04836034309186062)]\n",
      "[('own_rec', 0.27019579405366206)]\n",
      "[('own_rec', 0.012036878732781572)]\n",
      "test precision@50, recall@50, precision@5, recall@5\n",
      "[('own_rec', 0.047541696881798406)]\n",
      "[('own_rec', 0.05482864742169489)]\n",
      "[('own_rec', 0.12733865119651921)]\n",
      "[('own_rec', 0.01729568607874119)]\n",
      "11 3 6000\n"
     ]
    },
    {
     "data": {
      "application/vnd.jupyter.widget-view+json": {
       "model_id": "7af670b70a19433fa208d63118897058",
       "version_major": 2,
       "version_minor": 0
      },
      "text/plain": [
       "HBox(children=(HTML(value=''), FloatProgress(value=0.0, max=15.0), HTML(value='')))"
      ]
     },
     "metadata": {},
     "output_type": "display_data"
    },
    {
     "name": "stdout",
     "output_type": "stream",
     "text": [
      "\n"
     ]
    },
    {
     "data": {
      "application/vnd.jupyter.widget-view+json": {
       "model_id": "6010e65215784dcb846ff86d3b85c3a2",
       "version_major": 2,
       "version_minor": 0
      },
      "text/plain": [
       "HBox(children=(HTML(value=''), FloatProgress(value=0.0, max=5996.0), HTML(value='')))"
      ]
     },
     "metadata": {},
     "output_type": "display_data"
    },
    {
     "name": "stdout",
     "output_type": "stream",
     "text": [
      "\n",
      "train precision@50, recall@50, precision@5, recall@5\n",
      "[('own_rec', 0.1097316896301668)]\n",
      "[('own_rec', 0.045387301593838046)]\n",
      "[('own_rec', 0.2540971718636693)]\n",
      "[('own_rec', 0.011348024099076013)]\n",
      "test precision@50, recall@50, precision@5, recall@5\n",
      "[('own_rec', 0.043828861493836115)]\n",
      "[('own_rec', 0.050536039209040026)]\n",
      "[('own_rec', 0.12066715010877446)]\n",
      "[('own_rec', 0.015754675937736932)]\n",
      "11 4 500\n"
     ]
    },
    {
     "data": {
      "application/vnd.jupyter.widget-view+json": {
       "model_id": "625b68d8a0f94b1ea8aeb5cf76b85893",
       "version_major": 2,
       "version_minor": 0
      },
      "text/plain": [
       "HBox(children=(HTML(value=''), FloatProgress(value=0.0, max=15.0), HTML(value='')))"
      ]
     },
     "metadata": {},
     "output_type": "display_data"
    },
    {
     "name": "stdout",
     "output_type": "stream",
     "text": [
      "\n"
     ]
    },
    {
     "data": {
      "application/vnd.jupyter.widget-view+json": {
       "model_id": "df4cad9c0ff14287b2194a9f7822f563",
       "version_major": 2,
       "version_minor": 0
      },
      "text/plain": [
       "HBox(children=(HTML(value=''), FloatProgress(value=0.0, max=501.0), HTML(value='')))"
      ]
     },
     "metadata": {},
     "output_type": "display_data"
    },
    {
     "name": "stdout",
     "output_type": "stream",
     "text": [
      "\n",
      "train precision@50, recall@50, precision@5, recall@5\n",
      "[('own_rec', 0.154459753444525)]\n",
      "[('own_rec', 0.058988936109080424)]\n",
      "[('own_rec', 0.3666424945612763)]\n",
      "[('own_rec', 0.01593135687220867)]\n",
      "test precision@50, recall@50, precision@5, recall@5\n",
      "[('own_rec', 0.06469905728788977)]\n",
      "[('own_rec', 0.06975596940624514)]\n",
      "[('own_rec', 0.1866569978245105)]\n",
      "[('own_rec', 0.023529882132928785)]\n",
      "11 4 1000\n"
     ]
    },
    {
     "data": {
      "application/vnd.jupyter.widget-view+json": {
       "model_id": "896c3c1dac7e4fd68f9bbb50166d1b1f",
       "version_major": 2,
       "version_minor": 0
      },
      "text/plain": [
       "HBox(children=(HTML(value=''), FloatProgress(value=0.0, max=15.0), HTML(value='')))"
      ]
     },
     "metadata": {},
     "output_type": "display_data"
    },
    {
     "name": "stdout",
     "output_type": "stream",
     "text": [
      "\n"
     ]
    },
    {
     "data": {
      "application/vnd.jupyter.widget-view+json": {
       "model_id": "7b2961e0adfb47c9b130edbbc6e01583",
       "version_major": 2,
       "version_minor": 0
      },
      "text/plain": [
       "HBox(children=(HTML(value=''), FloatProgress(value=0.0, max=1001.0), HTML(value='')))"
      ]
     },
     "metadata": {},
     "output_type": "display_data"
    },
    {
     "name": "stdout",
     "output_type": "stream",
     "text": [
      "\n",
      "train precision@50, recall@50, precision@5, recall@5\n",
      "[('own_rec', 0.15560551124002903)]\n",
      "[('own_rec', 0.061400933437182746)]\n",
      "[('own_rec', 0.3432922407541697)]\n",
      "[('own_rec', 0.01569425435086278)]\n",
      "test precision@50, recall@50, precision@5, recall@5\n",
      "[('own_rec', 0.06407541696881798)]\n",
      "[('own_rec', 0.07066914900862271)]\n",
      "[('own_rec', 0.16678752719361856)]\n",
      "[('own_rec', 0.021554788726629675)]\n",
      "11 4 2000\n"
     ]
    },
    {
     "data": {
      "application/vnd.jupyter.widget-view+json": {
       "model_id": "5ae1192d16a243c591d693841a2bedd0",
       "version_major": 2,
       "version_minor": 0
      },
      "text/plain": [
       "HBox(children=(HTML(value=''), FloatProgress(value=0.0, max=15.0), HTML(value='')))"
      ]
     },
     "metadata": {},
     "output_type": "display_data"
    },
    {
     "name": "stdout",
     "output_type": "stream",
     "text": [
      "\n"
     ]
    },
    {
     "data": {
      "application/vnd.jupyter.widget-view+json": {
       "model_id": "2d78c2e5bcf24453ad27831797578fbd",
       "version_major": 2,
       "version_minor": 0
      },
      "text/plain": [
       "HBox(children=(HTML(value=''), FloatProgress(value=0.0, max=2001.0), HTML(value='')))"
      ]
     },
     "metadata": {},
     "output_type": "display_data"
    },
    {
     "name": "stdout",
     "output_type": "stream",
     "text": [
      "\n",
      "train precision@50, recall@50, precision@5, recall@5\n",
      "[('own_rec', 0.14907904278462655)]\n",
      "[('own_rec', 0.06044729404057113)]\n",
      "[('own_rec', 0.3231327048585932)]\n",
      "[('own_rec', 0.015206208790428364)]\n",
      "test precision@50, recall@50, precision@5, recall@5\n",
      "[('own_rec', 0.060681653372008704)]\n",
      "[('own_rec', 0.06802702097329691)]\n",
      "[('own_rec', 0.15692530819434372)]\n",
      "[('own_rec', 0.020635272575020548)]\n",
      "11 4 3000\n"
     ]
    },
    {
     "data": {
      "application/vnd.jupyter.widget-view+json": {
       "model_id": "4cf6c3da1fe74be6accbedbb161f7891",
       "version_major": 2,
       "version_minor": 0
      },
      "text/plain": [
       "HBox(children=(HTML(value=''), FloatProgress(value=0.0, max=15.0), HTML(value='')))"
      ]
     },
     "metadata": {},
     "output_type": "display_data"
    },
    {
     "name": "stdout",
     "output_type": "stream",
     "text": [
      "\n"
     ]
    },
    {
     "data": {
      "application/vnd.jupyter.widget-view+json": {
       "model_id": "0a65f300cd9e44c88f402df47c6dd444",
       "version_major": 2,
       "version_minor": 0
      },
      "text/plain": [
       "HBox(children=(HTML(value=''), FloatProgress(value=0.0, max=3001.0), HTML(value='')))"
      ]
     },
     "metadata": {},
     "output_type": "display_data"
    },
    {
     "name": "stdout",
     "output_type": "stream",
     "text": [
      "\n",
      "train precision@50, recall@50, precision@5, recall@5\n",
      "[('own_rec', 0.1389992748368383)]\n",
      "[('own_rec', 0.05698835893694403)]\n",
      "[('own_rec', 0.31065989847715736)]\n",
      "[('own_rec', 0.014704920509278135)]\n",
      "test precision@50, recall@50, precision@5, recall@5\n",
      "[('own_rec', 0.05573604060913707)]\n",
      "[('own_rec', 0.06379812591574839)]\n",
      "[('own_rec', 0.14604786076867296)]\n",
      "[('own_rec', 0.01973097158435143)]\n",
      "11 4 4000\n"
     ]
    },
    {
     "data": {
      "application/vnd.jupyter.widget-view+json": {
       "model_id": "d822c8c406c04ca98b34b9694bf73539",
       "version_major": 2,
       "version_minor": 0
      },
      "text/plain": [
       "HBox(children=(HTML(value=''), FloatProgress(value=0.0, max=15.0), HTML(value='')))"
      ]
     },
     "metadata": {},
     "output_type": "display_data"
    },
    {
     "name": "stdout",
     "output_type": "stream",
     "text": [
      "\n"
     ]
    },
    {
     "data": {
      "application/vnd.jupyter.widget-view+json": {
       "model_id": "67fe41ae4058496194ed5324c66126bf",
       "version_major": 2,
       "version_minor": 0
      },
      "text/plain": [
       "HBox(children=(HTML(value=''), FloatProgress(value=0.0, max=4000.0), HTML(value='')))"
      ]
     },
     "metadata": {},
     "output_type": "display_data"
    },
    {
     "name": "stdout",
     "output_type": "stream",
     "text": [
      "\n",
      "train precision@50, recall@50, precision@5, recall@5\n",
      "[('own_rec', 0.12978970268310372)]\n",
      "[('own_rec', 0.053223564870689)]\n",
      "[('own_rec', 0.290065264684554)]\n",
      "[('own_rec', 0.013597694126495103)]\n",
      "test precision@50, recall@50, precision@5, recall@5\n",
      "[('own_rec', 0.0514720812182741)]\n",
      "[('own_rec', 0.05945830093885553)]\n",
      "[('own_rec', 0.13749093546047864)]\n",
      "[('own_rec', 0.019083548052154727)]\n",
      "11 4 5000\n"
     ]
    },
    {
     "data": {
      "application/vnd.jupyter.widget-view+json": {
       "model_id": "10da267941214dd9a4a65635204d827b",
       "version_major": 2,
       "version_minor": 0
      },
      "text/plain": [
       "HBox(children=(HTML(value=''), FloatProgress(value=0.0, max=15.0), HTML(value='')))"
      ]
     },
     "metadata": {},
     "output_type": "display_data"
    },
    {
     "name": "stdout",
     "output_type": "stream",
     "text": [
      "\n"
     ]
    },
    {
     "data": {
      "application/vnd.jupyter.widget-view+json": {
       "model_id": "9c60f485792c4297b4dd0c1be6681d67",
       "version_major": 2,
       "version_minor": 0
      },
      "text/plain": [
       "HBox(children=(HTML(value=''), FloatProgress(value=0.0, max=4997.0), HTML(value='')))"
      ]
     },
     "metadata": {},
     "output_type": "display_data"
    },
    {
     "name": "stdout",
     "output_type": "stream",
     "text": [
      "\n",
      "train precision@50, recall@50, precision@5, recall@5\n",
      "[('own_rec', 0.11852066715010877)]\n",
      "[('own_rec', 0.04881066958817911)]\n",
      "[('own_rec', 0.26918056562726617)]\n",
      "[('own_rec', 0.012371515330835149)]\n",
      "test precision@50, recall@50, precision@5, recall@5\n",
      "[('own_rec', 0.04662799129804207)]\n",
      "[('own_rec', 0.05378689401497369)]\n",
      "[('own_rec', 0.12588832487309645)]\n",
      "[('own_rec', 0.017084253582466086)]\n",
      "11 4 6000\n"
     ]
    },
    {
     "data": {
      "application/vnd.jupyter.widget-view+json": {
       "model_id": "8b1ec10589fe41dd9c3fee402ef8288d",
       "version_major": 2,
       "version_minor": 0
      },
      "text/plain": [
       "HBox(children=(HTML(value=''), FloatProgress(value=0.0, max=15.0), HTML(value='')))"
      ]
     },
     "metadata": {},
     "output_type": "display_data"
    },
    {
     "name": "stdout",
     "output_type": "stream",
     "text": [
      "\n"
     ]
    },
    {
     "data": {
      "application/vnd.jupyter.widget-view+json": {
       "model_id": "6c18ec4dab2a46f5a3a1a5dff21ca281",
       "version_major": 2,
       "version_minor": 0
      },
      "text/plain": [
       "HBox(children=(HTML(value=''), FloatProgress(value=0.0, max=5996.0), HTML(value='')))"
      ]
     },
     "metadata": {},
     "output_type": "display_data"
    },
    {
     "name": "stdout",
     "output_type": "stream",
     "text": [
      "\n",
      "train precision@50, recall@50, precision@5, recall@5\n",
      "[('own_rec', 0.10976069615663525)]\n",
      "[('own_rec', 0.04602210405575688)]\n",
      "[('own_rec', 0.2548223350253807)]\n",
      "[('own_rec', 0.011666676543422645)]\n",
      "test precision@50, recall@50, precision@5, recall@5\n",
      "[('own_rec', 0.04346627991298043)]\n",
      "[('own_rec', 0.050460074685355266)]\n",
      "[('own_rec', 0.1199419869470631)]\n",
      "[('own_rec', 0.015909114872342162)]\n",
      "11 5 500\n"
     ]
    },
    {
     "data": {
      "application/vnd.jupyter.widget-view+json": {
       "model_id": "15708249e4be4b15afef581356c8aa01",
       "version_major": 2,
       "version_minor": 0
      },
      "text/plain": [
       "HBox(children=(HTML(value=''), FloatProgress(value=0.0, max=15.0), HTML(value='')))"
      ]
     },
     "metadata": {},
     "output_type": "display_data"
    },
    {
     "name": "stdout",
     "output_type": "stream",
     "text": [
      "\n"
     ]
    },
    {
     "data": {
      "application/vnd.jupyter.widget-view+json": {
       "model_id": "07aa5da5545548bfba76568ef836ee05",
       "version_major": 2,
       "version_minor": 0
      },
      "text/plain": [
       "HBox(children=(HTML(value=''), FloatProgress(value=0.0, max=501.0), HTML(value='')))"
      ]
     },
     "metadata": {},
     "output_type": "display_data"
    },
    {
     "name": "stdout",
     "output_type": "stream",
     "text": [
      "\n",
      "train precision@50, recall@50, precision@5, recall@5\n",
      "[('own_rec', 0.15202320522117477)]\n",
      "[('own_rec', 0.05833463394289561)]\n",
      "[('own_rec', 0.36272661348803487)]\n",
      "[('own_rec', 0.015823217777814612)]\n",
      "test precision@50, recall@50, precision@5, recall@5\n",
      "[('own_rec', 0.06432197244379986)]\n",
      "[('own_rec', 0.06944907437072555)]\n",
      "[('own_rec', 0.18433647570703407)]\n",
      "[('own_rec', 0.0232589530672509)]\n",
      "11 5 1000\n"
     ]
    },
    {
     "data": {
      "application/vnd.jupyter.widget-view+json": {
       "model_id": "698f76ce221d411aa1eda751431bc628",
       "version_major": 2,
       "version_minor": 0
      },
      "text/plain": [
       "HBox(children=(HTML(value=''), FloatProgress(value=0.0, max=15.0), HTML(value='')))"
      ]
     },
     "metadata": {},
     "output_type": "display_data"
    },
    {
     "name": "stdout",
     "output_type": "stream",
     "text": [
      "\n"
     ]
    },
    {
     "data": {
      "application/vnd.jupyter.widget-view+json": {
       "model_id": "a0b47a96dc754bc2b7f74ecc5a1395ad",
       "version_major": 2,
       "version_minor": 0
      },
      "text/plain": [
       "HBox(children=(HTML(value=''), FloatProgress(value=0.0, max=1001.0), HTML(value='')))"
      ]
     },
     "metadata": {},
     "output_type": "display_data"
    },
    {
     "name": "stdout",
     "output_type": "stream",
     "text": [
      "\n",
      "train precision@50, recall@50, precision@5, recall@5\n",
      "[('own_rec', 0.1549093546047861)]\n",
      "[('own_rec', 0.061238725053718225)]\n",
      "[('own_rec', 0.34140681653372007)]\n",
      "[('own_rec', 0.015384514143177264)]\n",
      "test precision@50, recall@50, precision@5, recall@5\n",
      "[('own_rec', 0.06346627991298043)]\n",
      "[('own_rec', 0.0700724785143355)]\n",
      "[('own_rec', 0.1640319071791153)]\n",
      "[('own_rec', 0.021119701428292094)]\n",
      "11 5 2000\n"
     ]
    },
    {
     "data": {
      "application/vnd.jupyter.widget-view+json": {
       "model_id": "d87ea93fe5ea4b33bef7c5e0ecd207da",
       "version_major": 2,
       "version_minor": 0
      },
      "text/plain": [
       "HBox(children=(HTML(value=''), FloatProgress(value=0.0, max=15.0), HTML(value='')))"
      ]
     },
     "metadata": {},
     "output_type": "display_data"
    },
    {
     "name": "stdout",
     "output_type": "stream",
     "text": [
      "\n"
     ]
    },
    {
     "data": {
      "application/vnd.jupyter.widget-view+json": {
       "model_id": "5cc76ad245fe43faa0857cb8bcc1951c",
       "version_major": 2,
       "version_minor": 0
      },
      "text/plain": [
       "HBox(children=(HTML(value=''), FloatProgress(value=0.0, max=2001.0), HTML(value='')))"
      ]
     },
     "metadata": {},
     "output_type": "display_data"
    },
    {
     "name": "stdout",
     "output_type": "stream",
     "text": [
      "\n",
      "train precision@50, recall@50, precision@5, recall@5\n",
      "[('own_rec', 0.147962291515591)]\n",
      "[('own_rec', 0.06025142961236816)]\n",
      "[('own_rec', 0.3197969543147208)]\n",
      "[('own_rec', 0.014834639262127337)]\n",
      "test precision@50, recall@50, precision@5, recall@5\n",
      "[('own_rec', 0.06013052936910806)]\n",
      "[('own_rec', 0.06782819498723487)]\n",
      "[('own_rec', 0.15562001450326324)]\n",
      "[('own_rec', 0.02033990842590986)]\n",
      "11 5 3000\n"
     ]
    },
    {
     "data": {
      "application/vnd.jupyter.widget-view+json": {
       "model_id": "1c7b11ce7cf74d4f857eafdf64254403",
       "version_major": 2,
       "version_minor": 0
      },
      "text/plain": [
       "HBox(children=(HTML(value=''), FloatProgress(value=0.0, max=15.0), HTML(value='')))"
      ]
     },
     "metadata": {},
     "output_type": "display_data"
    },
    {
     "name": "stdout",
     "output_type": "stream",
     "text": [
      "\n"
     ]
    },
    {
     "data": {
      "application/vnd.jupyter.widget-view+json": {
       "model_id": "199015820aed42378901abde0eddcbf3",
       "version_major": 2,
       "version_minor": 0
      },
      "text/plain": [
       "HBox(children=(HTML(value=''), FloatProgress(value=0.0, max=3001.0), HTML(value='')))"
      ]
     },
     "metadata": {},
     "output_type": "display_data"
    },
    {
     "name": "stdout",
     "output_type": "stream",
     "text": [
      "\n",
      "train precision@50, recall@50, precision@5, recall@5\n",
      "[('own_rec', 0.1376939811457578)]\n",
      "[('own_rec', 0.0568458603904281)]\n",
      "[('own_rec', 0.3124002900652647)]\n",
      "[('own_rec', 0.014626427780144806)]\n",
      "test precision@50, recall@50, precision@5, recall@5\n",
      "[('own_rec', 0.05548948513415519)]\n",
      "[('own_rec', 0.06358330997934562)]\n",
      "[('own_rec', 0.14430746918056564)]\n",
      "[('own_rec', 0.019641693214138188)]\n",
      "11 5 4000\n"
     ]
    },
    {
     "data": {
      "application/vnd.jupyter.widget-view+json": {
       "model_id": "72a724e2a65645218980e281e3ca438d",
       "version_major": 2,
       "version_minor": 0
      },
      "text/plain": [
       "HBox(children=(HTML(value=''), FloatProgress(value=0.0, max=15.0), HTML(value='')))"
      ]
     },
     "metadata": {},
     "output_type": "display_data"
    },
    {
     "name": "stdout",
     "output_type": "stream",
     "text": [
      "\n"
     ]
    },
    {
     "data": {
      "application/vnd.jupyter.widget-view+json": {
       "model_id": "6b8d16c5ddf04564993c4d15f0aad5fe",
       "version_major": 2,
       "version_minor": 0
      },
      "text/plain": [
       "HBox(children=(HTML(value=''), FloatProgress(value=0.0, max=4000.0), HTML(value='')))"
      ]
     },
     "metadata": {},
     "output_type": "display_data"
    },
    {
     "name": "stdout",
     "output_type": "stream",
     "text": [
      "\n",
      "train precision@50, recall@50, precision@5, recall@5\n",
      "[('own_rec', 0.12828136330674403)]\n",
      "[('own_rec', 0.052952523514908895)]\n",
      "[('own_rec', 0.2870195794053662)]\n",
      "[('own_rec', 0.013194708149025675)]\n",
      "test precision@50, recall@50, precision@5, recall@5\n",
      "[('own_rec', 0.05058738216098624)]\n",
      "[('own_rec', 0.058725621135234336)]\n",
      "[('own_rec', 0.13401015228426397)]\n",
      "[('own_rec', 0.01848339449309837)]\n",
      "11 5 5000\n"
     ]
    },
    {
     "data": {
      "application/vnd.jupyter.widget-view+json": {
       "model_id": "493ea31ef4ce422ead3bf756d8c02c5c",
       "version_major": 2,
       "version_minor": 0
      },
      "text/plain": [
       "HBox(children=(HTML(value=''), FloatProgress(value=0.0, max=15.0), HTML(value='')))"
      ]
     },
     "metadata": {},
     "output_type": "display_data"
    },
    {
     "name": "stdout",
     "output_type": "stream",
     "text": [
      "\n"
     ]
    },
    {
     "data": {
      "application/vnd.jupyter.widget-view+json": {
       "model_id": "cf8f60c6c58b450bb950f97d1770d54d",
       "version_major": 2,
       "version_minor": 0
      },
      "text/plain": [
       "HBox(children=(HTML(value=''), FloatProgress(value=0.0, max=4997.0), HTML(value='')))"
      ]
     },
     "metadata": {},
     "output_type": "display_data"
    },
    {
     "name": "stdout",
     "output_type": "stream",
     "text": [
      "\n",
      "train precision@50, recall@50, precision@5, recall@5\n",
      "[('own_rec', 0.11733139956490211)]\n",
      "[('own_rec', 0.048919449454364036)]\n",
      "[('own_rec', 0.2674401740391588)]\n",
      "[('own_rec', 0.012250451253205591)]\n",
      "test precision@50, recall@50, precision@5, recall@5\n",
      "[('own_rec', 0.046178390137781)]\n",
      "[('own_rec', 0.05314338338476987)]\n",
      "[('own_rec', 0.12472806381435823)]\n",
      "[('own_rec', 0.01675240727057921)]\n",
      "11 5 6000\n"
     ]
    },
    {
     "data": {
      "application/vnd.jupyter.widget-view+json": {
       "model_id": "a6d7b5d49d2a4b389a10d98f7ecef47f",
       "version_major": 2,
       "version_minor": 0
      },
      "text/plain": [
       "HBox(children=(HTML(value=''), FloatProgress(value=0.0, max=15.0), HTML(value='')))"
      ]
     },
     "metadata": {},
     "output_type": "display_data"
    },
    {
     "name": "stdout",
     "output_type": "stream",
     "text": [
      "\n"
     ]
    },
    {
     "data": {
      "application/vnd.jupyter.widget-view+json": {
       "model_id": "e1bdc7394eba4a41a8513aba5e64ecbe",
       "version_major": 2,
       "version_minor": 0
      },
      "text/plain": [
       "HBox(children=(HTML(value=''), FloatProgress(value=0.0, max=5996.0), HTML(value='')))"
      ]
     },
     "metadata": {},
     "output_type": "display_data"
    },
    {
     "name": "stdout",
     "output_type": "stream",
     "text": [
      "\n",
      "train precision@50, recall@50, precision@5, recall@5\n",
      "[('own_rec', 0.10874546773023931)]\n",
      "[('own_rec', 0.04599748985095073)]\n",
      "[('own_rec', 0.25380710659898476)]\n",
      "[('own_rec', 0.011451513867544791)]\n",
      "test precision@50, recall@50, precision@5, recall@5\n",
      "[('own_rec', 0.04269760696156635)]\n",
      "[('own_rec', 0.04968556548154586)]\n",
      "[('own_rec', 0.11805656272661348)]\n",
      "[('own_rec', 0.015556054307606898)]\n",
      "11 6 500\n"
     ]
    },
    {
     "data": {
      "application/vnd.jupyter.widget-view+json": {
       "model_id": "7c0491fd74d74fc581fc99f769219eb5",
       "version_major": 2,
       "version_minor": 0
      },
      "text/plain": [
       "HBox(children=(HTML(value=''), FloatProgress(value=0.0, max=15.0), HTML(value='')))"
      ]
     },
     "metadata": {},
     "output_type": "display_data"
    },
    {
     "name": "stdout",
     "output_type": "stream",
     "text": [
      "\n"
     ]
    },
    {
     "data": {
      "application/vnd.jupyter.widget-view+json": {
       "model_id": "83b2688e277c4b81bda2686e8b093102",
       "version_major": 2,
       "version_minor": 0
      },
      "text/plain": [
       "HBox(children=(HTML(value=''), FloatProgress(value=0.0, max=501.0), HTML(value='')))"
      ]
     },
     "metadata": {},
     "output_type": "display_data"
    },
    {
     "name": "stdout",
     "output_type": "stream",
     "text": [
      "\n",
      "train precision@50, recall@50, precision@5, recall@5\n",
      "[('own_rec', 0.15234227701232778)]\n",
      "[('own_rec', 0.05973003430159876)]\n",
      "[('own_rec', 0.3659173313995649)]\n",
      "[('own_rec', 0.016701774007446116)]\n",
      "test precision@50, recall@50, precision@5, recall@5\n",
      "[('own_rec', 0.06407541696881798)]\n",
      "[('own_rec', 0.06898245401922104)]\n",
      "[('own_rec', 0.18143582306018854)]\n",
      "[('own_rec', 0.02274172659683184)]\n",
      "11 6 1000\n"
     ]
    },
    {
     "data": {
      "application/vnd.jupyter.widget-view+json": {
       "model_id": "13d6d603ffbb448ba90a5d7b73e5177f",
       "version_major": 2,
       "version_minor": 0
      },
      "text/plain": [
       "HBox(children=(HTML(value=''), FloatProgress(value=0.0, max=15.0), HTML(value='')))"
      ]
     },
     "metadata": {},
     "output_type": "display_data"
    },
    {
     "name": "stdout",
     "output_type": "stream",
     "text": [
      "\n"
     ]
    },
    {
     "data": {
      "application/vnd.jupyter.widget-view+json": {
       "model_id": "3c942ec0da314f6fbe54778dbf5c627b",
       "version_major": 2,
       "version_minor": 0
      },
      "text/plain": [
       "HBox(children=(HTML(value=''), FloatProgress(value=0.0, max=1001.0), HTML(value='')))"
      ]
     },
     "metadata": {},
     "output_type": "display_data"
    },
    {
     "name": "stdout",
     "output_type": "stream",
     "text": [
      "\n",
      "train precision@50, recall@50, precision@5, recall@5\n",
      "[('own_rec', 0.15485134155184918)]\n",
      "[('own_rec', 0.06277080884082739)]\n",
      "[('own_rec', 0.3428571428571429)]\n",
      "[('own_rec', 0.01615783284010125)]\n",
      "test precision@50, recall@50, precision@5, recall@5\n",
      "[('own_rec', 0.06298767222625092)]\n",
      "[('own_rec', 0.06948124411566496)]\n",
      "[('own_rec', 0.16301667875271936)]\n",
      "[('own_rec', 0.021088777472340822)]\n",
      "11 6 2000\n"
     ]
    },
    {
     "data": {
      "application/vnd.jupyter.widget-view+json": {
       "model_id": "568a4d4dbb304bdba8da9747b8acf74f",
       "version_major": 2,
       "version_minor": 0
      },
      "text/plain": [
       "HBox(children=(HTML(value=''), FloatProgress(value=0.0, max=15.0), HTML(value='')))"
      ]
     },
     "metadata": {},
     "output_type": "display_data"
    },
    {
     "name": "stdout",
     "output_type": "stream",
     "text": [
      "\n"
     ]
    },
    {
     "data": {
      "application/vnd.jupyter.widget-view+json": {
       "model_id": "2b19bf25eaa24a48a9f3ceef0f754554",
       "version_major": 2,
       "version_minor": 0
      },
      "text/plain": [
       "HBox(children=(HTML(value=''), FloatProgress(value=0.0, max=2001.0), HTML(value='')))"
      ]
     },
     "metadata": {},
     "output_type": "display_data"
    },
    {
     "name": "stdout",
     "output_type": "stream",
     "text": [
      "\n",
      "train precision@50, recall@50, precision@5, recall@5\n",
      "[('own_rec', 0.14632342277012328)]\n",
      "[('own_rec', 0.06081948509697964)]\n",
      "[('own_rec', 0.3161711385061639)]\n",
      "[('own_rec', 0.015369885166525713)]\n",
      "test precision@50, recall@50, precision@5, recall@5\n",
      "[('own_rec', 0.05917331399564903)]\n",
      "[('own_rec', 0.06639741938938558)]\n",
      "[('own_rec', 0.1525743292240754)]\n",
      "[('own_rec', 0.020015897424768204)]\n",
      "11 6 3000\n"
     ]
    },
    {
     "data": {
      "application/vnd.jupyter.widget-view+json": {
       "model_id": "200e215f068746e6a50159a605c17a5a",
       "version_major": 2,
       "version_minor": 0
      },
      "text/plain": [
       "HBox(children=(HTML(value=''), FloatProgress(value=0.0, max=15.0), HTML(value='')))"
      ]
     },
     "metadata": {},
     "output_type": "display_data"
    },
    {
     "name": "stdout",
     "output_type": "stream",
     "text": [
      "\n"
     ]
    },
    {
     "data": {
      "application/vnd.jupyter.widget-view+json": {
       "model_id": "76a7654891544d30b04f03d14c1e546a",
       "version_major": 2,
       "version_minor": 0
      },
      "text/plain": [
       "HBox(children=(HTML(value=''), FloatProgress(value=0.0, max=3001.0), HTML(value='')))"
      ]
     },
     "metadata": {},
     "output_type": "display_data"
    },
    {
     "name": "stdout",
     "output_type": "stream",
     "text": [
      "\n",
      "train precision@50, recall@50, precision@5, recall@5\n",
      "[('own_rec', 0.13695431472081218)]\n",
      "[('own_rec', 0.0579786797931196)]\n",
      "[('own_rec', 0.30993473531544596)]\n",
      "[('own_rec', 0.015295088694746396)]\n",
      "test precision@50, recall@50, precision@5, recall@5\n",
      "[('own_rec', 0.05490935460478609)]\n",
      "[('own_rec', 0.06241315625814978)]\n",
      "[('own_rec', 0.14242204496011604)]\n",
      "[('own_rec', 0.019119363822787373)]\n",
      "11 6 4000\n"
     ]
    },
    {
     "data": {
      "application/vnd.jupyter.widget-view+json": {
       "model_id": "c61b7d5d0ba7425d995aa48495c5b87b",
       "version_major": 2,
       "version_minor": 0
      },
      "text/plain": [
       "HBox(children=(HTML(value=''), FloatProgress(value=0.0, max=15.0), HTML(value='')))"
      ]
     },
     "metadata": {},
     "output_type": "display_data"
    },
    {
     "name": "stdout",
     "output_type": "stream",
     "text": [
      "\n"
     ]
    },
    {
     "data": {
      "application/vnd.jupyter.widget-view+json": {
       "model_id": "19f30f2a730f4f44876047c581a80a1c",
       "version_major": 2,
       "version_minor": 0
      },
      "text/plain": [
       "HBox(children=(HTML(value=''), FloatProgress(value=0.0, max=4000.0), HTML(value='')))"
      ]
     },
     "metadata": {},
     "output_type": "display_data"
    },
    {
     "name": "stdout",
     "output_type": "stream",
     "text": [
      "\n",
      "train precision@50, recall@50, precision@5, recall@5\n",
      "[('own_rec', 0.12704858593183468)]\n",
      "[('own_rec', 0.053748882684330264)]\n",
      "[('own_rec', 0.2848440899202321)]\n",
      "[('own_rec', 0.013560353952445415)]\n",
      "test precision@50, recall@50, precision@5, recall@5\n",
      "[('own_rec', 0.04999274836838288)]\n",
      "[('own_rec', 0.05715328754344411)]\n",
      "[('own_rec', 0.13284989122552576)]\n",
      "[('own_rec', 0.018071971707569624)]\n",
      "11 6 5000\n"
     ]
    },
    {
     "data": {
      "application/vnd.jupyter.widget-view+json": {
       "model_id": "e43d900bdf844c43b08e5fd532d71e61",
       "version_major": 2,
       "version_minor": 0
      },
      "text/plain": [
       "HBox(children=(HTML(value=''), FloatProgress(value=0.0, max=15.0), HTML(value='')))"
      ]
     },
     "metadata": {},
     "output_type": "display_data"
    },
    {
     "name": "stdout",
     "output_type": "stream",
     "text": [
      "\n"
     ]
    },
    {
     "data": {
      "application/vnd.jupyter.widget-view+json": {
       "model_id": "1846b3305ad047c19909a965e4282344",
       "version_major": 2,
       "version_minor": 0
      },
      "text/plain": [
       "HBox(children=(HTML(value=''), FloatProgress(value=0.0, max=4997.0), HTML(value='')))"
      ]
     },
     "metadata": {},
     "output_type": "display_data"
    },
    {
     "name": "stdout",
     "output_type": "stream",
     "text": [
      "\n",
      "train precision@50, recall@50, precision@5, recall@5\n",
      "[('own_rec', 0.11592458303118203)]\n",
      "[('own_rec', 0.04949266385306559)]\n",
      "[('own_rec', 0.26482958665699785)]\n",
      "[('own_rec', 0.01236965393310219)]\n",
      "test precision@50, recall@50, precision@5, recall@5\n",
      "[('own_rec', 0.04567077592458303)]\n",
      "[('own_rec', 0.051873445349490226)]\n",
      "[('own_rec', 0.12269760696156634)]\n",
      "[('own_rec', 0.01622073900991797)]\n",
      "11 6 6000\n"
     ]
    },
    {
     "data": {
      "application/vnd.jupyter.widget-view+json": {
       "model_id": "03d857da50ba449e91ba9e5dd9d1902b",
       "version_major": 2,
       "version_minor": 0
      },
      "text/plain": [
       "HBox(children=(HTML(value=''), FloatProgress(value=0.0, max=15.0), HTML(value='')))"
      ]
     },
     "metadata": {},
     "output_type": "display_data"
    },
    {
     "name": "stdout",
     "output_type": "stream",
     "text": [
      "\n"
     ]
    },
    {
     "data": {
      "application/vnd.jupyter.widget-view+json": {
       "model_id": "1a212f71330d49939552f3edf2fedc61",
       "version_major": 2,
       "version_minor": 0
      },
      "text/plain": [
       "HBox(children=(HTML(value=''), FloatProgress(value=0.0, max=5996.0), HTML(value='')))"
      ]
     },
     "metadata": {},
     "output_type": "display_data"
    },
    {
     "name": "stdout",
     "output_type": "stream",
     "text": [
      "\n",
      "train precision@50, recall@50, precision@5, recall@5\n",
      "[('own_rec', 0.10655547498187092)]\n",
      "[('own_rec', 0.04638798587366674)]\n",
      "[('own_rec', 0.24916606236403194)]\n",
      "[('own_rec', 0.011588486990231853)]\n",
      "test precision@50, recall@50, precision@5, recall@5\n",
      "[('own_rec', 0.04204496011602611)]\n",
      "[('own_rec', 0.048855232211048684)]\n",
      "[('own_rec', 0.11617113850616388)]\n",
      "[('own_rec', 0.015319207570821046)]\n",
      "12 1 500\n"
     ]
    },
    {
     "data": {
      "application/vnd.jupyter.widget-view+json": {
       "model_id": "6969d504b46a45e18fb0385574f0ca06",
       "version_major": 2,
       "version_minor": 0
      },
      "text/plain": [
       "HBox(children=(HTML(value=''), FloatProgress(value=0.0, max=15.0), HTML(value='')))"
      ]
     },
     "metadata": {},
     "output_type": "display_data"
    },
    {
     "name": "stdout",
     "output_type": "stream",
     "text": [
      "\n"
     ]
    },
    {
     "data": {
      "application/vnd.jupyter.widget-view+json": {
       "model_id": "c5c520401cf54d3082c779a31fee104f",
       "version_major": 2,
       "version_minor": 0
      },
      "text/plain": [
       "HBox(children=(HTML(value=''), FloatProgress(value=0.0, max=501.0), HTML(value='')))"
      ]
     },
     "metadata": {},
     "output_type": "display_data"
    },
    {
     "name": "stdout",
     "output_type": "stream",
     "text": [
      "\n",
      "train precision@50, recall@50, precision@5, recall@5\n",
      "[('own_rec', 0.1648585931834663)]\n",
      "[('own_rec', 0.05839132298692906)]\n",
      "[('own_rec', 0.3876722262509065)]\n",
      "[('own_rec', 0.015727495691889214)]\n",
      "test precision@50, recall@50, precision@5, recall@5\n",
      "[('own_rec', 0.06485859318346629)]\n",
      "[('own_rec', 0.06956944183523166)]\n",
      "[('own_rec', 0.18825235678027558)]\n",
      "[('own_rec', 0.0235998517742053)]\n",
      "12 1 1000\n"
     ]
    },
    {
     "data": {
      "application/vnd.jupyter.widget-view+json": {
       "model_id": "bef0cfa566e94338839a9f6063946615",
       "version_major": 2,
       "version_minor": 0
      },
      "text/plain": [
       "HBox(children=(HTML(value=''), FloatProgress(value=0.0, max=15.0), HTML(value='')))"
      ]
     },
     "metadata": {},
     "output_type": "display_data"
    },
    {
     "name": "stdout",
     "output_type": "stream",
     "text": [
      "\n"
     ]
    },
    {
     "data": {
      "application/vnd.jupyter.widget-view+json": {
       "model_id": "d57fc68ee7eb47b786391dd46e580407",
       "version_major": 2,
       "version_minor": 0
      },
      "text/plain": [
       "HBox(children=(HTML(value=''), FloatProgress(value=0.0, max=1001.0), HTML(value='')))"
      ]
     },
     "metadata": {},
     "output_type": "display_data"
    },
    {
     "name": "stdout",
     "output_type": "stream",
     "text": [
      "\n",
      "train precision@50, recall@50, precision@5, recall@5\n",
      "[('own_rec', 0.16567077592458304)]\n",
      "[('own_rec', 0.060235099878745195)]\n",
      "[('own_rec', 0.3564902102973169)]\n",
      "[('own_rec', 0.014734791227451445)]\n",
      "test precision@50, recall@50, precision@5, recall@5\n",
      "[('own_rec', 0.06474256707759246)]\n",
      "[('own_rec', 0.07119172429962517)]\n",
      "[('own_rec', 0.1695431472081218)]\n",
      "[('own_rec', 0.021771854308876664)]\n",
      "12 1 2000\n"
     ]
    },
    {
     "data": {
      "application/vnd.jupyter.widget-view+json": {
       "model_id": "5873c66f1af1418ba9fbb1499a10fad5",
       "version_major": 2,
       "version_minor": 0
      },
      "text/plain": [
       "HBox(children=(HTML(value=''), FloatProgress(value=0.0, max=15.0), HTML(value='')))"
      ]
     },
     "metadata": {},
     "output_type": "display_data"
    },
    {
     "name": "stdout",
     "output_type": "stream",
     "text": [
      "\n"
     ]
    },
    {
     "data": {
      "application/vnd.jupyter.widget-view+json": {
       "model_id": "45b7c4cd3a11451eb5e285266e5f8ed8",
       "version_major": 2,
       "version_minor": 0
      },
      "text/plain": [
       "HBox(children=(HTML(value=''), FloatProgress(value=0.0, max=2001.0), HTML(value='')))"
      ]
     },
     "metadata": {},
     "output_type": "display_data"
    },
    {
     "name": "stdout",
     "output_type": "stream",
     "text": [
      "\n",
      "train precision@50, recall@50, precision@5, recall@5\n",
      "[('own_rec', 0.15776649746192895)]\n",
      "[('own_rec', 0.059104858796396126)]\n",
      "[('own_rec', 0.33792603335750543)]\n",
      "[('own_rec', 0.014453770421514191)]\n",
      "test precision@50, recall@50, precision@5, recall@5\n",
      "[('own_rec', 0.061377810007251635)]\n",
      "[('own_rec', 0.06787808372048725)]\n",
      "[('own_rec', 0.1602610587382161)]\n",
      "[('own_rec', 0.020775942279582838)]\n",
      "12 1 3000\n"
     ]
    },
    {
     "data": {
      "application/vnd.jupyter.widget-view+json": {
       "model_id": "b326daeaa7cd4e1c928d71a9ca60bb81",
       "version_major": 2,
       "version_minor": 0
      },
      "text/plain": [
       "HBox(children=(HTML(value=''), FloatProgress(value=0.0, max=15.0), HTML(value='')))"
      ]
     },
     "metadata": {},
     "output_type": "display_data"
    },
    {
     "name": "stdout",
     "output_type": "stream",
     "text": [
      "\n"
     ]
    },
    {
     "data": {
      "application/vnd.jupyter.widget-view+json": {
       "model_id": "9c3a7024ae814a38a419dd8bce9eab52",
       "version_major": 2,
       "version_minor": 0
      },
      "text/plain": [
       "HBox(children=(HTML(value=''), FloatProgress(value=0.0, max=3001.0), HTML(value='')))"
      ]
     },
     "metadata": {},
     "output_type": "display_data"
    },
    {
     "name": "stdout",
     "output_type": "stream",
     "text": [
      "\n",
      "train precision@50, recall@50, precision@5, recall@5\n",
      "[('own_rec', 0.1484118926758521)]\n",
      "[('own_rec', 0.05620117612991161)]\n",
      "[('own_rec', 0.32342277012327775)]\n",
      "[('own_rec', 0.013862739559376709)]\n",
      "test precision@50, recall@50, precision@5, recall@5\n",
      "[('own_rec', 0.0571718636693256)]\n",
      "[('own_rec', 0.0650539125480262)]\n",
      "[('own_rec', 0.15054387237128355)]\n",
      "[('own_rec', 0.02037193826393069)]\n",
      "12 1 4000\n"
     ]
    },
    {
     "data": {
      "application/vnd.jupyter.widget-view+json": {
       "model_id": "9fc6c7b63f0b46798e731525daaeaa2b",
       "version_major": 2,
       "version_minor": 0
      },
      "text/plain": [
       "HBox(children=(HTML(value=''), FloatProgress(value=0.0, max=15.0), HTML(value='')))"
      ]
     },
     "metadata": {},
     "output_type": "display_data"
    },
    {
     "name": "stdout",
     "output_type": "stream",
     "text": [
      "\n"
     ]
    },
    {
     "data": {
      "application/vnd.jupyter.widget-view+json": {
       "model_id": "841e631290f7411580d19243ae392130",
       "version_major": 2,
       "version_minor": 0
      },
      "text/plain": [
       "HBox(children=(HTML(value=''), FloatProgress(value=0.0, max=4000.0), HTML(value='')))"
      ]
     },
     "metadata": {},
     "output_type": "display_data"
    },
    {
     "name": "stdout",
     "output_type": "stream",
     "text": [
      "\n",
      "train precision@50, recall@50, precision@5, recall@5\n",
      "[('own_rec', 0.13630166787527195)]\n",
      "[('own_rec', 0.05154486878170222)]\n",
      "[('own_rec', 0.30137781000725167)]\n",
      "[('own_rec', 0.01274714221750211)]\n",
      "test precision@50, recall@50, precision@5, recall@5\n",
      "[('own_rec', 0.052690355329949236)]\n",
      "[('own_rec', 0.06085260378061523)]\n",
      "[('own_rec', 0.1387962291515591)]\n",
      "[('own_rec', 0.019048864643910965)]\n",
      "12 1 5000\n"
     ]
    },
    {
     "data": {
      "application/vnd.jupyter.widget-view+json": {
       "model_id": "685518bbb7a54cf28f9201f1b6f33089",
       "version_major": 2,
       "version_minor": 0
      },
      "text/plain": [
       "HBox(children=(HTML(value=''), FloatProgress(value=0.0, max=15.0), HTML(value='')))"
      ]
     },
     "metadata": {},
     "output_type": "display_data"
    },
    {
     "name": "stdout",
     "output_type": "stream",
     "text": [
      "\n"
     ]
    },
    {
     "data": {
      "application/vnd.jupyter.widget-view+json": {
       "model_id": "ad3cfb90438942e79fff216cc92bf755",
       "version_major": 2,
       "version_minor": 0
      },
      "text/plain": [
       "HBox(children=(HTML(value=''), FloatProgress(value=0.0, max=4998.0), HTML(value='')))"
      ]
     },
     "metadata": {},
     "output_type": "display_data"
    },
    {
     "name": "stdout",
     "output_type": "stream",
     "text": [
      "\n",
      "train precision@50, recall@50, precision@5, recall@5\n",
      "[('own_rec', 0.12426395939086296)]\n",
      "[('own_rec', 0.0474340404055234)]\n",
      "[('own_rec', 0.281653372008702)]\n",
      "[('own_rec', 0.011773560047332278)]\n",
      "test precision@50, recall@50, precision@5, recall@5\n",
      "[('own_rec', 0.04802030456852792)]\n",
      "[('own_rec', 0.05554241153466824)]\n",
      "[('own_rec', 0.12965917331399562)]\n",
      "[('own_rec', 0.017573536241957125)]\n",
      "12 1 6000\n"
     ]
    },
    {
     "data": {
      "application/vnd.jupyter.widget-view+json": {
       "model_id": "5905342b489b4352a81ff13214cb1ac5",
       "version_major": 2,
       "version_minor": 0
      },
      "text/plain": [
       "HBox(children=(HTML(value=''), FloatProgress(value=0.0, max=15.0), HTML(value='')))"
      ]
     },
     "metadata": {},
     "output_type": "display_data"
    },
    {
     "name": "stdout",
     "output_type": "stream",
     "text": [
      "\n"
     ]
    },
    {
     "data": {
      "application/vnd.jupyter.widget-view+json": {
       "model_id": "54b5713a50904853b96ebe645a764d39",
       "version_major": 2,
       "version_minor": 0
      },
      "text/plain": [
       "HBox(children=(HTML(value=''), FloatProgress(value=0.0, max=5996.0), HTML(value='')))"
      ]
     },
     "metadata": {},
     "output_type": "display_data"
    },
    {
     "name": "stdout",
     "output_type": "stream",
     "text": [
      "\n",
      "train precision@50, recall@50, precision@5, recall@5\n",
      "[('own_rec', 0.11521392313270487)]\n",
      "[('own_rec', 0.04463693473587888)]\n",
      "[('own_rec', 0.26715010877447426)]\n",
      "[('own_rec', 0.011258021831587495)]\n",
      "test precision@50, recall@50, precision@5, recall@5\n",
      "[('own_rec', 0.044394488759971)]\n",
      "[('own_rec', 0.05129243467139652)]\n",
      "[('own_rec', 0.12327773749093546)]\n",
      "[('own_rec', 0.016114883541138547)]\n",
      "12 2 500\n"
     ]
    },
    {
     "data": {
      "application/vnd.jupyter.widget-view+json": {
       "model_id": "15997bfe5ad34f3484a01b8071ca5984",
       "version_major": 2,
       "version_minor": 0
      },
      "text/plain": [
       "HBox(children=(HTML(value=''), FloatProgress(value=0.0, max=15.0), HTML(value='')))"
      ]
     },
     "metadata": {},
     "output_type": "display_data"
    },
    {
     "name": "stdout",
     "output_type": "stream",
     "text": [
      "\n"
     ]
    },
    {
     "data": {
      "application/vnd.jupyter.widget-view+json": {
       "model_id": "a2ffb7738b5c487eaa2c6d1c94a3e35e",
       "version_major": 2,
       "version_minor": 0
      },
      "text/plain": [
       "HBox(children=(HTML(value=''), FloatProgress(value=0.0, max=501.0), HTML(value='')))"
      ]
     },
     "metadata": {},
     "output_type": "display_data"
    },
    {
     "name": "stdout",
     "output_type": "stream",
     "text": [
      "\n",
      "train precision@50, recall@50, precision@5, recall@5\n",
      "[('own_rec', 0.16445250181290794)]\n",
      "[('own_rec', 0.05764822580235551)]\n",
      "[('own_rec', 0.38564176939811456)]\n",
      "[('own_rec', 0.015487599721381926)]\n",
      "test precision@50, recall@50, precision@5, recall@5\n",
      "[('own_rec', 0.06485859318346629)]\n",
      "[('own_rec', 0.06986121340434617)]\n",
      "[('own_rec', 0.18709209572153734)]\n",
      "[('own_rec', 0.02367019691964053)]\n",
      "12 2 1000\n"
     ]
    },
    {
     "data": {
      "application/vnd.jupyter.widget-view+json": {
       "model_id": "95dfa03799704b5c900f01400835dea2",
       "version_major": 2,
       "version_minor": 0
      },
      "text/plain": [
       "HBox(children=(HTML(value=''), FloatProgress(value=0.0, max=15.0), HTML(value='')))"
      ]
     },
     "metadata": {},
     "output_type": "display_data"
    },
    {
     "name": "stdout",
     "output_type": "stream",
     "text": [
      "\n"
     ]
    },
    {
     "data": {
      "application/vnd.jupyter.widget-view+json": {
       "model_id": "c784d009d20245efbc329862ed35a471",
       "version_major": 2,
       "version_minor": 0
      },
      "text/plain": [
       "HBox(children=(HTML(value=''), FloatProgress(value=0.0, max=1001.0), HTML(value='')))"
      ]
     },
     "metadata": {},
     "output_type": "display_data"
    },
    {
     "name": "stdout",
     "output_type": "stream",
     "text": [
      "\n",
      "train precision@50, recall@50, precision@5, recall@5\n",
      "[('own_rec', 0.16536620739666427)]\n",
      "[('own_rec', 0.05952840775755381)]\n",
      "[('own_rec', 0.3553299492385787)]\n",
      "[('own_rec', 0.014531654619832827)]\n",
      "test precision@50, recall@50, precision@5, recall@5\n",
      "[('own_rec', 0.06445250181290792)]\n",
      "[('own_rec', 0.07105435198004237)]\n",
      "[('own_rec', 0.16707759245830314)]\n",
      "[('own_rec', 0.021570053723654014)]\n",
      "12 2 2000\n"
     ]
    },
    {
     "data": {
      "application/vnd.jupyter.widget-view+json": {
       "model_id": "5e72f1ef862c4c50abcb91e702aa0928",
       "version_major": 2,
       "version_minor": 0
      },
      "text/plain": [
       "HBox(children=(HTML(value=''), FloatProgress(value=0.0, max=15.0), HTML(value='')))"
      ]
     },
     "metadata": {},
     "output_type": "display_data"
    },
    {
     "name": "stdout",
     "output_type": "stream",
     "text": [
      "\n"
     ]
    },
    {
     "data": {
      "application/vnd.jupyter.widget-view+json": {
       "model_id": "3b3f7c8bc98541359d19a87976327423",
       "version_major": 2,
       "version_minor": 0
      },
      "text/plain": [
       "HBox(children=(HTML(value=''), FloatProgress(value=0.0, max=2001.0), HTML(value='')))"
      ]
     },
     "metadata": {},
     "output_type": "display_data"
    },
    {
     "name": "stdout",
     "output_type": "stream",
     "text": [
      "\n",
      "train precision@50, recall@50, precision@5, recall@5\n",
      "[('own_rec', 0.15749093546047863)]\n",
      "[('own_rec', 0.05830974731616246)]\n",
      "[('own_rec', 0.33473531544597535)]\n",
      "[('own_rec', 0.014148468717104441)]\n",
      "test precision@50, recall@50, precision@5, recall@5\n",
      "[('own_rec', 0.06098622189992749)]\n",
      "[('own_rec', 0.0679072070021304)]\n",
      "[('own_rec', 0.15678027556200144)]\n",
      "[('own_rec', 0.020612985829756004)]\n",
      "12 2 3000\n"
     ]
    },
    {
     "data": {
      "application/vnd.jupyter.widget-view+json": {
       "model_id": "cb84ed4a506e4ff69d80bfd612f1ce39",
       "version_major": 2,
       "version_minor": 0
      },
      "text/plain": [
       "HBox(children=(HTML(value=''), FloatProgress(value=0.0, max=15.0), HTML(value='')))"
      ]
     },
     "metadata": {},
     "output_type": "display_data"
    },
    {
     "name": "stdout",
     "output_type": "stream",
     "text": [
      "\n"
     ]
    },
    {
     "data": {
      "application/vnd.jupyter.widget-view+json": {
       "model_id": "6781b1a1f2db460a815767d77efcfd08",
       "version_major": 2,
       "version_minor": 0
      },
      "text/plain": [
       "HBox(children=(HTML(value=''), FloatProgress(value=0.0, max=3001.0), HTML(value='')))"
      ]
     },
     "metadata": {},
     "output_type": "display_data"
    },
    {
     "name": "stdout",
     "output_type": "stream",
     "text": [
      "\n",
      "train precision@50, recall@50, precision@5, recall@5\n",
      "[('own_rec', 0.1473821609862219)]\n",
      "[('own_rec', 0.05497955567336396)]\n",
      "[('own_rec', 0.32110224800580134)]\n",
      "[('own_rec', 0.013549948757480348)]\n",
      "test precision@50, recall@50, precision@5, recall@5\n",
      "[('own_rec', 0.05653372008701959)]\n",
      "[('own_rec', 0.06436271661810314)]\n",
      "[('own_rec', 0.14778825235678028)]\n",
      "[('own_rec', 0.0199866805775854)]\n",
      "12 2 4000\n"
     ]
    },
    {
     "data": {
      "application/vnd.jupyter.widget-view+json": {
       "model_id": "f568a911586343dcbe490dc88aa0c082",
       "version_major": 2,
       "version_minor": 0
      },
      "text/plain": [
       "HBox(children=(HTML(value=''), FloatProgress(value=0.0, max=15.0), HTML(value='')))"
      ]
     },
     "metadata": {},
     "output_type": "display_data"
    },
    {
     "name": "stdout",
     "output_type": "stream",
     "text": [
      "\n"
     ]
    },
    {
     "data": {
      "application/vnd.jupyter.widget-view+json": {
       "model_id": "5cc6122c750740f289f6400ee682c92a",
       "version_major": 2,
       "version_minor": 0
      },
      "text/plain": [
       "HBox(children=(HTML(value=''), FloatProgress(value=0.0, max=4000.0), HTML(value='')))"
      ]
     },
     "metadata": {},
     "output_type": "display_data"
    },
    {
     "name": "stdout",
     "output_type": "stream",
     "text": [
      "\n",
      "train precision@50, recall@50, precision@5, recall@5\n",
      "[('own_rec', 0.13669325598259607)]\n",
      "[('own_rec', 0.051169530301918016)]\n",
      "[('own_rec', 0.2999274836838289)]\n",
      "[('own_rec', 0.012665243961501952)]\n",
      "test precision@50, recall@50, precision@5, recall@5\n",
      "[('own_rec', 0.05200870195794054)]\n",
      "[('own_rec', 0.06022964563632744)]\n",
      "[('own_rec', 0.13792603335750542)]\n",
      "[('own_rec', 0.018742389729979828)]\n",
      "12 2 5000\n"
     ]
    },
    {
     "data": {
      "application/vnd.jupyter.widget-view+json": {
       "model_id": "25f0ecc31b0f43b28247b17f29a1c368",
       "version_major": 2,
       "version_minor": 0
      },
      "text/plain": [
       "HBox(children=(HTML(value=''), FloatProgress(value=0.0, max=15.0), HTML(value='')))"
      ]
     },
     "metadata": {},
     "output_type": "display_data"
    },
    {
     "name": "stdout",
     "output_type": "stream",
     "text": [
      "\n"
     ]
    },
    {
     "data": {
      "application/vnd.jupyter.widget-view+json": {
       "model_id": "5c4fdb587e8c4184a6ddddd0c9d1039e",
       "version_major": 2,
       "version_minor": 0
      },
      "text/plain": [
       "HBox(children=(HTML(value=''), FloatProgress(value=0.0, max=4997.0), HTML(value='')))"
      ]
     },
     "metadata": {},
     "output_type": "display_data"
    },
    {
     "name": "stdout",
     "output_type": "stream",
     "text": [
      "\n",
      "train precision@50, recall@50, precision@5, recall@5\n",
      "[('own_rec', 0.12461203770848443)]\n",
      "[('own_rec', 0.046907408195432786)]\n",
      "[('own_rec', 0.27991298042059465)]\n",
      "[('own_rec', 0.011530761127113697)]\n",
      "test precision@50, recall@50, precision@5, recall@5\n",
      "[('own_rec', 0.047541696881798406)]\n",
      "[('own_rec', 0.05482864742169489)]\n",
      "[('own_rec', 0.12733865119651921)]\n",
      "[('own_rec', 0.01729568607874119)]\n",
      "12 2 6000\n"
     ]
    },
    {
     "data": {
      "application/vnd.jupyter.widget-view+json": {
       "model_id": "4107087e96c64d4ca3d8f354b4929af7",
       "version_major": 2,
       "version_minor": 0
      },
      "text/plain": [
       "HBox(children=(HTML(value=''), FloatProgress(value=0.0, max=15.0), HTML(value='')))"
      ]
     },
     "metadata": {},
     "output_type": "display_data"
    },
    {
     "name": "stdout",
     "output_type": "stream",
     "text": [
      "\n"
     ]
    },
    {
     "data": {
      "application/vnd.jupyter.widget-view+json": {
       "model_id": "db8629fa3534491bb0a35e417dfb41d9",
       "version_major": 2,
       "version_minor": 0
      },
      "text/plain": [
       "HBox(children=(HTML(value=''), FloatProgress(value=0.0, max=5996.0), HTML(value='')))"
      ]
     },
     "metadata": {},
     "output_type": "display_data"
    },
    {
     "name": "stdout",
     "output_type": "stream",
     "text": [
      "\n",
      "train precision@50, recall@50, precision@5, recall@5\n",
      "[('own_rec', 0.11519941986947065)]\n",
      "[('own_rec', 0.04394586611619023)]\n",
      "[('own_rec', 0.2623640319071791)]\n",
      "[('own_rec', 0.010790550414965811)]\n",
      "test precision@50, recall@50, precision@5, recall@5\n",
      "[('own_rec', 0.043828861493836115)]\n",
      "[('own_rec', 0.050536039209040026)]\n",
      "[('own_rec', 0.12066715010877446)]\n",
      "[('own_rec', 0.015754675937736932)]\n",
      "12 3 500\n"
     ]
    },
    {
     "data": {
      "application/vnd.jupyter.widget-view+json": {
       "model_id": "8e426dfa24fa4c53bc7c17d447f2cd8d",
       "version_major": 2,
       "version_minor": 0
      },
      "text/plain": [
       "HBox(children=(HTML(value=''), FloatProgress(value=0.0, max=15.0), HTML(value='')))"
      ]
     },
     "metadata": {},
     "output_type": "display_data"
    },
    {
     "name": "stdout",
     "output_type": "stream",
     "text": [
      "\n"
     ]
    },
    {
     "data": {
      "application/vnd.jupyter.widget-view+json": {
       "model_id": "a7b55663acfa4db99369f50d690bab21",
       "version_major": 2,
       "version_minor": 0
      },
      "text/plain": [
       "HBox(children=(HTML(value=''), FloatProgress(value=0.0, max=501.0), HTML(value='')))"
      ]
     },
     "metadata": {},
     "output_type": "display_data"
    },
    {
     "name": "stdout",
     "output_type": "stream",
     "text": [
      "\n",
      "train precision@50, recall@50, precision@5, recall@5\n",
      "[('own_rec', 0.16149383611312546)]\n",
      "[('own_rec', 0.05763455135694696)]\n",
      "[('own_rec', 0.37911530094271206)]\n",
      "[('own_rec', 0.015459853415793437)]\n",
      "test precision@50, recall@50, precision@5, recall@5\n",
      "[('own_rec', 0.06469905728788977)]\n",
      "[('own_rec', 0.06975596940624514)]\n",
      "[('own_rec', 0.1866569978245105)]\n",
      "[('own_rec', 0.023529882132928785)]\n",
      "12 3 1000\n"
     ]
    },
    {
     "data": {
      "application/vnd.jupyter.widget-view+json": {
       "model_id": "4b465ec9b7564b629d4ec8b376e1dd6c",
       "version_major": 2,
       "version_minor": 0
      },
      "text/plain": [
       "HBox(children=(HTML(value=''), FloatProgress(value=0.0, max=15.0), HTML(value='')))"
      ]
     },
     "metadata": {},
     "output_type": "display_data"
    },
    {
     "name": "stdout",
     "output_type": "stream",
     "text": [
      "\n"
     ]
    },
    {
     "data": {
      "application/vnd.jupyter.widget-view+json": {
       "model_id": "e289ff27ec744d9f8958552c8a3e49f6",
       "version_major": 2,
       "version_minor": 0
      },
      "text/plain": [
       "HBox(children=(HTML(value=''), FloatProgress(value=0.0, max=1001.0), HTML(value='')))"
      ]
     },
     "metadata": {},
     "output_type": "display_data"
    },
    {
     "name": "stdout",
     "output_type": "stream",
     "text": [
      "\n",
      "train precision@50, recall@50, precision@5, recall@5\n",
      "[('own_rec', 0.16287164612037708)]\n",
      "[('own_rec', 0.06002490058459495)]\n",
      "[('own_rec', 0.35431472081218274)]\n",
      "[('own_rec', 0.014974566349963109)]\n",
      "test precision@50, recall@50, precision@5, recall@5\n",
      "[('own_rec', 0.06407541696881798)]\n",
      "[('own_rec', 0.07066914900862271)]\n",
      "[('own_rec', 0.16678752719361856)]\n",
      "[('own_rec', 0.021554788726629675)]\n",
      "12 3 2000\n"
     ]
    },
    {
     "data": {
      "application/vnd.jupyter.widget-view+json": {
       "model_id": "dfea46e8603e48239d9c547a01978481",
       "version_major": 2,
       "version_minor": 0
      },
      "text/plain": [
       "HBox(children=(HTML(value=''), FloatProgress(value=0.0, max=15.0), HTML(value='')))"
      ]
     },
     "metadata": {},
     "output_type": "display_data"
    },
    {
     "name": "stdout",
     "output_type": "stream",
     "text": [
      "\n"
     ]
    },
    {
     "data": {
      "application/vnd.jupyter.widget-view+json": {
       "model_id": "cdb5fe6543f54b8384b6c606198192fd",
       "version_major": 2,
       "version_minor": 0
      },
      "text/plain": [
       "HBox(children=(HTML(value=''), FloatProgress(value=0.0, max=2001.0), HTML(value='')))"
      ]
     },
     "metadata": {},
     "output_type": "display_data"
    },
    {
     "name": "stdout",
     "output_type": "stream",
     "text": [
      "\n",
      "train precision@50, recall@50, precision@5, recall@5\n",
      "[('own_rec', 0.15567802755620014)]\n",
      "[('own_rec', 0.058915334178989524)]\n",
      "[('own_rec', 0.33226976069615666)]\n",
      "[('own_rec', 0.014492267422139056)]\n",
      "test precision@50, recall@50, precision@5, recall@5\n",
      "[('own_rec', 0.060681653372008704)]\n",
      "[('own_rec', 0.06802702097329691)]\n",
      "[('own_rec', 0.15692530819434372)]\n",
      "[('own_rec', 0.020635272575020548)]\n",
      "12 3 3000\n"
     ]
    },
    {
     "data": {
      "application/vnd.jupyter.widget-view+json": {
       "model_id": "e2a3c95ae3ec4681b0c918ef403e7fdd",
       "version_major": 2,
       "version_minor": 0
      },
      "text/plain": [
       "HBox(children=(HTML(value=''), FloatProgress(value=0.0, max=15.0), HTML(value='')))"
      ]
     },
     "metadata": {},
     "output_type": "display_data"
    },
    {
     "name": "stdout",
     "output_type": "stream",
     "text": [
      "\n"
     ]
    },
    {
     "data": {
      "application/vnd.jupyter.widget-view+json": {
       "model_id": "377468ba0a8e4ad7a714a184ecf993fe",
       "version_major": 2,
       "version_minor": 0
      },
      "text/plain": [
       "HBox(children=(HTML(value=''), FloatProgress(value=0.0, max=3001.0), HTML(value='')))"
      ]
     },
     "metadata": {},
     "output_type": "display_data"
    },
    {
     "name": "stdout",
     "output_type": "stream",
     "text": [
      "\n",
      "train precision@50, recall@50, precision@5, recall@5\n",
      "[('own_rec', 0.14522117476432198)]\n",
      "[('own_rec', 0.055518658442376884)]\n",
      "[('own_rec', 0.3186366932559826)]\n",
      "[('own_rec', 0.013954238923402858)]\n",
      "test precision@50, recall@50, precision@5, recall@5\n",
      "[('own_rec', 0.05573604060913707)]\n",
      "[('own_rec', 0.06379812591574839)]\n",
      "[('own_rec', 0.14604786076867296)]\n",
      "[('own_rec', 0.01973097158435143)]\n",
      "12 3 4000\n"
     ]
    },
    {
     "data": {
      "application/vnd.jupyter.widget-view+json": {
       "model_id": "7b4e886617654db0a199b7c2e7c07dd3",
       "version_major": 2,
       "version_minor": 0
      },
      "text/plain": [
       "HBox(children=(HTML(value=''), FloatProgress(value=0.0, max=15.0), HTML(value='')))"
      ]
     },
     "metadata": {},
     "output_type": "display_data"
    },
    {
     "name": "stdout",
     "output_type": "stream",
     "text": [
      "\n"
     ]
    },
    {
     "data": {
      "application/vnd.jupyter.widget-view+json": {
       "model_id": "b80dca0ff907498cb7616a5942fe796e",
       "version_major": 2,
       "version_minor": 0
      },
      "text/plain": [
       "HBox(children=(HTML(value=''), FloatProgress(value=0.0, max=4000.0), HTML(value='')))"
      ]
     },
     "metadata": {},
     "output_type": "display_data"
    },
    {
     "name": "stdout",
     "output_type": "stream",
     "text": [
      "\n",
      "train precision@50, recall@50, precision@5, recall@5\n",
      "[('own_rec', 0.13547498187092094)]\n",
      "[('own_rec', 0.05185458520458411)]\n",
      "[('own_rec', 0.2984771573604061)]\n",
      "[('own_rec', 0.01296476085436603)]\n",
      "test precision@50, recall@50, precision@5, recall@5\n",
      "[('own_rec', 0.0514720812182741)]\n",
      "[('own_rec', 0.05945830093885553)]\n",
      "[('own_rec', 0.13749093546047864)]\n",
      "[('own_rec', 0.019083548052154727)]\n",
      "12 3 5000\n"
     ]
    },
    {
     "data": {
      "application/vnd.jupyter.widget-view+json": {
       "model_id": "86f70271fb3d44eab38254c51aac474f",
       "version_major": 2,
       "version_minor": 0
      },
      "text/plain": [
       "HBox(children=(HTML(value=''), FloatProgress(value=0.0, max=15.0), HTML(value='')))"
      ]
     },
     "metadata": {},
     "output_type": "display_data"
    },
    {
     "name": "stdout",
     "output_type": "stream",
     "text": [
      "\n"
     ]
    },
    {
     "data": {
      "application/vnd.jupyter.widget-view+json": {
       "model_id": "2b3038ab82754aca876575805327baa7",
       "version_major": 2,
       "version_minor": 0
      },
      "text/plain": [
       "HBox(children=(HTML(value=''), FloatProgress(value=0.0, max=4997.0), HTML(value='')))"
      ]
     },
     "metadata": {},
     "output_type": "display_data"
    },
    {
     "name": "stdout",
     "output_type": "stream",
     "text": [
      "\n",
      "train precision@50, recall@50, precision@5, recall@5\n",
      "[('own_rec', 0.1236548223350254)]\n",
      "[('own_rec', 0.04748491930640416)]\n",
      "[('own_rec', 0.27585206671501084)]\n",
      "[('own_rec', 0.011767861424073912)]\n",
      "test precision@50, recall@50, precision@5, recall@5\n",
      "[('own_rec', 0.04662799129804207)]\n",
      "[('own_rec', 0.05378689401497369)]\n",
      "[('own_rec', 0.12588832487309645)]\n",
      "[('own_rec', 0.017084253582466086)]\n",
      "12 3 6000\n"
     ]
    },
    {
     "data": {
      "application/vnd.jupyter.widget-view+json": {
       "model_id": "3be30720c84245e09a4aef9a2f47f85f",
       "version_major": 2,
       "version_minor": 0
      },
      "text/plain": [
       "HBox(children=(HTML(value=''), FloatProgress(value=0.0, max=15.0), HTML(value='')))"
      ]
     },
     "metadata": {},
     "output_type": "display_data"
    },
    {
     "name": "stdout",
     "output_type": "stream",
     "text": [
      "\n"
     ]
    },
    {
     "data": {
      "application/vnd.jupyter.widget-view+json": {
       "model_id": "4cd6b5c2ebe34dc1ad1bd85bded273bc",
       "version_major": 2,
       "version_minor": 0
      },
      "text/plain": [
       "HBox(children=(HTML(value=''), FloatProgress(value=0.0, max=5996.0), HTML(value='')))"
      ]
     },
     "metadata": {},
     "output_type": "display_data"
    },
    {
     "name": "stdout",
     "output_type": "stream",
     "text": [
      "\n",
      "train precision@50, recall@50, precision@5, recall@5\n",
      "[('own_rec', 0.11461928934010153)]\n",
      "[('own_rec', 0.0448345078966631)]\n",
      "[('own_rec', 0.2614938361131255)]\n",
      "[('own_rec', 0.011164524645573926)]\n",
      "test precision@50, recall@50, precision@5, recall@5\n",
      "[('own_rec', 0.04346627991298043)]\n",
      "[('own_rec', 0.050460074685355266)]\n",
      "[('own_rec', 0.1199419869470631)]\n",
      "[('own_rec', 0.015909114872342162)]\n",
      "12 4 500\n"
     ]
    },
    {
     "data": {
      "application/vnd.jupyter.widget-view+json": {
       "model_id": "397c91fddad94442a6cb4680e5536abf",
       "version_major": 2,
       "version_minor": 0
      },
      "text/plain": [
       "HBox(children=(HTML(value=''), FloatProgress(value=0.0, max=15.0), HTML(value='')))"
      ]
     },
     "metadata": {},
     "output_type": "display_data"
    },
    {
     "name": "stdout",
     "output_type": "stream",
     "text": [
      "\n"
     ]
    },
    {
     "data": {
      "application/vnd.jupyter.widget-view+json": {
       "model_id": "9256c95a2e864f20a883aed952d7afa9",
       "version_major": 2,
       "version_minor": 0
      },
      "text/plain": [
       "HBox(children=(HTML(value=''), FloatProgress(value=0.0, max=501.0), HTML(value='')))"
      ]
     },
     "metadata": {},
     "output_type": "display_data"
    },
    {
     "name": "stdout",
     "output_type": "stream",
     "text": [
      "\n",
      "train precision@50, recall@50, precision@5, recall@5\n",
      "[('own_rec', 0.16023205221174766)]\n",
      "[('own_rec', 0.05719351184007752)]\n",
      "[('own_rec', 0.3763596809282089)]\n",
      "[('own_rec', 0.015205351446023528)]\n",
      "test precision@50, recall@50, precision@5, recall@5\n",
      "[('own_rec', 0.06432197244379986)]\n",
      "[('own_rec', 0.06944907437072555)]\n",
      "[('own_rec', 0.18433647570703407)]\n",
      "[('own_rec', 0.0232589530672509)]\n",
      "12 4 1000\n"
     ]
    },
    {
     "data": {
      "application/vnd.jupyter.widget-view+json": {
       "model_id": "7bb8fb2814a041e3b0115add2498bb47",
       "version_major": 2,
       "version_minor": 0
      },
      "text/plain": [
       "HBox(children=(HTML(value=''), FloatProgress(value=0.0, max=15.0), HTML(value='')))"
      ]
     },
     "metadata": {},
     "output_type": "display_data"
    },
    {
     "name": "stdout",
     "output_type": "stream",
     "text": [
      "\n"
     ]
    },
    {
     "data": {
      "application/vnd.jupyter.widget-view+json": {
       "model_id": "075ef0f3db8e45d4aeb9f24c97c5c400",
       "version_major": 2,
       "version_minor": 0
      },
      "text/plain": [
       "HBox(children=(HTML(value=''), FloatProgress(value=0.0, max=1001.0), HTML(value='')))"
      ]
     },
     "metadata": {},
     "output_type": "display_data"
    },
    {
     "name": "stdout",
     "output_type": "stream",
     "text": [
      "\n",
      "train precision@50, recall@50, precision@5, recall@5\n",
      "[('own_rec', 0.16288614938361132)]\n",
      "[('own_rec', 0.06007358695611515)]\n",
      "[('own_rec', 0.35329949238578684)]\n",
      "[('own_rec', 0.01489499509416416)]\n",
      "test precision@50, recall@50, precision@5, recall@5\n",
      "[('own_rec', 0.06346627991298043)]\n",
      "[('own_rec', 0.0700724785143355)]\n",
      "[('own_rec', 0.1640319071791153)]\n",
      "[('own_rec', 0.021119701428292094)]\n",
      "12 4 2000\n"
     ]
    },
    {
     "data": {
      "application/vnd.jupyter.widget-view+json": {
       "model_id": "a4b60f04e86e4100b99e0c4233b4b701",
       "version_major": 2,
       "version_minor": 0
      },
      "text/plain": [
       "HBox(children=(HTML(value=''), FloatProgress(value=0.0, max=15.0), HTML(value='')))"
      ]
     },
     "metadata": {},
     "output_type": "display_data"
    },
    {
     "name": "stdout",
     "output_type": "stream",
     "text": [
      "\n"
     ]
    },
    {
     "data": {
      "application/vnd.jupyter.widget-view+json": {
       "model_id": "520a4b832dbd4ca18ceb5f22ed28d593",
       "version_major": 2,
       "version_minor": 0
      },
      "text/plain": [
       "HBox(children=(HTML(value=''), FloatProgress(value=0.0, max=2001.0), HTML(value='')))"
      ]
     },
     "metadata": {},
     "output_type": "display_data"
    },
    {
     "name": "stdout",
     "output_type": "stream",
     "text": [
      "\n",
      "train precision@50, recall@50, precision@5, recall@5\n",
      "[('own_rec', 0.155794053662074)]\n",
      "[('own_rec', 0.058936457244734085)]\n",
      "[('own_rec', 0.3299492385786802)]\n",
      "[('own_rec', 0.014261954573143255)]\n",
      "test precision@50, recall@50, precision@5, recall@5\n",
      "[('own_rec', 0.06013052936910806)]\n",
      "[('own_rec', 0.06782819498723487)]\n",
      "[('own_rec', 0.15562001450326324)]\n",
      "[('own_rec', 0.02033990842590986)]\n",
      "12 4 3000\n"
     ]
    },
    {
     "data": {
      "application/vnd.jupyter.widget-view+json": {
       "model_id": "ca61b84cbc81487992d4632b73a04981",
       "version_major": 2,
       "version_minor": 0
      },
      "text/plain": [
       "HBox(children=(HTML(value=''), FloatProgress(value=0.0, max=15.0), HTML(value='')))"
      ]
     },
     "metadata": {},
     "output_type": "display_data"
    },
    {
     "name": "stdout",
     "output_type": "stream",
     "text": [
      "\n"
     ]
    },
    {
     "data": {
      "application/vnd.jupyter.widget-view+json": {
       "model_id": "b1300a2fdf7a4ffaa9605b5a6533d701",
       "version_major": 2,
       "version_minor": 0
      },
      "text/plain": [
       "HBox(children=(HTML(value=''), FloatProgress(value=0.0, max=3001.0), HTML(value='')))"
      ]
     },
     "metadata": {},
     "output_type": "display_data"
    },
    {
     "name": "stdout",
     "output_type": "stream",
     "text": [
      "\n",
      "train precision@50, recall@50, precision@5, recall@5\n",
      "[('own_rec', 0.14504713560551125)]\n",
      "[('own_rec', 0.055726576117657085)]\n",
      "[('own_rec', 0.32095721537345906)]\n",
      "[('own_rec', 0.014036340648685705)]\n",
      "test precision@50, recall@50, precision@5, recall@5\n",
      "[('own_rec', 0.05548948513415519)]\n",
      "[('own_rec', 0.06358330997934562)]\n",
      "[('own_rec', 0.14430746918056564)]\n",
      "[('own_rec', 0.019641693214138188)]\n",
      "12 4 4000\n"
     ]
    },
    {
     "data": {
      "application/vnd.jupyter.widget-view+json": {
       "model_id": "a311e7493ec5482fbeb9e94dd81b39a8",
       "version_major": 2,
       "version_minor": 0
      },
      "text/plain": [
       "HBox(children=(HTML(value=''), FloatProgress(value=0.0, max=15.0), HTML(value='')))"
      ]
     },
     "metadata": {},
     "output_type": "display_data"
    },
    {
     "name": "stdout",
     "output_type": "stream",
     "text": [
      "\n"
     ]
    },
    {
     "data": {
      "application/vnd.jupyter.widget-view+json": {
       "model_id": "14741335aa494ed4acc50fa3f00df3ac",
       "version_major": 2,
       "version_minor": 0
      },
      "text/plain": [
       "HBox(children=(HTML(value=''), FloatProgress(value=0.0, max=4000.0), HTML(value='')))"
      ]
     },
     "metadata": {},
     "output_type": "display_data"
    },
    {
     "name": "stdout",
     "output_type": "stream",
     "text": [
      "\n",
      "train precision@50, recall@50, precision@5, recall@5\n",
      "[('own_rec', 0.1348223350253807)]\n",
      "[('own_rec', 0.051781400606961105)]\n",
      "[('own_rec', 0.2947063089195069)]\n",
      "[('own_rec', 0.012675669474282053)]\n",
      "test precision@50, recall@50, precision@5, recall@5\n",
      "[('own_rec', 0.05058738216098624)]\n",
      "[('own_rec', 0.058725621135234336)]\n",
      "[('own_rec', 0.13401015228426397)]\n",
      "[('own_rec', 0.01848339449309837)]\n",
      "12 4 5000\n"
     ]
    },
    {
     "data": {
      "application/vnd.jupyter.widget-view+json": {
       "model_id": "ddb7f5b526f341229d27ab6eb9224247",
       "version_major": 2,
       "version_minor": 0
      },
      "text/plain": [
       "HBox(children=(HTML(value=''), FloatProgress(value=0.0, max=15.0), HTML(value='')))"
      ]
     },
     "metadata": {},
     "output_type": "display_data"
    },
    {
     "name": "stdout",
     "output_type": "stream",
     "text": [
      "\n"
     ]
    },
    {
     "data": {
      "application/vnd.jupyter.widget-view+json": {
       "model_id": "fbaefa66ff4343f6a874613d1917f07d",
       "version_major": 2,
       "version_minor": 0
      },
      "text/plain": [
       "HBox(children=(HTML(value=''), FloatProgress(value=0.0, max=4997.0), HTML(value='')))"
      ]
     },
     "metadata": {},
     "output_type": "display_data"
    },
    {
     "name": "stdout",
     "output_type": "stream",
     "text": [
      "\n",
      "train precision@50, recall@50, precision@5, recall@5\n",
      "[('own_rec', 0.12323422770123278)]\n",
      "[('own_rec', 0.047733427207632774)]\n",
      "[('own_rec', 0.27556200145032633)]\n",
      "[('own_rec', 0.011782095347316716)]\n",
      "test precision@50, recall@50, precision@5, recall@5\n",
      "[('own_rec', 0.046178390137781)]\n",
      "[('own_rec', 0.05314338338476987)]\n",
      "[('own_rec', 0.12472806381435823)]\n",
      "[('own_rec', 0.01675240727057921)]\n",
      "12 4 6000\n"
     ]
    },
    {
     "data": {
      "application/vnd.jupyter.widget-view+json": {
       "model_id": "c44b114af09f48028693e4d2453df8db",
       "version_major": 2,
       "version_minor": 0
      },
      "text/plain": [
       "HBox(children=(HTML(value=''), FloatProgress(value=0.0, max=15.0), HTML(value='')))"
      ]
     },
     "metadata": {},
     "output_type": "display_data"
    },
    {
     "name": "stdout",
     "output_type": "stream",
     "text": [
      "\n"
     ]
    },
    {
     "data": {
      "application/vnd.jupyter.widget-view+json": {
       "model_id": "91fbd81123a049239acf9ecf8dba7244",
       "version_major": 2,
       "version_minor": 0
      },
      "text/plain": [
       "HBox(children=(HTML(value=''), FloatProgress(value=0.0, max=5996.0), HTML(value='')))"
      ]
     },
     "metadata": {},
     "output_type": "display_data"
    },
    {
     "name": "stdout",
     "output_type": "stream",
     "text": [
      "\n",
      "train precision@50, recall@50, precision@5, recall@5\n",
      "[('own_rec', 0.11405366207396667)]\n",
      "[('own_rec', 0.044735292102240615)]\n",
      "[('own_rec', 0.26178390137781)]\n",
      "[('own_rec', 0.011107577198151508)]\n",
      "test precision@50, recall@50, precision@5, recall@5\n",
      "[('own_rec', 0.04269760696156635)]\n",
      "[('own_rec', 0.04968556548154586)]\n",
      "[('own_rec', 0.11805656272661348)]\n",
      "[('own_rec', 0.015556054307606898)]\n",
      "12 5 500\n"
     ]
    },
    {
     "data": {
      "application/vnd.jupyter.widget-view+json": {
       "model_id": "ff3010241c8b4388befe859ca453071c",
       "version_major": 2,
       "version_minor": 0
      },
      "text/plain": [
       "HBox(children=(HTML(value=''), FloatProgress(value=0.0, max=15.0), HTML(value='')))"
      ]
     },
     "metadata": {},
     "output_type": "display_data"
    },
    {
     "name": "stdout",
     "output_type": "stream",
     "text": [
      "\n"
     ]
    },
    {
     "data": {
      "application/vnd.jupyter.widget-view+json": {
       "model_id": "230359030b8647958b10c7a60b971e6c",
       "version_major": 2,
       "version_minor": 0
      },
      "text/plain": [
       "HBox(children=(HTML(value=''), FloatProgress(value=0.0, max=501.0), HTML(value='')))"
      ]
     },
     "metadata": {},
     "output_type": "display_data"
    },
    {
     "name": "stdout",
     "output_type": "stream",
     "text": [
      "\n",
      "train precision@50, recall@50, precision@5, recall@5\n",
      "[('own_rec', 0.16071065989847716)]\n",
      "[('own_rec', 0.058168028212609496)]\n",
      "[('own_rec', 0.3781000725163162)]\n",
      "[('own_rec', 0.015785540880175548)]\n",
      "test precision@50, recall@50, precision@5, recall@5\n",
      "[('own_rec', 0.06407541696881798)]\n",
      "[('own_rec', 0.06898245401922104)]\n",
      "[('own_rec', 0.18143582306018854)]\n",
      "[('own_rec', 0.02274172659683184)]\n",
      "12 5 1000\n"
     ]
    },
    {
     "data": {
      "application/vnd.jupyter.widget-view+json": {
       "model_id": "5edc2b66def8413f9082158e08b84ff9",
       "version_major": 2,
       "version_minor": 0
      },
      "text/plain": [
       "HBox(children=(HTML(value=''), FloatProgress(value=0.0, max=15.0), HTML(value='')))"
      ]
     },
     "metadata": {},
     "output_type": "display_data"
    },
    {
     "name": "stdout",
     "output_type": "stream",
     "text": [
      "\n"
     ]
    },
    {
     "data": {
      "application/vnd.jupyter.widget-view+json": {
       "model_id": "3263a2a03a374028b793ea0b31f21736",
       "version_major": 2,
       "version_minor": 0
      },
      "text/plain": [
       "HBox(children=(HTML(value=''), FloatProgress(value=0.0, max=1001.0), HTML(value='')))"
      ]
     },
     "metadata": {},
     "output_type": "display_data"
    },
    {
     "name": "stdout",
     "output_type": "stream",
     "text": [
      "\n",
      "train precision@50, recall@50, precision@5, recall@5\n",
      "[('own_rec', 0.16313270485859319)]\n",
      "[('own_rec', 0.06095922046878417)]\n",
      "[('own_rec', 0.35503988397389413)]\n",
      "[('own_rec', 0.01522372953477684)]\n",
      "test precision@50, recall@50, precision@5, recall@5\n",
      "[('own_rec', 0.06298767222625092)]\n",
      "[('own_rec', 0.06948124411566496)]\n",
      "[('own_rec', 0.16301667875271936)]\n",
      "[('own_rec', 0.021088777472340822)]\n",
      "12 5 2000\n"
     ]
    },
    {
     "data": {
      "application/vnd.jupyter.widget-view+json": {
       "model_id": "46c32b57e14d465885c724e92470ab82",
       "version_major": 2,
       "version_minor": 0
      },
      "text/plain": [
       "HBox(children=(HTML(value=''), FloatProgress(value=0.0, max=15.0), HTML(value='')))"
      ]
     },
     "metadata": {},
     "output_type": "display_data"
    },
    {
     "name": "stdout",
     "output_type": "stream",
     "text": [
      "\n"
     ]
    },
    {
     "data": {
      "application/vnd.jupyter.widget-view+json": {
       "model_id": "58ec3b2b5a634aed95f47a5180d0f6c8",
       "version_major": 2,
       "version_minor": 0
      },
      "text/plain": [
       "HBox(children=(HTML(value=''), FloatProgress(value=0.0, max=2001.0), HTML(value='')))"
      ]
     },
     "metadata": {},
     "output_type": "display_data"
    },
    {
     "name": "stdout",
     "output_type": "stream",
     "text": [
      "\n",
      "train precision@50, recall@50, precision@5, recall@5\n",
      "[('own_rec', 0.15406816533720089)]\n",
      "[('own_rec', 0.05906218158523746)]\n",
      "[('own_rec', 0.32791878172588834)]\n",
      "[('own_rec', 0.014432052199675307)]\n",
      "test precision@50, recall@50, precision@5, recall@5\n",
      "[('own_rec', 0.05917331399564903)]\n",
      "[('own_rec', 0.06639741938938558)]\n",
      "[('own_rec', 0.1525743292240754)]\n",
      "[('own_rec', 0.020015897424768204)]\n",
      "12 5 3000\n"
     ]
    },
    {
     "data": {
      "application/vnd.jupyter.widget-view+json": {
       "model_id": "b147a211c62c4d89bc8d09c6a245ae13",
       "version_major": 2,
       "version_minor": 0
      },
      "text/plain": [
       "HBox(children=(HTML(value=''), FloatProgress(value=0.0, max=15.0), HTML(value='')))"
      ]
     },
     "metadata": {},
     "output_type": "display_data"
    },
    {
     "name": "stdout",
     "output_type": "stream",
     "text": [
      "\n"
     ]
    },
    {
     "data": {
      "application/vnd.jupyter.widget-view+json": {
       "model_id": "e391e411853d4c9bbb07f2fff2ab5d78",
       "version_major": 2,
       "version_minor": 0
      },
      "text/plain": [
       "HBox(children=(HTML(value=''), FloatProgress(value=0.0, max=3001.0), HTML(value='')))"
      ]
     },
     "metadata": {},
     "output_type": "display_data"
    },
    {
     "name": "stdout",
     "output_type": "stream",
     "text": [
      "\n",
      "train precision@50, recall@50, precision@5, recall@5\n",
      "[('own_rec', 0.1442929659173314)]\n",
      "[('own_rec', 0.05613734823500537)]\n",
      "[('own_rec', 0.32124728063814356)]\n",
      "[('own_rec', 0.01424470895200313)]\n",
      "test precision@50, recall@50, precision@5, recall@5\n",
      "[('own_rec', 0.05490935460478609)]\n",
      "[('own_rec', 0.06241315625814978)]\n",
      "[('own_rec', 0.14242204496011604)]\n",
      "[('own_rec', 0.019119363822787373)]\n",
      "12 5 4000\n"
     ]
    },
    {
     "data": {
      "application/vnd.jupyter.widget-view+json": {
       "model_id": "141e9b8707c74f49a72e127734fb2b25",
       "version_major": 2,
       "version_minor": 0
      },
      "text/plain": [
       "HBox(children=(HTML(value=''), FloatProgress(value=0.0, max=15.0), HTML(value='')))"
      ]
     },
     "metadata": {},
     "output_type": "display_data"
    },
    {
     "name": "stdout",
     "output_type": "stream",
     "text": [
      "\n"
     ]
    },
    {
     "data": {
      "application/vnd.jupyter.widget-view+json": {
       "model_id": "eea677984c9a497798a279a6d21cd072",
       "version_major": 2,
       "version_minor": 0
      },
      "text/plain": [
       "HBox(children=(HTML(value=''), FloatProgress(value=0.0, max=4000.0), HTML(value='')))"
      ]
     },
     "metadata": {},
     "output_type": "display_data"
    },
    {
     "name": "stdout",
     "output_type": "stream",
     "text": [
      "\n",
      "train precision@50, recall@50, precision@5, recall@5\n",
      "[('own_rec', 0.13393763596809283)]\n",
      "[('own_rec', 0.05200496848294151)]\n",
      "[('own_rec', 0.2945612762871646)]\n",
      "[('own_rec', 0.012769962250758791)]\n",
      "test precision@50, recall@50, precision@5, recall@5\n",
      "[('own_rec', 0.04999274836838288)]\n",
      "[('own_rec', 0.05715328754344411)]\n",
      "[('own_rec', 0.13284989122552576)]\n",
      "[('own_rec', 0.018071971707569624)]\n",
      "12 5 5000\n"
     ]
    },
    {
     "data": {
      "application/vnd.jupyter.widget-view+json": {
       "model_id": "560e702756904bcbae26398a3b1c76c3",
       "version_major": 2,
       "version_minor": 0
      },
      "text/plain": [
       "HBox(children=(HTML(value=''), FloatProgress(value=0.0, max=15.0), HTML(value='')))"
      ]
     },
     "metadata": {},
     "output_type": "display_data"
    },
    {
     "name": "stdout",
     "output_type": "stream",
     "text": [
      "\n"
     ]
    },
    {
     "data": {
      "application/vnd.jupyter.widget-view+json": {
       "model_id": "9592af7e8165471280718330b1ec4bb5",
       "version_major": 2,
       "version_minor": 0
      },
      "text/plain": [
       "HBox(children=(HTML(value=''), FloatProgress(value=0.0, max=4997.0), HTML(value='')))"
      ]
     },
     "metadata": {},
     "output_type": "display_data"
    },
    {
     "name": "stdout",
     "output_type": "stream",
     "text": [
      "\n",
      "train precision@50, recall@50, precision@5, recall@5\n",
      "[('own_rec', 0.12236403190717912)]\n",
      "[('own_rec', 0.047984711037073434)]\n",
      "[('own_rec', 0.27382160986221904)]\n",
      "[('own_rec', 0.011757543631676639)]\n",
      "test precision@50, recall@50, precision@5, recall@5\n",
      "[('own_rec', 0.04567077592458303)]\n",
      "[('own_rec', 0.051873445349490226)]\n",
      "[('own_rec', 0.12269760696156634)]\n",
      "[('own_rec', 0.01622073900991797)]\n",
      "12 5 6000\n"
     ]
    },
    {
     "data": {
      "application/vnd.jupyter.widget-view+json": {
       "model_id": "5d2034ad2b4741f88e3fe30e3a72b300",
       "version_major": 2,
       "version_minor": 0
      },
      "text/plain": [
       "HBox(children=(HTML(value=''), FloatProgress(value=0.0, max=15.0), HTML(value='')))"
      ]
     },
     "metadata": {},
     "output_type": "display_data"
    },
    {
     "name": "stdout",
     "output_type": "stream",
     "text": [
      "\n"
     ]
    },
    {
     "data": {
      "application/vnd.jupyter.widget-view+json": {
       "model_id": "ba54d87f76314c2b9c834b9148f30d8b",
       "version_major": 2,
       "version_minor": 0
      },
      "text/plain": [
       "HBox(children=(HTML(value=''), FloatProgress(value=0.0, max=5996.0), HTML(value='')))"
      ]
     },
     "metadata": {},
     "output_type": "display_data"
    },
    {
     "name": "stdout",
     "output_type": "stream",
     "text": [
      "\n",
      "train precision@50, recall@50, precision@5, recall@5\n",
      "[('own_rec', 0.11279187817258884)]\n",
      "[('own_rec', 0.0449931063492745)]\n",
      "[('own_rec', 0.2585931834662799)]\n",
      "[('own_rec', 0.01101703894558829)]\n",
      "test precision@50, recall@50, precision@5, recall@5\n",
      "[('own_rec', 0.04204496011602611)]\n",
      "[('own_rec', 0.048855232211048684)]\n",
      "[('own_rec', 0.11617113850616388)]\n",
      "[('own_rec', 0.015319207570821046)]\n",
      "12 6 500\n"
     ]
    },
    {
     "data": {
      "application/vnd.jupyter.widget-view+json": {
       "model_id": "e20ac27499984080b80306b8fb3b231c",
       "version_major": 2,
       "version_minor": 0
      },
      "text/plain": [
       "HBox(children=(HTML(value=''), FloatProgress(value=0.0, max=15.0), HTML(value='')))"
      ]
     },
     "metadata": {},
     "output_type": "display_data"
    },
    {
     "name": "stdout",
     "output_type": "stream",
     "text": [
      "\n"
     ]
    },
    {
     "data": {
      "application/vnd.jupyter.widget-view+json": {
       "model_id": "bee12d73d54f492882db11a142d1909d",
       "version_major": 2,
       "version_minor": 0
      },
      "text/plain": [
       "HBox(children=(HTML(value=''), FloatProgress(value=0.0, max=501.0), HTML(value='')))"
      ]
     },
     "metadata": {},
     "output_type": "display_data"
    },
    {
     "name": "stdout",
     "output_type": "stream",
     "text": [
      "\n",
      "train precision@50, recall@50, precision@5, recall@5\n",
      "[('own_rec', 0.16227701232777375)]\n",
      "[('own_rec', 0.05919933750573385)]\n",
      "[('own_rec', 0.3821609862218999)]\n",
      "[('own_rec', 0.016331215153887958)]\n",
      "test precision@50, recall@50, precision@5, recall@5\n",
      "[('own_rec', 0.0639303843364757)]\n",
      "[('own_rec', 0.06873188906998542)]\n",
      "[('own_rec', 0.17897026831036983)]\n",
      "[('own_rec', 0.02250455010592482)]\n",
      "12 6 1000\n"
     ]
    },
    {
     "data": {
      "application/vnd.jupyter.widget-view+json": {
       "model_id": "c0a73a9096d5484ca1825de2842743f6",
       "version_major": 2,
       "version_minor": 0
      },
      "text/plain": [
       "HBox(children=(HTML(value=''), FloatProgress(value=0.0, max=15.0), HTML(value='')))"
      ]
     },
     "metadata": {},
     "output_type": "display_data"
    },
    {
     "name": "stdout",
     "output_type": "stream",
     "text": [
      "\n"
     ]
    },
    {
     "data": {
      "application/vnd.jupyter.widget-view+json": {
       "model_id": "af2315045e1540faa25a0d1968e39c55",
       "version_major": 2,
       "version_minor": 0
      },
      "text/plain": [
       "HBox(children=(HTML(value=''), FloatProgress(value=0.0, max=1001.0), HTML(value='')))"
      ]
     },
     "metadata": {},
     "output_type": "display_data"
    },
    {
     "name": "stdout",
     "output_type": "stream",
     "text": [
      "\n",
      "train precision@50, recall@50, precision@5, recall@5\n",
      "[('own_rec', 0.1649166062364032)]\n",
      "[('own_rec', 0.062322559471730994)]\n",
      "[('own_rec', 0.3585206671501088)]\n",
      "[('own_rec', 0.015844516627387888)]\n",
      "test precision@50, recall@50, precision@5, recall@5\n",
      "[('own_rec', 0.06291515591007978)]\n",
      "[('own_rec', 0.06990318122559004)]\n",
      "[('own_rec', 0.16330674401740392)]\n",
      "[('own_rec', 0.02112327965715868)]\n",
      "12 6 2000\n"
     ]
    },
    {
     "data": {
      "application/vnd.jupyter.widget-view+json": {
       "model_id": "5c2362cb088642a6acc3357f01617655",
       "version_major": 2,
       "version_minor": 0
      },
      "text/plain": [
       "HBox(children=(HTML(value=''), FloatProgress(value=0.0, max=15.0), HTML(value='')))"
      ]
     },
     "metadata": {},
     "output_type": "display_data"
    },
    {
     "name": "stdout",
     "output_type": "stream",
     "text": [
      "\n"
     ]
    },
    {
     "data": {
      "application/vnd.jupyter.widget-view+json": {
       "model_id": "babe8478afaf49cea24a41a3a13348d8",
       "version_major": 2,
       "version_minor": 0
      },
      "text/plain": [
       "HBox(children=(HTML(value=''), FloatProgress(value=0.0, max=2001.0), HTML(value='')))"
      ]
     },
     "metadata": {},
     "output_type": "display_data"
    },
    {
     "name": "stdout",
     "output_type": "stream",
     "text": [
      "\n",
      "train precision@50, recall@50, precision@5, recall@5\n",
      "[('own_rec', 0.1557360406091371)]\n",
      "[('own_rec', 0.06081168158661811)]\n",
      "[('own_rec', 0.33313995649021033)]\n",
      "[('own_rec', 0.015265292882549094)]\n",
      "test precision@50, recall@50, precision@5, recall@5\n",
      "[('own_rec', 0.05876722262509065)]\n",
      "[('own_rec', 0.06608278077459871)]\n",
      "[('own_rec', 0.14981870920957216)]\n",
      "[('own_rec', 0.019687098815972623)]\n",
      "12 6 3000\n"
     ]
    },
    {
     "data": {
      "application/vnd.jupyter.widget-view+json": {
       "model_id": "e263d9d7b39c423e9fda2df77c87369f",
       "version_major": 2,
       "version_minor": 0
      },
      "text/plain": [
       "HBox(children=(HTML(value=''), FloatProgress(value=0.0, max=15.0), HTML(value='')))"
      ]
     },
     "metadata": {},
     "output_type": "display_data"
    },
    {
     "name": "stdout",
     "output_type": "stream",
     "text": [
      "\n"
     ]
    },
    {
     "data": {
      "application/vnd.jupyter.widget-view+json": {
       "model_id": "70bd319d0c624b0889be04eaed1cbbe8",
       "version_major": 2,
       "version_minor": 0
      },
      "text/plain": [
       "HBox(children=(HTML(value=''), FloatProgress(value=0.0, max=3001.0), HTML(value='')))"
      ]
     },
     "metadata": {},
     "output_type": "display_data"
    },
    {
     "name": "stdout",
     "output_type": "stream",
     "text": [
      "\n",
      "train precision@50, recall@50, precision@5, recall@5\n",
      "[('own_rec', 0.14519216823785352)]\n",
      "[('own_rec', 0.057670817215926685)]\n",
      "[('own_rec', 0.3228426395939087)]\n",
      "[('own_rec', 0.014945286333962488)]\n",
      "test precision@50, recall@50, precision@5, recall@5\n",
      "[('own_rec', 0.05422770123277738)]\n",
      "[('own_rec', 0.06221274996895322)]\n",
      "[('own_rec', 0.14010152284263958)]\n",
      "[('own_rec', 0.019252081370449457)]\n",
      "12 6 4000\n"
     ]
    },
    {
     "data": {
      "application/vnd.jupyter.widget-view+json": {
       "model_id": "ea969cf43b674da0b660315a06461698",
       "version_major": 2,
       "version_minor": 0
      },
      "text/plain": [
       "HBox(children=(HTML(value=''), FloatProgress(value=0.0, max=15.0), HTML(value='')))"
      ]
     },
     "metadata": {},
     "output_type": "display_data"
    },
    {
     "name": "stdout",
     "output_type": "stream",
     "text": [
      "\n"
     ]
    },
    {
     "data": {
      "application/vnd.jupyter.widget-view+json": {
       "model_id": "a7f814d90ca042abbd7e692817f5cf28",
       "version_major": 2,
       "version_minor": 0
      },
      "text/plain": [
       "HBox(children=(HTML(value=''), FloatProgress(value=0.0, max=4000.0), HTML(value='')))"
      ]
     },
     "metadata": {},
     "output_type": "display_data"
    },
    {
     "name": "stdout",
     "output_type": "stream",
     "text": [
      "\n",
      "train precision@50, recall@50, precision@5, recall@5\n",
      "[('own_rec', 0.13411167512690358)]\n",
      "[('own_rec', 0.0532564544797452)]\n",
      "[('own_rec', 0.29804205946337925)]\n",
      "[('own_rec', 0.013389365668619656)]\n",
      "test precision@50, recall@50, precision@5, recall@5\n",
      "[('own_rec', 0.04918056562726613)]\n",
      "[('own_rec', 0.05661958390204053)]\n",
      "[('own_rec', 0.13096446700507616)]\n",
      "[('own_rec', 0.017970999109723156)]\n",
      "12 6 5000\n"
     ]
    },
    {
     "data": {
      "application/vnd.jupyter.widget-view+json": {
       "model_id": "1864e6fb105542d684a5b43e60a90745",
       "version_major": 2,
       "version_minor": 0
      },
      "text/plain": [
       "HBox(children=(HTML(value=''), FloatProgress(value=0.0, max=15.0), HTML(value='')))"
      ]
     },
     "metadata": {},
     "output_type": "display_data"
    },
    {
     "name": "stdout",
     "output_type": "stream",
     "text": [
      "\n"
     ]
    },
    {
     "data": {
      "application/vnd.jupyter.widget-view+json": {
       "model_id": "875ff0cd122e4f26859ce094877058e1",
       "version_major": 2,
       "version_minor": 0
      },
      "text/plain": [
       "HBox(children=(HTML(value=''), FloatProgress(value=0.0, max=4997.0), HTML(value='')))"
      ]
     },
     "metadata": {},
     "output_type": "display_data"
    },
    {
     "name": "stdout",
     "output_type": "stream",
     "text": [
      "\n",
      "train precision@50, recall@50, precision@5, recall@5\n",
      "[('own_rec', 0.12272661348803482)]\n",
      "[('own_rec', 0.04894051623099041)]\n",
      "[('own_rec', 0.27541696881798405)]\n",
      "[('own_rec', 0.012068207353993296)]\n",
      "test precision@50, recall@50, precision@5, recall@5\n",
      "[('own_rec', 0.04485859318346628)]\n",
      "[('own_rec', 0.051270305837320056)]\n",
      "[('own_rec', 0.12139231327048586)]\n",
      "[('own_rec', 0.016244324404093482)]\n",
      "12 6 6000\n"
     ]
    },
    {
     "data": {
      "application/vnd.jupyter.widget-view+json": {
       "model_id": "b630cedfaf0848c5860effc33ee3d857",
       "version_major": 2,
       "version_minor": 0
      },
      "text/plain": [
       "HBox(children=(HTML(value=''), FloatProgress(value=0.0, max=15.0), HTML(value='')))"
      ]
     },
     "metadata": {},
     "output_type": "display_data"
    },
    {
     "name": "stdout",
     "output_type": "stream",
     "text": [
      "\n"
     ]
    },
    {
     "data": {
      "application/vnd.jupyter.widget-view+json": {
       "model_id": "05949a5288a041f4b2496a4129d06d93",
       "version_major": 2,
       "version_minor": 0
      },
      "text/plain": [
       "HBox(children=(HTML(value=''), FloatProgress(value=0.0, max=5996.0), HTML(value='')))"
      ]
     },
     "metadata": {},
     "output_type": "display_data"
    },
    {
     "name": "stdout",
     "output_type": "stream",
     "text": [
      "\n",
      "train precision@50, recall@50, precision@5, recall@5\n",
      "[('own_rec', 0.11183466279912982)]\n",
      "[('own_rec', 0.04531164018614917)]\n",
      "[('own_rec', 0.2555474981870921)]\n",
      "[('own_rec', 0.011185180720237936)]\n",
      "test precision@50, recall@50, precision@5, recall@5\n",
      "[('own_rec', 0.04111675126903554)]\n",
      "[('own_rec', 0.047362688294649166)]\n",
      "[('own_rec', 0.11399564902102972)]\n",
      "[('own_rec', 0.015095674605601392)]\n"
     ]
    }
   ],
   "source": [
    "matcher_weeks = [5, 6, 7, 8, 9, 10, 11, 12]\n",
    "ranker_weeks = [1, 2, 3, 4, 5, 6]\n",
    "n_pops = [500, 1000, 2000, 3000, 4000, 5000, 6000]\n",
    "for VAL_MATCHER_WEEKS in matcher_weeks:\n",
    "    for VAL_RANKER_WEEKS in ranker_weeks:\n",
    "        for n_pop in n_pops:\n",
    "            print(VAL_MATCHER_WEEKS, VAL_RANKER_WEEKS, n_pop)\n",
    "            data_train_matcher, data_val_matcher, data_train_ranker, data_val_ranker = make_3_df(data, VAL_MATCHER_WEEKS, VAL_RANKER_WEEKS)\n",
    "            data_train_matcher = prefilter_items(data_train_matcher, item_features=item_features, take_n_popular=n_pop)\n",
    "            data_train_matcher, data_val_matcher, data_train_ranker, data_val_ranker, df_test = find_comm_us(data_train_matcher, data_val_matcher, data_train_ranker, data_val_ranker, df_test)\n",
    "            recommender = MainRecommender(data_train_matcher)\n",
    "                \n",
    "                # подготовим датафрейм с данными о фактических покупках\n",
    "            result_eval_matcher = make_df_result(data_val_matcher)\n",
    "            names_rec = ['own_rec'] #,'sim_item_rec', 'als_rec','sim_user_rec'\n",
    "            list_models = [recommender.get_own_recommendations] #recommender.get_similar_items_recommendation, recommender.get_als_recommendations, recommender.get_similar_users_recommendation\n",
    "            make_df_recs(result_eval_matcher, names_rec, list_models, N=N_PREDICT)\n",
    "            print('train precision@50, recall@50, precision@5, recall@5')\n",
    "            print(sorted(calc_precision(result_eval_matcher, 50), key=lambda x: x[1],reverse=True))\n",
    "            print(sorted(calc_recall(result_eval_matcher, 50), key=lambda x: x[1],reverse=True))\n",
    "            print(sorted(calc_precision(result_eval_matcher, 5), key=lambda x: x[1],reverse=True))\n",
    "            print(sorted(calc_recall(result_eval_matcher, 5), key=lambda x: x[1],reverse=True))\n",
    "                \n",
    "                # подготовим датафрейм с данными о фактических покупках не тесте\n",
    "            result_test = make_df_result(df_test)\n",
    "            names_rec = ['own_rec']#,'sim_item_rec', 'als_rec','sim_user_rec'\n",
    "            list_models = [recommender.get_own_recommendations]#, recommender.get_similar_items_recommendation, recommender.get_als_recommendations, recommender.get_similar_users_recommendation\n",
    "            make_df_recs(result_test, names_rec, list_models, N=N_PREDICT)\n",
    "            print('test precision@50, recall@50, precision@5, recall@5')\n",
    "            print(sorted(calc_precision(result_test, 50), key=lambda x: x[1],reverse=True))\n",
    "            print(sorted(calc_recall(result_test, 50), key=lambda x: x[1],reverse=True))\n",
    "            print(sorted(calc_precision(result_test, 5), key=lambda x: x[1],reverse=True))\n",
    "            print(sorted(calc_recall(result_test, 5), key=lambda x: x[1],reverse=True))"
   ]
  },
  {
   "cell_type": "code",
   "execution_count": null,
   "metadata": {},
   "outputs": [
    {
     "name": "stdout",
     "output_type": "stream",
     "text": [
      "5 1 500\n"
     ]
    },
    {
     "data": {
      "application/vnd.jupyter.widget-view+json": {
       "model_id": "0bac3dfe59ca4d8d824be15397ccac05",
       "version_major": 2,
       "version_minor": 0
      },
      "text/plain": [
       "HBox(children=(HTML(value=''), FloatProgress(value=0.0, max=15.0), HTML(value='')))"
      ]
     },
     "metadata": {},
     "output_type": "display_data"
    },
    {
     "name": "stdout",
     "output_type": "stream",
     "text": [
      "\n"
     ]
    },
    {
     "data": {
      "application/vnd.jupyter.widget-view+json": {
       "model_id": "408d3d2098be4feaa9a161706bbbe7dd",
       "version_major": 2,
       "version_minor": 0
      },
      "text/plain": [
       "HBox(children=(HTML(value=''), FloatProgress(value=0.0, max=501.0), HTML(value='')))"
      ]
     },
     "metadata": {},
     "output_type": "display_data"
    },
    {
     "name": "stdout",
     "output_type": "stream",
     "text": [
      "\n",
      "[LightGBM] [Warning] Accuracy may be bad since you didn't set num_leaves and 2^max_depth > num_leaves\n",
      "[('reranked_own_rec', 0.23466279912980423)]\n",
      "5 1 1000\n"
     ]
    },
    {
     "data": {
      "application/vnd.jupyter.widget-view+json": {
       "model_id": "13c38487480b4dd59e133c83b2f6af35",
       "version_major": 2,
       "version_minor": 0
      },
      "text/plain": [
       "HBox(children=(HTML(value=''), FloatProgress(value=0.0, max=15.0), HTML(value='')))"
      ]
     },
     "metadata": {},
     "output_type": "display_data"
    },
    {
     "name": "stdout",
     "output_type": "stream",
     "text": [
      "\n"
     ]
    },
    {
     "data": {
      "application/vnd.jupyter.widget-view+json": {
       "model_id": "3b5c4dd35f6a4b4586abd3da08adef33",
       "version_major": 2,
       "version_minor": 0
      },
      "text/plain": [
       "HBox(children=(HTML(value=''), FloatProgress(value=0.0, max=1001.0), HTML(value='')))"
      ]
     },
     "metadata": {},
     "output_type": "display_data"
    },
    {
     "name": "stdout",
     "output_type": "stream",
     "text": [
      "\n",
      "[LightGBM] [Warning] Accuracy may be bad since you didn't set num_leaves and 2^max_depth > num_leaves\n",
      "[('reranked_own_rec', 0.25380710659898476)]\n",
      "5 1 2000\n"
     ]
    },
    {
     "data": {
      "application/vnd.jupyter.widget-view+json": {
       "model_id": "a582e2ec49f748f29bc41817c9063b0e",
       "version_major": 2,
       "version_minor": 0
      },
      "text/plain": [
       "HBox(children=(HTML(value=''), FloatProgress(value=0.0, max=15.0), HTML(value='')))"
      ]
     },
     "metadata": {},
     "output_type": "display_data"
    },
    {
     "name": "stdout",
     "output_type": "stream",
     "text": [
      "\n"
     ]
    },
    {
     "data": {
      "application/vnd.jupyter.widget-view+json": {
       "model_id": "d856e2386427470eae7b726ba799153a",
       "version_major": 2,
       "version_minor": 0
      },
      "text/plain": [
       "HBox(children=(HTML(value=''), FloatProgress(value=0.0, max=2001.0), HTML(value='')))"
      ]
     },
     "metadata": {},
     "output_type": "display_data"
    },
    {
     "name": "stdout",
     "output_type": "stream",
     "text": [
      "\n",
      "[LightGBM] [Warning] Accuracy may be bad since you didn't set num_leaves and 2^max_depth > num_leaves\n",
      "[('reranked_own_rec', 0.2632342277012328)]\n",
      "5 1 3000\n"
     ]
    },
    {
     "data": {
      "application/vnd.jupyter.widget-view+json": {
       "model_id": "5a461f58167241c183ea388d49054894",
       "version_major": 2,
       "version_minor": 0
      },
      "text/plain": [
       "HBox(children=(HTML(value=''), FloatProgress(value=0.0, max=15.0), HTML(value='')))"
      ]
     },
     "metadata": {},
     "output_type": "display_data"
    },
    {
     "name": "stdout",
     "output_type": "stream",
     "text": [
      "\n"
     ]
    },
    {
     "data": {
      "application/vnd.jupyter.widget-view+json": {
       "model_id": "6927dfafce4b4b2da02a6f44d81dc8a3",
       "version_major": 2,
       "version_minor": 0
      },
      "text/plain": [
       "HBox(children=(HTML(value=''), FloatProgress(value=0.0, max=3001.0), HTML(value='')))"
      ]
     },
     "metadata": {},
     "output_type": "display_data"
    },
    {
     "name": "stdout",
     "output_type": "stream",
     "text": [
      "\n",
      "[LightGBM] [Warning] Accuracy may be bad since you didn't set num_leaves and 2^max_depth > num_leaves\n",
      "[('reranked_own_rec', 0.2658448150833938)]\n",
      "5 1 4000\n"
     ]
    },
    {
     "data": {
      "application/vnd.jupyter.widget-view+json": {
       "model_id": "ad798b83019a4bcebbdfaaacbb29ca98",
       "version_major": 2,
       "version_minor": 0
      },
      "text/plain": [
       "HBox(children=(HTML(value=''), FloatProgress(value=0.0, max=15.0), HTML(value='')))"
      ]
     },
     "metadata": {},
     "output_type": "display_data"
    },
    {
     "name": "stdout",
     "output_type": "stream",
     "text": [
      "\n"
     ]
    },
    {
     "data": {
      "application/vnd.jupyter.widget-view+json": {
       "model_id": "84888b7b304d49afa25a2a9c9387af13",
       "version_major": 2,
       "version_minor": 0
      },
      "text/plain": [
       "HBox(children=(HTML(value=''), FloatProgress(value=0.0, max=4000.0), HTML(value='')))"
      ]
     },
     "metadata": {},
     "output_type": "display_data"
    },
    {
     "name": "stdout",
     "output_type": "stream",
     "text": [
      "\n",
      "[LightGBM] [Warning] Accuracy may be bad since you didn't set num_leaves and 2^max_depth > num_leaves\n",
      "[('reranked_own_rec', 0.26279912980420594)]\n",
      "5 1 5000\n"
     ]
    },
    {
     "data": {
      "application/vnd.jupyter.widget-view+json": {
       "model_id": "efa2d5e35f4545d9a465447775107cf7",
       "version_major": 2,
       "version_minor": 0
      },
      "text/plain": [
       "HBox(children=(HTML(value=''), FloatProgress(value=0.0, max=15.0), HTML(value='')))"
      ]
     },
     "metadata": {},
     "output_type": "display_data"
    },
    {
     "name": "stdout",
     "output_type": "stream",
     "text": [
      "\n"
     ]
    },
    {
     "data": {
      "application/vnd.jupyter.widget-view+json": {
       "model_id": "662a9a5aa481402c847524d163d5b446",
       "version_major": 2,
       "version_minor": 0
      },
      "text/plain": [
       "HBox(children=(HTML(value=''), FloatProgress(value=0.0, max=4998.0), HTML(value='')))"
      ]
     },
     "metadata": {},
     "output_type": "display_data"
    },
    {
     "name": "stdout",
     "output_type": "stream",
     "text": [
      "\n",
      "[LightGBM] [Warning] Accuracy may be bad since you didn't set num_leaves and 2^max_depth > num_leaves\n",
      "[('reranked_own_rec', 0.268600435097897)]\n",
      "5 1 6000\n"
     ]
    },
    {
     "data": {
      "application/vnd.jupyter.widget-view+json": {
       "model_id": "d4d688abbea94f6db6d5e676fea23b4c",
       "version_major": 2,
       "version_minor": 0
      },
      "text/plain": [
       "HBox(children=(HTML(value=''), FloatProgress(value=0.0, max=15.0), HTML(value='')))"
      ]
     },
     "metadata": {},
     "output_type": "display_data"
    },
    {
     "name": "stdout",
     "output_type": "stream",
     "text": [
      "\n"
     ]
    },
    {
     "data": {
      "application/vnd.jupyter.widget-view+json": {
       "model_id": "46a62fb966fd4d879f10450e019bbb3e",
       "version_major": 2,
       "version_minor": 0
      },
      "text/plain": [
       "HBox(children=(HTML(value=''), FloatProgress(value=0.0, max=5997.0), HTML(value='')))"
      ]
     },
     "metadata": {},
     "output_type": "display_data"
    },
    {
     "name": "stdout",
     "output_type": "stream",
     "text": [
      "\n",
      "[LightGBM] [Warning] Accuracy may be bad since you didn't set num_leaves and 2^max_depth > num_leaves\n",
      "[('reranked_own_rec', 0.26337926033357506)]\n",
      "5 2 500\n"
     ]
    },
    {
     "data": {
      "application/vnd.jupyter.widget-view+json": {
       "model_id": "f1a4d246f2ee44109023224edafd079e",
       "version_major": 2,
       "version_minor": 0
      },
      "text/plain": [
       "HBox(children=(HTML(value=''), FloatProgress(value=0.0, max=15.0), HTML(value='')))"
      ]
     },
     "metadata": {},
     "output_type": "display_data"
    },
    {
     "name": "stdout",
     "output_type": "stream",
     "text": [
      "\n"
     ]
    },
    {
     "data": {
      "application/vnd.jupyter.widget-view+json": {
       "model_id": "870ca5c57fad481eb0976b068e917882",
       "version_major": 2,
       "version_minor": 0
      },
      "text/plain": [
       "HBox(children=(HTML(value=''), FloatProgress(value=0.0, max=501.0), HTML(value='')))"
      ]
     },
     "metadata": {},
     "output_type": "display_data"
    },
    {
     "name": "stdout",
     "output_type": "stream",
     "text": [
      "\n",
      "[LightGBM] [Warning] Accuracy may be bad since you didn't set num_leaves and 2^max_depth > num_leaves\n",
      "[('reranked_own_rec', 0.23379260333575058)]\n",
      "5 2 1000\n"
     ]
    },
    {
     "data": {
      "application/vnd.jupyter.widget-view+json": {
       "model_id": "742d504405a2486daf09f410daa2b7a2",
       "version_major": 2,
       "version_minor": 0
      },
      "text/plain": [
       "HBox(children=(HTML(value=''), FloatProgress(value=0.0, max=15.0), HTML(value='')))"
      ]
     },
     "metadata": {},
     "output_type": "display_data"
    },
    {
     "name": "stdout",
     "output_type": "stream",
     "text": [
      "\n"
     ]
    },
    {
     "data": {
      "application/vnd.jupyter.widget-view+json": {
       "model_id": "6beea42cc1b44968a943c1ab7f5164f2",
       "version_major": 2,
       "version_minor": 0
      },
      "text/plain": [
       "HBox(children=(HTML(value=''), FloatProgress(value=0.0, max=1001.0), HTML(value='')))"
      ]
     },
     "metadata": {},
     "output_type": "display_data"
    },
    {
     "name": "stdout",
     "output_type": "stream",
     "text": [
      "\n",
      "[LightGBM] [Warning] Accuracy may be bad since you didn't set num_leaves and 2^max_depth > num_leaves\n",
      "[('reranked_own_rec', 0.25032632342277017)]\n",
      "5 2 2000\n"
     ]
    },
    {
     "data": {
      "application/vnd.jupyter.widget-view+json": {
       "model_id": "01d9ea1ede9a43568073d5a56b9e2a57",
       "version_major": 2,
       "version_minor": 0
      },
      "text/plain": [
       "HBox(children=(HTML(value=''), FloatProgress(value=0.0, max=15.0), HTML(value='')))"
      ]
     },
     "metadata": {},
     "output_type": "display_data"
    },
    {
     "name": "stdout",
     "output_type": "stream",
     "text": [
      "\n"
     ]
    },
    {
     "data": {
      "application/vnd.jupyter.widget-view+json": {
       "model_id": "0d2591748f5f4577bae93129e692c7bf",
       "version_major": 2,
       "version_minor": 0
      },
      "text/plain": [
       "HBox(children=(HTML(value=''), FloatProgress(value=0.0, max=2001.0), HTML(value='')))"
      ]
     },
     "metadata": {},
     "output_type": "display_data"
    },
    {
     "name": "stdout",
     "output_type": "stream",
     "text": [
      "\n",
      "[LightGBM] [Warning] Accuracy may be bad since you didn't set num_leaves and 2^max_depth > num_leaves\n",
      "[('reranked_own_rec', 0.2543872371283539)]\n",
      "5 2 3000\n"
     ]
    },
    {
     "data": {
      "application/vnd.jupyter.widget-view+json": {
       "model_id": "14dbbd420d29440ea2c332d9173d4fc8",
       "version_major": 2,
       "version_minor": 0
      },
      "text/plain": [
       "HBox(children=(HTML(value=''), FloatProgress(value=0.0, max=15.0), HTML(value='')))"
      ]
     },
     "metadata": {},
     "output_type": "display_data"
    },
    {
     "name": "stdout",
     "output_type": "stream",
     "text": [
      "\n"
     ]
    },
    {
     "data": {
      "application/vnd.jupyter.widget-view+json": {
       "model_id": "95523f372d53489c9da25c9300b64ede",
       "version_major": 2,
       "version_minor": 0
      },
      "text/plain": [
       "HBox(children=(HTML(value=''), FloatProgress(value=0.0, max=3001.0), HTML(value='')))"
      ]
     },
     "metadata": {},
     "output_type": "display_data"
    },
    {
     "name": "stdout",
     "output_type": "stream",
     "text": [
      "\n",
      "[LightGBM] [Warning] Accuracy may be bad since you didn't set num_leaves and 2^max_depth > num_leaves\n",
      "[('reranked_own_rec', 0.2590282813633068)]\n",
      "5 2 4000\n"
     ]
    },
    {
     "data": {
      "application/vnd.jupyter.widget-view+json": {
       "model_id": "52d704e718aa459abc5161037ccd9c98",
       "version_major": 2,
       "version_minor": 0
      },
      "text/plain": [
       "HBox(children=(HTML(value=''), FloatProgress(value=0.0, max=15.0), HTML(value='')))"
      ]
     },
     "metadata": {},
     "output_type": "display_data"
    },
    {
     "name": "stdout",
     "output_type": "stream",
     "text": [
      "\n"
     ]
    },
    {
     "data": {
      "application/vnd.jupyter.widget-view+json": {
       "model_id": "9980b67c3456408089b3f778186dbcca",
       "version_major": 2,
       "version_minor": 0
      },
      "text/plain": [
       "HBox(children=(HTML(value=''), FloatProgress(value=0.0, max=4000.0), HTML(value='')))"
      ]
     },
     "metadata": {},
     "output_type": "display_data"
    },
    {
     "name": "stdout",
     "output_type": "stream",
     "text": [
      "\n",
      "[LightGBM] [Warning] Accuracy may be bad since you didn't set num_leaves and 2^max_depth > num_leaves\n",
      "[('reranked_own_rec', 0.26656997824510514)]\n",
      "5 2 5000\n"
     ]
    },
    {
     "data": {
      "application/vnd.jupyter.widget-view+json": {
       "model_id": "85de4682840c40a38300c6c0f7147dae",
       "version_major": 2,
       "version_minor": 0
      },
      "text/plain": [
       "HBox(children=(HTML(value=''), FloatProgress(value=0.0, max=15.0), HTML(value='')))"
      ]
     },
     "metadata": {},
     "output_type": "display_data"
    },
    {
     "name": "stdout",
     "output_type": "stream",
     "text": [
      "\n"
     ]
    },
    {
     "data": {
      "application/vnd.jupyter.widget-view+json": {
       "model_id": "87d31327392b4b0fbd9fa45d7f78abd6",
       "version_major": 2,
       "version_minor": 0
      },
      "text/plain": [
       "HBox(children=(HTML(value=''), FloatProgress(value=0.0, max=4998.0), HTML(value='')))"
      ]
     },
     "metadata": {},
     "output_type": "display_data"
    },
    {
     "name": "stdout",
     "output_type": "stream",
     "text": [
      "\n",
      "[LightGBM] [Warning] Accuracy may be bad since you didn't set num_leaves and 2^max_depth > num_leaves\n",
      "[('reranked_own_rec', 0.26047860768672954)]\n",
      "5 2 6000\n"
     ]
    },
    {
     "data": {
      "application/vnd.jupyter.widget-view+json": {
       "model_id": "bdc48bdefd2145a7b5eab96837192797",
       "version_major": 2,
       "version_minor": 0
      },
      "text/plain": [
       "HBox(children=(HTML(value=''), FloatProgress(value=0.0, max=15.0), HTML(value='')))"
      ]
     },
     "metadata": {},
     "output_type": "display_data"
    },
    {
     "name": "stdout",
     "output_type": "stream",
     "text": [
      "\n"
     ]
    },
    {
     "data": {
      "application/vnd.jupyter.widget-view+json": {
       "model_id": "779db04b07404e19821ca47f1dc8b927",
       "version_major": 2,
       "version_minor": 0
      },
      "text/plain": [
       "HBox(children=(HTML(value=''), FloatProgress(value=0.0, max=5997.0), HTML(value='')))"
      ]
     },
     "metadata": {},
     "output_type": "display_data"
    },
    {
     "name": "stdout",
     "output_type": "stream",
     "text": [
      "\n",
      "[LightGBM] [Warning] Accuracy may be bad since you didn't set num_leaves and 2^max_depth > num_leaves\n",
      "[('reranked_own_rec', 0.2606236403190718)]\n",
      "5 3 500\n"
     ]
    },
    {
     "data": {
      "application/vnd.jupyter.widget-view+json": {
       "model_id": "5747fd4d6ba143b9bbd643d174f73934",
       "version_major": 2,
       "version_minor": 0
      },
      "text/plain": [
       "HBox(children=(HTML(value=''), FloatProgress(value=0.0, max=15.0), HTML(value='')))"
      ]
     },
     "metadata": {},
     "output_type": "display_data"
    },
    {
     "name": "stdout",
     "output_type": "stream",
     "text": [
      "\n"
     ]
    },
    {
     "data": {
      "application/vnd.jupyter.widget-view+json": {
       "model_id": "e7eb775eebed47fe9fb019003967d187",
       "version_major": 2,
       "version_minor": 0
      },
      "text/plain": [
       "HBox(children=(HTML(value=''), FloatProgress(value=0.0, max=501.0), HTML(value='')))"
      ]
     },
     "metadata": {},
     "output_type": "display_data"
    },
    {
     "name": "stdout",
     "output_type": "stream",
     "text": [
      "\n",
      "[LightGBM] [Warning] Accuracy may be bad since you didn't set num_leaves and 2^max_depth > num_leaves\n",
      "[('reranked_own_rec', 0.23553299492385787)]\n",
      "5 3 1000\n"
     ]
    },
    {
     "data": {
      "application/vnd.jupyter.widget-view+json": {
       "model_id": "a81200ad0a4e4157b61b98f7a280ef5b",
       "version_major": 2,
       "version_minor": 0
      },
      "text/plain": [
       "HBox(children=(HTML(value=''), FloatProgress(value=0.0, max=15.0), HTML(value='')))"
      ]
     },
     "metadata": {},
     "output_type": "display_data"
    },
    {
     "name": "stdout",
     "output_type": "stream",
     "text": [
      "\n"
     ]
    },
    {
     "data": {
      "application/vnd.jupyter.widget-view+json": {
       "model_id": "3a7722785722424a983890351940a517",
       "version_major": 2,
       "version_minor": 0
      },
      "text/plain": [
       "HBox(children=(HTML(value=''), FloatProgress(value=0.0, max=1001.0), HTML(value='')))"
      ]
     },
     "metadata": {},
     "output_type": "display_data"
    },
    {
     "name": "stdout",
     "output_type": "stream",
     "text": [
      "\n",
      "[LightGBM] [Warning] Accuracy may be bad since you didn't set num_leaves and 2^max_depth > num_leaves\n",
      "[('reranked_own_rec', 0.25090645395213923)]\n",
      "5 3 2000\n"
     ]
    },
    {
     "data": {
      "application/vnd.jupyter.widget-view+json": {
       "model_id": "7c00f333135d42fbbad5d80bdd0b95d5",
       "version_major": 2,
       "version_minor": 0
      },
      "text/plain": [
       "HBox(children=(HTML(value=''), FloatProgress(value=0.0, max=15.0), HTML(value='')))"
      ]
     },
     "metadata": {},
     "output_type": "display_data"
    },
    {
     "name": "stdout",
     "output_type": "stream",
     "text": [
      "\n"
     ]
    },
    {
     "data": {
      "application/vnd.jupyter.widget-view+json": {
       "model_id": "cee423504b0d462b85a5c62994910b85",
       "version_major": 2,
       "version_minor": 0
      },
      "text/plain": [
       "HBox(children=(HTML(value=''), FloatProgress(value=0.0, max=2001.0), HTML(value='')))"
      ]
     },
     "metadata": {},
     "output_type": "display_data"
    },
    {
     "name": "stdout",
     "output_type": "stream",
     "text": [
      "\n",
      "[LightGBM] [Warning] Accuracy may be bad since you didn't set num_leaves and 2^max_depth > num_leaves\n",
      "[('reranked_own_rec', 0.25206671501087746)]\n",
      "5 3 3000\n"
     ]
    },
    {
     "data": {
      "application/vnd.jupyter.widget-view+json": {
       "model_id": "ab8503c482d34e008baa059402b02b49",
       "version_major": 2,
       "version_minor": 0
      },
      "text/plain": [
       "HBox(children=(HTML(value=''), FloatProgress(value=0.0, max=15.0), HTML(value='')))"
      ]
     },
     "metadata": {},
     "output_type": "display_data"
    },
    {
     "name": "stdout",
     "output_type": "stream",
     "text": [
      "\n"
     ]
    },
    {
     "data": {
      "application/vnd.jupyter.widget-view+json": {
       "model_id": "723eb915af9a425a9539c625bd40bc0b",
       "version_major": 2,
       "version_minor": 0
      },
      "text/plain": [
       "HBox(children=(HTML(value=''), FloatProgress(value=0.0, max=3001.0), HTML(value='')))"
      ]
     },
     "metadata": {},
     "output_type": "display_data"
    },
    {
     "name": "stdout",
     "output_type": "stream",
     "text": [
      "\n",
      "[LightGBM] [Warning] Accuracy may be bad since you didn't set num_leaves and 2^max_depth > num_leaves\n",
      "[('reranked_own_rec', 0.2532269760696157)]\n",
      "5 3 4000\n"
     ]
    },
    {
     "data": {
      "application/vnd.jupyter.widget-view+json": {
       "model_id": "d7b60564257441269b9040ba78285eff",
       "version_major": 2,
       "version_minor": 0
      },
      "text/plain": [
       "HBox(children=(HTML(value=''), FloatProgress(value=0.0, max=15.0), HTML(value='')))"
      ]
     },
     "metadata": {},
     "output_type": "display_data"
    },
    {
     "name": "stdout",
     "output_type": "stream",
     "text": [
      "\n"
     ]
    },
    {
     "data": {
      "application/vnd.jupyter.widget-view+json": {
       "model_id": "be209639f43e4750b5ee317eab686bb6",
       "version_major": 2,
       "version_minor": 0
      },
      "text/plain": [
       "HBox(children=(HTML(value=''), FloatProgress(value=0.0, max=4000.0), HTML(value='')))"
      ]
     },
     "metadata": {},
     "output_type": "display_data"
    },
    {
     "name": "stdout",
     "output_type": "stream",
     "text": [
      "\n",
      "[LightGBM] [Warning] Accuracy may be bad since you didn't set num_leaves and 2^max_depth > num_leaves\n",
      "[('reranked_own_rec', 0.25786802030456857)]\n",
      "5 3 5000\n"
     ]
    },
    {
     "data": {
      "application/vnd.jupyter.widget-view+json": {
       "model_id": "ff81b18c0331432697ae2a53e80ca384",
       "version_major": 2,
       "version_minor": 0
      },
      "text/plain": [
       "HBox(children=(HTML(value=''), FloatProgress(value=0.0, max=15.0), HTML(value='')))"
      ]
     },
     "metadata": {},
     "output_type": "display_data"
    },
    {
     "name": "stdout",
     "output_type": "stream",
     "text": [
      "\n"
     ]
    },
    {
     "data": {
      "application/vnd.jupyter.widget-view+json": {
       "model_id": "71a7a729b55d4ff9b44674bbc08eb612",
       "version_major": 2,
       "version_minor": 0
      },
      "text/plain": [
       "HBox(children=(HTML(value=''), FloatProgress(value=0.0, max=4998.0), HTML(value='')))"
      ]
     },
     "metadata": {},
     "output_type": "display_data"
    },
    {
     "name": "stdout",
     "output_type": "stream",
     "text": [
      "\n",
      "[LightGBM] [Warning] Accuracy may be bad since you didn't set num_leaves and 2^max_depth > num_leaves\n",
      "[('reranked_own_rec', 0.25975344452501814)]\n",
      "5 3 6000\n"
     ]
    },
    {
     "data": {
      "application/vnd.jupyter.widget-view+json": {
       "model_id": "9d5781e8fb5b48e0ae6d70fd70bad51c",
       "version_major": 2,
       "version_minor": 0
      },
      "text/plain": [
       "HBox(children=(HTML(value=''), FloatProgress(value=0.0, max=15.0), HTML(value='')))"
      ]
     },
     "metadata": {},
     "output_type": "display_data"
    },
    {
     "name": "stdout",
     "output_type": "stream",
     "text": [
      "\n"
     ]
    },
    {
     "data": {
      "application/vnd.jupyter.widget-view+json": {
       "model_id": "abc9ca0e5e404a7d84cbf54d6cfcb21c",
       "version_major": 2,
       "version_minor": 0
      },
      "text/plain": [
       "HBox(children=(HTML(value=''), FloatProgress(value=0.0, max=5996.0), HTML(value='')))"
      ]
     },
     "metadata": {},
     "output_type": "display_data"
    },
    {
     "name": "stdout",
     "output_type": "stream",
     "text": [
      "\n",
      "[LightGBM] [Warning] Accuracy may be bad since you didn't set num_leaves and 2^max_depth > num_leaves\n",
      "[('reranked_own_rec', 0.2539521392313271)]\n",
      "5 4 500\n"
     ]
    },
    {
     "data": {
      "application/vnd.jupyter.widget-view+json": {
       "model_id": "17e9e61999954bf68ed2cc55313050c3",
       "version_major": 2,
       "version_minor": 0
      },
      "text/plain": [
       "HBox(children=(HTML(value=''), FloatProgress(value=0.0, max=15.0), HTML(value='')))"
      ]
     },
     "metadata": {},
     "output_type": "display_data"
    },
    {
     "name": "stdout",
     "output_type": "stream",
     "text": [
      "\n"
     ]
    },
    {
     "data": {
      "application/vnd.jupyter.widget-view+json": {
       "model_id": "07161834a48b48a689473e8d655d42e3",
       "version_major": 2,
       "version_minor": 0
      },
      "text/plain": [
       "HBox(children=(HTML(value=''), FloatProgress(value=0.0, max=501.0), HTML(value='')))"
      ]
     },
     "metadata": {},
     "output_type": "display_data"
    },
    {
     "name": "stdout",
     "output_type": "stream",
     "text": [
      "\n",
      "[LightGBM] [Warning] Accuracy may be bad since you didn't set num_leaves and 2^max_depth > num_leaves\n",
      "[('reranked_own_rec', 0.233502538071066)]\n",
      "5 4 1000\n"
     ]
    },
    {
     "data": {
      "application/vnd.jupyter.widget-view+json": {
       "model_id": "15e34546c476421991f8af7ba0fda120",
       "version_major": 2,
       "version_minor": 0
      },
      "text/plain": [
       "HBox(children=(HTML(value=''), FloatProgress(value=0.0, max=15.0), HTML(value='')))"
      ]
     },
     "metadata": {},
     "output_type": "display_data"
    },
    {
     "name": "stdout",
     "output_type": "stream",
     "text": [
      "\n"
     ]
    },
    {
     "data": {
      "application/vnd.jupyter.widget-view+json": {
       "model_id": "b98d3949539a4cc0bd783035c4679fed",
       "version_major": 2,
       "version_minor": 0
      },
      "text/plain": [
       "HBox(children=(HTML(value=''), FloatProgress(value=0.0, max=1001.0), HTML(value='')))"
      ]
     },
     "metadata": {},
     "output_type": "display_data"
    },
    {
     "name": "stdout",
     "output_type": "stream",
     "text": [
      "\n",
      "[LightGBM] [Warning] Accuracy may be bad since you didn't set num_leaves and 2^max_depth > num_leaves\n",
      "[('reranked_own_rec', 0.24176939811457582)]\n",
      "5 4 2000\n"
     ]
    },
    {
     "data": {
      "application/vnd.jupyter.widget-view+json": {
       "model_id": "7aecd961e1a24903bd9c7bde607f38d7",
       "version_major": 2,
       "version_minor": 0
      },
      "text/plain": [
       "HBox(children=(HTML(value=''), FloatProgress(value=0.0, max=15.0), HTML(value='')))"
      ]
     },
     "metadata": {},
     "output_type": "display_data"
    },
    {
     "name": "stdout",
     "output_type": "stream",
     "text": [
      "\n"
     ]
    },
    {
     "data": {
      "application/vnd.jupyter.widget-view+json": {
       "model_id": "6d46daea253d425c9bb4d572afb6bac8",
       "version_major": 2,
       "version_minor": 0
      },
      "text/plain": [
       "HBox(children=(HTML(value=''), FloatProgress(value=0.0, max=2001.0), HTML(value='')))"
      ]
     },
     "metadata": {},
     "output_type": "display_data"
    },
    {
     "name": "stdout",
     "output_type": "stream",
     "text": [
      "\n",
      "[LightGBM] [Warning] Accuracy may be bad since you didn't set num_leaves and 2^max_depth > num_leaves\n",
      "[('reranked_own_rec', 0.25134155184916607)]\n",
      "5 4 3000\n"
     ]
    },
    {
     "data": {
      "application/vnd.jupyter.widget-view+json": {
       "model_id": "a9869ecf8555460e8af94ae8aa869c1e",
       "version_major": 2,
       "version_minor": 0
      },
      "text/plain": [
       "HBox(children=(HTML(value=''), FloatProgress(value=0.0, max=15.0), HTML(value='')))"
      ]
     },
     "metadata": {},
     "output_type": "display_data"
    },
    {
     "name": "stdout",
     "output_type": "stream",
     "text": [
      "\n"
     ]
    },
    {
     "data": {
      "application/vnd.jupyter.widget-view+json": {
       "model_id": "d9f20421630740bebcb1fe7c8380e036",
       "version_major": 2,
       "version_minor": 0
      },
      "text/plain": [
       "HBox(children=(HTML(value=''), FloatProgress(value=0.0, max=3001.0), HTML(value='')))"
      ]
     },
     "metadata": {},
     "output_type": "display_data"
    },
    {
     "name": "stdout",
     "output_type": "stream",
     "text": [
      "\n",
      "[LightGBM] [Warning] Accuracy may be bad since you didn't set num_leaves and 2^max_depth > num_leaves\n",
      "[('reranked_own_rec', 0.25090645395213923)]\n",
      "5 4 4000\n"
     ]
    },
    {
     "data": {
      "application/vnd.jupyter.widget-view+json": {
       "model_id": "80798d825f6f4b04b1e38eefad4ea3b5",
       "version_major": 2,
       "version_minor": 0
      },
      "text/plain": [
       "HBox(children=(HTML(value=''), FloatProgress(value=0.0, max=15.0), HTML(value='')))"
      ]
     },
     "metadata": {},
     "output_type": "display_data"
    },
    {
     "name": "stdout",
     "output_type": "stream",
     "text": [
      "\n"
     ]
    },
    {
     "data": {
      "application/vnd.jupyter.widget-view+json": {
       "model_id": "120058dff1e14f4cbea844803283b252",
       "version_major": 2,
       "version_minor": 0
      },
      "text/plain": [
       "HBox(children=(HTML(value=''), FloatProgress(value=0.0, max=4000.0), HTML(value='')))"
      ]
     },
     "metadata": {},
     "output_type": "display_data"
    },
    {
     "name": "stdout",
     "output_type": "stream",
     "text": [
      "\n",
      "[LightGBM] [Warning] Accuracy may be bad since you didn't set num_leaves and 2^max_depth > num_leaves\n",
      "[('reranked_own_rec', 0.2554024655547498)]\n",
      "5 4 5000\n"
     ]
    },
    {
     "data": {
      "application/vnd.jupyter.widget-view+json": {
       "model_id": "0507167bccdf4bd18bf05a2749ac718a",
       "version_major": 2,
       "version_minor": 0
      },
      "text/plain": [
       "HBox(children=(HTML(value=''), FloatProgress(value=0.0, max=15.0), HTML(value='')))"
      ]
     },
     "metadata": {},
     "output_type": "display_data"
    },
    {
     "name": "stdout",
     "output_type": "stream",
     "text": [
      "\n"
     ]
    },
    {
     "data": {
      "application/vnd.jupyter.widget-view+json": {
       "model_id": "cb70160ed45540e2b764deffadd09b70",
       "version_major": 2,
       "version_minor": 0
      },
      "text/plain": [
       "HBox(children=(HTML(value=''), FloatProgress(value=0.0, max=4998.0), HTML(value='')))"
      ]
     },
     "metadata": {},
     "output_type": "display_data"
    },
    {
     "name": "stdout",
     "output_type": "stream",
     "text": [
      "\n",
      "[LightGBM] [Warning] Accuracy may be bad since you didn't set num_leaves and 2^max_depth > num_leaves\n",
      "[('reranked_own_rec', 0.24858593183466282)]\n",
      "5 4 6000\n"
     ]
    },
    {
     "data": {
      "application/vnd.jupyter.widget-view+json": {
       "model_id": "a23e582c39cb49278fc0c9f5f0ff3ef4",
       "version_major": 2,
       "version_minor": 0
      },
      "text/plain": [
       "HBox(children=(HTML(value=''), FloatProgress(value=0.0, max=15.0), HTML(value='')))"
      ]
     },
     "metadata": {},
     "output_type": "display_data"
    },
    {
     "name": "stdout",
     "output_type": "stream",
     "text": [
      "\n"
     ]
    },
    {
     "data": {
      "application/vnd.jupyter.widget-view+json": {
       "model_id": "f0739ea7ae1c453b9d1b204484741a8f",
       "version_major": 2,
       "version_minor": 0
      },
      "text/plain": [
       "HBox(children=(HTML(value=''), FloatProgress(value=0.0, max=5996.0), HTML(value='')))"
      ]
     },
     "metadata": {},
     "output_type": "display_data"
    },
    {
     "name": "stdout",
     "output_type": "stream",
     "text": [
      "\n",
      "[LightGBM] [Warning] Accuracy may be bad since you didn't set num_leaves and 2^max_depth > num_leaves\n",
      "[('reranked_own_rec', 0.24931109499637416)]\n",
      "5 5 500\n"
     ]
    },
    {
     "data": {
      "application/vnd.jupyter.widget-view+json": {
       "model_id": "d4cc338db62c44fa8d99d0150b462420",
       "version_major": 2,
       "version_minor": 0
      },
      "text/plain": [
       "HBox(children=(HTML(value=''), FloatProgress(value=0.0, max=15.0), HTML(value='')))"
      ]
     },
     "metadata": {},
     "output_type": "display_data"
    },
    {
     "name": "stdout",
     "output_type": "stream",
     "text": [
      "\n"
     ]
    },
    {
     "data": {
      "application/vnd.jupyter.widget-view+json": {
       "model_id": "58fe296143734940aeb9505703b1b7be",
       "version_major": 2,
       "version_minor": 0
      },
      "text/plain": [
       "HBox(children=(HTML(value=''), FloatProgress(value=0.0, max=501.0), HTML(value='')))"
      ]
     },
     "metadata": {},
     "output_type": "display_data"
    },
    {
     "name": "stdout",
     "output_type": "stream",
     "text": [
      "\n",
      "[LightGBM] [Warning] Accuracy may be bad since you didn't set num_leaves and 2^max_depth > num_leaves\n",
      "[('reranked_own_rec', 0.22784626540971717)]\n",
      "5 5 1000\n"
     ]
    },
    {
     "data": {
      "application/vnd.jupyter.widget-view+json": {
       "model_id": "a9e3048631ea4dac96e0874703c21aef",
       "version_major": 2,
       "version_minor": 0
      },
      "text/plain": [
       "HBox(children=(HTML(value=''), FloatProgress(value=0.0, max=15.0), HTML(value='')))"
      ]
     },
     "metadata": {},
     "output_type": "display_data"
    },
    {
     "name": "stdout",
     "output_type": "stream",
     "text": [
      "\n"
     ]
    },
    {
     "data": {
      "application/vnd.jupyter.widget-view+json": {
       "model_id": "af6c175babf54b7597089ec187be5b3f",
       "version_major": 2,
       "version_minor": 0
      },
      "text/plain": [
       "HBox(children=(HTML(value=''), FloatProgress(value=0.0, max=1001.0), HTML(value='')))"
      ]
     },
     "metadata": {},
     "output_type": "display_data"
    },
    {
     "name": "stdout",
     "output_type": "stream",
     "text": [
      "\n",
      "[LightGBM] [Warning] Accuracy may be bad since you didn't set num_leaves and 2^max_depth > num_leaves\n",
      "[('reranked_own_rec', 0.24437998549673676)]\n",
      "5 5 2000\n"
     ]
    },
    {
     "data": {
      "application/vnd.jupyter.widget-view+json": {
       "model_id": "1e17bb7f68be4e26a8a7d644c43c0a43",
       "version_major": 2,
       "version_minor": 0
      },
      "text/plain": [
       "HBox(children=(HTML(value=''), FloatProgress(value=0.0, max=15.0), HTML(value='')))"
      ]
     },
     "metadata": {},
     "output_type": "display_data"
    },
    {
     "name": "stdout",
     "output_type": "stream",
     "text": [
      "\n"
     ]
    },
    {
     "data": {
      "application/vnd.jupyter.widget-view+json": {
       "model_id": "711152863d3d40a0a83ff245b69b808a",
       "version_major": 2,
       "version_minor": 0
      },
      "text/plain": [
       "HBox(children=(HTML(value=''), FloatProgress(value=0.0, max=2001.0), HTML(value='')))"
      ]
     },
     "metadata": {},
     "output_type": "display_data"
    },
    {
     "name": "stdout",
     "output_type": "stream",
     "text": [
      "\n",
      "[LightGBM] [Warning] Accuracy may be bad since you didn't set num_leaves and 2^max_depth > num_leaves\n",
      "[('reranked_own_rec', 0.25076142131979695)]\n",
      "5 5 3000\n"
     ]
    },
    {
     "data": {
      "application/vnd.jupyter.widget-view+json": {
       "model_id": "c777037048bc4bd59e2a461c7dc5d955",
       "version_major": 2,
       "version_minor": 0
      },
      "text/plain": [
       "HBox(children=(HTML(value=''), FloatProgress(value=0.0, max=15.0), HTML(value='')))"
      ]
     },
     "metadata": {},
     "output_type": "display_data"
    },
    {
     "name": "stdout",
     "output_type": "stream",
     "text": [
      "\n"
     ]
    },
    {
     "data": {
      "application/vnd.jupyter.widget-view+json": {
       "model_id": "d322e684a5f641f0ade6d3acfd71d108",
       "version_major": 2,
       "version_minor": 0
      },
      "text/plain": [
       "HBox(children=(HTML(value=''), FloatProgress(value=0.0, max=3001.0), HTML(value='')))"
      ]
     },
     "metadata": {},
     "output_type": "display_data"
    },
    {
     "name": "stdout",
     "output_type": "stream",
     "text": [
      "\n",
      "[LightGBM] [Warning] Accuracy may be bad since you didn't set num_leaves and 2^max_depth > num_leaves\n",
      "[('reranked_own_rec', 0.25206671501087746)]\n",
      "5 5 4000\n"
     ]
    },
    {
     "data": {
      "application/vnd.jupyter.widget-view+json": {
       "model_id": "9c403fb0cedb45d68cdb12b359a5ab98",
       "version_major": 2,
       "version_minor": 0
      },
      "text/plain": [
       "HBox(children=(HTML(value=''), FloatProgress(value=0.0, max=15.0), HTML(value='')))"
      ]
     },
     "metadata": {},
     "output_type": "display_data"
    },
    {
     "name": "stdout",
     "output_type": "stream",
     "text": [
      "\n"
     ]
    },
    {
     "data": {
      "application/vnd.jupyter.widget-view+json": {
       "model_id": "83f26fc662e3453da701bff019663b2c",
       "version_major": 2,
       "version_minor": 0
      },
      "text/plain": [
       "HBox(children=(HTML(value=''), FloatProgress(value=0.0, max=4000.0), HTML(value='')))"
      ]
     },
     "metadata": {},
     "output_type": "display_data"
    },
    {
     "name": "stdout",
     "output_type": "stream",
     "text": [
      "\n",
      "[LightGBM] [Warning] Accuracy may be bad since you didn't set num_leaves and 2^max_depth > num_leaves\n",
      "[('reranked_own_rec', 0.24786076867295143)]\n",
      "5 5 5000\n"
     ]
    },
    {
     "data": {
      "application/vnd.jupyter.widget-view+json": {
       "model_id": "9b3dd5ea32c94f0fac012dd8e5d2a375",
       "version_major": 2,
       "version_minor": 0
      },
      "text/plain": [
       "HBox(children=(HTML(value=''), FloatProgress(value=0.0, max=15.0), HTML(value='')))"
      ]
     },
     "metadata": {},
     "output_type": "display_data"
    },
    {
     "name": "stdout",
     "output_type": "stream",
     "text": [
      "\n"
     ]
    },
    {
     "data": {
      "application/vnd.jupyter.widget-view+json": {
       "model_id": "add1e694f1444a28973a12ead803d721",
       "version_major": 2,
       "version_minor": 0
      },
      "text/plain": [
       "HBox(children=(HTML(value=''), FloatProgress(value=0.0, max=4998.0), HTML(value='')))"
      ]
     },
     "metadata": {},
     "output_type": "display_data"
    },
    {
     "name": "stdout",
     "output_type": "stream",
     "text": [
      "\n",
      "[LightGBM] [Warning] Accuracy may be bad since you didn't set num_leaves and 2^max_depth > num_leaves\n",
      "[('reranked_own_rec', 0.249746192893401)]\n",
      "5 5 6000\n"
     ]
    },
    {
     "data": {
      "application/vnd.jupyter.widget-view+json": {
       "model_id": "03fb694439924408b3d3448d041522e9",
       "version_major": 2,
       "version_minor": 0
      },
      "text/plain": [
       "HBox(children=(HTML(value=''), FloatProgress(value=0.0, max=15.0), HTML(value='')))"
      ]
     },
     "metadata": {},
     "output_type": "display_data"
    },
    {
     "name": "stdout",
     "output_type": "stream",
     "text": [
      "\n"
     ]
    },
    {
     "data": {
      "application/vnd.jupyter.widget-view+json": {
       "model_id": "95d975858a054c1b89a32dc8aadf7b59",
       "version_major": 2,
       "version_minor": 0
      },
      "text/plain": [
       "HBox(children=(HTML(value=''), FloatProgress(value=0.0, max=5996.0), HTML(value='')))"
      ]
     },
     "metadata": {},
     "output_type": "display_data"
    },
    {
     "name": "stdout",
     "output_type": "stream",
     "text": [
      "\n",
      "[LightGBM] [Warning] Accuracy may be bad since you didn't set num_leaves and 2^max_depth > num_leaves\n",
      "[('reranked_own_rec', 0.24626540971718638)]\n",
      "5 6 500\n"
     ]
    },
    {
     "data": {
      "application/vnd.jupyter.widget-view+json": {
       "model_id": "49b5c530a21645ac8fd9c67fca8084c2",
       "version_major": 2,
       "version_minor": 0
      },
      "text/plain": [
       "HBox(children=(HTML(value=''), FloatProgress(value=0.0, max=15.0), HTML(value='')))"
      ]
     },
     "metadata": {},
     "output_type": "display_data"
    },
    {
     "name": "stdout",
     "output_type": "stream",
     "text": [
      "\n"
     ]
    },
    {
     "data": {
      "application/vnd.jupyter.widget-view+json": {
       "model_id": "8cd8be88a2f5455ba2ce7f7db1621e51",
       "version_major": 2,
       "version_minor": 0
      },
      "text/plain": [
       "HBox(children=(HTML(value=''), FloatProgress(value=0.0, max=501.0), HTML(value='')))"
      ]
     },
     "metadata": {},
     "output_type": "display_data"
    },
    {
     "name": "stdout",
     "output_type": "stream",
     "text": [
      "\n",
      "[LightGBM] [Warning] Accuracy may be bad since you didn't set num_leaves and 2^max_depth > num_leaves\n",
      "[('reranked_own_rec', 0.22929659173314)]\n",
      "5 6 1000\n"
     ]
    },
    {
     "data": {
      "application/vnd.jupyter.widget-view+json": {
       "model_id": "1d98b3fdcce743e4964dbb27a0048d58",
       "version_major": 2,
       "version_minor": 0
      },
      "text/plain": [
       "HBox(children=(HTML(value=''), FloatProgress(value=0.0, max=15.0), HTML(value='')))"
      ]
     },
     "metadata": {},
     "output_type": "display_data"
    },
    {
     "name": "stdout",
     "output_type": "stream",
     "text": [
      "\n"
     ]
    },
    {
     "data": {
      "application/vnd.jupyter.widget-view+json": {
       "model_id": "32ce7c9cf76746159a0b60087787d596",
       "version_major": 2,
       "version_minor": 0
      },
      "text/plain": [
       "HBox(children=(HTML(value=''), FloatProgress(value=0.0, max=1001.0), HTML(value='')))"
      ]
     },
     "metadata": {},
     "output_type": "display_data"
    },
    {
     "name": "stdout",
     "output_type": "stream",
     "text": [
      "\n",
      "[LightGBM] [Warning] Accuracy may be bad since you didn't set num_leaves and 2^max_depth > num_leaves\n",
      "[('reranked_own_rec', 0.23567802755620015)]\n",
      "5 6 2000\n"
     ]
    },
    {
     "data": {
      "application/vnd.jupyter.widget-view+json": {
       "model_id": "e42ee52260434b8eb8d4ab63a06aea95",
       "version_major": 2,
       "version_minor": 0
      },
      "text/plain": [
       "HBox(children=(HTML(value=''), FloatProgress(value=0.0, max=15.0), HTML(value='')))"
      ]
     },
     "metadata": {},
     "output_type": "display_data"
    },
    {
     "name": "stdout",
     "output_type": "stream",
     "text": [
      "\n"
     ]
    },
    {
     "data": {
      "application/vnd.jupyter.widget-view+json": {
       "model_id": "d45742380f0f4eff8bc2d378f595fc32",
       "version_major": 2,
       "version_minor": 0
      },
      "text/plain": [
       "HBox(children=(HTML(value=''), FloatProgress(value=0.0, max=2001.0), HTML(value='')))"
      ]
     },
     "metadata": {},
     "output_type": "display_data"
    },
    {
     "name": "stdout",
     "output_type": "stream",
     "text": [
      "\n",
      "[LightGBM] [Warning] Accuracy may be bad since you didn't set num_leaves and 2^max_depth > num_leaves\n",
      "[('reranked_own_rec', 0.24394488759970992)]\n",
      "5 6 3000\n"
     ]
    },
    {
     "data": {
      "application/vnd.jupyter.widget-view+json": {
       "model_id": "bfa20630a21c47ff87c77749df1dad2a",
       "version_major": 2,
       "version_minor": 0
      },
      "text/plain": [
       "HBox(children=(HTML(value=''), FloatProgress(value=0.0, max=15.0), HTML(value='')))"
      ]
     },
     "metadata": {},
     "output_type": "display_data"
    },
    {
     "name": "stdout",
     "output_type": "stream",
     "text": [
      "\n"
     ]
    },
    {
     "data": {
      "application/vnd.jupyter.widget-view+json": {
       "model_id": "36e28ab933e1435faaec2f14be60e4f8",
       "version_major": 2,
       "version_minor": 0
      },
      "text/plain": [
       "HBox(children=(HTML(value=''), FloatProgress(value=0.0, max=3001.0), HTML(value='')))"
      ]
     },
     "metadata": {},
     "output_type": "display_data"
    },
    {
     "name": "stdout",
     "output_type": "stream",
     "text": [
      "\n",
      "[LightGBM] [Warning] Accuracy may be bad since you didn't set num_leaves and 2^max_depth > num_leaves\n",
      "[('reranked_own_rec', 0.2437998549673677)]\n",
      "5 6 4000\n"
     ]
    },
    {
     "data": {
      "application/vnd.jupyter.widget-view+json": {
       "model_id": "62f02ec57171482097ba6dafb9a01fab",
       "version_major": 2,
       "version_minor": 0
      },
      "text/plain": [
       "HBox(children=(HTML(value=''), FloatProgress(value=0.0, max=15.0), HTML(value='')))"
      ]
     },
     "metadata": {},
     "output_type": "display_data"
    },
    {
     "name": "stdout",
     "output_type": "stream",
     "text": [
      "\n"
     ]
    },
    {
     "data": {
      "application/vnd.jupyter.widget-view+json": {
       "model_id": "532e57152f9147839dd90e1c5a02f66a",
       "version_major": 2,
       "version_minor": 0
      },
      "text/plain": [
       "HBox(children=(HTML(value=''), FloatProgress(value=0.0, max=3999.0), HTML(value='')))"
      ]
     },
     "metadata": {},
     "output_type": "display_data"
    },
    {
     "name": "stdout",
     "output_type": "stream",
     "text": [
      "\n",
      "[LightGBM] [Warning] Accuracy may be bad since you didn't set num_leaves and 2^max_depth > num_leaves\n",
      "[('reranked_own_rec', 0.24713560551124003)]\n",
      "5 6 5000\n"
     ]
    },
    {
     "data": {
      "application/vnd.jupyter.widget-view+json": {
       "model_id": "2f12cd34ce0a4198950b8fe5f9eed0ab",
       "version_major": 2,
       "version_minor": 0
      },
      "text/plain": [
       "HBox(children=(HTML(value=''), FloatProgress(value=0.0, max=15.0), HTML(value='')))"
      ]
     },
     "metadata": {},
     "output_type": "display_data"
    },
    {
     "name": "stdout",
     "output_type": "stream",
     "text": [
      "\n"
     ]
    },
    {
     "data": {
      "application/vnd.jupyter.widget-view+json": {
       "model_id": "b10c8d35a28c46c2bbc960e777142121",
       "version_major": 2,
       "version_minor": 0
      },
      "text/plain": [
       "HBox(children=(HTML(value=''), FloatProgress(value=0.0, max=4998.0), HTML(value='')))"
      ]
     },
     "metadata": {},
     "output_type": "display_data"
    },
    {
     "name": "stdout",
     "output_type": "stream",
     "text": [
      "\n",
      "[LightGBM] [Warning] Accuracy may be bad since you didn't set num_leaves and 2^max_depth > num_leaves\n",
      "[('reranked_own_rec', 0.2536620739666425)]\n",
      "5 6 6000\n"
     ]
    },
    {
     "data": {
      "application/vnd.jupyter.widget-view+json": {
       "model_id": "77a4be1fcc20455ea6bcb05302787355",
       "version_major": 2,
       "version_minor": 0
      },
      "text/plain": [
       "HBox(children=(HTML(value=''), FloatProgress(value=0.0, max=15.0), HTML(value='')))"
      ]
     },
     "metadata": {},
     "output_type": "display_data"
    },
    {
     "name": "stdout",
     "output_type": "stream",
     "text": [
      "\n"
     ]
    },
    {
     "data": {
      "application/vnd.jupyter.widget-view+json": {
       "model_id": "e37c5180443d4392a70ab625884dc536",
       "version_major": 2,
       "version_minor": 0
      },
      "text/plain": [
       "HBox(children=(HTML(value=''), FloatProgress(value=0.0, max=5996.0), HTML(value='')))"
      ]
     },
     "metadata": {},
     "output_type": "display_data"
    },
    {
     "name": "stdout",
     "output_type": "stream",
     "text": [
      "\n",
      "[LightGBM] [Warning] Accuracy may be bad since you didn't set num_leaves and 2^max_depth > num_leaves\n",
      "[('reranked_own_rec', 0.2480058013052937)]\n",
      "6 1 500\n"
     ]
    },
    {
     "data": {
      "application/vnd.jupyter.widget-view+json": {
       "model_id": "782e08ab3f7746b18e7173f496fdfd8f",
       "version_major": 2,
       "version_minor": 0
      },
      "text/plain": [
       "HBox(children=(HTML(value=''), FloatProgress(value=0.0, max=15.0), HTML(value='')))"
      ]
     },
     "metadata": {},
     "output_type": "display_data"
    },
    {
     "name": "stdout",
     "output_type": "stream",
     "text": [
      "\n"
     ]
    },
    {
     "data": {
      "application/vnd.jupyter.widget-view+json": {
       "model_id": "b1aaa9f5df3b43f98ac212926452fbe4",
       "version_major": 2,
       "version_minor": 0
      },
      "text/plain": [
       "HBox(children=(HTML(value=''), FloatProgress(value=0.0, max=501.0), HTML(value='')))"
      ]
     },
     "metadata": {},
     "output_type": "display_data"
    },
    {
     "name": "stdout",
     "output_type": "stream",
     "text": [
      "\n",
      "[LightGBM] [Warning] Accuracy may be bad since you didn't set num_leaves and 2^max_depth > num_leaves\n",
      "[('reranked_own_rec', 0.2404641044234953)]\n",
      "6 1 1000\n"
     ]
    },
    {
     "data": {
      "application/vnd.jupyter.widget-view+json": {
       "model_id": "caa26cd9286f43df8485d110d83376ef",
       "version_major": 2,
       "version_minor": 0
      },
      "text/plain": [
       "HBox(children=(HTML(value=''), FloatProgress(value=0.0, max=15.0), HTML(value='')))"
      ]
     },
     "metadata": {},
     "output_type": "display_data"
    },
    {
     "name": "stdout",
     "output_type": "stream",
     "text": [
      "\n"
     ]
    },
    {
     "data": {
      "application/vnd.jupyter.widget-view+json": {
       "model_id": "1b2bb7fa0b3a4ab984118aa1e88ccff9",
       "version_major": 2,
       "version_minor": 0
      },
      "text/plain": [
       "HBox(children=(HTML(value=''), FloatProgress(value=0.0, max=1001.0), HTML(value='')))"
      ]
     },
     "metadata": {},
     "output_type": "display_data"
    },
    {
     "name": "stdout",
     "output_type": "stream",
     "text": [
      "\n",
      "[LightGBM] [Warning] Accuracy may be bad since you didn't set num_leaves and 2^max_depth > num_leaves\n",
      "[('reranked_own_rec', 0.2571428571428572)]\n",
      "6 1 2000\n"
     ]
    },
    {
     "data": {
      "application/vnd.jupyter.widget-view+json": {
       "model_id": "4ca815fcf48b42f6aeb80cab6b5f7c52",
       "version_major": 2,
       "version_minor": 0
      },
      "text/plain": [
       "HBox(children=(HTML(value=''), FloatProgress(value=0.0, max=15.0), HTML(value='')))"
      ]
     },
     "metadata": {},
     "output_type": "display_data"
    },
    {
     "name": "stdout",
     "output_type": "stream",
     "text": [
      "\n"
     ]
    },
    {
     "data": {
      "application/vnd.jupyter.widget-view+json": {
       "model_id": "f28620b91d29465b81982e94032c126e",
       "version_major": 2,
       "version_minor": 0
      },
      "text/plain": [
       "HBox(children=(HTML(value=''), FloatProgress(value=0.0, max=2001.0), HTML(value='')))"
      ]
     },
     "metadata": {},
     "output_type": "display_data"
    },
    {
     "name": "stdout",
     "output_type": "stream",
     "text": [
      "\n",
      "[LightGBM] [Warning] Accuracy may be bad since you didn't set num_leaves and 2^max_depth > num_leaves\n",
      "[('reranked_own_rec', 0.2616388687454677)]\n",
      "6 1 3000\n"
     ]
    },
    {
     "data": {
      "application/vnd.jupyter.widget-view+json": {
       "model_id": "b8949e0cda384b72a194094769099ed7",
       "version_major": 2,
       "version_minor": 0
      },
      "text/plain": [
       "HBox(children=(HTML(value=''), FloatProgress(value=0.0, max=15.0), HTML(value='')))"
      ]
     },
     "metadata": {},
     "output_type": "display_data"
    },
    {
     "name": "stdout",
     "output_type": "stream",
     "text": [
      "\n"
     ]
    },
    {
     "data": {
      "application/vnd.jupyter.widget-view+json": {
       "model_id": "6313ebc38b574d2d96b499948ec0d125",
       "version_major": 2,
       "version_minor": 0
      },
      "text/plain": [
       "HBox(children=(HTML(value=''), FloatProgress(value=0.0, max=3001.0), HTML(value='')))"
      ]
     },
     "metadata": {},
     "output_type": "display_data"
    },
    {
     "name": "stdout",
     "output_type": "stream",
     "text": [
      "\n",
      "[LightGBM] [Warning] Accuracy may be bad since you didn't set num_leaves and 2^max_depth > num_leaves\n",
      "[('reranked_own_rec', 0.265989847715736)]\n",
      "6 1 4000\n"
     ]
    },
    {
     "data": {
      "application/vnd.jupyter.widget-view+json": {
       "model_id": "79b51e65d59049f9ba39746f4a053159",
       "version_major": 2,
       "version_minor": 0
      },
      "text/plain": [
       "HBox(children=(HTML(value=''), FloatProgress(value=0.0, max=15.0), HTML(value='')))"
      ]
     },
     "metadata": {},
     "output_type": "display_data"
    },
    {
     "name": "stdout",
     "output_type": "stream",
     "text": [
      "\n"
     ]
    },
    {
     "data": {
      "application/vnd.jupyter.widget-view+json": {
       "model_id": "3a97e90169bb4dc2bdbe64610056b05f",
       "version_major": 2,
       "version_minor": 0
      },
      "text/plain": [
       "HBox(children=(HTML(value=''), FloatProgress(value=0.0, max=4000.0), HTML(value='')))"
      ]
     },
     "metadata": {},
     "output_type": "display_data"
    },
    {
     "name": "stdout",
     "output_type": "stream",
     "text": [
      "\n",
      "[LightGBM] [Warning] Accuracy may be bad since you didn't set num_leaves and 2^max_depth > num_leaves\n",
      "[('reranked_own_rec', 0.26627991298042064)]\n",
      "6 1 5000\n"
     ]
    },
    {
     "data": {
      "application/vnd.jupyter.widget-view+json": {
       "model_id": "4a17e17f0533435b9a1b9f9f08843c49",
       "version_major": 2,
       "version_minor": 0
      },
      "text/plain": [
       "HBox(children=(HTML(value=''), FloatProgress(value=0.0, max=15.0), HTML(value='')))"
      ]
     },
     "metadata": {},
     "output_type": "display_data"
    },
    {
     "name": "stdout",
     "output_type": "stream",
     "text": [
      "\n"
     ]
    },
    {
     "data": {
      "application/vnd.jupyter.widget-view+json": {
       "model_id": "8d24017b957641049c366877b10346d1",
       "version_major": 2,
       "version_minor": 0
      },
      "text/plain": [
       "HBox(children=(HTML(value=''), FloatProgress(value=0.0, max=4998.0), HTML(value='')))"
      ]
     },
     "metadata": {},
     "output_type": "display_data"
    },
    {
     "name": "stdout",
     "output_type": "stream",
     "text": [
      "\n",
      "[LightGBM] [Warning] Accuracy may be bad since you didn't set num_leaves and 2^max_depth > num_leaves\n",
      "[('reranked_own_rec', 0.26802030456852793)]\n",
      "6 1 6000\n"
     ]
    },
    {
     "data": {
      "application/vnd.jupyter.widget-view+json": {
       "model_id": "cf06be91e7b14372aaac3faedfc5f2ad",
       "version_major": 2,
       "version_minor": 0
      },
      "text/plain": [
       "HBox(children=(HTML(value=''), FloatProgress(value=0.0, max=15.0), HTML(value='')))"
      ]
     },
     "metadata": {},
     "output_type": "display_data"
    },
    {
     "name": "stdout",
     "output_type": "stream",
     "text": [
      "\n"
     ]
    },
    {
     "data": {
      "application/vnd.jupyter.widget-view+json": {
       "model_id": "2fa3d5daf19749289d387aa63bf14c23",
       "version_major": 2,
       "version_minor": 0
      },
      "text/plain": [
       "HBox(children=(HTML(value=''), FloatProgress(value=0.0, max=5997.0), HTML(value='')))"
      ]
     },
     "metadata": {},
     "output_type": "display_data"
    },
    {
     "name": "stdout",
     "output_type": "stream",
     "text": [
      "\n",
      "[LightGBM] [Warning] Accuracy may be bad since you didn't set num_leaves and 2^max_depth > num_leaves\n",
      "[('reranked_own_rec', 0.26700507614213204)]\n",
      "6 2 500\n"
     ]
    },
    {
     "data": {
      "application/vnd.jupyter.widget-view+json": {
       "model_id": "c0d987ade2f14defbb375c2e55d3acf3",
       "version_major": 2,
       "version_minor": 0
      },
      "text/plain": [
       "HBox(children=(HTML(value=''), FloatProgress(value=0.0, max=15.0), HTML(value='')))"
      ]
     },
     "metadata": {},
     "output_type": "display_data"
    },
    {
     "name": "stdout",
     "output_type": "stream",
     "text": [
      "\n"
     ]
    },
    {
     "data": {
      "application/vnd.jupyter.widget-view+json": {
       "model_id": "9d253c54a8444c849273568a349f1e75",
       "version_major": 2,
       "version_minor": 0
      },
      "text/plain": [
       "HBox(children=(HTML(value=''), FloatProgress(value=0.0, max=501.0), HTML(value='')))"
      ]
     },
     "metadata": {},
     "output_type": "display_data"
    },
    {
     "name": "stdout",
     "output_type": "stream",
     "text": [
      "\n",
      "[LightGBM] [Warning] Accuracy may be bad since you didn't set num_leaves and 2^max_depth > num_leaves\n",
      "[('reranked_own_rec', 0.2378535170413343)]\n",
      "6 2 1000\n"
     ]
    },
    {
     "data": {
      "application/vnd.jupyter.widget-view+json": {
       "model_id": "27e77fe6aa89420b8aa36a1ebe5cdd02",
       "version_major": 2,
       "version_minor": 0
      },
      "text/plain": [
       "HBox(children=(HTML(value=''), FloatProgress(value=0.0, max=15.0), HTML(value='')))"
      ]
     },
     "metadata": {},
     "output_type": "display_data"
    },
    {
     "name": "stdout",
     "output_type": "stream",
     "text": [
      "\n"
     ]
    },
    {
     "data": {
      "application/vnd.jupyter.widget-view+json": {
       "model_id": "a4b49704fc9c4075a3c0b3d9ef90f77c",
       "version_major": 2,
       "version_minor": 0
      },
      "text/plain": [
       "HBox(children=(HTML(value=''), FloatProgress(value=0.0, max=1001.0), HTML(value='')))"
      ]
     },
     "metadata": {},
     "output_type": "display_data"
    },
    {
     "name": "stdout",
     "output_type": "stream",
     "text": [
      "\n",
      "[LightGBM] [Warning] Accuracy may be bad since you didn't set num_leaves and 2^max_depth > num_leaves\n",
      "[('reranked_own_rec', 0.25047135605511245)]\n",
      "6 2 2000\n"
     ]
    },
    {
     "data": {
      "application/vnd.jupyter.widget-view+json": {
       "model_id": "6b139e9783e547e39624c021c4135769",
       "version_major": 2,
       "version_minor": 0
      },
      "text/plain": [
       "HBox(children=(HTML(value=''), FloatProgress(value=0.0, max=15.0), HTML(value='')))"
      ]
     },
     "metadata": {},
     "output_type": "display_data"
    },
    {
     "name": "stdout",
     "output_type": "stream",
     "text": [
      "\n"
     ]
    },
    {
     "data": {
      "application/vnd.jupyter.widget-view+json": {
       "model_id": "e7ac4914367741408ae7f73707d69de6",
       "version_major": 2,
       "version_minor": 0
      },
      "text/plain": [
       "HBox(children=(HTML(value=''), FloatProgress(value=0.0, max=2001.0), HTML(value='')))"
      ]
     },
     "metadata": {},
     "output_type": "display_data"
    },
    {
     "name": "stdout",
     "output_type": "stream",
     "text": [
      "\n",
      "[LightGBM] [Warning] Accuracy may be bad since you didn't set num_leaves and 2^max_depth > num_leaves\n",
      "[('reranked_own_rec', 0.2525018129079043)]\n",
      "6 2 3000\n"
     ]
    },
    {
     "data": {
      "application/vnd.jupyter.widget-view+json": {
       "model_id": "0a354050ee0d40499e580bb22bf0df46",
       "version_major": 2,
       "version_minor": 0
      },
      "text/plain": [
       "HBox(children=(HTML(value=''), FloatProgress(value=0.0, max=15.0), HTML(value='')))"
      ]
     },
     "metadata": {},
     "output_type": "display_data"
    },
    {
     "name": "stdout",
     "output_type": "stream",
     "text": [
      "\n"
     ]
    },
    {
     "data": {
      "application/vnd.jupyter.widget-view+json": {
       "model_id": "2931c0470f164ea392040ae265040cb3",
       "version_major": 2,
       "version_minor": 0
      },
      "text/plain": [
       "HBox(children=(HTML(value=''), FloatProgress(value=0.0, max=3001.0), HTML(value='')))"
      ]
     },
     "metadata": {},
     "output_type": "display_data"
    },
    {
     "name": "stdout",
     "output_type": "stream",
     "text": [
      "\n",
      "[LightGBM] [Warning] Accuracy may be bad since you didn't set num_leaves and 2^max_depth > num_leaves\n",
      "[('reranked_own_rec', 0.2629441624365482)]\n",
      "6 2 4000\n"
     ]
    },
    {
     "data": {
      "application/vnd.jupyter.widget-view+json": {
       "model_id": "936a209451974c92b9d0c4cbd944493c",
       "version_major": 2,
       "version_minor": 0
      },
      "text/plain": [
       "HBox(children=(HTML(value=''), FloatProgress(value=0.0, max=15.0), HTML(value='')))"
      ]
     },
     "metadata": {},
     "output_type": "display_data"
    },
    {
     "name": "stdout",
     "output_type": "stream",
     "text": [
      "\n"
     ]
    },
    {
     "data": {
      "application/vnd.jupyter.widget-view+json": {
       "model_id": "038279bfb6204b5180249cd442f0b5ed",
       "version_major": 2,
       "version_minor": 0
      },
      "text/plain": [
       "HBox(children=(HTML(value=''), FloatProgress(value=0.0, max=4000.0), HTML(value='')))"
      ]
     },
     "metadata": {},
     "output_type": "display_data"
    },
    {
     "name": "stdout",
     "output_type": "stream",
     "text": [
      "\n",
      "[LightGBM] [Warning] Accuracy may be bad since you didn't set num_leaves and 2^max_depth > num_leaves\n",
      "[('reranked_own_rec', 0.264394488759971)]\n",
      "6 2 5000\n"
     ]
    },
    {
     "data": {
      "application/vnd.jupyter.widget-view+json": {
       "model_id": "d5f5622e2aa641f8b626b0e972021a88",
       "version_major": 2,
       "version_minor": 0
      },
      "text/plain": [
       "HBox(children=(HTML(value=''), FloatProgress(value=0.0, max=15.0), HTML(value='')))"
      ]
     },
     "metadata": {},
     "output_type": "display_data"
    },
    {
     "name": "stdout",
     "output_type": "stream",
     "text": [
      "\n"
     ]
    },
    {
     "data": {
      "application/vnd.jupyter.widget-view+json": {
       "model_id": "f7deddaab44a4d46b2bbbc7496927c02",
       "version_major": 2,
       "version_minor": 0
      },
      "text/plain": [
       "HBox(children=(HTML(value=''), FloatProgress(value=0.0, max=4998.0), HTML(value='')))"
      ]
     },
     "metadata": {},
     "output_type": "display_data"
    },
    {
     "name": "stdout",
     "output_type": "stream",
     "text": [
      "\n",
      "[LightGBM] [Warning] Accuracy may be bad since you didn't set num_leaves and 2^max_depth > num_leaves\n",
      "[('reranked_own_rec', 0.26729514140681654)]\n",
      "6 2 6000\n"
     ]
    },
    {
     "data": {
      "application/vnd.jupyter.widget-view+json": {
       "model_id": "79579f3c95584d1ea409bc8ede37acda",
       "version_major": 2,
       "version_minor": 0
      },
      "text/plain": [
       "HBox(children=(HTML(value=''), FloatProgress(value=0.0, max=15.0), HTML(value='')))"
      ]
     },
     "metadata": {},
     "output_type": "display_data"
    },
    {
     "name": "stdout",
     "output_type": "stream",
     "text": [
      "\n"
     ]
    },
    {
     "data": {
      "application/vnd.jupyter.widget-view+json": {
       "model_id": "e216683d81f1445aa90725eacaf945ab",
       "version_major": 2,
       "version_minor": 0
      },
      "text/plain": [
       "HBox(children=(HTML(value=''), FloatProgress(value=0.0, max=5996.0), HTML(value='')))"
      ]
     },
     "metadata": {},
     "output_type": "display_data"
    },
    {
     "name": "stdout",
     "output_type": "stream",
     "text": [
      "\n",
      "[LightGBM] [Warning] Accuracy may be bad since you didn't set num_leaves and 2^max_depth > num_leaves\n",
      "[('reranked_own_rec', 0.26105873821609865)]\n",
      "6 3 500\n"
     ]
    },
    {
     "data": {
      "application/vnd.jupyter.widget-view+json": {
       "model_id": "9594f8365ebc49d280e20d3b1953d470",
       "version_major": 2,
       "version_minor": 0
      },
      "text/plain": [
       "HBox(children=(HTML(value=''), FloatProgress(value=0.0, max=15.0), HTML(value='')))"
      ]
     },
     "metadata": {},
     "output_type": "display_data"
    },
    {
     "name": "stdout",
     "output_type": "stream",
     "text": [
      "\n"
     ]
    },
    {
     "data": {
      "application/vnd.jupyter.widget-view+json": {
       "model_id": "bce6d8a960f44085a338030fd3b18f06",
       "version_major": 2,
       "version_minor": 0
      },
      "text/plain": [
       "HBox(children=(HTML(value=''), FloatProgress(value=0.0, max=501.0), HTML(value='')))"
      ]
     },
     "metadata": {},
     "output_type": "display_data"
    },
    {
     "name": "stdout",
     "output_type": "stream",
     "text": [
      "\n",
      "[LightGBM] [Warning] Accuracy may be bad since you didn't set num_leaves and 2^max_depth > num_leaves\n",
      "[('reranked_own_rec', 0.24002900652646847)]\n",
      "6 3 1000\n"
     ]
    },
    {
     "data": {
      "application/vnd.jupyter.widget-view+json": {
       "model_id": "65205d47f6f04ab88ff0b542ecda2f5c",
       "version_major": 2,
       "version_minor": 0
      },
      "text/plain": [
       "HBox(children=(HTML(value=''), FloatProgress(value=0.0, max=15.0), HTML(value='')))"
      ]
     },
     "metadata": {},
     "output_type": "display_data"
    },
    {
     "name": "stdout",
     "output_type": "stream",
     "text": [
      "\n"
     ]
    },
    {
     "data": {
      "application/vnd.jupyter.widget-view+json": {
       "model_id": "0a8122621537452791f6b652abe9756c",
       "version_major": 2,
       "version_minor": 0
      },
      "text/plain": [
       "HBox(children=(HTML(value=''), FloatProgress(value=0.0, max=1001.0), HTML(value='')))"
      ]
     },
     "metadata": {},
     "output_type": "display_data"
    },
    {
     "name": "stdout",
     "output_type": "stream",
     "text": [
      "\n",
      "[LightGBM] [Warning] Accuracy may be bad since you didn't set num_leaves and 2^max_depth > num_leaves\n",
      "[('reranked_own_rec', 0.25279187817258886)]\n",
      "6 3 2000\n"
     ]
    },
    {
     "data": {
      "application/vnd.jupyter.widget-view+json": {
       "model_id": "e953a581162946a9815b29e718a2675b",
       "version_major": 2,
       "version_minor": 0
      },
      "text/plain": [
       "HBox(children=(HTML(value=''), FloatProgress(value=0.0, max=15.0), HTML(value='')))"
      ]
     },
     "metadata": {},
     "output_type": "display_data"
    },
    {
     "name": "stdout",
     "output_type": "stream",
     "text": [
      "\n"
     ]
    },
    {
     "data": {
      "application/vnd.jupyter.widget-view+json": {
       "model_id": "05f9be985d3c46f09f21e032ea3e9a96",
       "version_major": 2,
       "version_minor": 0
      },
      "text/plain": [
       "HBox(children=(HTML(value=''), FloatProgress(value=0.0, max=2001.0), HTML(value='')))"
      ]
     },
     "metadata": {},
     "output_type": "display_data"
    },
    {
     "name": "stdout",
     "output_type": "stream",
     "text": [
      "\n",
      "[LightGBM] [Warning] Accuracy may be bad since you didn't set num_leaves and 2^max_depth > num_leaves\n",
      "[('reranked_own_rec', 0.2554024655547498)]\n",
      "6 3 3000\n"
     ]
    },
    {
     "data": {
      "application/vnd.jupyter.widget-view+json": {
       "model_id": "219be74550444699a4dc222b7b32bec8",
       "version_major": 2,
       "version_minor": 0
      },
      "text/plain": [
       "HBox(children=(HTML(value=''), FloatProgress(value=0.0, max=15.0), HTML(value='')))"
      ]
     },
     "metadata": {},
     "output_type": "display_data"
    },
    {
     "name": "stdout",
     "output_type": "stream",
     "text": [
      "\n"
     ]
    },
    {
     "data": {
      "application/vnd.jupyter.widget-view+json": {
       "model_id": "49fdfcf36acf4e5b80dc656585346e6b",
       "version_major": 2,
       "version_minor": 0
      },
      "text/plain": [
       "HBox(children=(HTML(value=''), FloatProgress(value=0.0, max=3001.0), HTML(value='')))"
      ]
     },
     "metadata": {},
     "output_type": "display_data"
    },
    {
     "name": "stdout",
     "output_type": "stream",
     "text": [
      "\n",
      "[LightGBM] [Warning] Accuracy may be bad since you didn't set num_leaves and 2^max_depth > num_leaves\n",
      "[('reranked_own_rec', 0.2600435097897027)]\n",
      "6 3 4000\n"
     ]
    },
    {
     "data": {
      "application/vnd.jupyter.widget-view+json": {
       "model_id": "8e05c7527d664860a59526acb09acbd0",
       "version_major": 2,
       "version_minor": 0
      },
      "text/plain": [
       "HBox(children=(HTML(value=''), FloatProgress(value=0.0, max=15.0), HTML(value='')))"
      ]
     },
     "metadata": {},
     "output_type": "display_data"
    },
    {
     "name": "stdout",
     "output_type": "stream",
     "text": [
      "\n"
     ]
    },
    {
     "data": {
      "application/vnd.jupyter.widget-view+json": {
       "model_id": "39f87eb8bd1e4e68b83cc0f94a6d009d",
       "version_major": 2,
       "version_minor": 0
      },
      "text/plain": [
       "HBox(children=(HTML(value=''), FloatProgress(value=0.0, max=4000.0), HTML(value='')))"
      ]
     },
     "metadata": {},
     "output_type": "display_data"
    },
    {
     "name": "stdout",
     "output_type": "stream",
     "text": [
      "\n",
      "[LightGBM] [Warning] Accuracy may be bad since you didn't set num_leaves and 2^max_depth > num_leaves\n",
      "[('reranked_own_rec', 0.2585931834662799)]\n",
      "6 3 5000\n"
     ]
    },
    {
     "data": {
      "application/vnd.jupyter.widget-view+json": {
       "model_id": "4727a579c2fd4e61ac7dad481003b7c3",
       "version_major": 2,
       "version_minor": 0
      },
      "text/plain": [
       "HBox(children=(HTML(value=''), FloatProgress(value=0.0, max=15.0), HTML(value='')))"
      ]
     },
     "metadata": {},
     "output_type": "display_data"
    },
    {
     "name": "stdout",
     "output_type": "stream",
     "text": [
      "\n"
     ]
    },
    {
     "data": {
      "application/vnd.jupyter.widget-view+json": {
       "model_id": "e584a08c76ee4800a35f448762f84e65",
       "version_major": 2,
       "version_minor": 0
      },
      "text/plain": [
       "HBox(children=(HTML(value=''), FloatProgress(value=0.0, max=4998.0), HTML(value='')))"
      ]
     },
     "metadata": {},
     "output_type": "display_data"
    },
    {
     "name": "stdout",
     "output_type": "stream",
     "text": [
      "\n",
      "[LightGBM] [Warning] Accuracy may be bad since you didn't set num_leaves and 2^max_depth > num_leaves\n",
      "[('reranked_own_rec', 0.25685279187817256)]\n",
      "6 3 6000\n"
     ]
    },
    {
     "data": {
      "application/vnd.jupyter.widget-view+json": {
       "model_id": "b18f68ff57d74d75a5e2e34bcd6501cb",
       "version_major": 2,
       "version_minor": 0
      },
      "text/plain": [
       "HBox(children=(HTML(value=''), FloatProgress(value=0.0, max=15.0), HTML(value='')))"
      ]
     },
     "metadata": {},
     "output_type": "display_data"
    },
    {
     "name": "stdout",
     "output_type": "stream",
     "text": [
      "\n"
     ]
    },
    {
     "data": {
      "application/vnd.jupyter.widget-view+json": {
       "model_id": "c7f1bc488e574bf98e9e01fd1a0360ce",
       "version_major": 2,
       "version_minor": 0
      },
      "text/plain": [
       "HBox(children=(HTML(value=''), FloatProgress(value=0.0, max=5996.0), HTML(value='')))"
      ]
     },
     "metadata": {},
     "output_type": "display_data"
    },
    {
     "name": "stdout",
     "output_type": "stream",
     "text": [
      "\n",
      "[LightGBM] [Warning] Accuracy may be bad since you didn't set num_leaves and 2^max_depth > num_leaves\n",
      "[('reranked_own_rec', 0.25453226976069615)]\n",
      "6 4 500\n"
     ]
    },
    {
     "data": {
      "application/vnd.jupyter.widget-view+json": {
       "model_id": "ca4f65d806d2417a9140c0e720bae0e8",
       "version_major": 2,
       "version_minor": 0
      },
      "text/plain": [
       "HBox(children=(HTML(value=''), FloatProgress(value=0.0, max=15.0), HTML(value='')))"
      ]
     },
     "metadata": {},
     "output_type": "display_data"
    },
    {
     "name": "stdout",
     "output_type": "stream",
     "text": [
      "\n"
     ]
    },
    {
     "data": {
      "application/vnd.jupyter.widget-view+json": {
       "model_id": "b4a4fe8ca211480a94f4e3417e42bb11",
       "version_major": 2,
       "version_minor": 0
      },
      "text/plain": [
       "HBox(children=(HTML(value=''), FloatProgress(value=0.0, max=501.0), HTML(value='')))"
      ]
     },
     "metadata": {},
     "output_type": "display_data"
    },
    {
     "name": "stdout",
     "output_type": "stream",
     "text": [
      "\n",
      "[LightGBM] [Warning] Accuracy may be bad since you didn't set num_leaves and 2^max_depth > num_leaves\n",
      "[('reranked_own_rec', 0.23756345177664975)]\n",
      "6 4 1000\n"
     ]
    },
    {
     "data": {
      "application/vnd.jupyter.widget-view+json": {
       "model_id": "70dadd50d67745d686ecfdf2782647d1",
       "version_major": 2,
       "version_minor": 0
      },
      "text/plain": [
       "HBox(children=(HTML(value=''), FloatProgress(value=0.0, max=15.0), HTML(value='')))"
      ]
     },
     "metadata": {},
     "output_type": "display_data"
    },
    {
     "name": "stdout",
     "output_type": "stream",
     "text": [
      "\n"
     ]
    },
    {
     "data": {
      "application/vnd.jupyter.widget-view+json": {
       "model_id": "a2a8e4c8dac04eb3a94fa60827c02946",
       "version_major": 2,
       "version_minor": 0
      },
      "text/plain": [
       "HBox(children=(HTML(value=''), FloatProgress(value=0.0, max=1001.0), HTML(value='')))"
      ]
     },
     "metadata": {},
     "output_type": "display_data"
    },
    {
     "name": "stdout",
     "output_type": "stream",
     "text": [
      "\n",
      "[LightGBM] [Warning] Accuracy may be bad since you didn't set num_leaves and 2^max_depth > num_leaves\n",
      "[('reranked_own_rec', 0.25206671501087746)]\n",
      "6 4 2000\n"
     ]
    },
    {
     "data": {
      "application/vnd.jupyter.widget-view+json": {
       "model_id": "1b05d88f388a4037bc9fe3eb624e5119",
       "version_major": 2,
       "version_minor": 0
      },
      "text/plain": [
       "HBox(children=(HTML(value=''), FloatProgress(value=0.0, max=15.0), HTML(value='')))"
      ]
     },
     "metadata": {},
     "output_type": "display_data"
    },
    {
     "name": "stdout",
     "output_type": "stream",
     "text": [
      "\n"
     ]
    },
    {
     "data": {
      "application/vnd.jupyter.widget-view+json": {
       "model_id": "93478c2df2ec4fad84a25ddcf3066723",
       "version_major": 2,
       "version_minor": 0
      },
      "text/plain": [
       "HBox(children=(HTML(value=''), FloatProgress(value=0.0, max=2001.0), HTML(value='')))"
      ]
     },
     "metadata": {},
     "output_type": "display_data"
    },
    {
     "name": "stdout",
     "output_type": "stream",
     "text": [
      "\n",
      "[LightGBM] [Warning] Accuracy may be bad since you didn't set num_leaves and 2^max_depth > num_leaves\n",
      "[('reranked_own_rec', 0.253372008701958)]\n",
      "6 4 3000\n"
     ]
    },
    {
     "data": {
      "application/vnd.jupyter.widget-view+json": {
       "model_id": "b598a871abdc451fb4f67e75886b7005",
       "version_major": 2,
       "version_minor": 0
      },
      "text/plain": [
       "HBox(children=(HTML(value=''), FloatProgress(value=0.0, max=15.0), HTML(value='')))"
      ]
     },
     "metadata": {},
     "output_type": "display_data"
    },
    {
     "name": "stdout",
     "output_type": "stream",
     "text": [
      "\n"
     ]
    },
    {
     "data": {
      "application/vnd.jupyter.widget-view+json": {
       "model_id": "3a3488b8642f47b497300029daad2b4c",
       "version_major": 2,
       "version_minor": 0
      },
      "text/plain": [
       "HBox(children=(HTML(value=''), FloatProgress(value=0.0, max=3001.0), HTML(value='')))"
      ]
     },
     "metadata": {},
     "output_type": "display_data"
    },
    {
     "name": "stdout",
     "output_type": "stream",
     "text": [
      "\n",
      "[LightGBM] [Warning] Accuracy may be bad since you didn't set num_leaves and 2^max_depth > num_leaves\n",
      "[('reranked_own_rec', 0.25815808556925307)]\n",
      "6 4 4000\n"
     ]
    },
    {
     "data": {
      "application/vnd.jupyter.widget-view+json": {
       "model_id": "ecf9795c158541e985073baaf611f8a2",
       "version_major": 2,
       "version_minor": 0
      },
      "text/plain": [
       "HBox(children=(HTML(value=''), FloatProgress(value=0.0, max=15.0), HTML(value='')))"
      ]
     },
     "metadata": {},
     "output_type": "display_data"
    },
    {
     "name": "stdout",
     "output_type": "stream",
     "text": [
      "\n"
     ]
    },
    {
     "data": {
      "application/vnd.jupyter.widget-view+json": {
       "model_id": "5ee76baa4c124a0697fea3ba87020eec",
       "version_major": 2,
       "version_minor": 0
      },
      "text/plain": [
       "HBox(children=(HTML(value=''), FloatProgress(value=0.0, max=4000.0), HTML(value='')))"
      ]
     },
     "metadata": {},
     "output_type": "display_data"
    },
    {
     "name": "stdout",
     "output_type": "stream",
     "text": [
      "\n",
      "[LightGBM] [Warning] Accuracy may be bad since you didn't set num_leaves and 2^max_depth > num_leaves\n",
      "[('reranked_own_rec', 0.2554024655547498)]\n",
      "6 4 5000\n"
     ]
    },
    {
     "data": {
      "application/vnd.jupyter.widget-view+json": {
       "model_id": "141cb8a2e0ea46cfbaf5ec0793af944e",
       "version_major": 2,
       "version_minor": 0
      },
      "text/plain": [
       "HBox(children=(HTML(value=''), FloatProgress(value=0.0, max=15.0), HTML(value='')))"
      ]
     },
     "metadata": {},
     "output_type": "display_data"
    },
    {
     "name": "stdout",
     "output_type": "stream",
     "text": [
      "\n"
     ]
    },
    {
     "data": {
      "application/vnd.jupyter.widget-view+json": {
       "model_id": "1939e7c1a8b442839f711584c1ca995c",
       "version_major": 2,
       "version_minor": 0
      },
      "text/plain": [
       "HBox(children=(HTML(value=''), FloatProgress(value=0.0, max=4998.0), HTML(value='')))"
      ]
     },
     "metadata": {},
     "output_type": "display_data"
    },
    {
     "name": "stdout",
     "output_type": "stream",
     "text": [
      "\n",
      "[LightGBM] [Warning] Accuracy may be bad since you didn't set num_leaves and 2^max_depth > num_leaves\n",
      "[('reranked_own_rec', 0.25380710659898476)]\n",
      "6 4 6000\n"
     ]
    },
    {
     "data": {
      "application/vnd.jupyter.widget-view+json": {
       "model_id": "628208f5ad284f46be8e5a6f591710ae",
       "version_major": 2,
       "version_minor": 0
      },
      "text/plain": [
       "HBox(children=(HTML(value=''), FloatProgress(value=0.0, max=15.0), HTML(value='')))"
      ]
     },
     "metadata": {},
     "output_type": "display_data"
    },
    {
     "name": "stdout",
     "output_type": "stream",
     "text": [
      "\n"
     ]
    },
    {
     "data": {
      "application/vnd.jupyter.widget-view+json": {
       "model_id": "426989e5be674601b5409a5183f74dd6",
       "version_major": 2,
       "version_minor": 0
      },
      "text/plain": [
       "HBox(children=(HTML(value=''), FloatProgress(value=0.0, max=5996.0), HTML(value='')))"
      ]
     },
     "metadata": {},
     "output_type": "display_data"
    },
    {
     "name": "stdout",
     "output_type": "stream",
     "text": [
      "\n",
      "[LightGBM] [Warning] Accuracy may be bad since you didn't set num_leaves and 2^max_depth > num_leaves\n",
      "[('reranked_own_rec', 0.2525018129079043)]\n",
      "6 5 500\n"
     ]
    },
    {
     "data": {
      "application/vnd.jupyter.widget-view+json": {
       "model_id": "8b5f576987554a75b673950c53ac72e0",
       "version_major": 2,
       "version_minor": 0
      },
      "text/plain": [
       "HBox(children=(HTML(value=''), FloatProgress(value=0.0, max=15.0), HTML(value='')))"
      ]
     },
     "metadata": {},
     "output_type": "display_data"
    },
    {
     "name": "stdout",
     "output_type": "stream",
     "text": [
      "\n"
     ]
    },
    {
     "data": {
      "application/vnd.jupyter.widget-view+json": {
       "model_id": "8e686c208b2c4856a2b463aa3bb7d371",
       "version_major": 2,
       "version_minor": 0
      },
      "text/plain": [
       "HBox(children=(HTML(value=''), FloatProgress(value=0.0, max=501.0), HTML(value='')))"
      ]
     },
     "metadata": {},
     "output_type": "display_data"
    },
    {
     "name": "stdout",
     "output_type": "stream",
     "text": [
      "\n",
      "[LightGBM] [Warning] Accuracy may be bad since you didn't set num_leaves and 2^max_depth > num_leaves\n",
      "[('reranked_own_rec', 0.23147208121827414)]\n",
      "6 5 1000\n"
     ]
    },
    {
     "data": {
      "application/vnd.jupyter.widget-view+json": {
       "model_id": "8c3c6d4de55741d584d096117a9648c9",
       "version_major": 2,
       "version_minor": 0
      },
      "text/plain": [
       "HBox(children=(HTML(value=''), FloatProgress(value=0.0, max=15.0), HTML(value='')))"
      ]
     },
     "metadata": {},
     "output_type": "display_data"
    },
    {
     "name": "stdout",
     "output_type": "stream",
     "text": [
      "\n"
     ]
    },
    {
     "data": {
      "application/vnd.jupyter.widget-view+json": {
       "model_id": "2d3276e0e75e4b85a79f346c3da65261",
       "version_major": 2,
       "version_minor": 0
      },
      "text/plain": [
       "HBox(children=(HTML(value=''), FloatProgress(value=0.0, max=1001.0), HTML(value='')))"
      ]
     },
     "metadata": {},
     "output_type": "display_data"
    },
    {
     "name": "stdout",
     "output_type": "stream",
     "text": [
      "\n",
      "[LightGBM] [Warning] Accuracy may be bad since you didn't set num_leaves and 2^max_depth > num_leaves\n",
      "[('reranked_own_rec', 0.24249456127628718)]\n",
      "6 5 2000\n"
     ]
    },
    {
     "data": {
      "application/vnd.jupyter.widget-view+json": {
       "model_id": "e64db80d9e16465ab5502693922bb71a",
       "version_major": 2,
       "version_minor": 0
      },
      "text/plain": [
       "HBox(children=(HTML(value=''), FloatProgress(value=0.0, max=15.0), HTML(value='')))"
      ]
     },
     "metadata": {},
     "output_type": "display_data"
    },
    {
     "name": "stdout",
     "output_type": "stream",
     "text": [
      "\n"
     ]
    },
    {
     "data": {
      "application/vnd.jupyter.widget-view+json": {
       "model_id": "6ba937afc9864486ad70bf3dc884f83d",
       "version_major": 2,
       "version_minor": 0
      },
      "text/plain": [
       "HBox(children=(HTML(value=''), FloatProgress(value=0.0, max=2001.0), HTML(value='')))"
      ]
     },
     "metadata": {},
     "output_type": "display_data"
    },
    {
     "name": "stdout",
     "output_type": "stream",
     "text": [
      "\n",
      "[LightGBM] [Warning] Accuracy may be bad since you didn't set num_leaves and 2^max_depth > num_leaves\n",
      "[('reranked_own_rec', 0.2500362581580856)]\n",
      "6 5 3000\n"
     ]
    },
    {
     "data": {
      "application/vnd.jupyter.widget-view+json": {
       "model_id": "9a052439237d42c5bee2e11d15cbc571",
       "version_major": 2,
       "version_minor": 0
      },
      "text/plain": [
       "HBox(children=(HTML(value=''), FloatProgress(value=0.0, max=15.0), HTML(value='')))"
      ]
     },
     "metadata": {},
     "output_type": "display_data"
    },
    {
     "name": "stdout",
     "output_type": "stream",
     "text": [
      "\n"
     ]
    },
    {
     "data": {
      "application/vnd.jupyter.widget-view+json": {
       "model_id": "3febfb8a180a4a87b0fc036eef0c61b8",
       "version_major": 2,
       "version_minor": 0
      },
      "text/plain": [
       "HBox(children=(HTML(value=''), FloatProgress(value=0.0, max=3001.0), HTML(value='')))"
      ]
     },
     "metadata": {},
     "output_type": "display_data"
    },
    {
     "name": "stdout",
     "output_type": "stream",
     "text": [
      "\n",
      "[LightGBM] [Warning] Accuracy may be bad since you didn't set num_leaves and 2^max_depth > num_leaves\n",
      "[('reranked_own_rec', 0.254967367657723)]\n",
      "6 5 4000\n"
     ]
    },
    {
     "data": {
      "application/vnd.jupyter.widget-view+json": {
       "model_id": "48296d12a339421ba336d33bdd94375b",
       "version_major": 2,
       "version_minor": 0
      },
      "text/plain": [
       "HBox(children=(HTML(value=''), FloatProgress(value=0.0, max=15.0), HTML(value='')))"
      ]
     },
     "metadata": {},
     "output_type": "display_data"
    },
    {
     "name": "stdout",
     "output_type": "stream",
     "text": [
      "\n"
     ]
    },
    {
     "data": {
      "application/vnd.jupyter.widget-view+json": {
       "model_id": "8a83edcad9b64a4b833d93eedb8fd34c",
       "version_major": 2,
       "version_minor": 0
      },
      "text/plain": [
       "HBox(children=(HTML(value=''), FloatProgress(value=0.0, max=3999.0), HTML(value='')))"
      ]
     },
     "metadata": {},
     "output_type": "display_data"
    },
    {
     "name": "stdout",
     "output_type": "stream",
     "text": [
      "\n",
      "[LightGBM] [Warning] Accuracy may be bad since you didn't set num_leaves and 2^max_depth > num_leaves\n",
      "[('reranked_own_rec', 0.25061638868745467)]\n",
      "6 5 5000\n"
     ]
    },
    {
     "data": {
      "application/vnd.jupyter.widget-view+json": {
       "model_id": "ca4afc1a924a4764b5f4f75ec2f39756",
       "version_major": 2,
       "version_minor": 0
      },
      "text/plain": [
       "HBox(children=(HTML(value=''), FloatProgress(value=0.0, max=15.0), HTML(value='')))"
      ]
     },
     "metadata": {},
     "output_type": "display_data"
    },
    {
     "name": "stdout",
     "output_type": "stream",
     "text": [
      "\n"
     ]
    },
    {
     "data": {
      "application/vnd.jupyter.widget-view+json": {
       "model_id": "b0e6969fa4a744d1b5368f1607b096d2",
       "version_major": 2,
       "version_minor": 0
      },
      "text/plain": [
       "HBox(children=(HTML(value=''), FloatProgress(value=0.0, max=4998.0), HTML(value='')))"
      ]
     },
     "metadata": {},
     "output_type": "display_data"
    },
    {
     "name": "stdout",
     "output_type": "stream",
     "text": [
      "\n",
      "[LightGBM] [Warning] Accuracy may be bad since you didn't set num_leaves and 2^max_depth > num_leaves\n",
      "[('reranked_own_rec', 0.2514865844815083)]\n",
      "6 5 6000\n"
     ]
    },
    {
     "data": {
      "application/vnd.jupyter.widget-view+json": {
       "model_id": "d3a0cd89476e4fbdafd34a7046659cd8",
       "version_major": 2,
       "version_minor": 0
      },
      "text/plain": [
       "HBox(children=(HTML(value=''), FloatProgress(value=0.0, max=15.0), HTML(value='')))"
      ]
     },
     "metadata": {},
     "output_type": "display_data"
    },
    {
     "name": "stdout",
     "output_type": "stream",
     "text": [
      "\n"
     ]
    },
    {
     "data": {
      "application/vnd.jupyter.widget-view+json": {
       "model_id": "7537894cede54f828a6fd618abfa7919",
       "version_major": 2,
       "version_minor": 0
      },
      "text/plain": [
       "HBox(children=(HTML(value=''), FloatProgress(value=0.0, max=5996.0), HTML(value='')))"
      ]
     },
     "metadata": {},
     "output_type": "display_data"
    },
    {
     "name": "stdout",
     "output_type": "stream",
     "text": [
      "\n",
      "[LightGBM] [Warning] Accuracy may be bad since you didn't set num_leaves and 2^max_depth > num_leaves\n",
      "[('reranked_own_rec', 0.24670050761421322)]\n",
      "6 6 500\n"
     ]
    },
    {
     "data": {
      "application/vnd.jupyter.widget-view+json": {
       "model_id": "14d48b0aeaea4798b8b5c8cdc1c338a2",
       "version_major": 2,
       "version_minor": 0
      },
      "text/plain": [
       "HBox(children=(HTML(value=''), FloatProgress(value=0.0, max=15.0), HTML(value='')))"
      ]
     },
     "metadata": {},
     "output_type": "display_data"
    },
    {
     "name": "stdout",
     "output_type": "stream",
     "text": [
      "\n"
     ]
    },
    {
     "data": {
      "application/vnd.jupyter.widget-view+json": {
       "model_id": "af8f1dfa65dd4835998b51e70d646bfd",
       "version_major": 2,
       "version_minor": 0
      },
      "text/plain": [
       "HBox(children=(HTML(value=''), FloatProgress(value=0.0, max=501.0), HTML(value='')))"
      ]
     },
     "metadata": {},
     "output_type": "display_data"
    },
    {
     "name": "stdout",
     "output_type": "stream",
     "text": [
      "\n",
      "[LightGBM] [Warning] Accuracy may be bad since you didn't set num_leaves and 2^max_depth > num_leaves\n",
      "[('reranked_own_rec', 0.236113125453227)]\n",
      "6 6 1000\n"
     ]
    },
    {
     "data": {
      "application/vnd.jupyter.widget-view+json": {
       "model_id": "923c39aa942e4dc1950ac82e9e20565f",
       "version_major": 2,
       "version_minor": 0
      },
      "text/plain": [
       "HBox(children=(HTML(value=''), FloatProgress(value=0.0, max=15.0), HTML(value='')))"
      ]
     },
     "metadata": {},
     "output_type": "display_data"
    },
    {
     "name": "stdout",
     "output_type": "stream",
     "text": [
      "\n"
     ]
    },
    {
     "data": {
      "application/vnd.jupyter.widget-view+json": {
       "model_id": "12a368141e524ad7848e3799ff8eaab3",
       "version_major": 2,
       "version_minor": 0
      },
      "text/plain": [
       "HBox(children=(HTML(value=''), FloatProgress(value=0.0, max=1001.0), HTML(value='')))"
      ]
     },
     "metadata": {},
     "output_type": "display_data"
    },
    {
     "name": "stdout",
     "output_type": "stream",
     "text": [
      "\n",
      "[LightGBM] [Warning] Accuracy may be bad since you didn't set num_leaves and 2^max_depth > num_leaves\n",
      "[('reranked_own_rec', 0.2536620739666425)]\n",
      "6 6 2000\n"
     ]
    },
    {
     "data": {
      "application/vnd.jupyter.widget-view+json": {
       "model_id": "e158d0c0b36e405e923f234eb59bbd68",
       "version_major": 2,
       "version_minor": 0
      },
      "text/plain": [
       "HBox(children=(HTML(value=''), FloatProgress(value=0.0, max=15.0), HTML(value='')))"
      ]
     },
     "metadata": {},
     "output_type": "display_data"
    },
    {
     "name": "stdout",
     "output_type": "stream",
     "text": [
      "\n"
     ]
    },
    {
     "data": {
      "application/vnd.jupyter.widget-view+json": {
       "model_id": "338a1ea02cd34ec09ffa093a8667823f",
       "version_major": 2,
       "version_minor": 0
      },
      "text/plain": [
       "HBox(children=(HTML(value=''), FloatProgress(value=0.0, max=2001.0), HTML(value='')))"
      ]
     },
     "metadata": {},
     "output_type": "display_data"
    },
    {
     "name": "stdout",
     "output_type": "stream",
     "text": [
      "\n",
      "[LightGBM] [Warning] Accuracy may be bad since you didn't set num_leaves and 2^max_depth > num_leaves\n",
      "[('reranked_own_rec', 0.25192168237853513)]\n",
      "6 6 3000\n"
     ]
    },
    {
     "data": {
      "application/vnd.jupyter.widget-view+json": {
       "model_id": "9107fb3ce2d1470391e6372204932643",
       "version_major": 2,
       "version_minor": 0
      },
      "text/plain": [
       "HBox(children=(HTML(value=''), FloatProgress(value=0.0, max=15.0), HTML(value='')))"
      ]
     },
     "metadata": {},
     "output_type": "display_data"
    },
    {
     "name": "stdout",
     "output_type": "stream",
     "text": [
      "\n"
     ]
    },
    {
     "data": {
      "application/vnd.jupyter.widget-view+json": {
       "model_id": "fb846198029c4a1a9cc36cc55ffa4c20",
       "version_major": 2,
       "version_minor": 0
      },
      "text/plain": [
       "HBox(children=(HTML(value=''), FloatProgress(value=0.0, max=3001.0), HTML(value='')))"
      ]
     },
     "metadata": {},
     "output_type": "display_data"
    },
    {
     "name": "stdout",
     "output_type": "stream",
     "text": [
      "\n",
      "[LightGBM] [Warning] Accuracy may be bad since you didn't set num_leaves and 2^max_depth > num_leaves\n",
      "[('reranked_own_rec', 0.2569978245105149)]\n",
      "6 6 4000\n"
     ]
    },
    {
     "data": {
      "application/vnd.jupyter.widget-view+json": {
       "model_id": "0d574b17a5e0405e972f90dd5ce855d6",
       "version_major": 2,
       "version_minor": 0
      },
      "text/plain": [
       "HBox(children=(HTML(value=''), FloatProgress(value=0.0, max=15.0), HTML(value='')))"
      ]
     },
     "metadata": {},
     "output_type": "display_data"
    },
    {
     "name": "stdout",
     "output_type": "stream",
     "text": [
      "\n"
     ]
    },
    {
     "data": {
      "application/vnd.jupyter.widget-view+json": {
       "model_id": "abbf46a6a5d24ec993f023c8d00a681d",
       "version_major": 2,
       "version_minor": 0
      },
      "text/plain": [
       "HBox(children=(HTML(value=''), FloatProgress(value=0.0, max=3999.0), HTML(value='')))"
      ]
     },
     "metadata": {},
     "output_type": "display_data"
    },
    {
     "name": "stdout",
     "output_type": "stream",
     "text": [
      "\n",
      "[LightGBM] [Warning] Accuracy may be bad since you didn't set num_leaves and 2^max_depth > num_leaves\n",
      "[('reranked_own_rec', 0.259173313995649)]\n",
      "6 6 5000\n"
     ]
    },
    {
     "data": {
      "application/vnd.jupyter.widget-view+json": {
       "model_id": "b34b3e1a204d40ae8867b2967aa3ab86",
       "version_major": 2,
       "version_minor": 0
      },
      "text/plain": [
       "HBox(children=(HTML(value=''), FloatProgress(value=0.0, max=15.0), HTML(value='')))"
      ]
     },
     "metadata": {},
     "output_type": "display_data"
    },
    {
     "name": "stdout",
     "output_type": "stream",
     "text": [
      "\n"
     ]
    },
    {
     "data": {
      "application/vnd.jupyter.widget-view+json": {
       "model_id": "550ca966401d4027b8b12d4dd02df5ad",
       "version_major": 2,
       "version_minor": 0
      },
      "text/plain": [
       "HBox(children=(HTML(value=''), FloatProgress(value=0.0, max=4998.0), HTML(value='')))"
      ]
     },
     "metadata": {},
     "output_type": "display_data"
    },
    {
     "name": "stdout",
     "output_type": "stream",
     "text": [
      "\n",
      "[LightGBM] [Warning] Accuracy may be bad since you didn't set num_leaves and 2^max_depth > num_leaves\n",
      "[('reranked_own_rec', 0.2585931834662799)]\n",
      "6 6 6000\n"
     ]
    },
    {
     "data": {
      "application/vnd.jupyter.widget-view+json": {
       "model_id": "d1468d19163e48f294ab63b715b401fa",
       "version_major": 2,
       "version_minor": 0
      },
      "text/plain": [
       "HBox(children=(HTML(value=''), FloatProgress(value=0.0, max=15.0), HTML(value='')))"
      ]
     },
     "metadata": {},
     "output_type": "display_data"
    },
    {
     "name": "stdout",
     "output_type": "stream",
     "text": [
      "\n"
     ]
    },
    {
     "data": {
      "application/vnd.jupyter.widget-view+json": {
       "model_id": "8a226195cf9c400ab3726e5e072e07e3",
       "version_major": 2,
       "version_minor": 0
      },
      "text/plain": [
       "HBox(children=(HTML(value=''), FloatProgress(value=0.0, max=5996.0), HTML(value='')))"
      ]
     },
     "metadata": {},
     "output_type": "display_data"
    },
    {
     "name": "stdout",
     "output_type": "stream",
     "text": [
      "\n",
      "[LightGBM] [Warning] Accuracy may be bad since you didn't set num_leaves and 2^max_depth > num_leaves\n",
      "[('reranked_own_rec', 0.25366207396664253)]\n",
      "7 1 500\n"
     ]
    },
    {
     "data": {
      "application/vnd.jupyter.widget-view+json": {
       "model_id": "9a2b4c4f202a42078dceff013d54913f",
       "version_major": 2,
       "version_minor": 0
      },
      "text/plain": [
       "HBox(children=(HTML(value=''), FloatProgress(value=0.0, max=15.0), HTML(value='')))"
      ]
     },
     "metadata": {},
     "output_type": "display_data"
    },
    {
     "name": "stdout",
     "output_type": "stream",
     "text": [
      "\n"
     ]
    },
    {
     "data": {
      "application/vnd.jupyter.widget-view+json": {
       "model_id": "de44b8ffb0b540a097f8ba3f78b1d9e2",
       "version_major": 2,
       "version_minor": 0
      },
      "text/plain": [
       "HBox(children=(HTML(value=''), FloatProgress(value=0.0, max=501.0), HTML(value='')))"
      ]
     },
     "metadata": {},
     "output_type": "display_data"
    },
    {
     "name": "stdout",
     "output_type": "stream",
     "text": [
      "\n",
      "[LightGBM] [Warning] Accuracy may be bad since you didn't set num_leaves and 2^max_depth > num_leaves\n",
      "[('reranked_own_rec', 0.24423495286439445)]\n",
      "7 1 1000\n"
     ]
    },
    {
     "data": {
      "application/vnd.jupyter.widget-view+json": {
       "model_id": "2d1c92a4ae9246d39717058b0800bf41",
       "version_major": 2,
       "version_minor": 0
      },
      "text/plain": [
       "HBox(children=(HTML(value=''), FloatProgress(value=0.0, max=15.0), HTML(value='')))"
      ]
     },
     "metadata": {},
     "output_type": "display_data"
    },
    {
     "name": "stdout",
     "output_type": "stream",
     "text": [
      "\n"
     ]
    },
    {
     "data": {
      "application/vnd.jupyter.widget-view+json": {
       "model_id": "c6d64de580ed4781aaef678123b40a2d",
       "version_major": 2,
       "version_minor": 0
      },
      "text/plain": [
       "HBox(children=(HTML(value=''), FloatProgress(value=0.0, max=1001.0), HTML(value='')))"
      ]
     },
     "metadata": {},
     "output_type": "display_data"
    },
    {
     "name": "stdout",
     "output_type": "stream",
     "text": [
      "\n",
      "[LightGBM] [Warning] Accuracy may be bad since you didn't set num_leaves and 2^max_depth > num_leaves\n",
      "[('reranked_own_rec', 0.2583031182015954)]\n",
      "7 1 2000\n"
     ]
    },
    {
     "data": {
      "application/vnd.jupyter.widget-view+json": {
       "model_id": "a3a7399ceaf2494dbb890170105bd017",
       "version_major": 2,
       "version_minor": 0
      },
      "text/plain": [
       "HBox(children=(HTML(value=''), FloatProgress(value=0.0, max=15.0), HTML(value='')))"
      ]
     },
     "metadata": {},
     "output_type": "display_data"
    },
    {
     "name": "stdout",
     "output_type": "stream",
     "text": [
      "\n"
     ]
    },
    {
     "data": {
      "application/vnd.jupyter.widget-view+json": {
       "model_id": "336bd0fac291486aac36bd167c6634b9",
       "version_major": 2,
       "version_minor": 0
      },
      "text/plain": [
       "HBox(children=(HTML(value=''), FloatProgress(value=0.0, max=2001.0), HTML(value='')))"
      ]
     },
     "metadata": {},
     "output_type": "display_data"
    },
    {
     "name": "stdout",
     "output_type": "stream",
     "text": [
      "\n",
      "[LightGBM] [Warning] Accuracy may be bad since you didn't set num_leaves and 2^max_depth > num_leaves\n",
      "[('reranked_own_rec', 0.2625090645395214)]\n",
      "7 1 3000\n"
     ]
    },
    {
     "data": {
      "application/vnd.jupyter.widget-view+json": {
       "model_id": "8c6e0fb7686141d8bfff5b44bef33aa6",
       "version_major": 2,
       "version_minor": 0
      },
      "text/plain": [
       "HBox(children=(HTML(value=''), FloatProgress(value=0.0, max=15.0), HTML(value='')))"
      ]
     },
     "metadata": {},
     "output_type": "display_data"
    },
    {
     "name": "stdout",
     "output_type": "stream",
     "text": [
      "\n"
     ]
    },
    {
     "data": {
      "application/vnd.jupyter.widget-view+json": {
       "model_id": "959e5a95aff64204b66e4ddd9ad3d148",
       "version_major": 2,
       "version_minor": 0
      },
      "text/plain": [
       "HBox(children=(HTML(value=''), FloatProgress(value=0.0, max=3001.0), HTML(value='')))"
      ]
     },
     "metadata": {},
     "output_type": "display_data"
    },
    {
     "name": "stdout",
     "output_type": "stream",
     "text": [
      "\n",
      "[LightGBM] [Warning] Accuracy may be bad since you didn't set num_leaves and 2^max_depth > num_leaves\n",
      "[('reranked_own_rec', 0.27164612037708485)]\n",
      "7 1 4000\n"
     ]
    },
    {
     "data": {
      "application/vnd.jupyter.widget-view+json": {
       "model_id": "b6708484288243e0947d94be0a959967",
       "version_major": 2,
       "version_minor": 0
      },
      "text/plain": [
       "HBox(children=(HTML(value=''), FloatProgress(value=0.0, max=15.0), HTML(value='')))"
      ]
     },
     "metadata": {},
     "output_type": "display_data"
    },
    {
     "name": "stdout",
     "output_type": "stream",
     "text": [
      "\n"
     ]
    },
    {
     "data": {
      "application/vnd.jupyter.widget-view+json": {
       "model_id": "cb7a52fa0e9045a880404e6c5a44b06c",
       "version_major": 2,
       "version_minor": 0
      },
      "text/plain": [
       "HBox(children=(HTML(value=''), FloatProgress(value=0.0, max=4000.0), HTML(value='')))"
      ]
     },
     "metadata": {},
     "output_type": "display_data"
    },
    {
     "name": "stdout",
     "output_type": "stream",
     "text": [
      "\n",
      "[LightGBM] [Warning] Accuracy may be bad since you didn't set num_leaves and 2^max_depth > num_leaves\n",
      "[('reranked_own_rec', 0.269615663524293)]\n",
      "7 1 5000\n"
     ]
    },
    {
     "data": {
      "application/vnd.jupyter.widget-view+json": {
       "model_id": "3a7c2d177b714f3f942f7119f7b96257",
       "version_major": 2,
       "version_minor": 0
      },
      "text/plain": [
       "HBox(children=(HTML(value=''), FloatProgress(value=0.0, max=15.0), HTML(value='')))"
      ]
     },
     "metadata": {},
     "output_type": "display_data"
    },
    {
     "name": "stdout",
     "output_type": "stream",
     "text": [
      "\n"
     ]
    },
    {
     "data": {
      "application/vnd.jupyter.widget-view+json": {
       "model_id": "9ac409b66d0b495086a4993379aa66dd",
       "version_major": 2,
       "version_minor": 0
      },
      "text/plain": [
       "HBox(children=(HTML(value=''), FloatProgress(value=0.0, max=4998.0), HTML(value='')))"
      ]
     },
     "metadata": {},
     "output_type": "display_data"
    },
    {
     "name": "stdout",
     "output_type": "stream",
     "text": [
      "\n",
      "[LightGBM] [Warning] Accuracy may be bad since you didn't set num_leaves and 2^max_depth > num_leaves\n",
      "[('reranked_own_rec', 0.27251631617113853)]\n",
      "7 1 6000\n"
     ]
    },
    {
     "data": {
      "application/vnd.jupyter.widget-view+json": {
       "model_id": "9184ebe0bc5447a7a33434e6d06bfcfd",
       "version_major": 2,
       "version_minor": 0
      },
      "text/plain": [
       "HBox(children=(HTML(value=''), FloatProgress(value=0.0, max=15.0), HTML(value='')))"
      ]
     },
     "metadata": {},
     "output_type": "display_data"
    },
    {
     "name": "stdout",
     "output_type": "stream",
     "text": [
      "\n"
     ]
    },
    {
     "data": {
      "application/vnd.jupyter.widget-view+json": {
       "model_id": "09e2a178dbf248bc86ce1a3b245becb3",
       "version_major": 2,
       "version_minor": 0
      },
      "text/plain": [
       "HBox(children=(HTML(value=''), FloatProgress(value=0.0, max=5996.0), HTML(value='')))"
      ]
     },
     "metadata": {},
     "output_type": "display_data"
    },
    {
     "name": "stdout",
     "output_type": "stream",
     "text": [
      "\n",
      "[LightGBM] [Warning] Accuracy may be bad since you didn't set num_leaves and 2^max_depth > num_leaves\n",
      "[('reranked_own_rec', 0.2735315445975345)]\n",
      "7 2 500\n"
     ]
    },
    {
     "data": {
      "application/vnd.jupyter.widget-view+json": {
       "model_id": "52dcd68a49e5476eb6dc6705b0ff2af2",
       "version_major": 2,
       "version_minor": 0
      },
      "text/plain": [
       "HBox(children=(HTML(value=''), FloatProgress(value=0.0, max=15.0), HTML(value='')))"
      ]
     },
     "metadata": {},
     "output_type": "display_data"
    },
    {
     "name": "stdout",
     "output_type": "stream",
     "text": [
      "\n"
     ]
    },
    {
     "data": {
      "application/vnd.jupyter.widget-view+json": {
       "model_id": "8578996d5cb14197a1b526d5872582ba",
       "version_major": 2,
       "version_minor": 0
      },
      "text/plain": [
       "HBox(children=(HTML(value=''), FloatProgress(value=0.0, max=501.0), HTML(value='')))"
      ]
     },
     "metadata": {},
     "output_type": "display_data"
    },
    {
     "name": "stdout",
     "output_type": "stream",
     "text": [
      "\n",
      "[LightGBM] [Warning] Accuracy may be bad since you didn't set num_leaves and 2^max_depth > num_leaves\n",
      "[('reranked_own_rec', 0.24467005076142131)]\n",
      "7 2 1000\n"
     ]
    },
    {
     "data": {
      "application/vnd.jupyter.widget-view+json": {
       "model_id": "a19a50aa512b4bb3b053436ab18cbdbe",
       "version_major": 2,
       "version_minor": 0
      },
      "text/plain": [
       "HBox(children=(HTML(value=''), FloatProgress(value=0.0, max=15.0), HTML(value='')))"
      ]
     },
     "metadata": {},
     "output_type": "display_data"
    },
    {
     "name": "stdout",
     "output_type": "stream",
     "text": [
      "\n"
     ]
    },
    {
     "data": {
      "application/vnd.jupyter.widget-view+json": {
       "model_id": "804e715868444f919bcb5914b6266aa6",
       "version_major": 2,
       "version_minor": 0
      },
      "text/plain": [
       "HBox(children=(HTML(value=''), FloatProgress(value=0.0, max=1001.0), HTML(value='')))"
      ]
     },
     "metadata": {},
     "output_type": "display_data"
    },
    {
     "name": "stdout",
     "output_type": "stream",
     "text": [
      "\n",
      "[LightGBM] [Warning] Accuracy may be bad since you didn't set num_leaves and 2^max_depth > num_leaves\n",
      "[('reranked_own_rec', 0.2571428571428572)]\n",
      "7 2 2000\n"
     ]
    },
    {
     "data": {
      "application/vnd.jupyter.widget-view+json": {
       "model_id": "0736853754af46a3941c8bc93ff78740",
       "version_major": 2,
       "version_minor": 0
      },
      "text/plain": [
       "HBox(children=(HTML(value=''), FloatProgress(value=0.0, max=15.0), HTML(value='')))"
      ]
     },
     "metadata": {},
     "output_type": "display_data"
    },
    {
     "name": "stdout",
     "output_type": "stream",
     "text": [
      "\n"
     ]
    },
    {
     "data": {
      "application/vnd.jupyter.widget-view+json": {
       "model_id": "176b9a89419d4a2e92f71c406005c0dc",
       "version_major": 2,
       "version_minor": 0
      },
      "text/plain": [
       "HBox(children=(HTML(value=''), FloatProgress(value=0.0, max=2001.0), HTML(value='')))"
      ]
     },
     "metadata": {},
     "output_type": "display_data"
    },
    {
     "name": "stdout",
     "output_type": "stream",
     "text": [
      "\n",
      "[LightGBM] [Warning] Accuracy may be bad since you didn't set num_leaves and 2^max_depth > num_leaves\n",
      "[('reranked_own_rec', 0.2639593908629442)]\n",
      "7 2 3000\n"
     ]
    },
    {
     "data": {
      "application/vnd.jupyter.widget-view+json": {
       "model_id": "bf1cb36816df4ebdbed71a434dafe1df",
       "version_major": 2,
       "version_minor": 0
      },
      "text/plain": [
       "HBox(children=(HTML(value=''), FloatProgress(value=0.0, max=15.0), HTML(value='')))"
      ]
     },
     "metadata": {},
     "output_type": "display_data"
    },
    {
     "name": "stdout",
     "output_type": "stream",
     "text": [
      "\n"
     ]
    },
    {
     "data": {
      "application/vnd.jupyter.widget-view+json": {
       "model_id": "3827bf14f86f4872adf70ab7b3573f9a",
       "version_major": 2,
       "version_minor": 0
      },
      "text/plain": [
       "HBox(children=(HTML(value=''), FloatProgress(value=0.0, max=3001.0), HTML(value='')))"
      ]
     },
     "metadata": {},
     "output_type": "display_data"
    },
    {
     "name": "stdout",
     "output_type": "stream",
     "text": [
      "\n",
      "[LightGBM] [Warning] Accuracy may be bad since you didn't set num_leaves and 2^max_depth > num_leaves\n",
      "[('reranked_own_rec', 0.264394488759971)]\n",
      "7 2 4000\n"
     ]
    },
    {
     "data": {
      "application/vnd.jupyter.widget-view+json": {
       "model_id": "12f4f1d45d26491eb39515cc7085b54d",
       "version_major": 2,
       "version_minor": 0
      },
      "text/plain": [
       "HBox(children=(HTML(value=''), FloatProgress(value=0.0, max=15.0), HTML(value='')))"
      ]
     },
     "metadata": {},
     "output_type": "display_data"
    },
    {
     "name": "stdout",
     "output_type": "stream",
     "text": [
      "\n"
     ]
    },
    {
     "data": {
      "application/vnd.jupyter.widget-view+json": {
       "model_id": "a464eda3c1fa4889ba57cee79bf6b8a7",
       "version_major": 2,
       "version_minor": 0
      },
      "text/plain": [
       "HBox(children=(HTML(value=''), FloatProgress(value=0.0, max=4000.0), HTML(value='')))"
      ]
     },
     "metadata": {},
     "output_type": "display_data"
    },
    {
     "name": "stdout",
     "output_type": "stream",
     "text": [
      "\n",
      "[LightGBM] [Warning] Accuracy may be bad since you didn't set num_leaves and 2^max_depth > num_leaves\n",
      "[('reranked_own_rec', 0.26700507614213204)]\n",
      "7 2 5000\n"
     ]
    },
    {
     "data": {
      "application/vnd.jupyter.widget-view+json": {
       "model_id": "1748eeaf66634a13a793c6818f08ebd4",
       "version_major": 2,
       "version_minor": 0
      },
      "text/plain": [
       "HBox(children=(HTML(value=''), FloatProgress(value=0.0, max=15.0), HTML(value='')))"
      ]
     },
     "metadata": {},
     "output_type": "display_data"
    },
    {
     "name": "stdout",
     "output_type": "stream",
     "text": [
      "\n"
     ]
    },
    {
     "data": {
      "application/vnd.jupyter.widget-view+json": {
       "model_id": "0c0fa7d671734945b07065e1e76b7c7f",
       "version_major": 2,
       "version_minor": 0
      },
      "text/plain": [
       "HBox(children=(HTML(value=''), FloatProgress(value=0.0, max=4998.0), HTML(value='')))"
      ]
     },
     "metadata": {},
     "output_type": "display_data"
    },
    {
     "name": "stdout",
     "output_type": "stream",
     "text": [
      "\n",
      "[LightGBM] [Warning] Accuracy may be bad since you didn't set num_leaves and 2^max_depth > num_leaves\n",
      "[('reranked_own_rec', 0.26352429296591734)]\n",
      "7 2 6000\n"
     ]
    },
    {
     "data": {
      "application/vnd.jupyter.widget-view+json": {
       "model_id": "3fce5f236747405fb0af0ef93c518b37",
       "version_major": 2,
       "version_minor": 0
      },
      "text/plain": [
       "HBox(children=(HTML(value=''), FloatProgress(value=0.0, max=15.0), HTML(value='')))"
      ]
     },
     "metadata": {},
     "output_type": "display_data"
    },
    {
     "name": "stdout",
     "output_type": "stream",
     "text": [
      "\n"
     ]
    },
    {
     "data": {
      "application/vnd.jupyter.widget-view+json": {
       "model_id": "7a9d086bd35343909b2bf083063fc89c",
       "version_major": 2,
       "version_minor": 0
      },
      "text/plain": [
       "HBox(children=(HTML(value=''), FloatProgress(value=0.0, max=5996.0), HTML(value='')))"
      ]
     },
     "metadata": {},
     "output_type": "display_data"
    },
    {
     "name": "stdout",
     "output_type": "stream",
     "text": [
      "\n",
      "[LightGBM] [Warning] Accuracy may be bad since you didn't set num_leaves and 2^max_depth > num_leaves\n",
      "[('reranked_own_rec', 0.26453952139231324)]\n",
      "7 3 500\n"
     ]
    },
    {
     "data": {
      "application/vnd.jupyter.widget-view+json": {
       "model_id": "57dc9e500e854d5d9f3f17f166257625",
       "version_major": 2,
       "version_minor": 0
      },
      "text/plain": [
       "HBox(children=(HTML(value=''), FloatProgress(value=0.0, max=15.0), HTML(value='')))"
      ]
     },
     "metadata": {},
     "output_type": "display_data"
    },
    {
     "name": "stdout",
     "output_type": "stream",
     "text": [
      "\n"
     ]
    },
    {
     "data": {
      "application/vnd.jupyter.widget-view+json": {
       "model_id": "728aa7f4820547899f6222f7670ebd8d",
       "version_major": 2,
       "version_minor": 0
      },
      "text/plain": [
       "HBox(children=(HTML(value=''), FloatProgress(value=0.0, max=501.0), HTML(value='')))"
      ]
     },
     "metadata": {},
     "output_type": "display_data"
    },
    {
     "name": "stdout",
     "output_type": "stream",
     "text": [
      "\n",
      "[LightGBM] [Warning] Accuracy may be bad since you didn't set num_leaves and 2^max_depth > num_leaves\n",
      "[('reranked_own_rec', 0.2436548223350254)]\n",
      "7 3 1000\n"
     ]
    },
    {
     "data": {
      "application/vnd.jupyter.widget-view+json": {
       "model_id": "2ed67d17ca3841cbbf9aeeabad6b7a85",
       "version_major": 2,
       "version_minor": 0
      },
      "text/plain": [
       "HBox(children=(HTML(value=''), FloatProgress(value=0.0, max=15.0), HTML(value='')))"
      ]
     },
     "metadata": {},
     "output_type": "display_data"
    },
    {
     "name": "stdout",
     "output_type": "stream",
     "text": [
      "\n"
     ]
    },
    {
     "data": {
      "application/vnd.jupyter.widget-view+json": {
       "model_id": "5b0419d99df542ad9eb483d1ca89a55b",
       "version_major": 2,
       "version_minor": 0
      },
      "text/plain": [
       "HBox(children=(HTML(value=''), FloatProgress(value=0.0, max=1001.0), HTML(value='')))"
      ]
     },
     "metadata": {},
     "output_type": "display_data"
    },
    {
     "name": "stdout",
     "output_type": "stream",
     "text": [
      "\n",
      "[LightGBM] [Warning] Accuracy may be bad since you didn't set num_leaves and 2^max_depth > num_leaves\n",
      "[('reranked_own_rec', 0.2568527918781726)]\n",
      "7 3 2000\n"
     ]
    },
    {
     "data": {
      "application/vnd.jupyter.widget-view+json": {
       "model_id": "42840d09d0b24b53a54c0cee9ed00cce",
       "version_major": 2,
       "version_minor": 0
      },
      "text/plain": [
       "HBox(children=(HTML(value=''), FloatProgress(value=0.0, max=15.0), HTML(value='')))"
      ]
     },
     "metadata": {},
     "output_type": "display_data"
    },
    {
     "name": "stdout",
     "output_type": "stream",
     "text": [
      "\n"
     ]
    },
    {
     "data": {
      "application/vnd.jupyter.widget-view+json": {
       "model_id": "5c38249bc1db486ebbd07c6daf68751c",
       "version_major": 2,
       "version_minor": 0
      },
      "text/plain": [
       "HBox(children=(HTML(value=''), FloatProgress(value=0.0, max=2001.0), HTML(value='')))"
      ]
     },
     "metadata": {},
     "output_type": "display_data"
    },
    {
     "name": "stdout",
     "output_type": "stream",
     "text": [
      "\n",
      "[LightGBM] [Warning] Accuracy may be bad since you didn't set num_leaves and 2^max_depth > num_leaves\n",
      "[('reranked_own_rec', 0.25786802030456857)]\n",
      "7 3 3000\n"
     ]
    },
    {
     "data": {
      "application/vnd.jupyter.widget-view+json": {
       "model_id": "4f655ec4563b4f529a9a52555f799f69",
       "version_major": 2,
       "version_minor": 0
      },
      "text/plain": [
       "HBox(children=(HTML(value=''), FloatProgress(value=0.0, max=15.0), HTML(value='')))"
      ]
     },
     "metadata": {},
     "output_type": "display_data"
    },
    {
     "name": "stdout",
     "output_type": "stream",
     "text": [
      "\n"
     ]
    },
    {
     "data": {
      "application/vnd.jupyter.widget-view+json": {
       "model_id": "015f51882e41430db0bd9f2fe0515560",
       "version_major": 2,
       "version_minor": 0
      },
      "text/plain": [
       "HBox(children=(HTML(value=''), FloatProgress(value=0.0, max=3001.0), HTML(value='')))"
      ]
     },
     "metadata": {},
     "output_type": "display_data"
    },
    {
     "name": "stdout",
     "output_type": "stream",
     "text": [
      "\n",
      "[LightGBM] [Warning] Accuracy may be bad since you didn't set num_leaves and 2^max_depth > num_leaves\n",
      "[('reranked_own_rec', 0.26178390137781)]\n",
      "7 3 4000\n"
     ]
    },
    {
     "data": {
      "application/vnd.jupyter.widget-view+json": {
       "model_id": "e7d331a1a97d42388ef9224c347d52ed",
       "version_major": 2,
       "version_minor": 0
      },
      "text/plain": [
       "HBox(children=(HTML(value=''), FloatProgress(value=0.0, max=15.0), HTML(value='')))"
      ]
     },
     "metadata": {},
     "output_type": "display_data"
    },
    {
     "name": "stdout",
     "output_type": "stream",
     "text": [
      "\n"
     ]
    },
    {
     "data": {
      "application/vnd.jupyter.widget-view+json": {
       "model_id": "9fa26c9be6f44f488e5698334ebc12aa",
       "version_major": 2,
       "version_minor": 0
      },
      "text/plain": [
       "HBox(children=(HTML(value=''), FloatProgress(value=0.0, max=4000.0), HTML(value='')))"
      ]
     },
     "metadata": {},
     "output_type": "display_data"
    },
    {
     "name": "stdout",
     "output_type": "stream",
     "text": [
      "\n",
      "[LightGBM] [Warning] Accuracy may be bad since you didn't set num_leaves and 2^max_depth > num_leaves\n",
      "[('reranked_own_rec', 0.2626540971718637)]\n",
      "7 3 5000\n"
     ]
    },
    {
     "data": {
      "application/vnd.jupyter.widget-view+json": {
       "model_id": "2aadcbecaba04165b52dde6cbd1daafa",
       "version_major": 2,
       "version_minor": 0
      },
      "text/plain": [
       "HBox(children=(HTML(value=''), FloatProgress(value=0.0, max=15.0), HTML(value='')))"
      ]
     },
     "metadata": {},
     "output_type": "display_data"
    },
    {
     "name": "stdout",
     "output_type": "stream",
     "text": [
      "\n"
     ]
    },
    {
     "data": {
      "application/vnd.jupyter.widget-view+json": {
       "model_id": "a6418967be8546be87bb6dc513b8ebf6",
       "version_major": 2,
       "version_minor": 0
      },
      "text/plain": [
       "HBox(children=(HTML(value=''), FloatProgress(value=0.0, max=4998.0), HTML(value='')))"
      ]
     },
     "metadata": {},
     "output_type": "display_data"
    },
    {
     "name": "stdout",
     "output_type": "stream",
     "text": [
      "\n",
      "[LightGBM] [Warning] Accuracy may be bad since you didn't set num_leaves and 2^max_depth > num_leaves\n",
      "[('reranked_own_rec', 0.2651196519216824)]\n",
      "7 3 6000\n"
     ]
    },
    {
     "data": {
      "application/vnd.jupyter.widget-view+json": {
       "model_id": "c2cd3428dc344e7fbc725fd6dc21650f",
       "version_major": 2,
       "version_minor": 0
      },
      "text/plain": [
       "HBox(children=(HTML(value=''), FloatProgress(value=0.0, max=15.0), HTML(value='')))"
      ]
     },
     "metadata": {},
     "output_type": "display_data"
    },
    {
     "name": "stdout",
     "output_type": "stream",
     "text": [
      "\n"
     ]
    },
    {
     "data": {
      "application/vnd.jupyter.widget-view+json": {
       "model_id": "749a569fafcb4ca78fb66f90a8fc6a80",
       "version_major": 2,
       "version_minor": 0
      },
      "text/plain": [
       "HBox(children=(HTML(value=''), FloatProgress(value=0.0, max=5996.0), HTML(value='')))"
      ]
     },
     "metadata": {},
     "output_type": "display_data"
    },
    {
     "name": "stdout",
     "output_type": "stream",
     "text": [
      "\n",
      "[LightGBM] [Warning] Accuracy may be bad since you didn't set num_leaves and 2^max_depth > num_leaves\n",
      "[('reranked_own_rec', 0.26410442349528646)]\n",
      "7 4 500\n"
     ]
    },
    {
     "data": {
      "application/vnd.jupyter.widget-view+json": {
       "model_id": "0da9957750f94794a9fb179eca2eb5ec",
       "version_major": 2,
       "version_minor": 0
      },
      "text/plain": [
       "HBox(children=(HTML(value=''), FloatProgress(value=0.0, max=15.0), HTML(value='')))"
      ]
     },
     "metadata": {},
     "output_type": "display_data"
    },
    {
     "name": "stdout",
     "output_type": "stream",
     "text": [
      "\n"
     ]
    },
    {
     "data": {
      "application/vnd.jupyter.widget-view+json": {
       "model_id": "5c71b908aadb4c84849a4c850d92b22a",
       "version_major": 2,
       "version_minor": 0
      },
      "text/plain": [
       "HBox(children=(HTML(value=''), FloatProgress(value=0.0, max=501.0), HTML(value='')))"
      ]
     },
     "metadata": {},
     "output_type": "display_data"
    },
    {
     "name": "stdout",
     "output_type": "stream",
     "text": [
      "\n",
      "[LightGBM] [Warning] Accuracy may be bad since you didn't set num_leaves and 2^max_depth > num_leaves\n",
      "[('reranked_own_rec', 0.23843364757070343)]\n",
      "7 4 1000\n"
     ]
    },
    {
     "data": {
      "application/vnd.jupyter.widget-view+json": {
       "model_id": "7ffa38c36f3e4344937faad0bf70273e",
       "version_major": 2,
       "version_minor": 0
      },
      "text/plain": [
       "HBox(children=(HTML(value=''), FloatProgress(value=0.0, max=15.0), HTML(value='')))"
      ]
     },
     "metadata": {},
     "output_type": "display_data"
    },
    {
     "name": "stdout",
     "output_type": "stream",
     "text": [
      "\n"
     ]
    },
    {
     "data": {
      "application/vnd.jupyter.widget-view+json": {
       "model_id": "a29d64f087d44236b9005b615edb6029",
       "version_major": 2,
       "version_minor": 0
      },
      "text/plain": [
       "HBox(children=(HTML(value=''), FloatProgress(value=0.0, max=1001.0), HTML(value='')))"
      ]
     },
     "metadata": {},
     "output_type": "display_data"
    },
    {
     "name": "stdout",
     "output_type": "stream",
     "text": [
      "\n",
      "[LightGBM] [Warning] Accuracy may be bad since you didn't set num_leaves and 2^max_depth > num_leaves\n",
      "[('reranked_own_rec', 0.2519216823785352)]\n",
      "7 4 2000\n"
     ]
    },
    {
     "data": {
      "application/vnd.jupyter.widget-view+json": {
       "model_id": "b91636b75e184843807ac6ec43fd7bd6",
       "version_major": 2,
       "version_minor": 0
      },
      "text/plain": [
       "HBox(children=(HTML(value=''), FloatProgress(value=0.0, max=15.0), HTML(value='')))"
      ]
     },
     "metadata": {},
     "output_type": "display_data"
    },
    {
     "name": "stdout",
     "output_type": "stream",
     "text": [
      "\n"
     ]
    },
    {
     "data": {
      "application/vnd.jupyter.widget-view+json": {
       "model_id": "209422b193eb43ff9a25992db3b99e56",
       "version_major": 2,
       "version_minor": 0
      },
      "text/plain": [
       "HBox(children=(HTML(value=''), FloatProgress(value=0.0, max=2001.0), HTML(value='')))"
      ]
     },
     "metadata": {},
     "output_type": "display_data"
    },
    {
     "name": "stdout",
     "output_type": "stream",
     "text": [
      "\n",
      "[LightGBM] [Warning] Accuracy may be bad since you didn't set num_leaves and 2^max_depth > num_leaves\n",
      "[('reranked_own_rec', 0.25801305293691085)]\n",
      "7 4 3000\n"
     ]
    },
    {
     "data": {
      "application/vnd.jupyter.widget-view+json": {
       "model_id": "c7ba03bf82124582b783a367b0f988db",
       "version_major": 2,
       "version_minor": 0
      },
      "text/plain": [
       "HBox(children=(HTML(value=''), FloatProgress(value=0.0, max=15.0), HTML(value='')))"
      ]
     },
     "metadata": {},
     "output_type": "display_data"
    },
    {
     "name": "stdout",
     "output_type": "stream",
     "text": [
      "\n"
     ]
    },
    {
     "data": {
      "application/vnd.jupyter.widget-view+json": {
       "model_id": "e22088a732ab4f0aaca3033651817cde",
       "version_major": 2,
       "version_minor": 0
      },
      "text/plain": [
       "HBox(children=(HTML(value=''), FloatProgress(value=0.0, max=3001.0), HTML(value='')))"
      ]
     },
     "metadata": {},
     "output_type": "display_data"
    },
    {
     "name": "stdout",
     "output_type": "stream",
     "text": [
      "\n",
      "[LightGBM] [Warning] Accuracy may be bad since you didn't set num_leaves and 2^max_depth > num_leaves\n",
      "[('reranked_own_rec', 0.25583756345177666)]\n",
      "7 4 4000\n"
     ]
    },
    {
     "data": {
      "application/vnd.jupyter.widget-view+json": {
       "model_id": "83ace26f67974a26bef8eb3119ba8a8a",
       "version_major": 2,
       "version_minor": 0
      },
      "text/plain": [
       "HBox(children=(HTML(value=''), FloatProgress(value=0.0, max=15.0), HTML(value='')))"
      ]
     },
     "metadata": {},
     "output_type": "display_data"
    },
    {
     "name": "stdout",
     "output_type": "stream",
     "text": [
      "\n"
     ]
    },
    {
     "data": {
      "application/vnd.jupyter.widget-view+json": {
       "model_id": "c84a149ae8304f3a9ed71a247d924e1d",
       "version_major": 2,
       "version_minor": 0
      },
      "text/plain": [
       "HBox(children=(HTML(value=''), FloatProgress(value=0.0, max=3999.0), HTML(value='')))"
      ]
     },
     "metadata": {},
     "output_type": "display_data"
    },
    {
     "name": "stdout",
     "output_type": "stream",
     "text": [
      "\n",
      "[LightGBM] [Warning] Accuracy may be bad since you didn't set num_leaves and 2^max_depth > num_leaves\n",
      "[('reranked_own_rec', 0.2577229876722263)]\n",
      "7 4 5000\n"
     ]
    },
    {
     "data": {
      "application/vnd.jupyter.widget-view+json": {
       "model_id": "76ddcd86e79a48bbbd1d3192cb079a05",
       "version_major": 2,
       "version_minor": 0
      },
      "text/plain": [
       "HBox(children=(HTML(value=''), FloatProgress(value=0.0, max=15.0), HTML(value='')))"
      ]
     },
     "metadata": {},
     "output_type": "display_data"
    },
    {
     "name": "stdout",
     "output_type": "stream",
     "text": [
      "\n"
     ]
    },
    {
     "data": {
      "application/vnd.jupyter.widget-view+json": {
       "model_id": "570bbd45207c46159b736bc219655854",
       "version_major": 2,
       "version_minor": 0
      },
      "text/plain": [
       "HBox(children=(HTML(value=''), FloatProgress(value=0.0, max=4998.0), HTML(value='')))"
      ]
     },
     "metadata": {},
     "output_type": "display_data"
    },
    {
     "name": "stdout",
     "output_type": "stream",
     "text": [
      "\n",
      "[LightGBM] [Warning] Accuracy may be bad since you didn't set num_leaves and 2^max_depth > num_leaves\n",
      "[('reranked_own_rec', 0.25757795503988395)]\n",
      "7 4 6000\n"
     ]
    },
    {
     "data": {
      "application/vnd.jupyter.widget-view+json": {
       "model_id": "801f99ae40ee4af3ae8a75138d31f1f4",
       "version_major": 2,
       "version_minor": 0
      },
      "text/plain": [
       "HBox(children=(HTML(value=''), FloatProgress(value=0.0, max=15.0), HTML(value='')))"
      ]
     },
     "metadata": {},
     "output_type": "display_data"
    },
    {
     "name": "stdout",
     "output_type": "stream",
     "text": [
      "\n"
     ]
    },
    {
     "data": {
      "application/vnd.jupyter.widget-view+json": {
       "model_id": "db6733922c38413ba2b5804e11e02ae3",
       "version_major": 2,
       "version_minor": 0
      },
      "text/plain": [
       "HBox(children=(HTML(value=''), FloatProgress(value=0.0, max=5996.0), HTML(value='')))"
      ]
     },
     "metadata": {},
     "output_type": "display_data"
    },
    {
     "name": "stdout",
     "output_type": "stream",
     "text": [
      "\n",
      "[LightGBM] [Warning] Accuracy may be bad since you didn't set num_leaves and 2^max_depth > num_leaves\n",
      "[('reranked_own_rec', 0.25627266134880344)]\n",
      "7 5 500\n"
     ]
    },
    {
     "data": {
      "application/vnd.jupyter.widget-view+json": {
       "model_id": "61fbce3cf4c749178438d06550189cce",
       "version_major": 2,
       "version_minor": 0
      },
      "text/plain": [
       "HBox(children=(HTML(value=''), FloatProgress(value=0.0, max=15.0), HTML(value='')))"
      ]
     },
     "metadata": {},
     "output_type": "display_data"
    },
    {
     "name": "stdout",
     "output_type": "stream",
     "text": [
      "\n"
     ]
    },
    {
     "data": {
      "application/vnd.jupyter.widget-view+json": {
       "model_id": "8a0c7710915e4b8ba0b6f0752adb101b",
       "version_major": 2,
       "version_minor": 0
      },
      "text/plain": [
       "HBox(children=(HTML(value=''), FloatProgress(value=0.0, max=501.0), HTML(value='')))"
      ]
     },
     "metadata": {},
     "output_type": "display_data"
    },
    {
     "name": "stdout",
     "output_type": "stream",
     "text": [
      "\n",
      "[LightGBM] [Warning] Accuracy may be bad since you didn't set num_leaves and 2^max_depth > num_leaves\n",
      "[('reranked_own_rec', 0.23944887599709938)]\n",
      "7 5 1000\n"
     ]
    },
    {
     "data": {
      "application/vnd.jupyter.widget-view+json": {
       "model_id": "62f8e5c5dde6486cb3253df17f61ec82",
       "version_major": 2,
       "version_minor": 0
      },
      "text/plain": [
       "HBox(children=(HTML(value=''), FloatProgress(value=0.0, max=15.0), HTML(value='')))"
      ]
     },
     "metadata": {},
     "output_type": "display_data"
    },
    {
     "name": "stdout",
     "output_type": "stream",
     "text": [
      "\n"
     ]
    },
    {
     "data": {
      "application/vnd.jupyter.widget-view+json": {
       "model_id": "b448d9e1841d469a800bd90a40b2f507",
       "version_major": 2,
       "version_minor": 0
      },
      "text/plain": [
       "HBox(children=(HTML(value=''), FloatProgress(value=0.0, max=1001.0), HTML(value='')))"
      ]
     },
     "metadata": {},
     "output_type": "display_data"
    },
    {
     "name": "stdout",
     "output_type": "stream",
     "text": [
      "\n",
      "[LightGBM] [Warning] Accuracy may be bad since you didn't set num_leaves and 2^max_depth > num_leaves\n",
      "[('reranked_own_rec', 0.24960116026105877)]\n",
      "7 5 2000\n"
     ]
    },
    {
     "data": {
      "application/vnd.jupyter.widget-view+json": {
       "model_id": "dc4fe47167344522877290c206b8918b",
       "version_major": 2,
       "version_minor": 0
      },
      "text/plain": [
       "HBox(children=(HTML(value=''), FloatProgress(value=0.0, max=15.0), HTML(value='')))"
      ]
     },
     "metadata": {},
     "output_type": "display_data"
    },
    {
     "name": "stdout",
     "output_type": "stream",
     "text": [
      "\n"
     ]
    },
    {
     "data": {
      "application/vnd.jupyter.widget-view+json": {
       "model_id": "3a329acbb5de4e6a8da37fd1b71ab8f3",
       "version_major": 2,
       "version_minor": 0
      },
      "text/plain": [
       "HBox(children=(HTML(value=''), FloatProgress(value=0.0, max=2001.0), HTML(value='')))"
      ]
     },
     "metadata": {},
     "output_type": "display_data"
    },
    {
     "name": "stdout",
     "output_type": "stream",
     "text": [
      "\n",
      "[LightGBM] [Warning] Accuracy may be bad since you didn't set num_leaves and 2^max_depth > num_leaves\n",
      "[('reranked_own_rec', 0.25206671501087746)]\n",
      "7 5 3000\n"
     ]
    },
    {
     "data": {
      "application/vnd.jupyter.widget-view+json": {
       "model_id": "a30646578e6c40269e2bb2317d9c0e93",
       "version_major": 2,
       "version_minor": 0
      },
      "text/plain": [
       "HBox(children=(HTML(value=''), FloatProgress(value=0.0, max=15.0), HTML(value='')))"
      ]
     },
     "metadata": {},
     "output_type": "display_data"
    },
    {
     "name": "stdout",
     "output_type": "stream",
     "text": [
      "\n"
     ]
    },
    {
     "data": {
      "application/vnd.jupyter.widget-view+json": {
       "model_id": "74a3a3f931bc40b18755c4deb5ca0cbf",
       "version_major": 2,
       "version_minor": 0
      },
      "text/plain": [
       "HBox(children=(HTML(value=''), FloatProgress(value=0.0, max=3001.0), HTML(value='')))"
      ]
     },
     "metadata": {},
     "output_type": "display_data"
    },
    {
     "name": "stdout",
     "output_type": "stream",
     "text": [
      "\n",
      "[LightGBM] [Warning] Accuracy may be bad since you didn't set num_leaves and 2^max_depth > num_leaves\n",
      "[('reranked_own_rec', 0.25960841189267586)]\n",
      "7 5 4000\n"
     ]
    },
    {
     "data": {
      "application/vnd.jupyter.widget-view+json": {
       "model_id": "92456f44e8844a14b50818318a124783",
       "version_major": 2,
       "version_minor": 0
      },
      "text/plain": [
       "HBox(children=(HTML(value=''), FloatProgress(value=0.0, max=15.0), HTML(value='')))"
      ]
     },
     "metadata": {},
     "output_type": "display_data"
    },
    {
     "name": "stdout",
     "output_type": "stream",
     "text": [
      "\n"
     ]
    },
    {
     "data": {
      "application/vnd.jupyter.widget-view+json": {
       "model_id": "ece1b2061e4340129c11ff1694f3793e",
       "version_major": 2,
       "version_minor": 0
      },
      "text/plain": [
       "HBox(children=(HTML(value=''), FloatProgress(value=0.0, max=3999.0), HTML(value='')))"
      ]
     },
     "metadata": {},
     "output_type": "display_data"
    },
    {
     "name": "stdout",
     "output_type": "stream",
     "text": [
      "\n",
      "[LightGBM] [Warning] Accuracy may be bad since you didn't set num_leaves and 2^max_depth > num_leaves\n",
      "[('reranked_own_rec', 0.25830311820159535)]\n",
      "7 5 5000\n"
     ]
    },
    {
     "data": {
      "application/vnd.jupyter.widget-view+json": {
       "model_id": "86f7b3624bd44d83a9ac53d39f4ce24b",
       "version_major": 2,
       "version_minor": 0
      },
      "text/plain": [
       "HBox(children=(HTML(value=''), FloatProgress(value=0.0, max=15.0), HTML(value='')))"
      ]
     },
     "metadata": {},
     "output_type": "display_data"
    },
    {
     "name": "stdout",
     "output_type": "stream",
     "text": [
      "\n"
     ]
    },
    {
     "data": {
      "application/vnd.jupyter.widget-view+json": {
       "model_id": "2500aa6197c04405aa6a51985eefe80b",
       "version_major": 2,
       "version_minor": 0
      },
      "text/plain": [
       "HBox(children=(HTML(value=''), FloatProgress(value=0.0, max=4998.0), HTML(value='')))"
      ]
     },
     "metadata": {},
     "output_type": "display_data"
    },
    {
     "name": "stdout",
     "output_type": "stream",
     "text": [
      "\n",
      "[LightGBM] [Warning] Accuracy may be bad since you didn't set num_leaves and 2^max_depth > num_leaves\n",
      "[('reranked_own_rec', 0.2583031182015954)]\n",
      "7 5 6000\n"
     ]
    },
    {
     "data": {
      "application/vnd.jupyter.widget-view+json": {
       "model_id": "b85fc2a3bcf746d2af189689ae6ad441",
       "version_major": 2,
       "version_minor": 0
      },
      "text/plain": [
       "HBox(children=(HTML(value=''), FloatProgress(value=0.0, max=15.0), HTML(value='')))"
      ]
     },
     "metadata": {},
     "output_type": "display_data"
    },
    {
     "name": "stdout",
     "output_type": "stream",
     "text": [
      "\n"
     ]
    },
    {
     "data": {
      "application/vnd.jupyter.widget-view+json": {
       "model_id": "f279cb1b6e224b299b96f08965054c83",
       "version_major": 2,
       "version_minor": 0
      },
      "text/plain": [
       "HBox(children=(HTML(value=''), FloatProgress(value=0.0, max=5996.0), HTML(value='')))"
      ]
     },
     "metadata": {},
     "output_type": "display_data"
    },
    {
     "name": "stdout",
     "output_type": "stream",
     "text": [
      "\n",
      "[LightGBM] [Warning] Accuracy may be bad since you didn't set num_leaves and 2^max_depth > num_leaves\n",
      "[('reranked_own_rec', 0.2607686729514141)]\n",
      "7 6 500\n"
     ]
    },
    {
     "data": {
      "application/vnd.jupyter.widget-view+json": {
       "model_id": "63c4d558d90d4cfe8f5fe7d2ee78fb3c",
       "version_major": 2,
       "version_minor": 0
      },
      "text/plain": [
       "HBox(children=(HTML(value=''), FloatProgress(value=0.0, max=15.0), HTML(value='')))"
      ]
     },
     "metadata": {},
     "output_type": "display_data"
    },
    {
     "name": "stdout",
     "output_type": "stream",
     "text": [
      "\n"
     ]
    },
    {
     "data": {
      "application/vnd.jupyter.widget-view+json": {
       "model_id": "a26a37fa399a41ab953065d4939ea422",
       "version_major": 2,
       "version_minor": 0
      },
      "text/plain": [
       "HBox(children=(HTML(value=''), FloatProgress(value=0.0, max=501.0), HTML(value='')))"
      ]
     },
     "metadata": {},
     "output_type": "display_data"
    },
    {
     "name": "stdout",
     "output_type": "stream",
     "text": [
      "\n",
      "[LightGBM] [Warning] Accuracy may be bad since you didn't set num_leaves and 2^max_depth > num_leaves\n",
      "[('reranked_own_rec', 0.23814358230601887)]\n",
      "7 6 1000\n"
     ]
    },
    {
     "data": {
      "application/vnd.jupyter.widget-view+json": {
       "model_id": "b5a168a1b52d4003a52ba3e432705a6d",
       "version_major": 2,
       "version_minor": 0
      },
      "text/plain": [
       "HBox(children=(HTML(value=''), FloatProgress(value=0.0, max=15.0), HTML(value='')))"
      ]
     },
     "metadata": {},
     "output_type": "display_data"
    },
    {
     "name": "stdout",
     "output_type": "stream",
     "text": [
      "\n"
     ]
    },
    {
     "data": {
      "application/vnd.jupyter.widget-view+json": {
       "model_id": "ca6cc7ae1fbf4dd7a8a6aac55c5db4d4",
       "version_major": 2,
       "version_minor": 0
      },
      "text/plain": [
       "HBox(children=(HTML(value=''), FloatProgress(value=0.0, max=1001.0), HTML(value='')))"
      ]
     },
     "metadata": {},
     "output_type": "display_data"
    },
    {
     "name": "stdout",
     "output_type": "stream",
     "text": [
      "\n",
      "[LightGBM] [Warning] Accuracy may be bad since you didn't set num_leaves and 2^max_depth > num_leaves\n",
      "[('reranked_own_rec', 0.25192168237853513)]\n",
      "7 6 2000\n"
     ]
    },
    {
     "data": {
      "application/vnd.jupyter.widget-view+json": {
       "model_id": "5cb65840fc5e4d418d1b6397acd70626",
       "version_major": 2,
       "version_minor": 0
      },
      "text/plain": [
       "HBox(children=(HTML(value=''), FloatProgress(value=0.0, max=15.0), HTML(value='')))"
      ]
     },
     "metadata": {},
     "output_type": "display_data"
    },
    {
     "name": "stdout",
     "output_type": "stream",
     "text": [
      "\n"
     ]
    },
    {
     "data": {
      "application/vnd.jupyter.widget-view+json": {
       "model_id": "cfdd5e72a92b4d7793a254243438e25f",
       "version_major": 2,
       "version_minor": 0
      },
      "text/plain": [
       "HBox(children=(HTML(value=''), FloatProgress(value=0.0, max=2001.0), HTML(value='')))"
      ]
     },
     "metadata": {},
     "output_type": "display_data"
    },
    {
     "name": "stdout",
     "output_type": "stream",
     "text": [
      "\n",
      "[LightGBM] [Warning] Accuracy may be bad since you didn't set num_leaves and 2^max_depth > num_leaves\n",
      "[('reranked_own_rec', 0.2554024655547498)]\n",
      "7 6 3000\n"
     ]
    },
    {
     "data": {
      "application/vnd.jupyter.widget-view+json": {
       "model_id": "cf74382a9a704a6292a40b9fa1fbd25e",
       "version_major": 2,
       "version_minor": 0
      },
      "text/plain": [
       "HBox(children=(HTML(value=''), FloatProgress(value=0.0, max=15.0), HTML(value='')))"
      ]
     },
     "metadata": {},
     "output_type": "display_data"
    },
    {
     "name": "stdout",
     "output_type": "stream",
     "text": [
      "\n"
     ]
    },
    {
     "data": {
      "application/vnd.jupyter.widget-view+json": {
       "model_id": "5a5c26ea647b499fbc0171443f114889",
       "version_major": 2,
       "version_minor": 0
      },
      "text/plain": [
       "HBox(children=(HTML(value=''), FloatProgress(value=0.0, max=3001.0), HTML(value='')))"
      ]
     },
     "metadata": {},
     "output_type": "display_data"
    },
    {
     "name": "stdout",
     "output_type": "stream",
     "text": [
      "\n",
      "[LightGBM] [Warning] Accuracy may be bad since you didn't set num_leaves and 2^max_depth > num_leaves\n",
      "[('reranked_own_rec', 0.2554024655547498)]\n",
      "7 6 4000\n"
     ]
    },
    {
     "data": {
      "application/vnd.jupyter.widget-view+json": {
       "model_id": "a38c2a7b12044bfd89498823dfa08b43",
       "version_major": 2,
       "version_minor": 0
      },
      "text/plain": [
       "HBox(children=(HTML(value=''), FloatProgress(value=0.0, max=15.0), HTML(value='')))"
      ]
     },
     "metadata": {},
     "output_type": "display_data"
    },
    {
     "name": "stdout",
     "output_type": "stream",
     "text": [
      "\n"
     ]
    },
    {
     "data": {
      "application/vnd.jupyter.widget-view+json": {
       "model_id": "1b24f08e7b14414baa37e77af2166ea7",
       "version_major": 2,
       "version_minor": 0
      },
      "text/plain": [
       "HBox(children=(HTML(value=''), FloatProgress(value=0.0, max=4000.0), HTML(value='')))"
      ]
     },
     "metadata": {},
     "output_type": "display_data"
    },
    {
     "name": "stdout",
     "output_type": "stream",
     "text": [
      "\n",
      "[LightGBM] [Warning] Accuracy may be bad since you didn't set num_leaves and 2^max_depth > num_leaves\n",
      "[('reranked_own_rec', 0.2574329224075417)]\n",
      "7 6 5000\n"
     ]
    },
    {
     "data": {
      "application/vnd.jupyter.widget-view+json": {
       "model_id": "814f89ac7471466d8f69f532fda69aa7",
       "version_major": 2,
       "version_minor": 0
      },
      "text/plain": [
       "HBox(children=(HTML(value=''), FloatProgress(value=0.0, max=15.0), HTML(value='')))"
      ]
     },
     "metadata": {},
     "output_type": "display_data"
    },
    {
     "name": "stdout",
     "output_type": "stream",
     "text": [
      "\n"
     ]
    },
    {
     "data": {
      "application/vnd.jupyter.widget-view+json": {
       "model_id": "5375a78c186d44b1a22a33e0126fa8e1",
       "version_major": 2,
       "version_minor": 0
      },
      "text/plain": [
       "HBox(children=(HTML(value=''), FloatProgress(value=0.0, max=4998.0), HTML(value='')))"
      ]
     },
     "metadata": {},
     "output_type": "display_data"
    },
    {
     "name": "stdout",
     "output_type": "stream",
     "text": [
      "\n",
      "[LightGBM] [Warning] Accuracy may be bad since you didn't set num_leaves and 2^max_depth > num_leaves\n",
      "[('reranked_own_rec', 0.25656272661348806)]\n",
      "7 6 6000\n"
     ]
    },
    {
     "data": {
      "application/vnd.jupyter.widget-view+json": {
       "model_id": "2d186ae286554ddfa0949bb7763bbcea",
       "version_major": 2,
       "version_minor": 0
      },
      "text/plain": [
       "HBox(children=(HTML(value=''), FloatProgress(value=0.0, max=15.0), HTML(value='')))"
      ]
     },
     "metadata": {},
     "output_type": "display_data"
    },
    {
     "name": "stdout",
     "output_type": "stream",
     "text": [
      "\n"
     ]
    },
    {
     "data": {
      "application/vnd.jupyter.widget-view+json": {
       "model_id": "4c2d0ca350464ff5beaa4b8c2e4a23ff",
       "version_major": 2,
       "version_minor": 0
      },
      "text/plain": [
       "HBox(children=(HTML(value=''), FloatProgress(value=0.0, max=5996.0), HTML(value='')))"
      ]
     },
     "metadata": {},
     "output_type": "display_data"
    },
    {
     "name": "stdout",
     "output_type": "stream",
     "text": [
      "\n",
      "[LightGBM] [Warning] Accuracy may be bad since you didn't set num_leaves and 2^max_depth > num_leaves\n",
      "[('reranked_own_rec', 0.25598259608411894)]\n",
      "8 1 500\n"
     ]
    },
    {
     "data": {
      "application/vnd.jupyter.widget-view+json": {
       "model_id": "91afc3d33758408baa47fc8576819931",
       "version_major": 2,
       "version_minor": 0
      },
      "text/plain": [
       "HBox(children=(HTML(value=''), FloatProgress(value=0.0, max=15.0), HTML(value='')))"
      ]
     },
     "metadata": {},
     "output_type": "display_data"
    },
    {
     "name": "stdout",
     "output_type": "stream",
     "text": [
      "\n"
     ]
    },
    {
     "data": {
      "application/vnd.jupyter.widget-view+json": {
       "model_id": "d89e978e07364ddd82930a15404814d7",
       "version_major": 2,
       "version_minor": 0
      },
      "text/plain": [
       "HBox(children=(HTML(value=''), FloatProgress(value=0.0, max=501.0), HTML(value='')))"
      ]
     },
     "metadata": {},
     "output_type": "display_data"
    },
    {
     "name": "stdout",
     "output_type": "stream",
     "text": [
      "\n",
      "[LightGBM] [Warning] Accuracy may be bad since you didn't set num_leaves and 2^max_depth > num_leaves\n",
      "[('reranked_own_rec', 0.248150833937636)]\n",
      "8 1 1000\n"
     ]
    },
    {
     "data": {
      "application/vnd.jupyter.widget-view+json": {
       "model_id": "51d956e8f30946c8b735ecb3fef36eaa",
       "version_major": 2,
       "version_minor": 0
      },
      "text/plain": [
       "HBox(children=(HTML(value=''), FloatProgress(value=0.0, max=15.0), HTML(value='')))"
      ]
     },
     "metadata": {},
     "output_type": "display_data"
    },
    {
     "name": "stdout",
     "output_type": "stream",
     "text": [
      "\n"
     ]
    },
    {
     "data": {
      "application/vnd.jupyter.widget-view+json": {
       "model_id": "e9dec6db66be4df79f9fe525101204ec",
       "version_major": 2,
       "version_minor": 0
      },
      "text/plain": [
       "HBox(children=(HTML(value=''), FloatProgress(value=0.0, max=1001.0), HTML(value='')))"
      ]
     },
     "metadata": {},
     "output_type": "display_data"
    },
    {
     "name": "stdout",
     "output_type": "stream",
     "text": [
      "\n",
      "[LightGBM] [Warning] Accuracy may be bad since you didn't set num_leaves and 2^max_depth > num_leaves\n",
      "[('reranked_own_rec', 0.25815808556925307)]\n",
      "8 1 2000\n"
     ]
    },
    {
     "data": {
      "application/vnd.jupyter.widget-view+json": {
       "model_id": "2759bb7bfe8d42f9ae54bd3c72bf0c42",
       "version_major": 2,
       "version_minor": 0
      },
      "text/plain": [
       "HBox(children=(HTML(value=''), FloatProgress(value=0.0, max=15.0), HTML(value='')))"
      ]
     },
     "metadata": {},
     "output_type": "display_data"
    },
    {
     "name": "stdout",
     "output_type": "stream",
     "text": [
      "\n"
     ]
    },
    {
     "data": {
      "application/vnd.jupyter.widget-view+json": {
       "model_id": "3968e3879c724c87b70373a14756c9c6",
       "version_major": 2,
       "version_minor": 0
      },
      "text/plain": [
       "HBox(children=(HTML(value=''), FloatProgress(value=0.0, max=2001.0), HTML(value='')))"
      ]
     },
     "metadata": {},
     "output_type": "display_data"
    },
    {
     "name": "stdout",
     "output_type": "stream",
     "text": [
      "\n",
      "[LightGBM] [Warning] Accuracy may be bad since you didn't set num_leaves and 2^max_depth > num_leaves\n",
      "[('reranked_own_rec', 0.2697606961566352)]\n",
      "8 1 3000\n"
     ]
    },
    {
     "data": {
      "application/vnd.jupyter.widget-view+json": {
       "model_id": "2549d3cac729492eaa1f31fdbf82785e",
       "version_major": 2,
       "version_minor": 0
      },
      "text/plain": [
       "HBox(children=(HTML(value=''), FloatProgress(value=0.0, max=15.0), HTML(value='')))"
      ]
     },
     "metadata": {},
     "output_type": "display_data"
    },
    {
     "name": "stdout",
     "output_type": "stream",
     "text": [
      "\n"
     ]
    },
    {
     "data": {
      "application/vnd.jupyter.widget-view+json": {
       "model_id": "340fe3990d4d41d1ae355ca2953978d3",
       "version_major": 2,
       "version_minor": 0
      },
      "text/plain": [
       "HBox(children=(HTML(value=''), FloatProgress(value=0.0, max=3001.0), HTML(value='')))"
      ]
     },
     "metadata": {},
     "output_type": "display_data"
    },
    {
     "name": "stdout",
     "output_type": "stream",
     "text": [
      "\n",
      "[LightGBM] [Warning] Accuracy may be bad since you didn't set num_leaves and 2^max_depth > num_leaves\n",
      "[('reranked_own_rec', 0.27063089195068896)]\n",
      "8 1 4000\n"
     ]
    },
    {
     "data": {
      "application/vnd.jupyter.widget-view+json": {
       "model_id": "27a637dabb5a4fae9f2d274186a4ca56",
       "version_major": 2,
       "version_minor": 0
      },
      "text/plain": [
       "HBox(children=(HTML(value=''), FloatProgress(value=0.0, max=15.0), HTML(value='')))"
      ]
     },
     "metadata": {},
     "output_type": "display_data"
    },
    {
     "name": "stdout",
     "output_type": "stream",
     "text": [
      "\n"
     ]
    },
    {
     "data": {
      "application/vnd.jupyter.widget-view+json": {
       "model_id": "1f7d576eb88e4cab80e00563a27259e8",
       "version_major": 2,
       "version_minor": 0
      },
      "text/plain": [
       "HBox(children=(HTML(value=''), FloatProgress(value=0.0, max=4000.0), HTML(value='')))"
      ]
     },
     "metadata": {},
     "output_type": "display_data"
    },
    {
     "name": "stdout",
     "output_type": "stream",
     "text": [
      "\n",
      "[LightGBM] [Warning] Accuracy may be bad since you didn't set num_leaves and 2^max_depth > num_leaves\n",
      "[('reranked_own_rec', 0.27672226250906456)]\n",
      "8 1 5000\n"
     ]
    },
    {
     "data": {
      "application/vnd.jupyter.widget-view+json": {
       "model_id": "58f42fb5a0ba482d837dcc106a983a2c",
       "version_major": 2,
       "version_minor": 0
      },
      "text/plain": [
       "HBox(children=(HTML(value=''), FloatProgress(value=0.0, max=15.0), HTML(value='')))"
      ]
     },
     "metadata": {},
     "output_type": "display_data"
    },
    {
     "name": "stdout",
     "output_type": "stream",
     "text": [
      "\n"
     ]
    },
    {
     "data": {
      "application/vnd.jupyter.widget-view+json": {
       "model_id": "985d3715d33a4b81a6e151da6be85bd5",
       "version_major": 2,
       "version_minor": 0
      },
      "text/plain": [
       "HBox(children=(HTML(value=''), FloatProgress(value=0.0, max=4998.0), HTML(value='')))"
      ]
     },
     "metadata": {},
     "output_type": "display_data"
    },
    {
     "name": "stdout",
     "output_type": "stream",
     "text": [
      "\n",
      "[LightGBM] [Warning] Accuracy may be bad since you didn't set num_leaves and 2^max_depth > num_leaves\n",
      "[('reranked_own_rec', 0.27396664249456126)]\n",
      "8 1 6000\n"
     ]
    },
    {
     "data": {
      "application/vnd.jupyter.widget-view+json": {
       "model_id": "a5a2a29836204ee58039f4bade353eb4",
       "version_major": 2,
       "version_minor": 0
      },
      "text/plain": [
       "HBox(children=(HTML(value=''), FloatProgress(value=0.0, max=15.0), HTML(value='')))"
      ]
     },
     "metadata": {},
     "output_type": "display_data"
    },
    {
     "name": "stdout",
     "output_type": "stream",
     "text": [
      "\n"
     ]
    },
    {
     "data": {
      "application/vnd.jupyter.widget-view+json": {
       "model_id": "31df10e6da7d43aa9f4119a4df367d0a",
       "version_major": 2,
       "version_minor": 0
      },
      "text/plain": [
       "HBox(children=(HTML(value=''), FloatProgress(value=0.0, max=5996.0), HTML(value='')))"
      ]
     },
     "metadata": {},
     "output_type": "display_data"
    },
    {
     "name": "stdout",
     "output_type": "stream",
     "text": [
      "\n",
      "[LightGBM] [Warning] Accuracy may be bad since you didn't set num_leaves and 2^max_depth > num_leaves\n",
      "[('reranked_own_rec', 0.2677302393038434)]\n",
      "8 2 500\n"
     ]
    },
    {
     "data": {
      "application/vnd.jupyter.widget-view+json": {
       "model_id": "ecfdb44a8963471381a6a25f0b8a11a1",
       "version_major": 2,
       "version_minor": 0
      },
      "text/plain": [
       "HBox(children=(HTML(value=''), FloatProgress(value=0.0, max=15.0), HTML(value='')))"
      ]
     },
     "metadata": {},
     "output_type": "display_data"
    },
    {
     "name": "stdout",
     "output_type": "stream",
     "text": [
      "\n"
     ]
    },
    {
     "data": {
      "application/vnd.jupyter.widget-view+json": {
       "model_id": "0ee062c2a4d642faaf57ca81b52b28ac",
       "version_major": 2,
       "version_minor": 0
      },
      "text/plain": [
       "HBox(children=(HTML(value=''), FloatProgress(value=0.0, max=501.0), HTML(value='')))"
      ]
     },
     "metadata": {},
     "output_type": "display_data"
    },
    {
     "name": "stdout",
     "output_type": "stream",
     "text": [
      "\n",
      "[LightGBM] [Warning] Accuracy may be bad since you didn't set num_leaves and 2^max_depth > num_leaves\n",
      "[('reranked_own_rec', 0.2461203770848441)]\n",
      "8 2 1000\n"
     ]
    },
    {
     "data": {
      "application/vnd.jupyter.widget-view+json": {
       "model_id": "35ddaf81f89a48d9a7ab7e035277cac7",
       "version_major": 2,
       "version_minor": 0
      },
      "text/plain": [
       "HBox(children=(HTML(value=''), FloatProgress(value=0.0, max=15.0), HTML(value='')))"
      ]
     },
     "metadata": {},
     "output_type": "display_data"
    },
    {
     "name": "stdout",
     "output_type": "stream",
     "text": [
      "\n"
     ]
    },
    {
     "data": {
      "application/vnd.jupyter.widget-view+json": {
       "model_id": "9b2735294f024ce496c107ec813727ce",
       "version_major": 2,
       "version_minor": 0
      },
      "text/plain": [
       "HBox(children=(HTML(value=''), FloatProgress(value=0.0, max=1001.0), HTML(value='')))"
      ]
     },
     "metadata": {},
     "output_type": "display_data"
    },
    {
     "name": "stdout",
     "output_type": "stream",
     "text": [
      "\n",
      "[LightGBM] [Warning] Accuracy may be bad since you didn't set num_leaves and 2^max_depth > num_leaves\n",
      "[('reranked_own_rec', 0.2556925308194344)]\n",
      "8 2 2000\n"
     ]
    },
    {
     "data": {
      "application/vnd.jupyter.widget-view+json": {
       "model_id": "47ca063222c940eab7e520f19af2c330",
       "version_major": 2,
       "version_minor": 0
      },
      "text/plain": [
       "HBox(children=(HTML(value=''), FloatProgress(value=0.0, max=15.0), HTML(value='')))"
      ]
     },
     "metadata": {},
     "output_type": "display_data"
    },
    {
     "name": "stdout",
     "output_type": "stream",
     "text": [
      "\n"
     ]
    },
    {
     "data": {
      "application/vnd.jupyter.widget-view+json": {
       "model_id": "ecc84feec38c45848629b2526d25ed1e",
       "version_major": 2,
       "version_minor": 0
      },
      "text/plain": [
       "HBox(children=(HTML(value=''), FloatProgress(value=0.0, max=2001.0), HTML(value='')))"
      ]
     },
     "metadata": {},
     "output_type": "display_data"
    },
    {
     "name": "stdout",
     "output_type": "stream",
     "text": [
      "\n",
      "[LightGBM] [Warning] Accuracy may be bad since you didn't set num_leaves and 2^max_depth > num_leaves\n",
      "[('reranked_own_rec', 0.2652646845540247)]\n",
      "8 2 3000\n"
     ]
    },
    {
     "data": {
      "application/vnd.jupyter.widget-view+json": {
       "model_id": "0ad1badcebcb4adc8e09c4a91d97bb6e",
       "version_major": 2,
       "version_minor": 0
      },
      "text/plain": [
       "HBox(children=(HTML(value=''), FloatProgress(value=0.0, max=15.0), HTML(value='')))"
      ]
     },
     "metadata": {},
     "output_type": "display_data"
    },
    {
     "name": "stdout",
     "output_type": "stream",
     "text": [
      "\n"
     ]
    },
    {
     "data": {
      "application/vnd.jupyter.widget-view+json": {
       "model_id": "0636973d87c24f99876a3821928e94c3",
       "version_major": 2,
       "version_minor": 0
      },
      "text/plain": [
       "HBox(children=(HTML(value=''), FloatProgress(value=0.0, max=3001.0), HTML(value='')))"
      ]
     },
     "metadata": {},
     "output_type": "display_data"
    },
    {
     "name": "stdout",
     "output_type": "stream",
     "text": [
      "\n",
      "[LightGBM] [Warning] Accuracy may be bad since you didn't set num_leaves and 2^max_depth > num_leaves\n",
      "[('reranked_own_rec', 0.2668600435097897)]\n",
      "8 2 4000\n"
     ]
    },
    {
     "data": {
      "application/vnd.jupyter.widget-view+json": {
       "model_id": "dcdd4b6965594053bcf41b0c2de10cff",
       "version_major": 2,
       "version_minor": 0
      },
      "text/plain": [
       "HBox(children=(HTML(value=''), FloatProgress(value=0.0, max=15.0), HTML(value='')))"
      ]
     },
     "metadata": {},
     "output_type": "display_data"
    },
    {
     "name": "stdout",
     "output_type": "stream",
     "text": [
      "\n"
     ]
    },
    {
     "data": {
      "application/vnd.jupyter.widget-view+json": {
       "model_id": "89f6b844d6fb4931877e82fddb71afaf",
       "version_major": 2,
       "version_minor": 0
      },
      "text/plain": [
       "HBox(children=(HTML(value=''), FloatProgress(value=0.0, max=4000.0), HTML(value='')))"
      ]
     },
     "metadata": {},
     "output_type": "display_data"
    },
    {
     "name": "stdout",
     "output_type": "stream",
     "text": [
      "\n",
      "[LightGBM] [Warning] Accuracy may be bad since you didn't set num_leaves and 2^max_depth > num_leaves\n",
      "[('reranked_own_rec', 0.2691805656272661)]\n",
      "8 2 5000\n"
     ]
    },
    {
     "data": {
      "application/vnd.jupyter.widget-view+json": {
       "model_id": "3c17327625374bf89fef792f110e3f73",
       "version_major": 2,
       "version_minor": 0
      },
      "text/plain": [
       "HBox(children=(HTML(value=''), FloatProgress(value=0.0, max=15.0), HTML(value='')))"
      ]
     },
     "metadata": {},
     "output_type": "display_data"
    },
    {
     "name": "stdout",
     "output_type": "stream",
     "text": [
      "\n"
     ]
    },
    {
     "data": {
      "application/vnd.jupyter.widget-view+json": {
       "model_id": "0b0ebebbbe6846abbe7968f14020a735",
       "version_major": 2,
       "version_minor": 0
      },
      "text/plain": [
       "HBox(children=(HTML(value=''), FloatProgress(value=0.0, max=4998.0), HTML(value='')))"
      ]
     },
     "metadata": {},
     "output_type": "display_data"
    },
    {
     "name": "stdout",
     "output_type": "stream",
     "text": [
      "\n",
      "[LightGBM] [Warning] Accuracy may be bad since you didn't set num_leaves and 2^max_depth > num_leaves\n",
      "[('reranked_own_rec', 0.268600435097897)]\n",
      "8 2 6000\n"
     ]
    },
    {
     "data": {
      "application/vnd.jupyter.widget-view+json": {
       "model_id": "768ae567a4964018ac50076ff13a8d35",
       "version_major": 2,
       "version_minor": 0
      },
      "text/plain": [
       "HBox(children=(HTML(value=''), FloatProgress(value=0.0, max=15.0), HTML(value='')))"
      ]
     },
     "metadata": {},
     "output_type": "display_data"
    },
    {
     "name": "stdout",
     "output_type": "stream",
     "text": [
      "\n"
     ]
    },
    {
     "data": {
      "application/vnd.jupyter.widget-view+json": {
       "model_id": "d55e282acbe54678bece4e720b077315",
       "version_major": 2,
       "version_minor": 0
      },
      "text/plain": [
       "HBox(children=(HTML(value=''), FloatProgress(value=0.0, max=5996.0), HTML(value='')))"
      ]
     },
     "metadata": {},
     "output_type": "display_data"
    },
    {
     "name": "stdout",
     "output_type": "stream",
     "text": [
      "\n",
      "[LightGBM] [Warning] Accuracy may be bad since you didn't set num_leaves and 2^max_depth > num_leaves\n",
      "[('reranked_own_rec', 0.26671501087744737)]\n",
      "8 3 500\n"
     ]
    },
    {
     "data": {
      "application/vnd.jupyter.widget-view+json": {
       "model_id": "cc18394daf8a48068fb8dabbcddc6caf",
       "version_major": 2,
       "version_minor": 0
      },
      "text/plain": [
       "HBox(children=(HTML(value=''), FloatProgress(value=0.0, max=15.0), HTML(value='')))"
      ]
     },
     "metadata": {},
     "output_type": "display_data"
    },
    {
     "name": "stdout",
     "output_type": "stream",
     "text": [
      "\n"
     ]
    },
    {
     "data": {
      "application/vnd.jupyter.widget-view+json": {
       "model_id": "84ab92e4241549ea86bc53726fc10623",
       "version_major": 2,
       "version_minor": 0
      },
      "text/plain": [
       "HBox(children=(HTML(value=''), FloatProgress(value=0.0, max=501.0), HTML(value='')))"
      ]
     },
     "metadata": {},
     "output_type": "display_data"
    },
    {
     "name": "stdout",
     "output_type": "stream",
     "text": [
      "\n",
      "[LightGBM] [Warning] Accuracy may be bad since you didn't set num_leaves and 2^max_depth > num_leaves\n",
      "[('reranked_own_rec', 0.2472806381435823)]\n",
      "8 3 1000\n"
     ]
    },
    {
     "data": {
      "application/vnd.jupyter.widget-view+json": {
       "model_id": "782b280ebb354389af7fff631ad997ce",
       "version_major": 2,
       "version_minor": 0
      },
      "text/plain": [
       "HBox(children=(HTML(value=''), FloatProgress(value=0.0, max=15.0), HTML(value='')))"
      ]
     },
     "metadata": {},
     "output_type": "display_data"
    },
    {
     "name": "stdout",
     "output_type": "stream",
     "text": [
      "\n"
     ]
    },
    {
     "data": {
      "application/vnd.jupyter.widget-view+json": {
       "model_id": "ef52163ace6b4393b7743f617a99c3a4",
       "version_major": 2,
       "version_minor": 0
      },
      "text/plain": [
       "HBox(children=(HTML(value=''), FloatProgress(value=0.0, max=1001.0), HTML(value='')))"
      ]
     },
     "metadata": {},
     "output_type": "display_data"
    },
    {
     "name": "stdout",
     "output_type": "stream",
     "text": [
      "\n",
      "[LightGBM] [Warning] Accuracy may be bad since you didn't set num_leaves and 2^max_depth > num_leaves\n",
      "[('reranked_own_rec', 0.25960841189267586)]\n",
      "8 3 2000\n"
     ]
    },
    {
     "data": {
      "application/vnd.jupyter.widget-view+json": {
       "model_id": "99cef90c93e045d0a5fcf0172fe7efd3",
       "version_major": 2,
       "version_minor": 0
      },
      "text/plain": [
       "HBox(children=(HTML(value=''), FloatProgress(value=0.0, max=15.0), HTML(value='')))"
      ]
     },
     "metadata": {},
     "output_type": "display_data"
    },
    {
     "name": "stdout",
     "output_type": "stream",
     "text": [
      "\n"
     ]
    },
    {
     "data": {
      "application/vnd.jupyter.widget-view+json": {
       "model_id": "fd41607ec8b04c8cacbafb2527072d81",
       "version_major": 2,
       "version_minor": 0
      },
      "text/plain": [
       "HBox(children=(HTML(value=''), FloatProgress(value=0.0, max=2001.0), HTML(value='')))"
      ]
     },
     "metadata": {},
     "output_type": "display_data"
    },
    {
     "name": "stdout",
     "output_type": "stream",
     "text": [
      "\n",
      "[LightGBM] [Warning] Accuracy may be bad since you didn't set num_leaves and 2^max_depth > num_leaves\n",
      "[('reranked_own_rec', 0.26033357505438726)]\n",
      "8 3 3000\n"
     ]
    },
    {
     "data": {
      "application/vnd.jupyter.widget-view+json": {
       "model_id": "0508d1977dcc430ca8a6f11bfbdb77be",
       "version_major": 2,
       "version_minor": 0
      },
      "text/plain": [
       "HBox(children=(HTML(value=''), FloatProgress(value=0.0, max=15.0), HTML(value='')))"
      ]
     },
     "metadata": {},
     "output_type": "display_data"
    },
    {
     "name": "stdout",
     "output_type": "stream",
     "text": [
      "\n"
     ]
    },
    {
     "data": {
      "application/vnd.jupyter.widget-view+json": {
       "model_id": "9e34dc0c0ee74c5bad923859143f9f44",
       "version_major": 2,
       "version_minor": 0
      },
      "text/plain": [
       "HBox(children=(HTML(value=''), FloatProgress(value=0.0, max=3001.0), HTML(value='')))"
      ]
     },
     "metadata": {},
     "output_type": "display_data"
    },
    {
     "name": "stdout",
     "output_type": "stream",
     "text": [
      "\n",
      "[LightGBM] [Warning] Accuracy may be bad since you didn't set num_leaves and 2^max_depth > num_leaves\n",
      "[('reranked_own_rec', 0.2645395213923133)]\n",
      "8 3 4000\n"
     ]
    },
    {
     "data": {
      "application/vnd.jupyter.widget-view+json": {
       "model_id": "08da22e0d01f449b9bfd8da01b75dd4b",
       "version_major": 2,
       "version_minor": 0
      },
      "text/plain": [
       "HBox(children=(HTML(value=''), FloatProgress(value=0.0, max=15.0), HTML(value='')))"
      ]
     },
     "metadata": {},
     "output_type": "display_data"
    },
    {
     "name": "stdout",
     "output_type": "stream",
     "text": [
      "\n"
     ]
    },
    {
     "data": {
      "application/vnd.jupyter.widget-view+json": {
       "model_id": "d09012494cd247d59139ae8913ed2991",
       "version_major": 2,
       "version_minor": 0
      },
      "text/plain": [
       "HBox(children=(HTML(value=''), FloatProgress(value=0.0, max=3999.0), HTML(value='')))"
      ]
     },
     "metadata": {},
     "output_type": "display_data"
    },
    {
     "name": "stdout",
     "output_type": "stream",
     "text": [
      "\n",
      "[LightGBM] [Warning] Accuracy may be bad since you didn't set num_leaves and 2^max_depth > num_leaves\n",
      "[('reranked_own_rec', 0.2667150108774474)]\n",
      "8 3 5000\n"
     ]
    },
    {
     "data": {
      "application/vnd.jupyter.widget-view+json": {
       "model_id": "8db40ece1efd4138b04be91b1bee82e4",
       "version_major": 2,
       "version_minor": 0
      },
      "text/plain": [
       "HBox(children=(HTML(value=''), FloatProgress(value=0.0, max=15.0), HTML(value='')))"
      ]
     },
     "metadata": {},
     "output_type": "display_data"
    },
    {
     "name": "stdout",
     "output_type": "stream",
     "text": [
      "\n"
     ]
    },
    {
     "data": {
      "application/vnd.jupyter.widget-view+json": {
       "model_id": "5029426cd1214da7b591a11c79c7c315",
       "version_major": 2,
       "version_minor": 0
      },
      "text/plain": [
       "HBox(children=(HTML(value=''), FloatProgress(value=0.0, max=4998.0), HTML(value='')))"
      ]
     },
     "metadata": {},
     "output_type": "display_data"
    },
    {
     "name": "stdout",
     "output_type": "stream",
     "text": [
      "\n",
      "[LightGBM] [Warning] Accuracy may be bad since you didn't set num_leaves and 2^max_depth > num_leaves\n",
      "[('reranked_own_rec', 0.2645395213923133)]\n",
      "8 3 6000\n"
     ]
    },
    {
     "data": {
      "application/vnd.jupyter.widget-view+json": {
       "model_id": "c007d1cc0459427b94c639e7c0694901",
       "version_major": 2,
       "version_minor": 0
      },
      "text/plain": [
       "HBox(children=(HTML(value=''), FloatProgress(value=0.0, max=15.0), HTML(value='')))"
      ]
     },
     "metadata": {},
     "output_type": "display_data"
    },
    {
     "name": "stdout",
     "output_type": "stream",
     "text": [
      "\n"
     ]
    },
    {
     "data": {
      "application/vnd.jupyter.widget-view+json": {
       "model_id": "ff29ce00545347d996ce2b79e1001a56",
       "version_major": 2,
       "version_minor": 0
      },
      "text/plain": [
       "HBox(children=(HTML(value=''), FloatProgress(value=0.0, max=5996.0), HTML(value='')))"
      ]
     },
     "metadata": {},
     "output_type": "display_data"
    },
    {
     "name": "stdout",
     "output_type": "stream",
     "text": [
      "\n",
      "[LightGBM] [Warning] Accuracy may be bad since you didn't set num_leaves and 2^max_depth > num_leaves\n",
      "[('reranked_own_rec', 0.26555474981870925)]\n",
      "8 4 500\n"
     ]
    },
    {
     "data": {
      "application/vnd.jupyter.widget-view+json": {
       "model_id": "ef4bc464dc1749a6a17d7bbbddd276fa",
       "version_major": 2,
       "version_minor": 0
      },
      "text/plain": [
       "HBox(children=(HTML(value=''), FloatProgress(value=0.0, max=15.0), HTML(value='')))"
      ]
     },
     "metadata": {},
     "output_type": "display_data"
    },
    {
     "name": "stdout",
     "output_type": "stream",
     "text": [
      "\n"
     ]
    },
    {
     "data": {
      "application/vnd.jupyter.widget-view+json": {
       "model_id": "3882eb3f581541a3b008fede8eda6a5a",
       "version_major": 2,
       "version_minor": 0
      },
      "text/plain": [
       "HBox(children=(HTML(value=''), FloatProgress(value=0.0, max=501.0), HTML(value='')))"
      ]
     },
     "metadata": {},
     "output_type": "display_data"
    },
    {
     "name": "stdout",
     "output_type": "stream",
     "text": [
      "\n",
      "[LightGBM] [Warning] Accuracy may be bad since you didn't set num_leaves and 2^max_depth > num_leaves\n",
      "[('reranked_own_rec', 0.24191443074691807)]\n",
      "8 4 1000\n"
     ]
    },
    {
     "data": {
      "application/vnd.jupyter.widget-view+json": {
       "model_id": "1c2824cacec54207aba7f4a9d2a49dd7",
       "version_major": 2,
       "version_minor": 0
      },
      "text/plain": [
       "HBox(children=(HTML(value=''), FloatProgress(value=0.0, max=15.0), HTML(value='')))"
      ]
     },
     "metadata": {},
     "output_type": "display_data"
    },
    {
     "name": "stdout",
     "output_type": "stream",
     "text": [
      "\n"
     ]
    },
    {
     "data": {
      "application/vnd.jupyter.widget-view+json": {
       "model_id": "732ed57e144045e5b243a5669a468277",
       "version_major": 2,
       "version_minor": 0
      },
      "text/plain": [
       "HBox(children=(HTML(value=''), FloatProgress(value=0.0, max=1001.0), HTML(value='')))"
      ]
     },
     "metadata": {},
     "output_type": "display_data"
    },
    {
     "name": "stdout",
     "output_type": "stream",
     "text": [
      "\n",
      "[LightGBM] [Warning] Accuracy may be bad since you didn't set num_leaves and 2^max_depth > num_leaves\n",
      "[('reranked_own_rec', 0.2539521392313271)]\n",
      "8 4 2000\n"
     ]
    },
    {
     "data": {
      "application/vnd.jupyter.widget-view+json": {
       "model_id": "af6ff58459fc468a9d4d1341f52a4d4d",
       "version_major": 2,
       "version_minor": 0
      },
      "text/plain": [
       "HBox(children=(HTML(value=''), FloatProgress(value=0.0, max=15.0), HTML(value='')))"
      ]
     },
     "metadata": {},
     "output_type": "display_data"
    },
    {
     "name": "stdout",
     "output_type": "stream",
     "text": [
      "\n"
     ]
    },
    {
     "data": {
      "application/vnd.jupyter.widget-view+json": {
       "model_id": "39eef54ca70a4d3d8359e6a62b87a7d5",
       "version_major": 2,
       "version_minor": 0
      },
      "text/plain": [
       "HBox(children=(HTML(value=''), FloatProgress(value=0.0, max=2001.0), HTML(value='')))"
      ]
     },
     "metadata": {},
     "output_type": "display_data"
    },
    {
     "name": "stdout",
     "output_type": "stream",
     "text": [
      "\n",
      "[LightGBM] [Warning] Accuracy may be bad since you didn't set num_leaves and 2^max_depth > num_leaves\n",
      "[('reranked_own_rec', 0.2587382160986222)]\n",
      "8 4 3000\n"
     ]
    },
    {
     "data": {
      "application/vnd.jupyter.widget-view+json": {
       "model_id": "a7ae38e863eb4de98af71a62c466e8c9",
       "version_major": 2,
       "version_minor": 0
      },
      "text/plain": [
       "HBox(children=(HTML(value=''), FloatProgress(value=0.0, max=15.0), HTML(value='')))"
      ]
     },
     "metadata": {},
     "output_type": "display_data"
    },
    {
     "name": "stdout",
     "output_type": "stream",
     "text": [
      "\n"
     ]
    },
    {
     "data": {
      "application/vnd.jupyter.widget-view+json": {
       "model_id": "e435db25a1e54fefa7b18fd08a7576a5",
       "version_major": 2,
       "version_minor": 0
      },
      "text/plain": [
       "HBox(children=(HTML(value=''), FloatProgress(value=0.0, max=3001.0), HTML(value='')))"
      ]
     },
     "metadata": {},
     "output_type": "display_data"
    },
    {
     "name": "stdout",
     "output_type": "stream",
     "text": [
      "\n",
      "[LightGBM] [Warning] Accuracy may be bad since you didn't set num_leaves and 2^max_depth > num_leaves\n",
      "[('reranked_own_rec', 0.26410442349528646)]\n",
      "8 4 4000\n"
     ]
    },
    {
     "data": {
      "application/vnd.jupyter.widget-view+json": {
       "model_id": "606d5066598348bcb6c6630d7a48e73a",
       "version_major": 2,
       "version_minor": 0
      },
      "text/plain": [
       "HBox(children=(HTML(value=''), FloatProgress(value=0.0, max=15.0), HTML(value='')))"
      ]
     },
     "metadata": {},
     "output_type": "display_data"
    },
    {
     "name": "stdout",
     "output_type": "stream",
     "text": [
      "\n"
     ]
    },
    {
     "data": {
      "application/vnd.jupyter.widget-view+json": {
       "model_id": "4944c3b6290649578486ff697ad88836",
       "version_major": 2,
       "version_minor": 0
      },
      "text/plain": [
       "HBox(children=(HTML(value=''), FloatProgress(value=0.0, max=3999.0), HTML(value='')))"
      ]
     },
     "metadata": {},
     "output_type": "display_data"
    },
    {
     "name": "stdout",
     "output_type": "stream",
     "text": [
      "\n",
      "[LightGBM] [Warning] Accuracy may be bad since you didn't set num_leaves and 2^max_depth > num_leaves\n",
      "[('reranked_own_rec', 0.2600435097897027)]\n",
      "8 4 5000\n"
     ]
    },
    {
     "data": {
      "application/vnd.jupyter.widget-view+json": {
       "model_id": "f754ae1e0d17406989caafe54a1c5639",
       "version_major": 2,
       "version_minor": 0
      },
      "text/plain": [
       "HBox(children=(HTML(value=''), FloatProgress(value=0.0, max=15.0), HTML(value='')))"
      ]
     },
     "metadata": {},
     "output_type": "display_data"
    },
    {
     "name": "stdout",
     "output_type": "stream",
     "text": [
      "\n"
     ]
    },
    {
     "data": {
      "application/vnd.jupyter.widget-view+json": {
       "model_id": "fd2d79f4191446f39b513b952c56cfc4",
       "version_major": 2,
       "version_minor": 0
      },
      "text/plain": [
       "HBox(children=(HTML(value=''), FloatProgress(value=0.0, max=4998.0), HTML(value='')))"
      ]
     },
     "metadata": {},
     "output_type": "display_data"
    },
    {
     "name": "stdout",
     "output_type": "stream",
     "text": [
      "\n",
      "[LightGBM] [Warning] Accuracy may be bad since you didn't set num_leaves and 2^max_depth > num_leaves\n",
      "[('reranked_own_rec', 0.2677302393038434)]\n",
      "8 4 6000\n"
     ]
    },
    {
     "data": {
      "application/vnd.jupyter.widget-view+json": {
       "model_id": "999a38e2d99245868075c9f118b986b4",
       "version_major": 2,
       "version_minor": 0
      },
      "text/plain": [
       "HBox(children=(HTML(value=''), FloatProgress(value=0.0, max=15.0), HTML(value='')))"
      ]
     },
     "metadata": {},
     "output_type": "display_data"
    },
    {
     "name": "stdout",
     "output_type": "stream",
     "text": [
      "\n"
     ]
    },
    {
     "data": {
      "application/vnd.jupyter.widget-view+json": {
       "model_id": "159f7b23b70542cfa24a3576f7e7a81a",
       "version_major": 2,
       "version_minor": 0
      },
      "text/plain": [
       "HBox(children=(HTML(value=''), FloatProgress(value=0.0, max=5996.0), HTML(value='')))"
      ]
     },
     "metadata": {},
     "output_type": "display_data"
    },
    {
     "name": "stdout",
     "output_type": "stream",
     "text": [
      "\n",
      "[LightGBM] [Warning] Accuracy may be bad since you didn't set num_leaves and 2^max_depth > num_leaves\n",
      "[('reranked_own_rec', 0.26207396664249455)]\n",
      "8 5 500\n"
     ]
    },
    {
     "data": {
      "application/vnd.jupyter.widget-view+json": {
       "model_id": "21b8d906c045495ca4ec07b811957968",
       "version_major": 2,
       "version_minor": 0
      },
      "text/plain": [
       "HBox(children=(HTML(value=''), FloatProgress(value=0.0, max=15.0), HTML(value='')))"
      ]
     },
     "metadata": {},
     "output_type": "display_data"
    },
    {
     "name": "stdout",
     "output_type": "stream",
     "text": [
      "\n"
     ]
    },
    {
     "data": {
      "application/vnd.jupyter.widget-view+json": {
       "model_id": "3c6a46527e164e639dd7eb8dbee3b17c",
       "version_major": 2,
       "version_minor": 0
      },
      "text/plain": [
       "HBox(children=(HTML(value=''), FloatProgress(value=0.0, max=501.0), HTML(value='')))"
      ]
     },
     "metadata": {},
     "output_type": "display_data"
    },
    {
     "name": "stdout",
     "output_type": "stream",
     "text": [
      "\n",
      "[LightGBM] [Warning] Accuracy may be bad since you didn't set num_leaves and 2^max_depth > num_leaves\n",
      "[('reranked_own_rec', 0.23828861493836115)]\n",
      "8 5 1000\n"
     ]
    },
    {
     "data": {
      "application/vnd.jupyter.widget-view+json": {
       "model_id": "1d553f4b643f40a6b7b81cca2235f58d",
       "version_major": 2,
       "version_minor": 0
      },
      "text/plain": [
       "HBox(children=(HTML(value=''), FloatProgress(value=0.0, max=15.0), HTML(value='')))"
      ]
     },
     "metadata": {},
     "output_type": "display_data"
    },
    {
     "name": "stdout",
     "output_type": "stream",
     "text": [
      "\n"
     ]
    },
    {
     "data": {
      "application/vnd.jupyter.widget-view+json": {
       "model_id": "afb36abb49274bc2b29b15ffc59138de",
       "version_major": 2,
       "version_minor": 0
      },
      "text/plain": [
       "HBox(children=(HTML(value=''), FloatProgress(value=0.0, max=1001.0), HTML(value='')))"
      ]
     },
     "metadata": {},
     "output_type": "display_data"
    },
    {
     "name": "stdout",
     "output_type": "stream",
     "text": [
      "\n",
      "[LightGBM] [Warning] Accuracy may be bad since you didn't set num_leaves and 2^max_depth > num_leaves\n",
      "[('reranked_own_rec', 0.24539521392313268)]\n",
      "8 5 2000\n"
     ]
    },
    {
     "data": {
      "application/vnd.jupyter.widget-view+json": {
       "model_id": "bf93b09a98aa4801ad569f1f9546b3d5",
       "version_major": 2,
       "version_minor": 0
      },
      "text/plain": [
       "HBox(children=(HTML(value=''), FloatProgress(value=0.0, max=15.0), HTML(value='')))"
      ]
     },
     "metadata": {},
     "output_type": "display_data"
    },
    {
     "name": "stdout",
     "output_type": "stream",
     "text": [
      "\n"
     ]
    },
    {
     "data": {
      "application/vnd.jupyter.widget-view+json": {
       "model_id": "fff9fa4e49dc43d38b0206b577d96c00",
       "version_major": 2,
       "version_minor": 0
      },
      "text/plain": [
       "HBox(children=(HTML(value=''), FloatProgress(value=0.0, max=2001.0), HTML(value='')))"
      ]
     },
     "metadata": {},
     "output_type": "display_data"
    },
    {
     "name": "stdout",
     "output_type": "stream",
     "text": [
      "\n",
      "[LightGBM] [Warning] Accuracy may be bad since you didn't set num_leaves and 2^max_depth > num_leaves\n",
      "[('reranked_own_rec', 0.2540971718636693)]\n",
      "8 5 3000\n"
     ]
    },
    {
     "data": {
      "application/vnd.jupyter.widget-view+json": {
       "model_id": "12504927f5d64d6db79664f1de93816d",
       "version_major": 2,
       "version_minor": 0
      },
      "text/plain": [
       "HBox(children=(HTML(value=''), FloatProgress(value=0.0, max=15.0), HTML(value='')))"
      ]
     },
     "metadata": {},
     "output_type": "display_data"
    },
    {
     "name": "stdout",
     "output_type": "stream",
     "text": [
      "\n"
     ]
    },
    {
     "data": {
      "application/vnd.jupyter.widget-view+json": {
       "model_id": "85e19401299346dd9eff57ccf3c1759b",
       "version_major": 2,
       "version_minor": 0
      },
      "text/plain": [
       "HBox(children=(HTML(value=''), FloatProgress(value=0.0, max=3001.0), HTML(value='')))"
      ]
     },
     "metadata": {},
     "output_type": "display_data"
    },
    {
     "name": "stdout",
     "output_type": "stream",
     "text": [
      "\n",
      "[LightGBM] [Warning] Accuracy may be bad since you didn't set num_leaves and 2^max_depth > num_leaves\n",
      "[('reranked_own_rec', 0.25960841189267586)]\n",
      "8 5 4000\n"
     ]
    },
    {
     "data": {
      "application/vnd.jupyter.widget-view+json": {
       "model_id": "d4d20e86dc6842eea5c0d4be4e6b41d6",
       "version_major": 2,
       "version_minor": 0
      },
      "text/plain": [
       "HBox(children=(HTML(value=''), FloatProgress(value=0.0, max=15.0), HTML(value='')))"
      ]
     },
     "metadata": {},
     "output_type": "display_data"
    },
    {
     "name": "stdout",
     "output_type": "stream",
     "text": [
      "\n"
     ]
    },
    {
     "data": {
      "application/vnd.jupyter.widget-view+json": {
       "model_id": "2b54f6e057854e329d54601fbd6c6940",
       "version_major": 2,
       "version_minor": 0
      },
      "text/plain": [
       "HBox(children=(HTML(value=''), FloatProgress(value=0.0, max=4000.0), HTML(value='')))"
      ]
     },
     "metadata": {},
     "output_type": "display_data"
    },
    {
     "name": "stdout",
     "output_type": "stream",
     "text": [
      "\n",
      "[LightGBM] [Warning] Accuracy may be bad since you didn't set num_leaves and 2^max_depth > num_leaves\n",
      "[('reranked_own_rec', 0.2625090645395214)]\n",
      "8 5 5000\n"
     ]
    },
    {
     "data": {
      "application/vnd.jupyter.widget-view+json": {
       "model_id": "3ede5c215e934defbc26ac74eba7badf",
       "version_major": 2,
       "version_minor": 0
      },
      "text/plain": [
       "HBox(children=(HTML(value=''), FloatProgress(value=0.0, max=15.0), HTML(value='')))"
      ]
     },
     "metadata": {},
     "output_type": "display_data"
    },
    {
     "name": "stdout",
     "output_type": "stream",
     "text": [
      "\n"
     ]
    },
    {
     "data": {
      "application/vnd.jupyter.widget-view+json": {
       "model_id": "7fa998c11df64551aac4812b8b0f3c32",
       "version_major": 2,
       "version_minor": 0
      },
      "text/plain": [
       "HBox(children=(HTML(value=''), FloatProgress(value=0.0, max=4998.0), HTML(value='')))"
      ]
     },
     "metadata": {},
     "output_type": "display_data"
    },
    {
     "name": "stdout",
     "output_type": "stream",
     "text": [
      "\n",
      "[LightGBM] [Warning] Accuracy may be bad since you didn't set num_leaves and 2^max_depth > num_leaves\n",
      "[('reranked_own_rec', 0.2612037708484409)]\n",
      "8 5 6000\n"
     ]
    },
    {
     "data": {
      "application/vnd.jupyter.widget-view+json": {
       "model_id": "8469c80a987b4793ba7fd5ed3187e4f1",
       "version_major": 2,
       "version_minor": 0
      },
      "text/plain": [
       "HBox(children=(HTML(value=''), FloatProgress(value=0.0, max=15.0), HTML(value='')))"
      ]
     },
     "metadata": {},
     "output_type": "display_data"
    },
    {
     "name": "stdout",
     "output_type": "stream",
     "text": [
      "\n"
     ]
    },
    {
     "data": {
      "application/vnd.jupyter.widget-view+json": {
       "model_id": "a092e43225674c0fa2cbb087f7d88a76",
       "version_major": 2,
       "version_minor": 0
      },
      "text/plain": [
       "HBox(children=(HTML(value=''), FloatProgress(value=0.0, max=5996.0), HTML(value='')))"
      ]
     },
     "metadata": {},
     "output_type": "display_data"
    },
    {
     "name": "stdout",
     "output_type": "stream",
     "text": [
      "\n",
      "[LightGBM] [Warning] Accuracy may be bad since you didn't set num_leaves and 2^max_depth > num_leaves\n",
      "[('reranked_own_rec', 0.2587382160986222)]\n",
      "8 6 500\n"
     ]
    },
    {
     "data": {
      "application/vnd.jupyter.widget-view+json": {
       "model_id": "80699a598b1e409cb9bd6d5ae7881768",
       "version_major": 2,
       "version_minor": 0
      },
      "text/plain": [
       "HBox(children=(HTML(value=''), FloatProgress(value=0.0, max=15.0), HTML(value='')))"
      ]
     },
     "metadata": {},
     "output_type": "display_data"
    },
    {
     "name": "stdout",
     "output_type": "stream",
     "text": [
      "\n"
     ]
    },
    {
     "data": {
      "application/vnd.jupyter.widget-view+json": {
       "model_id": "0bab979ca98242fb92714366ce258300",
       "version_major": 2,
       "version_minor": 0
      },
      "text/plain": [
       "HBox(children=(HTML(value=''), FloatProgress(value=0.0, max=501.0), HTML(value='')))"
      ]
     },
     "metadata": {},
     "output_type": "display_data"
    },
    {
     "name": "stdout",
     "output_type": "stream",
     "text": [
      "\n",
      "[LightGBM] [Warning] Accuracy may be bad since you didn't set num_leaves and 2^max_depth > num_leaves\n",
      "[('reranked_own_rec', 0.24655547498187091)]\n",
      "8 6 1000\n"
     ]
    },
    {
     "data": {
      "application/vnd.jupyter.widget-view+json": {
       "model_id": "45edd3d243df47a8a13b5666850f8af6",
       "version_major": 2,
       "version_minor": 0
      },
      "text/plain": [
       "HBox(children=(HTML(value=''), FloatProgress(value=0.0, max=15.0), HTML(value='')))"
      ]
     },
     "metadata": {},
     "output_type": "display_data"
    },
    {
     "name": "stdout",
     "output_type": "stream",
     "text": [
      "\n"
     ]
    },
    {
     "data": {
      "application/vnd.jupyter.widget-view+json": {
       "model_id": "3771ae8802a5460c801a8f2e04a7de76",
       "version_major": 2,
       "version_minor": 0
      },
      "text/plain": [
       "HBox(children=(HTML(value=''), FloatProgress(value=0.0, max=1001.0), HTML(value='')))"
      ]
     },
     "metadata": {},
     "output_type": "display_data"
    },
    {
     "name": "stdout",
     "output_type": "stream",
     "text": [
      "\n",
      "[LightGBM] [Warning] Accuracy may be bad since you didn't set num_leaves and 2^max_depth > num_leaves\n",
      "[('reranked_own_rec', 0.2526468455402465)]\n",
      "8 6 2000\n"
     ]
    },
    {
     "data": {
      "application/vnd.jupyter.widget-view+json": {
       "model_id": "7110ec754ddf4e4a90ebafaff78752b0",
       "version_major": 2,
       "version_minor": 0
      },
      "text/plain": [
       "HBox(children=(HTML(value=''), FloatProgress(value=0.0, max=15.0), HTML(value='')))"
      ]
     },
     "metadata": {},
     "output_type": "display_data"
    },
    {
     "name": "stdout",
     "output_type": "stream",
     "text": [
      "\n"
     ]
    },
    {
     "data": {
      "application/vnd.jupyter.widget-view+json": {
       "model_id": "6353a4b26da4469da2099a04a9acc20f",
       "version_major": 2,
       "version_minor": 0
      },
      "text/plain": [
       "HBox(children=(HTML(value=''), FloatProgress(value=0.0, max=2001.0), HTML(value='')))"
      ]
     },
     "metadata": {},
     "output_type": "display_data"
    },
    {
     "name": "stdout",
     "output_type": "stream",
     "text": [
      "\n",
      "[LightGBM] [Warning] Accuracy may be bad since you didn't set num_leaves and 2^max_depth > num_leaves\n",
      "[('reranked_own_rec', 0.25960841189267586)]\n",
      "8 6 3000\n"
     ]
    },
    {
     "data": {
      "application/vnd.jupyter.widget-view+json": {
       "model_id": "ef1acd5cf86441ce820479a3ba919644",
       "version_major": 2,
       "version_minor": 0
      },
      "text/plain": [
       "HBox(children=(HTML(value=''), FloatProgress(value=0.0, max=15.0), HTML(value='')))"
      ]
     },
     "metadata": {},
     "output_type": "display_data"
    },
    {
     "name": "stdout",
     "output_type": "stream",
     "text": [
      "\n"
     ]
    },
    {
     "data": {
      "application/vnd.jupyter.widget-view+json": {
       "model_id": "c326ff72d8034d26924cabc1d6080cbb",
       "version_major": 2,
       "version_minor": 0
      },
      "text/plain": [
       "HBox(children=(HTML(value=''), FloatProgress(value=0.0, max=3001.0), HTML(value='')))"
      ]
     },
     "metadata": {},
     "output_type": "display_data"
    },
    {
     "name": "stdout",
     "output_type": "stream",
     "text": [
      "\n",
      "[LightGBM] [Warning] Accuracy may be bad since you didn't set num_leaves and 2^max_depth > num_leaves\n",
      "[('reranked_own_rec', 0.2574329224075417)]\n",
      "8 6 4000\n"
     ]
    },
    {
     "data": {
      "application/vnd.jupyter.widget-view+json": {
       "model_id": "783fd71e65854f27a2a7ff6d96c57f23",
       "version_major": 2,
       "version_minor": 0
      },
      "text/plain": [
       "HBox(children=(HTML(value=''), FloatProgress(value=0.0, max=15.0), HTML(value='')))"
      ]
     },
     "metadata": {},
     "output_type": "display_data"
    },
    {
     "name": "stdout",
     "output_type": "stream",
     "text": [
      "\n"
     ]
    },
    {
     "data": {
      "application/vnd.jupyter.widget-view+json": {
       "model_id": "1048662c424149428cba675498105c51",
       "version_major": 2,
       "version_minor": 0
      },
      "text/plain": [
       "HBox(children=(HTML(value=''), FloatProgress(value=0.0, max=4000.0), HTML(value='')))"
      ]
     },
     "metadata": {},
     "output_type": "display_data"
    },
    {
     "name": "stdout",
     "output_type": "stream",
     "text": [
      "\n",
      "[LightGBM] [Warning] Accuracy may be bad since you didn't set num_leaves and 2^max_depth > num_leaves\n",
      "[('reranked_own_rec', 0.26221899927483683)]\n",
      "8 6 5000\n"
     ]
    },
    {
     "data": {
      "application/vnd.jupyter.widget-view+json": {
       "model_id": "ee57a77b3e9f4fee85f4b8b136c676e2",
       "version_major": 2,
       "version_minor": 0
      },
      "text/plain": [
       "HBox(children=(HTML(value=''), FloatProgress(value=0.0, max=15.0), HTML(value='')))"
      ]
     },
     "metadata": {},
     "output_type": "display_data"
    },
    {
     "name": "stdout",
     "output_type": "stream",
     "text": [
      "\n"
     ]
    },
    {
     "data": {
      "application/vnd.jupyter.widget-view+json": {
       "model_id": "ad9348953a6341c79fe30eb1ec9e40ba",
       "version_major": 2,
       "version_minor": 0
      },
      "text/plain": [
       "HBox(children=(HTML(value=''), FloatProgress(value=0.0, max=4997.0), HTML(value='')))"
      ]
     },
     "metadata": {},
     "output_type": "display_data"
    },
    {
     "name": "stdout",
     "output_type": "stream",
     "text": [
      "\n",
      "[LightGBM] [Warning] Accuracy may be bad since you didn't set num_leaves and 2^max_depth > num_leaves\n",
      "[('reranked_own_rec', 0.2629441624365482)]\n",
      "8 6 6000\n"
     ]
    },
    {
     "data": {
      "application/vnd.jupyter.widget-view+json": {
       "model_id": "289589c762484e1d92f8a31eb74eabac",
       "version_major": 2,
       "version_minor": 0
      },
      "text/plain": [
       "HBox(children=(HTML(value=''), FloatProgress(value=0.0, max=15.0), HTML(value='')))"
      ]
     },
     "metadata": {},
     "output_type": "display_data"
    },
    {
     "name": "stdout",
     "output_type": "stream",
     "text": [
      "\n"
     ]
    },
    {
     "data": {
      "application/vnd.jupyter.widget-view+json": {
       "model_id": "d1780263c46042169ba98b19a78df5ac",
       "version_major": 2,
       "version_minor": 0
      },
      "text/plain": [
       "HBox(children=(HTML(value=''), FloatProgress(value=0.0, max=5996.0), HTML(value='')))"
      ]
     },
     "metadata": {},
     "output_type": "display_data"
    },
    {
     "name": "stdout",
     "output_type": "stream",
     "text": [
      "\n",
      "[LightGBM] [Warning] Accuracy may be bad since you didn't set num_leaves and 2^max_depth > num_leaves\n",
      "[('reranked_own_rec', 0.2580130529369108)]\n",
      "9 1 500\n"
     ]
    },
    {
     "data": {
      "application/vnd.jupyter.widget-view+json": {
       "model_id": "2c0ab1073a014b98af633805a2d42bcc",
       "version_major": 2,
       "version_minor": 0
      },
      "text/plain": [
       "HBox(children=(HTML(value=''), FloatProgress(value=0.0, max=15.0), HTML(value='')))"
      ]
     },
     "metadata": {},
     "output_type": "display_data"
    },
    {
     "name": "stdout",
     "output_type": "stream",
     "text": [
      "\n"
     ]
    },
    {
     "data": {
      "application/vnd.jupyter.widget-view+json": {
       "model_id": "536241b59cdb4e58b82369f30862dae7",
       "version_major": 2,
       "version_minor": 0
      },
      "text/plain": [
       "HBox(children=(HTML(value=''), FloatProgress(value=0.0, max=501.0), HTML(value='')))"
      ]
     },
     "metadata": {},
     "output_type": "display_data"
    },
    {
     "name": "stdout",
     "output_type": "stream",
     "text": [
      "\n",
      "[LightGBM] [Warning] Accuracy may be bad since you didn't set num_leaves and 2^max_depth > num_leaves\n",
      "[('reranked_own_rec', 0.24771573604060915)]\n",
      "9 1 1000\n"
     ]
    },
    {
     "data": {
      "application/vnd.jupyter.widget-view+json": {
       "model_id": "a08e59b23e7a4d8f9dcaadf0dc8e3320",
       "version_major": 2,
       "version_minor": 0
      },
      "text/plain": [
       "HBox(children=(HTML(value=''), FloatProgress(value=0.0, max=15.0), HTML(value='')))"
      ]
     },
     "metadata": {},
     "output_type": "display_data"
    },
    {
     "name": "stdout",
     "output_type": "stream",
     "text": [
      "\n"
     ]
    },
    {
     "data": {
      "application/vnd.jupyter.widget-view+json": {
       "model_id": "4e377d76170e4a14b3e24f22f803fa56",
       "version_major": 2,
       "version_minor": 0
      },
      "text/plain": [
       "HBox(children=(HTML(value=''), FloatProgress(value=0.0, max=1001.0), HTML(value='')))"
      ]
     },
     "metadata": {},
     "output_type": "display_data"
    },
    {
     "name": "stdout",
     "output_type": "stream",
     "text": [
      "\n",
      "[LightGBM] [Warning] Accuracy may be bad since you didn't set num_leaves and 2^max_depth > num_leaves\n",
      "[('reranked_own_rec', 0.26352429296591734)]\n",
      "9 1 2000\n"
     ]
    },
    {
     "data": {
      "application/vnd.jupyter.widget-view+json": {
       "model_id": "ddb913a3f3c14f0da0e2d97dbcf8c446",
       "version_major": 2,
       "version_minor": 0
      },
      "text/plain": [
       "HBox(children=(HTML(value=''), FloatProgress(value=0.0, max=15.0), HTML(value='')))"
      ]
     },
     "metadata": {},
     "output_type": "display_data"
    },
    {
     "name": "stdout",
     "output_type": "stream",
     "text": [
      "\n"
     ]
    },
    {
     "data": {
      "application/vnd.jupyter.widget-view+json": {
       "model_id": "a26b9c5e1fb748bd8b9959ffeff8ec55",
       "version_major": 2,
       "version_minor": 0
      },
      "text/plain": [
       "HBox(children=(HTML(value=''), FloatProgress(value=0.0, max=2001.0), HTML(value='')))"
      ]
     },
     "metadata": {},
     "output_type": "display_data"
    },
    {
     "name": "stdout",
     "output_type": "stream",
     "text": [
      "\n",
      "[LightGBM] [Warning] Accuracy may be bad since you didn't set num_leaves and 2^max_depth > num_leaves\n",
      "[('reranked_own_rec', 0.26656997824510514)]\n",
      "9 1 3000\n"
     ]
    },
    {
     "data": {
      "application/vnd.jupyter.widget-view+json": {
       "model_id": "e4ac9bf6200741cfac1a062c40668df6",
       "version_major": 2,
       "version_minor": 0
      },
      "text/plain": [
       "HBox(children=(HTML(value=''), FloatProgress(value=0.0, max=15.0), HTML(value='')))"
      ]
     },
     "metadata": {},
     "output_type": "display_data"
    },
    {
     "name": "stdout",
     "output_type": "stream",
     "text": [
      "\n"
     ]
    },
    {
     "data": {
      "application/vnd.jupyter.widget-view+json": {
       "model_id": "02f4d50f365948628aa64acf3e16d483",
       "version_major": 2,
       "version_minor": 0
      },
      "text/plain": [
       "HBox(children=(HTML(value=''), FloatProgress(value=0.0, max=3001.0), HTML(value='')))"
      ]
     },
     "metadata": {},
     "output_type": "display_data"
    },
    {
     "name": "stdout",
     "output_type": "stream",
     "text": [
      "\n",
      "[LightGBM] [Warning] Accuracy may be bad since you didn't set num_leaves and 2^max_depth > num_leaves\n",
      "[('reranked_own_rec', 0.2729514140681653)]\n",
      "9 1 4000\n"
     ]
    },
    {
     "data": {
      "application/vnd.jupyter.widget-view+json": {
       "model_id": "62322a0fb6c8496d9b2edd62c787f16f",
       "version_major": 2,
       "version_minor": 0
      },
      "text/plain": [
       "HBox(children=(HTML(value=''), FloatProgress(value=0.0, max=15.0), HTML(value='')))"
      ]
     },
     "metadata": {},
     "output_type": "display_data"
    },
    {
     "name": "stdout",
     "output_type": "stream",
     "text": [
      "\n"
     ]
    },
    {
     "data": {
      "application/vnd.jupyter.widget-view+json": {
       "model_id": "faa661408377410f8918f531df4446b9",
       "version_major": 2,
       "version_minor": 0
      },
      "text/plain": [
       "HBox(children=(HTML(value=''), FloatProgress(value=0.0, max=4000.0), HTML(value='')))"
      ]
     },
     "metadata": {},
     "output_type": "display_data"
    },
    {
     "name": "stdout",
     "output_type": "stream",
     "text": [
      "\n",
      "[LightGBM] [Warning] Accuracy may be bad since you didn't set num_leaves and 2^max_depth > num_leaves\n",
      "[('reranked_own_rec', 0.2720812182741117)]\n",
      "9 1 5000\n"
     ]
    },
    {
     "data": {
      "application/vnd.jupyter.widget-view+json": {
       "model_id": "439a5f42ca6b4558bccbb65d45d36fc8",
       "version_major": 2,
       "version_minor": 0
      },
      "text/plain": [
       "HBox(children=(HTML(value=''), FloatProgress(value=0.0, max=15.0), HTML(value='')))"
      ]
     },
     "metadata": {},
     "output_type": "display_data"
    },
    {
     "name": "stdout",
     "output_type": "stream",
     "text": [
      "\n"
     ]
    },
    {
     "data": {
      "application/vnd.jupyter.widget-view+json": {
       "model_id": "80fd5b4577f44f83b89a92beaded655a",
       "version_major": 2,
       "version_minor": 0
      },
      "text/plain": [
       "HBox(children=(HTML(value=''), FloatProgress(value=0.0, max=4998.0), HTML(value='')))"
      ]
     },
     "metadata": {},
     "output_type": "display_data"
    },
    {
     "name": "stdout",
     "output_type": "stream",
     "text": [
      "\n",
      "[LightGBM] [Warning] Accuracy may be bad since you didn't set num_leaves and 2^max_depth > num_leaves\n",
      "[('reranked_own_rec', 0.26903553299492383)]\n",
      "9 1 6000\n"
     ]
    },
    {
     "data": {
      "application/vnd.jupyter.widget-view+json": {
       "model_id": "3b66f9ef1cba431391337c0cbb623942",
       "version_major": 2,
       "version_minor": 0
      },
      "text/plain": [
       "HBox(children=(HTML(value=''), FloatProgress(value=0.0, max=15.0), HTML(value='')))"
      ]
     },
     "metadata": {},
     "output_type": "display_data"
    },
    {
     "name": "stdout",
     "output_type": "stream",
     "text": [
      "\n"
     ]
    },
    {
     "data": {
      "application/vnd.jupyter.widget-view+json": {
       "model_id": "86caa7bdfcfa403ca0382ba1b89ee959",
       "version_major": 2,
       "version_minor": 0
      },
      "text/plain": [
       "HBox(children=(HTML(value=''), FloatProgress(value=0.0, max=5996.0), HTML(value='')))"
      ]
     },
     "metadata": {},
     "output_type": "display_data"
    },
    {
     "name": "stdout",
     "output_type": "stream",
     "text": [
      "\n",
      "[LightGBM] [Warning] Accuracy may be bad since you didn't set num_leaves and 2^max_depth > num_leaves\n",
      "[('reranked_own_rec', 0.2739666424945613)]\n",
      "9 2 500\n"
     ]
    },
    {
     "data": {
      "application/vnd.jupyter.widget-view+json": {
       "model_id": "1185b6a321e44fd08517de2c8fabe5b0",
       "version_major": 2,
       "version_minor": 0
      },
      "text/plain": [
       "HBox(children=(HTML(value=''), FloatProgress(value=0.0, max=15.0), HTML(value='')))"
      ]
     },
     "metadata": {},
     "output_type": "display_data"
    },
    {
     "name": "stdout",
     "output_type": "stream",
     "text": [
      "\n"
     ]
    },
    {
     "data": {
      "application/vnd.jupyter.widget-view+json": {
       "model_id": "12305ccf222343e88f5a162b8533fc51",
       "version_major": 2,
       "version_minor": 0
      },
      "text/plain": [
       "HBox(children=(HTML(value=''), FloatProgress(value=0.0, max=501.0), HTML(value='')))"
      ]
     },
     "metadata": {},
     "output_type": "display_data"
    },
    {
     "name": "stdout",
     "output_type": "stream",
     "text": [
      "\n",
      "[LightGBM] [Warning] Accuracy may be bad since you didn't set num_leaves and 2^max_depth > num_leaves\n",
      "[('reranked_own_rec', 0.24481508339376362)]\n",
      "9 2 1000\n"
     ]
    },
    {
     "data": {
      "application/vnd.jupyter.widget-view+json": {
       "model_id": "d458b7f0fe6f4c7bb7d187e8134f4439",
       "version_major": 2,
       "version_minor": 0
      },
      "text/plain": [
       "HBox(children=(HTML(value=''), FloatProgress(value=0.0, max=15.0), HTML(value='')))"
      ]
     },
     "metadata": {},
     "output_type": "display_data"
    },
    {
     "name": "stdout",
     "output_type": "stream",
     "text": [
      "\n"
     ]
    },
    {
     "data": {
      "application/vnd.jupyter.widget-view+json": {
       "model_id": "fd68413b800140a59ac19f0e6f3194ef",
       "version_major": 2,
       "version_minor": 0
      },
      "text/plain": [
       "HBox(children=(HTML(value=''), FloatProgress(value=0.0, max=1001.0), HTML(value='')))"
      ]
     },
     "metadata": {},
     "output_type": "display_data"
    },
    {
     "name": "stdout",
     "output_type": "stream",
     "text": [
      "\n",
      "[LightGBM] [Warning] Accuracy may be bad since you didn't set num_leaves and 2^max_depth > num_leaves\n",
      "[('reranked_own_rec', 0.2600435097897027)]\n",
      "9 2 2000\n"
     ]
    },
    {
     "data": {
      "application/vnd.jupyter.widget-view+json": {
       "model_id": "f800877e7b504ca09a5ec353e55d6d4d",
       "version_major": 2,
       "version_minor": 0
      },
      "text/plain": [
       "HBox(children=(HTML(value=''), FloatProgress(value=0.0, max=15.0), HTML(value='')))"
      ]
     },
     "metadata": {},
     "output_type": "display_data"
    },
    {
     "name": "stdout",
     "output_type": "stream",
     "text": [
      "\n"
     ]
    },
    {
     "data": {
      "application/vnd.jupyter.widget-view+json": {
       "model_id": "e6b7f28b05ee4fcda72cdc15c9a59aa3",
       "version_major": 2,
       "version_minor": 0
      },
      "text/plain": [
       "HBox(children=(HTML(value=''), FloatProgress(value=0.0, max=2001.0), HTML(value='')))"
      ]
     },
     "metadata": {},
     "output_type": "display_data"
    },
    {
     "name": "stdout",
     "output_type": "stream",
     "text": [
      "\n",
      "[LightGBM] [Warning] Accuracy may be bad since you didn't set num_leaves and 2^max_depth > num_leaves\n",
      "[('reranked_own_rec', 0.26279912980420594)]\n",
      "9 2 3000\n"
     ]
    },
    {
     "data": {
      "application/vnd.jupyter.widget-view+json": {
       "model_id": "61e6962fa8b14be7ae09124ed675339e",
       "version_major": 2,
       "version_minor": 0
      },
      "text/plain": [
       "HBox(children=(HTML(value=''), FloatProgress(value=0.0, max=15.0), HTML(value='')))"
      ]
     },
     "metadata": {},
     "output_type": "display_data"
    },
    {
     "name": "stdout",
     "output_type": "stream",
     "text": [
      "\n"
     ]
    },
    {
     "data": {
      "application/vnd.jupyter.widget-view+json": {
       "model_id": "3a7ad51ad5c94279ab4cf06e168b3588",
       "version_major": 2,
       "version_minor": 0
      },
      "text/plain": [
       "HBox(children=(HTML(value=''), FloatProgress(value=0.0, max=3001.0), HTML(value='')))"
      ]
     },
     "metadata": {},
     "output_type": "display_data"
    },
    {
     "name": "stdout",
     "output_type": "stream",
     "text": [
      "\n",
      "[LightGBM] [Warning] Accuracy may be bad since you didn't set num_leaves and 2^max_depth > num_leaves\n",
      "[('reranked_own_rec', 0.2710659898477158)]\n",
      "9 2 4000\n"
     ]
    },
    {
     "data": {
      "application/vnd.jupyter.widget-view+json": {
       "model_id": "0250e166db0c47bd919741c673488985",
       "version_major": 2,
       "version_minor": 0
      },
      "text/plain": [
       "HBox(children=(HTML(value=''), FloatProgress(value=0.0, max=15.0), HTML(value='')))"
      ]
     },
     "metadata": {},
     "output_type": "display_data"
    },
    {
     "name": "stdout",
     "output_type": "stream",
     "text": [
      "\n"
     ]
    },
    {
     "data": {
      "application/vnd.jupyter.widget-view+json": {
       "model_id": "330206dae7f84a08899d873a2d045a23",
       "version_major": 2,
       "version_minor": 0
      },
      "text/plain": [
       "HBox(children=(HTML(value=''), FloatProgress(value=0.0, max=3999.0), HTML(value='')))"
      ]
     },
     "metadata": {},
     "output_type": "display_data"
    },
    {
     "name": "stdout",
     "output_type": "stream",
     "text": [
      "\n",
      "[LightGBM] [Warning] Accuracy may be bad since you didn't set num_leaves and 2^max_depth > num_leaves\n",
      "[('reranked_own_rec', 0.26903553299492383)]\n",
      "9 2 5000\n"
     ]
    },
    {
     "data": {
      "application/vnd.jupyter.widget-view+json": {
       "model_id": "e27c2e394da34e30b0164f029c0d632f",
       "version_major": 2,
       "version_minor": 0
      },
      "text/plain": [
       "HBox(children=(HTML(value=''), FloatProgress(value=0.0, max=15.0), HTML(value='')))"
      ]
     },
     "metadata": {},
     "output_type": "display_data"
    },
    {
     "name": "stdout",
     "output_type": "stream",
     "text": [
      "\n"
     ]
    },
    {
     "data": {
      "application/vnd.jupyter.widget-view+json": {
       "model_id": "aae9cd13440247d9bcce007030221aa5",
       "version_major": 2,
       "version_minor": 0
      },
      "text/plain": [
       "HBox(children=(HTML(value=''), FloatProgress(value=0.0, max=4998.0), HTML(value='')))"
      ]
     },
     "metadata": {},
     "output_type": "display_data"
    },
    {
     "name": "stdout",
     "output_type": "stream",
     "text": [
      "\n",
      "[LightGBM] [Warning] Accuracy may be bad since you didn't set num_leaves and 2^max_depth > num_leaves\n",
      "[('reranked_own_rec', 0.26903553299492383)]\n",
      "9 2 6000\n"
     ]
    },
    {
     "data": {
      "application/vnd.jupyter.widget-view+json": {
       "model_id": "951a2e8b7b484b38b70e630ca9b960a9",
       "version_major": 2,
       "version_minor": 0
      },
      "text/plain": [
       "HBox(children=(HTML(value=''), FloatProgress(value=0.0, max=15.0), HTML(value='')))"
      ]
     },
     "metadata": {},
     "output_type": "display_data"
    },
    {
     "name": "stdout",
     "output_type": "stream",
     "text": [
      "\n"
     ]
    },
    {
     "data": {
      "application/vnd.jupyter.widget-view+json": {
       "model_id": "b9a650677fee49459c24122332214ed7",
       "version_major": 2,
       "version_minor": 0
      },
      "text/plain": [
       "HBox(children=(HTML(value=''), FloatProgress(value=0.0, max=5996.0), HTML(value='')))"
      ]
     },
     "metadata": {},
     "output_type": "display_data"
    },
    {
     "name": "stdout",
     "output_type": "stream",
     "text": [
      "\n",
      "[LightGBM] [Warning] Accuracy may be bad since you didn't set num_leaves and 2^max_depth > num_leaves\n",
      "[('reranked_own_rec', 0.26671501087744737)]\n",
      "9 3 500\n"
     ]
    },
    {
     "data": {
      "application/vnd.jupyter.widget-view+json": {
       "model_id": "718a916c726540779dbfe306cfae2c90",
       "version_major": 2,
       "version_minor": 0
      },
      "text/plain": [
       "HBox(children=(HTML(value=''), FloatProgress(value=0.0, max=15.0), HTML(value='')))"
      ]
     },
     "metadata": {},
     "output_type": "display_data"
    },
    {
     "name": "stdout",
     "output_type": "stream",
     "text": [
      "\n"
     ]
    },
    {
     "data": {
      "application/vnd.jupyter.widget-view+json": {
       "model_id": "c553925a96d0458d895c1e7ae22fb898",
       "version_major": 2,
       "version_minor": 0
      },
      "text/plain": [
       "HBox(children=(HTML(value=''), FloatProgress(value=0.0, max=501.0), HTML(value='')))"
      ]
     },
     "metadata": {},
     "output_type": "display_data"
    },
    {
     "name": "stdout",
     "output_type": "stream",
     "text": [
      "\n",
      "[LightGBM] [Warning] Accuracy may be bad since you didn't set num_leaves and 2^max_depth > num_leaves\n",
      "[('reranked_own_rec', 0.2467005076142132)]\n",
      "9 3 1000\n"
     ]
    },
    {
     "data": {
      "application/vnd.jupyter.widget-view+json": {
       "model_id": "c3824263bddd441a885a923e86a6ef93",
       "version_major": 2,
       "version_minor": 0
      },
      "text/plain": [
       "HBox(children=(HTML(value=''), FloatProgress(value=0.0, max=15.0), HTML(value='')))"
      ]
     },
     "metadata": {},
     "output_type": "display_data"
    },
    {
     "name": "stdout",
     "output_type": "stream",
     "text": [
      "\n"
     ]
    },
    {
     "data": {
      "application/vnd.jupyter.widget-view+json": {
       "model_id": "78ca34476d0343c0963ba7f4ec653cd5",
       "version_major": 2,
       "version_minor": 0
      },
      "text/plain": [
       "HBox(children=(HTML(value=''), FloatProgress(value=0.0, max=1001.0), HTML(value='')))"
      ]
     },
     "metadata": {},
     "output_type": "display_data"
    },
    {
     "name": "stdout",
     "output_type": "stream",
     "text": [
      "\n",
      "[LightGBM] [Warning] Accuracy may be bad since you didn't set num_leaves and 2^max_depth > num_leaves\n",
      "[('reranked_own_rec', 0.2620739666424946)]\n",
      "9 3 2000\n"
     ]
    },
    {
     "data": {
      "application/vnd.jupyter.widget-view+json": {
       "model_id": "e8cecd73fc8742c5b5edcf6f6b5e77dd",
       "version_major": 2,
       "version_minor": 0
      },
      "text/plain": [
       "HBox(children=(HTML(value=''), FloatProgress(value=0.0, max=15.0), HTML(value='')))"
      ]
     },
     "metadata": {},
     "output_type": "display_data"
    },
    {
     "name": "stdout",
     "output_type": "stream",
     "text": [
      "\n"
     ]
    },
    {
     "data": {
      "application/vnd.jupyter.widget-view+json": {
       "model_id": "94982649db49494d9ad1dcab11d87e78",
       "version_major": 2,
       "version_minor": 0
      },
      "text/plain": [
       "HBox(children=(HTML(value=''), FloatProgress(value=0.0, max=2001.0), HTML(value='')))"
      ]
     },
     "metadata": {},
     "output_type": "display_data"
    },
    {
     "name": "stdout",
     "output_type": "stream",
     "text": [
      "\n",
      "[LightGBM] [Warning] Accuracy may be bad since you didn't set num_leaves and 2^max_depth > num_leaves\n",
      "[('reranked_own_rec', 0.26656997824510514)]\n",
      "9 3 3000\n"
     ]
    },
    {
     "data": {
      "application/vnd.jupyter.widget-view+json": {
       "model_id": "39346c69fa194a4d8e4e89a72f0f5bde",
       "version_major": 2,
       "version_minor": 0
      },
      "text/plain": [
       "HBox(children=(HTML(value=''), FloatProgress(value=0.0, max=15.0), HTML(value='')))"
      ]
     },
     "metadata": {},
     "output_type": "display_data"
    },
    {
     "name": "stdout",
     "output_type": "stream",
     "text": [
      "\n"
     ]
    },
    {
     "data": {
      "application/vnd.jupyter.widget-view+json": {
       "model_id": "d7c935db6ea4494ea523dd4c413882eb",
       "version_major": 2,
       "version_minor": 0
      },
      "text/plain": [
       "HBox(children=(HTML(value=''), FloatProgress(value=0.0, max=3001.0), HTML(value='')))"
      ]
     },
     "metadata": {},
     "output_type": "display_data"
    },
    {
     "name": "stdout",
     "output_type": "stream",
     "text": [
      "\n",
      "[LightGBM] [Warning] Accuracy may be bad since you didn't set num_leaves and 2^max_depth > num_leaves\n",
      "[('reranked_own_rec', 0.26961566352429295)]\n",
      "9 3 4000\n"
     ]
    },
    {
     "data": {
      "application/vnd.jupyter.widget-view+json": {
       "model_id": "a021ab216466461bab0b63b0df0beaa4",
       "version_major": 2,
       "version_minor": 0
      },
      "text/plain": [
       "HBox(children=(HTML(value=''), FloatProgress(value=0.0, max=15.0), HTML(value='')))"
      ]
     },
     "metadata": {},
     "output_type": "display_data"
    },
    {
     "name": "stdout",
     "output_type": "stream",
     "text": [
      "\n"
     ]
    },
    {
     "data": {
      "application/vnd.jupyter.widget-view+json": {
       "model_id": "148826baff41442e83112ce88b015978",
       "version_major": 2,
       "version_minor": 0
      },
      "text/plain": [
       "HBox(children=(HTML(value=''), FloatProgress(value=0.0, max=3999.0), HTML(value='')))"
      ]
     },
     "metadata": {},
     "output_type": "display_data"
    },
    {
     "name": "stdout",
     "output_type": "stream",
     "text": [
      "\n",
      "[LightGBM] [Warning] Accuracy may be bad since you didn't set num_leaves and 2^max_depth > num_leaves\n",
      "[('reranked_own_rec', 0.267005076142132)]\n",
      "9 3 5000\n"
     ]
    },
    {
     "data": {
      "application/vnd.jupyter.widget-view+json": {
       "model_id": "ff55767e90664ba4aa8f1a83f8a277d2",
       "version_major": 2,
       "version_minor": 0
      },
      "text/plain": [
       "HBox(children=(HTML(value=''), FloatProgress(value=0.0, max=15.0), HTML(value='')))"
      ]
     },
     "metadata": {},
     "output_type": "display_data"
    },
    {
     "name": "stdout",
     "output_type": "stream",
     "text": [
      "\n"
     ]
    },
    {
     "data": {
      "application/vnd.jupyter.widget-view+json": {
       "model_id": "12aaabc8d149413ca36182973050287f",
       "version_major": 2,
       "version_minor": 0
      },
      "text/plain": [
       "HBox(children=(HTML(value=''), FloatProgress(value=0.0, max=4998.0), HTML(value='')))"
      ]
     },
     "metadata": {},
     "output_type": "display_data"
    },
    {
     "name": "stdout",
     "output_type": "stream",
     "text": [
      "\n",
      "[LightGBM] [Warning] Accuracy may be bad since you didn't set num_leaves and 2^max_depth > num_leaves\n",
      "[('reranked_own_rec', 0.26715010877447426)]\n",
      "9 3 6000\n"
     ]
    },
    {
     "data": {
      "application/vnd.jupyter.widget-view+json": {
       "model_id": "a19e6a88d8fc4a1c8ce6c3cc74279794",
       "version_major": 2,
       "version_minor": 0
      },
      "text/plain": [
       "HBox(children=(HTML(value=''), FloatProgress(value=0.0, max=15.0), HTML(value='')))"
      ]
     },
     "metadata": {},
     "output_type": "display_data"
    },
    {
     "name": "stdout",
     "output_type": "stream",
     "text": [
      "\n"
     ]
    },
    {
     "data": {
      "application/vnd.jupyter.widget-view+json": {
       "model_id": "7d5a1950c08d4518b7c615440066ef91",
       "version_major": 2,
       "version_minor": 0
      },
      "text/plain": [
       "HBox(children=(HTML(value=''), FloatProgress(value=0.0, max=5996.0), HTML(value='')))"
      ]
     },
     "metadata": {},
     "output_type": "display_data"
    },
    {
     "name": "stdout",
     "output_type": "stream",
     "text": [
      "\n",
      "[LightGBM] [Warning] Accuracy may be bad since you didn't set num_leaves and 2^max_depth > num_leaves\n",
      "[('reranked_own_rec', 0.2651196519216824)]\n",
      "9 4 500\n"
     ]
    },
    {
     "data": {
      "application/vnd.jupyter.widget-view+json": {
       "model_id": "ba0bab7f000d406cb44cc74d7a2fdbfb",
       "version_major": 2,
       "version_minor": 0
      },
      "text/plain": [
       "HBox(children=(HTML(value=''), FloatProgress(value=0.0, max=15.0), HTML(value='')))"
      ]
     },
     "metadata": {},
     "output_type": "display_data"
    },
    {
     "name": "stdout",
     "output_type": "stream",
     "text": [
      "\n"
     ]
    },
    {
     "data": {
      "application/vnd.jupyter.widget-view+json": {
       "model_id": "8b27cd6cc1d0476794bffc3349a2ade1",
       "version_major": 2,
       "version_minor": 0
      },
      "text/plain": [
       "HBox(children=(HTML(value=''), FloatProgress(value=0.0, max=501.0), HTML(value='')))"
      ]
     },
     "metadata": {},
     "output_type": "display_data"
    },
    {
     "name": "stdout",
     "output_type": "stream",
     "text": [
      "\n",
      "[LightGBM] [Warning] Accuracy may be bad since you didn't set num_leaves and 2^max_depth > num_leaves\n",
      "[('reranked_own_rec', 0.24467005076142134)]\n",
      "9 4 1000\n"
     ]
    },
    {
     "data": {
      "application/vnd.jupyter.widget-view+json": {
       "model_id": "d97a429c64744857a3f83c9a35e27284",
       "version_major": 2,
       "version_minor": 0
      },
      "text/plain": [
       "HBox(children=(HTML(value=''), FloatProgress(value=0.0, max=15.0), HTML(value='')))"
      ]
     },
     "metadata": {},
     "output_type": "display_data"
    },
    {
     "name": "stdout",
     "output_type": "stream",
     "text": [
      "\n"
     ]
    },
    {
     "data": {
      "application/vnd.jupyter.widget-view+json": {
       "model_id": "f5c88b0a0cc0492fa8149b8e6d09f267",
       "version_major": 2,
       "version_minor": 0
      },
      "text/plain": [
       "HBox(children=(HTML(value=''), FloatProgress(value=0.0, max=1001.0), HTML(value='')))"
      ]
     },
     "metadata": {},
     "output_type": "display_data"
    },
    {
     "name": "stdout",
     "output_type": "stream",
     "text": [
      "\n",
      "[LightGBM] [Warning] Accuracy may be bad since you didn't set num_leaves and 2^max_depth > num_leaves\n",
      "[('reranked_own_rec', 0.25786802030456857)]\n",
      "9 4 2000\n"
     ]
    },
    {
     "data": {
      "application/vnd.jupyter.widget-view+json": {
       "model_id": "22cf7fd6b10748928f7f497ec08a5a6a",
       "version_major": 2,
       "version_minor": 0
      },
      "text/plain": [
       "HBox(children=(HTML(value=''), FloatProgress(value=0.0, max=15.0), HTML(value='')))"
      ]
     },
     "metadata": {},
     "output_type": "display_data"
    },
    {
     "name": "stdout",
     "output_type": "stream",
     "text": [
      "\n"
     ]
    },
    {
     "data": {
      "application/vnd.jupyter.widget-view+json": {
       "model_id": "8e21ed2b5c9846f4b42658ea8b4d4a6f",
       "version_major": 2,
       "version_minor": 0
      },
      "text/plain": [
       "HBox(children=(HTML(value=''), FloatProgress(value=0.0, max=2001.0), HTML(value='')))"
      ]
     },
     "metadata": {},
     "output_type": "display_data"
    },
    {
     "name": "stdout",
     "output_type": "stream",
     "text": [
      "\n",
      "[LightGBM] [Warning] Accuracy may be bad since you didn't set num_leaves and 2^max_depth > num_leaves\n",
      "[('reranked_own_rec', 0.25960841189267586)]\n",
      "9 4 3000\n"
     ]
    },
    {
     "data": {
      "application/vnd.jupyter.widget-view+json": {
       "model_id": "224e3cd26ec74e17bc4425eba4c32917",
       "version_major": 2,
       "version_minor": 0
      },
      "text/plain": [
       "HBox(children=(HTML(value=''), FloatProgress(value=0.0, max=15.0), HTML(value='')))"
      ]
     },
     "metadata": {},
     "output_type": "display_data"
    },
    {
     "name": "stdout",
     "output_type": "stream",
     "text": [
      "\n"
     ]
    },
    {
     "data": {
      "application/vnd.jupyter.widget-view+json": {
       "model_id": "1767bcad11fe4943be8130ab13a60380",
       "version_major": 2,
       "version_minor": 0
      },
      "text/plain": [
       "HBox(children=(HTML(value=''), FloatProgress(value=0.0, max=3001.0), HTML(value='')))"
      ]
     },
     "metadata": {},
     "output_type": "display_data"
    },
    {
     "name": "stdout",
     "output_type": "stream",
     "text": [
      "\n",
      "[LightGBM] [Warning] Accuracy may be bad since you didn't set num_leaves and 2^max_depth > num_leaves\n",
      "[('reranked_own_rec', 0.265989847715736)]\n",
      "9 4 4000\n"
     ]
    },
    {
     "data": {
      "application/vnd.jupyter.widget-view+json": {
       "model_id": "0ed7345a97494119b4eb0962c0cdd0f4",
       "version_major": 2,
       "version_minor": 0
      },
      "text/plain": [
       "HBox(children=(HTML(value=''), FloatProgress(value=0.0, max=15.0), HTML(value='')))"
      ]
     },
     "metadata": {},
     "output_type": "display_data"
    },
    {
     "name": "stdout",
     "output_type": "stream",
     "text": [
      "\n"
     ]
    },
    {
     "data": {
      "application/vnd.jupyter.widget-view+json": {
       "model_id": "b4c7ca7c255d40a69c57229a885a9a33",
       "version_major": 2,
       "version_minor": 0
      },
      "text/plain": [
       "HBox(children=(HTML(value=''), FloatProgress(value=0.0, max=4000.0), HTML(value='')))"
      ]
     },
     "metadata": {},
     "output_type": "display_data"
    },
    {
     "name": "stdout",
     "output_type": "stream",
     "text": [
      "\n",
      "[LightGBM] [Warning] Accuracy may be bad since you didn't set num_leaves and 2^max_depth > num_leaves\n",
      "[('reranked_own_rec', 0.26424945612762873)]\n",
      "9 4 5000\n"
     ]
    },
    {
     "data": {
      "application/vnd.jupyter.widget-view+json": {
       "model_id": "0f40d22f4a5e46b88b30bc7bf4ed4e78",
       "version_major": 2,
       "version_minor": 0
      },
      "text/plain": [
       "HBox(children=(HTML(value=''), FloatProgress(value=0.0, max=15.0), HTML(value='')))"
      ]
     },
     "metadata": {},
     "output_type": "display_data"
    },
    {
     "name": "stdout",
     "output_type": "stream",
     "text": [
      "\n"
     ]
    },
    {
     "data": {
      "application/vnd.jupyter.widget-view+json": {
       "model_id": "9f750e43b1f54e6098fd3e05b56f344c",
       "version_major": 2,
       "version_minor": 0
      },
      "text/plain": [
       "HBox(children=(HTML(value=''), FloatProgress(value=0.0, max=4998.0), HTML(value='')))"
      ]
     },
     "metadata": {},
     "output_type": "display_data"
    },
    {
     "name": "stdout",
     "output_type": "stream",
     "text": [
      "\n",
      "[LightGBM] [Warning] Accuracy may be bad since you didn't set num_leaves and 2^max_depth > num_leaves\n",
      "[('reranked_own_rec', 0.2612037708484409)]\n",
      "9 4 6000\n"
     ]
    },
    {
     "data": {
      "application/vnd.jupyter.widget-view+json": {
       "model_id": "6788c4777bd448f3939da9ffeb255e4a",
       "version_major": 2,
       "version_minor": 0
      },
      "text/plain": [
       "HBox(children=(HTML(value=''), FloatProgress(value=0.0, max=15.0), HTML(value='')))"
      ]
     },
     "metadata": {},
     "output_type": "display_data"
    },
    {
     "name": "stdout",
     "output_type": "stream",
     "text": [
      "\n"
     ]
    },
    {
     "data": {
      "application/vnd.jupyter.widget-view+json": {
       "model_id": "6541f3bef09b4d7dbc9b64c9ffcfa766",
       "version_major": 2,
       "version_minor": 0
      },
      "text/plain": [
       "HBox(children=(HTML(value=''), FloatProgress(value=0.0, max=5996.0), HTML(value='')))"
      ]
     },
     "metadata": {},
     "output_type": "display_data"
    },
    {
     "name": "stdout",
     "output_type": "stream",
     "text": [
      "\n",
      "[LightGBM] [Warning] Accuracy may be bad since you didn't set num_leaves and 2^max_depth > num_leaves\n",
      "[('reranked_own_rec', 0.2638143582306019)]\n",
      "9 5 500\n"
     ]
    },
    {
     "data": {
      "application/vnd.jupyter.widget-view+json": {
       "model_id": "9dfb796c78e24909a34d8ddd6c939d39",
       "version_major": 2,
       "version_minor": 0
      },
      "text/plain": [
       "HBox(children=(HTML(value=''), FloatProgress(value=0.0, max=15.0), HTML(value='')))"
      ]
     },
     "metadata": {},
     "output_type": "display_data"
    },
    {
     "name": "stdout",
     "output_type": "stream",
     "text": [
      "\n"
     ]
    },
    {
     "data": {
      "application/vnd.jupyter.widget-view+json": {
       "model_id": "51b1f007e0c14ca5be104de074438af1",
       "version_major": 2,
       "version_minor": 0
      },
      "text/plain": [
       "HBox(children=(HTML(value=''), FloatProgress(value=0.0, max=501.0), HTML(value='')))"
      ]
     },
     "metadata": {},
     "output_type": "display_data"
    },
    {
     "name": "stdout",
     "output_type": "stream",
     "text": [
      "\n",
      "[LightGBM] [Warning] Accuracy may be bad since you didn't set num_leaves and 2^max_depth > num_leaves\n",
      "[('reranked_own_rec', 0.24191443074691807)]\n",
      "9 5 1000\n"
     ]
    },
    {
     "data": {
      "application/vnd.jupyter.widget-view+json": {
       "model_id": "fe48bb0a0c604ec3911d82a051d32853",
       "version_major": 2,
       "version_minor": 0
      },
      "text/plain": [
       "HBox(children=(HTML(value=''), FloatProgress(value=0.0, max=15.0), HTML(value='')))"
      ]
     },
     "metadata": {},
     "output_type": "display_data"
    },
    {
     "name": "stdout",
     "output_type": "stream",
     "text": [
      "\n"
     ]
    },
    {
     "data": {
      "application/vnd.jupyter.widget-view+json": {
       "model_id": "1037ed4f7683438e9d56fec05475153c",
       "version_major": 2,
       "version_minor": 0
      },
      "text/plain": [
       "HBox(children=(HTML(value=''), FloatProgress(value=0.0, max=1001.0), HTML(value='')))"
      ]
     },
     "metadata": {},
     "output_type": "display_data"
    },
    {
     "name": "stdout",
     "output_type": "stream",
     "text": [
      "\n",
      "[LightGBM] [Warning] Accuracy may be bad since you didn't set num_leaves and 2^max_depth > num_leaves\n",
      "[('reranked_own_rec', 0.2574329224075417)]\n",
      "9 5 2000\n"
     ]
    },
    {
     "data": {
      "application/vnd.jupyter.widget-view+json": {
       "model_id": "869437fe292e4fd19509d27c2ad51131",
       "version_major": 2,
       "version_minor": 0
      },
      "text/plain": [
       "HBox(children=(HTML(value=''), FloatProgress(value=0.0, max=15.0), HTML(value='')))"
      ]
     },
     "metadata": {},
     "output_type": "display_data"
    },
    {
     "name": "stdout",
     "output_type": "stream",
     "text": [
      "\n"
     ]
    },
    {
     "data": {
      "application/vnd.jupyter.widget-view+json": {
       "model_id": "35d23b027fed4801abc9d44efe49409f",
       "version_major": 2,
       "version_minor": 0
      },
      "text/plain": [
       "HBox(children=(HTML(value=''), FloatProgress(value=0.0, max=2001.0), HTML(value='')))"
      ]
     },
     "metadata": {},
     "output_type": "display_data"
    },
    {
     "name": "stdout",
     "output_type": "stream",
     "text": [
      "\n",
      "[LightGBM] [Warning] Accuracy may be bad since you didn't set num_leaves and 2^max_depth > num_leaves\n",
      "[('reranked_own_rec', 0.2580130529369108)]\n",
      "9 5 3000\n"
     ]
    },
    {
     "data": {
      "application/vnd.jupyter.widget-view+json": {
       "model_id": "9b279ee75ecc49a5989231d3e6f7ebd7",
       "version_major": 2,
       "version_minor": 0
      },
      "text/plain": [
       "HBox(children=(HTML(value=''), FloatProgress(value=0.0, max=15.0), HTML(value='')))"
      ]
     },
     "metadata": {},
     "output_type": "display_data"
    },
    {
     "name": "stdout",
     "output_type": "stream",
     "text": [
      "\n"
     ]
    },
    {
     "data": {
      "application/vnd.jupyter.widget-view+json": {
       "model_id": "bdb07355df9648f2bf52f04e68370fa3",
       "version_major": 2,
       "version_minor": 0
      },
      "text/plain": [
       "HBox(children=(HTML(value=''), FloatProgress(value=0.0, max=3001.0), HTML(value='')))"
      ]
     },
     "metadata": {},
     "output_type": "display_data"
    },
    {
     "name": "stdout",
     "output_type": "stream",
     "text": [
      "\n",
      "[LightGBM] [Warning] Accuracy may be bad since you didn't set num_leaves and 2^max_depth > num_leaves\n",
      "[('reranked_own_rec', 0.25975344452501814)]\n",
      "9 5 4000\n"
     ]
    },
    {
     "data": {
      "application/vnd.jupyter.widget-view+json": {
       "model_id": "5fca6a824186413ebeed8cb8cdb2d944",
       "version_major": 2,
       "version_minor": 0
      },
      "text/plain": [
       "HBox(children=(HTML(value=''), FloatProgress(value=0.0, max=15.0), HTML(value='')))"
      ]
     },
     "metadata": {},
     "output_type": "display_data"
    },
    {
     "name": "stdout",
     "output_type": "stream",
     "text": [
      "\n"
     ]
    },
    {
     "data": {
      "application/vnd.jupyter.widget-view+json": {
       "model_id": "d2e1d0ce923a4103ac72feb9cacd0178",
       "version_major": 2,
       "version_minor": 0
      },
      "text/plain": [
       "HBox(children=(HTML(value=''), FloatProgress(value=0.0, max=4000.0), HTML(value='')))"
      ]
     },
     "metadata": {},
     "output_type": "display_data"
    },
    {
     "name": "stdout",
     "output_type": "stream",
     "text": [
      "\n",
      "[LightGBM] [Warning] Accuracy may be bad since you didn't set num_leaves and 2^max_depth > num_leaves\n",
      "[('reranked_own_rec', 0.25975344452501814)]\n",
      "9 5 5000\n"
     ]
    },
    {
     "data": {
      "application/vnd.jupyter.widget-view+json": {
       "model_id": "98f5f16ad3704fd9b9266a66ef236558",
       "version_major": 2,
       "version_minor": 0
      },
      "text/plain": [
       "HBox(children=(HTML(value=''), FloatProgress(value=0.0, max=15.0), HTML(value='')))"
      ]
     },
     "metadata": {},
     "output_type": "display_data"
    },
    {
     "name": "stdout",
     "output_type": "stream",
     "text": [
      "\n"
     ]
    },
    {
     "data": {
      "application/vnd.jupyter.widget-view+json": {
       "model_id": "ca105fd26dee4c66ba088ceb288f5520",
       "version_major": 2,
       "version_minor": 0
      },
      "text/plain": [
       "HBox(children=(HTML(value=''), FloatProgress(value=0.0, max=4997.0), HTML(value='')))"
      ]
     },
     "metadata": {},
     "output_type": "display_data"
    },
    {
     "name": "stdout",
     "output_type": "stream",
     "text": [
      "\n",
      "[LightGBM] [Warning] Accuracy may be bad since you didn't set num_leaves and 2^max_depth > num_leaves\n",
      "[('reranked_own_rec', 0.25960841189267586)]\n",
      "9 5 6000\n"
     ]
    },
    {
     "data": {
      "application/vnd.jupyter.widget-view+json": {
       "model_id": "36c1ca6599af4fa29e6f2e56e0eb09cf",
       "version_major": 2,
       "version_minor": 0
      },
      "text/plain": [
       "HBox(children=(HTML(value=''), FloatProgress(value=0.0, max=15.0), HTML(value='')))"
      ]
     },
     "metadata": {},
     "output_type": "display_data"
    },
    {
     "name": "stdout",
     "output_type": "stream",
     "text": [
      "\n"
     ]
    },
    {
     "data": {
      "application/vnd.jupyter.widget-view+json": {
       "model_id": "e3d7e24bdaaf4e6ba5659414265785ce",
       "version_major": 2,
       "version_minor": 0
      },
      "text/plain": [
       "HBox(children=(HTML(value=''), FloatProgress(value=0.0, max=5996.0), HTML(value='')))"
      ]
     },
     "metadata": {},
     "output_type": "display_data"
    },
    {
     "name": "stdout",
     "output_type": "stream",
     "text": [
      "\n",
      "[LightGBM] [Warning] Accuracy may be bad since you didn't set num_leaves and 2^max_depth > num_leaves\n",
      "[('reranked_own_rec', 0.2632342277012328)]\n",
      "9 6 500\n"
     ]
    },
    {
     "data": {
      "application/vnd.jupyter.widget-view+json": {
       "model_id": "6210ec73e95445208c42163c9654d269",
       "version_major": 2,
       "version_minor": 0
      },
      "text/plain": [
       "HBox(children=(HTML(value=''), FloatProgress(value=0.0, max=15.0), HTML(value='')))"
      ]
     },
     "metadata": {},
     "output_type": "display_data"
    },
    {
     "name": "stdout",
     "output_type": "stream",
     "text": [
      "\n"
     ]
    },
    {
     "data": {
      "application/vnd.jupyter.widget-view+json": {
       "model_id": "c1b402cb407340f3b3638bab56e25db1",
       "version_major": 2,
       "version_minor": 0
      },
      "text/plain": [
       "HBox(children=(HTML(value=''), FloatProgress(value=0.0, max=501.0), HTML(value='')))"
      ]
     },
     "metadata": {},
     "output_type": "display_data"
    },
    {
     "name": "stdout",
     "output_type": "stream",
     "text": [
      "\n",
      "[LightGBM] [Warning] Accuracy may be bad since you didn't set num_leaves and 2^max_depth > num_leaves\n",
      "[('reranked_own_rec', 0.242929659173314)]\n",
      "9 6 1000\n"
     ]
    },
    {
     "data": {
      "application/vnd.jupyter.widget-view+json": {
       "model_id": "77dc161e9bb6433f91d8eb4526c0d6f4",
       "version_major": 2,
       "version_minor": 0
      },
      "text/plain": [
       "HBox(children=(HTML(value=''), FloatProgress(value=0.0, max=15.0), HTML(value='')))"
      ]
     },
     "metadata": {},
     "output_type": "display_data"
    },
    {
     "name": "stdout",
     "output_type": "stream",
     "text": [
      "\n"
     ]
    },
    {
     "data": {
      "application/vnd.jupyter.widget-view+json": {
       "model_id": "3570b43d264741f4a49c691e44b661f2",
       "version_major": 2,
       "version_minor": 0
      },
      "text/plain": [
       "HBox(children=(HTML(value=''), FloatProgress(value=0.0, max=1001.0), HTML(value='')))"
      ]
     },
     "metadata": {},
     "output_type": "display_data"
    },
    {
     "name": "stdout",
     "output_type": "stream",
     "text": [
      "\n",
      "[LightGBM] [Warning] Accuracy may be bad since you didn't set num_leaves and 2^max_depth > num_leaves\n",
      "[('reranked_own_rec', 0.2530819434372734)]\n",
      "9 6 2000\n"
     ]
    },
    {
     "data": {
      "application/vnd.jupyter.widget-view+json": {
       "model_id": "864bca25cc2b4df5b356bbbd81e8a796",
       "version_major": 2,
       "version_minor": 0
      },
      "text/plain": [
       "HBox(children=(HTML(value=''), FloatProgress(value=0.0, max=15.0), HTML(value='')))"
      ]
     },
     "metadata": {},
     "output_type": "display_data"
    },
    {
     "name": "stdout",
     "output_type": "stream",
     "text": [
      "\n"
     ]
    },
    {
     "data": {
      "application/vnd.jupyter.widget-view+json": {
       "model_id": "eaea8a73967f4243a61c8b6c8b9d9c49",
       "version_major": 2,
       "version_minor": 0
      },
      "text/plain": [
       "HBox(children=(HTML(value=''), FloatProgress(value=0.0, max=2001.0), HTML(value='')))"
      ]
     },
     "metadata": {},
     "output_type": "display_data"
    },
    {
     "name": "stdout",
     "output_type": "stream",
     "text": [
      "\n",
      "[LightGBM] [Warning] Accuracy may be bad since you didn't set num_leaves and 2^max_depth > num_leaves\n",
      "[('reranked_own_rec', 0.26134880348078315)]\n",
      "9 6 3000\n"
     ]
    },
    {
     "data": {
      "application/vnd.jupyter.widget-view+json": {
       "model_id": "0c5046c5e61c45d0a4debd00fbeb367c",
       "version_major": 2,
       "version_minor": 0
      },
      "text/plain": [
       "HBox(children=(HTML(value=''), FloatProgress(value=0.0, max=15.0), HTML(value='')))"
      ]
     },
     "metadata": {},
     "output_type": "display_data"
    },
    {
     "name": "stdout",
     "output_type": "stream",
     "text": [
      "\n"
     ]
    },
    {
     "data": {
      "application/vnd.jupyter.widget-view+json": {
       "model_id": "360d58c6f49c489ea602116dff7ea95e",
       "version_major": 2,
       "version_minor": 0
      },
      "text/plain": [
       "HBox(children=(HTML(value=''), FloatProgress(value=0.0, max=3001.0), HTML(value='')))"
      ]
     },
     "metadata": {},
     "output_type": "display_data"
    },
    {
     "name": "stdout",
     "output_type": "stream",
     "text": [
      "\n",
      "[LightGBM] [Warning] Accuracy may be bad since you didn't set num_leaves and 2^max_depth > num_leaves\n",
      "[('reranked_own_rec', 0.2587382160986222)]\n",
      "9 6 4000\n"
     ]
    },
    {
     "data": {
      "application/vnd.jupyter.widget-view+json": {
       "model_id": "d1c1a6957b68452f927b99ba6598b688",
       "version_major": 2,
       "version_minor": 0
      },
      "text/plain": [
       "HBox(children=(HTML(value=''), FloatProgress(value=0.0, max=15.0), HTML(value='')))"
      ]
     },
     "metadata": {},
     "output_type": "display_data"
    },
    {
     "name": "stdout",
     "output_type": "stream",
     "text": [
      "\n"
     ]
    },
    {
     "data": {
      "application/vnd.jupyter.widget-view+json": {
       "model_id": "d79850e0e88b4b489283457f2c9b4310",
       "version_major": 2,
       "version_minor": 0
      },
      "text/plain": [
       "HBox(children=(HTML(value=''), FloatProgress(value=0.0, max=4000.0), HTML(value='')))"
      ]
     },
     "metadata": {},
     "output_type": "display_data"
    },
    {
     "name": "stdout",
     "output_type": "stream",
     "text": [
      "\n",
      "[LightGBM] [Warning] Accuracy may be bad since you didn't set num_leaves and 2^max_depth > num_leaves\n",
      "[('reranked_own_rec', 0.2594633792603336)]\n",
      "9 6 5000\n"
     ]
    },
    {
     "data": {
      "application/vnd.jupyter.widget-view+json": {
       "model_id": "db9d3633102d47e3bd532c9d0ac11055",
       "version_major": 2,
       "version_minor": 0
      },
      "text/plain": [
       "HBox(children=(HTML(value=''), FloatProgress(value=0.0, max=15.0), HTML(value='')))"
      ]
     },
     "metadata": {},
     "output_type": "display_data"
    },
    {
     "name": "stdout",
     "output_type": "stream",
     "text": [
      "\n"
     ]
    },
    {
     "data": {
      "application/vnd.jupyter.widget-view+json": {
       "model_id": "44df260464424548ac73af610f4bd589",
       "version_major": 2,
       "version_minor": 0
      },
      "text/plain": [
       "HBox(children=(HTML(value=''), FloatProgress(value=0.0, max=4997.0), HTML(value='')))"
      ]
     },
     "metadata": {},
     "output_type": "display_data"
    },
    {
     "name": "stdout",
     "output_type": "stream",
     "text": [
      "\n",
      "[LightGBM] [Warning] Accuracy may be bad since you didn't set num_leaves and 2^max_depth > num_leaves\n",
      "[('reranked_own_rec', 0.2590282813633068)]\n",
      "9 6 6000\n"
     ]
    },
    {
     "data": {
      "application/vnd.jupyter.widget-view+json": {
       "model_id": "429b0e4f401f48218823db8d48fc5a7f",
       "version_major": 2,
       "version_minor": 0
      },
      "text/plain": [
       "HBox(children=(HTML(value=''), FloatProgress(value=0.0, max=15.0), HTML(value='')))"
      ]
     },
     "metadata": {},
     "output_type": "display_data"
    },
    {
     "name": "stdout",
     "output_type": "stream",
     "text": [
      "\n"
     ]
    },
    {
     "data": {
      "application/vnd.jupyter.widget-view+json": {
       "model_id": "779ff23674de470db89c4456455450bb",
       "version_major": 2,
       "version_minor": 0
      },
      "text/plain": [
       "HBox(children=(HTML(value=''), FloatProgress(value=0.0, max=5996.0), HTML(value='')))"
      ]
     },
     "metadata": {},
     "output_type": "display_data"
    },
    {
     "name": "stdout",
     "output_type": "stream",
     "text": [
      "\n",
      "[LightGBM] [Warning] Accuracy may be bad since you didn't set num_leaves and 2^max_depth > num_leaves\n",
      "[('reranked_own_rec', 0.2580130529369108)]\n",
      "10 1 500\n"
     ]
    },
    {
     "data": {
      "application/vnd.jupyter.widget-view+json": {
       "model_id": "51115a393c104eecb3915a2f1108d556",
       "version_major": 2,
       "version_minor": 0
      },
      "text/plain": [
       "HBox(children=(HTML(value=''), FloatProgress(value=0.0, max=15.0), HTML(value='')))"
      ]
     },
     "metadata": {},
     "output_type": "display_data"
    },
    {
     "name": "stdout",
     "output_type": "stream",
     "text": [
      "\n"
     ]
    },
    {
     "data": {
      "application/vnd.jupyter.widget-view+json": {
       "model_id": "c1f80e4c22b94848ab375512e30629cc",
       "version_major": 2,
       "version_minor": 0
      },
      "text/plain": [
       "HBox(children=(HTML(value=''), FloatProgress(value=0.0, max=501.0), HTML(value='')))"
      ]
     },
     "metadata": {},
     "output_type": "display_data"
    },
    {
     "name": "stdout",
     "output_type": "stream",
     "text": [
      "\n",
      "[LightGBM] [Warning] Accuracy may be bad since you didn't set num_leaves and 2^max_depth > num_leaves\n",
      "[('reranked_own_rec', 0.25525743292240755)]\n",
      "10 1 1000\n"
     ]
    },
    {
     "data": {
      "application/vnd.jupyter.widget-view+json": {
       "model_id": "891d04cf5f974e3f95bf1724f9112079",
       "version_major": 2,
       "version_minor": 0
      },
      "text/plain": [
       "HBox(children=(HTML(value=''), FloatProgress(value=0.0, max=15.0), HTML(value='')))"
      ]
     },
     "metadata": {},
     "output_type": "display_data"
    },
    {
     "name": "stdout",
     "output_type": "stream",
     "text": [
      "\n"
     ]
    },
    {
     "data": {
      "application/vnd.jupyter.widget-view+json": {
       "model_id": "ae88679b5fbb4bac90c34aa076ff58e2",
       "version_major": 2,
       "version_minor": 0
      },
      "text/plain": [
       "HBox(children=(HTML(value=''), FloatProgress(value=0.0, max=1001.0), HTML(value='')))"
      ]
     },
     "metadata": {},
     "output_type": "display_data"
    },
    {
     "name": "stdout",
     "output_type": "stream",
     "text": [
      "\n",
      "[LightGBM] [Warning] Accuracy may be bad since you didn't set num_leaves and 2^max_depth > num_leaves\n",
      "[('reranked_own_rec', 0.2636693255982596)]\n",
      "10 1 2000\n"
     ]
    },
    {
     "data": {
      "application/vnd.jupyter.widget-view+json": {
       "model_id": "72d4ca7397034caaad279efdf84ada83",
       "version_major": 2,
       "version_minor": 0
      },
      "text/plain": [
       "HBox(children=(HTML(value=''), FloatProgress(value=0.0, max=15.0), HTML(value='')))"
      ]
     },
     "metadata": {},
     "output_type": "display_data"
    },
    {
     "name": "stdout",
     "output_type": "stream",
     "text": [
      "\n"
     ]
    },
    {
     "data": {
      "application/vnd.jupyter.widget-view+json": {
       "model_id": "134f3665d9ae4ac6ab8691d515c28569",
       "version_major": 2,
       "version_minor": 0
      },
      "text/plain": [
       "HBox(children=(HTML(value=''), FloatProgress(value=0.0, max=2001.0), HTML(value='')))"
      ]
     },
     "metadata": {},
     "output_type": "display_data"
    },
    {
     "name": "stdout",
     "output_type": "stream",
     "text": [
      "\n",
      "[LightGBM] [Warning] Accuracy may be bad since you didn't set num_leaves and 2^max_depth > num_leaves\n",
      "[('reranked_own_rec', 0.27092095721537346)]\n",
      "10 1 3000\n"
     ]
    },
    {
     "data": {
      "application/vnd.jupyter.widget-view+json": {
       "model_id": "1cc27843e0f14e0d8b413a24b8982d77",
       "version_major": 2,
       "version_minor": 0
      },
      "text/plain": [
       "HBox(children=(HTML(value=''), FloatProgress(value=0.0, max=15.0), HTML(value='')))"
      ]
     },
     "metadata": {},
     "output_type": "display_data"
    },
    {
     "name": "stdout",
     "output_type": "stream",
     "text": [
      "\n"
     ]
    },
    {
     "data": {
      "application/vnd.jupyter.widget-view+json": {
       "model_id": "f791038d04d2483f844b9ba444f0de6b",
       "version_major": 2,
       "version_minor": 0
      },
      "text/plain": [
       "HBox(children=(HTML(value=''), FloatProgress(value=0.0, max=3001.0), HTML(value='')))"
      ]
     },
     "metadata": {},
     "output_type": "display_data"
    },
    {
     "name": "stdout",
     "output_type": "stream",
     "text": [
      "\n",
      "[LightGBM] [Warning] Accuracy may be bad since you didn't set num_leaves and 2^max_depth > num_leaves\n",
      "[('reranked_own_rec', 0.27483683828861494)]\n",
      "10 1 4000\n"
     ]
    },
    {
     "data": {
      "application/vnd.jupyter.widget-view+json": {
       "model_id": "9c418a63d8994c0c8f4dae4d292203f1",
       "version_major": 2,
       "version_minor": 0
      },
      "text/plain": [
       "HBox(children=(HTML(value=''), FloatProgress(value=0.0, max=15.0), HTML(value='')))"
      ]
     },
     "metadata": {},
     "output_type": "display_data"
    },
    {
     "name": "stdout",
     "output_type": "stream",
     "text": [
      "\n"
     ]
    },
    {
     "data": {
      "application/vnd.jupyter.widget-view+json": {
       "model_id": "d2d8aaaae5b74aa6b367b02212f7b417",
       "version_major": 2,
       "version_minor": 0
      },
      "text/plain": [
       "HBox(children=(HTML(value=''), FloatProgress(value=0.0, max=3999.0), HTML(value='')))"
      ]
     },
     "metadata": {},
     "output_type": "display_data"
    },
    {
     "name": "stdout",
     "output_type": "stream",
     "text": [
      "\n",
      "[LightGBM] [Warning] Accuracy may be bad since you didn't set num_leaves and 2^max_depth > num_leaves\n",
      "[('reranked_own_rec', 0.26918056562726617)]\n",
      "10 1 5000\n"
     ]
    },
    {
     "data": {
      "application/vnd.jupyter.widget-view+json": {
       "model_id": "84cf359acafa492bb9538ad08bc75d2e",
       "version_major": 2,
       "version_minor": 0
      },
      "text/plain": [
       "HBox(children=(HTML(value=''), FloatProgress(value=0.0, max=15.0), HTML(value='')))"
      ]
     },
     "metadata": {},
     "output_type": "display_data"
    },
    {
     "name": "stdout",
     "output_type": "stream",
     "text": [
      "\n"
     ]
    },
    {
     "data": {
      "application/vnd.jupyter.widget-view+json": {
       "model_id": "5c46fffd839b4483af310568bc4bd6c3",
       "version_major": 2,
       "version_minor": 0
      },
      "text/plain": [
       "HBox(children=(HTML(value=''), FloatProgress(value=0.0, max=4998.0), HTML(value='')))"
      ]
     },
     "metadata": {},
     "output_type": "display_data"
    },
    {
     "name": "stdout",
     "output_type": "stream",
     "text": [
      "\n",
      "[LightGBM] [Warning] Accuracy may be bad since you didn't set num_leaves and 2^max_depth > num_leaves\n",
      "[('reranked_own_rec', 0.2751269035532995)]\n",
      "10 1 6000\n"
     ]
    },
    {
     "data": {
      "application/vnd.jupyter.widget-view+json": {
       "model_id": "db93a78e501f43bbb78510bff7f7b44f",
       "version_major": 2,
       "version_minor": 0
      },
      "text/plain": [
       "HBox(children=(HTML(value=''), FloatProgress(value=0.0, max=15.0), HTML(value='')))"
      ]
     },
     "metadata": {},
     "output_type": "display_data"
    },
    {
     "name": "stdout",
     "output_type": "stream",
     "text": [
      "\n"
     ]
    },
    {
     "data": {
      "application/vnd.jupyter.widget-view+json": {
       "model_id": "9379fd66cf83463698813e7a67edf4a9",
       "version_major": 2,
       "version_minor": 0
      },
      "text/plain": [
       "HBox(children=(HTML(value=''), FloatProgress(value=0.0, max=5996.0), HTML(value='')))"
      ]
     },
     "metadata": {},
     "output_type": "display_data"
    },
    {
     "name": "stdout",
     "output_type": "stream",
     "text": [
      "\n",
      "[LightGBM] [Warning] Accuracy may be bad since you didn't set num_leaves and 2^max_depth > num_leaves\n",
      "[('reranked_own_rec', 0.2732414793328499)]\n",
      "10 2 500\n"
     ]
    },
    {
     "data": {
      "application/vnd.jupyter.widget-view+json": {
       "model_id": "df1cfd55acad4d5d8626d5a7fd2647a2",
       "version_major": 2,
       "version_minor": 0
      },
      "text/plain": [
       "HBox(children=(HTML(value=''), FloatProgress(value=0.0, max=15.0), HTML(value='')))"
      ]
     },
     "metadata": {},
     "output_type": "display_data"
    },
    {
     "name": "stdout",
     "output_type": "stream",
     "text": [
      "\n"
     ]
    },
    {
     "data": {
      "application/vnd.jupyter.widget-view+json": {
       "model_id": "3784221772f64d8bb7f976ca47fd6cfb",
       "version_major": 2,
       "version_minor": 0
      },
      "text/plain": [
       "HBox(children=(HTML(value=''), FloatProgress(value=0.0, max=501.0), HTML(value='')))"
      ]
     },
     "metadata": {},
     "output_type": "display_data"
    },
    {
     "name": "stdout",
     "output_type": "stream",
     "text": [
      "\n",
      "[LightGBM] [Warning] Accuracy may be bad since you didn't set num_leaves and 2^max_depth > num_leaves\n",
      "[('reranked_own_rec', 0.24815083393763596)]\n",
      "10 2 1000\n"
     ]
    },
    {
     "data": {
      "application/vnd.jupyter.widget-view+json": {
       "model_id": "6476e049c88245a38e2de0825b39adcf",
       "version_major": 2,
       "version_minor": 0
      },
      "text/plain": [
       "HBox(children=(HTML(value=''), FloatProgress(value=0.0, max=15.0), HTML(value='')))"
      ]
     },
     "metadata": {},
     "output_type": "display_data"
    },
    {
     "name": "stdout",
     "output_type": "stream",
     "text": [
      "\n"
     ]
    },
    {
     "data": {
      "application/vnd.jupyter.widget-view+json": {
       "model_id": "5f0cbad2a6824ad995967c14e71bd2d7",
       "version_major": 2,
       "version_minor": 0
      },
      "text/plain": [
       "HBox(children=(HTML(value=''), FloatProgress(value=0.0, max=1001.0), HTML(value='')))"
      ]
     },
     "metadata": {},
     "output_type": "display_data"
    },
    {
     "name": "stdout",
     "output_type": "stream",
     "text": [
      "\n",
      "[LightGBM] [Warning] Accuracy may be bad since you didn't set num_leaves and 2^max_depth > num_leaves\n",
      "[('reranked_own_rec', 0.25989847715736036)]\n",
      "10 2 2000\n"
     ]
    },
    {
     "data": {
      "application/vnd.jupyter.widget-view+json": {
       "model_id": "b75da3b2a83442e394a344c20938e569",
       "version_major": 2,
       "version_minor": 0
      },
      "text/plain": [
       "HBox(children=(HTML(value=''), FloatProgress(value=0.0, max=15.0), HTML(value='')))"
      ]
     },
     "metadata": {},
     "output_type": "display_data"
    },
    {
     "name": "stdout",
     "output_type": "stream",
     "text": [
      "\n"
     ]
    },
    {
     "data": {
      "application/vnd.jupyter.widget-view+json": {
       "model_id": "0deb3e04ca8448fd86361e8be0ba3878",
       "version_major": 2,
       "version_minor": 0
      },
      "text/plain": [
       "HBox(children=(HTML(value=''), FloatProgress(value=0.0, max=2001.0), HTML(value='')))"
      ]
     },
     "metadata": {},
     "output_type": "display_data"
    },
    {
     "name": "stdout",
     "output_type": "stream",
     "text": [
      "\n",
      "[LightGBM] [Warning] Accuracy may be bad since you didn't set num_leaves and 2^max_depth > num_leaves\n",
      "[('reranked_own_rec', 0.2713560551124003)]\n",
      "10 2 3000\n"
     ]
    },
    {
     "data": {
      "application/vnd.jupyter.widget-view+json": {
       "model_id": "55e69d73246f4bbf8ea9bb0c7c400300",
       "version_major": 2,
       "version_minor": 0
      },
      "text/plain": [
       "HBox(children=(HTML(value=''), FloatProgress(value=0.0, max=15.0), HTML(value='')))"
      ]
     },
     "metadata": {},
     "output_type": "display_data"
    },
    {
     "name": "stdout",
     "output_type": "stream",
     "text": [
      "\n"
     ]
    },
    {
     "data": {
      "application/vnd.jupyter.widget-view+json": {
       "model_id": "b18edb397b5440a29fde5ab254105e9e",
       "version_major": 2,
       "version_minor": 0
      },
      "text/plain": [
       "HBox(children=(HTML(value=''), FloatProgress(value=0.0, max=3001.0), HTML(value='')))"
      ]
     },
     "metadata": {},
     "output_type": "display_data"
    },
    {
     "name": "stdout",
     "output_type": "stream",
     "text": [
      "\n",
      "[LightGBM] [Warning] Accuracy may be bad since you didn't set num_leaves and 2^max_depth > num_leaves\n",
      "[('reranked_own_rec', 0.27338651196519215)]\n",
      "10 2 4000\n"
     ]
    },
    {
     "data": {
      "application/vnd.jupyter.widget-view+json": {
       "model_id": "faced8489c8a46daaaf6d4dc637430a1",
       "version_major": 2,
       "version_minor": 0
      },
      "text/plain": [
       "HBox(children=(HTML(value=''), FloatProgress(value=0.0, max=15.0), HTML(value='')))"
      ]
     },
     "metadata": {},
     "output_type": "display_data"
    },
    {
     "name": "stdout",
     "output_type": "stream",
     "text": [
      "\n"
     ]
    },
    {
     "data": {
      "application/vnd.jupyter.widget-view+json": {
       "model_id": "9c5b3c58987d41619ed518a092a9d520",
       "version_major": 2,
       "version_minor": 0
      },
      "text/plain": [
       "HBox(children=(HTML(value=''), FloatProgress(value=0.0, max=3999.0), HTML(value='')))"
      ]
     },
     "metadata": {},
     "output_type": "display_data"
    },
    {
     "name": "stdout",
     "output_type": "stream",
     "text": [
      "\n",
      "[LightGBM] [Warning] Accuracy may be bad since you didn't set num_leaves and 2^max_depth > num_leaves\n",
      "[('reranked_own_rec', 0.27338651196519215)]\n",
      "10 2 5000\n"
     ]
    },
    {
     "data": {
      "application/vnd.jupyter.widget-view+json": {
       "model_id": "7db904a00cdc40e8b1edd87c598daa29",
       "version_major": 2,
       "version_minor": 0
      },
      "text/plain": [
       "HBox(children=(HTML(value=''), FloatProgress(value=0.0, max=15.0), HTML(value='')))"
      ]
     },
     "metadata": {},
     "output_type": "display_data"
    },
    {
     "name": "stdout",
     "output_type": "stream",
     "text": [
      "\n"
     ]
    },
    {
     "data": {
      "application/vnd.jupyter.widget-view+json": {
       "model_id": "7f0995f6891a4a74be4d6a64adc1614f",
       "version_major": 2,
       "version_minor": 0
      },
      "text/plain": [
       "HBox(children=(HTML(value=''), FloatProgress(value=0.0, max=4998.0), HTML(value='')))"
      ]
     },
     "metadata": {},
     "output_type": "display_data"
    },
    {
     "name": "stdout",
     "output_type": "stream",
     "text": [
      "\n",
      "[LightGBM] [Warning] Accuracy may be bad since you didn't set num_leaves and 2^max_depth > num_leaves\n",
      "[('reranked_own_rec', 0.2773023930384337)]\n",
      "10 2 6000\n"
     ]
    },
    {
     "data": {
      "application/vnd.jupyter.widget-view+json": {
       "model_id": "928036bb07fc46fa89f8338aadb398a0",
       "version_major": 2,
       "version_minor": 0
      },
      "text/plain": [
       "HBox(children=(HTML(value=''), FloatProgress(value=0.0, max=15.0), HTML(value='')))"
      ]
     },
     "metadata": {},
     "output_type": "display_data"
    },
    {
     "name": "stdout",
     "output_type": "stream",
     "text": [
      "\n"
     ]
    },
    {
     "data": {
      "application/vnd.jupyter.widget-view+json": {
       "model_id": "5c159a54a2dd4a73b3cf5f822c464c76",
       "version_major": 2,
       "version_minor": 0
      },
      "text/plain": [
       "HBox(children=(HTML(value=''), FloatProgress(value=0.0, max=5996.0), HTML(value='')))"
      ]
     },
     "metadata": {},
     "output_type": "display_data"
    },
    {
     "name": "stdout",
     "output_type": "stream",
     "text": [
      "\n",
      "[LightGBM] [Warning] Accuracy may be bad since you didn't set num_leaves and 2^max_depth > num_leaves\n",
      "[('reranked_own_rec', 0.26569978245105147)]\n",
      "10 3 500\n"
     ]
    },
    {
     "data": {
      "application/vnd.jupyter.widget-view+json": {
       "model_id": "fa4f38f13cc1483a80e1fa4d8fe6903d",
       "version_major": 2,
       "version_minor": 0
      },
      "text/plain": [
       "HBox(children=(HTML(value=''), FloatProgress(value=0.0, max=15.0), HTML(value='')))"
      ]
     },
     "metadata": {},
     "output_type": "display_data"
    },
    {
     "name": "stdout",
     "output_type": "stream",
     "text": [
      "\n"
     ]
    },
    {
     "data": {
      "application/vnd.jupyter.widget-view+json": {
       "model_id": "16594a6d007d45e7b52d07752dbb4556",
       "version_major": 2,
       "version_minor": 0
      },
      "text/plain": [
       "HBox(children=(HTML(value=''), FloatProgress(value=0.0, max=501.0), HTML(value='')))"
      ]
     },
     "metadata": {},
     "output_type": "display_data"
    },
    {
     "name": "stdout",
     "output_type": "stream",
     "text": [
      "\n",
      "[LightGBM] [Warning] Accuracy may be bad since you didn't set num_leaves and 2^max_depth > num_leaves\n",
      "[('reranked_own_rec', 0.2516316171138506)]\n",
      "10 3 1000\n"
     ]
    },
    {
     "data": {
      "application/vnd.jupyter.widget-view+json": {
       "model_id": "f273328ba6814a3691cf500bfc5d048e",
       "version_major": 2,
       "version_minor": 0
      },
      "text/plain": [
       "HBox(children=(HTML(value=''), FloatProgress(value=0.0, max=15.0), HTML(value='')))"
      ]
     },
     "metadata": {},
     "output_type": "display_data"
    },
    {
     "name": "stdout",
     "output_type": "stream",
     "text": [
      "\n"
     ]
    },
    {
     "data": {
      "application/vnd.jupyter.widget-view+json": {
       "model_id": "32933935a2d4460d8e835536cf18556d",
       "version_major": 2,
       "version_minor": 0
      },
      "text/plain": [
       "HBox(children=(HTML(value=''), FloatProgress(value=0.0, max=1001.0), HTML(value='')))"
      ]
     },
     "metadata": {},
     "output_type": "display_data"
    },
    {
     "name": "stdout",
     "output_type": "stream",
     "text": [
      "\n",
      "[LightGBM] [Warning] Accuracy may be bad since you didn't set num_leaves and 2^max_depth > num_leaves\n",
      "[('reranked_own_rec', 0.2614938361131255)]\n",
      "10 3 2000\n"
     ]
    },
    {
     "data": {
      "application/vnd.jupyter.widget-view+json": {
       "model_id": "76a801f8d6f748fe9f72a183cff8bfb9",
       "version_major": 2,
       "version_minor": 0
      },
      "text/plain": [
       "HBox(children=(HTML(value=''), FloatProgress(value=0.0, max=15.0), HTML(value='')))"
      ]
     },
     "metadata": {},
     "output_type": "display_data"
    },
    {
     "name": "stdout",
     "output_type": "stream",
     "text": [
      "\n"
     ]
    },
    {
     "data": {
      "application/vnd.jupyter.widget-view+json": {
       "model_id": "8e76ed377e2e45948969bf32b77b5403",
       "version_major": 2,
       "version_minor": 0
      },
      "text/plain": [
       "HBox(children=(HTML(value=''), FloatProgress(value=0.0, max=2001.0), HTML(value='')))"
      ]
     },
     "metadata": {},
     "output_type": "display_data"
    },
    {
     "name": "stdout",
     "output_type": "stream",
     "text": [
      "\n",
      "[LightGBM] [Warning] Accuracy may be bad since you didn't set num_leaves and 2^max_depth > num_leaves\n",
      "[('reranked_own_rec', 0.2674401740391588)]\n",
      "10 3 3000\n"
     ]
    },
    {
     "data": {
      "application/vnd.jupyter.widget-view+json": {
       "model_id": "862dc206d3914b61b5685b5781c1ee11",
       "version_major": 2,
       "version_minor": 0
      },
      "text/plain": [
       "HBox(children=(HTML(value=''), FloatProgress(value=0.0, max=15.0), HTML(value='')))"
      ]
     },
     "metadata": {},
     "output_type": "display_data"
    },
    {
     "name": "stdout",
     "output_type": "stream",
     "text": [
      "\n"
     ]
    },
    {
     "data": {
      "application/vnd.jupyter.widget-view+json": {
       "model_id": "7e4d2f53da7a46538dc6d829a4d4f592",
       "version_major": 2,
       "version_minor": 0
      },
      "text/plain": [
       "HBox(children=(HTML(value=''), FloatProgress(value=0.0, max=3001.0), HTML(value='')))"
      ]
     },
     "metadata": {},
     "output_type": "display_data"
    },
    {
     "name": "stdout",
     "output_type": "stream",
     "text": [
      "\n",
      "[LightGBM] [Warning] Accuracy may be bad since you didn't set num_leaves and 2^max_depth > num_leaves\n",
      "[('reranked_own_rec', 0.26787527193618565)]\n",
      "10 3 4000\n"
     ]
    },
    {
     "data": {
      "application/vnd.jupyter.widget-view+json": {
       "model_id": "078f6c51be6f4242a87fc99a337b46c6",
       "version_major": 2,
       "version_minor": 0
      },
      "text/plain": [
       "HBox(children=(HTML(value=''), FloatProgress(value=0.0, max=15.0), HTML(value='')))"
      ]
     },
     "metadata": {},
     "output_type": "display_data"
    },
    {
     "name": "stdout",
     "output_type": "stream",
     "text": [
      "\n"
     ]
    },
    {
     "data": {
      "application/vnd.jupyter.widget-view+json": {
       "model_id": "2bf53d4932cd45f8a05303110854848d",
       "version_major": 2,
       "version_minor": 0
      },
      "text/plain": [
       "HBox(children=(HTML(value=''), FloatProgress(value=0.0, max=4000.0), HTML(value='')))"
      ]
     },
     "metadata": {},
     "output_type": "display_data"
    },
    {
     "name": "stdout",
     "output_type": "stream",
     "text": [
      "\n",
      "[LightGBM] [Warning] Accuracy may be bad since you didn't set num_leaves and 2^max_depth > num_leaves\n",
      "[('reranked_own_rec', 0.2707759245830312)]\n",
      "10 3 5000\n"
     ]
    },
    {
     "data": {
      "application/vnd.jupyter.widget-view+json": {
       "model_id": "602582075c8c49bd890ef58a8d8e86db",
       "version_major": 2,
       "version_minor": 0
      },
      "text/plain": [
       "HBox(children=(HTML(value=''), FloatProgress(value=0.0, max=15.0), HTML(value='')))"
      ]
     },
     "metadata": {},
     "output_type": "display_data"
    },
    {
     "name": "stdout",
     "output_type": "stream",
     "text": [
      "\n"
     ]
    },
    {
     "data": {
      "application/vnd.jupyter.widget-view+json": {
       "model_id": "bad090f9da424579b02cbfffb723a969",
       "version_major": 2,
       "version_minor": 0
      },
      "text/plain": [
       "HBox(children=(HTML(value=''), FloatProgress(value=0.0, max=4998.0), HTML(value='')))"
      ]
     },
     "metadata": {},
     "output_type": "display_data"
    },
    {
     "name": "stdout",
     "output_type": "stream",
     "text": [
      "\n",
      "[LightGBM] [Warning] Accuracy may be bad since you didn't set num_leaves and 2^max_depth > num_leaves\n",
      "[('reranked_own_rec', 0.26482958665699785)]\n",
      "10 3 6000\n"
     ]
    },
    {
     "data": {
      "application/vnd.jupyter.widget-view+json": {
       "model_id": "3a18a01eaef34e749fb314db3f95adca",
       "version_major": 2,
       "version_minor": 0
      },
      "text/plain": [
       "HBox(children=(HTML(value=''), FloatProgress(value=0.0, max=15.0), HTML(value='')))"
      ]
     },
     "metadata": {},
     "output_type": "display_data"
    },
    {
     "name": "stdout",
     "output_type": "stream",
     "text": [
      "\n"
     ]
    },
    {
     "data": {
      "application/vnd.jupyter.widget-view+json": {
       "model_id": "615cd8e81318450089a445d700352572",
       "version_major": 2,
       "version_minor": 0
      },
      "text/plain": [
       "HBox(children=(HTML(value=''), FloatProgress(value=0.0, max=5996.0), HTML(value='')))"
      ]
     },
     "metadata": {},
     "output_type": "display_data"
    },
    {
     "name": "stdout",
     "output_type": "stream",
     "text": [
      "\n",
      "[LightGBM] [Warning] Accuracy may be bad since you didn't set num_leaves and 2^max_depth > num_leaves\n",
      "[('reranked_own_rec', 0.2668600435097897)]\n",
      "10 4 500\n"
     ]
    },
    {
     "data": {
      "application/vnd.jupyter.widget-view+json": {
       "model_id": "74ae47a828cf4fc1bd854ff772a685b1",
       "version_major": 2,
       "version_minor": 0
      },
      "text/plain": [
       "HBox(children=(HTML(value=''), FloatProgress(value=0.0, max=15.0), HTML(value='')))"
      ]
     },
     "metadata": {},
     "output_type": "display_data"
    },
    {
     "name": "stdout",
     "output_type": "stream",
     "text": [
      "\n"
     ]
    },
    {
     "data": {
      "application/vnd.jupyter.widget-view+json": {
       "model_id": "ada251572aa94faca717941571533669",
       "version_major": 2,
       "version_minor": 0
      },
      "text/plain": [
       "HBox(children=(HTML(value=''), FloatProgress(value=0.0, max=501.0), HTML(value='')))"
      ]
     },
     "metadata": {},
     "output_type": "display_data"
    },
    {
     "name": "stdout",
     "output_type": "stream",
     "text": [
      "\n",
      "[LightGBM] [Warning] Accuracy may be bad since you didn't set num_leaves and 2^max_depth > num_leaves\n",
      "[('reranked_own_rec', 0.24321972443799858)]\n",
      "10 4 1000\n"
     ]
    },
    {
     "data": {
      "application/vnd.jupyter.widget-view+json": {
       "model_id": "7bf69e0ef75c40faaf55d0c7b25794d0",
       "version_major": 2,
       "version_minor": 0
      },
      "text/plain": [
       "HBox(children=(HTML(value=''), FloatProgress(value=0.0, max=15.0), HTML(value='')))"
      ]
     },
     "metadata": {},
     "output_type": "display_data"
    },
    {
     "name": "stdout",
     "output_type": "stream",
     "text": [
      "\n"
     ]
    },
    {
     "data": {
      "application/vnd.jupyter.widget-view+json": {
       "model_id": "dbd235b1f9bf4de08bf4eaad8d0b5f38",
       "version_major": 2,
       "version_minor": 0
      },
      "text/plain": [
       "HBox(children=(HTML(value=''), FloatProgress(value=0.0, max=1001.0), HTML(value='')))"
      ]
     },
     "metadata": {},
     "output_type": "display_data"
    },
    {
     "name": "stdout",
     "output_type": "stream",
     "text": [
      "\n",
      "[LightGBM] [Warning] Accuracy may be bad since you didn't set num_leaves and 2^max_depth > num_leaves\n",
      "[('reranked_own_rec', 0.2585931834662799)]\n",
      "10 4 2000\n"
     ]
    },
    {
     "data": {
      "application/vnd.jupyter.widget-view+json": {
       "model_id": "e2c1ee87d6cb470a95e02eb6f39c9d59",
       "version_major": 2,
       "version_minor": 0
      },
      "text/plain": [
       "HBox(children=(HTML(value=''), FloatProgress(value=0.0, max=15.0), HTML(value='')))"
      ]
     },
     "metadata": {},
     "output_type": "display_data"
    },
    {
     "name": "stdout",
     "output_type": "stream",
     "text": [
      "\n"
     ]
    },
    {
     "data": {
      "application/vnd.jupyter.widget-view+json": {
       "model_id": "23a99d487add42dda99f083ccd46f1a9",
       "version_major": 2,
       "version_minor": 0
      },
      "text/plain": [
       "HBox(children=(HTML(value=''), FloatProgress(value=0.0, max=2001.0), HTML(value='')))"
      ]
     },
     "metadata": {},
     "output_type": "display_data"
    },
    {
     "name": "stdout",
     "output_type": "stream",
     "text": [
      "\n",
      "[LightGBM] [Warning] Accuracy may be bad since you didn't set num_leaves and 2^max_depth > num_leaves\n",
      "[('reranked_own_rec', 0.2664249456127629)]\n",
      "10 4 3000\n"
     ]
    },
    {
     "data": {
      "application/vnd.jupyter.widget-view+json": {
       "model_id": "3390b6c1d20c49a281257859c90f4129",
       "version_major": 2,
       "version_minor": 0
      },
      "text/plain": [
       "HBox(children=(HTML(value=''), FloatProgress(value=0.0, max=15.0), HTML(value='')))"
      ]
     },
     "metadata": {},
     "output_type": "display_data"
    },
    {
     "name": "stdout",
     "output_type": "stream",
     "text": [
      "\n"
     ]
    },
    {
     "data": {
      "application/vnd.jupyter.widget-view+json": {
       "model_id": "9a5b83703c8643f9a8b7f2992d212229",
       "version_major": 2,
       "version_minor": 0
      },
      "text/plain": [
       "HBox(children=(HTML(value=''), FloatProgress(value=0.0, max=3001.0), HTML(value='')))"
      ]
     },
     "metadata": {},
     "output_type": "display_data"
    },
    {
     "name": "stdout",
     "output_type": "stream",
     "text": [
      "\n",
      "[LightGBM] [Warning] Accuracy may be bad since you didn't set num_leaves and 2^max_depth > num_leaves\n",
      "[('reranked_own_rec', 0.26715010877447426)]\n",
      "10 4 4000\n"
     ]
    },
    {
     "data": {
      "application/vnd.jupyter.widget-view+json": {
       "model_id": "fce3663a2571426b9dd50a9224b5cbed",
       "version_major": 2,
       "version_minor": 0
      },
      "text/plain": [
       "HBox(children=(HTML(value=''), FloatProgress(value=0.0, max=15.0), HTML(value='')))"
      ]
     },
     "metadata": {},
     "output_type": "display_data"
    },
    {
     "name": "stdout",
     "output_type": "stream",
     "text": [
      "\n"
     ]
    },
    {
     "data": {
      "application/vnd.jupyter.widget-view+json": {
       "model_id": "85834a927b074e8f962f5b6a94594ffa",
       "version_major": 2,
       "version_minor": 0
      },
      "text/plain": [
       "HBox(children=(HTML(value=''), FloatProgress(value=0.0, max=4000.0), HTML(value='')))"
      ]
     },
     "metadata": {},
     "output_type": "display_data"
    },
    {
     "name": "stdout",
     "output_type": "stream",
     "text": [
      "\n",
      "[LightGBM] [Warning] Accuracy may be bad since you didn't set num_leaves and 2^max_depth > num_leaves\n",
      "[('reranked_own_rec', 0.26569978245105147)]\n",
      "10 4 5000\n"
     ]
    },
    {
     "data": {
      "application/vnd.jupyter.widget-view+json": {
       "model_id": "091503c346f04d6387ab1b61190e61b3",
       "version_major": 2,
       "version_minor": 0
      },
      "text/plain": [
       "HBox(children=(HTML(value=''), FloatProgress(value=0.0, max=15.0), HTML(value='')))"
      ]
     },
     "metadata": {},
     "output_type": "display_data"
    },
    {
     "name": "stdout",
     "output_type": "stream",
     "text": [
      "\n"
     ]
    },
    {
     "data": {
      "application/vnd.jupyter.widget-view+json": {
       "model_id": "e0e33758c550483880592752afe41208",
       "version_major": 2,
       "version_minor": 0
      },
      "text/plain": [
       "HBox(children=(HTML(value=''), FloatProgress(value=0.0, max=4997.0), HTML(value='')))"
      ]
     },
     "metadata": {},
     "output_type": "display_data"
    },
    {
     "name": "stdout",
     "output_type": "stream",
     "text": [
      "\n",
      "[LightGBM] [Warning] Accuracy may be bad since you didn't set num_leaves and 2^max_depth > num_leaves\n",
      "[('reranked_own_rec', 0.26033357505438726)]\n",
      "10 4 6000\n"
     ]
    },
    {
     "data": {
      "application/vnd.jupyter.widget-view+json": {
       "model_id": "828f8b5f1bde425086d7109a6649148b",
       "version_major": 2,
       "version_minor": 0
      },
      "text/plain": [
       "HBox(children=(HTML(value=''), FloatProgress(value=0.0, max=15.0), HTML(value='')))"
      ]
     },
     "metadata": {},
     "output_type": "display_data"
    },
    {
     "name": "stdout",
     "output_type": "stream",
     "text": [
      "\n"
     ]
    },
    {
     "data": {
      "application/vnd.jupyter.widget-view+json": {
       "model_id": "2f41f512e4ae4877b13c790dcb89ab91",
       "version_major": 2,
       "version_minor": 0
      },
      "text/plain": [
       "HBox(children=(HTML(value=''), FloatProgress(value=0.0, max=5996.0), HTML(value='')))"
      ]
     },
     "metadata": {},
     "output_type": "display_data"
    },
    {
     "name": "stdout",
     "output_type": "stream",
     "text": [
      "\n",
      "[LightGBM] [Warning] Accuracy may be bad since you didn't set num_leaves and 2^max_depth > num_leaves\n",
      "[('reranked_own_rec', 0.26468455402465557)]\n",
      "10 5 500\n"
     ]
    },
    {
     "data": {
      "application/vnd.jupyter.widget-view+json": {
       "model_id": "a58fb71cf21a4b4caf14eb7a99b12341",
       "version_major": 2,
       "version_minor": 0
      },
      "text/plain": [
       "HBox(children=(HTML(value=''), FloatProgress(value=0.0, max=15.0), HTML(value='')))"
      ]
     },
     "metadata": {},
     "output_type": "display_data"
    },
    {
     "name": "stdout",
     "output_type": "stream",
     "text": [
      "\n"
     ]
    },
    {
     "data": {
      "application/vnd.jupyter.widget-view+json": {
       "model_id": "85b0249c8d4449949da1220746f6c809",
       "version_major": 2,
       "version_minor": 0
      },
      "text/plain": [
       "HBox(children=(HTML(value=''), FloatProgress(value=0.0, max=501.0), HTML(value='')))"
      ]
     },
     "metadata": {},
     "output_type": "display_data"
    },
    {
     "name": "stdout",
     "output_type": "stream",
     "text": [
      "\n",
      "[LightGBM] [Warning] Accuracy may be bad since you didn't set num_leaves and 2^max_depth > num_leaves\n",
      "[('reranked_own_rec', 0.23959390862944166)]\n",
      "10 5 1000\n"
     ]
    },
    {
     "data": {
      "application/vnd.jupyter.widget-view+json": {
       "model_id": "76483b9f6bea4989b1c90c7c550dfcc2",
       "version_major": 2,
       "version_minor": 0
      },
      "text/plain": [
       "HBox(children=(HTML(value=''), FloatProgress(value=0.0, max=15.0), HTML(value='')))"
      ]
     },
     "metadata": {},
     "output_type": "display_data"
    },
    {
     "name": "stdout",
     "output_type": "stream",
     "text": [
      "\n"
     ]
    },
    {
     "data": {
      "application/vnd.jupyter.widget-view+json": {
       "model_id": "6c54b00920eb481f88df22f86b989102",
       "version_major": 2,
       "version_minor": 0
      },
      "text/plain": [
       "HBox(children=(HTML(value=''), FloatProgress(value=0.0, max=1001.0), HTML(value='')))"
      ]
     },
     "metadata": {},
     "output_type": "display_data"
    },
    {
     "name": "stdout",
     "output_type": "stream",
     "text": [
      "\n",
      "[LightGBM] [Warning] Accuracy may be bad since you didn't set num_leaves and 2^max_depth > num_leaves\n",
      "[('reranked_own_rec', 0.2548223350253807)]\n",
      "10 5 2000\n"
     ]
    },
    {
     "data": {
      "application/vnd.jupyter.widget-view+json": {
       "model_id": "67d4bc5e1f1b41529cc91d938cff85a5",
       "version_major": 2,
       "version_minor": 0
      },
      "text/plain": [
       "HBox(children=(HTML(value=''), FloatProgress(value=0.0, max=15.0), HTML(value='')))"
      ]
     },
     "metadata": {},
     "output_type": "display_data"
    },
    {
     "name": "stdout",
     "output_type": "stream",
     "text": [
      "\n"
     ]
    },
    {
     "data": {
      "application/vnd.jupyter.widget-view+json": {
       "model_id": "8ea9f38f0de843e0893e007770aa6d99",
       "version_major": 2,
       "version_minor": 0
      },
      "text/plain": [
       "HBox(children=(HTML(value=''), FloatProgress(value=0.0, max=2001.0), HTML(value='')))"
      ]
     },
     "metadata": {},
     "output_type": "display_data"
    },
    {
     "name": "stdout",
     "output_type": "stream",
     "text": [
      "\n",
      "[LightGBM] [Warning] Accuracy may be bad since you didn't set num_leaves and 2^max_depth > num_leaves\n",
      "[('reranked_own_rec', 0.25888324873096447)]\n",
      "10 5 3000\n"
     ]
    },
    {
     "data": {
      "application/vnd.jupyter.widget-view+json": {
       "model_id": "63104ee9e08b4457966a5b073e5f5ea4",
       "version_major": 2,
       "version_minor": 0
      },
      "text/plain": [
       "HBox(children=(HTML(value=''), FloatProgress(value=0.0, max=15.0), HTML(value='')))"
      ]
     },
     "metadata": {},
     "output_type": "display_data"
    },
    {
     "name": "stdout",
     "output_type": "stream",
     "text": [
      "\n"
     ]
    },
    {
     "data": {
      "application/vnd.jupyter.widget-view+json": {
       "model_id": "5fd45a144c0f4e9b8cc602e2293893d6",
       "version_major": 2,
       "version_minor": 0
      },
      "text/plain": [
       "HBox(children=(HTML(value=''), FloatProgress(value=0.0, max=3001.0), HTML(value='')))"
      ]
     },
     "metadata": {},
     "output_type": "display_data"
    },
    {
     "name": "stdout",
     "output_type": "stream",
     "text": [
      "\n",
      "[LightGBM] [Warning] Accuracy may be bad since you didn't set num_leaves and 2^max_depth > num_leaves\n",
      "[('reranked_own_rec', 0.26033357505438726)]\n",
      "10 5 4000\n"
     ]
    },
    {
     "data": {
      "application/vnd.jupyter.widget-view+json": {
       "model_id": "398a7926dcb74e6983d09519ea0543d3",
       "version_major": 2,
       "version_minor": 0
      },
      "text/plain": [
       "HBox(children=(HTML(value=''), FloatProgress(value=0.0, max=15.0), HTML(value='')))"
      ]
     },
     "metadata": {},
     "output_type": "display_data"
    },
    {
     "name": "stdout",
     "output_type": "stream",
     "text": [
      "\n"
     ]
    },
    {
     "data": {
      "application/vnd.jupyter.widget-view+json": {
       "model_id": "6825ca1e249a4817a43113e70ead0bfe",
       "version_major": 2,
       "version_minor": 0
      },
      "text/plain": [
       "HBox(children=(HTML(value=''), FloatProgress(value=0.0, max=4000.0), HTML(value='')))"
      ]
     },
     "metadata": {},
     "output_type": "display_data"
    },
    {
     "name": "stdout",
     "output_type": "stream",
     "text": [
      "\n",
      "[LightGBM] [Warning] Accuracy may be bad since you didn't set num_leaves and 2^max_depth > num_leaves\n",
      "[('reranked_own_rec', 0.264394488759971)]\n",
      "10 5 5000\n"
     ]
    },
    {
     "data": {
      "application/vnd.jupyter.widget-view+json": {
       "model_id": "c00d40a5a8b74056aa646c4b7b703a1a",
       "version_major": 2,
       "version_minor": 0
      },
      "text/plain": [
       "HBox(children=(HTML(value=''), FloatProgress(value=0.0, max=15.0), HTML(value='')))"
      ]
     },
     "metadata": {},
     "output_type": "display_data"
    },
    {
     "name": "stdout",
     "output_type": "stream",
     "text": [
      "\n"
     ]
    },
    {
     "data": {
      "application/vnd.jupyter.widget-view+json": {
       "model_id": "c6e066e143d8453e99b5f77634604c08",
       "version_major": 2,
       "version_minor": 0
      },
      "text/plain": [
       "HBox(children=(HTML(value=''), FloatProgress(value=0.0, max=4997.0), HTML(value='')))"
      ]
     },
     "metadata": {},
     "output_type": "display_data"
    },
    {
     "name": "stdout",
     "output_type": "stream",
     "text": [
      "\n"
     ]
    }
   ],
   "source": [
    "for VAL_MATCHER_WEEKS in matcher_weeks:\n",
    "    for VAL_RANKER_WEEKS in ranker_weeks:\n",
    "        for n_pop in n_pops:\n",
    "            print(VAL_MATCHER_WEEKS, VAL_RANKER_WEEKS, n_pop)\n",
    "            data_train_matcher, data_val_matcher, data_train_ranker, data_val_ranker = make_3_df(data, VAL_MATCHER_WEEKS, VAL_RANKER_WEEKS)\n",
    "            data_train_matcher = prefilter_items(data_train_matcher, item_features=item_features, take_n_popular=n_pop)\n",
    "            data_train_matcher, data_val_matcher, data_train_ranker, data_val_ranker, df_test = find_comm_us(data_train_matcher, data_val_matcher, data_train_ranker, data_val_ranker, df_test)\n",
    "            recommender = MainRecommender(data_train_matcher)\n",
    "            \n",
    "            df_match_candidates = pd.DataFrame(data_train_ranker[USER_COL].unique())\n",
    "            df_match_candidates.columns = [USER_COL]\n",
    "            df_match_candidates['candidates'] = df_match_candidates[USER_COL].apply(lambda x: recommender.get_own_recommendations(x, N=N_PREDICT))\n",
    "            names_rec = ['als_rec']\n",
    "            list_models = [recommender.get_als_recommendations]\n",
    "\n",
    "            make_df_recs(df_match_candidates, names_rec, list_models, N=N_PREDICT)\n",
    "            df_match_candidates['candidates'] = df_match_candidates['user_id'].apply(lambda x: list(df_match_candidates[df_match_candidates['user_id']==x]['candidates'])[0]+\n",
    "                                                                        list(df_match_candidates[df_match_candidates['user_id']==x]['als_rec'])[0]+\n",
    "                                                                        list(list(result_eval_matcher[result_eval_matcher['user_id']==x]['actual'])[0])[:1])\n",
    "\n",
    "            df_items = df_match_candidates.apply(lambda x: pd.Series(x['candidates']), axis=1).stack().reset_index(level=1, drop=True)\n",
    "            df_items.name = 'item_id'\n",
    "            df_match_candidates = df_match_candidates.drop(['candidates', 'als_rec'], axis=1).join(df_items)\n",
    "            df_ranker_train = data_train_ranker[[USER_COL, ITEM_COL]].copy()\n",
    "            df_ranker_train['target'] = 1  # тут только покупки\n",
    "            df_ranker_train = df_match_candidates.merge(df_ranker_train, on=[USER_COL, ITEM_COL], how='left')\n",
    "            df_ranker_train['target'].fillna(0, inplace= True)\n",
    "            df_join_train_matcher = pd.concat([data_train_matcher, data_val_matcher])\n",
    "            df_ranker_train = df_ranker_train.merge(item_features, on='item_id', how='left')\n",
    "            df_ranker_train = df_ranker_train.merge(user_features, on='user_id', how='left')\n",
    "            df_ranker_train = df_ranker_train.merge(df_join_train_matcher.groupby(by=ITEM_COL).agg('sales_value').sum().rename('total_item_sales_value'), how='left',on=ITEM_COL)\n",
    "            df_ranker_train = df_ranker_train.merge(df_join_train_matcher.groupby(by=ITEM_COL).agg('quantity').sum().rename('total_quantity_value'), how='left',on=ITEM_COL)\n",
    "            df_ranker_train = df_ranker_train.merge(df_join_train_matcher.groupby(by=ITEM_COL).agg(USER_COL).count().rename('item_freq'), how='left',on=ITEM_COL)\n",
    "            df_ranker_train = df_ranker_train.merge(df_join_train_matcher.groupby(by=USER_COL).agg(USER_COL).count().rename('user_freq'), how='left',on=USER_COL)\n",
    "            df_ranker_train = df_ranker_train.merge(df_join_train_matcher.groupby(by=USER_COL).agg('sales_value').sum().rename('total_user_sales_value'), how='left',on=USER_COL)\n",
    "            df_ranker_train = df_ranker_train.merge(df_join_train_matcher.groupby(by=ITEM_COL).agg('quantity').sum().rename('item_quantity_per_week')/df_join_train_matcher.week_no.nunique(), how='left',on=ITEM_COL)\n",
    "            df_ranker_train = df_ranker_train.merge(df_join_train_matcher.groupby(by=USER_COL).agg('quantity').sum().rename('user_quantity_per_week')/df_join_train_matcher.week_no.nunique(), how='left',on=USER_COL)\n",
    "            df_ranker_train = df_ranker_train.merge(df_join_train_matcher.groupby(by=ITEM_COL).agg('quantity').sum().rename('item_quantity_per_basket')/df_join_train_matcher.basket_id.nunique(), how='left',on=ITEM_COL)\n",
    "            df_ranker_train = df_ranker_train.merge(df_join_train_matcher.groupby(by=USER_COL).agg('quantity').sum().rename('user_quantity_per_baskter')/df_join_train_matcher.basket_id.nunique(), how='left',on=USER_COL)\n",
    "            df_ranker_train = df_ranker_train.merge(df_join_train_matcher.groupby(by=ITEM_COL).agg(USER_COL).count().rename('item_freq_per_basket')/df_join_train_matcher.basket_id.nunique(), how='left',on=ITEM_COL)\n",
    "            df_ranker_train = df_ranker_train.merge(df_join_train_matcher.groupby(by=USER_COL).agg(USER_COL).count().rename('user_freq_per_basket')/df_join_train_matcher.basket_id.nunique(), how='left',on=USER_COL)\n",
    "            df_ranker_train = df_ranker_train.merge(df_join_train_matcher.groupby(by=USER_COL).agg('basket_id').nunique().rename('count_basket'), how='left',on=USER_COL)\n",
    "            df_ranker_train['manufacturer'] = df_ranker_train['manufacturer'].astype(str)\n",
    "            df_ranker_train['target'] = df_ranker_train['target'].astype(int)\n",
    "            df_ranker_train['department'].fillna('nan', inplace= True)\n",
    "            df_ranker_train['brand'].fillna('nan', inplace= True)\n",
    "            df_ranker_train['commodity_desc'].fillna('nan', inplace= True)\n",
    "            df_ranker_train['sub_commodity_desc'].fillna('nan', inplace= True)\n",
    "            df_ranker_train['curr_size_of_product'].fillna('nan', inplace= True)\n",
    "            df_ranker_train['age_desc'].fillna('nan', inplace= True)\n",
    "            df_ranker_train['marital_status_code'].fillna('nan', inplace= True)\n",
    "            df_ranker_train['income_desc'].fillna('nan', inplace= True)\n",
    "            df_ranker_train['marital_status_code'].fillna('nan', inplace= True)\n",
    "            df_ranker_train['income_desc'].fillna('nan', inplace= True)\n",
    "            df_ranker_train['homeowner_desc'].fillna('nan', inplace= True)\n",
    "            df_ranker_train['hh_comp_desc'].fillna('nan', inplace= True)\n",
    "            df_ranker_train['household_size_desc'].fillna('nan', inplace= True)\n",
    "            df_ranker_train['kid_category_desc'].fillna('nan', inplace= True)\n",
    "            df_ranker_train['total_quantity_value'].fillna(0, inplace= True)\n",
    "            df_ranker_train['item_freq'].fillna(0, inplace= True)\n",
    "            df_ranker_train['user_freq'].fillna(0, inplace= True)\n",
    "            df_ranker_train['count_basket'].fillna(0, inplace= True)\n",
    "            X_train = df_ranker_train.drop('target', axis=1)\n",
    "            y_train = df_ranker_train[['target']]\n",
    "            cat_feats = ['manufacturer', 'department', 'brand', 'commodity_desc', 'sub_commodity_desc', 'curr_size_of_product',\n",
    "                         'age_desc', 'marital_status_code', 'income_desc', 'homeowner_desc','hh_comp_desc','household_size_desc',\n",
    "                         'kid_category_desc', 'total_quantity_value', 'item_freq', 'user_freq','count_basket']\n",
    "            X_train[cat_feats] = X_train[cat_feats].astype('category')\n",
    "            lgb = LGBMClassifier(objective='binary', max_depth=10, n_estimators=500,\n",
    "                     learning_rate=0.05,\n",
    "                     categorical_column=cat_feats)\n",
    "\n",
    "            lgb.fit(X_train, y_train)\n",
    "            train_preds = lgb.predict_proba(X_train)\n",
    "            df_ranker_predict = df_ranker_train.copy()\n",
    "            df_ranker_predict['proba_item_purchase'] = train_preds[:,1]\n",
    "            df_ranker_predict = df_ranker_predict.drop_duplicates()\n",
    "            df_ranker_predict.reset_index(drop=True, inplace = True)\n",
    "            \n",
    "            result_test = make_df_result(df_test)\n",
    "            result_test['reranked_own_rec'] = result_test[USER_COL].apply(lambda user_id: rerank(user_id))\n",
    "            print(sorted(calc_precision(result_test, 5), key=lambda x: x[1], reverse=True))\n",
    "\n",
    "\n"
   ]
  }
 ],
 "metadata": {
  "kernelspec": {
   "display_name": "Python 3",
   "language": "python",
   "name": "python3"
  },
  "language_info": {
   "codemirror_mode": {
    "name": "ipython",
    "version": 3
   },
   "file_extension": ".py",
   "mimetype": "text/x-python",
   "name": "python",
   "nbconvert_exporter": "python",
   "pygments_lexer": "ipython3",
   "version": "3.8.5"
  }
 },
 "nbformat": 4,
 "nbformat_minor": 4
}
